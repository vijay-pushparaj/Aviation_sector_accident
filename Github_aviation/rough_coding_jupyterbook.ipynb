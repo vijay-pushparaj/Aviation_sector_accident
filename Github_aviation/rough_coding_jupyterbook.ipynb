{
 "cells": [
  {
   "cell_type": "code",
   "execution_count": 1,
   "metadata": {},
   "outputs": [],
   "source": [
    "import pandas as pd\n",
    "import random"
   ]
  },
  {
   "cell_type": "code",
   "execution_count": 2,
   "metadata": {},
   "outputs": [
    {
     "data": {
      "text/html": [
       "<div>\n",
       "<style scoped>\n",
       "    .dataframe tbody tr th:only-of-type {\n",
       "        vertical-align: middle;\n",
       "    }\n",
       "\n",
       "    .dataframe tbody tr th {\n",
       "        vertical-align: top;\n",
       "    }\n",
       "\n",
       "    .dataframe thead th {\n",
       "        text-align: right;\n",
       "    }\n",
       "</style>\n",
       "<table border=\"1\" class=\"dataframe\">\n",
       "  <thead>\n",
       "    <tr style=\"text-align: right;\">\n",
       "      <th></th>\n",
       "      <th>date</th>\n",
       "      <th>type</th>\n",
       "      <th>registration</th>\n",
       "      <th>operator</th>\n",
       "      <th>fatalities</th>\n",
       "      <th>location</th>\n",
       "      <th>country</th>\n",
       "      <th>cat</th>\n",
       "      <th>year</th>\n",
       "    </tr>\n",
       "  </thead>\n",
       "  <tbody>\n",
       "    <tr>\n",
       "      <th>0</th>\n",
       "      <td>date unk.</td>\n",
       "      <td>Antonov An-12B</td>\n",
       "      <td>T-1206</td>\n",
       "      <td>Indonesian AF</td>\n",
       "      <td>NaN</td>\n",
       "      <td>NaN</td>\n",
       "      <td>Unknown country</td>\n",
       "      <td>U1</td>\n",
       "      <td>unknown</td>\n",
       "    </tr>\n",
       "    <tr>\n",
       "      <th>1</th>\n",
       "      <td>date unk.</td>\n",
       "      <td>Antonov An-12B</td>\n",
       "      <td>T-1204</td>\n",
       "      <td>Indonesian AF</td>\n",
       "      <td>NaN</td>\n",
       "      <td>NaN</td>\n",
       "      <td>Unknown country</td>\n",
       "      <td>U1</td>\n",
       "      <td>unknown</td>\n",
       "    </tr>\n",
       "    <tr>\n",
       "      <th>2</th>\n",
       "      <td>date unk.</td>\n",
       "      <td>Antonov An-12B</td>\n",
       "      <td>T-1201</td>\n",
       "      <td>Indonesian AF</td>\n",
       "      <td>NaN</td>\n",
       "      <td>NaN</td>\n",
       "      <td>Unknown country</td>\n",
       "      <td>U1</td>\n",
       "      <td>unknown</td>\n",
       "    </tr>\n",
       "    <tr>\n",
       "      <th>3</th>\n",
       "      <td>date unk.</td>\n",
       "      <td>Antonov An-12BK</td>\n",
       "      <td>NaN</td>\n",
       "      <td>Soviet AF</td>\n",
       "      <td>NaN</td>\n",
       "      <td>Tiksi Airport (IKS)</td>\n",
       "      <td>Russia</td>\n",
       "      <td>A1</td>\n",
       "      <td>unknown</td>\n",
       "    </tr>\n",
       "    <tr>\n",
       "      <th>4</th>\n",
       "      <td>date unk.</td>\n",
       "      <td>Antonov An-12BP</td>\n",
       "      <td>CCCP-11815</td>\n",
       "      <td>Soviet AF</td>\n",
       "      <td>0</td>\n",
       "      <td>Massawa Airport ...</td>\n",
       "      <td>Eritrea</td>\n",
       "      <td>A1</td>\n",
       "      <td>unknown</td>\n",
       "    </tr>\n",
       "    <tr>\n",
       "      <th>...</th>\n",
       "      <td>...</td>\n",
       "      <td>...</td>\n",
       "      <td>...</td>\n",
       "      <td>...</td>\n",
       "      <td>...</td>\n",
       "      <td>...</td>\n",
       "      <td>...</td>\n",
       "      <td>...</td>\n",
       "      <td>...</td>\n",
       "    </tr>\n",
       "    <tr>\n",
       "      <th>23912</th>\n",
       "      <td>16-Feb-23</td>\n",
       "      <td>Cessna 208 Cargomaster</td>\n",
       "      <td>CX-MAX</td>\n",
       "      <td>AeromÃ¡s</td>\n",
       "      <td>0</td>\n",
       "      <td>near Berisso, BA</td>\n",
       "      <td>Argentina</td>\n",
       "      <td>A1</td>\n",
       "      <td>2023</td>\n",
       "    </tr>\n",
       "    <tr>\n",
       "      <th>23913</th>\n",
       "      <td>17-Feb-23</td>\n",
       "      <td>Honda HA-420 HondaJet</td>\n",
       "      <td>N14QB</td>\n",
       "      <td>Haedo Air LLC</td>\n",
       "      <td>0</td>\n",
       "      <td>Houston-William ...</td>\n",
       "      <td>USA</td>\n",
       "      <td>A2</td>\n",
       "      <td>2023</td>\n",
       "    </tr>\n",
       "    <tr>\n",
       "      <th>23914</th>\n",
       "      <td>22-Feb-23</td>\n",
       "      <td>Beech B200 Super King Air</td>\n",
       "      <td>N55PC</td>\n",
       "      <td>CTEH</td>\n",
       "      <td>5</td>\n",
       "      <td>near Little Rock-Bill...</td>\n",
       "      <td>USA</td>\n",
       "      <td>A1</td>\n",
       "      <td>2023</td>\n",
       "    </tr>\n",
       "    <tr>\n",
       "      <th>23915</th>\n",
       "      <td>28-Feb-23</td>\n",
       "      <td>Cessna 208B Grand Caravan</td>\n",
       "      <td>C-GMVB</td>\n",
       "      <td>ZAM Air Service</td>\n",
       "      <td>2</td>\n",
       "      <td>near Nakina, ON</td>\n",
       "      <td>Canada</td>\n",
       "      <td>A1</td>\n",
       "      <td>2023</td>\n",
       "    </tr>\n",
       "    <tr>\n",
       "      <th>23916</th>\n",
       "      <td>1-Apr-23</td>\n",
       "      <td>Cessna 750 Citation X</td>\n",
       "      <td>N85AV</td>\n",
       "      <td>Bank of Utah Trustee</td>\n",
       "      <td>0</td>\n",
       "      <td>Belmar/Farmingda...</td>\n",
       "      <td>USA</td>\n",
       "      <td>A2</td>\n",
       "      <td>2023</td>\n",
       "    </tr>\n",
       "  </tbody>\n",
       "</table>\n",
       "<p>23917 rows × 9 columns</p>\n",
       "</div>"
      ],
      "text/plain": [
       "            date                       type registration  \\\n",
       "0      date unk.             Antonov An-12B       T-1206   \n",
       "1      date unk.             Antonov An-12B       T-1204   \n",
       "2      date unk.             Antonov An-12B       T-1201   \n",
       "3      date unk.            Antonov An-12BK          NaN   \n",
       "4      date unk.            Antonov An-12BP   CCCP-11815   \n",
       "...          ...                        ...          ...   \n",
       "23912  16-Feb-23     Cessna 208 Cargomaster       CX-MAX   \n",
       "23913  17-Feb-23      Honda HA-420 HondaJet        N14QB   \n",
       "23914  22-Feb-23  Beech B200 Super King Air        N55PC   \n",
       "23915  28-Feb-23  Cessna 208B Grand Caravan       C-GMVB   \n",
       "23916   1-Apr-23      Cessna 750 Citation X        N85AV   \n",
       "\n",
       "                   operator fatalities                  location  \\\n",
       "0             Indonesian AF        NaN                       NaN   \n",
       "1             Indonesian AF        NaN                       NaN   \n",
       "2             Indonesian AF        NaN                       NaN   \n",
       "3                 Soviet AF        NaN       Tiksi Airport (IKS)   \n",
       "4                 Soviet AF          0       Massawa Airport ...   \n",
       "...                     ...        ...                       ...   \n",
       "23912              AeromÃ¡s          0          near Berisso, BA   \n",
       "23913         Haedo Air LLC          0       Houston-William ...   \n",
       "23914                  CTEH          5  near Little Rock-Bill...   \n",
       "23915       ZAM Air Service          2           near Nakina, ON   \n",
       "23916  Bank of Utah Trustee          0       Belmar/Farmingda...   \n",
       "\n",
       "               country cat     year  \n",
       "0      Unknown country  U1  unknown  \n",
       "1      Unknown country  U1  unknown  \n",
       "2      Unknown country  U1  unknown  \n",
       "3               Russia  A1  unknown  \n",
       "4              Eritrea  A1  unknown  \n",
       "...                ...  ..      ...  \n",
       "23912        Argentina  A1     2023  \n",
       "23913              USA  A2     2023  \n",
       "23914              USA  A1     2023  \n",
       "23915           Canada  A1     2023  \n",
       "23916              USA  A2     2023  \n",
       "\n",
       "[23917 rows x 9 columns]"
      ]
     },
     "execution_count": 2,
     "metadata": {},
     "output_type": "execute_result"
    }
   ],
   "source": [
    "df=pd.read_csv('aviation-accident.csv')\n",
    "df"
   ]
  },
  {
   "cell_type": "code",
   "execution_count": 4,
   "metadata": {},
   "outputs": [
    {
     "data": {
      "text/plain": [
       "Int64Index([ 0,  1,  2,  3,  4,  5,  6,  7,  8,  9, 10, 11, 12, 13, 14, 15, 16,\n",
       "            17, 18, 19, 20, 21, 22, 23, 24, 25, 26, 27, 28, 29, 30, 31, 32, 33,\n",
       "            34, 35, 36, 37, 38, 39, 40, 41, 42, 43, 44, 45, 46, 47, 48, 49, 50,\n",
       "            51, 52, 53, 54, 55, 56, 57, 58, 59, 60],\n",
       "           dtype='int64')"
      ]
     },
     "execution_count": 4,
     "metadata": {},
     "output_type": "execute_result"
    }
   ],
   "source": [
    "elemnenatd_column=df[df['date']=='date unk.'].index\n",
    "elemnenatd_column"
   ]
  },
  {
   "cell_type": "code",
   "execution_count": 5,
   "metadata": {},
   "outputs": [
    {
     "data": {
      "text/html": [
       "<div>\n",
       "<style scoped>\n",
       "    .dataframe tbody tr th:only-of-type {\n",
       "        vertical-align: middle;\n",
       "    }\n",
       "\n",
       "    .dataframe tbody tr th {\n",
       "        vertical-align: top;\n",
       "    }\n",
       "\n",
       "    .dataframe thead th {\n",
       "        text-align: right;\n",
       "    }\n",
       "</style>\n",
       "<table border=\"1\" class=\"dataframe\">\n",
       "  <thead>\n",
       "    <tr style=\"text-align: right;\">\n",
       "      <th></th>\n",
       "      <th>date</th>\n",
       "      <th>type</th>\n",
       "      <th>registration</th>\n",
       "      <th>operator</th>\n",
       "      <th>fatalities</th>\n",
       "      <th>location</th>\n",
       "      <th>country</th>\n",
       "      <th>cat</th>\n",
       "      <th>year</th>\n",
       "    </tr>\n",
       "  </thead>\n",
       "  <tbody>\n",
       "    <tr>\n",
       "      <th>61</th>\n",
       "      <td>02-AUG-1919</td>\n",
       "      <td>Caproni Ca.48</td>\n",
       "      <td>NaN</td>\n",
       "      <td>Caproni</td>\n",
       "      <td>14</td>\n",
       "      <td>Verona</td>\n",
       "      <td>Italy</td>\n",
       "      <td>A1</td>\n",
       "      <td>1919</td>\n",
       "    </tr>\n",
       "    <tr>\n",
       "      <th>62</th>\n",
       "      <td>11-AUG-1919</td>\n",
       "      <td>Felixstowe Fury</td>\n",
       "      <td>N123</td>\n",
       "      <td>RAF</td>\n",
       "      <td>1</td>\n",
       "      <td>near Felixtowe RNAS</td>\n",
       "      <td>U.K.</td>\n",
       "      <td>A1</td>\n",
       "      <td>1919</td>\n",
       "    </tr>\n",
       "    <tr>\n",
       "      <th>63</th>\n",
       "      <td>23-FEB-1920</td>\n",
       "      <td>Handley Page O/7</td>\n",
       "      <td>G-EANV</td>\n",
       "      <td>Handley Page Transport</td>\n",
       "      <td>0</td>\n",
       "      <td>Acadia Siding, C...</td>\n",
       "      <td>South Africa</td>\n",
       "      <td>A1</td>\n",
       "      <td>1920</td>\n",
       "    </tr>\n",
       "    <tr>\n",
       "      <th>64</th>\n",
       "      <td>25-FEB-1920</td>\n",
       "      <td>Handley Page O/400</td>\n",
       "      <td>G-EAMC</td>\n",
       "      <td>Handley Page Transport</td>\n",
       "      <td>0</td>\n",
       "      <td>near El Shereik</td>\n",
       "      <td>Sudan</td>\n",
       "      <td>A1</td>\n",
       "      <td>1920</td>\n",
       "    </tr>\n",
       "    <tr>\n",
       "      <th>65</th>\n",
       "      <td>30-JUN-1920</td>\n",
       "      <td>Handley Page O/400</td>\n",
       "      <td>G-EAKE</td>\n",
       "      <td>Handley Page Transport</td>\n",
       "      <td>0</td>\n",
       "      <td>ÃstanÃ¥</td>\n",
       "      <td>Sweden</td>\n",
       "      <td>A1</td>\n",
       "      <td>1920</td>\n",
       "    </tr>\n",
       "    <tr>\n",
       "      <th>...</th>\n",
       "      <td>...</td>\n",
       "      <td>...</td>\n",
       "      <td>...</td>\n",
       "      <td>...</td>\n",
       "      <td>...</td>\n",
       "      <td>...</td>\n",
       "      <td>...</td>\n",
       "      <td>...</td>\n",
       "      <td>...</td>\n",
       "    </tr>\n",
       "    <tr>\n",
       "      <th>23912</th>\n",
       "      <td>16-FEB-2023</td>\n",
       "      <td>Cessna 208 Cargomaster</td>\n",
       "      <td>CX-MAX</td>\n",
       "      <td>AeromÃ¡s</td>\n",
       "      <td>0</td>\n",
       "      <td>near Berisso, BA</td>\n",
       "      <td>Argentina</td>\n",
       "      <td>A1</td>\n",
       "      <td>2023</td>\n",
       "    </tr>\n",
       "    <tr>\n",
       "      <th>23913</th>\n",
       "      <td>17-FEB-2023</td>\n",
       "      <td>Honda HA-420 HondaJet</td>\n",
       "      <td>N14QB</td>\n",
       "      <td>Haedo Air LLC</td>\n",
       "      <td>0</td>\n",
       "      <td>Houston-William ...</td>\n",
       "      <td>USA</td>\n",
       "      <td>A2</td>\n",
       "      <td>2023</td>\n",
       "    </tr>\n",
       "    <tr>\n",
       "      <th>23914</th>\n",
       "      <td>22-FEB-2023</td>\n",
       "      <td>Beech B200 Super King Air</td>\n",
       "      <td>N55PC</td>\n",
       "      <td>CTEH</td>\n",
       "      <td>5</td>\n",
       "      <td>near Little Rock-Bill...</td>\n",
       "      <td>USA</td>\n",
       "      <td>A1</td>\n",
       "      <td>2023</td>\n",
       "    </tr>\n",
       "    <tr>\n",
       "      <th>23915</th>\n",
       "      <td>28-FEB-2023</td>\n",
       "      <td>Cessna 208B Grand Caravan</td>\n",
       "      <td>C-GMVB</td>\n",
       "      <td>ZAM Air Service</td>\n",
       "      <td>2</td>\n",
       "      <td>near Nakina, ON</td>\n",
       "      <td>Canada</td>\n",
       "      <td>A1</td>\n",
       "      <td>2023</td>\n",
       "    </tr>\n",
       "    <tr>\n",
       "      <th>23916</th>\n",
       "      <td>01-APR-2023</td>\n",
       "      <td>Cessna 750 Citation X</td>\n",
       "      <td>N85AV</td>\n",
       "      <td>Bank of Utah Trustee</td>\n",
       "      <td>0</td>\n",
       "      <td>Belmar/Farmingda...</td>\n",
       "      <td>USA</td>\n",
       "      <td>A2</td>\n",
       "      <td>2023</td>\n",
       "    </tr>\n",
       "  </tbody>\n",
       "</table>\n",
       "<p>23856 rows × 9 columns</p>\n",
       "</div>"
      ],
      "text/plain": [
       "              date                       type registration  \\\n",
       "61     02-AUG-1919              Caproni Ca.48          NaN   \n",
       "62     11-AUG-1919            Felixstowe Fury         N123   \n",
       "63     23-FEB-1920           Handley Page O/7       G-EANV   \n",
       "64     25-FEB-1920         Handley Page O/400       G-EAMC   \n",
       "65     30-JUN-1920         Handley Page O/400       G-EAKE   \n",
       "...            ...                        ...          ...   \n",
       "23912  16-FEB-2023     Cessna 208 Cargomaster       CX-MAX   \n",
       "23913  17-FEB-2023      Honda HA-420 HondaJet        N14QB   \n",
       "23914  22-FEB-2023  Beech B200 Super King Air        N55PC   \n",
       "23915  28-FEB-2023  Cessna 208B Grand Caravan       C-GMVB   \n",
       "23916  01-APR-2023      Cessna 750 Citation X        N85AV   \n",
       "\n",
       "                     operator fatalities                  location  \\\n",
       "61                    Caproni         14                    Verona   \n",
       "62                        RAF          1       near Felixtowe RNAS   \n",
       "63     Handley Page Transport          0       Acadia Siding, C...   \n",
       "64     Handley Page Transport          0           near El Shereik   \n",
       "65     Handley Page Transport          0                  ÃstanÃ¥   \n",
       "...                       ...        ...                       ...   \n",
       "23912                AeromÃ¡s          0          near Berisso, BA   \n",
       "23913           Haedo Air LLC          0       Houston-William ...   \n",
       "23914                    CTEH          5  near Little Rock-Bill...   \n",
       "23915         ZAM Air Service          2           near Nakina, ON   \n",
       "23916    Bank of Utah Trustee          0       Belmar/Farmingda...   \n",
       "\n",
       "            country cat  year  \n",
       "61            Italy  A1  1919  \n",
       "62             U.K.  A1  1919  \n",
       "63     South Africa  A1  1920  \n",
       "64            Sudan  A1  1920  \n",
       "65           Sweden  A1  1920  \n",
       "...             ...  ..   ...  \n",
       "23912     Argentina  A1  2023  \n",
       "23913           USA  A2  2023  \n",
       "23914           USA  A1  2023  \n",
       "23915        Canada  A1  2023  \n",
       "23916           USA  A2  2023  \n",
       "\n",
       "[23856 rows x 9 columns]"
      ]
     },
     "execution_count": 5,
     "metadata": {},
     "output_type": "execute_result"
    }
   ],
   "source": [
    "df=df.drop(elemnenatd_column)\n",
    "df"
   ]
  },
  {
   "cell_type": "code",
   "execution_count": 15,
   "metadata": {},
   "outputs": [
    {
     "data": {
      "text/plain": [
       "0"
      ]
     },
     "execution_count": 15,
     "metadata": {},
     "output_type": "execute_result"
    }
   ],
   "source": [
    "df['date'].isnull().sum()"
   ]
  },
  {
   "cell_type": "code",
   "execution_count": 17,
   "metadata": {},
   "outputs": [
    {
     "data": {
      "text/html": [
       "<div>\n",
       "<style scoped>\n",
       "    .dataframe tbody tr th:only-of-type {\n",
       "        vertical-align: middle;\n",
       "    }\n",
       "\n",
       "    .dataframe tbody tr th {\n",
       "        vertical-align: top;\n",
       "    }\n",
       "\n",
       "    .dataframe thead th {\n",
       "        text-align: right;\n",
       "    }\n",
       "</style>\n",
       "<table border=\"1\" class=\"dataframe\">\n",
       "  <thead>\n",
       "    <tr style=\"text-align: right;\">\n",
       "      <th></th>\n",
       "      <th>0</th>\n",
       "      <th>1</th>\n",
       "      <th>2</th>\n",
       "    </tr>\n",
       "  </thead>\n",
       "  <tbody>\n",
       "    <tr>\n",
       "      <th>61</th>\n",
       "      <td>02</td>\n",
       "      <td>AUG</td>\n",
       "      <td>1919</td>\n",
       "    </tr>\n",
       "    <tr>\n",
       "      <th>62</th>\n",
       "      <td>11</td>\n",
       "      <td>AUG</td>\n",
       "      <td>1919</td>\n",
       "    </tr>\n",
       "    <tr>\n",
       "      <th>63</th>\n",
       "      <td>23</td>\n",
       "      <td>FEB</td>\n",
       "      <td>1920</td>\n",
       "    </tr>\n",
       "    <tr>\n",
       "      <th>64</th>\n",
       "      <td>25</td>\n",
       "      <td>FEB</td>\n",
       "      <td>1920</td>\n",
       "    </tr>\n",
       "    <tr>\n",
       "      <th>65</th>\n",
       "      <td>30</td>\n",
       "      <td>JUN</td>\n",
       "      <td>1920</td>\n",
       "    </tr>\n",
       "    <tr>\n",
       "      <th>...</th>\n",
       "      <td>...</td>\n",
       "      <td>...</td>\n",
       "      <td>...</td>\n",
       "    </tr>\n",
       "    <tr>\n",
       "      <th>23912</th>\n",
       "      <td>16</td>\n",
       "      <td>FEB</td>\n",
       "      <td>2023</td>\n",
       "    </tr>\n",
       "    <tr>\n",
       "      <th>23913</th>\n",
       "      <td>17</td>\n",
       "      <td>FEB</td>\n",
       "      <td>2023</td>\n",
       "    </tr>\n",
       "    <tr>\n",
       "      <th>23914</th>\n",
       "      <td>22</td>\n",
       "      <td>FEB</td>\n",
       "      <td>2023</td>\n",
       "    </tr>\n",
       "    <tr>\n",
       "      <th>23915</th>\n",
       "      <td>28</td>\n",
       "      <td>FEB</td>\n",
       "      <td>2023</td>\n",
       "    </tr>\n",
       "    <tr>\n",
       "      <th>23916</th>\n",
       "      <td>01</td>\n",
       "      <td>APR</td>\n",
       "      <td>2023</td>\n",
       "    </tr>\n",
       "  </tbody>\n",
       "</table>\n",
       "<p>23856 rows × 3 columns</p>\n",
       "</div>"
      ],
      "text/plain": [
       "        0    1     2\n",
       "61     02  AUG  1919\n",
       "62     11  AUG  1919\n",
       "63     23  FEB  1920\n",
       "64     25  FEB  1920\n",
       "65     30  JUN  1920\n",
       "...    ..  ...   ...\n",
       "23912  16  FEB  2023\n",
       "23913  17  FEB  2023\n",
       "23914  22  FEB  2023\n",
       "23915  28  FEB  2023\n",
       "23916  01  APR  2023\n",
       "\n",
       "[23856 rows x 3 columns]"
      ]
     },
     "execution_count": 17,
     "metadata": {},
     "output_type": "execute_result"
    }
   ],
   "source": [
    "new_split=df['date'].str.split('-',n=-1,expand=True)\n",
    "new_split"
   ]
  },
  {
   "cell_type": "code",
   "execution_count": 18,
   "metadata": {},
   "outputs": [
    {
     "data": {
      "text/html": [
       "<div>\n",
       "<style scoped>\n",
       "    .dataframe tbody tr th:only-of-type {\n",
       "        vertical-align: middle;\n",
       "    }\n",
       "\n",
       "    .dataframe tbody tr th {\n",
       "        vertical-align: top;\n",
       "    }\n",
       "\n",
       "    .dataframe thead th {\n",
       "        text-align: right;\n",
       "    }\n",
       "</style>\n",
       "<table border=\"1\" class=\"dataframe\">\n",
       "  <thead>\n",
       "    <tr style=\"text-align: right;\">\n",
       "      <th></th>\n",
       "      <th>date</th>\n",
       "      <th>type</th>\n",
       "      <th>registration</th>\n",
       "      <th>operator</th>\n",
       "      <th>fatalities</th>\n",
       "      <th>location</th>\n",
       "      <th>country</th>\n",
       "      <th>cat</th>\n",
       "      <th>year</th>\n",
       "      <th>day</th>\n",
       "      <th>month</th>\n",
       "    </tr>\n",
       "  </thead>\n",
       "  <tbody>\n",
       "    <tr>\n",
       "      <th>61</th>\n",
       "      <td>02-AUG-1919</td>\n",
       "      <td>Caproni Ca.48</td>\n",
       "      <td>NaN</td>\n",
       "      <td>Caproni</td>\n",
       "      <td>14</td>\n",
       "      <td>Verona</td>\n",
       "      <td>Italy</td>\n",
       "      <td>A1</td>\n",
       "      <td>1919</td>\n",
       "      <td>02</td>\n",
       "      <td>AUG</td>\n",
       "    </tr>\n",
       "    <tr>\n",
       "      <th>62</th>\n",
       "      <td>11-AUG-1919</td>\n",
       "      <td>Felixstowe Fury</td>\n",
       "      <td>N123</td>\n",
       "      <td>RAF</td>\n",
       "      <td>1</td>\n",
       "      <td>near Felixtowe RNAS</td>\n",
       "      <td>U.K.</td>\n",
       "      <td>A1</td>\n",
       "      <td>1919</td>\n",
       "      <td>11</td>\n",
       "      <td>AUG</td>\n",
       "    </tr>\n",
       "    <tr>\n",
       "      <th>63</th>\n",
       "      <td>23-FEB-1920</td>\n",
       "      <td>Handley Page O/7</td>\n",
       "      <td>G-EANV</td>\n",
       "      <td>Handley Page Transport</td>\n",
       "      <td>0</td>\n",
       "      <td>Acadia Siding, C...</td>\n",
       "      <td>South Africa</td>\n",
       "      <td>A1</td>\n",
       "      <td>1920</td>\n",
       "      <td>23</td>\n",
       "      <td>FEB</td>\n",
       "    </tr>\n",
       "    <tr>\n",
       "      <th>64</th>\n",
       "      <td>25-FEB-1920</td>\n",
       "      <td>Handley Page O/400</td>\n",
       "      <td>G-EAMC</td>\n",
       "      <td>Handley Page Transport</td>\n",
       "      <td>0</td>\n",
       "      <td>near El Shereik</td>\n",
       "      <td>Sudan</td>\n",
       "      <td>A1</td>\n",
       "      <td>1920</td>\n",
       "      <td>25</td>\n",
       "      <td>FEB</td>\n",
       "    </tr>\n",
       "    <tr>\n",
       "      <th>65</th>\n",
       "      <td>30-JUN-1920</td>\n",
       "      <td>Handley Page O/400</td>\n",
       "      <td>G-EAKE</td>\n",
       "      <td>Handley Page Transport</td>\n",
       "      <td>0</td>\n",
       "      <td>ÃstanÃ¥</td>\n",
       "      <td>Sweden</td>\n",
       "      <td>A1</td>\n",
       "      <td>1920</td>\n",
       "      <td>30</td>\n",
       "      <td>JUN</td>\n",
       "    </tr>\n",
       "    <tr>\n",
       "      <th>...</th>\n",
       "      <td>...</td>\n",
       "      <td>...</td>\n",
       "      <td>...</td>\n",
       "      <td>...</td>\n",
       "      <td>...</td>\n",
       "      <td>...</td>\n",
       "      <td>...</td>\n",
       "      <td>...</td>\n",
       "      <td>...</td>\n",
       "      <td>...</td>\n",
       "      <td>...</td>\n",
       "    </tr>\n",
       "    <tr>\n",
       "      <th>23912</th>\n",
       "      <td>16-FEB-2023</td>\n",
       "      <td>Cessna 208 Cargomaster</td>\n",
       "      <td>CX-MAX</td>\n",
       "      <td>AeromÃ¡s</td>\n",
       "      <td>0</td>\n",
       "      <td>near Berisso, BA</td>\n",
       "      <td>Argentina</td>\n",
       "      <td>A1</td>\n",
       "      <td>2023</td>\n",
       "      <td>16</td>\n",
       "      <td>FEB</td>\n",
       "    </tr>\n",
       "    <tr>\n",
       "      <th>23913</th>\n",
       "      <td>17-FEB-2023</td>\n",
       "      <td>Honda HA-420 HondaJet</td>\n",
       "      <td>N14QB</td>\n",
       "      <td>Haedo Air LLC</td>\n",
       "      <td>0</td>\n",
       "      <td>Houston-William ...</td>\n",
       "      <td>USA</td>\n",
       "      <td>A2</td>\n",
       "      <td>2023</td>\n",
       "      <td>17</td>\n",
       "      <td>FEB</td>\n",
       "    </tr>\n",
       "    <tr>\n",
       "      <th>23914</th>\n",
       "      <td>22-FEB-2023</td>\n",
       "      <td>Beech B200 Super King Air</td>\n",
       "      <td>N55PC</td>\n",
       "      <td>CTEH</td>\n",
       "      <td>5</td>\n",
       "      <td>near Little Rock-Bill...</td>\n",
       "      <td>USA</td>\n",
       "      <td>A1</td>\n",
       "      <td>2023</td>\n",
       "      <td>22</td>\n",
       "      <td>FEB</td>\n",
       "    </tr>\n",
       "    <tr>\n",
       "      <th>23915</th>\n",
       "      <td>28-FEB-2023</td>\n",
       "      <td>Cessna 208B Grand Caravan</td>\n",
       "      <td>C-GMVB</td>\n",
       "      <td>ZAM Air Service</td>\n",
       "      <td>2</td>\n",
       "      <td>near Nakina, ON</td>\n",
       "      <td>Canada</td>\n",
       "      <td>A1</td>\n",
       "      <td>2023</td>\n",
       "      <td>28</td>\n",
       "      <td>FEB</td>\n",
       "    </tr>\n",
       "    <tr>\n",
       "      <th>23916</th>\n",
       "      <td>01-APR-2023</td>\n",
       "      <td>Cessna 750 Citation X</td>\n",
       "      <td>N85AV</td>\n",
       "      <td>Bank of Utah Trustee</td>\n",
       "      <td>0</td>\n",
       "      <td>Belmar/Farmingda...</td>\n",
       "      <td>USA</td>\n",
       "      <td>A2</td>\n",
       "      <td>2023</td>\n",
       "      <td>01</td>\n",
       "      <td>APR</td>\n",
       "    </tr>\n",
       "  </tbody>\n",
       "</table>\n",
       "<p>23856 rows × 11 columns</p>\n",
       "</div>"
      ],
      "text/plain": [
       "              date                       type registration  \\\n",
       "61     02-AUG-1919              Caproni Ca.48          NaN   \n",
       "62     11-AUG-1919            Felixstowe Fury         N123   \n",
       "63     23-FEB-1920           Handley Page O/7       G-EANV   \n",
       "64     25-FEB-1920         Handley Page O/400       G-EAMC   \n",
       "65     30-JUN-1920         Handley Page O/400       G-EAKE   \n",
       "...            ...                        ...          ...   \n",
       "23912  16-FEB-2023     Cessna 208 Cargomaster       CX-MAX   \n",
       "23913  17-FEB-2023      Honda HA-420 HondaJet        N14QB   \n",
       "23914  22-FEB-2023  Beech B200 Super King Air        N55PC   \n",
       "23915  28-FEB-2023  Cessna 208B Grand Caravan       C-GMVB   \n",
       "23916  01-APR-2023      Cessna 750 Citation X        N85AV   \n",
       "\n",
       "                     operator fatalities                  location  \\\n",
       "61                    Caproni         14                    Verona   \n",
       "62                        RAF          1       near Felixtowe RNAS   \n",
       "63     Handley Page Transport          0       Acadia Siding, C...   \n",
       "64     Handley Page Transport          0           near El Shereik   \n",
       "65     Handley Page Transport          0                  ÃstanÃ¥   \n",
       "...                       ...        ...                       ...   \n",
       "23912                AeromÃ¡s          0          near Berisso, BA   \n",
       "23913           Haedo Air LLC          0       Houston-William ...   \n",
       "23914                    CTEH          5  near Little Rock-Bill...   \n",
       "23915         ZAM Air Service          2           near Nakina, ON   \n",
       "23916    Bank of Utah Trustee          0       Belmar/Farmingda...   \n",
       "\n",
       "            country cat  year day month  \n",
       "61            Italy  A1  1919  02   AUG  \n",
       "62             U.K.  A1  1919  11   AUG  \n",
       "63     South Africa  A1  1920  23   FEB  \n",
       "64            Sudan  A1  1920  25   FEB  \n",
       "65           Sweden  A1  1920  30   JUN  \n",
       "...             ...  ..   ...  ..   ...  \n",
       "23912     Argentina  A1  2023  16   FEB  \n",
       "23913           USA  A2  2023  17   FEB  \n",
       "23914           USA  A1  2023  22   FEB  \n",
       "23915        Canada  A1  2023  28   FEB  \n",
       "23916           USA  A2  2023  01   APR  \n",
       "\n",
       "[23856 rows x 11 columns]"
      ]
     },
     "execution_count": 18,
     "metadata": {},
     "output_type": "execute_result"
    }
   ],
   "source": [
    "df['day']=new_split[0]\n",
    "df['month']=new_split[1]\n",
    "df['year']=new_split[2]\n",
    "df"
   ]
  },
  {
   "cell_type": "code",
   "execution_count": 19,
   "metadata": {},
   "outputs": [
    {
     "data": {
      "text/plain": [
       "array(['02', '11', '23', '25', '30', '14', '15', '04', '26', '27', '22',\n",
       "       '31', '07', '13', '10', '03', '??', '06', '24', '16', '18', '21',\n",
       "       '20', '05', '19', '12', '01', '17', '29', '08', '09', '28'],\n",
       "      dtype=object)"
      ]
     },
     "execution_count": 19,
     "metadata": {},
     "output_type": "execute_result"
    }
   ],
   "source": [
    "df['day'].unique()"
   ]
  },
  {
   "cell_type": "code",
   "execution_count": 23,
   "metadata": {},
   "outputs": [],
   "source": [
    "for i in df['day'].index:\n",
    "    if '??'in df['day'][i]:\n",
    "        df['day'][i]='01'"
   ]
  },
  {
   "cell_type": "code",
   "execution_count": 21,
   "metadata": {},
   "outputs": [
    {
     "data": {
      "text/plain": [
       "'16'"
      ]
     },
     "execution_count": 21,
     "metadata": {},
     "output_type": "execute_result"
    }
   ],
   "source": [
    " df['day'][88]"
   ]
  },
  {
   "cell_type": "code",
   "execution_count": 24,
   "metadata": {},
   "outputs": [
    {
     "data": {
      "text/plain": [
       "array(['02', '11', '23', '25', '30', '14', '15', '04', '26', '27', '22',\n",
       "       '31', '07', '13', '10', '03', '01', '06', '24', '16', '18', '21',\n",
       "       '20', '05', '19', '12', '17', '29', '08', '09', '28'], dtype=object)"
      ]
     },
     "execution_count": 24,
     "metadata": {},
     "output_type": "execute_result"
    }
   ],
   "source": [
    "df['day'].unique()"
   ]
  },
  {
   "cell_type": "code",
   "execution_count": 258,
   "metadata": {},
   "outputs": [],
   "source": [
    "num_values= pd.value_counts(df['month'].values.ravel())"
   ]
  },
  {
   "cell_type": "code",
   "execution_count": 259,
   "metadata": {},
   "outputs": [
    {
     "data": {
      "text/plain": [
       "JAN    2344\n",
       "DEC    2092\n",
       "SEP    2090\n",
       "MAR    2087\n",
       "MAY    2034\n",
       "JUL    1984\n",
       "AUG    1928\n",
       "JUN    1915\n",
       "NOV    1907\n",
       "APR    1868\n",
       "OCT    1841\n",
       "FEB    1766\n",
       "dtype: int64"
      ]
     },
     "execution_count": 259,
     "metadata": {},
     "output_type": "execute_result"
    }
   ],
   "source": [
    "num_values"
   ]
  },
  {
   "cell_type": "code",
   "execution_count": 253,
   "metadata": {},
   "outputs": [],
   "source": [
    "for i in df['month'].index:\n",
    "    if '??'in df['month'][i]:\n",
    "        df['month'][i]='JAN'"
   ]
  },
  {
   "cell_type": "code",
   "execution_count": 254,
   "metadata": {},
   "outputs": [],
   "source": [
    "for i in df['month'].index:\n",
    "    if '1'in df['month'][i]:\n",
    "        df['month'][i]='JAN'"
   ]
  },
  {
   "cell_type": "code",
   "execution_count": 256,
   "metadata": {},
   "outputs": [],
   "source": [
    "num_values= pd.value_counts(df['month'].values.ravel())"
   ]
  },
  {
   "cell_type": "code",
   "execution_count": 257,
   "metadata": {},
   "outputs": [
    {
     "data": {
      "text/plain": [
       "JAN    2344\n",
       "DEC    2092\n",
       "SEP    2090\n",
       "MAR    2087\n",
       "MAY    2034\n",
       "JUL    1984\n",
       "AUG    1928\n",
       "JUN    1915\n",
       "NOV    1907\n",
       "APR    1868\n",
       "OCT    1841\n",
       "FEB    1766\n",
       "dtype: int64"
      ]
     },
     "execution_count": 257,
     "metadata": {},
     "output_type": "execute_result"
    }
   ],
   "source": [
    "num_values"
   ]
  },
  {
   "cell_type": "code",
   "execution_count": null,
   "metadata": {},
   "outputs": [],
   "source": [
    "num_values.count()"
   ]
  },
  {
   "cell_type": "code",
   "execution_count": null,
   "metadata": {},
   "outputs": [],
   "source": [
    "df['year'].unique()"
   ]
  },
  {
   "cell_type": "code",
   "execution_count": null,
   "metadata": {},
   "outputs": [],
   "source": [
    "num_values_year= pd.value_counts(df['year'].values.ravel())"
   ]
  },
  {
   "cell_type": "code",
   "execution_count": null,
   "metadata": {},
   "outputs": [],
   "source": [
    "print(num_values_year)"
   ]
  },
  {
   "cell_type": "code",
   "execution_count": 261,
   "metadata": {},
   "outputs": [],
   "source": [
    "df['new_date']=pd.to_datetime(df.day.astype(str)+'-'+df.month.astype(str)+'-'+df.year.astype(str))"
   ]
  },
  {
   "cell_type": "code",
   "execution_count": 262,
   "metadata": {},
   "outputs": [
    {
     "data": {
      "text/html": [
       "<div>\n",
       "<style scoped>\n",
       "    .dataframe tbody tr th:only-of-type {\n",
       "        vertical-align: middle;\n",
       "    }\n",
       "\n",
       "    .dataframe tbody tr th {\n",
       "        vertical-align: top;\n",
       "    }\n",
       "\n",
       "    .dataframe thead th {\n",
       "        text-align: right;\n",
       "    }\n",
       "</style>\n",
       "<table border=\"1\" class=\"dataframe\">\n",
       "  <thead>\n",
       "    <tr style=\"text-align: right;\">\n",
       "      <th></th>\n",
       "      <th>date</th>\n",
       "      <th>type</th>\n",
       "      <th>registration</th>\n",
       "      <th>operator</th>\n",
       "      <th>fatalities</th>\n",
       "      <th>location</th>\n",
       "      <th>country</th>\n",
       "      <th>cat</th>\n",
       "      <th>year</th>\n",
       "      <th>day</th>\n",
       "      <th>month</th>\n",
       "      <th>new_date</th>\n",
       "    </tr>\n",
       "  </thead>\n",
       "  <tbody>\n",
       "    <tr>\n",
       "      <th>61</th>\n",
       "      <td>02-AUG-1919</td>\n",
       "      <td>Caproni Ca.48</td>\n",
       "      <td>NaN</td>\n",
       "      <td>Caproni</td>\n",
       "      <td>14</td>\n",
       "      <td>Verona</td>\n",
       "      <td>Italy</td>\n",
       "      <td>A1</td>\n",
       "      <td>1919</td>\n",
       "      <td>02</td>\n",
       "      <td>AUG</td>\n",
       "      <td>1919-08-02</td>\n",
       "    </tr>\n",
       "    <tr>\n",
       "      <th>62</th>\n",
       "      <td>11-AUG-1919</td>\n",
       "      <td>Felixstowe Fury</td>\n",
       "      <td>N123</td>\n",
       "      <td>RAF</td>\n",
       "      <td>1</td>\n",
       "      <td>near Felixtowe RNAS</td>\n",
       "      <td>U.K.</td>\n",
       "      <td>A1</td>\n",
       "      <td>1919</td>\n",
       "      <td>11</td>\n",
       "      <td>AUG</td>\n",
       "      <td>1919-08-11</td>\n",
       "    </tr>\n",
       "    <tr>\n",
       "      <th>63</th>\n",
       "      <td>23-FEB-1920</td>\n",
       "      <td>Handley Page O/7</td>\n",
       "      <td>G-EANV</td>\n",
       "      <td>Handley Page Transport</td>\n",
       "      <td>0</td>\n",
       "      <td>Acadia Siding, C...</td>\n",
       "      <td>South Africa</td>\n",
       "      <td>A1</td>\n",
       "      <td>1920</td>\n",
       "      <td>23</td>\n",
       "      <td>FEB</td>\n",
       "      <td>1920-02-23</td>\n",
       "    </tr>\n",
       "    <tr>\n",
       "      <th>64</th>\n",
       "      <td>25-FEB-1920</td>\n",
       "      <td>Handley Page O/400</td>\n",
       "      <td>G-EAMC</td>\n",
       "      <td>Handley Page Transport</td>\n",
       "      <td>0</td>\n",
       "      <td>near El Shereik</td>\n",
       "      <td>Sudan</td>\n",
       "      <td>A1</td>\n",
       "      <td>1920</td>\n",
       "      <td>25</td>\n",
       "      <td>FEB</td>\n",
       "      <td>1920-02-25</td>\n",
       "    </tr>\n",
       "    <tr>\n",
       "      <th>65</th>\n",
       "      <td>30-JUN-1920</td>\n",
       "      <td>Handley Page O/400</td>\n",
       "      <td>G-EAKE</td>\n",
       "      <td>Handley Page Transport</td>\n",
       "      <td>0</td>\n",
       "      <td>ÃstanÃ¥</td>\n",
       "      <td>Sweden</td>\n",
       "      <td>A1</td>\n",
       "      <td>1920</td>\n",
       "      <td>30</td>\n",
       "      <td>JUN</td>\n",
       "      <td>1920-06-30</td>\n",
       "    </tr>\n",
       "    <tr>\n",
       "      <th>...</th>\n",
       "      <td>...</td>\n",
       "      <td>...</td>\n",
       "      <td>...</td>\n",
       "      <td>...</td>\n",
       "      <td>...</td>\n",
       "      <td>...</td>\n",
       "      <td>...</td>\n",
       "      <td>...</td>\n",
       "      <td>...</td>\n",
       "      <td>...</td>\n",
       "      <td>...</td>\n",
       "      <td>...</td>\n",
       "    </tr>\n",
       "    <tr>\n",
       "      <th>23912</th>\n",
       "      <td>16-FEB-2023</td>\n",
       "      <td>Cessna 208 Cargomaster</td>\n",
       "      <td>CX-MAX</td>\n",
       "      <td>AeromÃ¡s</td>\n",
       "      <td>0</td>\n",
       "      <td>near Berisso, BA</td>\n",
       "      <td>Argentina</td>\n",
       "      <td>A1</td>\n",
       "      <td>2023</td>\n",
       "      <td>16</td>\n",
       "      <td>FEB</td>\n",
       "      <td>2023-02-16</td>\n",
       "    </tr>\n",
       "    <tr>\n",
       "      <th>23913</th>\n",
       "      <td>17-FEB-2023</td>\n",
       "      <td>Honda HA-420 HondaJet</td>\n",
       "      <td>N14QB</td>\n",
       "      <td>Haedo Air LLC</td>\n",
       "      <td>0</td>\n",
       "      <td>Houston-William ...</td>\n",
       "      <td>USA</td>\n",
       "      <td>A2</td>\n",
       "      <td>2023</td>\n",
       "      <td>17</td>\n",
       "      <td>FEB</td>\n",
       "      <td>2023-02-17</td>\n",
       "    </tr>\n",
       "    <tr>\n",
       "      <th>23914</th>\n",
       "      <td>22-FEB-2023</td>\n",
       "      <td>Beech B200 Super King Air</td>\n",
       "      <td>N55PC</td>\n",
       "      <td>CTEH</td>\n",
       "      <td>5</td>\n",
       "      <td>near Little Rock-Bill...</td>\n",
       "      <td>USA</td>\n",
       "      <td>A1</td>\n",
       "      <td>2023</td>\n",
       "      <td>22</td>\n",
       "      <td>FEB</td>\n",
       "      <td>2023-02-22</td>\n",
       "    </tr>\n",
       "    <tr>\n",
       "      <th>23915</th>\n",
       "      <td>28-FEB-2023</td>\n",
       "      <td>Cessna 208B Grand Caravan</td>\n",
       "      <td>C-GMVB</td>\n",
       "      <td>ZAM Air Service</td>\n",
       "      <td>2</td>\n",
       "      <td>near Nakina, ON</td>\n",
       "      <td>Canada</td>\n",
       "      <td>A1</td>\n",
       "      <td>2023</td>\n",
       "      <td>28</td>\n",
       "      <td>FEB</td>\n",
       "      <td>2023-02-28</td>\n",
       "    </tr>\n",
       "    <tr>\n",
       "      <th>23916</th>\n",
       "      <td>01-APR-2023</td>\n",
       "      <td>Cessna 750 Citation X</td>\n",
       "      <td>N85AV</td>\n",
       "      <td>Bank of Utah Trustee</td>\n",
       "      <td>0</td>\n",
       "      <td>Belmar/Farmingda...</td>\n",
       "      <td>USA</td>\n",
       "      <td>A2</td>\n",
       "      <td>2023</td>\n",
       "      <td>01</td>\n",
       "      <td>APR</td>\n",
       "      <td>2023-04-01</td>\n",
       "    </tr>\n",
       "  </tbody>\n",
       "</table>\n",
       "<p>23856 rows × 12 columns</p>\n",
       "</div>"
      ],
      "text/plain": [
       "              date                       type registration  \\\n",
       "61     02-AUG-1919              Caproni Ca.48          NaN   \n",
       "62     11-AUG-1919            Felixstowe Fury         N123   \n",
       "63     23-FEB-1920           Handley Page O/7       G-EANV   \n",
       "64     25-FEB-1920         Handley Page O/400       G-EAMC   \n",
       "65     30-JUN-1920         Handley Page O/400       G-EAKE   \n",
       "...            ...                        ...          ...   \n",
       "23912  16-FEB-2023     Cessna 208 Cargomaster       CX-MAX   \n",
       "23913  17-FEB-2023      Honda HA-420 HondaJet        N14QB   \n",
       "23914  22-FEB-2023  Beech B200 Super King Air        N55PC   \n",
       "23915  28-FEB-2023  Cessna 208B Grand Caravan       C-GMVB   \n",
       "23916  01-APR-2023      Cessna 750 Citation X        N85AV   \n",
       "\n",
       "                     operator fatalities                  location  \\\n",
       "61                    Caproni         14                    Verona   \n",
       "62                        RAF          1       near Felixtowe RNAS   \n",
       "63     Handley Page Transport          0       Acadia Siding, C...   \n",
       "64     Handley Page Transport          0           near El Shereik   \n",
       "65     Handley Page Transport          0                  ÃstanÃ¥   \n",
       "...                       ...        ...                       ...   \n",
       "23912                AeromÃ¡s          0          near Berisso, BA   \n",
       "23913           Haedo Air LLC          0       Houston-William ...   \n",
       "23914                    CTEH          5  near Little Rock-Bill...   \n",
       "23915         ZAM Air Service          2           near Nakina, ON   \n",
       "23916    Bank of Utah Trustee          0       Belmar/Farmingda...   \n",
       "\n",
       "            country cat  year day month   new_date  \n",
       "61            Italy  A1  1919  02   AUG 1919-08-02  \n",
       "62             U.K.  A1  1919  11   AUG 1919-08-11  \n",
       "63     South Africa  A1  1920  23   FEB 1920-02-23  \n",
       "64            Sudan  A1  1920  25   FEB 1920-02-25  \n",
       "65           Sweden  A1  1920  30   JUN 1920-06-30  \n",
       "...             ...  ..   ...  ..   ...        ...  \n",
       "23912     Argentina  A1  2023  16   FEB 2023-02-16  \n",
       "23913           USA  A2  2023  17   FEB 2023-02-17  \n",
       "23914           USA  A1  2023  22   FEB 2023-02-22  \n",
       "23915        Canada  A1  2023  28   FEB 2023-02-28  \n",
       "23916           USA  A2  2023  01   APR 2023-04-01  \n",
       "\n",
       "[23856 rows x 12 columns]"
      ]
     },
     "execution_count": 262,
     "metadata": {},
     "output_type": "execute_result"
    }
   ],
   "source": [
    "df"
   ]
  },
  {
   "cell_type": "markdown",
   "metadata": {},
   "source": [
    "# fatalities"
   ]
  },
  {
   "cell_type": "code",
   "execution_count": 237,
   "metadata": {},
   "outputs": [
    {
     "data": {
      "text/plain": [
       "array(['14', '1', '0', '4', '2', nan, '5', '6', '3', '7', '5+ 1', '8',\n",
       "       '16', '12', '9', '15', '14+ 1', '10', '11', '35+ 9', '13', '2+ 2',\n",
       "       '17', '19', '20', '0+ 1', '18', '13+ 1', '25', '29', '23', '5+ 7',\n",
       "       '24', '36', '26', '22', '27', '12+ 1', '21', '7+ 6', '35', '32',\n",
       "       '31', '2+ 1', '34', '28', '20+ 5', '0+ 2', '30', '41', '59',\n",
       "       '13+ 7', '45', '44', '37', '3+ 5', '4+ 6', '30+ 1', '19+ 1', '39',\n",
       "       '11+ 1', '43', '53', '0+ 3', '50', '14+ 3', '3+ 1', '52', '8+ 1',\n",
       "       '5+ 3', '40', '0+ 6', '8+ 2', '33', '48', '55', '1+ 1', '38',\n",
       "       '0+ 7', '32+ 1', '13+ 2', '80', '1+ 2', '46', '58', '51', '10+ 3',\n",
       "       '56', '23+ 7', '29+ 4', '2+ 3', '5+ 2', '87', '129', '42', '5+ 10',\n",
       "       '35+ 1', '47', '66', '1+ 4', '5+ 4', '74', '70', '62', '17+ 1',\n",
       "       '4+ 3', '18+ 2', '20+ 2', '67', '79', '5+ 6', '6+ 1', '61',\n",
       "       '41+ 1', '21+ 2', '99', '64', '3+ 4', '65', '1+ 9', '68', '54',\n",
       "       '3+ 8', '32+ 10', '6+ 2', '63', '7+ 1', '84+ 6', '20+ 32', '6+ 3',\n",
       "       '72+ 1', '78', '72', '27+ 3', '83', '77', '3+ 2', '95', '111',\n",
       "       '107', '130', '113', '84', '94', '81', '86', '97', '6+ 7',\n",
       "       '14+ 87', '7+ 2', '101', '15+ 1', '118', '85', '49', '79+ 1', '57',\n",
       "       '7+ 22', '121', '3+ 11', '11+ 3', '117', '133', '124', '98',\n",
       "       '0+ 4', '82', '4+ 107', '51+ 5', '4+ 7', '6+ 13', '15+ 44', '126',\n",
       "       '88', '102', '21+ 1', '123', '155', '29+ 1', '57+ 1', '27+ 1',\n",
       "       '48+ 2', '10+ 1', '84+ 71', '100', '96', '4+ 4', '74+ 2', '90',\n",
       "       '10+ 24', '92', '1+ 5', '112', '109', '99+ 2', '75', '162', '69',\n",
       "       '91', '104', '16+ 1', '115', '8+ 25', '122', '82+ 4', '156', '174',\n",
       "       '60', '43+ 2', '176', '108', '6+ 8', '2+ 7', '3+ 6', '106', '346',\n",
       "       '191', '138', '1+ 3', '188', '25+ 1', '6+ 5', '61+ 1', '45+ 1',\n",
       "       '76', '154', '73', '3+ 88', '52+ 19', '335', '248', '63+ 9', '131',\n",
       "       '213', '15+ 17', '135+ 7', '183', '77+ 1', '12+ 32', '271+ 2',\n",
       "       '257', '128', '3+ 3', '146', '166', '301', '89', '110', '180',\n",
       "       '74+ 4', '137', '132', '145+ 8', '4+ 1', '8+ 9', '119', '269',\n",
       "       '181', '3+ 22', '4+ 49', '174+ 4', '148', '329', '200', '134+ 1',\n",
       "       '520', '256', '167', '64+ 15', '103', '5+ 44', '154+ 2', '159',\n",
       "       '9+ 8', '143', '290', '44+ 2', '259+ 11', '144', '0+ 8', '75+ 4',\n",
       "       '126+ 24', '170', '4+ 2', '3+ 24', '21+ 4', '223', '261', '133+ 2',\n",
       "       '15+ 2', '5+ 12', '46+ 6', '24+ 4', '4+ 39', '141', '157', '116',\n",
       "       '124+ 1', '4+ 5', '0+ 23', '264', '160', '71', '0+ 237', '4+ 18',\n",
       "       '189', '230', '4+ 23', '95+ 4', '312', '125', '16+ 2', '228',\n",
       "       '234', '23+ 45', '196+ 7', '70+ 10', '229', '11+ 13', '18+ 3',\n",
       "       '63+ 2', '217', '169', '42+ 7', '55+ 5', '109+ 4', '8+ 6', '145',\n",
       "       '92+ 1600', '65+ 900', '64+ 125', '110+ 4', '260+ 5', '73+ 30',\n",
       "       '225', '275', '20+ 13', '53+ 2', '105', '100+ 49', '94+ 12', '114',\n",
       "       '3+ 7', '187+ 12', '21+ 28', '2+ 6', '3+ 37', '9+ 7', '49+ 1',\n",
       "       '97+ 2', '152', '168', '158', '8+ 3', '9+ 14', '127', '0+ 10',\n",
       "       '153+ 6', '7+ 4', '7+ 25', '239', '298', '150', '122+ 17', '224',\n",
       "       '4+ 35', '5+ 14', '21+ 6', '97+ 1', '50+ 3'], dtype=object)"
      ]
     },
     "execution_count": 237,
     "metadata": {},
     "output_type": "execute_result"
    }
   ],
   "source": [
    "df['fatalities'].unique()"
   ]
  },
  {
   "cell_type": "code",
   "execution_count": 263,
   "metadata": {},
   "outputs": [
    {
     "data": {
      "text/html": [
       "<div>\n",
       "<style scoped>\n",
       "    .dataframe tbody tr th:only-of-type {\n",
       "        vertical-align: middle;\n",
       "    }\n",
       "\n",
       "    .dataframe tbody tr th {\n",
       "        vertical-align: top;\n",
       "    }\n",
       "\n",
       "    .dataframe thead th {\n",
       "        text-align: right;\n",
       "    }\n",
       "</style>\n",
       "<table border=\"1\" class=\"dataframe\">\n",
       "  <thead>\n",
       "    <tr style=\"text-align: right;\">\n",
       "      <th></th>\n",
       "      <th>0</th>\n",
       "      <th>1</th>\n",
       "    </tr>\n",
       "  </thead>\n",
       "  <tbody>\n",
       "    <tr>\n",
       "      <th>61</th>\n",
       "      <td>14</td>\n",
       "      <td>None</td>\n",
       "    </tr>\n",
       "    <tr>\n",
       "      <th>62</th>\n",
       "      <td>1</td>\n",
       "      <td>None</td>\n",
       "    </tr>\n",
       "    <tr>\n",
       "      <th>63</th>\n",
       "      <td>0</td>\n",
       "      <td>None</td>\n",
       "    </tr>\n",
       "    <tr>\n",
       "      <th>64</th>\n",
       "      <td>0</td>\n",
       "      <td>None</td>\n",
       "    </tr>\n",
       "    <tr>\n",
       "      <th>65</th>\n",
       "      <td>0</td>\n",
       "      <td>None</td>\n",
       "    </tr>\n",
       "    <tr>\n",
       "      <th>...</th>\n",
       "      <td>...</td>\n",
       "      <td>...</td>\n",
       "    </tr>\n",
       "    <tr>\n",
       "      <th>23912</th>\n",
       "      <td>0</td>\n",
       "      <td>None</td>\n",
       "    </tr>\n",
       "    <tr>\n",
       "      <th>23913</th>\n",
       "      <td>0</td>\n",
       "      <td>None</td>\n",
       "    </tr>\n",
       "    <tr>\n",
       "      <th>23914</th>\n",
       "      <td>5</td>\n",
       "      <td>None</td>\n",
       "    </tr>\n",
       "    <tr>\n",
       "      <th>23915</th>\n",
       "      <td>2</td>\n",
       "      <td>None</td>\n",
       "    </tr>\n",
       "    <tr>\n",
       "      <th>23916</th>\n",
       "      <td>0</td>\n",
       "      <td>None</td>\n",
       "    </tr>\n",
       "  </tbody>\n",
       "</table>\n",
       "<p>23856 rows × 2 columns</p>\n",
       "</div>"
      ],
      "text/plain": [
       "        0     1\n",
       "61     14  None\n",
       "62      1  None\n",
       "63      0  None\n",
       "64      0  None\n",
       "65      0  None\n",
       "...    ..   ...\n",
       "23912   0  None\n",
       "23913   0  None\n",
       "23914   5  None\n",
       "23915   2  None\n",
       "23916   0  None\n",
       "\n",
       "[23856 rows x 2 columns]"
      ]
     },
     "execution_count": 263,
     "metadata": {},
     "output_type": "execute_result"
    }
   ],
   "source": [
    "new_split=df['fatalities'].str.split('+',n=-1,expand=True)\n",
    "new_split"
   ]
  },
  {
   "cell_type": "code",
   "execution_count": 6,
   "metadata": {
    "scrolled": true
   },
   "outputs": [
    {
     "data": {
      "text/plain": [
       "array([None, nan, ' 1', ' 9', ' 2', ' 7', ' 6', ' 5', ' 3', ' 4', ' 10',\n",
       "       ' 8', ' 32', ' 87', ' 22', ' 11', ' 107', ' 13', ' 44', ' 71',\n",
       "       ' 24', ' 25', ' 88', ' 19', ' 17', ' 49', ' 15', ' 12', ' 39',\n",
       "       ' 23', ' 237', ' 18', ' 45', ' 1600', ' 900', ' 125', ' 30', ' 28',\n",
       "       ' 37', ' 14', ' 35'], dtype=object)"
      ]
     },
     "execution_count": 6,
     "metadata": {},
     "output_type": "execute_result"
    }
   ],
   "source": [
    "new_split[1].unique()"
   ]
  },
  {
   "cell_type": "markdown",
   "metadata": {},
   "source": [
    "# new_split[0]"
   ]
  },
  {
   "cell_type": "code",
   "execution_count": 264,
   "metadata": {},
   "outputs": [
    {
     "data": {
      "text/plain": [
       "array(['14', '1', '0', '4', '2', nan, '5', '6', '3', '7', '8', '16', '12',\n",
       "       '9', '15', '10', '11', '35', '13', '17', '19', '20', '18', '25',\n",
       "       '29', '23', '24', '36', '26', '22', '27', '21', '32', '31', '34',\n",
       "       '28', '30', '41', '59', '45', '44', '37', '39', '43', '53', '50',\n",
       "       '52', '40', '33', '48', '55', '38', '80', '46', '58', '51', '56',\n",
       "       '87', '129', '42', '47', '66', '74', '70', '62', '67', '79', '61',\n",
       "       '99', '64', '65', '68', '54', '63', '84', '72', '78', '83', '77',\n",
       "       '95', '111', '107', '130', '113', '94', '81', '86', '97', '101',\n",
       "       '118', '85', '49', '57', '121', '117', '133', '124', '98', '82',\n",
       "       '126', '88', '102', '123', '155', '100', '96', '90', '92', '112',\n",
       "       '109', '75', '162', '69', '91', '104', '115', '122', '156', '174',\n",
       "       '60', '176', '108', '106', '346', '191', '138', '188', '76', '154',\n",
       "       '73', '335', '248', '131', '213', '135', '183', '271', '257',\n",
       "       '128', '146', '166', '301', '89', '110', '180', '137', '132',\n",
       "       '145', '119', '269', '181', '148', '329', '200', '134', '520',\n",
       "       '256', '167', '103', '159', '143', '290', '259', '144', '170',\n",
       "       '223', '261', '141', '157', '116', '264', '160', '71', '189',\n",
       "       '230', '312', '125', '228', '234', '196', '229', '217', '169',\n",
       "       '260', '225', '275', '105', '114', '187', '152', '168', '158',\n",
       "       '127', '153', '239', '298', '150', '224'], dtype=object)"
      ]
     },
     "execution_count": 264,
     "metadata": {},
     "output_type": "execute_result"
    }
   ],
   "source": [
    "new_split[0].unique()"
   ]
  },
  {
   "cell_type": "code",
   "execution_count": 274,
   "metadata": {},
   "outputs": [
    {
     "data": {
      "text/plain": [
       "0    6.416976\n",
       "dtype: float64"
      ]
     },
     "execution_count": 274,
     "metadata": {},
     "output_type": "execute_result"
    }
   ],
   "source": [
    "new_avg_0=new_split[0]\n",
    "new_avg_0=new_avg_0.astype(str)\n",
    "new_avg_0=pd.DataFrame(new_avg_0)\n",
    "int_new_0=new_avg_0[new_avg_0[0]!='nan']\n",
    "int_new_0=int_new_0.astype(int)\n",
    "int_new_0.mean()"
   ]
  },
  {
   "cell_type": "code",
   "execution_count": null,
   "metadata": {},
   "outputs": [],
   "source": []
  },
  {
   "cell_type": "code",
   "execution_count": null,
   "metadata": {},
   "outputs": [],
   "source": []
  },
  {
   "cell_type": "code",
   "execution_count": 275,
   "metadata": {},
   "outputs": [
    {
     "data": {
      "text/plain": [
       "array(['14', '1', '0', '4', '2', '6', '5', '3', '7', '8', '16', '12', '9',\n",
       "       '15', '10', '11', '35', '13', '17', '19', '20', '18', '25', '29',\n",
       "       '23', '24', '36', '26', '22', '27', '21', '32', '31', '34', '28',\n",
       "       '30', '41', '59', '45', '44', '37', '39', '43', '53', '50', '52',\n",
       "       '40', '33', '48', '55', '38', '80', '46', '58', '51', '56', '87',\n",
       "       '129', '42', '47', '66', '74', '70', '62', '67', '79', '61', '99',\n",
       "       '64', '65', '68', '54', '63', '84', '72', '78', '83', '77', '95',\n",
       "       '111', '107', '130', '113', '94', '81', '86', '97', '101', '118',\n",
       "       '85', '49', '57', '121', '117', '133', '124', '98', '82', '126',\n",
       "       '88', '102', '123', '155', '100', '96', '90', '92', '112', '109',\n",
       "       '75', '162', '69', '91', '104', '115', '122', '156', '174', '60',\n",
       "       '176', '108', '106', '346', '191', '138', '188', '76', '154', '73',\n",
       "       '335', '248', '131', '213', '135', '183', '271', '257', '128',\n",
       "       '146', '166', '301', '89', '110', '180', '137', '132', '145',\n",
       "       '119', '269', '181', '148', '329', '200', '134', '520', '256',\n",
       "       '167', '103', '159', '143', '290', '259', '144', '170', '223',\n",
       "       '261', '141', '157', '116', '264', '160', '71', '189', '230',\n",
       "       '312', '125', '228', '234', '196', '229', '217', '169', '260',\n",
       "       '225', '275', '105', '114', '187', '152', '168', '158', '127',\n",
       "       '153', '239', '298', '150', '224'], dtype=object)"
      ]
     },
     "execution_count": 275,
     "metadata": {},
     "output_type": "execute_result"
    }
   ],
   "source": [
    "new_split[0]=new_split[0].fillna('6')\n",
    "new_split[0].unique()"
   ]
  },
  {
   "cell_type": "code",
   "execution_count": null,
   "metadata": {},
   "outputs": [],
   "source": [
    "new_split.dtypes()"
   ]
  },
  {
   "cell_type": "code",
   "execution_count": 240,
   "metadata": {},
   "outputs": [],
   "source": [
    "num_values_year= pd.value_counts(new_split[1].values.ravel())"
   ]
  },
  {
   "cell_type": "code",
   "execution_count": 241,
   "metadata": {},
   "outputs": [
    {
     "data": {
      "text/plain": [
       " 1       135\n",
       " 2        59\n",
       " 3        35\n",
       " 4        21\n",
       " 6        17\n",
       " 7        13\n",
       " 5        11\n",
       " 8         7\n",
       " 10        5\n",
       " 9         4\n",
       " 24        3\n",
       " 22        3\n",
       " 12        3\n",
       " 13        3\n",
       " 14        2\n",
       " 23        2\n",
       " 49        2\n",
       " 17        2\n",
       " 25        2\n",
       " 32        2\n",
       " 44        2\n",
       " 11        2\n",
       " 71        1\n",
       " 45        1\n",
       " 37        1\n",
       " 28        1\n",
       " 30        1\n",
       " 125       1\n",
       " 900       1\n",
       " 1600      1\n",
       " 18        1\n",
       " 88        1\n",
       " 237       1\n",
       " 87        1\n",
       " 39        1\n",
       " 15        1\n",
       " 107       1\n",
       " 19        1\n",
       " 35        1\n",
       "dtype: int64"
      ]
     },
     "execution_count": 241,
     "metadata": {},
     "output_type": "execute_result"
    }
   ],
   "source": [
    "num_values_year"
   ]
  },
  {
   "cell_type": "code",
   "execution_count": 277,
   "metadata": {},
   "outputs": [
    {
     "data": {
      "text/plain": [
       "array([None, nan, ' 1', ' 9', ' 2', ' 7', ' 6', ' 5', ' 3', ' 4', ' 10',\n",
       "       ' 8', ' 32', ' 87', ' 22', ' 11', ' 107', ' 13', ' 44', ' 71',\n",
       "       ' 24', ' 25', ' 88', ' 19', ' 17', ' 49', ' 15', ' 12', ' 39',\n",
       "       ' 23', ' 237', ' 18', ' 45', ' 1600', ' 900', ' 125', ' 30', ' 28',\n",
       "       ' 37', ' 14', ' 35'], dtype=object)"
      ]
     },
     "execution_count": 277,
     "metadata": {},
     "output_type": "execute_result"
    }
   ],
   "source": [
    "new_split[1].unique()"
   ]
  },
  {
   "cell_type": "code",
   "execution_count": 278,
   "metadata": {},
   "outputs": [
    {
     "name": "stdout",
     "output_type": "stream",
     "text": [
      "Wall time: 16 s\n"
     ]
    }
   ],
   "source": [
    "%%time\n",
    "for i in new_split[1].index:\n",
    "    if new_split[1][i]==None:\n",
    "        new_split[1][i]='0'\n"
   ]
  },
  {
   "cell_type": "code",
   "execution_count": 283,
   "metadata": {},
   "outputs": [],
   "source": [
    "new_avg_1=new_split[1]\n",
    "new_avg_1=new_avg_1.astype(str)\n",
    "new_avg_1=pd.DataFrame(new_avg_1)\n"
   ]
  },
  {
   "cell_type": "code",
   "execution_count": 284,
   "metadata": {},
   "outputs": [
    {
     "data": {
      "text/html": [
       "<div>\n",
       "<style scoped>\n",
       "    .dataframe tbody tr th:only-of-type {\n",
       "        vertical-align: middle;\n",
       "    }\n",
       "\n",
       "    .dataframe tbody tr th {\n",
       "        vertical-align: top;\n",
       "    }\n",
       "\n",
       "    .dataframe thead th {\n",
       "        text-align: right;\n",
       "    }\n",
       "</style>\n",
       "<table border=\"1\" class=\"dataframe\">\n",
       "  <thead>\n",
       "    <tr style=\"text-align: right;\">\n",
       "      <th></th>\n",
       "      <th>1</th>\n",
       "    </tr>\n",
       "  </thead>\n",
       "  <tbody>\n",
       "    <tr>\n",
       "      <th>61</th>\n",
       "      <td>0</td>\n",
       "    </tr>\n",
       "    <tr>\n",
       "      <th>62</th>\n",
       "      <td>0</td>\n",
       "    </tr>\n",
       "    <tr>\n",
       "      <th>63</th>\n",
       "      <td>0</td>\n",
       "    </tr>\n",
       "    <tr>\n",
       "      <th>64</th>\n",
       "      <td>0</td>\n",
       "    </tr>\n",
       "    <tr>\n",
       "      <th>65</th>\n",
       "      <td>0</td>\n",
       "    </tr>\n",
       "    <tr>\n",
       "      <th>...</th>\n",
       "      <td>...</td>\n",
       "    </tr>\n",
       "    <tr>\n",
       "      <th>23912</th>\n",
       "      <td>0</td>\n",
       "    </tr>\n",
       "    <tr>\n",
       "      <th>23913</th>\n",
       "      <td>0</td>\n",
       "    </tr>\n",
       "    <tr>\n",
       "      <th>23914</th>\n",
       "      <td>0</td>\n",
       "    </tr>\n",
       "    <tr>\n",
       "      <th>23915</th>\n",
       "      <td>0</td>\n",
       "    </tr>\n",
       "    <tr>\n",
       "      <th>23916</th>\n",
       "      <td>0</td>\n",
       "    </tr>\n",
       "  </tbody>\n",
       "</table>\n",
       "<p>23856 rows × 1 columns</p>\n",
       "</div>"
      ],
      "text/plain": [
       "       1\n",
       "61     0\n",
       "62     0\n",
       "63     0\n",
       "64     0\n",
       "65     0\n",
       "...   ..\n",
       "23912  0\n",
       "23913  0\n",
       "23914  0\n",
       "23915  0\n",
       "23916  0\n",
       "\n",
       "[23856 rows x 1 columns]"
      ]
     },
     "execution_count": 284,
     "metadata": {},
     "output_type": "execute_result"
    }
   ],
   "source": [
    "new_avg_1"
   ]
  },
  {
   "cell_type": "code",
   "execution_count": 285,
   "metadata": {},
   "outputs": [],
   "source": [
    "int_new_1=new_avg_1[new_avg_1[1]!='nan']"
   ]
  },
  {
   "cell_type": "code",
   "execution_count": 290,
   "metadata": {},
   "outputs": [],
   "source": [
    "int_new_1=pd.DataFrame(int_new_1)"
   ]
  },
  {
   "cell_type": "code",
   "execution_count": 298,
   "metadata": {},
   "outputs": [
    {
     "data": {
      "text/plain": [
       "1    0.0\n",
       "dtype: float64"
      ]
     },
     "execution_count": 298,
     "metadata": {},
     "output_type": "execute_result"
    }
   ],
   "source": [
    "int_new_1=int_new_1.astype(int)\n",
    "int_new_1.median()"
   ]
  },
  {
   "cell_type": "code",
   "execution_count": 299,
   "metadata": {},
   "outputs": [],
   "source": [
    "new_split[1]=new_split[1].fillna('0')"
   ]
  },
  {
   "cell_type": "code",
   "execution_count": 300,
   "metadata": {},
   "outputs": [],
   "source": [
    "new_split=new_split.astype(int)"
   ]
  },
  {
   "cell_type": "code",
   "execution_count": 301,
   "metadata": {},
   "outputs": [],
   "source": [
    "df['new_fatalities']=new_split[0]+new_split[1]\n"
   ]
  },
  {
   "cell_type": "code",
   "execution_count": 302,
   "metadata": {},
   "outputs": [
    {
     "data": {
      "text/html": [
       "<div>\n",
       "<style scoped>\n",
       "    .dataframe tbody tr th:only-of-type {\n",
       "        vertical-align: middle;\n",
       "    }\n",
       "\n",
       "    .dataframe tbody tr th {\n",
       "        vertical-align: top;\n",
       "    }\n",
       "\n",
       "    .dataframe thead th {\n",
       "        text-align: right;\n",
       "    }\n",
       "</style>\n",
       "<table border=\"1\" class=\"dataframe\">\n",
       "  <thead>\n",
       "    <tr style=\"text-align: right;\">\n",
       "      <th></th>\n",
       "      <th>date</th>\n",
       "      <th>type</th>\n",
       "      <th>registration</th>\n",
       "      <th>operator</th>\n",
       "      <th>fatalities</th>\n",
       "      <th>location</th>\n",
       "      <th>country</th>\n",
       "      <th>cat</th>\n",
       "      <th>year</th>\n",
       "      <th>day</th>\n",
       "      <th>month</th>\n",
       "      <th>new_date</th>\n",
       "      <th>new_fatalities</th>\n",
       "    </tr>\n",
       "  </thead>\n",
       "  <tbody>\n",
       "    <tr>\n",
       "      <th>61</th>\n",
       "      <td>02-AUG-1919</td>\n",
       "      <td>Caproni Ca.48</td>\n",
       "      <td>NaN</td>\n",
       "      <td>Caproni</td>\n",
       "      <td>14</td>\n",
       "      <td>Verona</td>\n",
       "      <td>Italy</td>\n",
       "      <td>A1</td>\n",
       "      <td>1919</td>\n",
       "      <td>02</td>\n",
       "      <td>AUG</td>\n",
       "      <td>1919-08-02</td>\n",
       "      <td>14</td>\n",
       "    </tr>\n",
       "    <tr>\n",
       "      <th>62</th>\n",
       "      <td>11-AUG-1919</td>\n",
       "      <td>Felixstowe Fury</td>\n",
       "      <td>N123</td>\n",
       "      <td>RAF</td>\n",
       "      <td>1</td>\n",
       "      <td>near Felixtowe RNAS</td>\n",
       "      <td>U.K.</td>\n",
       "      <td>A1</td>\n",
       "      <td>1919</td>\n",
       "      <td>11</td>\n",
       "      <td>AUG</td>\n",
       "      <td>1919-08-11</td>\n",
       "      <td>1</td>\n",
       "    </tr>\n",
       "    <tr>\n",
       "      <th>63</th>\n",
       "      <td>23-FEB-1920</td>\n",
       "      <td>Handley Page O/7</td>\n",
       "      <td>G-EANV</td>\n",
       "      <td>Handley Page Transport</td>\n",
       "      <td>0</td>\n",
       "      <td>Acadia Siding, C...</td>\n",
       "      <td>South Africa</td>\n",
       "      <td>A1</td>\n",
       "      <td>1920</td>\n",
       "      <td>23</td>\n",
       "      <td>FEB</td>\n",
       "      <td>1920-02-23</td>\n",
       "      <td>0</td>\n",
       "    </tr>\n",
       "    <tr>\n",
       "      <th>64</th>\n",
       "      <td>25-FEB-1920</td>\n",
       "      <td>Handley Page O/400</td>\n",
       "      <td>G-EAMC</td>\n",
       "      <td>Handley Page Transport</td>\n",
       "      <td>0</td>\n",
       "      <td>near El Shereik</td>\n",
       "      <td>Sudan</td>\n",
       "      <td>A1</td>\n",
       "      <td>1920</td>\n",
       "      <td>25</td>\n",
       "      <td>FEB</td>\n",
       "      <td>1920-02-25</td>\n",
       "      <td>0</td>\n",
       "    </tr>\n",
       "    <tr>\n",
       "      <th>65</th>\n",
       "      <td>30-JUN-1920</td>\n",
       "      <td>Handley Page O/400</td>\n",
       "      <td>G-EAKE</td>\n",
       "      <td>Handley Page Transport</td>\n",
       "      <td>0</td>\n",
       "      <td>ÃstanÃ¥</td>\n",
       "      <td>Sweden</td>\n",
       "      <td>A1</td>\n",
       "      <td>1920</td>\n",
       "      <td>30</td>\n",
       "      <td>JUN</td>\n",
       "      <td>1920-06-30</td>\n",
       "      <td>0</td>\n",
       "    </tr>\n",
       "    <tr>\n",
       "      <th>...</th>\n",
       "      <td>...</td>\n",
       "      <td>...</td>\n",
       "      <td>...</td>\n",
       "      <td>...</td>\n",
       "      <td>...</td>\n",
       "      <td>...</td>\n",
       "      <td>...</td>\n",
       "      <td>...</td>\n",
       "      <td>...</td>\n",
       "      <td>...</td>\n",
       "      <td>...</td>\n",
       "      <td>...</td>\n",
       "      <td>...</td>\n",
       "    </tr>\n",
       "    <tr>\n",
       "      <th>23912</th>\n",
       "      <td>16-FEB-2023</td>\n",
       "      <td>Cessna 208 Cargomaster</td>\n",
       "      <td>CX-MAX</td>\n",
       "      <td>AeromÃ¡s</td>\n",
       "      <td>0</td>\n",
       "      <td>near Berisso, BA</td>\n",
       "      <td>Argentina</td>\n",
       "      <td>A1</td>\n",
       "      <td>2023</td>\n",
       "      <td>16</td>\n",
       "      <td>FEB</td>\n",
       "      <td>2023-02-16</td>\n",
       "      <td>0</td>\n",
       "    </tr>\n",
       "    <tr>\n",
       "      <th>23913</th>\n",
       "      <td>17-FEB-2023</td>\n",
       "      <td>Honda HA-420 HondaJet</td>\n",
       "      <td>N14QB</td>\n",
       "      <td>Haedo Air LLC</td>\n",
       "      <td>0</td>\n",
       "      <td>Houston-William ...</td>\n",
       "      <td>USA</td>\n",
       "      <td>A2</td>\n",
       "      <td>2023</td>\n",
       "      <td>17</td>\n",
       "      <td>FEB</td>\n",
       "      <td>2023-02-17</td>\n",
       "      <td>0</td>\n",
       "    </tr>\n",
       "    <tr>\n",
       "      <th>23914</th>\n",
       "      <td>22-FEB-2023</td>\n",
       "      <td>Beech B200 Super King Air</td>\n",
       "      <td>N55PC</td>\n",
       "      <td>CTEH</td>\n",
       "      <td>5</td>\n",
       "      <td>near Little Rock-Bill...</td>\n",
       "      <td>USA</td>\n",
       "      <td>A1</td>\n",
       "      <td>2023</td>\n",
       "      <td>22</td>\n",
       "      <td>FEB</td>\n",
       "      <td>2023-02-22</td>\n",
       "      <td>5</td>\n",
       "    </tr>\n",
       "    <tr>\n",
       "      <th>23915</th>\n",
       "      <td>28-FEB-2023</td>\n",
       "      <td>Cessna 208B Grand Caravan</td>\n",
       "      <td>C-GMVB</td>\n",
       "      <td>ZAM Air Service</td>\n",
       "      <td>2</td>\n",
       "      <td>near Nakina, ON</td>\n",
       "      <td>Canada</td>\n",
       "      <td>A1</td>\n",
       "      <td>2023</td>\n",
       "      <td>28</td>\n",
       "      <td>FEB</td>\n",
       "      <td>2023-02-28</td>\n",
       "      <td>2</td>\n",
       "    </tr>\n",
       "    <tr>\n",
       "      <th>23916</th>\n",
       "      <td>01-APR-2023</td>\n",
       "      <td>Cessna 750 Citation X</td>\n",
       "      <td>N85AV</td>\n",
       "      <td>Bank of Utah Trustee</td>\n",
       "      <td>0</td>\n",
       "      <td>Belmar/Farmingda...</td>\n",
       "      <td>USA</td>\n",
       "      <td>A2</td>\n",
       "      <td>2023</td>\n",
       "      <td>01</td>\n",
       "      <td>APR</td>\n",
       "      <td>2023-04-01</td>\n",
       "      <td>0</td>\n",
       "    </tr>\n",
       "  </tbody>\n",
       "</table>\n",
       "<p>23856 rows × 13 columns</p>\n",
       "</div>"
      ],
      "text/plain": [
       "              date                       type registration  \\\n",
       "61     02-AUG-1919              Caproni Ca.48          NaN   \n",
       "62     11-AUG-1919            Felixstowe Fury         N123   \n",
       "63     23-FEB-1920           Handley Page O/7       G-EANV   \n",
       "64     25-FEB-1920         Handley Page O/400       G-EAMC   \n",
       "65     30-JUN-1920         Handley Page O/400       G-EAKE   \n",
       "...            ...                        ...          ...   \n",
       "23912  16-FEB-2023     Cessna 208 Cargomaster       CX-MAX   \n",
       "23913  17-FEB-2023      Honda HA-420 HondaJet        N14QB   \n",
       "23914  22-FEB-2023  Beech B200 Super King Air        N55PC   \n",
       "23915  28-FEB-2023  Cessna 208B Grand Caravan       C-GMVB   \n",
       "23916  01-APR-2023      Cessna 750 Citation X        N85AV   \n",
       "\n",
       "                     operator fatalities                  location  \\\n",
       "61                    Caproni         14                    Verona   \n",
       "62                        RAF          1       near Felixtowe RNAS   \n",
       "63     Handley Page Transport          0       Acadia Siding, C...   \n",
       "64     Handley Page Transport          0           near El Shereik   \n",
       "65     Handley Page Transport          0                  ÃstanÃ¥   \n",
       "...                       ...        ...                       ...   \n",
       "23912                AeromÃ¡s          0          near Berisso, BA   \n",
       "23913           Haedo Air LLC          0       Houston-William ...   \n",
       "23914                    CTEH          5  near Little Rock-Bill...   \n",
       "23915         ZAM Air Service          2           near Nakina, ON   \n",
       "23916    Bank of Utah Trustee          0       Belmar/Farmingda...   \n",
       "\n",
       "            country cat  year day month   new_date  new_fatalities  \n",
       "61            Italy  A1  1919  02   AUG 1919-08-02              14  \n",
       "62             U.K.  A1  1919  11   AUG 1919-08-11               1  \n",
       "63     South Africa  A1  1920  23   FEB 1920-02-23               0  \n",
       "64            Sudan  A1  1920  25   FEB 1920-02-25               0  \n",
       "65           Sweden  A1  1920  30   JUN 1920-06-30               0  \n",
       "...             ...  ..   ...  ..   ...        ...             ...  \n",
       "23912     Argentina  A1  2023  16   FEB 2023-02-16               0  \n",
       "23913           USA  A2  2023  17   FEB 2023-02-17               0  \n",
       "23914           USA  A1  2023  22   FEB 2023-02-22               5  \n",
       "23915        Canada  A1  2023  28   FEB 2023-02-28               2  \n",
       "23916           USA  A2  2023  01   APR 2023-04-01               0  \n",
       "\n",
       "[23856 rows x 13 columns]"
      ]
     },
     "execution_count": 302,
     "metadata": {},
     "output_type": "execute_result"
    }
   ],
   "source": [
    "df"
   ]
  },
  {
   "cell_type": "code",
   "execution_count": 303,
   "metadata": {},
   "outputs": [
    {
     "data": {
      "text/plain": [
       "array([  14,    1,    0,    4,    2,    6,    5,    3,    7,    8,   16,\n",
       "         12,    9,   15,   10,   11,   44,   13,   17,   19,   20,   18,\n",
       "         25,   29,   23,   24,   36,   26,   22,   27,   21,   35,   32,\n",
       "         31,   34,   28,   30,   41,   59,   45,   37,   39,   43,   53,\n",
       "         50,   52,   40,   33,   48,   55,   38,   80,   46,   58,   51,\n",
       "         56,   87,  129,   42,   47,   66,   74,   70,   62,   67,   79,\n",
       "         61,   99,   64,   65,   68,   54,   63,   90,   73,   78,   72,\n",
       "         83,   77,   95,  111,  107,  130,  113,   84,   94,   81,   86,\n",
       "         97,  101,  118,   85,   49,   57,  121,  117,  133,  124,   98,\n",
       "         82,  126,   88,  102,  123,  155,  100,   96,   76,   92,  112,\n",
       "        109,   75,  162,   69,   91,  104,  115,  122,  156,  174,   60,\n",
       "        176,  108,  106,  346,  191,  138,  188,  154,   71,  335,  248,\n",
       "        131,  213,  142,  183,  273,  257,  128,  146,  166,  301,   89,\n",
       "        110,  180,  137,  132,  153,  119,  269,  181,  178,  148,  329,\n",
       "        200,  135,  520,  256,  167,  103,  159,  143,  290,  270,  144,\n",
       "        150,  170,  223,  261,  141,  157,  116,  125,  264,  160,  237,\n",
       "        189,  230,  312,  228,  234,  203,  229,  217,  169,  145, 1692,\n",
       "        965,  114,  265,  225,  275,  105,  149,  199,  152,  168,  158,\n",
       "        127,  239,  298,  139,  224])"
      ]
     },
     "execution_count": 303,
     "metadata": {},
     "output_type": "execute_result"
    }
   ],
   "source": [
    "df['new_fatalities'].unique()"
   ]
  },
  {
   "cell_type": "code",
   "execution_count": null,
   "metadata": {},
   "outputs": [],
   "source": []
  },
  {
   "cell_type": "code",
   "execution_count": 242,
   "metadata": {},
   "outputs": [
    {
     "name": "stdout",
     "output_type": "stream",
     "text": [
      "Wall time: 12.4 s\n"
     ]
    }
   ],
   "source": [
    "    \n",
    "%%time\n",
    "for i in new_split[1].index:\n",
    "    if new_split[1][i]==None:\n",
    "        new_split[1][i]='0'\n"
   ]
  },
  {
   "cell_type": "code",
   "execution_count": null,
   "metadata": {},
   "outputs": [],
   "source": [
    "%%time\n",
    "for i in new_split[1].index:\n",
    "    if new_split[1][i]=='0':\n",
    "        new_split[1][i]='0.5'"
   ]
  },
  {
   "cell_type": "code",
   "execution_count": 244,
   "metadata": {},
   "outputs": [],
   "source": [
    "new_split[1]=new_split[1].fillna('0.5')"
   ]
  },
  {
   "cell_type": "code",
   "execution_count": 243,
   "metadata": {},
   "outputs": [
    {
     "data": {
      "text/plain": [
       "array(['0', nan, ' 1', ' 9', ' 2', ' 7', ' 6', ' 5', ' 3', ' 4', ' 10',\n",
       "       ' 8', ' 32', ' 87', ' 22', ' 11', ' 107', ' 13', ' 44', ' 71',\n",
       "       ' 24', ' 25', ' 88', ' 19', ' 17', ' 49', ' 15', ' 12', ' 39',\n",
       "       ' 23', ' 237', ' 18', ' 45', ' 1600', ' 900', ' 125', ' 30', ' 28',\n",
       "       ' 37', ' 14', ' 35'], dtype=object)"
      ]
     },
     "execution_count": 243,
     "metadata": {},
     "output_type": "execute_result"
    }
   ],
   "source": [
    "new_split[1].unique()  "
   ]
  },
  {
   "cell_type": "code",
   "execution_count": 10,
   "metadata": {},
   "outputs": [
    {
     "data": {
      "text/plain": [
       "array(['0', '0.5', ' 1', ' 9', ' 2', ' 7', ' 6', ' 5', ' 3', ' 4', ' 10',\n",
       "       ' 8', ' 32', ' 87', ' 22', ' 11', ' 107', ' 13', ' 44', ' 71',\n",
       "       ' 24', ' 25', ' 88', ' 19', ' 17', ' 49', ' 15', ' 12', ' 39',\n",
       "       ' 23', ' 237', ' 18', ' 45', ' 1600', ' 900', ' 125', ' 30', ' 28',\n",
       "       ' 37', ' 14', ' 35'], dtype=object)"
      ]
     },
     "execution_count": 10,
     "metadata": {},
     "output_type": "execute_result"
    }
   ],
   "source": [
    "new_split[1].unique()  "
   ]
  },
  {
   "cell_type": "code",
   "execution_count": 17,
   "metadata": {},
   "outputs": [
    {
     "data": {
      "text/plain": [
       "0.0"
      ]
     },
     "execution_count": 17,
     "metadata": {},
     "output_type": "execute_result"
    }
   ],
   "source": [
    "dd=new_split[1][new_split[1]!='0.5']\n",
    "dd=dd.astype(int)\n",
    "dd.median()"
   ]
  },
  {
   "cell_type": "code",
   "execution_count": 22,
   "metadata": {},
   "outputs": [],
   "source": [
    "new_split[1]=new_split[1].replace('0.5','0')"
   ]
  },
  {
   "cell_type": "code",
   "execution_count": 23,
   "metadata": {},
   "outputs": [
    {
     "data": {
      "text/plain": [
       "array(['0', ' 1', ' 9', ' 2', ' 7', ' 6', ' 5', ' 3', ' 4', ' 10', ' 8',\n",
       "       ' 32', ' 87', ' 22', ' 11', ' 107', ' 13', ' 44', ' 71', ' 24',\n",
       "       ' 25', ' 88', ' 19', ' 17', ' 49', ' 15', ' 12', ' 39', ' 23',\n",
       "       ' 237', ' 18', ' 45', ' 1600', ' 900', ' 125', ' 30', ' 28', ' 37',\n",
       "       ' 14', ' 35'], dtype=object)"
      ]
     },
     "execution_count": 23,
     "metadata": {},
     "output_type": "execute_result"
    }
   ],
   "source": [
    "new_split[1].unique()"
   ]
  },
  {
   "cell_type": "code",
   "execution_count": 24,
   "metadata": {},
   "outputs": [
    {
     "data": {
      "text/plain": [
       "array(['14', '1', '0', '4', '2', nan, '5', '6', '3', '7', '8', '16', '12',\n",
       "       '9', '15', '10', '11', '35', '13', '17', '19', '20', '18', '25',\n",
       "       '29', '23', '24', '36', '26', '22', '27', '21', '32', '31', '34',\n",
       "       '28', '30', '41', '59', '45', '44', '37', '39', '43', '53', '50',\n",
       "       '52', '40', '33', '48', '55', '38', '80', '46', '58', '51', '56',\n",
       "       '87', '129', '42', '47', '66', '74', '70', '62', '67', '79', '61',\n",
       "       '99', '64', '65', '68', '54', '63', '84', '72', '78', '83', '77',\n",
       "       '95', '111', '107', '130', '113', '94', '81', '86', '97', '101',\n",
       "       '118', '85', '49', '57', '121', '117', '133', '124', '98', '82',\n",
       "       '126', '88', '102', '123', '155', '100', '96', '90', '92', '112',\n",
       "       '109', '75', '162', '69', '91', '104', '115', '122', '156', '174',\n",
       "       '60', '176', '108', '106', '346', '191', '138', '188', '76', '154',\n",
       "       '73', '335', '248', '131', '213', '135', '183', '271', '257',\n",
       "       '128', '146', '166', '301', '89', '110', '180', '137', '132',\n",
       "       '145', '119', '269', '181', '148', '329', '200', '134', '520',\n",
       "       '256', '167', '103', '159', '143', '290', '259', '144', '170',\n",
       "       '223', '261', '141', '157', '116', '264', '160', '71', '189',\n",
       "       '230', '312', '125', '228', '234', '196', '229', '217', '169',\n",
       "       '260', '225', '275', '105', '114', '187', '152', '168', '158',\n",
       "       '127', '153', '239', '298', '150', '224'], dtype=object)"
      ]
     },
     "execution_count": 24,
     "metadata": {},
     "output_type": "execute_result"
    }
   ],
   "source": [
    "new_split[].unique()"
   ]
  },
  {
   "cell_type": "code",
   "execution_count": null,
   "metadata": {},
   "outputs": [],
   "source": []
  },
  {
   "cell_type": "code",
   "execution_count": null,
   "metadata": {},
   "outputs": [],
   "source": [
    "%%time\n",
    "for i in new_split[1].index:\n",
    "    if new_split[1][i]==None:\n",
    "        new_split[1][i]='0'"
   ]
  },
  {
   "cell_type": "code",
   "execution_count": null,
   "metadata": {},
   "outputs": [],
   "source": [
    "num_values_year= pd.value_counts(new_split[1].values.ravel())"
   ]
  },
  {
   "cell_type": "code",
   "execution_count": null,
   "metadata": {},
   "outputs": [],
   "source": [
    "num_values_year"
   ]
  },
  {
   "cell_type": "code",
   "execution_count": null,
   "metadata": {},
   "outputs": [],
   "source": [
    "num_values_year= pd.value_counts(new_split[0].values.ravel())\n",
    "num_values_year"
   ]
  },
  {
   "cell_type": "code",
   "execution_count": null,
   "metadata": {},
   "outputs": [],
   "source": [
    "dd=new_split[0][new_split[0]!='0.5']\n",
    "dd.astype(int)"
   ]
  },
  {
   "cell_type": "code",
   "execution_count": null,
   "metadata": {},
   "outputs": [],
   "source": [
    "dd.un"
   ]
  },
  {
   "cell_type": "code",
   "execution_count": null,
   "metadata": {},
   "outputs": [],
   "source": [
    "%%time\n",
    "new_split[1].unique()\n"
   ]
  },
  {
   "cell_type": "code",
   "execution_count": null,
   "metadata": {},
   "outputs": [],
   "source": [
    "new_split=new_split.astype(int)"
   ]
  },
  {
   "cell_type": "code",
   "execution_count": null,
   "metadata": {},
   "outputs": [],
   "source": [
    "new_split[1]."
   ]
  },
  {
   "cell_type": "code",
   "execution_count": null,
   "metadata": {},
   "outputs": [],
   "source": [
    "999872237/len((new_split[0]))"
   ]
  },
  {
   "cell_type": "code",
   "execution_count": null,
   "metadata": {},
   "outputs": [],
   "source": []
  },
  {
   "cell_type": "code",
   "execution_count": null,
   "metadata": {},
   "outputs": [],
   "source": []
  },
  {
   "cell_type": "code",
   "execution_count": null,
   "metadata": {},
   "outputs": [],
   "source": []
  },
  {
   "cell_type": "code",
   "execution_count": null,
   "metadata": {},
   "outputs": [],
   "source": []
  },
  {
   "cell_type": "code",
   "execution_count": null,
   "metadata": {},
   "outputs": [],
   "source": [
    "df.shape\n"
   ]
  },
  {
   "cell_type": "code",
   "execution_count": null,
   "metadata": {},
   "outputs": [],
   "source": []
  },
  {
   "cell_type": "code",
   "execution_count": null,
   "metadata": {},
   "outputs": [],
   "source": [
    "(61/23917)*100\n"
   ]
  },
  {
   "cell_type": "code",
   "execution_count": null,
   "metadata": {},
   "outputs": [],
   "source": [
    "# it is below 1% so we drop these column & year is unknown\n"
   ]
  },
  {
   "cell_type": "code",
   "execution_count": null,
   "metadata": {},
   "outputs": [],
   "source": [
    "df.describe()"
   ]
  },
  {
   "cell_type": "code",
   "execution_count": null,
   "metadata": {},
   "outputs": [],
   "source": [
    "df.dtypes"
   ]
  },
  {
   "cell_type": "code",
   "execution_count": null,
   "metadata": {},
   "outputs": [],
   "source": [
    "df"
   ]
  },
  {
   "cell_type": "code",
   "execution_count": null,
   "metadata": {},
   "outputs": [],
   "source": [
    "print(df['date'].unique())"
   ]
  },
  {
   "cell_type": "code",
   "execution_count": null,
   "metadata": {},
   "outputs": [],
   "source": [
    "df['cat'].unique()"
   ]
  },
  {
   "cell_type": "code",
   "execution_count": null,
   "metadata": {},
   "outputs": [],
   "source": [
    "df['cat'].isnull().sum()"
   ]
  },
  {
   "cell_type": "code",
   "execution_count": null,
   "metadata": {},
   "outputs": [],
   "source": [
    "df['country'].isnull().sum()"
   ]
  },
  {
   "cell_type": "code",
   "execution_count": null,
   "metadata": {},
   "outputs": [],
   "source": [
    "df['operator'].isnull().sum()"
   ]
  },
  {
   "cell_type": "code",
   "execution_count": null,
   "metadata": {},
   "outputs": [],
   "source": [
    "df['registration'].isnull().sum()"
   ]
  },
  {
   "cell_type": "code",
   "execution_count": null,
   "metadata": {},
   "outputs": [],
   "source": [
    "df['type'].isnull().sum()"
   ]
  },
  {
   "cell_type": "code",
   "execution_count": null,
   "metadata": {},
   "outputs": [],
   "source": [
    "groupby_year=df.groupby('country')\n",
    "groupby_year.first()"
   ]
  },
  {
   "cell_type": "code",
   "execution_count": null,
   "metadata": {},
   "outputs": [],
   "source": [
    "df"
   ]
  },
  {
   "cell_type": "code",
   "execution_count": null,
   "metadata": {},
   "outputs": [],
   "source": [
    "df['location'].unique().count()"
   ]
  },
  {
   "cell_type": "code",
   "execution_count": null,
   "metadata": {},
   "outputs": [],
   "source": [
    "um_values_year= pd.value_counts(df['location'].values.ravel())"
   ]
  },
  {
   "cell_type": "code",
   "execution_count": null,
   "metadata": {},
   "outputs": [],
   "source": [
    "um_values_year"
   ]
  },
  {
   "cell_type": "code",
   "execution_count": null,
   "metadata": {},
   "outputs": [],
   "source": [
    "df['location']"
   ]
  },
  {
   "cell_type": "code",
   "execution_count": null,
   "metadata": {},
   "outputs": [],
   "source": [
    "for i in df.index:\n",
    "    if  df['location'][i]=='unknown':\n",
    "        df['location'][i]= df['country'][i]"
   ]
  },
  {
   "cell_type": "code",
   "execution_count": null,
   "metadata": {},
   "outputs": [],
   "source": []
  },
  {
   "cell_type": "code",
   "execution_count": null,
   "metadata": {},
   "outputs": [],
   "source": [
    "um_values_year= pd.value_counts(df['location'].values.ravel())\n",
    "um_values_year"
   ]
  },
  {
   "cell_type": "code",
   "execution_count": null,
   "metadata": {},
   "outputs": [],
   "source": [
    "for i in df.index:\n",
    "    if  df['location'][i]==\"unknown\":\n",
    "        df['location'][i]=df['country'][i]"
   ]
  },
  {
   "cell_type": "code",
   "execution_count": null,
   "metadata": {},
   "outputs": [],
   "source": [
    "um_values_year= pd.value_counts(df['location'].values.ravel())\n",
    "um_values_year"
   ]
  },
  {
   "cell_type": "code",
   "execution_count": 25,
   "metadata": {},
   "outputs": [
    {
     "data": {
      "text/plain": [
       "('near Nakina, ON', 'Canada')"
      ]
     },
     "execution_count": 25,
     "metadata": {},
     "output_type": "execute_result"
    }
   ],
   "source": [
    "df['location'][23915],df['country'][23915]"
   ]
  },
  {
   "cell_type": "code",
   "execution_count": null,
   "metadata": {},
   "outputs": [],
   "source": [
    "df[df['location']=='unknown']"
   ]
  },
  {
   "cell_type": "code",
   "execution_count": null,
   "metadata": {},
   "outputs": [],
   "source": [
    "df[df['country']=='Unknown country']"
   ]
  },
  {
   "cell_type": "markdown",
   "metadata": {},
   "source": [
    "# location"
   ]
  },
  {
   "cell_type": "code",
   "execution_count": 26,
   "metadata": {},
   "outputs": [
    {
     "data": {
      "text/plain": [
       "61                         Verona\n",
       "62            near Felixtowe RNAS\n",
       "63            Acadia Siding, C...\n",
       "64                near El Shereik\n",
       "65                       ÃstanÃ¥\n",
       "                   ...           \n",
       "23912            near Berisso, BA\n",
       "23913         Houston-William ...\n",
       "23914    near Little Rock-Bill...\n",
       "23915             near Nakina, ON\n",
       "23916         Belmar/Farmingda...\n",
       "Name: location, Length: 23856, dtype: object"
      ]
     },
     "execution_count": 26,
     "metadata": {},
     "output_type": "execute_result"
    }
   ],
   "source": [
    "df['location']"
   ]
  },
  {
   "cell_type": "code",
   "execution_count": 29,
   "metadata": {},
   "outputs": [
    {
     "ename": "AttributeError",
     "evalue": "'Series' object has no attribute 'find'",
     "output_type": "error",
     "traceback": [
      "\u001b[1;31m---------------------------------------------------------------------------\u001b[0m",
      "\u001b[1;31mAttributeError\u001b[0m                            Traceback (most recent call last)",
      "\u001b[1;32m<ipython-input-29-a82749def349>\u001b[0m in \u001b[0;36m<module>\u001b[1;34m\u001b[0m\n\u001b[1;32m----> 1\u001b[1;33m \u001b[0mprint\u001b[0m\u001b[1;33m(\u001b[0m\u001b[0mdf\u001b[0m\u001b[1;33m[\u001b[0m\u001b[1;34m'location'\u001b[0m\u001b[1;33m]\u001b[0m\u001b[1;33m.\u001b[0m\u001b[0mfind\u001b[0m\u001b[1;33m(\u001b[0m\u001b[1;34m'near'\u001b[0m\u001b[1;33m)\u001b[0m\u001b[1;33m)\u001b[0m\u001b[1;33m\u001b[0m\u001b[1;33m\u001b[0m\u001b[0m\n\u001b[0m",
      "\u001b[1;32m~\\anaconda3\\lib\\site-packages\\pandas\\core\\generic.py\u001b[0m in \u001b[0;36m__getattr__\u001b[1;34m(self, name)\u001b[0m\n\u001b[0;32m   5485\u001b[0m         ):\n\u001b[0;32m   5486\u001b[0m             \u001b[1;32mreturn\u001b[0m \u001b[0mself\u001b[0m\u001b[1;33m[\u001b[0m\u001b[0mname\u001b[0m\u001b[1;33m]\u001b[0m\u001b[1;33m\u001b[0m\u001b[1;33m\u001b[0m\u001b[0m\n\u001b[1;32m-> 5487\u001b[1;33m         \u001b[1;32mreturn\u001b[0m \u001b[0mobject\u001b[0m\u001b[1;33m.\u001b[0m\u001b[0m__getattribute__\u001b[0m\u001b[1;33m(\u001b[0m\u001b[0mself\u001b[0m\u001b[1;33m,\u001b[0m \u001b[0mname\u001b[0m\u001b[1;33m)\u001b[0m\u001b[1;33m\u001b[0m\u001b[1;33m\u001b[0m\u001b[0m\n\u001b[0m\u001b[0;32m   5488\u001b[0m \u001b[1;33m\u001b[0m\u001b[0m\n\u001b[0;32m   5489\u001b[0m     \u001b[1;32mdef\u001b[0m \u001b[0m__setattr__\u001b[0m\u001b[1;33m(\u001b[0m\u001b[0mself\u001b[0m\u001b[1;33m,\u001b[0m \u001b[0mname\u001b[0m\u001b[1;33m:\u001b[0m \u001b[0mstr\u001b[0m\u001b[1;33m,\u001b[0m \u001b[0mvalue\u001b[0m\u001b[1;33m)\u001b[0m \u001b[1;33m->\u001b[0m \u001b[1;32mNone\u001b[0m\u001b[1;33m:\u001b[0m\u001b[1;33m\u001b[0m\u001b[1;33m\u001b[0m\u001b[0m\n",
      "\u001b[1;31mAttributeError\u001b[0m: 'Series' object has no attribute 'find'"
     ]
    }
   ],
   "source": [
    "df['location'].find('near')"
   ]
  },
  {
   "cell_type": "code",
   "execution_count": 34,
   "metadata": {},
   "outputs": [
    {
     "ename": "AttributeError",
     "evalue": "'Series' object has no attribute 'find'",
     "output_type": "error",
     "traceback": [
      "\u001b[1;31m---------------------------------------------------------------------------\u001b[0m",
      "\u001b[1;31mAttributeError\u001b[0m                            Traceback (most recent call last)",
      "\u001b[1;32m<ipython-input-34-7275a367d35f>\u001b[0m in \u001b[0;36m<module>\u001b[1;34m\u001b[0m\n\u001b[1;32m----> 1\u001b[1;33m \u001b[0mdf\u001b[0m\u001b[1;33m[\u001b[0m\u001b[1;34m'location'\u001b[0m\u001b[1;33m]\u001b[0m\u001b[1;33m.\u001b[0m\u001b[0mwhere\u001b[0m\u001b[1;33m(\u001b[0m\u001b[0mdf\u001b[0m\u001b[1;33m[\u001b[0m\u001b[1;34m'location'\u001b[0m\u001b[1;33m]\u001b[0m\u001b[1;33m.\u001b[0m\u001b[0mfind\u001b[0m\u001b[1;33m(\u001b[0m\u001b[1;34m'near'\u001b[0m\u001b[1;33m)\u001b[0m\u001b[1;33m)\u001b[0m\u001b[1;33m\u001b[0m\u001b[1;33m\u001b[0m\u001b[0m\n\u001b[0m",
      "\u001b[1;32m~\\anaconda3\\lib\\site-packages\\pandas\\core\\generic.py\u001b[0m in \u001b[0;36m__getattr__\u001b[1;34m(self, name)\u001b[0m\n\u001b[0;32m   5485\u001b[0m         ):\n\u001b[0;32m   5486\u001b[0m             \u001b[1;32mreturn\u001b[0m \u001b[0mself\u001b[0m\u001b[1;33m[\u001b[0m\u001b[0mname\u001b[0m\u001b[1;33m]\u001b[0m\u001b[1;33m\u001b[0m\u001b[1;33m\u001b[0m\u001b[0m\n\u001b[1;32m-> 5487\u001b[1;33m         \u001b[1;32mreturn\u001b[0m \u001b[0mobject\u001b[0m\u001b[1;33m.\u001b[0m\u001b[0m__getattribute__\u001b[0m\u001b[1;33m(\u001b[0m\u001b[0mself\u001b[0m\u001b[1;33m,\u001b[0m \u001b[0mname\u001b[0m\u001b[1;33m)\u001b[0m\u001b[1;33m\u001b[0m\u001b[1;33m\u001b[0m\u001b[0m\n\u001b[0m\u001b[0;32m   5488\u001b[0m \u001b[1;33m\u001b[0m\u001b[0m\n\u001b[0;32m   5489\u001b[0m     \u001b[1;32mdef\u001b[0m \u001b[0m__setattr__\u001b[0m\u001b[1;33m(\u001b[0m\u001b[0mself\u001b[0m\u001b[1;33m,\u001b[0m \u001b[0mname\u001b[0m\u001b[1;33m:\u001b[0m \u001b[0mstr\u001b[0m\u001b[1;33m,\u001b[0m \u001b[0mvalue\u001b[0m\u001b[1;33m)\u001b[0m \u001b[1;33m->\u001b[0m \u001b[1;32mNone\u001b[0m\u001b[1;33m:\u001b[0m\u001b[1;33m\u001b[0m\u001b[1;33m\u001b[0m\u001b[0m\n",
      "\u001b[1;31mAttributeError\u001b[0m: 'Series' object has no attribute 'find'"
     ]
    }
   ],
   "source": [
    "df['location'].where(df['location'].find('near'))"
   ]
  },
  {
   "cell_type": "code",
   "execution_count": 20,
   "metadata": {},
   "outputs": [
    {
     "data": {
      "text/plain": [
       "dtype('O')"
      ]
     },
     "execution_count": 20,
     "metadata": {},
     "output_type": "execute_result"
    }
   ],
   "source": [
    "new=df['location'].str.split('near')\n",
    "new.dtype"
   ]
  },
  {
   "cell_type": "code",
   "execution_count": null,
   "metadata": {},
   "outputs": [],
   "source": [
    "num_values_year= pd.value_counts(new.values.ravel())\n",
    "num_values_year"
   ]
  },
  {
   "cell_type": "code",
   "execution_count": 22,
   "metadata": {},
   "outputs": [
    {
     "data": {
      "text/plain": [
       "61                         ['Verona']\n",
       "62            ['', ' Felixtowe RNAS']\n",
       "63            ['Acadia Siding, C...']\n",
       "64                ['', ' El Shereik']\n",
       "65                    ['Ã\\x96stanÃ¥']\n",
       "                     ...             \n",
       "23912            ['', ' Berisso, BA']\n",
       "23913         ['Houston-William ...']\n",
       "23914    ['', ' Little Rock-Bill...']\n",
       "23915             ['', ' Nakina, ON']\n",
       "23916         ['Belmar/Farmingda...']\n",
       "Name: location, Length: 23856, dtype: object"
      ]
     },
     "execution_count": 22,
     "metadata": {},
     "output_type": "execute_result"
    }
   ],
   "source": [
    "\n",
    "new=new.astype(str)\n",
    "new"
   ]
  },
  {
   "cell_type": "code",
   "execution_count": 24,
   "metadata": {},
   "outputs": [
    {
     "data": {
      "text/plain": [
       "61                         ['Verona']\n",
       "62            ['', ' Felixtowe RNAS']\n",
       "63            ['Acadia Siding, C...']\n",
       "64                ['', ' El Shereik']\n",
       "65                    ['Ã\\x96stanÃ¥']\n",
       "                     ...             \n",
       "23912            ['', ' Berisso, BA']\n",
       "23913         ['Houston-William ...']\n",
       "23914    ['', ' Little Rock-Bill...']\n",
       "23915             ['', ' Nakina, ON']\n",
       "23916         ['Belmar/Farmingda...']\n",
       "Name: location, Length: 23856, dtype: object"
      ]
     },
     "execution_count": 24,
     "metadata": {},
     "output_type": "execute_result"
    }
   ],
   "source": [
    "new=new.str.strip()\n",
    "new"
   ]
  },
  {
   "cell_type": "code",
   "execution_count": 28,
   "metadata": {},
   "outputs": [
    {
     "data": {
      "text/plain": [
       "61                         ['Verona']\n",
       "62            [''  ' Felixtowe RNAS']\n",
       "63            ['Acadia Siding  C...']\n",
       "64                [''  ' El Shereik']\n",
       "65                    ['Ã\\x96stanÃ¥']\n",
       "                     ...             \n",
       "23912            [''  ' Berisso  BA']\n",
       "23913         ['Houston-William ...']\n",
       "23914    [''  ' Little Rock-Bill...']\n",
       "23915             [''  ' Nakina  ON']\n",
       "23916         ['Belmar/Farmingda...']\n",
       "Name: location, Length: 23856, dtype: object"
      ]
     },
     "execution_count": 28,
     "metadata": {},
     "output_type": "execute_result"
    }
   ],
   "source": [
    "new=new.str.replace(\",\",\" \")\n",
    "new"
   ]
  },
  {
   "cell_type": "code",
   "execution_count": 30,
   "metadata": {},
   "outputs": [
    {
     "name": "stderr",
     "output_type": "stream",
     "text": [
      "<ipython-input-30-94b9da60ae45>:1: FutureWarning: The default value of regex will change from True to False in a future version. In addition, single character regular expressions will *not* be treated as literal strings when regex=True.\n",
      "  new=new.str.replace(\"[\",\" \")\n"
     ]
    },
    {
     "data": {
      "text/plain": [
       "61                          'Verona']\n",
       "62             ''  ' Felixtowe RNAS']\n",
       "63             'Acadia Siding  C...']\n",
       "64                 ''  ' El Shereik']\n",
       "65                     'Ã\\x96stanÃ¥']\n",
       "                     ...             \n",
       "23912             ''  ' Berisso  BA']\n",
       "23913          'Houston-William ...']\n",
       "23914     ''  ' Little Rock-Bill...']\n",
       "23915              ''  ' Nakina  ON']\n",
       "23916          'Belmar/Farmingda...']\n",
       "Name: location, Length: 23856, dtype: object"
      ]
     },
     "execution_count": 30,
     "metadata": {},
     "output_type": "execute_result"
    }
   ],
   "source": [
    "new=new.str.replace(\"[\",\" \")\n",
    "new"
   ]
  },
  {
   "cell_type": "code",
   "execution_count": 32,
   "metadata": {},
   "outputs": [
    {
     "name": "stderr",
     "output_type": "stream",
     "text": [
      "<ipython-input-32-1ee94b9647ea>:1: FutureWarning: The default value of regex will change from True to False in a future version. In addition, single character regular expressions will *not* be treated as literal strings when regex=True.\n",
      "  new=new.str.replace(\"]\",\" \")\n"
     ]
    },
    {
     "data": {
      "text/plain": [
       "61                          'Verona' \n",
       "62             ''  ' Felixtowe RNAS' \n",
       "63             'Acadia Siding  C...' \n",
       "64                 ''  ' El Shereik' \n",
       "65                     'Ã\\x96stanÃ¥' \n",
       "                     ...             \n",
       "23912             ''  ' Berisso  BA' \n",
       "23913          'Houston-William ...' \n",
       "23914     ''  ' Little Rock-Bill...' \n",
       "23915              ''  ' Nakina  ON' \n",
       "23916          'Belmar/Farmingda...' \n",
       "Name: location, Length: 23856, dtype: object"
      ]
     },
     "execution_count": 32,
     "metadata": {},
     "output_type": "execute_result"
    }
   ],
   "source": [
    "new=new.str.replace(\"]\",\" \")\n",
    "new"
   ]
  },
  {
   "cell_type": "code",
   "execution_count": 35,
   "metadata": {},
   "outputs": [
    {
     "name": "stderr",
     "output_type": "stream",
     "text": [
      "<ipython-input-35-a5c8b134d4eb>:1: FutureWarning: The default value of regex will change from True to False in a future version.\n",
      "  new=new.str.replace(\" (\" \") \",\" \")\n"
     ]
    },
    {
     "data": {
      "text/plain": [
       "61                       'Verona' \n",
       "62             '' Felixtowe RNAS' \n",
       "63           'Acadia Siding C...' \n",
       "64                 '' El Shereik' \n",
       "65                  'Ã\\x96stanÃ¥' \n",
       "                   ...            \n",
       "23912              '' Berisso BA' \n",
       "23913       'Houston-William ...' \n",
       "23914     '' Little Rock-Bill...' \n",
       "23915               '' Nakina ON' \n",
       "23916       'Belmar/Farmingda...' \n",
       "Name: location, Length: 23856, dtype: object"
      ]
     },
     "execution_count": 35,
     "metadata": {},
     "output_type": "execute_result"
    }
   ],
   "source": [
    "new=new.str.replace(\" (\" \") \",\" \")\n",
    "new"
   ]
  },
  {
   "cell_type": "code",
   "execution_count": 37,
   "metadata": {},
   "outputs": [],
   "source": [
    "remove_charracter=[\"'\",\"''\"]"
   ]
  },
  {
   "cell_type": "code",
   "execution_count": 46,
   "metadata": {},
   "outputs": [
    {
     "data": {
      "text/plain": [
       "'\\'Verona\\'\\'\\' Felixtowe RNAS\\'\\'Acadia Siding C...\\'\\'\\' El Shereik\\'\\'Ã\\\\x96stanÃ¥\\'\\'Golders Green\\'\\'Havana harbour\\'\\'Meerut\\'\\'Lago Maggiore\\'\\'\\' Calais The Engl...\\'\\'Evere Airfield\\'\\'Berck-sur-Mer\\'\\'\\' Senlis\\'\\'\\' Beijing-Nanyuan ...\\'\\'Thieuloy-Saint-A...\\'\\'\\' Havana Cuba\\'\\'Monsures Somme\\'\\'\\' Ã\\\\x89taples\\'\\'Poix\\'\\'\\' Valenciennes\\'\\'East Malling Kent\\'\\'Littlestone Kent\\'\\'London-Croydon A...\\'\\'Golden Green ne...\\'\\'\\' Amsterdam-Schiph...\\'\\'Wadhurst East S...\\'\\'\\' Boulogne Englis...\\'\\'Hurst  Ashf...\\'\\'Leigh Kent\\'\\'English Channel\\'\\'KÃ¶nigsberg\\'\\'Atlantic Ocean\\'\\'St. Julians Sev...\\'\\'\\' Abbeville\\'\\'\\' Folkestone Kent...\\'\\'Nigtevecht\\'\\'Spaichingen\\'\\'Dearborn MI\\'\\'\\' KÃ¶ln-Butzweiler...\\'\\'\\' Port Townsend WA\\'\\'Arnsberg\\'\\'Detroit MI\\'\\'Moran Prairie S...\\'\\'\\' Spur TX\\'\\'Letzlingen\\'\\'Floresville TX\\'nan\\'\\' Toledo OH\\'\\'Epinais Bretagne\\'\\'\\' Newark Airport ...\\'\\'\\' Napoli\\'\\'\\' San Diego Airpor...\\'\\'Shepperton\\'\\'Paddock Wood Kent\\'\\'Wichita KS\\'\\'Santiago Airport...\\'\\'\\' Dungeness\\'\\'Saint Paul MN\\'\\'Emsland\\'\\'\\' Gallup NM\\'\\'Jask Airport\\'\\'\\' GrÃ¶mitz\\'\\'Edegem\\'\\'\\' La Spezia\\'\\'\\' Godstone Surrey\\'\\'LÃ¼beck-TravemÃ¼...\\'\\'\\' Hempstead-Roosev...\\'\\'Goodwater AL\\'\\'Toussus-le-Noble\\'\\'Oakland Municipa...\\'\\'Oceanside CA\\'\\'\\' Punta Arenas\\'\\'San Marcos TX\\'\\'Marden Kent\\'\\'Gaza\\'\\'\\' San Bernardino CA\\'\\'Cordoba\\'\\'Buenos Aires\\'\\'Mount Misim\\'\\'Boston MA\\'\\'Chicago Municipa...\\'\\'Chicago IL\\'\\'Aalsmeer\\'\\'Valley Stream NY\\'\\'Ocotal Nueva Se...\\'\\'Jihlava (Iglau)\\'\\'Santo Domingo\\'\\'Boulogne Paris\\'\\'\\' Iguape SP\\'\\'Burbank CA\\'\\'\\' Cap de Creus Spain\\'\\'Dallas-Love Fiel...\\'\\'Jennerstown PA\\'\\'Alhambra CA\\'\\'Harrisburg PA\\'\\'Arequipa Airport...\\'\\'\\' Bazaar KS\\'\\'Ovalle Airport (...\\'\\'\\' Mohania Bihar\\'\\'Gex (Ain)\\'\\'\\' Kupang\\'\\'\\' Elyria OH\\'\\'MalmÃ¶-Bulltofta...\\'\\'Aswan\\'\\'Rotterdam-Waalha...\\'\\'Miami FL\\'\\'Cincinnati OH\\'\\'Pittsburgh PA\\'\\'\\' Gloucester MA\\'\\'\\' Dearborn MI\\'\\'Ashley IN\\'\\'Oklahoma City OK\\'\\'Blackwell Airpor...\\'\\'Calimesa CA\\'\\'Nizhnetambovsk\\'\\'Sterling IL\\'\\'\\' Vitacura\\'\\'\\' Schleissheim Aer...\\'\\'Tubbergen\\'\\'\\' Salt Flat TX\\'\\'Selsdon Park\\'\\'El Aceituno Cho...\\'\\'Villamontes Gra...\\'\\'Lynndyl UT\\'\\'Amarillo-English...\\'\\'Poix-de-Picardie\\'\\'Newark NJ\\'\\'Eugene OR\\'\\'Bakersfield CA\\'\\'Virginia Beach VA\\'\\'\\' Diksmuide\\'\\'\\' Neodesha KS\\'\\'Zechliner HÃ¼tte\\'\\'Hempstead-Roosev...\\'\\'\\' Valencia\\'\\'\\' Quay NM\\'\\'Managua\\'\\'\\' Beauvais\\'\\'\\' Kharkov\\'\\'LeÃ³n\\'\\'Corbigny\\'\\'ToncontÃ\\\\xadn\\'\\'Gliwice\\'\\'Lima-Limatambo A...\\'\\'Croydon\\'\\'\\' Livingston Manor...\\'\\'Camp Skeel Osco...\\'\\'Junin\\'\\'Columbus OH\\'\\'Lima OH\\'\\'Wurmlingen/Tuttl...\\'\\'Cochrane WI\\'\\'Aston Clinton B...\\'\\'Irapuato\\'\\'\\' Wilsons Promonto...\\'\\'Flat Airport AK...\\'\\'La Ceiba Airport...\\'\\'Gross-Rackitt P...\\'\\'\\' Ilfracombe QLD\\'\\'\\' Palma Soriano\\'\\'Buffalo NY\\'\\'\\' Rutbah Wells\\'\\'\\' Wilmurt NY\\'\\'Boca Chica Tama...\\'\\'Atlanta GA\\'\\'\\' Szczecin\\'\\'\\' Brilon\\'\\'\\' Hallgarten\\'\\'Gadsden AL\\'\\'\\' Atlanta MO\\'\\'Lake Izabal\\'\\'Moscow\\'\\'Flint-Bishop Air...\\'\\'Marsaxlokk Bay\\'\\'MedellÃ\\\\xadn-Enriqu...\\'\\'\\' MahÃ³n Menorca\\'\\'Bushehr (Bushire...\\'\\'Pian San Giacomo\\'\\'HanskÃ¼hnenburg\\'\\'Murfreesboro TN\\'\\'\\' Albuquerque NM\\'\\'\\' Flinders Island ...\\'\\'Great Salt Lake UT\\'\\'Troy NY\\'\\'Zwettl\\'\\'Hankow\\'\\'Brussel-Haren Ai...\\'\\'\\' Jutiapa\\'\\'Brindisi\\'\\'IlhÃ©us BA\\'\\'Lake Salisbury\\'\\'Tatsfield\\'\\'\\' Auxerre\\'\\'Lima\\'\\'\\' Alexandria\\'\\'Goodwin AR\\'\\'\\' Tres Esquinas Ai...\\'\\'\\' Cochabamba\\'\\'ZÃ¼rich-DÃ¼bendo...\\'\\'\\' Zigong\\'\\'Saualpe\\'\\'\\' Amecameca de JuÃ...\\'\\'Nanking Airport ...\\'\\'\\' Fairchance PA\\'\\'Port of Spain\\'\\'Orvin (Ilfingen)\\'\\'\\' Elburg\\'\\'\\' Algerian coast\\'\\'\\' Chicago Municipa...\\'\\'Mount Lihesten ...\\'\\'Mersa Matruh Air...\\'\\'Terre Haute-Hulm...\\'\\'Oberhof\\'\\'Dessau\\'\\'CopiapÃ³ Airport...\\'\\'Hundred WV\\'\\'\\' Altenkirchen\\'\\'Glendale-Grand C...\\'\\'Biarritz Parme A...\\'\\'La Rochelle-Lago...\\'\\'Mirabella Bay C...\\'\\'London-Gatwick A...\\'\\'Frankfurt\\'\\'\\' Benghazi\\'\\'Delhi\\'\\'\\' San JosÃ© Pinula\\'\\'\\' Tabarz\\'\\'\\' Madrid\\'\\'\\' Algordon\\'\\'\\' Lauf an der Pegnitz\\'\\'Pound Hill Tilg...\\'\\'\\' Cuatro Vientos\\'\\'\\' Hannover\\'\\'Le Grand-Bornand\\'\\'\\' Serranillos Ã\\\\x81vila\\'\\'LeÃ³n Airport\\'\\'\\' Milford PA\\'\\'Chengtu\\'\\'Mirabello Bay C...\\'\\'\\' Nanking Airport ...\\'\\'Pias\\'\\'Sioux City IA\\'\\'\\' Oran-es Senia Ai...\\'\\'\\' San Francisco Mu...\\'\\'Jarama\\'\\'Atlanta Municipa...\\'\\'Guadalajara\\'\\'Elsdorf\\'\\'\\' Ouroux\\'\\'\\' Clifton PA\\'\\'Valencia\\'\\'unknown\\'\\'Lake Spenard AK\\'\\'\\' McNary AZ\\'\\'Santander-La Alb...\\'\\'Liegnitz\\'\\'\\' Clay Springs AZ\\'\\'Belleville IL\\'\\'Karachi\\'\\'\\' Ancud\\'\\'Johannesburg/Ger...\\'\\'\\' Beert\\'\\'Kunming\\'\\'\\' CristÃ³bal\\'\\'Wadi Halfa Airpo...\\'\\'\\' Herina Bistrita...\\'\\'Chilang Point B...\\'\\'Daytona Beach Mu...\\'\\'Fairbanks AK\\'\\'\\' San Luis SL\\'\\'SariÃ±ena (Huesca)\\'\\'New York-Floyd B...\\'\\'\\' Puerto Cabezas\\'\\'Faliro Bay\\'\\'Palembang-Talang...\\'\\'\\' Knight WY\\'\\'Tutow\\'\\'\\' El Jadida\\'\\'\\' Stene Airfield\\'\\'Pirin Mountains\\'\\'Roggentin\\'\\'MÃ¼nchen\\'\\'\\' Saint-Sauveur\\'\\'\\' Sorata\\'\\'\\' Frankfurt\\'\\'\\' Bozeman MT\\'\\'\\' Pago Pago Ameri...\\'\\'Barcelona\\'\\'\\' San Clemente Isl...\\'\\'Ã\\\\x89tang de Berre\\'\\'\\' Sardinia Italy\\'\\'\\' Pontoise\\'\\'Barcelona-El Pra...\\'\\'\\' Wawona CA\\'\\'Datia Madhya Pr...\\'\\'Buhkta Teplits\\'\\'French PyrÃ©nÃ©es\\'\\'\\' NyÃ\\\\xadregyhÃ¡za\\'\\'\\' Venezia Lido Air...\\'\\'\\' Kingston\\'\\'Maranola Formia\\'\\'\\' QuibdÃ³\\'\\'\\' Saugus CA\\'\\'Domeyko\\'\\'Santos Airport ...\\'\\'\\' Cleveland Munici...\\'\\'Mt Mercedario\\'\\'Cerro Chilligua\\'\\'Maxwell Field M...\\'\\'Billings Municip...\\'\\'\\' Terranova Sardi...\\'\\'MorÃ³n BA\\'\\'Wuhan (Hankow)\\'\\'Negrileasa Stul...\\'\\'\\' Kisumu\\'\\'\\' Manila Philippines\\'\\'\\' Debrecen Airport...\\'\\'Mankato MN\\'\\'Oberkirch\\'\\'Guanabara Bay\\'\\'Bucharest-Baneas...\\'\\'Mornago (Varese)\\'\\'Wangmoon\\'\\'Big Prairie MT\\'\\'Melilla\\'\\'Angle Bay Milfo...\\'\\'Frankfurt Rhein-...\\'\\'Grisons (GraubÃ¼...\\'\\'Coruripe AL\\'\\'Soest\\'\\'\\' Montgomery Munic...\\'\\'Powellsville NC\\'\\'Mt Dandenong VIC\\'\\'Jersey-States Ai...\\'\\'Fukuoka\\'\\'Amsterdam-Schiph...\\'\\'Honolulu Harbour...\\'\\'\\' Regina Airport ...\\'\\'Walton Bay Some...\\'\\'\\' Winklern\\'\\'\\' Bayreuth\\'\\'Bathurst (Banjul)\\'\\'Lake Habbaniyah\\'\\'\\' Point Reyes CA\\'\\'\\' Vienna\\'\\'Bangkok\\'\\'\\' Manila\\'\\'\\' Kerama Islands\\'\\'Tsingtao (Quingd...\\'\\'Quito-Cotocollao...\\'\\'Miles City Munic...\\'\\'Rio Bonito RJ\\'\\'Lydda Airport (TLV)\\'\\'\\' Sumapaz\\'\\'\\' Katherine-Tindal...\\'\\'\\' Port Washington ...\\'\\'\\' Arrens\\'\\'VilajuÃ¯ga Airfield\\'\\'\\' Cartagena\\'\\'San Juan harbor\\'\\'Termes Ribi Com...\\'\\'Vancouver BC\\'\\'\\' Weining\\'\\'Tandjong Batavi...\\'\\'Sint-Stevens-Woluwe\\'\\'\\' Alder WA\\'\\'Oklahoma City Mu...\\'\\'Cabezabellosa C...\\'\\'Fukuoka Airport ...\\'\\'Tegucigalpa-Tonc...\\'\\'\\' El Carmen Santa...\\'\\'GroÃ\\\\x9fer Arbersee\\'\\'\\' Bollstadt/Amerdi...\\'\\'\\' UruyÃ©n\\'\\'Lumbo lagoon Il...\\'\\'\\' Argana\\'\\'San Diego-North ...\\'\\'Hanchung (Hanzho...\\'\\'Fukuoka dai-1 Ai...\\'\\'Chongqing Airpor...\\'\\'Alexandria\\'\\'Johore Straits\\'\\'Calcutta\\'\\'Hythe\\'\\'Kirby-in-Furness...\\'\\'Rangoon-Mingalad...\\'\\'Tivissa\\'\\'Saint-Sauveur L...\\'\\'\\' Rio de Janeiro-S...\\'\\'Glindow\\'\\'Hunding/Zueding\\'\\'Catterick RAF St...\\'\\'Wilhelmshaven-Reede\\'\\'Pembroke Dock RA...\\'\\'\\' Zinnitz\\'\\'Milford Haven in...\\'\\'\\' GroÃ\\\\x9fjena Naumb...\\'\\'Warsaw\\'\\'Sydney-Mascot Ai...\\'\\'Thomasdorf  \\'...\\'\\'\\' Wangerooge Nort...\\'\\'Isles of Scilly\\'\\'Gabode\\'\\'Plymouth Sound ...\\'\\'\\' OlÃ\\\\xadas\\'\\'Tiverton Devon\\'\\'\\' Lastras de Cuell...\\'\\'El Palomar BA\\'\\'\\' Cap Juby\\'\\'\\' Arbersee Bayeri...\\'\\'\\' Europa Point St...\\'\\'Heston Airport\\'\\'\\' Denpasar-Ngurah ...\\'\\'Carcross YT\\'\\'Diaoyu Dao Senk...\\'\\'Aiello Calabro\\'\\'\\' Prinzapolka\\'\\'San Isidro\\'\\'\\' Dibba Oman Gul...\\'\\'\\' Orange\\'\\'\\' San MartÃ\\\\xadn Volc...\\'\\'\\' Kavieng New Ire...\\'\\'Stromboli Island\\'\\'Bristol-Whitchur...\\'\\'Pittsburgh-Alleg...\\'\\'Meurcourt\\'\\'\\' Sylling\\'\\'\\' Tarm Vium church\\'\\'Oslo-Fornebu\\'\\'Einfeld\\'\\'NeumÃ¼nster\\'\\'Aalborg West Ai...\\'\\'Gullesfjordbotn ...\\'\\'Froysjoen Berle...\\'\\'Gangsoya Sogn o...\\'\\'Hartvikvatnet N...\\'\\'Lillehammer Opp...\\'\\'Valebu Ringebu ...\\'\\'Graberget Domba...\\'\\'River Vorma Min...\\'\\'Honefoss Ringer...\\'\\'Galderud Kongsv...\\'\\'Sivebo Grebbestad\\'\\'SamnerÃ¶d Uddev...\\'\\'Kvamen Sokndal ...\\'\\'Grums\\'\\'Lake VÃ¤nern Ma...\\'\\'\\' Tofte\\'\\'Langevannet Fos...\\'\\'ArbrÃ¥ BollnÃ¤s\\'\\'\\' Loch Lomond Sco...\\'\\'Oslo-Fornebu Air...\\'\\'Helsinki-Malmi A...\\'\\'Waalhaven\\'\\'Valkenburg\\'\"\\'s Gravenzande\"\\'Maassluis\\'\\'\\' Den Haag\\'\\'Tiel\\'\\'Ockenburg\\'\\'Rijksweg 13\\'\\'\\' Waalhaven\\'\\'Rotterdam - Den ...\\'\\'\\' Rotterdam\\'\\'Rotterdam\\'\\'\\' Delft\\'\\'Den Haag\\'\\'Loosduinen\\'\\'\\' Afferden\\'\\'Den Hout\\'\\'\\' Leiden\\'\\'Berkel en Rodenrijs\\'\\'Culemborg or Arnhem\\'\\'road Delft - Den...\\'\\'\\' Ypenburg\\'\\'Voorburg\\'\\'Delft\\'\\'Tongeren\\'\\'Chaumont\\'\\'Esneux\\'\"\\'t Woudt\"\\'RosiÃ¨re-la-Grande\\'\\'Ochten-IJzendoorn\\'\\'Renswoude\\'\\'Druten\\'\\'\\' Vlaardingen\\'\\'\\' Wassenaarse Slag\\'\\'Benschop\\'\\'Biesbosch\\'\\'Zevenbergsehoek\\'\\'Katwijk\\'\\'Blerick-Boekend\\'\\'Kanne\\'\\'Rijswijk\\'\\'\\' Den Bosch\\'\\'IJmuiden\\'\\'Horst\\'\\'Maastricht\\'\\'Vrusschenhuisken...\\'\\'Stolwijk\\'\\'Den Bosch\\'\\'Monster\\'\\'Wassenaarse Slag\\'\\'Kerk-Avezaath\\'\\'Wassenaar\\'\\'Delft - Den Haag...\\'\\'Berkel\\'\\'Veenendaal\\'\\'Valkenburg AB\\'\\'Moerdijk\\'\\'Witry\\'\\'Ypenburg\\'\\'Rozenburg\\'\\'Vroenhoven\\'\\'Alken\\'\\'Waardenburg\\'\\'\\' Zaltbommel\\'\\'Noordwijk aan Zee\\'\\'Schipluiden\\'\\'Brussels-Haren A...\\'\\'Bierset\\'\\'Barcelona Airpor...\\'\\'Ochamps\\'\\'\\' Pritchett CO\\'\\'Philippeville Ai...\\'\\'Kjerringvatnet ...\\'\\'Glasgow-Prestwic...\\'\\'Arques\\'\\'Merville Airport...\\'\\'Merville\\'\\'Lympne\\'\\'\\' Arques\\'\\'Bazargio-Dobruja\\'\\'Storfjellet Sal...\\'\\'Evenesdal Saltd...\\'\\'Jordbrufjellet ...\\'\\'Amot Osterdalen...\\'\\'Ulmet/Kusel\\'\\'Skotten seter R...\\'\\'\\' Los Angeles Muni...\\'\\'RiksgrÃ¤nsen Ki...\\'\\'\\' Koblenz\\'\\'\\' Charleville\\'\\'Mannheim Airport...\\'\\'Reinoksbreen Ko...\\'\\'\\' Keri Island Gul...\\'\\'\\' Ouistreham\\'\\'\\' Abentheuer/Hochw...\\'\\'Schiphol\\'\\'\\' Paris\\'\\'Bordeaux\\'\\'Gulf of Tonkin\\'\\'\\' Sumburgh Head U...\\'\\'Lee-on-Solent\\'\\'Bucharest-Baneasa\\'\\'Whitehorse BC\\'\\'Donibristle RAF ...\\'\\'\\' Dodoma\\'\\'Moresby Park Cu...\\'\\'\\' Novosibirsk\\'\\'\\' LÃ¤mershagen\\'\\'ReykjavÃ\\\\xadk RAF S...\\'\\'\\' Risculita\\'\\'\\' Lovettsville VA\\'\\'Drem\\'\\'Limavady RAF Sta...\\'\\'\\' Riga\\'\\'MÃ¡laga Airport ...\\'\\'\\' Pucklechurch Gl...\\'\\'Carnotville\\'\\'Gulf of Beauduc\\'\\'Soesterberg\\'\\'Rangoon ?\\'\\'\\' Kunming\\'\\'\\' Changyi\\'\\'Berlin-Tempelhof...\\'\\'\\' Strathie Point ...\\'\\'\\' Wick Scotland\\'\\'Watzmannkar\\'\\'\\' Centerville UT\\'\\'\\' RincÃ³n del Tigr...\\'\\'Brauna/SchÃ¶ntei...\\'\\'Botafogo Rio de...\\'\\'Nairobi\\'\\'Pembroke Dock\\'\\'Brest\\'\\'\\' Ordzhonikidze\\'\\'Whitchurch Airfield\\'\\'Milano-Linate Ai...\\'\\'\\' Cape Spartivento...\\'\\'Mount Batten\\'\\'\\' Quito\\'\\'Puntarenas\\'\\'Doncaster RAF St...\\'\\'Sullom Voe Shet...\\'\\'Puerto Nuevo BA\\'\\'Buenos Aires Har...\\'\\'Chengtu (Chengdu...\\'\\'Indochina\\'\\'BodÃ¸\\'\\'Hommelvik Seapla...\\'\\'Umbalkees Glacie...\\'\\'\\' San Diego-North ...\\'\\'\\' Mbeya\\'\\'Salt Lake City M...\\'\\'\\' Fernando de Noro...\\'\\'Catania-Fontanar...\\'\\'\\' NagyvÃ¡rad (Oradea)\\'\\'El Fasher\\'\\'within Jiangxi Province\\'\\'\\' Saint Louis Airp...\\'\\'Rhodos\\'\\'Sintra Air Base\\'\\'\\' Armstrong Airpor...\\'\\'Marble Creek\\'\\'Taohsien Hunan\\'\\'\\' Perugia\\'\\'River Tagus Lisbon\\'\\'Strait of Messina\\'\\'Scaramanga\\'\\'\\' Jonesboro GA\\'\\'Palma de Mallorca\\'\\'Hommelvik Bay\\'\"St. Paul\\'s Bay\"\\'Cincinnati Munic...\\'\\'\\' Begovat\\'\\'Borinquen AAF (BQN)\\'\\'Elands Bay West...\\'\\'Jijiga Air Base\\'\\'\\' Vero Beach FL\\'\\'\\' Alamicamba\\'\\'Leithagebirge\\'\\'Mannersdorf Lei...\\'\\'\\' Sallum\\'\\'VeszprÃ©m\\'\\'Deva Apuseni Mo...\\'\\'\\' RÃ\\\\xado Putumayo\\'\\'\\' Kumanovo\\'\\'south Karpathia\\'\\'LanghÃ³ll Fagra...\\'\\'Cape Town-Wingfi...\\'\\'Kalafrana Bay\\'\\'Iris Sea\\'\\'Marsaxlokk\\'\\'Athens-Tatoi Air...\\'\\'\\' Alikarnassos Ir...\\'\\'Chania-Alikianu\\'\\'Kalamos Tanagra\\'\\'Corinth\\'\\'Tatoi\\'\\'BelÃ©m PA\\'\\'KlÃ¼tzow\\'\\'Dodo River\\'\\'Yoakum TX\\'\\'Minna\\'\\'Bucharest\\'\\'\\' Popton Point Mi...\\'\\'\\' Pasenow\\'\\'Rio de Janeiro-S...\\'\\'Tonnolfjellet O...\\'\\'Fiskviksaetra S...\\'\\'Pskov-Kresty\\'\\'Vayenga\\'\\'BudaÃ¶rs Airport\\'\\'SkerjafjÃ¶rdur\\'\\'\\' Lipetsk ?\\'\\'North Atlantic\\'\\'within Russia\\'\\'Rogachov Gomel ...\\'\\'Luga district L...\\'\\'Velikiye Luki Ai...\\'\\'\\' Cruach na Seilch...\\'\\'Chkalovsky Airpo...\\'\\'Yelnya district ...\\'\\'Dayton-Wright Pa...\\'\\'\\' Nikolayev\\'\\'Lake Sig Tver r...\\'\\'\\' Punta Chame\\'\\'Lake Sabro Osta...\\'\\'Vyazma\\'\\'Roma-Lido di Ost...\\'\\'Vyazma Airport\\'\\'\\' Libyan coast Me...\\'\\'Riga-Spilve Airport\\'\\'Bathurst-Jeswang...\\'\\'\\' Uman\\'\\'Khartoum\\'\\'Pensacola Bay FL\\'\\'Moskva-Vnukovo A...\\'\\'Bereznegovatoye\\'\\'\\' Voymark\\'\\'Palanquero AFB (...\\'\\'\\' Hindelopen (IJss...\\'\\'\\' SÃ£o Paulo SP\\'\\'\\' Yastrebovo Naro...\\'\\'Cuzco\\'\\'Langendiebach Ai...\\'\\'\\' Tarapaca\\'\\'\\' Kizyl-Arvat\\'\\'SeydisfjÃ¶rdur\\'\\'\\' Marseille-Marign...\\'\\'\\' Leningrad\\'\\'Freetown-Hasting...\\'\\'\\' Starodub Bryans...\\'\\'Yedrovo\\'\\'\\' Akranes TeigavÃ¶r\\'\\'between St. Eust...\\'\\'Challhuani Range...\\'\\'\\' Latva\\'\\'Vyazma-Dvoyevka\\'\\'Homlafossen Dol...\\'\\'\\' Kozelsk\\'\\'\\' Moscow\\'\\'Tikhvin\\'\\'\\' Sevsk\\'\\'Kursk area\\'\\'\\' Dmitrovsk\\'\\'\\' Medyn Smolensk ...\\'\\'\\' Sevsk Oryol region\\'\\'Mozhaysk\\'\\'\\' Gorlovo Medyn d...\\'\\'Batavia\\'\\'\\' Ladoga\\'\\'\\' Chornoye\\'\\'Gabrene Petrich\\'\\'Pensacola NAS F...\\'\\'Karachi-Drigh Ro...\\'\\'Argentia NAS NL...\\'\\'Little Wau Creek\\'\\'Shibenets\\'\\'\\' Golodyayevka\\'\\'Moorhead MN\\'\\'\\' St. Thomas ON\\'\\'Risvik Salsbruk...\\'\\'\\' Turku Gulf of F...\\'\\'Halifax harbor NS\\'\\'Invergordon RAF ...\\'\\'Inhambane Airpor...\\'\\'\\' Akchernya\\'\\'Leningrad-Komend...\\'\\'\\' Wichita Falls TX\\'\\'Podborovye Airfield\\'\\'Novaya Ladoga\\'\\'\\' Leningrad-Komend...\\'\\'Lydda\\'\\'Kjevik Airfield ...\\'\\'Saratov Airport ...\\'\\'Lake Ladoga\\'\\'\\' Tendrovskaya (Oc...\\'\\'Arzberg Ell...\\'\\'\\' Carrowmore ...\\'\\'Tandjong Pandan\\'\\'\\' Saratov Airport ...\\'\\'Ford Island NAS ...\\'\\'Hong Kong-Kai Ta...\\'\\'Western desert\\'\\'\\' LG-138\\'\\'\\' Port Moresby\\'\\'\\' Khvoinaya Airport\\'\\'Kweilin (Guilin)\\'\\'\\' Moskva-Khodynka ...\\'\\'Mount Batten RAF...\\'\\'\\' Khvoinaya\\'\\'\\' Tobruk (Tubruq)\\'\\'\\' Winterset IA\\'\\'\\' Dmitriyevka\\'\\'Tympakiou Crete\\'\\'Medan-Polonia Ai...\\'\\'\\' Sabang\\'\\'\\' Chardzhou Airpor...\\'\\'Darmo Surabaya\\'\\'Creta\\'\\'Galapagos Island\\'\\'\\' Kema\\'\\'Pearl Harbor NAS...\\'\\'\\' Smelovka\\'\\'Selma-Craig Fiel...\\'\\'\\' Odessa\\'\\'KÃ¸benhavn-Kastr...\\'\\'Fossvogur\\'\\'Kavieng Harbour\\'\\'Stranraer Kirkc...\\'\\'\\' Las Vegas NV\\'\\'\\' Vyazma Smolensk...\\'\\'South Yell Shet...\\'\\'Salamaua Airfield\\'\\'Bulolo Airport (...\\'\\'\\' Salamaua\\'\\'Salamaua\\'\\'Plesnevo Smolen...\\'\\'Vyazma district ...\\'\\'Yudino Temkinsk...\\'\\'\\' Samarinda Dutch...\\'\\'\\' Molotov Airport ...\\'\\'Zhashkovo distri...\\'\\'\\' Flores Island\\'\\'\\' Zhashkovo Kalug...\\'\\'\\' Przemysl\\'\\'Peremyshl-Zhashkovo\\'\\'\\' Krivoy Rog\\'\\'Alameda NAS CA ...\\'\\'Pacific\\'\\'\\' Timor\\'\\'\\' Australian coast\\'\\'Yangon-Mingalado...\\'\\'\\' Villavicencio\\'\\'Kalinin region ?\\'\\'Bathurst Island NT\\'\\'\\' Rosann Point Do...\\'\\'between Juchnow ...\\'\\'\\' Cairns Airport ...\\'\\'\\' Karachev\\'\\'Elk Horn Mountai...\\'\\'Kaneohe Bay HI\\'\\'Hendon Airport (...\\'\\'Darwin NT\\'\\'\\' Melville Island NT\\'\\'Aleutians AK\\'\\'Semplak\\'\\'Brisbane-Archerf...\\'\\'\\' Brisbane-Archerf...\\'\\'Oregon Inlet NC\\'\\'Tanjung Priok NAS\\'\\'\\' Rabaul\\'\\'Cholm Air Base\\'\\'Wiesciszowice\\'\\'\\' Truscott WA\\'\\'Tanjung Batu Du...\\'\\'\\' Sumatra\\'\\'La MÃ¡sica Mts ...\\'\\'Townsville SPB QLD\\'\\'\\' Porto Alegre Air...\\'\\'\\' Cilacap Java I...\\'\\'Chittagong Airpo...\\'\\'Detroit City Air...\\'\\'Broome Airport ...\\'\\'Broome WA\\'\\'Carnot Bay WA\\'\\'RAAF Broome Harb...\\'\\'Gryadki\\'\\'Gryadki Smolens...\\'\\'\\' Port Sewall FL\\'\\'Corpus Christi TX\\'\\'Tongue Point OR\\'\\'Khartoum-Civil A...\\'\\'\\' Kunming Airport ...\\'\\'Ogden-Hill Field...\\'\\'SÃ£o Paulo-Congo...\\'\\'Klinserschlucht ...\\'\\'\\' Medyn\\'\\'Port Darwin NT\\'\\'\\' Porchov\\'\\'Katherine River NT\\'\\'\\' Iceland\\'\\'\\' Sicily\\'\\'\\' Taiwan\\'\\'\\' \" Makapu\\'u HI\"\\'Maaten Bagush\\'\\'Livermore Valley...\\'\\'\\' Livermore CA\\'\\'Akyab Main RAF S...\\'\\'Unknown\\'\\'\\' Metz MO\\'\\'Geraldton Airpor...\\'\\'Cairo-Heliopolis...\\'\\'\\' Pine Creek NT\\'\\'\\' Fayetteville-Pop...\\'\\'FÃ¼rstenwalde\\'\\'Breitind Reipa ...\\'\\'Dutch Harbor NAS...\\'\\'Ogden-Hill AAF ...\\'\\'St. Lucia\\'\\'\\' Ajdabiya\\'\\'\\' Salt Lake City M...\\'\\'Vypolzovo Kalin...\\'\\'Pearl Harbor HI\\'\\'Bougainville Island\\'\\'\\' Misima Island C...\\'\\'Myitkyina Airpor...\\'\\'Myitkyina\\'\\'\\' Guidonia Montecelio\\'\\'Miles City MT\\'\\'\\' Kordon Visim-Sh...\\'\\'between Malemes ...\\'\\'Malta-Luqa Airpo...\\'\\'Harbke  Hel...\\'\\'\\' Saint Lucia\\'\\'Tamalkipas\\'\\'Roma-Urbe Airport\\'\\'Fugloy Gildeska...\\'\\'\\' Alice Springs N...\\'\\'Johnston Island ...\\'\\'\\' Fish River\\'\\'South Pacific\\'\\'\\' Mare Island CA ...\\'\\'\\' Half Moon Bay CA\\'\\'Gulf of Mexico\\'\\'Kubinka\\'\\'\\' Newfoundland Ca...\\'\\'Key West NAS FL...\\'\\'West Orange NJ\\'\\'South Atlantic\\'\\'Leningrad\\'\\'\\' Corpus Christi ...\\'\\'Maxaranguape RN\\'\\'Zuts\\'\\'Kiska Volcano AK\\'\\'Kolar\\'\\'Vyazma area Smo...\\'\\'Parkes Airport ...\\'\\'Pacific Ocean\\'\\'Honolulu-John Ro...\\'\\'Takla Lake BC\\'\\'\\' Yelets\\'\\'Trinidad\\'\\'\\' Skredewick\\'\\'Camp Williams WI\\'\\'Siwa Airport (SEW)\\'\\'\\' Proschorowka\\'\\'\\' Ivantsevo Molvo...\\'\\'\\' Dutch Harbor AK...\\'\\'Welon WV\\'\\'Sevastopol-Khers...\\'\\'\\' Port-Ã\\\\x89tienne Ai...\\'\\'Khlevnoye Lipet...\\'\\'Khlevnogo distri...\\'\\'\\' Bell Rock Scotland\\'\\'\\' ??Yelets\\'\\'Novokhopersk Vo...\\'\\'\\' Alaska\\'\\'between Townsvil...\\'\\'\\' Bangalore\\'\\'Fort Worth-Meach...\\'\\'\\' Egyptian coast\\'\\'\\' Paskovayka Stal...\\'\\'Dutch Harbor AK\\'\\'Langfjorden Alt...\\'\\'Espiritu Santo\\'\\'\\' Santa Cruz Islan...\\'\\'Cape Korrishka AK\\'\\'Stalingrad Airpo...\\'\\'\\' Brest France\\'\\'\\' Algiers\\'\\'Verkhnyaya Akhtuba\\'\\'\\' Zhirkov\\'\\'Cape Charles VA\\'\\'\\' Garnet Peak MAÂ\\'\\'Port Moresby\\'\\'\\' Sierra Leone\\'\\'Port Moresby-Sev...\\'\\'Coco Solo Manza...\\'\\'Manzanillo Bay\\'\\'\\' Gibraltar-North ...\\'\\'\\' Port of Spain-Pi...\\'\\'Moel-y-Gaer Moun...\\'\\'\\' Dahlgren VA\\'\\'Tashkent Airport...\\'\\'\\' Dunbeath Scotland\\'\\'\\' Youngsville LA\\'\\'\\' Kholokholnya St...\\'\\'Bay of Biscay\\'\\'Washington-Bolli...\\'\\'Amlia Island AK\\'\\'Nuevo Laredo\\'\\'\\' Abu Qir\\'\\'Big Springs Golf...\\'\\'Adana\\'\\'Cochin Airport (...\\'\\'Fayetteville-Pop...\\'\\'Bilbeis RAF Station\\'\\'\\' Blairstown NJ\\'\\'Great Exuma NAS\\'\\'\\' Jan Mayen\\'\\'between Kunming ...\\'\\'\\' \" M\\'bour Senegal\"\\'Lahore Airport (...\\'\\'Ameur-el-AÃ¯n\\'\\'Pedra Branca SP\\'\\'Atka Airport AK...\\'\\'\\' Mersa Matruh\\'\\'\\' Coamo\\'\\'Botwood Seaplane...\\'\\'Rockhampton Airp...\\'\\'within New Caledonia\\'\\'Dinjan Airport\\'\\'\\' Bodinumu\\'\\'Fort Randall AKÂ\\'\\'Corpus Christi N...\\'\\'\\' Bukovac\\'\\'\\' Tanndorf\\'\\'\\' Palm Springs CA\\'\\'Mediterranean Sea\\'\\'between Maleme a...\\'\\'Overlihogda Rin...\\'\\'Laverton Airport...\\'\\'Cebu Island\\'\\'Mullins SC\\'\\'Longue-Pointe-de...\\'\\'Monte Calino\\'\\'\\' Allahabad\\'\\'\\' Kansas City MO\\'\\'East Coast\\'\\'Rendalen Hedmark\\'\\'\\' Natunga\\'\\'\\' ReykjavÃ\\\\xadk\\'\\'Lurnea Siding Ai...\\'\\'\\' Memphis TN\\'\\'Wallis Island\\'\\'\\' Spain\\'\\'Sebkra\\'\\'\\' Crete\\'\\'EspirÃ\\\\xadtu Santo\\'\\'Mount Obree\\'\\'\\' Lockhart SC\\'\\'Gibraltar-North ...\\'\\'Las Palmas\\'\\'\\' Lisbon Portugal\\'\\'\\' Cooktown QLD\\'\\'Plymouth Sound\\'\\'Masfjord Hordaland\\'\\'Casablanca\\'\\'Lake Washington WA\\'\\'\\' Trapani\\'\\'between Tunis an...\\'\\'\\' Kazanlak\\'\\'between Tunisia ...\\'\\'\\' Milano\\'\\'Algiers-Maison B...\\'\\'\\' Dali Yunnan Pro...\\'\\'Krasnoyarsk Airp...\\'\\'Pinto Magdalena\\'\\'Addis Ababa Airp...\\'\\'TÃ©bessa Airport...\\'\\'Makiivka  S...\\'\\'Popondetta\\'\\'Billings MT\\'\\'Chalkis Euboea ...\\'\\'Clinton MD\\'\\'Myola Lake\\'\\'Mallacoota Airpo...\\'\\'\\' St. Annes Head ...\\'\\'St Joseph MOÂ\\'\\'Exmouth WA\\'\\'\\' Oahu Island HI ...\\'\\'\\' Invergordon Ros...\\'\\'\\' Dobodura\\'\\'\\' Iliamna Lake AK\\'\\'Bethel CT\\'\\'Mocta Douz\\'\\'Buna\\'\\'Durban\\'\\'\\' Montgomery-Maxwe...\\'\\'within Texas\\'\\'Mount Menshy Brat\\'\\'\\' Ascension Island\\'\\'Madrid-Barajas A...\\'\\'West Palm Beach-...\\'\\'\\' Louisville IN\\'\\'\\' Mokapuu Point HI\\'\\'\\' Australia\\'\\'\\' Natal Brazil\\'\\'\\' Tashkent\\'\\'\\' Fairfield UT\\'\\'Blythe AAB CAÂ\\'\\'\\' Wien-Aspern Airport\\'\\'\\' Kisumu Airport (...\\'\\'\\' Vancouver BC\\'\\'New York-La Guar...\\'\\'\\' Yanaul\\'\\'\\' Fairfield CA\\'\\'\\' ReykjavÃ\\\\xadk/Kefla...\\'\\'Omagh Reaghan ...\\'\\'\\' Heceta Head OR\\'\\'Pitomnik\\'\\'\\' Dno\\'\\'\\' Bangui\\'\\'\\' Port Said\\'\\'Sebring-Hendrick...\\'\\'\\' Heliopolis\\'\\'Ostrow\\'\\'Jacksonville FL\\'\\'Chabua Airfield\\'\\'\\' Gander Lake NL\\'\\'Pitomnik Airfiel...\\'\\'Cooktown Airport...\\'\\'\\' Pantelleria\\'\\'Tagus River off...\\'\\'\\' Stalingrad-Pitom...\\'\\'\\' Gibbs Hill Light...\\'\\'between Tontouta...\\'\\'\\' Tezpur Airport (...\\'\\'Port Moresby-War...\\'\\'\\' Perth WA\\'\\'Aguelhok\\'\\'Reykjavik Airfield\\'\\'\\' Paramaribo\\'\\'Biskra Airport (...\\'\\'\\' Tunis\\'\\'Palo Seca\\'\\'\\' Brunswick GA USA\\'\\'Alness nr. Inve...\\'\\'Elizabeth City NC\\'\\'Tunis - Trapani\\'\\'\\' Wau Airport (WUG)\\'\\'\\' Gumrak\\'\\'\\' Ukiah CA\\'\\'\\' Austin-del Valle...\\'\\'\\' Flagstaff AZ\\'\\'Western Approaches\\'\\'\\' Chaparra\\'\\'Tunis Airport\\'\\'Laurinburg-Maxto...\\'\\'\\' Myakinino\\'\\'\\' Black Rock Isle...\\'\\'Sookerating\\'\\'Greenland ice cap\\'\\'\\' Venice Airport (...\\'\\'\\' Castaic CAÂ\\'\\'northeastern Burma\\'\\'\\' Fort St. John BC\\'\\'Lake Ponchartrai...\\'\\'\\' Wau\\'\\'\\' Canton Island Ai...\\'\\'Whidbey Island-N...\\'\\'Austin-del Valle...\\'\\'\\' Zaragoza Nuevo ...\\'\\'\\' Dalhart TX\\'\\'Canton Island Ai...\\'\\'\\' Bom Jesus da Lap...\\'\\'\\' Chungking\\'\\'San Francisco Ba...\\'\\'Asmara\\'\\'\\' Takoradi\\'\\'Pisarevka village\\'\\'\\' Atella\\'\\'\\' Lisboa\\'\\'\\' Enterprise UT\\'\\'\\' Cairo\\'\\'\\' Colorado Springs...\\'\\'Gaeidnugaissa T...\\'\\'Lekvattnet ...\\'\\'\\' Townsville QLD\\'\\'\\' Cairns QLD\\'\\'\\' Trondheim/Hommel...\\'\\'Mount Ketan-Dag\\'\\'\\' Sol-Iletsk\\'\\'Berdigestyakh G...\\'\\'\\' Leixoes (Porto)\\'\\'Fort Hertz\\'\\'\\' Gasmata\\'\\'\\' Bataisk Airfield...\\'\\'\\' Narsarsuaq\\'\\'\\' Lake Becharof AK\\'\\'\\' Luishui\\'\\'Mechanicsburg PA\\'\\'Whidbey Island-A...\\'\\'\\' Skindewai\\'\\'\\' Fort Hertz\\'\\'Lubbock-South Pl...\\'\\'\\' Kunming-Wujiaba ...\\'\\'Dobodura Airfield\\'\\'Patkai Range\\'\\'El Fasher Airpor...\\'\\'Montesquieu\\'\\'Jacksonville NAS...\\'\\'Noffution North\\'\\'\\' Melbourne-Essend...\\'\\'Poole Seaplane Base\\'\\'Attu Island-Casc...\\'\\'Poole Harbour D...\\'\\'\\' Gavutu Island\\'\\'Agartala Air Bas...\\'\\'Somaliland\\'\\'\\' Oliver Springs TN\\'\\'\\' BÃ©ziers\\'\\'\\' Johnston Island ...\\'\\'Albemarle Sound NC\\'\\'Donibristle RNAS\\'\\'Gabes airfield\\'\\'\\' Victorville AAF ...\\'\\'Stuttgart AAF AR\\'\\'\\' Flemington NJ\\'\\'NAS Trinidad\\'\\'\\' Copalis Beach WA\\'\\'\\' Skagen Denmark ...\\'\\'Whitchurch\\'\\'\\' Minzong\\'\\'\\' Vougo Normandy\\'\\'Gulf of Carpenta...\\'\\'\\' Tezu\\'\\'Rathmines NSW\\'\\'Hkashang Ga\\'\\'Khartoum-Wadi Se...\\'\\'Cairns Harbour QLD\\'\\'\\' Sedalia Army Air...\\'\\'Burtonwood\\'\\'Sedalia Army Air...\\'\\'Kunming-Wujiaba ...\\'\\'Cape Bon\\'\\'Evansville-Dress...\\'\\'Havana-Rancho Bo...\\'\\'\\' Latti Arunachal...\\'\\'between Towsvill...\\'\\'Kansas City MO\\'\\'\\' Aita\\'\\'Tontouta Bay\\'\\'Guadalcanal\\'\\'\\' Oakland CA\\'\\'Carthage\\'\\'\\' Cefalu Sicily\\'\\'Dmitrovskoye sho...\\'\\'\\' Freetown Sierra...\\'\\'Waller Field\\'\\'Mukilteo WA\\'\\'Jorhat\\'\\'\\' Mobile-Brookley ...\\'\\'\\' NAS Corpus Chris...\\'\\'Gander-RCAF Stat...\\'\\'Amchitka AK\\'\\'\\' Great Inagua Ba...\\'\\'Tunis-Carthage A...\\'\\'between Yangkai ...\\'\\'\\' Oklahoma City-Ti...\\'\\'St. Johns River FL\\'\\'\\' Gander Airport ...\\'\\'\\' Makapuu Point HI\\'\\'\\' Myola Lake Owen...\\'\\'Lough Neagh Nor...\\'\\'\\' Morganton NC\\'\\'\\' Guadalcanal\\'\\'\\' Adak AK\\'\\'\\' Sitka NAS AK\\'\\'Bone\\'\\'Gyulaj\\'\\'\\' Paramaribo-Zande...\\'\\'Macon GA\\'\\'\\' Sochi\\'\\'Atka AK\\'\\'Innismackill Isl...\\'\\'\\' Port Stephens NSW\\'\\'Luluk Bay AK\\'\\'Saratov-Zavodsko...\\'\\'\\' Clare Island Cl...\\'\\'\\' Karachi\\'\\'between Castelve...\\'\\'\\' Hal Assini\\'\\'\\' Denver CO\\'\\'Bay of Biscaye ...\\'\\'\\' Uelkal Chukotka\\'\\'Caracas-MaiquetÃ...\\'\\'Angle Airport\\'\\'Yegoryevsk\\'\\'Kunming Airport ...\\'\\'Wickford Harbor ...\\'\\'\\' La CoruÃ±a Spai...\\'\\'Thiersville Airf...\\'\\'Praa Sands Sout...\\'\\'\\' Bryansk\\'\\'\\' Zezevitovo\\'\\'Molotov (PEE)\\'\\'\\' Fiji\\'\\'\\' St. Kilda Scotl...\\'\\'between Tihwa (U...\\'\\'\\' Laurinburg-Maxto...\\'\\'St. Lucia Bay\\'\\'Manitou KY\\'\\'\\' Noumea-Tontouta ...\\'\\'Bowling Green Mu...\\'\\'\\' Magadan-13 Airport\\'\\'\\' Algeciras\\'\\'\\' Yanchi\\'\\'North Atlantic ...\\'\\'\\' Finisterre Spain\\'\\'Zhizdra district...\\'\\'\\' Maksatikh Tver ...\\'\\'Whitehorse YT\\'\\'Monrovia-Roberts...\\'\\'\\' Turmasovo\\'\\'Biscayne Bay FL\\'\\'Yunnanyi\\'\\'Charters Towers ...\\'\\'Boxted\\'\\'\\' Jacksonville-NAS...\\'\\'St Lucia Bay\\'\\'\\' Olsufyevo\\'\\'\\' Olsufyevo Oryol...\\'\\'Springfield IL\\'\\'\\' Hathungo\\'\\'\\' San CristÃ³bal I...\\'\\'Wichita-Municipa...\\'\\'Georgetown-Widea...\\'\\'Lough Erne\\'\\'\\' Khartoum\\'\\'Gorodetz\\'\\'between Tezpur a...\\'\\'\\' Dutch Harbor NAS...\\'\\'between Yunnanyi...\\'\\'Exmouth Gulf WA\\'\\'Mobile Bay FL\\'\\'\\' St-Nazaire\\'\\'Loch Tarbert Ki...\\'\\'Waccamaw Lake W...\\'\\'Marrakech-Menara...\\'\\'Damaturu\\'\\'\\' Gibraltar\\'\\'\\' Dayton-Wright Pa...\\'\\'Grenada AAB MS\\'\\'\\' Gela Sicily\\'\\'Monroe-Selman AA...\\'\\'\\' Chebba Tunisia\\'\\'Sicily\\'\\'\\' Hemingford NE\\'\\'\\' Trinidad-Waller ...\\'\\'\\' Scoglitti Sicily\\'\\'Dunnellon AAF FL\\'\\'\\' Tunis-El Aouina ...\\'\"Pantano D\\'Arcia ...\"\\'Sanpiero-Licata ...\\'\\'Scoglitti Sicily\\'\\'Tulagi Harbor\\'\\'between Mohanbar...\\'\\'\\' Catania Sicily\\'\\'Tezpur\\'\\'\\' Alliance AAF NE...\\'\\'\\' Shannon-Rinneann...\\'\\'\\' Hilo NAS HI\\'\\'\\' Grenada AAF MS\\'\\'\\' Vella Lavella\\'\\'Osipovka\\'\\'\\' Lincoln AB NE\\'\\'\\' Corfu Island\\'\\'Minna Airport (MXJ)\\'\\'\\' Nassau Bay\\'\\'\\' Sardinia\\'\\'Columbus-Muscoge...\\'\\'Manaus AM\\'\\'\\' Naknek AAB AK\\'\\'Masirah Island\\'\\'Hope Mills NCÂ\\'\\'\\' Trammel KY\\'\\'\\' Brandon village ...\\'\\'Kelly Field TX\\'\\'San CristÃ³bal I...\\'\\'Denny Island BC\\'\\'\\' Zhukovka Mogily...\\'\\'Taylor Field FL\\'\\'\\' Lahe Nanyon\\'\\'Thermal AAF CA\\'\\'\\' Rock Falls IA\\'\\'\\' Yunnanyi\\'\\'\\' Whenuapai Air Base\\'\\'Chirdwin Valley\\'\\'Duross Point Lo...\\'\\'Homestead AAF F...\\'\\'\\' Balashov Airfield\\'\\'\\' Donli Arunachal...\\'\\'\\' Terapo\\'\\'\\' Tsili Tsili\\'\\'Fort Hertz valley\\'\\'Pleuven\\'\\'Tisina Kaptolska...\\'\\'Bay of Bisay\\'\\'\\' Rhodes\\'\\'within Myanmar\\'\\'Tsili Tsili\\'\\'Las Cruces Munic...\\'\\'New Guinea\\'\\'Mowting\\'\\'Tallahassee FL\\'\\'Nashville Metrop...\\'\\'\\' Bowen QLD\\'\\'Hampstead NH\\'\\'\\' Akhtyrka\\'\\'\\' Rechitsa Gomel ...\\'\\'Djerba\\'\\'Mount Brandon C...\\'\\'Bay of Salerno\\'\\'Miami-36th Stree...\\'\\'Long Island Dorset\\'\\'\\' Calcutta\\'\\'Cape Agulhas\\'\\'Pensacola FL\\'\\'Keystone Army Ai...\\'\\'Port of Spain-Pi...\\'\\'\\' Garland NC\\'\\'Guadalcanal Airp...\\'\\'\\' Hirsthals Denma...\\'\\'\\' Winima\\'\\'\\' Egvekinot\\'\\'\\' Sulawesi\\'\\'\\' Lviv\\'\\'\\' Pantelleria Island\\'\\'Kansas City-Fair...\\'\\'\\' Saint Joseph-Ros...\\'\\'\\' Sedalia MO\\'\\'\\' EspirÃ\\\\xadtu Santo\\'\\'\\' Kea\\'\\'Nashville AAF T...\\'\\'\\' Accra Airport\\'\\'\\' Zenkov\\'\\'Vail Field CA\\'\\'Mohanbari Air Ba...\\'\\'Bowen Airport Q...\\'\\'\\' Toropa Vitebsk ...\\'\\'\\' Dallas TX\\'\\'Bowling Green MO\\'\\'between Chengkun...\\'\\'Tchiehtu\\'\\'\\' Kwongoma\\'\\'Myrtle Beach SC\\'\\'Leron Plains Air...\\'\\'Great Bircham\\'\\'Kos Airport (KGS)\\'\\'\\' Orax Gulf of Ke...\\'\\'\\' Yakhnovo Airfield\\'\\'\\' Sasovo\\'\\'Gibraltar\\'\\'Jorhat (JRH)\\'\\'New Florence MO\\'\\'\\' Calcutta-Dum Dum...\\'\\'\\' Bathurst RAF Sta...\\'\\'\\' McCloud CA\\'\\'Lauthala Bay\\'\\'Chittagong Airfi...\\'\\'Capraia Gorgona ...\\'\\'Oran-es Senia Ai...\\'\\'\\' Fort Benning-Law...\\'\\'\\' Lovelock NV\\'\\'Aroybukt Lyngen...\\'\\'Brahmaputra River\\'\\'\\' Caddo Gap AR\\'\\'\\' Alliance AAB NE\\'\\'Arran Island Sc...\\'\\'Pomelaa Harbour ...\\'\\'Agadir\\'\\'Iraklion Airfiel...\\'\\'Perdido Bay FL\\'\\'\\' Pysht Clallam C...\\'\\'\\' Tutuila America...\\'\\'Regents Park Lo...\\'\\'Besokupe Tea Estate\\'\\'\\' Lae\\'\\'Gela Sicily\\'\\'Paramaribo-Zande...\\'\\'Torres Strait\\'\\'\\' Myitkyina\\'\\'\\' Centerville TN\\'\\'Aldermaston Aero...\\'\\'Ballinamallard ...\\'\\'\\' Cloncurry QLD\\'\\'\\' Palmyra Island A...\\'\\'\\' Columbus GA\\'\\'HÃ¥llÃ¶ Island\\'\\'\\' Kunming Airfield...\\'\\'Escambia Bay FL\\'\\'Palermo\\'\\'\\' Asha\\'\\'Ovia\\'\\'Gusap\\'\\'\\' Sogeri\\'\\'between Dinjan a...\\'\\'Rockhampton QLD\\'\\'Hoffman-Mackall ...\\'\\'northern Burma\\'\\'Bharatpur\\'\\'\\' Podgorica\\'\\'\\' Grenada AAB MS\\'\\'within Turkey\\'\\'Wuting\\'\\'between Chabua a...\\'\\'\\' Walong\\'\\'\\' Donegal\\'\\'Payne Field MS\\'\\'Anchorage-Elmend...\\'\\'\\' Toronto-Malton A...\\'\\'Port Lyautey NAS...\\'\\'Brynberian\\'\\'\\' Sollum\\'\\'Caravelas Airpor...\\'\\'Botwood NL\\'\\'Black Sea\\'\\'within Albania\\'\\'\\' Nadzab\\'\\'\\' Spanish coast\\'\\'Lawson Field GA\\'\\'Lae\\'\\'\\' New York-Floyd B...\\'\\'\\' Mayo\\'\\'within Queensland\\'\\'\\' Leros\\'\\'Leros Island\\'\\'\\' Leros Alinda Bay\\'\\'\\' Rewan Homestead ...\\'\\'\\' Bodrum\\'\\'Carnarvon Gorge ...\\'\\'Louisville-Bowma...\\'\\'\\' Monroe-Selman AA...\\'\\'\\' Chengkung\\'\\'New Orleans Muni...\\'\\'Malaita Island\\'\\'\\' Manoel Ribeiro RJ\\'\\'\\' Vigo Spain\\'\\'\\' Tamaqua PA\\'\\'\\' Nigg Ross & Cro...\\'\\'\\' Mondo QLD\\'\\'\\' Jagodina\\'\\'Nakety Bay\\'\\'\\' Kentira\\'\\'between Sookerat...\\'\\'Catania Airport ...\\'\\'\\' Torbay NL\\'\\'\\' Uelkal\\'\\'Summer Bay AK\\'\\'within China\\'\\'Sambhar\\'\\'Dinjan Air Base\\'\\'\\' Sabinal TX\\'\\'\\' BelÃ©m PA\\'\\'Beaufort NAS SC...\\'\\'EspirÃ\\\\xadtu Santo-...\\'\\'\\' Sookerating\\'\\'\\' Membury USAAF St...\\'\\'Tibetan plateau\\'\\'\\' Portreath Cornwall\\'\\'Stavanger\\'\\'Garbutt RAAF Sta...\\'\\'\\' Hyannis NE\\'\\'\\' Ile de Groix\\'\\'Tsuyung\\'\\'\\' Jumbe Lighthouse...\\'\\'\\' Gruda\\'\\'Knocklayd Mounta...\\'\\'Portreath Cornwall\\'\\'\\' Copis Island\\'\\'Washington-Natio...\\'\\'Austin Municipal...\\'\\'Knollwood Airpor...\\'\\'Nadzab\\'\\'\\' Elephant Point ...\\'\\'Mount Hagen-Kaga...\\'\\'Mackay QLD\\'\\'Wilmington DL\\'\\'\\' Ledo\\'\\'\\' Turtle Head Isla...\\'\\'\\' Shivpuri\\'\\'Sydney Island\\'\\'Knocknapeasta C...\\'\\'\\' Leuchars Scotland\\'\\'\\' Suifu\\'\\'\\' El Paso-Biggs Fi...\\'\\'\\' Ramenye\\'\\'\\' Canal Creek QLD\\'\\'\\' Portuguese coast\\'\\'AmapÃ¡ Airport AP\\'\\'St. Eval Cornwall\\'\\'\\' Moskva-Vnukovo A...\\'\\'Văliug (Fra...\\'\\'Brown Willy Bod...\\'\\'Mount Victoria\\'\\'Bay of Biscay ?\\'\\'Yunnanyi Airport\\'\\'\\' Shingbwiyang\\'\\'New Caledonia an...\\'\\'Sciacca\\'\\'\\' Voi\\'\\'Sookerating Air ...\\'\\'Ã\\\\x8ele de Groix\\'\\'\\' Mohanbari\\'\\'Perugia\\'\\'Copenhagen\\'\\'Vagdalen Sorrei...\\'\\'Rabo de Peixe\\'\\'Likiang Mt.\\'\\'Los Angeles-Mine...\\'\\'\\' Macon GA\\'\\'Agate NE\\'\\'Treasury Island\\'\\'Tibual Tiddim\\'\\'Amchitka Airport...\\'\\'Clarence NY\\'\\'\\' Boa Island Loug...\\'\\'Alliance AAF NE...\\'\\'Lviv\\'\\'between Guadalca...\\'\\'El Khroub Air Base\\'\\'Nowgong Assam\\'\\'Monte Tezio\\'\\'Mekong River Valley\\'\\'GrindonÂ\\'\\'Saidor\\'\\'\\' Svoryn\\'\\'between Florida ...\\'\\'Borizzo\\'\\'Owi Island\\'\\'\\' Beograd-Zemun Ai...\\'\\'\\' Casablanca\\'\\'\\' Azores Islands ...\\'\\'Oakland CA\\'\\'Fort Hertz (Putao)\\'\\'Sydney Harbour-R...\\'\\'Fort Hertz Valley\\'\\'Beane Army Airfi...\\'\\'\\' Mendoza-El Plume...\\'\\'Wadi Seidna\\'\\'Gioia del Colle ...\\'\\'Richmond Central...\\'\\'\\' Farmersville LA\\'\\'Himalaya Mountains\\'\\'\\' Mano TX\\'\\'\\' Plocicz\\'\\'Accra Airport (ACC)\\'\\'Trinksteinsattel\\'\\'\\' Marinella Sicily\\'\\'Khargpur\\'\\'\\' Rilu\\'\\'Sania Marez\\'\\'\\' Goliang Arunach...\\'\\'\\' Yankai\\'\\'Blue Stack Mount...\\'\\'\\' Sioux City AAB IA\\'\\'\\' Lhasa\\'\\'Puck\\'\\'Taiwan\\'\\'Aakenustunturi ...\\'\\'\\' Kelai Island\\'\\'Attu AK\\'\\'Bhagalpur\\'\\'\\' Papua New Guinea\\'\\'El Prat de Llobr...\\'\\'between Korsun a...\\'\\'\\' Finschhafen Airp...\\'\\'Newbury-Greenham...\\'\\'\\' Montfaucon\\'\\'San Rafael-Hamil...\\'\\'East Point Plant...\\'\\'Tulihat/Imphal A...\\'\\'Ataqa Mountains\\'\\'Nadzab-No.1 Stri...\\'\\'Groot Linden\\'\\'\\' Hoeven\\'\\'Groesbeek\\'\\'Son\\'\\'\\' Retie\\'\\'\\' Groesbeek\\'\\'Heihoek\\'\\'Reusel\\'\\'Erp\\'\\'Wagenbroek\\'\\'\\' Heijningen\\'\\'Oostelbeers\\'\\'Lage Mierde\\'\\'Bladel\\'\\'Retie\\'\\'\\' Westkapelle the...\\'\\'\\' Geel\\'\\'\\' Vitrival\\'\\'Vessem\\'\\'Boxtel\\'\\'Casteren\\'\\'Luyksgestel\\'\\'Mt. Deception AK\\'\\'Ochten\\'\\'Afferden\\'\\'\\' Boxtel\\'\\'\\' Milheeze\\'\\'Schijndel\\'\\'Venzelderheide\\'\\'St.Oedenrode\\'\\'Dodewaard\\'\\'Esch\\'\\'North Sea\\'\\'RÃ¼gen\\'\\'\\' Dutch coast Nor...\\'\\'Membury USAAF St...\\'\\'\\' Heelsum\\'\\'Agartala Airport...\\'\\'\\' De Horst\\'\\'Eindhoven Air Base\\'\\'Wageningen\\'\\'\\' Berlicum\\'\\'Rhenen\\'\\'Haamstede Air Base\\'\\'Bordj Menaiel\\'\\'Schaarsbergen\\'\\'\\' Deelen\\'\\'Arnhem\\'\\'\\' Speculator NY\\'\\'\\' Postel\\'\\'\\' Dongchuan Yunnan\\'\\'on Arnhem ops S...\\'\\'\\' Turnhout\\'\\'\\' Kessel\\'\\'\\' Arnhem\\'\\'\\' Capo Carbonara\\'\\'\\' Kasterlee\\'\\'\\' Brugge\\'\\'\\' Chanyi\\'\\'Best\\'\\'Wolfheze\\'\\'\\' Muroc AAF CA\\'\\'Reek\\'\\'\\' Buunderkamp\\'\\'\\' Louisburg KS\\'\\'\\' Kharagpur-Kalaik...\\'\\'Madang Strip\\'\\'\\' Keldonk\\'\\'Sonse Heide\\'\\'Arendonk\\'\\'Driel\\'\\'Oploo\\'\\'Everse\\'\\'Uden\\'\\'Eindhoven\\'\\'Volkel Air Base\\'\\'\\' Eindhoven\\'\\'Doorwerth\\'\\'Rio Doce MG\\'\\'Mount Hagen\\'\\'\\' Bradwell Bay\\'\\'\\' Malden AAF MO (...\\'\\'Ramskapelle\\'\\'southern part of...\\'\\'Bemmel\\'\\'\\' Bezel\\'\\'Slijk-Ewijk\\'\\'Heteren\\'\\'\\' Bahrain\\'\\'within Illinois\\'\\'Gaya Air Base\\'\\'Sermata Island\\'\\'Lake Tali\\'\\'Kharagpur-Kalaik...\\'\\'Tura\\'\\'\\' Tlanalapa Hidalgo\\'\\'Imphal\\'\\'\\' Veghel\\'\\'\\' Uden\\'\\'Uden - Volkel\\'\\'Oisterwijk\\'\\'Oosterbeek\\'\\'\\' Camp Mackall NC\\'\\'Neuleiningen\\'\\'\\' Tezpur\\'\\'\\' Dafflaghur Tea E...\\'\\'\\' Owi Island Papu...\\'\\'Iahqal\\'\\'NAS Terminal Isl...\\'\\'Salon-de-Province\\'\\'between Lae and ...\\'\\'\\' Pael\\'\\'Bellona Island (...\\'\\'Natal-Parnamirim...\\'\\'Saint-Nicolas-lÃ...\\'\\'Hsinching Airfie...\\'\\'Borokoe Biak\\'\\'\\' Aachen\\'\\'Leicester East R...\\'\\'Grove USAAF Stat...\\'\\'Shinbweyang\\'\\'StrymÃ³nas River\\'\\'Ypres Advanced L...\\'\\'Vyatskiye Polyan...\\'\\'\\' Santahar\\'\\'\\' Alakurtti Airport\\'\\'Luliang\\'\\'\\' Sydney NS\\'\\'Toul-Croix de Metz\\'\\'Humboldt Bay\\'\\'Hawaii\\'\\'\\' Wewak\\'\\'Lawrenceville-Ge...\\'\\'Nagaon\\'\\'Brussels/Evere A...\\'\\'\\' UtvÃ¦r Lighthouse\\'\\'Pengshan\\'\\'\\' Sadiya\\'\\'between Myitkyin...\\'\\'\\' Accra\\'\\'Malden AAF MO (...\\'\\'\\' Ledo Airfield\\'\\'Sylhet Airport (...\\'\\'Wakde\\'\\'\\' Warazup\\'\\'Hsinching\\'\\'\\' Shingbiwyang\\'\\'Mount ZadnÃ\\\\xad Ger...\\'\\'\\' Pirapora Airport...\\'\\'Angaur Airstrip\\'\\'Rochester-Short ...\\'\\'\\' Lawrenceville-Ge...\\'\\'\\' Kalaikunda\\'\\'\\' Thursday Island ...\\'\\'CsÃ¡kvÃ¡r Air Base\\'\\'\\' Changchun\\'\\'Nandi AAF (NAN)\\'\\'Bolleville-Advan...\\'\\'\\' Lubbock-South Pl...\\'\\'between Biak Isl...\\'\\'\\' HronskÃ¡ Breznica\\'\\'Tiddim\\'\"Uccagag\\'ga Finn...\"\\'within Atlantic Ocean\\'\\'Hestnutan Seljo...\\'\\'Welford Park USA...\\'\\'KomÃ¡rom County\\'\\'Langstone Downs ...\\'\\'San Juan NAS\\'\\'NjallajÃ¤rvi Ut...\\'\\'Kwanchan\\'\\'Dinjan\\'\\'Antens kapell A...\\'\\'\\' Luichow\\'\\'\\' Princes Risborou...\\'\\'Gaya\\'\\'\\' Tiddim\\'\\'MuddusjÃ¤vri Ivalo\\'\\'Salem CGAS MA\\'\\'Cyclops Field (H...\\'\\'Milo Sicily\\'\\'TuolbujÃ¤rvi\\'\\'VÃ¤ylÃ¤\\'\\'Cadoaivi Finnmark\\'\\'Luppovaara\\'\\'\\' Makassar\\'\\'Saint-Pol-sur-Mer\\'\\'\\' Dunkirk\\'\\'Pao-shan\\'\\'\\' Samar Island\\'\\'Ngatik Lagoon P...\\'\\'Jacobswell Guil...\\'\\'\\' Zagreb\\'\\'Reno AAB NV\\'\\'\\' La Rochelle\\'\\'within Tennessee\\'\\'Digboi Mountains\\'\\'\\' Julington Creek FL\\'\\'Carpiquet Advanc...\\'\\'\\' Tsuyung\\'\\'Gaya Airport (GAY)\\'\\'\\' Grandview Munici...\\'\\'Maupertuis Advan...\\'\\'Bouley Bay Harbo...\\'\\'Beny-sur-Mer Adv...\\'\\'\\' Anchorage-Elmend...\\'\\'Tournon\\'\\'\\' Nautsi\\'\\'Querqueville Adv...\\'\\'\\' Saint-Chamond\\'\\'Poleymieux\\'\\'Cambrai-Niergnie...\\'\\'Le Mans-Advanced...\\'\\'Houston-Ellingto...\\'\\'Aitape-Tadji Air...\\'\\'Gweek Cornwall\\'\\'Falalop Ulithi ...\\'\\'\\' Goose Bay NL\\'\\'\\' Hanford CA\\'\\'\\' Dinjan\\'\\'Vernouillet-Adva...\\'\\'San Pedro Bay\\'\\'Digerronden Ron...\\'\\'\\' Jacksonville NAS...\\'\\'Mont Tournette ...\\'\\'Morotai Island\\'\\'Brisbane QLD\\'\\'Yazagyo\\'\\'\\' Thayagom\\'\\'\\' Mawlaik\\'\\'North Yazagyo\\'\\'\\' Marathon-Florida...\\'\\'Grove RAF Station\\'\\'\\' Oahu Island HI\\'\\'\\' Llyn Dulyn\\'\\'\\' Castel Benito\\'\\'\\' Glendale CA\\'\\'Builya\\'\\'between Morotai ...\\'\\'\\' Cape St. George NL\\'\\'\\' Watlington\\'\\'\\' Sibenik\\'\\'Patricia Bay BC\\'\\'Yefonchang\\'\\'\\' Casper AAF WY\\'\\'North Sea ?\\'\\'London-Northolt ...\\'\\'\\' Stanislav\\'\\'\\' Tofino BC\\'\\'Bayug Airfield\\'\\'Carpineto della ...\\'\\'\\' Memel Baltic Sea\\'Castel Benito\\'\\'\\' Placitas NM\\'\\'Tarquinia\\'\\'\\' Dergaon\\'\\'Kainantu\\'\\'Tulihak\\'\\'Chanyi\\'\\'Enewetak Island ...\\'\\'\\' Brighton\\'\\'Hollandia Airfield\\'\\'Paishuiho\\'\\'Lough an Laban ...\\'\\'Numfor Airport (...\\'\\'\\' Spycker\\'\\'Esperanto CA\\'\\'Pitu/Morotai Isl...\\'\\'Pao-Shan\\'\\'\\' Sailum\\'\\'\\' Kabirwala Punjab\\'\\'Kano Airport (KAN)\\'\\'\\' England English...\\'\\'South West Pacific\\'\\'Westhampnett\\'\\'Imphal Airport (...\\'\\'Yazagyo Airfield\\'\\'\\' Blue Mounds WI\\'\\'Mawlu\\'\\'USAAF Station 385\\'\\'\\' Absheron Peninsula\\'\\'Aden\\'\\'Kwajalein Airpor...\\'\\'Leith Hill\\'\\'\\' LiÃ¨ge\\'\\'Ely Lodge Ferma...\\'\\'Bas WaretonÂ\\'\\'between Tacloban...\\'\\'\\' Tegucigalpa\\'\\'off the East coa...\\'\\'Shinbweyang Airport\\'\\'Townsville QLD\\'\\'\\' MÃ¥lklÃ¤ppen\\'\\'Kinangop Peak A...\\'\\'Biggin Hill Airp...\\'\\'between Pelelieu...\\'\\'Rance\\'\\'Digboi Mountain\\'\\'Mawlu Airstrip\\'\\'Terceira-Lajes A...\\'\\'\\' Hollywood-Lockhe...\\'\\'\\' Keene CA\\'\\'Kalmahera Morotai\\'\\'Peishiyi\\'\\'\\' Leyte\\'\\'Sorido\\'\\'\\' Newquay-St Mawga...\\'\\'Clayquot Vancou...\\'\\'\\' Saint-Valery-en-...\\'\\'OrlÃ©ans/Bricy A...\\'\\'Dutch New Guinea\\'\\'Hixon RAF Station\\'\\'San Pablo Leyte\\'\\'\\' MijanÃ¨s\\'\\'\\' Zhinaxiang\\'\\'Kuyung district\\'\\'\\' LiÃ¨ge-Bierset A...\\'\\'\\' Crosby\\'\\'BhagalpurÂ\\'\\'Leyte Island\\'\\'Li Ping\\'\\'between Biak and...\\'\\'Momauk\\'\\'\\' Orlovka Teplik ...\\'\\'\\' Mohanbari Air Ba...\\'\\'\\' Myitkyina Airpor...\\'\\'Finschhafen Harbour\\'\\'\\' Dali\\'\\'Leith Hill Surrey\\'\\'Kerowagi\\'\\'Aldermaston RAF ...\\'\\'Welford RAF Station\\'\\'\\' Zelma MO\\'\\'Marrakech Air Ba...\\'\\'Crosby RAF Station\\'\\'between Bari and...\\'\\'\\' Cape Calavite\\'\\'\\' Bhomo\\'\\'Imphal Municipal...\\'\\'\\' OrlÃ©ans\\'\\'\\' Stafford\\'\\'Memphis Municipa...\\'\\'\\' Aldenhoven\\'\\'\\' Calshot\\'\\'Lippspringe Airf...\\'\\'Dergaon\\'\\'\\' Reykjavik\\'\\'\\' Yazagyo\\'\\'Gujrat\\'\\'Beenoskee Mounta...\\'\\'\\' Ironton MO\\'\\'Moran Air Base\\'\\'Hsian Airfield\\'\\'\\' Torrettoria\\'\\'between RzeszÃ³w...\\'\\'\\' Stirling Ai...\\'\\'Nadens-Dawstore ...\\'\\'Whitehill Copse ...\\'\\'Guam\\'\\'Tacloban Airport...\\'\\'\\' Wall Kill NY\\'\\'\\' Sibret\\'\\'\\' Bastogne\\'\\'Mellier 30 km W...\\'\\'\\' Tenneville\\'\\'\\' MÃ¢gÃ´ster\\'\\'Marcouray\\'\\'\\' Laroche\\'\\'\\' Saline MI\\'\\'Aldermaston-USAA...\\'\\'Mindoro Airport ...\\'\\'\\' Finschhafen Airf...\\'\\'Chilbolton\\'\\'\\' ChÃ¢teaudun-Adva...\\'\\'\\' Quartzite AZ\\'\\'\\' Harrisburg PA (...\\'\\'\\' Indianapolis IN\\'\\'Bhamo Airstrip\\'\\'Bari\\'\\'\\' Portsmouth\\'\\'Hemroulle\\'\\'\\' St. Hubert\\'\\'Sandweiler Advan...\\'\\'Sorido Biak\\'\\'Lao Ho Kaw\\'\\'\\' Adak AAB AK (ADK)\\'\\'Bastogne\\'\\'\\' Seine River\\'\\'Antwerpen-Deurne...\\'\\'Comilla Airport ...\\'\\'Unknown possibl...\\'\\'Lyon-Bron (LYN)\\'\\'Lapland\\'\\'Kautokeino Airstrip\\'\\'Yap Island\\'\\'\\' Telin Island Ru...\\'\\'Parkton NC\\'\\'\\' Malakua Jacquin...\\'\\'Salisbury on Rck...\\'\\'\\' Linton TN\\'\\'Arakan\\'\\'\\' Memphis Airport TN\\'\\'Mambare Bay\\'\\'over Mambare Bay\\'\\'Misamari\\'\\'\\' Tampa FL\\'\\'\\' Kerowagi\\'\\'Novoyuryevka Ni...\\'\\'Alice Springs Ai...\\'\\'Aguadilla-Borinq...\\'\\'Bougainville\\'\\'\\' Santa Ana-El Tor...\\'\\'\\' Sophia NC\\'\\'between Seattle ...\\'\\'Lysyanka 60 km ...\\'\\'north of Nikolajev\\'\\'\\' Tartu\\'\\'American River C...\\'\\'Majuro\\'\\'Berchem\\'\\'\\' Paoshan\\'\\'\\' Palmdale CA\\'\\'\\' Mangnung\\'\\'Trory Cross Enn...\\'\\'\\' Tarifa\\'\\'\\' Crawford NE\\'\\'\\' Euboea\\'\\'\\' Nikolajev\\'\\'Quelimane Airpor...\\'\\'Caltagirone\\'\\'Hukawng Valley\\'\\'\\' Fez\\'\\'Shemya AFB AK (...\\'\\'between Nikopol ...\\'\\'between Tiraspol...\\'\\'Loddington Hall\\'\\'Ossig\\'\\'\\' Kansas City AR\\'\\'Chengkung\\'\\'Aegean Sea\\'\\'Horsehall Hill F...\\'\\'between Eleusis ...\\'\\'Reno NV\\'\\'\\' Elmdon\\'\\'Hampstead Norris...\\'\\'\\' Lagoona NSW\\'\\'\\' Olathe NAS KS (...\\'\\'between Iceland ...\\'\\'between Nadzab a...\\'\\'CamagÃ¼ey Air Ba...\\'\\'\\' Portadown\\'\\'Choiseul Island\\'\\'Molesworth VIC\\'\\'NOTS Inyokern CA\\'\\'Marseille-Marign...\\'\\'Chandina\\'\\'Hsinjan Hsein\\'\\'Axford Ramsbury\\'\\'Dakar-Eknes Field\\'\\'\\' Stuart FL\\'\\'Charleston SC\\'\\'Tamu Airstrip\\'\\'New York Municip...\\'\\'Cape Gloucester ...\\'\\'Chengdu\\'\\'\\' British Columbia\\'\\'\\' Silchar\\'\\'\\' Loshan\\'\\'\\' Yanovshchina Kr...\\'\\'\\' South Plains-Ida...\\'\\'Chandina RAF Sta...\\'\\'Finschhafen\\'\\'\\' Watlington Oxfo...\\'\\'Anguille Mountai...\\'\\'Bathurst\\'\\'\\' Itanagar\\'\\'\\' Chengdu\\'\\'Palermo-Boccadif...\\'\\'Pensacola USCG FL\\'\\'Finschhafen Airf...\\'\\'Baelum\\'\\'\\' Azores\\'\\'Alliance NE\\'\\'Costermanville\\'\\'Blunsdon Wiltshire\\'\\'\\' Foggia\\'\\'\\' Amarillo AAF TX...\\'\\'\\' Chengkung Airfield\\'\\'Buckley Field CO\\'\\'\\' Cairo-Payne Fiel...\\'\\'\\' Indaw\\'\\'\\' Langko\\'\\'Barrackpore Air ...\\'\\'Conway River\\'\\'\\' Sanford NC\\'\\'Enschede\\'\\'Bottesford USAAF...\\'\\'Aberdeen Airstrip\\'\\'\\' Dobodura No. 7 (...\\'\\'Mingan Airport ...\\'\\'\\' South Plains Aux...\\'\\'Mongena\\'\\'Alligator Pond B...\\'\\'FlorianÃ³polis SC\\'\\'Kamiri Airstrip ...\\'\\'\\' Keflavik\\'\\'Caribbean\\'\\'Jagielnica\\'\\'Magnetic Island ...\\'\\'Palel Airfield\\'\\'Midgham\\'\\'Chedworth RAF St...\\'\\'Kolomyya\\'\\'Patuxent River N...\\'\\'Los Angeles Muni...\\'\\'Milne Bay\\'\\'Shingbwiyang\\'\\'Zemun Water Aero...\\'\\'Kattegat\\'\\'between Aalborg-...\\'\\'\\' Ascension\\'\\'\\' AÃ§u RN\\'\\'between New Hebr...\\'\\'Mowdock\\'\\'Newtown OH\\'\\'Fritzlar airfiel...\\'\\'\\' Austin Municipal...\\'\\'\\' Orsova\\'\\'Montgomery Rock ...\\'\\'\\' Belgrade\\'\\'Friedrichshafen\\'\\'Collingbourne W...\\'\\'\\' Chowdhurani\\'\\'Alvescot\\'\\'\\' Port Hardy Airpo...\\'\\'Tanacross AK\\'\\'Hasmshingyang\\'\\'Chandigarh Airpo...\\'\\'within Burma\\'\\'\\' Brindisi\\'\\'Borneo\\'\\'Stockholm-Bromma...\\'\\'\\' Fredrikstad\\'\\'Masirah Airport ...\\'\\'Tulihal\\'\\'\\' Imphal\\'\\'Chengkung Airfield\\'\\'\\' Idalou Aux Field...\\'\\'Marrakech Airfie...\\'\\'\\' Tingpai\\'\\'\\' Imphal India\\'\\'Alliance AAF NE\\'\\'Idalou AAF TX\\'\\'Lacedonia\\'\\'\\' Babo\\'\\'\\' Winona AZ\\'\\'\\' Liangshan Airfie...\\'\\'Bresso\\'\\'\\' Maryborough QLD\\'\\'\\' Palel\\'\\'Digbol Mountain\\'\\'Coral Sea\\'\\'Laleghat\\'\\'within Assam\\'\\'Shellingford RAF...\\'\\'Imphal-Koirengei...\\'\\'Upottery RAF Sta...\\'\\'\\' Lake Worth FL\\'\\'\\' Ampi Assam\\'\\'Jijilis\\'\\'\\' Elmira NY\\'\\'Newark AAF NJ\\'\\'Jorhat Airport (...\\'\\'\\' Lanping\\'\\'\\' Leskovac\\'\\'Tripoli-Castel B...\\'\\'\\' Midway Island\\'\\'Bari Airport (BRI)\\'\\'\\' Berwick\\'\\'Luganville Airfi...\\'\\'\\' San Diego CA USA\\'\\'Clydeside\\'\\'Vatersay Island ...\\'\\'Stephenville-Har...\\'\\'Harrisburg-Olmst...\\'\\'\\' Kohima Assam\\'\\'Gaudo\\'\\'\\' Obozerski Airfie...\\'\\'\\' Miami FL\\'\\'Clydeside Airstrip\\'\\'Kweilin\\'\\'Warton\\'\\'Bundaberg QLD\\'\\'\\' Welford\\'\\'\\' Aldbourne\\'\\'Kiev\\'\\'between Torokina...\\'\\'\\' Ploskin\\'\\'Myitkyina (MYT)\\'\\'Java Sea\\'\\'\\' Maubum Landing S...\\'\\'\\' North Tawton Devon\\'\\'\\' Kristiansund No...\\'\\'\\' Sakden\\'\\'\\' Tagap\\'\\'Tadji Airstrip ...\\'\\'southern Tibet\\'\\'\\' Natal-Parnamirim...\\'\\'\\' Silchar Airfield...\\'\\'\\' Habbaniya\\'\\'between Chittago...\\'\\'Chanyi Airport\\'\\'Aden-Khormaksar ...\\'\\'Zaliv Kresta Bay...\\'\\'\\' Novy Dvor\\'\\'Prestwick\\'\\'\\' Attu Island-Casc...\\'\\'Corry Field FL\\'\\'Tingkawk Sakan\\'\\'Upottery\\'\\'Salalah Airport ...\\'\\'\\' Santiago de Baney\\'\\'\\' Oujda\\'\\'\\' Mostaganem\\'\\'\\' Warmwell\\'\\'Pupiackai\\'\\'\\' Magneville Norm...\\'\\'\\' \" Pont-l\\'AbbÃ©\"\\'\\' Sainte-MÃ¨re-Ã\\\\x89g...\\'\\'\\' Picauville\\'\\'\\' Pointe du Hoc\\'\\'Bassenville\\'\\'\\' Giberville\\'\\'Melville\\'\\'Broadwell RAF St...\\'\\'\\' Saint-Marcouf\\'\\'\\' Normandy\\'\\'Spanhoe-USAAF St...\\'\\'Middle Wallop RA...\\'\\'Colombelles\\'\\'Normandy\\'\\'\\' Carentan Normandy\\'\\'\\' Carentan\\'\\'\\' Montaigu-la-Bris...\\'\\'\\' Etienville Norm...\\'\\'\\' Surtainville No...\\'\\'Clainville Norm...\\'\\'Beuzeville-au-Plain\\'\\'\\' Reuville\\'\\'between Vuiteboe...\\'\\'\\' NÃ©greville\\'\\'Cotentin Normandy\\'\\'Gleann MÃ²r Sai...\\'\\'within Milne Bay Province\\'\\'\\' English Channel\\'\\'\\' Sebeville\\'\\'\\' Caen\\'\\'\\' Ranville Normandy\\'\\'Cottesmore RAF S...\\'\\'off U.K. coast ...\\'\\'\\' Grandcamp-Maisy\\'\\'\\' Ranville\\'\\'\\' Dreux\\'\\'Cazaux\\'\\'\\' Point de Barfleur\\'\\'\\' Oxford\\'\\'Richmond VA\\'\\'\\' Dinjan Airport\\'\\'between Tingkawk...\\'\\'Meridian-Key Fie...\\'\"Fisherman\\'s Isla...\"\\'\\' Karinganj Assam\\'\\'\\' Hopin\\'\\'Great Ragged Island\\'\\'Fleves Island\\'\\'\\' Faroe Islands N...\\'\\'Reykjavik\\'\\'\\' Laju\\'\\'\\' North Vernon IN\\'\\'\\' Myanmar\\'\\'Pelel\\'\\'Spanhoe\\'\\'\\' Espiritu Santos ...\\'\\'Takoradi Airport...\\'\\'Le Fresney Advan...\\'\\'\\' Kweilin\\'\\'\\' Kohima\\'\\'\\' Millinocket ME\\'\\'\\' Ninchangwang\\'\\'between Hsinchin...\\'\\'\\' Lalmanirhat\\'\\'\\' Hansa Bay\\'\\'\\' Fenny AFB\\'\\'Mogaung\\'\\'The Wig Loch Ryan\\'\\'Delhi-Safdarjung...\\'\\'\\' Agadir\\'\\'Rettenegg Styria\\'\\'Jayapura\\'\\'\\' Shetland Islands...\\'\\'Godlinngston Hill\\'\\'Tulihal Air Base...\\'\\'Exeter Airport (...\\'\\'Deelen AB\\'\\'\\' Lake Palik Bori...\\'\\'\\' Bombay-Santacruz...\\'\\'Tadji\\'\\'\\' Monroe-Selman Fi...\\'\\'Cairo\\'\\'Burtonwood Airpo...\\'\\'Ponte Olivo\\'\\'\\' Poprad Western ...\\'\\'Green Island\\'\\'Ledo\\'\\'\\' Syracuse Municip...\\'\\'\\' Hydra\\'\\'\\' Matagalpa\\'\\'Hollandia-Cyclop...\\'\\'Roma-Ciampino Ai...\\'\\'\\' Shongphel\\'\\'Calcutta-Dum Dum...\\'\\'Constantine Airp...\\'\\'Lae-Nadzab Airpo...\\'\\'\\' Constatia NY\\'\\'Tinwell\\'\\'\\' Isle of Vis\\'\\'\\' Kamaing\\'\\'Saidor Gap\\'\\'Brindisi Airport...\\'\\'Annanberg\\'\\'Biak-Mokmer Air ...\\'\\'\\' Safi\\'\\'Bathurst RAF Sta...\\'\\'\\' Avgustova\\'\\'Scottsbluff Coun...\\'\\'\\' Roma-Ciampino Ai...\\'\\'India or Bangladesh\\'\\'Cortland Airport...\\'\\'Columbus-Atterbu...\\'\\'\\' Bosanska Dubica\\'\\'\\' Kingsley Dam NB\\'\\'\\' Oahu HI\\'\\'within Indiana\\'\\'\\' Namlea\\'\\'\\' Kok-Su\\'\\'\\' Sciacca\\'\\'\\' Cape Fear NC USA\\'\\'Syracuse AAF NY...\\'\\'Grandview Munici...\\'\\'\\' Milos\\'\\'\\' Vocin\\'\\'Colleville-sur-M...\\'\\'\\' Kenitra-NAF Craw...\\'\\'\\' Ukhrul\\'\\'Recife PE\\'\\'\\' Kwajalein Airpor...\\'\\'\\' Kokoda\\'\\'Tezpur Airport (...\\'\\'Tingkawk Sakan A...\\'\\'Lae-Nadzab Air B...\\'\\'\\' Gaeta Village F...\\'\\'\\' Greenland\\'\\'Merriam KS\\'\\'\\' Tealing Angus ...\\'\\'Muscogee County ...\\'\\'Port Logan\\'\\'within Colorado\\'\\'Foula Island Sh...\\'\\'\\' Gurney\\'\\'\\' Rauceby\\'\\'\\' Biak\\'\\'\\' Sleaford\\'\\'Owi Airfield\\'\\'within New York State\\'\\'Grosseto\\'\\'Clovis AAF NM (...\\'\\'\\' Mogaung\\'\\'\\' Chindwin\\'\\'Berbice River\\'\\'Arajuno Pastaza\\'\\'\\' Salerno\\'\\'\\' Salalah\\'\\'Nonsvatnet Hoyl...\\'\\'Baldy Mountain\\'\\'\\' Roshi\\'\\'Stuttgart-Echter...\\'\\'Sentani\\'\\'\\' Naper NE\\'\\'South Plains-Ida...\\'\\'Satellite Channe...\\'\\'\\' Mohavia\\'\\'Noemfoor Island-...\\'\\'Amblie Advanced ...\\'\\'Abadan Airport (...\\'\\'\\' Akureyri-Kassos ...\\'\\'Tami Beach Holl...\\'\\'\\' Antilla\\'\\'Saipan\\'\\'\\' Sea Island BC\\'\\'Manus SPB Admir...\\'\\'San Diego Bay CA\\'\\'Newcastle/Distri...\\'\\'Boothby Graffoe ...\\'\\'\\' Marlborough\\'\\'Corlea\\'\\'Grosseto Air Bas...\\'\\'South-West Pacific\\'\\'\\' Barrackpore Air ...\\'\\'Wios Wolndi\\'\\'\\' Natal RN Brazil\\'\\'Orbetello Airfield\\'\\'Creag Riabhach ...\\'\\'Casablanca-Cazes...\\'\\'between Maidugur...\\'\\'Kwanghan Airfiel...\\'\\'\\' Dehong\\'\\'\\' Margherita Assam\\'\\'\\' Tingkawk Sakan\\'\\'Gusau\\'\\'between Gibralta...\\'\\'La Paz\\'\\'Chambois Orne\\'\\'Mount Sernio\\'\\'Habbaniya RAF St...\\'\\'Latin Downs Wan...\\'\\'Witham River\\'\\'\\' BelÃ©m/Val-de-Ca...\\'\\'Unknown China-B...\\'\\'\\' Yupanga\\'\\'\\' \" Land\\'s End\"\\'Agartala\\'\\'\\' Shingowlyang\\'\\'\\' Cherbourg\\'\\'Vocin\\'\\'Cabo Tres Forcas...\\'\\'Telmest\\'\\'\\' Glasgow-Prestwic...\\'\\'St. Thomas Mount...\\'\\'between Greenlan...\\'\\'Mount Kinnekulle...\\'\\'\\' SÃ£o Paulo-Congo...\\'\\'Chesapeake Bay MD\\'\\'\\' Shimbuwang\\'\\'Sariaya Quezon\\'\\'Boteni\\'\\'\\' Malay Peninsula\\'\\'Cazka\\'\\'Bevinco Corsica\\'\\'Valley RAF Stati...\\'\\'Ivanca Senj\\'\\'Fulbeck USAAF St...\\'\\'Radvan\\'\\'Saint Joseph-Ros...\\'\\'\\' Delabole Cornwall\\'\\'Biak\\'\\'\\' Bloody Foreland ...\\'\\'St. Genges Chann...\\'\\'\\' Jorhat (JRH)\\'\\'\\' Presque Isle AAF...\\'\\'\\' Ottawa-Uplands A...\\'\\'\\' Mossman QLD\\'\\'\\' Exeter USAAF Sta...\\'\\'\\' Koksijde\\'\\'Paoshan\\'\\'\\' Fort Glenn Army ...\\'\\'Sansapor\\'\\'\\' Chabua Airfield\\'\\'El Aouina AABÂ\\'\\'Las Vegas AAF NV\\'\\'\\' Imphal Airport (...\\'\\'South Plains AAF...\\'\\'Nakingant\\'\\'\\' Warrensburg-Seda...\\'\\'\\' Beachy Head Sussex\\'\\'Sahmaw\\'\\'between Biak to ...\\'\\'\\' Chorrillos\\'\\'Aldermaston USAA...\\'\\'Toulon-sur-Montagne\\'\\'\\' Sumner IL\\'\\'\\' Bourne\\'\\'Patkai Mountains\\'\\'\\' Ziadum\\'\\'Arunachal Pradesh\\'\\'within Sagaing region\\'\\'Saint-Dizier (A-...\\'\\'\\' Jorhat\\'\\'\\' Carson City NV\\'\\'Tali\\'\\'\\' Tingkank-An\\'\\'\\' Lang Tai\\'\\'Siakwan\\'\\'\\' Lashio\\'\\'Rome AAB NJ\\'\\'\\' Snetterton Heath\\'\\'\\' Torokina\\'\\'\\' Burbank-Hollywoo...\\'\\'\\' Mount Tali\\'\\'\\' Laoshan\\'\\'Prnjavor\\'\\'\\' Sileby Leiceste...\\'\\'Budapest\\'\\'Kingston Bagpuiz...\\'\\'Paochan\\'\\'\\' Dexter MO\\'\\'Midland AAF TX ...\\'\\'\\' Glomel\\'\\'\\' Schwebo\\'\\'\\' Tabingaung\\'\\'\\' Saratov-Zavodsko...\\'\\'\\' Kambaiti\\'\\'\\' Sumba Island\\'\\'\\' Stalinabad\\'\\'\\' Brownfield IL\\'\\'Bhamo (BMO)\\'\\'\\' Paris-Le Bourget...\\'\\'\\' Hawaii\\'\\'Angle Bay Pembr...\\'\\'Samar Island\\'\\'Ledo Assam\\'\\'OndalÂ\\'\\'\\' Pao-Shan\\'\\'\\' Pyinmana\\'\\'Puerto Cabezas A...\\'\\'Yanglin Field\\'\\'\\' Morotai\\'\\'Myitkyina North\\'\\'\\' Milwaukee WI\\'\\'\\' Dinawa\\'\\'\\' Kurmitola\\'\\'Morotai\\'\\'\\' Oakridge MS\\'\\'\\' Myingyan\\'\\'Chihchiang\\'\\'Luingshan\\'\\'\\' Shamshernagar\\'\\'Laohwangping\\'\\'Warton-USAAF Sta...\\'\\'Fort Hertz (PBU)\\'\\'\\' Maikisung\\'\\'\\' Baguio\\'\\'\\' Biskra Airport (...\\'\\'Guinan str. Samar\\'\\'East Arm Darwin...\\'\\'\\' Kyaukpyu\\'\\'\\' Khamti\\'\\'Maungdaw Airfield\\'\\'\\' Los Negros Admi...\\'\\'\\' Balikpapan\\'\\'\\' Gold Run Placer...\\'\\'Irian Jaya\\'\\'\\' Taintaihering S...\\'\"Woman\\'s Bay AK\"\\'Pajao\\'\\'Beauvais-TillÃ© ...\\'\\'Chenkang\\'\\'\\' Nwegyi\\'\\'Ulithi Caroline...\\'\\'\\' Teknaf\\'\\'Sulphur Mountain...\\'\\'between Lashio a...\\'\\'\\' Cocos (Keeling) ...\\'\\'Peishiyi Airfield\\'\\'Tanauan Airfield\\'\\'Kahului NAS HI ...\\'\\'\\' Myitkyina South\\'\\'Tuguegarao Airpo...\\'\\'\\' Spring Lake TX\\'\\'\\' Samarai Island\\'\\'Akyab Harbour\\'\\'Reims\\'\\'\\' Vila do Porto A...\\'\\'Burgaw NC\\'\\'Nanponmao\\'\\'\\' Kunyang\\'\\'\\' Guam-North Field...\\'\\'Nanning\\'\\'Dallas TX\\'\\'Toungoo Main\\'\\'Paris-Orly Airpo...\\'\\'\\' Luliang\\'\\'Espiritu Santo-P...\\'\\'Wichita Municipa...\\'\\'Kunming (KMG)\\'\\'\\' Naypyidaw\\'\\'Szemao\\'\\'\\' Pretoria\\'\\'Kisumu\\'\\'Savannah-Hunter ...\\'\\'Kangla Airfield\\'\\'Bagabag\\'\\'Quonset Point NA...\\'\\'\\' Florence SC\\'\\'Chittagong-Paten...\\'\\'\\' Savo Island Gua...\\'\\'\\' Chittagong Airfi...\\'\\'\\' Akyab\\'\\'Tacloban\\'\\'\\' Thamainggyi\\'\\'\\' Manipur Road\\'\\'\\' Myitikyina\\'\\'\\' Fernandina FL\\'\\'\\' Mengsa\\'\\'Ie Shima Airfield\\'\\'\\' Delhi-Palam Airp...\\'\\'\\' Basal Airfield\\'\\'Mindoro Island\\'\\'\\' Bishmaknagar\\'\\'Regensburg\\'\\'\\' Wilmington-New C...\\'\\'\\' Bhuj Kutch\\'\\'Tsingching\\'\\'Angeles City-Cla...\\'\\'\\' Taungoo\\'\\'\\' Gaya\\'\\'Shitsung\\'\\'Okinawa\\'\\'Leizhou\\'\\'Nanning Airport ...\\'\\'\\' Glossop Shelf Moor\\'\\'\\' Tacloban\\'\\'Mengsha\\'\\'Houdan\\'\\'\\' Tengchung\\'\\'\\' Dubai\\'\\'Jolo-Zettel Fiel...\\'\\'Villacoublay Adv...\\'\\'Luna Airport\\'\\'Mellaha Air Base...\\'\\'\\' Tulihal\\'\\'\\' Thanbaung\\'\\'Coal Harbour RCA...\\'\\'\\' Grants NM\\'\\'Fort de France H...\\'\\'Biloxi-Keesler F...\\'\\'Biak Island\\'\\'\\' Pao Shan\\'\\'\\' Selvogur Nes\\'\\'\\' Lalmonirhat Airp...\\'\\'\\' Myitkyina North\\'\\'\\' Gologhat\\'\\'Cairo-Payne Fiel...\\'\\'\\' Tezpur AAB\\'\\'\\' Liangshan\\'\\'\\' Lee-Po-Ka\\'\\'\\' Shaibah RAF Station\\'\\'IztaccÃ\\\\xadhuatl Vo...\\'\\'\\' Marietta GA\\'\\'Jacksonville NAA...\\'\\'Bardufoss Airpor...\\'\\'Manila-Nielson F...\\'\\'Luagg\\'\\'\\' Okinawa-Naha AFB...\\'\\'\\' Nanponmao Air Base\\'\\'Wama Airstrip\\'\\'\\' Tateyama Airfield\\'\\'East Midlands Ai...\\'\\'\\' Dahanu\\'\\'Tarakan Airport ...\\'\\'\\' Laban Island\\'\\'Olathe NAS KS (...\\'\\'\\' ZÃ¼rich-DÃ¼bendo...\\'\\'Mokerang Strip ...\\'\\'Ramrauli RAF Sta...\\'\\'Cagliari-Elmas A...\\'\\'\\' Roma\\'\\'Biggin Hill USAA...\\'\\'\\' Jilin\\'\\'\\' Somerset\\'\\'\\' El Centro CA\\'\\'Melbourne Airfie...\\'\\'\\' Misamari\\'\\'\\' Cape York Austr...\\'\\'Albuquerque NM\\'\\'Manila-Nichols A...\\'\\'\\' Okinawa Japan\\'\\'Darwin Harbor NT\\'\\'\\' Vaison-la-Romaine\\'\\'\\' Dibrugarh-Chabua...\\'\\'\\' Fuzhou\\'\\'Guam-Harmon Air ...\\'\\'Memphis TN\\'\\'Istres-Le TubÃ© ...\\'\\'\\' Duyinzeik\\'\\'\\' San Jancinico St...\\'\\'\\' Shwegyin\\'\\'\\' Chaungnakwa\\'\\'Karen Hills\\'\\'\\' Nyaunggonale\\'\\'Paris-Le Bourget\\'\\'\\' Aguadilla-Borinq...\\'\\'\\' Milne Bay\\'\\'\\' Amherst\\'\\'\\' Linan\\'\\'Maprik-Hayfields...\\'\\'Coulommiers\\'\\'Tampa-Peter O. K...\\'\\'Karachi Air Base\\'\\'Chihkiang\\'\\'Unknown *\\'\\'\\' Lingayen Luzon\\'\\'\\' Yangon Airport (...\\'\\'\\' Kansas City-Fair...\\'\\'\\' Ye Myanmar And...\\'\\'\\' Atsugi\\'\\'Topeka AAF KS\\'\\'Puncak Jaya\\'\\'Frankfurt/Eschbo...\\'\\'\\' Tarakan Indonesia\\'\\'Shanghai\\'\\'\\' Umnak Island-For...\\'\\'Wig Bay\\'\\'\\' Mengyu\\'\\'Hanau\\'\\'\\' Atsugi NAS (NJA)\\'\\'between Vanuatu ...\\'\\'\\' Trat\\'\\'\\' Chicago-Municipa...\\'\\'\\' Panglong\\'\\'Hsian\\'\\'\\' Chihkiang\\'\\'Palembang\\'\\'\\' Broken Hill\\'\\'between Liangsha...\\'\\'\\' Hsian\\'\\'\\' Guam-Agana NAS (...\\'\\'Tripoli\\'\\'Aomori Field\\'\\'\\' Wiesensteig\\'\\'\\' Belle Isle Landi...\\'\\'Jodhpur Airport ...\\'\\'Kuantan River\\'\\'Lakeland FL\\'\\'\\' Uplands CA\\'\\'Dunnet Head\\'\\'Tosido\\'\\'\\' El Adem RAF Station\\'\\'Palmerston North...\\'\\'\\' Boana\\'\\'\\' Mindanao\\'\\'Banana River FL...\\'\\'Down Ampney RAF ...\\'\\'within Huntingdon Warre...\\'\\'DÃ\\\\xadvcÃ\\\\xad kameny ...\\'\\'between Okinawa ...\\'\\'\\' Tuas\\'\\'\\' Saipan Mariana ...\\'\\'Phuket Airport (...\\'\\'Riccall RAF Station\\'\\'Bangkok-Don Muan...\\'\\'Purley Surrey\\'\\'\\' Suichang\\'\\'\\' Anchorage AK\\'\\'Manila\\'\\'\\' Chiringa\\'\\'Arkonam\\'\\'\\' Coos Bay OR\\'\\'Hankou\\'\\'\\' Pennville IN\\'\\'\\' Cuneo\\'\\'\\' Zhijiang\\'\\'Hyvinkaa\\'\\'Laguna de Rocha\\'\\'\\' Page OK\\'\\'\\' Phnom Penh\\'\\'\\' Herrenalb\\'\\'Trondheim\\'\\'within Greenland\\'\\'\\' Chukha\\'\\'Colombo-Ratmalan...\\'\\'\\' Honolulu HI\\'\\'Schlatt\\'\\'\\' Corpus Christi N...\\'\\'\\' Palermo-Boccadif...\\'\\'Paris-Le Bourget...\\'\\'ChÃ©zy-sur-Marne\\'\\'\\' Ettringen\\'\\'\\' Tacloban Airport...\\'\\'El Adem RAF Station\\'\\'\\' Jacquinot Bay\\'\\'\\' Wien-Schwechat R...\\'\\'Atlanta AAF GA ...\\'\\'Hishi-no-Shima\\'\\'Peleliu Airfield\\'\\'Toulouse\\'\\'\\' Jakarta-Kemayora...\\'\\'Warazup\\'\\'\\' Bruas\\'\\'\\' Auburn CA\\'\\'Palmyra Island A...\\'\\'Cairo-Almaza Air...\\'\\'Tiksi\\'\\'Dudinka\\'\\'\\' Radlett Airfield\\'\\'Jinamoc Island ...\\'\\'\\' Carlos Pellegrin...\\'\\'\\' Novosibirsk-Seve...\\'\\'Stallarholmen\\'\\'\\' Tiksi\\'\\'\\' Cape Canaveral ...\\'\\'\\' Billings Municip...\\'\\'between Tachikaw...\\'\\'Mt Mandalgan Ne...\\'\\'KouandÃ©\\'\\'\\' Heraklion Airport\\'\\'\\' Villieu\\'\\'Phuket Island\\'\\'Jakarta-Kemayora...\\'\\'Coulsdon\\'\\'Voksenkollen\\'\\'Tiksi Airport (IKS)\\'\\'Timor Sea\\'\\'Sendai-Yanomi Field\\'\\'\\' Jacksonville AAB...\\'\\'Patenga\\'\\'Goose Bay Airpor...\\'\\'Kengersfeld\\'\\'\\' Ontario CA\\'\\'Bashley\\'\\'Madrid Air Base\\'\\'Chungking\\'\\'\\' Ostia\\'\\'Saint-AndrÃ©-de-...\\'\\'\\' Namtu\\'\\'\\' Gmina Inowroclaw\\'\\'\\' Minsk-1 Internat...\\'\\'Bad Steinbach B...\\'\\'between Suichwan...\\'\\'\\' Kweiyang\\'\\'\\' Chervlennaya Sh...\\'\\'Corsica ?\\'\\'Emison Auxiliary...\\'\\'Nashville Munici...\\'\\'Hochih\\'\\'Marienfeld  \\'...\\'\\'Tengchung\\'\\'Gore Field MT\\'\\'Jamaica Bay Lon...\\'\\'between Denpasar...\\'\\'Hathazari Airfield\\'\\'\\' Mexico City Inte...\\'\\'Birmingham Army ...\\'\\'\\' Bell Center OH\\'\\'Merauke-Mopah Ai...\\'\\'Malignano\\'\\'\\' Legnica\\'\\'\\' Beqa Island\\'\\'Papa\\'\\'Panghkam\\'\\'St Johns River FL\\'\\'Harlaxton RAF St...\\'\\'Nivelles Advance...\\'\\'Richards Bay\\'\\'Brookings OR\\'\\'Palel\\'\\'eastern Germany\\'\\'\\' Lista\\'\\'Kaneohe NAS Oah...\\'\\'Ben Talaidh Mull\\'\\'\\' Bury QC\\'\\'\\' Los Angeles CA\\'\\'\\' Montieri\\'\\'Irrawaddy River\\'\\'\\' Schweich Trier\\'\\'\\' Karoi\\'\\'Budapest area\\'\\'\\' Budalin\\'\\'\\' Deming TX\\'\\'Four Marks Hants.\\'\\'Muse Airfield\\'\\'Poltava Airport ...\\'\\'Hunters Burgh\\'\\'\\' Hechi\\'\\'Mapientien\\'\\'\\' Peishiyi\\'\\'\\' Mangshih\\'\\'between Chihchia...\\'\\'Jiwani Airport\\'\\'\\' Tilagaon\\'\\'\\' Batan Island\\'\\'\\' Nichols Field\\'\\'\\' Mount Victoria\\'\\'\\' Tangmere Airfield\\'\\'Knocknagor Irvi...\\'\\'Otoka\\'\\'between Papa and...\\'\\'Myitkyina South ...\\'\\'Saanich Inlet BC\\'\\'Port Moresby-Jac...\\'\\'\\' Yunlung\\'\\'\\' Oakland NAS CA ...\\'\\'\\' Kangla Assam\\'\\'Sinthe\\'\\'\\' Oblong IL\\'\\'\\' Likiang\\'\\'\\' Lunglei\\'\\'Antipolo  Luzon\\'\\'\\' Lagoa Santa GO\\'\\'\\' Vernouillet (A-41)\\'\\'Imphal-Tulihal A...\\'\\'Momote Los Negr...\\'\\'Tabora\\'\\'Corregidor Island\\'\\'Abadan\\'\\'Wau Valley\\'\\'\\' Zeals RAF Station\\'\\'Barrackpore\\'\\'Cleveland Munici...\\'\\'Agra\\'\\'Tanuan\\'\\'Prosnes Advanced...\\'\\'\\' RuralÂ\\\\xa0Retreat VA\\'\\'\\' Casablanca-Cazes...\\'\\'\\' Wadi Seidna\\'\\'\\' Biak Indonesia\\'\\'MalÃ¡ Ã\\\\x9apa (Klei...\\'\\'SlunecnÃ\\\\xad jÃ¡ma-...\\'\\'\\' Marshall Islands\\'\\'Attu-Alexai Poin...\\'\\'\\' Lake Tali\\'\\'Yankai\\'\\'\\' Moncton/Greater ...\\'\\'Thabutkon Airstrip\\'\\'East Midlands-Ca...\\'\\'Monywa\\'\\'Warazup Airstrip\\'\\'Quezon Field\\'\\'Hailing Island\\'\\'\\' Darwin NT\\'\\'Carmeilles-en-Va...\\'\\'Dhaka-Kurmitola ...\\'\\'\\' Orfordness\\'\\'CompiÃ¨gne/Margn...\\'\\'\\' Cheddington\\'\\'Mulden\\'\\'Dobodura\\'\\'\\' Poix\\'\\'Momote Airfield\\'\\'between Bayug an...\\'\\'Nasagbu Island\\'\\'Shinbweyang Airf...\\'\\'Braunau\\'\\'Dagupan Luzon\\'\\'Kutkai\\'\\'\\' Irrawady River\\'\\'Mangshi\\'\\'\\' Kodiak NAS AK\\'\\'\\' Tanauan Airfield\\'\\'within India or Burma\\'\\'San Marcelino\\'\\'\\' Jassore\\'\\'\\' Tanauan\\'\\'Shwebo\\'\\'\\' Moran\\'\\'\\' Vitra\\'\\'\\' George West TX\\'\\'\\' Riverside CA\\'\\'Aalborg West\\'\\'Bhamo Airport (BMO)\\'\\'Mawnubyin\\'\\'\\' Prosnes\\'\\'\\' San Carlos CA\\'\\'CrÃ³ na Roda Hil...\\'\\'Bathurst Bay QLD\\'\\'Myitche Air Base\\'\\'Kerman Airport (...\\'\\'Gravesend\\'\\'\\' Lee Vining CA\\'\\'\\' Yunnan\\'\\'Breslau-Gandau A...\\'\\'\\' Cold Bay-Fort Ra...\\'\\'\\' Rock Harbor FL\\'\\'\\' Pachung\\'\\'Kyaukpyu Ramree...\\'\\'\\' Yunglung\\'\\'Kurmitola\\'\\'\\' Port Moresby Pa...\\'\\'\\' Barrackpore\\'\\'\\' Chittagong\\'\\'Wroclaw\\'\\'\\' Slater MO\\'\\'Quinapundan Bay\\'\\'Dunkeswell\\'\\'Vaszar\\'\\'\\' Angaur\\'\\'Shingwiyang\\'\\'Dohazari Airfield\\'\\'Weeze\\'\\'\\' Pangseng Pass\\'\\'\\' Wesel\\'\\'Riswickhof\\'\\'\\' Rees\\'\\'within Germany\\'\\'\\' Mehr\\'\\'\\' Poseh Yukiang R...\\'\\'\\' Weeze\\'\\'Henderson Field ...\\'\\'on Rhein crossin...\\'\\'\\' Bonninghardt\\'\\'\\' Taza\\'\\'Magee Island\\'\\'Maunubyin Airport\\'\\'Leonokow\\'\\'\\' Tanauan Leyte I...\\'\\'Napoli-Capodichi...\\'\\'\\' Irvine\\'\\'El Centro-Naval ...\\'\\'Chinkiang Air Base\\'\\'Pomigliano Airfield\\'\\'\\' Chiringa Assam\\'\\'Alon Airstrip\\'\\'Meiktila\\'\\'Knolwood Auxilia...\\'\\'Chabua\\'\\'\\' Bovingdon RAF St...\\'\\'\\' Trenton NJ\\'\\'Barreiras BA\\'\\'Bhamo\\'\\'\\' Turovets\\'\\'Nidda\\'\\'Monglong\\'\\'\\' Ettinghausen\\'\\'Mourmelon\\'\\'\\' Bonn\\'\\'\\' Reichenbach Airf...\\'\\'\\' Shinbwiyan\\'\\'Tuao Luzon\\'\\'Pearce Airport WA\\'\\'\\' Faroe Islands\\'\\'\\' Limburg\\'\\'Wrexen Paderborn\\'\\'Gelnhausen Advan...\\'\\'\\' Malmedy\\'\\'\\' Timor Savu Sea\\'within Hessen\\'\\'Dinjan Airfield\\'\\'Myitke\\'\\'Wertheim am Main...\\'\\'Okinawa-Yontan F...\\'\\'\\' Kiaokie\\'\\'within northern France\\'\\'Crailsheim-Advan...\\'\\'Achiet Advanced ...\\'\\'Lashio Airport (...\\'\\'\\' South Khulna\\'\\'Khilpara\\'\\'Wenigenlupnitz A...\\'\\'Nieder-Waroldern\\'\\'\\' Hildesheim\\'\\'\\' Oklahoma City OK\\'\\'Makum\\'\\'\\' Ribeira Azores\\'\\'Bretigny (A-48)\\'\\'\\' Yelahanka Mysore\\'\\'Fahrenkamp\\'\\'Wenigenlupnitz (...\\'\\'Funafuti Lagoon\\'\\'Nieheim\\'\\'\\' Holzminden\\'\\'Bankstown Airpor...\\'\\'\\' Feni\\'\\'\\' Morgantown WV\\'\\'Bad Langensalza ...\\'\\'Le Havre Advance...\\'\\'Koblenz-Winninge...\\'\\'\\' Shingbwyang\\'\\'Charleroi\\'\\'Malir\\'\\'Gotha Nord Advan...\\'\\'Eisfeld Advanced...\\'\\'Amiens-Advanced ...\\'\\'\\' Auqui Island Mi...\\'\\'Giessen Advanced...\\'\\'\\' Ronda\\'\\'Austin-Bergstrom...\\'\\'\\' Burnet TX\\'\\'Gooseberry Hill WA\\'\\'\\' Kielce\\'\\'\\' Vitrolles\\'\\'Ledo Pass area\\'\\'Morhiban Lake L...\\'\\'Dahlenwarsleben\\'\\'\\' Sweetwater TX\\'\\'Santa Rosa Islan...\\'\\'Glienig/Steinreich\\'\\'Alness Scotland\\'\\'Bermuda-Kindley ...\\'\\'Luckenwalde nea...\\'\\'\\' Sinbo\\'\\'\\' Piesenkofen\\'\\'\\' Dessau\\'\\'\\' Mongyai\\'\\'BÃ¶rnersorf\\'\\'Voisins\\'\\'\\' Shanghai-Kiangwa...\\'\\'Rumkhapalong\\'\\'Helmstedt Advanc...\\'\\'Manila Airport (...\\'\\'Reisbach\\'\\'SchwÃ¤bisch Hall...\\'\\'Bayreuth Advance...\\'\\'Metz\\'\\'Rheine-Advanced ...\\'\\'\\' Angeles City\\'\\'Berlin\\'\\'\\' Hesdin\\'\\'\\' Claude TX\\'\\'\\' Emison Auxiliary...\\'\\'\\' Foreland Kent\\'\\'between Chanyi a...\\'\\'Guam-Agana NAS (...\\'\\'Poltava Air Base\\'\\'Markham Valley\\'\\'Wustrow/Rerik\\'\\'Matsuyama\\'\\'Basra Internatio...\\'\\'\\' SikeÃ¥fjÃ¤rden ...\\'\\'Sarreguemines\\'\\'between Meiktila...\\'\\'Gleiwitz\\'\\'\\' Quara\\'\\'Manus Island\\'\\'\\' Higgins Field Q...\\'\\'Emirau Airport (...\\'\\'Long Man Hill\\'\\'Hindhead\\'\\'Landau Ebenberg ...\\'\\'Jarny\\'\\'Ywataung\\'\\'Ergolding Advanc...\\'\\'Cham\\'\\'Helmstedt-Advanc...\\'\\'Saltnessand Buv...\\'\\'\\' Mitu\\'\\'RosiÃ¨res en Hay...\\'\\'\\' Putao\\'\"Cox\\'s Bazar Airp...\"\\'between Tadji an...\\'\\'Merseburg\\'\\'Sorido Airstrip\\'\\'Marrakech\\'\\'\\' Cordelia CA\\'\\'Nivelles B-75 Ad...\\'\\'Fl. Blanc\\'\\'Auckland-Mangere...\\'\\'Ledo Airfield\\'\\'Hidden Valley P...\\'\\'\\' Daytona Beach FL\\'\\'Angers-Arville A...\\'\\'Risstissen-Advan...\\'\\'within Kachin State\\'\\'\\' Joal\\'\\'Kalaywa\\'\\'\\' Manus Island-Mom...\\'\\'Beirut\\'\\'\\' Mabein\\'\\'\\' Ocean View VA ...\\'\\'Kwanghan\\'\\'Yaping\\'\\'Kharagpur\\'\\'Nice Advanced La...\\'\\'\\' Nanhua\\'\\'\\' Pegu\\'\\'Taillefontaine\\'\\'\\' \" Cox\\'s Bazaar\"\\'\\' Attu AK\\'\\'\\' Okinawa\\'\\'\\' Kiel\\'\\'Hannover\\'\\'Mannheim Advance...\\'\\'Mingaladon\\'\\'Winslow Airport ...\\'\\'\\' Mayaguana Island\\'\\'Venezia-Lido Air...\\'\\'\\' Drewin\\'\\'\\' Tura\\'\\'Longreach Airpor...\\'\\'\\' Iwo Jima\\'\\'\\' Karin\\'\\'\\' Ipiabas RJ\\'\\'BogotÃ¡-Techo Ai...\\'\\'Tanahmera\\'\\'Port Of Spain-Pi...\\'\\'Melun/Villaroche...\\'\\'\\' Htawgaw\\'\\'between Momote a...\\'\\'\\' Dhaka\\'\\'Bluefield VA\\'\\'\\' Canton\\'\\'\\' Hainan Island S...\\'\\'\\' Gumab Masbate I...\\'\\'Birmingham Airpo...\\'\\'Tinian Island In...\\'\\'Changchun\\'\\'Semarang Airport...\\'\\'\\' San Jose\\'\\'Le Bouscat Bord...\\'\\'\\' Majuro\\'\\'Mount Bongkok\\'\\'\\' Blakehill Farm\\'\\'Netrubezh Kolpn...\\'\\'\\' Marseille\\'\\'\\' Yelvertoft QLD\\'\\'\\' Lula GA\\'\\'Butterworth Airp...\\'\\'Cheshire CT\\'\\'\\' Wake Island\\'\\'Mount Ptolemy n...\\'\\'Jesselton\\'\\'Vadodara\\'\\'Hmawbi RAF Station\\'\\'\\' Wuhan\\'\\'\\' Nanking (Nanjing)\\'\\'\\' Gerelde\\'\\'Poona RAF Statio...\\'\\'\\' Lo-tien-Chen\\'\\'\\' Pearl Harbor NAS...\\'\\'\\' Le Mans\\'\\'Elk Mountain WY\\'\\'Lipa-Fernando Ai...\\'\\'Solntsevo distri...\\'\\'Fujisawa Air Base\\'\\'Belo Airport (BMD)\\'\\'\\' Aurora-Lowry AFB...\\'\\'\\' Aix-en-Provence\\'\\'\\' Carlisle\\'\\'Menorca-MahÃ³n A...\\'\\'IlhÃ©us Airport ...\\'\\'Negros Island\\'\\'Dhorro Naro\\'\\'\\' Huerta\\'\\'\\' Dumog\\'\\'\\' Saigon\\'\\'\\' Barquisimeto\\'\\'Victoria Point\\'\\'Victoria Point A...\\'\\'\\' Warlingham\\'\\'\\' Orlando FL\\'\\'\\' Sanborn NY\\'\\'Minsk-1 Airport ...\\'\\'Charlottetown P...\\'\\'Bandung Airport ...\\'\\'\\' Yangon-Mingalado...\\'\\'\\' MÃ©lisey\\'\\'Medellin\\'\\'Anzio\\'\\'Thing Mountain CA\\'\\'Jinan Shandong\\'\\'Poole Harbour\\'\\'\\' Praha-Ruzyne Int...\\'\\'Basra\\'\\'Newark Internati...\\'\\'Newark NJ (EWR)\\'\\'Derwent River es...\\'\\'Rod-el-Farag\\'\\'\\' Newport Beach DE\\'\\'Radcliffe-on-Trent\\'\\'Singapore-Kallan...\\'\\'\\' Zirc\\'\\'Nanjing\\'\\'\\' Hobard Mills CA\\'\\'Seoul-Gimpo (Kim...\\'\\'\\' Anadyr\\'\\'\\' Bakovka Kuntsev...\\'\\'Indian Ocean\\'\\'Banahao Mountain\\'\\'Lantau Island\\'\\'Singapore-Seleta...\\'\\'Brampton\\'\\'Zyryanka Airport\\'\\'\\' Sinhkung\\'\\'Bina\\'\\'\\' Touho\\'\\'Hunan\\'\\'Port Angeles CGA...\\'\\'Laupahoehoe HI\\'\\'Mount Guram Nor...\\'\\'Stoney Cross RAF...\\'\\'\\' Albuquerque-Kirt...\\'\\'Ayuy Airstrip\\'\\'Lee-On-Solent\\'\\'\\' Shensi\\'\\'Shanghai-Jiangwa...\\'\\'Lyneham RAF Stat...\\'\\'Woodbridge RAF S...\\'\\'Oviedo Airport (...\\'\\'\\' Wymeswold\\'\\'Bovingdon RAF St...\\'\\'CorumbÃ¡ MS\\'\\'La Libertad Airs...\\'\\'Effingham\\'\\'\\' Hollywood CA\\'\\'Tarawa Atoll\\'\\'Bassingbourn RAF...\\'\\'San JosÃ©-La Sab...\\'\\'\\' Barcelos AM\\'\\'Valley RAF Station\\'\\'\\' Kazan\\'\\'Pindi-Khut\\'\\'Tsushima Strait\\'\\'\\' Peiping\\'\\'Sydney NSW\\'\\'Alwar\\'\\'Oshima Island\\'\\'\\' Heidelberg\\'\\'Simra Airport (SIF)\\'\\'Desborough RAF S...\\'\\'Pastaza-Shell Me...\\'\\'\\' Richmond-Byrd Fi...\\'\\'Karachi-Mauripur...\\'\\'within India\\'\\'\\' Guam\\'\\'\\' Flagler Beach FL\\'\\'Kawdut\\'\\'Stradishall RAF ...\\'\\'\\' Amalfi\\'\\'\\' Aguadilla-Ramey ...\\'\\'\\' Champagny Island...\\'\\'Delhi-Palam Airp...\\'\\'\\' Oni\\'\\'Taboga Island\\'\\'Asmara Internati...\\'\\'\\' Madrid-Barajas A...\\'\\'\\' Samar Field\\'\\'El Arenal\\'\\'Kwangju Airstrip\\'\\'Willimantic CT\\'\\'\\' Shannon\\'\\'\\' Mexico City-Central\\'\\'Swartkop Air Base\\'\\'\\' Kallar Syedan\\'\\'\\' Pau-Uzein Airpor...\\'\\'within Cameron Highlands\\'\\'\\' Aracaju Brazil\\'\\'Char Chapli\\'\\'\\' Palmer MA\\'\\'\\' Reading Municipa...\\'\\'Ewa MCAS HI\\'\\'\\' Jinan Airport (TNA)\\'\\'Saishu Island\\'\\'\\' Cuenca Airport (...\\'\\'Sama Bay Hainan\\'\\'\\' Goodland KS\\'\\'Bellevue-Offutt ...\\'\\'Kinvara Galway\\'\\'\\' Bassein\\'\\'Honda\\'\\'Melbourne-Essend...\\'\\'General Pacheco BA\\'\\'Mexico City\\'\\'Torrance CA\\'\\'Willow Grove NAS...\\'\\'\\' Oslo\\'\\'\\' Point Arena CA\\'\\'Lumberton Airpor...\\'\\'Lakehurst NJ\\'\\'\\' Kranj\\'\\'\\' Enniskerry\\'\\'Bournemouth-Hurn...\\'\\'Fukuoka-Itazuke ...\\'\\'Ndolo\\'\\'\\' Bled\\'\\'Rouen\\'\\'\\' Moline IL\\'\\'\\' Garmisch-Partenk...\\'\\'\\' Ashland MS\\'\\'Bathurst-Jeshwan...\\'\\'FÃ¼rth Advanced ...\\'\\'Manchester-Ringw...\\'\\'\\' Moncton NB (YQM)\\'\\'\\' KÃ¸ge\\'\\'\\' Big Delta AK\\'\\'Constantine-Ain ...\\'\\'\\' Elko NV\\'\\'\\' Esperanza\\'\\'\\' Darvaza Airport\\'\\'\\' Bathurst-Yundum ...\\'\\'Nome AK\\'\\'Holmsley South R...\\'\\'Tiputini Airport...\\'\\'Okinawa-Naha AFB...\\'\\'Estevan SK\\'\\'\\' Granite Falls WA\\'\\'\\' Gander NL\\'\\'Yonago-Miho Air ...\\'\\'\\' Xichang Sichuan...\\'\\'Shannon Airport ...\\'\\'\\' Hong Kong-Kai Ta...\\'\\'Hong Kong-Kai Tak\\'\\'\\' Rio de Janeiro RJ\\'\\'Bulusan\\'\\'Hermosillo Airpo...\\'\\'\\' Stephenville-Har...\\'\\'Fort Benning-Law...\\'\\'\\' Koge\\'\\'\\' Penang Malaysia...\\'\\'\\' Cheyenne Airport...\\'\\'\\' Sefrou\\'\\'\\' Alexandria VA\\'\\'Newcastle DE\\'\\'\\' Woendi\\'\\'Laramie WY\\'\\'\\' Chitral\\'\\'Catanduva SP\\'\\'Membury RAF Station\\'\\'\\' Manila-Nichols A...\\'\\'Gebel Kalamoun\\'\\'El Paso-Biggs AA...\\'\\'Mount Banahao\\'\\'Tashauz\\'\\'Saint-LÃ©ger-la-...\\'\\'Taiden\\'\\'\\' Yamshchina Mosk...\\'\\'\\' Shere\\'\\'Rio de Janeiro-M...\\'\\'\\' San Rafael NM\\'\\'Anchorage-Merril...\\'\\'\\' DobrovÃ\\\\xadze\\'\\'Ufa\\'\\'Takuma Bay\\'\\'Cleveland OH\\'\\'\\' Lebec CA\\'\\'\\' Perote\\'\\'\\' Iwo Jima Air Bas...\\'\\'Lons-le-Saunier\\'\\'\\' Interlaken\\'\\'\\' Suez\\'\\'Ohama Beach 210...\\'\\'\\' Valdenoche\\'\\'Darwin RAAF Stat...\\'\\'\\' San JosÃ©\\'\\'Brize Norton (BZZ)\\'\\'El Palomar Air B...\\'\\'San Juan-Isla Gr...\\'\\'\\' Berelyokh\\'\\'Dunsfold Airport\\'\\'Mount Rainier WA\\'\\'\\' Osaka-Itami Air ...\\'\\'\\' Ostrov Litne\\'\\'Mt. Banahaw\\'\\'Fairbanks-Ladd A...\\'\\'Shanghai-Longhua...\\'\\'\\' Tilaran\\'\\'\\' Trigno\\'\\'\\' Ferrara\\'\\'\\' London-Northolt ...\\'\\'\\' Aberdeen MD\\'\\'Honington RAF St...\\'\\'Buenaventura\\'\\'Malta-Luqa\\'\\'\\' San Diego CA\\'\\'Los Angeles Airp...\\'\\'\\' Shanghai-Jiangwa...\\'\\'Walshville IL\\'\\'\\' Shannon Airport ...\\'\\'Michigan City IN\\'\\'Thurston Island\\'\\'\\' Charleston SC\\'\\'\\' Taldi-Kurgan\\'\\'\\' France\\'\\'\\' Nashville Metrop...\\'\\'Whitchurch Airport\\'\\'SÃ£o Paulo de Ol...\\'\\'\\' Carmel NJ\\'\\'\\' Qingdao\\'\\'Jones Beach NY\\'\\'Mont Ventoux\\'\\'Costermansville ...\\'\\'Jacksonville Mun...\\'\\'Stowting\\'\\'\\' Laoag Philippines\\'\\'Galax VA\\'\\'\\' Puebla\\'\\'Oakington\\'\\'\\' Singapore-Seleta...\\'\\'Belfast\\'\\'Kupang-El Tari A...\\'\\'An Cu Annam\\'\\'Oakland NAS CA ...\\'\\'\\' Puerto Araujo\\'\\'\\' Guayaquil Airpor...\\'\\'Allentown PA\\'\\'BÃ¼ckeburg\\'\\'Schofields Airpo...\\'\\'\\' Seattle/Sand Poi...\\'\\'\\' Headingley MB\\'\\'\\' Dartmouth NS\\'\\'Mt. Parker\\'\\'\\' Chongqing\\'\\'Renfrew\\'\\'Gillemanuk Bali\\'\\'Newark Airport NJ\\'\\'\\' Hankou\\'\\'\\' Lisboa-Portela d...\\'\\'Middle Aston\\'\\'\\' Assateague Islan...\\'\\'Harrington DL\\'\\'Lagoa Santa GO\\'\\'\\' Pedro Bernado\\'\\'\\' Chongqing Airpor...\\'\\'\\' Mys Shmidta Airport\\'\\'Waterbeach RAF S...\\'\\'\\' Kladno\\'\\'Denver CO\\'\\'League City TX\\'\\'\\' Terracina\\'\\'\\' BogotÃ¡\\'\\'\\' MalmÃ¶\\'\\'Neubiberg Air Base\\'\\'Offenbach\\'\\'Kaufbeuren\\'\\'Philadelphia PA\\'\\'China Sea\\'\\'\\' Point Lookout S...\\'\\'Nizhnesvanetsky ...\\'\\'Lapula River\\'\"L\\'isola di Ischia\"\\'\\' Bandung\\'\\'\\' ChÃ¢teau-Bernard\\'\\'Charleston Munic...\\'\\'\\' MedellÃ\\\\xadn-Enriqu...\\'\\'\\' Negombo RAF Station\\'\\'Masindi\\'\\'\\' Bucaramanga\\'\\'\\' Aq Qaleh\\'\\'Caracas-La Carlo...\\'\\'Freetown\\'\\'\\' Dessie\\'\\'Fairfield-Suisun...\\'\\'\\' Gimbat Station NT\\'\\'Palm Beach-Palm ...\\'\\'\\' Decaturville TN\\'\\'\\' Caracas\\'\\'San Antonio-Kell...\\'\\'Dalbry\\'\\'Dakar-Yoff Airpo...\\'\\'\\' Malakal\\'\\'Columbus GA\\'\\'\\' Karlovy Vary\\'\\'\\' Volochanka Villa...\\'\\'Shanghei-Lungwha...\\'\\'San Salvador-Ilo...\\'\\'Niamey\\'\\'Torino-Mirafiori...\\'\\'Biloxi-Keesler A...\\'\\'\\' Nicoya Airport (...\\'\\'Newark Airport ...\\'\\'Saigon-Tan Son N...\\'\\'landing ground H3\\'\\'\\' Cape May Pount ...\\'\\'\\' Austin TX\\'\\'Ometepec\\'\\'Quito-Mariscal S...\\'\\'Gainesville Airp...\\'\\'\\' Khabarovsk Airpo...\\'\\'\\' Malaybalay\\'\\'\\' Livingston MT\\'\\'\\' Trinidad\\'\\'HÃ©Ã°insfjÃ¶rÃ°ur\\'\\'\\' Atsugi-NAS (NJA)\\'\\'\\' Bainbridge MD\\'\\'MitÃº Airport (MVP)\\'\\'\\' Palanquero-Germa...\\'\\'Aoulef\\'\\'\\' GÃ¨menos\\'\\'Natal Airport R...\\'\\'Oakington RAF St...\\'\\'\\' Charles Town WV\\'\\'\\' Dalat\\'\\'Fort Knox-Godman...\\'\\'\\' Cebu\\'\\'\\' Leninabad Airpor...\\'\\'\\' Mayadine\\'\"Karkinyts\\'ka Gul...\"\\'Hamlin Field SK\\'\\'Ipiales-San Luis...\\'\\'Charleston WV\\'\\'\\' Isiolo\\'\\'Antananarivo-Ari...\\'\\'\\' EsÃ©ka\\'\\'\\' Florida coast USA\\'\\'\\' Saigon-Tan Son N...\\'\\'\\' Inistrahull Island\\'\\'Chincoteague VA\\'\\'OberrÃ¶blingen\\'\\'\\' Melbourne FL\\'\\'Vichy-Charmeil A...\\'\\'Saigon ?\\'\\'Az-Zubair\\'\\'Kotzebue Airport...\\'\\'Saint Joseph Air...\\'\\'MorÃ³n AB BA\\'\\'London Airport (...\\'\\'\\' Yogyakarta\\'\\'within Yumen province\\'\\'Tupungato Mountain\\'\\'SvolvÃ¦r-Helle A...\\'\\'Miami Internatio...\\'\\'within Alaska\\'\\'Severo-Vostochny...\\'\\'Cachoeiro de Ita...\\'\\'\\' Chevilly\\'\\'\\' Haneda AAB\\'\\'\\' Cormey OH\\'\\'Hanksville UT\\'\\'\\' Woodford Airport...\\'\\'Bahrain Marine A...\\'\\'\\' LÃ¸dingen\\'\\'\\' Westgate\\'\\'\\' Cambridge Bay NU\\'\\'\\' El Ajeb\\'\\'Dishforth RAF St...\\'\\'\\' Aberdeen-Dyce Ai...\\'\\'Voula\\'\\'Bermuda Air Term...\\'\\'Grosse Ile NAS MI\\'\\'\\' Larkspur CO\\'\\'Zamboanga\\'\\'Hollywood-Lockhe...\\'\\'Carlota\\'\\'Buenos Aires-Jor...\\'\\'Junagarh\\'\\'\\' Puerto San Juan\\'\\'\\' Angeles City-Cla...\\'\\'Delhi-Palam Air ...\\'\\'Dago Lake AK\\'\\'Belfast-Nutts Co...\\'\\'Pau\\'\\'Panama City-Albr...\\'\\'\\' Borja\\'\\'\\' Changchun Airpor...\\'\\'\\' Gander NL Canada\\'\\'Pikes Peak CO\\'\\'Sylva NC\\'\\'\\' Baoding\\'\\'\\' Southend Pier\\'\\'London\\'\\'\\' Bryce Canyon Air...\\'\\'Annette Island AK\\'\\'Mount Hymettus\\'\\'\\' Yulin\\'\\'Negombo RAF Station\\'\\'\\' Muswellbrook NSW\\'\\'within Pir Panjal Range\\'\\'Balikpapan\\'\\'Jammu Airport (IXJ)\\'\\'\\' Les Bouchoux\\'\\'Adak AK\\'\\'Bombay-Santa Cru...\\'\\'Santa Maria del ...\\'\\'Wilmington-Newca...\\'\\'Brightstone Down...\\'\\'Honolulu NAF HI\\'\\'Porto de Moz PA\\'\\'Plouznice Lomni...\\'\\'\\' Rizal province\\'\\'Wau Airport (WUG)\\'\\'Sverdlovsk-Kolts...\\'\\'Ciudad BolÃ\\\\xadvar ...\\'\\'\\' Rumija\\'\\'Yakutat AK\\'\\'\\' Trappa\\'\\'BahÃ\\\\xada Blanca-Co...\\'\\'Seattle/Tacoma I...\\'\\'\\' Tokyo\\'\\'\\' Taldom\\'\\'\\' Herford TX\\'\\'\\' Chongqing Airport\\'\\'\\' Eglin TX\\'\\'Hampton-Langley ...\\'\\'\\' Izmir\\'\\'\\' Goose Bay Airpor...\\'\\'\\' Camp Springs-And...\\'\\'\\' Abingdon RAF Sta...\\'\\'Norfolk NAS Cham...\\'\\'\\' Tyoply Stan\\'\\'\\' Krasnoyarsk Seve...\\'\\'Dilalongan\\'\\'\\' Uetersen RAF Sta...\\'\\'Madrid-Barajas (...\\'\\'\\' Mitwaba\\'\\'Manila ?\\'\\'Korangi Creek\\'\\'\\' Leeuwarden\\'\\'LÃ©on\\'\\'\\' KÃ¸benhavn-Kastr...\\'\\'\\' Chrysostom\\'\\'Johannesburg-Pal...\\'\\'\\' Gonesse\\'\\'Ruislip\\'\\'\\' Savannah GA\\'\\'\\' Madrid Airport\\'\\'\\' YamasÃ¡\\'\\'Ponte Galeria\\'\\'Guaymas\\'\\'Oxon Hill MD\\'\\'Camp Springs-And...\\'\\'Mukden Airport (...\\'\\'Boston-Logan Int...\\'\\'Iloilo-Mandurria...\\'\\'\\' Ward CO\\'\\'Moulouya\\'\\'Baltimore MD\\'\\'\\' Cyprus\\'\\'Monte de Caparica\\'\\'Montagne du Chev...\\'\\'\\' Coalinga CA\\'\\'western Atlantic...\\'\\'Beirut Internati...\\'\\'between Chita an...\\'\\'Marignane\\'\\'Bombay-Santacruz...\\'\\'\\' Brunswick GA\\'\\'\\' Saluda NC\\'\\'\\' Padalarang\\'\\'Paris\\'\\'\\' Ciudad del Carme...\\'\\'\\' Ulrichstein\\'\\'Hullavington RAF...\\'\\'Collesalvetti\\'\\'\\' St. Marcouf\\'\\'Mati\\'\\'\\' La Grita\\'\\'\\' Columbus OH\\'\\'\\' Breves PA\\'\\'Kalafrana\\'\\'Mobile AL\\'\\'\\' Perpignan\\'\\'\\' Kharp\\'\\'\\' San Jose CA\\'\\'\\' Poso Sulawesi\\'\\'Tulsa Internatio...\\'\\'Mount Sanford AK\\'\\'Juqueri Range SP\\'\\'\\' ChocontÃ¡\\'\\'Vorkuta Airport ...\\'\\'Poonch Airstrip\\'\\'\\' Woodland WA\\'\\'Oklahoma City-Ti...\\'\\'Monte Cardo\\'\\'\\' Berlin-Gatow\\'\\'\\' Tsingtao\\'\\'\\' Buenavista\\'\\'Kano Internation...\\'\\'\\' Altamira\\'\\'Los Barrios\\'\\'Saigon\\'\\'\\' Lae Airfield\\'\\'Jolo Airport (JOL)\\'\\'Irish Law Mountain\\'\\'\\' Chita\\'\\'Khabarovsk Airport\\'\\'\\' Quonset Point NA...\\'\\'San Isidro de el...\\'\\'\\' Bodaybo\\'\\'San JosÃ©\\'\\'\\' Tsingtao Marine ...\\'\\'Erding Air Base\\'\\'Darwin Airport ...\\'\\'\\' Magazini\\'\\'\\' Easthampton MA\\'\\'\\' JunÃ\\\\xadn Airport ...\\'\\'\\' Vrede\\'\\'\\' Columbus-Port Co...\\'\\'\\' Cebu-Lahug Airport\\'\\'\\' Bovingdon\\'\\'Ramat David\\'\\'\\' Magadan\\'\\'Ramat-David Air ...\\'\\'\\' Latrun\\'\\'\\' Popowice\\'\\'North Luffenham ...\\'\\'\\' Banton Rouge LA\\'\\'\\' Amesbury\\'\\'Lisboa\\'\\'Eloy AZ\\'\\'Coulommiers Airport\\'\\'\\' Mount Carmel PA\\'\\'Salzburg Airport...\\'\\'Maracaibo-Grano ...\\'\\'Caracas Airport ...\\'\\'BogotÃ¡-Techo\\'\\'Istanbul\\'\\'Keerbergen Airfield\\'\\'Pico de Orizaba\\'\\'Northwood\\'\\'Ekron-Tel Nof Ai...\\'\\'\\' Wiesbaden Air Base\\'\\'Djiring\\'\\'Greenville AFB NC\\'\\'\\' Wiesbaden\\'\\'\\' Coronel Pringles...\\'\\'\\' Maiquetia-La Gloria\\'\\'\\' Toulon\\'\\'Puerto Cabello H...\\'\\'\\' Kau Chau Island\\'\\'\\' Marseille France\\'\\'\\' Villacoublay Air...\\'\\'Gore Airport (GOR)\\'\\'\\' Hoa Binh\\'\\'Cap des Rosiers QC\\'\\'Fassberg Air Base\\'\\'\\' Berlin-Tempelhof...\\'\\'Abingdon RAF Sta...\\'\\'Kittigazuit NWT\\'\\'Qingdao Airport ...\\'\\'\\' Buenos Aires\\'\\'\\' Sywell\\'\\'Turukhansk Airpo...\\'\\'\\' Dakar Senegal\\'\\'Berlin-RAF Gatow...\\'\\'MCAS Cherry Poin...\\'\\'\\' Miami NAS FL\\'\\'Rununder Point\\'\\'Pyote AFB TX\\'\\'Desford RAF Station\\'\\'Sydney Airport ...\\'\\'Batu Melintang\\'\\'\\' Coro FalcÃ³n\\'\\'\\' Ravolzhausen\\'\\'\\' Newton NJ\\'\\'Tengah RAF Stati...\\'\\'\\' Winona WI\\'\\'\\' Kimbwe\\'\\'\\' Quirindi NSW\\'\\'Novosibirsk-Seve...\\'\\'Lisboa Airport (...\\'\\'Moskva-Bykovo Ai...\\'\\'Surabaya\\'\\'FÃ¸rdesveten Ho...\\'\\'\\' Wetaskiwin AB\\'\\'Barbacena MG\\'\\'\\' Buguruslan-Bayma...\\'\\'Tetovo\\'\\'\\' Cape Medynski Za...\\'\\'Wunstorf RAF Sta...\\'\\'Burlington Inter...\\'\\'Santa Maria-Vila...\\'\\'Lord Howe Island...\\'\\'\\' Balkhash Airport...\\'\\'Mount Punggur L...\\'\\'Trondheim-Hommelvik\\'\\'Haines Bay\\'\\'\\' Rionegro\\'\\'Campina Grande A...\\'\\'Berlin-R.A.F. Ga...\\'\\'\\' Wadi Halfa\\'\\'BÃ¼ckeburg RAF S...\\'\\'\\' Yevlakh\\'\\'\\' Parshino Kirens...\\'\\'Liverpool Intern...\\'\\'\\' Clinton LA\\'\\'\\' Cozumel\\'\\'Rantoul-Chanute ...\\'\\'\\' Sumatra Island\\'\\'\\' Samurskaya\\'\\'\\' Edmonton AB\\'\\'\\' Elba Tyrrhenian...\\'\\'LÃ¼beck-Blankens...\\'\\'Herzlia Airfield\\'\\'Ramat David Air ...\\'\\'\\' Mys Kosistyy\\'\\'\\' Cape Spencer AK\\'\\'Mount Guemes Va...\\'\\'Mount Macedon VIC\\'\\'BogotÃ¡\\'\\'\\' Rawang\\'\\'Fairbanks-Eielso...\\'\\'Prestwick-Heathf...\\'\\'Wake Island Airp...\\'\\'Berlin-SchÃ¶neberg\\'\\'\\' Leninabad\\'\\'ColÃ³n-Coco Solo...\\'\\'\\' Georgetown\\'\\'Conholt Park\\'\\'\\' Ryzhovo Sakha\\'\\'Fazenda Boa Espe...\\'\\'Vehari\\'\\'RAF Wig Bay Wig...\\'\\'\\' Cambray NM\\'\\'\\' Muroc CA\\'\\'Praha-Ruzyne Int...\\'\\'\\' Fassberg\\'\\'\\' KÃ¶nigstein im T...\\'\\'Taipei\\'\\'Antofagasta-Cerr...\\'\\'\\' Maiduguri\\'\\'Playa Viru\\'\\'\\' Greenville-Donal...\\'\\'\\' Fairfield-Suisun...\\'\\'Basalt Island\\'\\'Raiiz mountain r...\\'\\'\\' Pilos\\'\\'\\' Gandesa\\'\\'Valuyevo Moskov...\\'\\'Fort Nelson BC\\'\\'\\' Florida USA Gu...\\'\\'\\' Mangalore VIC\\'\\'Villavicencio\\'\\'Jambi Sumatra\\'\\'\\' Minsk\\'\\'Monte Argentario\\'\\'Seattle-Boeing F...\\'\\'\\' Tel Aviv\\'\\'MÃ¼nchen-Riem Ai...\\'\\'\\' Weimar CA\\'\\'Zacatecas Airpor...\\'\\'Caravelas Bay BA\\'\\'Brandywine MD\\'\\'Birjand Airport ...\\'\\'\\' Garstang\\'\\'\\' Arzew\\'\\'\\' Mineral WA\\'\\'Lyon-Bron Airpor...\\'\\'\\' Pelotas-Federal ...\\'\\'\\' Frankfurt Rhein-...\\'\\'Ras-el-Tin\\'\\'\\' Banihal Pass\\'\\'Rio Yavari\\'\\'western Atlantic\\'\\'Wichita-Beech Ai...\\'\\'\\' Churchill MB\\'\\'\\' Stalino Airport ...\\'\\'\\' Homer AK\\'\\'Roosevelt Roads-...\\'\\'LuleÃ¥-Kallax Ai...\\'\\'\\' Utecht\\'\\'Alameda CA\\'\\'Nizhnyaya Pesha ...\\'\\'\\' Port Washington NY\\'\\'Tainan\\'\\'\\' Tripoli-Castel B...\\'\\'Buenaventura Bay\\'\\'\\' Ahwaz\\'\\'Guayaquil\\'\\'\\' Mezenka Beloyar...\\'\\'\\' BarsebÃ¤ck Ã\\\\x96re...\\'\\'\\' HuÃ¡nuco\\'\\'Paiyang\\'\\'Oberpfaffenhofen...\\'\\'Celle RAF Statio...\\'\\'Montevideo\\'\\'\\' San Antonio de l...\\'\\'\\' Exhall\\'\\'Hythe Hampshire\\'\\'Annette Island A...\\'\\'North Point Hon...\\'\\'Cuzco Airport (CUZ)\\'\\'Cerro Colorado\\'\\'\\' BraganÃ§a PA\\'\\'Gander Airport ...\\'\\'\\' Bad Langensalza\\'\\'\\' Celle\\'\\'Coolangatta Airp...\\'\\'Puerto Cabezas\\'\\'\\' Nkolafamba\\'\\'Mount Bel-Auty\\'\\'Hoang Su Phi\\'\\'\\' Paraparaumu Airp...\\'\\'Barranquilla-Ern...\\'\\'\\' LÃ¼beck\\'\\'Kingston-Palisad...\\'\\'\\' Resolute Bay NU\\'\\'\\' Campeche\\'\\'\\' Johnston Island\\'\\'Belo Horizonte-C...\\'\\'\\' Edgar Springs MO\\'\\'Schleswigland RA...\\'\\'\\' Pirsogianni\\'\\'Dubbo Airport N...\\'\\'Marve Beach\\'\\'Nice Airport (NCE)\\'\\'Porto Nacional TO\\'\\'GÃ¼tersloh Airpo...\\'\\'Athens-Hassani A...\\'\\'\\' Stephenville NL\\'\\'Thessaloniki Air...\\'\\'\\' Kirensk\\'\\'Saint Thomas Air...\\'\\'\\' Torino-Aeritalia...\\'\\'\\' Abaetetuba PA\\'\\'\\' Portland Lighthouse\\'\\'\\' Alabat Island L...\\'\\'VolcÃ¡n Tungurahua\\'\\'\\' Schwerin\\'\\'Detroit River MI\\'\\'\\' Roswell-Walker A...\\'\\'Yellowknife NT\\'\\'Isachsen Airstri...\\'\\'Celle RAF Station\\'\\'Maui HI\\'\\'Stephenville-Ern...\\'\\'\\' Athens\\'\\'\\' FlorianÃ³polis SC\\'\\'\\' San Juan-Isla Gr...\\'\\'Osisko Lake QC\\'\\'\\' Santa Monica CA\\'\\'Kolunda\\'\\'Neustadt\\'\\'\\' LuperÃ³n\\'\\'\\' Memphis Municipa...\\'\\'\\' Bari\\'\\'Lord Howe Island\\'\\'Avraham\\'\\'\\' Guildford Airpor...\\'\\'\\' Roanoke IL\\'\\'\\' Zaouit Massa\\'\\'\\' Chatsworth CA\\'\\'\\' Rathenow\\'\\'Berlin-Tegel Air...\\'\\'\\' Marga Nizhneudi...\\'\\'Chesterfield NJ\\'\\'\\' Naberezhniye Chelny\\'\\'Jaquirana RS\\'\\'\\' Joinville SC\\'\\'\\' Salasaca Hill\\'\\'Milwaukee WI\\'\\'\\' Salalah Airport ...\\'\\'Rurrenabaque\\'\\'Portland Airport...\\'\\'\\' BojacÃ¡\\'\\'\\' Ankara\\'\\'\\' Lurga Point\\'\\'\\' Basse-Yutz\\'\\'Putla\\'\\'Toronto-Malton A...\\'\\'\\' Manchester-Ringw...\\'\\'\\' Polukotelnikovo ...\\'\\'Lao Kay\\'\\'Bigstone Lake MB\\'\\'\\' Laghouat\\'\\'Guam-North Field...\\'\\'\\' Kabansk\\'\\'LÃ©opoldville\\'\\'Rose Bay Sydney...\\'\\'Cochabamba Airpo...\\'\\'ItuzaingÃ³ BA\\'\\'El Tuito\\'\\'\\' Collinsville CA\\'\\'\\' Kazan-Borisogleb...\\'\\'Sucre\\'\\'\\' Taiping\\'\\'Sault-aux-Cochon...\\'\\'Santa Cruz-El Tr...\\'\\'Anisakan\\'\\'Netheravon RAF S...\\'\\'Barter Island Ai...\\'\\'NykÃ¶ping-F11 AF...\\'\\'\\' Dakar\\'\\'\\' Savasleyka\\'\\'Mount Popocatepetl\\'\\'Beacon Hill\\'\\'\\' Castilla BA\\'\\'\\' McCleary WA\\'\\'Iguape SP\\'\\'Mount Mitchell NC\\'\\'\\' Saltillo\\'\\'\\' Machacamarca\\'\\'Alexandria Airpo...\\'\\'Ã\\\\x89tang de Berre ...\\'\\'\\' Karachi Airport ...\\'\\'Malakal\\'\\'San Diego Intern...\\'\\'Bolson de Burruy...\\'\\'Redondo Mountain...\\'\\'London Heathrow ...\\'\\'\\' Washington-Natio...\\'\\'PÃ©cs/Pogany Air...\\'\\'Akron/Canton Air...\\'\\'Calgary Municipa...\\'\\'\\' Shreveport-Barks...\\'\\'\\' Mengzi\\'\\'Las Piedros\\'\\'Lanywa\\'\\'Nairobi-Civil Ai...\\'\\'\\' Oslo-Fornebu Air...\\'\\'Seletar Island\\'\\'\\' Kelso WA\\'\\'PÃ¡ramo Bogueche\\'\\'\\' Dong Khe\\'\\'\\' Saint-Just-Chale...\\'\\'Deversoir RAF St...\\'\\'Villa Cisneros ...\\'\\'RibeirÃ£o Claro PR\\'\\'Muntok Bay\\'\\'Guangxi province\\'\\'\\' Vallejo CA\\'\\'\\' Lanzhou\\'\\'Beograd-Dojno Po...\\'\\'\\' Baja California\\'\\'Haikou\\'\\'Jungshahi\\'\\'Orizaba\\'\\'Bornholm-RÃ¸nne ...\\'\\'Aulnay-sous-Bois\\'\\'\\' Vitoria ES\\'\\'Tiruchirappalli-...\\'\\'\\' Edenton MCAS NC\\'\\'\\' Aktyubinsk Airpo...\\'\\'Comilla\\'\\'\\' Sverdlovsk-Kolts...\\'\\'\\' Camden Airport ...\\'\\'Itaquaquecetuba SP\\'\\'Ankara\\'\\'\\' Zinder\\'\\'\\' Tobarra\\'\\'\\' Vacas\\'\\'between Iloilo a...\\'\\'\\' Tamatave\\'\\'Shella Airstrip\\'\\'\\' Snag YT\\'\\'Le Treport\\'\\'\\' Whitehorse Airpo...\\'\\'\\' La Tinta\\'\\'Southampton\\'\\'Mount Clemens-Se...\\'\\'Calshot RAF Station\\'\\'\\' Roosevelt Roads-...\\'\\'Maracaibo\\'\\'\\' Cali\\'\\'\\' Pon Lake YT\\'\\'Evans Bay Welli...\\'\\'Tokyo-Haneda Air...\\'\\'\\' Raynesford MT\\'\\'Los Angeles Inte...\\'\\'Lagoa PÃ¡ti Man...\\'\\'Cotonou Airport ...\\'\\'\\' Snag Lake YT\\'\\'\\' Campoalegre Huila\\'\\'Praded Mountain\\'\\'\\' Minneapolis-St. ...\\'\\'Hope AR\\'\\'Ipiales Airport ...\\'\\'\\' Llandow\\'\\'Iringa-Nduli Air...\\'\\'\\' Cowbridge\\'\\'Smyrna-Sewart AF...\\'\\'Rome-Griffiss AF...\\'\\'\\' Ankara-Etimesgut...\\'\\'Lae Airfield\\'\\'\\' Komaki Air Base ...\\'\\'\\' Rockcliffe RCAF ...\\'\\'\\' Roswell AAF NM\\'\\'\\' Cap Ferret\\'\"Ke\\'ehi Lagoon O...\"\\'\\' Kiev\\'\\'Suberi Rajastan\\'\\'\\' Kingston Jamaica\\'\\'Cornwallis Islan...\\'\\'\\' Hastings\\'\\'\\' Pinto\\'\\'\\' Vitim\\'\\'\\' Tachikawa Air Base\\'\\'Yakutsk Airport ...\\'\\'Cochabamba\\'\\'\\' Summerside Airpo...\\'\\'\\' Hartsville SC\\'\\'\\' Leon Springs TX\\'\\'\\' Tenkodogo\\'\\'\\' Simiatug\\'\\'\\' Fairbanks-Ladd A...\\'\\'\\' Georgetown Airpo...\\'\\'Oyster Northamp...\\'\\'\\' Harstad\\'\\'Balurghat Airpor...\\'\\'Aurora-Lowry AFB...\\'\\'\\' Burley ID\\'\\'Mount Paskal\\'\\'\\' Pasto\\'\\'Charlotte-Dougla...\\'\\'\\' Cape Flattery WA\\'\\'\\' Teterboro Airpor...\\'\\'\\' IlhÃ©us BA\\'\\'\\' Melbourne FL USA\\'\\'\\' Fonseca\\'\\'Tulsa Municipal ...\\'\\'Buenos Aires/Eze...\\'\\'\\' Bahrain Airport ...\\'\\'within Madagascar\\'\\'\\' Merida\\'\\'\\' Benton Harbour ...\\'\\'Seoul (K-14) Air...\\'\\'\\' Guildford WA\\'\\'Khimki Reservoir\\'\\'\\' Hendersonville TN\\'\\'\\' Decatur AL\\'\\'El Lorza\\'\\'\\' Toulouse\\'\\'\\' Busan\\'\\'GuajarÃ¡ PA\\'\\'Taejon Air Base\\'\\'\\' Pathankot\\'\\'\\' Bocoio\\'\\'Iwakuni NAS\\'\\'\\' Tbilisi Airport ...\\'\\'Kenai Airport A...\\'\\'\\' Myrtle Beach SC\\'\\'northern Isreali...\\'\\'\\' O-Shima\\'\\'\\' Porto Alegre-Gra...\\'\\'Tanezrouft\\'\\'\\' Juneau AK\\'\\'\\' KoÅ¡ice\\'\\'\\' Karaganda Airpor...\\'\\'\\' SÃ£o Francisco d...\\'\\'\\' Tallahassee FL\\'\\'\\' Decatur IL (DEC)\\'\\'KoÅ¡ice Airport ...\\'\\'\\' Aichach\\'\\'\\' Seimchan\\'\\'\\' Paeng Nylong-do\\'\\'\\' Eagle CO\\'\\'\\' Cravo Norte Arauca\\'\\'Chinhae Air Base...\\'\\'\\' Kampong Jenera\\'\\'Barranquilla\\'\\'\\' Jemaja Island I...\\'\\'\\' Wadi Natrun\\'\\'\\' Parsons TN\\'\\'\\' Utica NY\\'\\'Guanabara Bay RJ\\'\\'Rocky Peak CA\\'\\'Son-La-Na-San Ai...\\'\\'Ashiya Air Base\\'\\'VatnajÃ¶kull Gla...\\'\\'\\' Tehran-Mehrabad ...\\'\\'\\' Kwajalein NAS (KWA)\\'\\'Malo Sljeme\\'\\'\\' Aden-Khormaksar ...\\'\\'Nagoya-Komaki AFB\\'\\'\\' Ashiya Air Base\\'\\'\\' North Korea\\'\\'Iwakuni MCAS\\'\\'GalÃ¡pagos\\'\\'Columbus Southwe...\\'\\'Laguna Anteojos ...\\'\\'Malay Cove Trin...\\'\\'Filton Airport (...\\'\\'Rostov Airport (...\\'\\'Bungulla NSW\\'\\'Almelund MN\\'\\'\\' St Claire AL\\'\\'Sea of Japan\\'\\'Alma-Ata Airport...\\'\\'Mill Hill\\'\\'Dhahran Airport ...\\'\\'\\' Limestone ME\\'\\'Singapore-Changi...\\'\\'\\' Truckee CA\\'\\'Arctic Ice Stati...\\'\\'Tachikawa Air Base\\'\\'\\' Bridgeport AL\\'\\'Mont Blanc\\'\\'Vitoria Da Conqu...\\'\\'Misawa Air Base ...\\'\\'Schofields NSW\\'\\'\\' Butte Airport M...\\'\\'La Paz-El Alto A...\\'\\'\\' Pyongyang\\'\\'Pusan East (K-9)...\\'\\'\\' Turukhansk Airpo...\\'\\'\\' Pickens SC\\'\\'Emirdag\\'\\'\\' Grenoble\\'\\'Fagaras Mountains\\'\\'\\' Hobsonville Air ...\\'\\'Surabaya/Perak A...\\'\\'Greenville-Donal...\\'\\'Long Beach Airpo...\\'\\'\\' Pyongyang Air Base\\'\\'\\' Hyesanjin\\'\\'Mount Moran WY\\'\\'\\' MedellÃ\\\\xadn\\'\\'\\' Khitokha\\'\\'HolguÃ\\\\xadn Airport...\\'\\'\\' Yokohama Bay ne...\\'\\'\\' Chamaran\\'\\'Hagaru-ri Airstrip\\'\\'\\' Hagaru-ri Airstrip\\'\\'Kabrit RAF Station\\'\\'Su Won (K-13) Ai...\\'\\'\\' Bangui Airport (...\\'\\'\\' \" Col de l\\'Ouillat\"\\'Yonpo Airfield\\'\\'Mount Fuji\\'\\'Daegu (Taegu) K-...\\'\\'\\' Satapuala Upolu\\'\\'\\' Niamey\\'\\'\\' Kotagiri\\'\\'Londrina PR\\'\\'RibeirÃ£o Preto SP\\'\\'\\' PÃ¡ramo Las Siet...\\'\\'Tourane\\'\\'Mt. Tabayoc\\'\\'Benghazi-Benina ...\\'\\'Kampong Aur\\'\\'\\' Penticton BC\\'\\'McCreight Mounta...\\'\\'\\' Montaltodi di Ca...\\'\\'Mynzhilki\\'\\'Serui\\'\\'\\' Cobo BA\\'\\'Great Slave Lake...\\'\\'Chicago-Midway A...\\'\\'Hoengseong Air B...\\'\\'Chungju (K-41) A...\\'\\'\\' Tuapse\\'\\'\\' Kazan Airport (KZN)\\'\\'\\' Sungei Padi\\'\\'Philadelphia Int...\\'\\'\\' Reardan WA\\'\\'\\' Taejon (K-5) Air...\\'\\'\\' Chala\\'\\'\\' Tsushima Airport...\\'\\'Damascus-Mezzeh ...\\'\\'\\' Okinawa-Naha NAS...\\'\\'Papendrecht\\'\\'Coolawanyah Airp...\\'\\'\\' Civitavecchia\\'\\'Mt. Yuli\\'\\'\\' Kostanay-Nariman...\\'\\'\\' San Luis PotosÃ\\\\xad...\\'\\'Taegu Air Base (...\\'\\'Madrid\\'\\'\\' HafnarfjÃ¶rdur\\'\\'\\' Terceira-Lajes A...\\'\\'Khabarovsk Krai ...\\'\\'\\' BuÃ©a\\'\\'Whidbey Island N...\\'\\'\\' San Pablo de los...\\'\\'Eastville VA\\'\\'Luang Prabang Ai...\\'\\'\\' YalÃ\\\\xad Antioquia\\'\\'\\' BÃ©ja\\'\\'\\' Stockholm-Bromma...\\'\\'Rio de Janeiro-G...\\'\\'Newhall CA\\'\\'Urbe\\'\\'\\' Iwakuni MCAS\\'\\'\\' Tulsa OK\\'\\'Okinawa-Kadena A...\\'\\'Hong Kong Island\\'\\'Resolute Airport...\\'\\'Phoenix-Sky Harb...\\'\\'Strubby RAF Station\\'\\'\\' Hato Nuevo\\'\\'\\' Florianopolis Ai...\\'\\'\\' Shannon Ireland\\'\\'\\' Iskra\\'\\'\\' RÃ\\\\xado Grande TF\\'\\'Camden NSW\\'\\'\\' Matagorda Island...\\'\\'\\' Riga-Spilve Airport\\'\\'\\' Hongchon\\'\\'Entebbe Airport ...\\'\\'KeflavÃ\\\\xadk Intern...\\'\\'Refugio Pass CA\\'\\'\\' Mount Clemens-Se...\\'\\'\\' Charleston WV\\'\\'\\' Mama Airport\\'\\'\\' \" Cape d\\'Arguilar\"\\'\\' Zalingei\\'\\'Seoul-Kimpo Air ...\\'\\'\\' Solano CA\\'\\'between Kyzyl an...\\'\\'Tres Esquinas Ai...\\'\\'\\' Key West FL\\'\\'\\' Los Antiguos SC\\'\\'\\' Fort Wayne IN\\'\\'\\' Taegu Air Base\\'\\'\\' Wonsan\\'\\'\\' Punta Indio Nava...\\'\\'\\' Fayid\\'\\'\\' Bordeaux-MÃ©rign...\\'\\'\\' Monterroso (Lugo)\\'\\'\\' Spokane-Felts Fi...\\'\\'\\' Rovigo\\'\\'\\' MaceiÃ³ Airport ...\\'\\'Giebelstadt AAF ...\\'\\'\\' Rancharia SP\\'\\'Kodiak NAS AK (...\\'\\'\\' New Lisbon IN\\'\\'\\' Daegu Air Base\\'\\'\\' Busan (Pusan) We...\\'\\'Aqaba Airport (AQJ)\\'\\'Albany-Turner AF...\\'\\'Bahrain\\'\\'Palame BA\\'\\'Puerto Deseado A...\\'\\'\\' Inje\\'\\'\\' New Boston TX\\'\\'\\' Jackson TN\\'\\'Gramacho Rio de...\\'\\'\\' San Antonio-Kell...\\'\\'Wittelsbach\\'\\'Port Vila\\'\\'\\' Flemings Island ...\\'\\'Manila Bay\\'\\'\\' Omsukchan\\'\\'\\' Sanoyea\\'\\'Spokane-Fairchil...\\'\\'Choma Airport (F...\\'\\'\\' MorÃ³n de la Fon...\\'\\'Kentira\\'\\'\\' Rijeka\\'\\'Geneva-on-the-La...\\'\\'\\' Fort Collins CO\\'\\'\\' Fort Dix-McGuire...\\'\\'\\' Hanoi\\'\\'Barranquilla-Sol...\\'\\'Pohang (K-3) Air...\\'\\'Montreal-Dorval ...\\'\\'\\' Aracaju Airport ...\\'\\'\\' Lyneham-RAF Stat...\\'\\'Gao Airfield\\'\\'Bangkok Internat...\\'\\'\\' El Paso TX\\'\\'Fayid RAF Station\\'\\'\\' Antananarivo-Ari...\\'\\'Curles Neck Farm...\\'\\'\\' Sitka AK\\'\\'\\' Gao Airport (GAQ)\\'\\'\\' Isola di Palmaria\\'\\'\\' Kaduna Airport (...\\'\\'\\' Cochabamba-J Wil...\\'\\'Guaratiba RJ\\'\\'Barilla Bay TAS\\'\\'Moisville\\'\\'\\' Vilyuisk Airport\\'\\'Luzon Island-Cub...\\'\\'Boh Fai Airport\\'\\'Lena River ...\\'\\'Summit AK\\'\\'\\' Kanash\\'\\'\\' Oakland Internat...\\'\\'Wular Lake\\'\\'\\' Platinum Airstri...\\'\\'Lake Texcoco\\'\\'\\' Montauk Point N...\\'\\'\\' Fairbanks-Eielso...\\'\\'\\' Gorbovichi\\'\\'\\' Tsushima Island\\'\\'\\' Chunchon Air Bas...\\'\\'\\' Palma Islas Bal...\\'\\'\\' Redwood City CA\\'\\'Bangalore-Hindus...\\'\\'\\' Loka\\'\\'Ubatuba SP\\'\\'Tukalan river E...\\'\\'\\' Rafael Castillo BA\\'\\'\\' Babice\\'\\'Mount Tanazawa\\'\\'La Paz-El Alto\\'\\'\\' Maedong\\'\\'\\' Serkova Krasnoy...\\'\\'Mersin\\'\\'\\' Lafayette IN\\'\\'Cerro Blanco\\'\\'Puerto Leguizamo\\'\\'Warner Robins-Ro...\\'\\'ConceiÃ§Ã£o do A...\\'\\'\\' Art. Bogdanovic ...\\'\\'Atsugi NAS (NJA)\\'\\'Mount Ingeli\\'\\'Mt. Benson BC\\'\\'ZÃ¼rich-Kloten A...\\'\\'Sept-Ã\\\\x8eles Airpo...\\'\\'\\' Nassau\\'\\'\\' Miami (MIA) FL\\'\\'\\' Skopje\\'\\'East Hendred Ox...\\'\\'\\' Flores-Santa Ele...\\'\\'\\' Arkhangelsk-Tala...\\'\\'San Bernardino-N...\\'\\'Tucumcari Airpor...\\'\\'Hanoi\\'\\'\\' Vladivostok\\'\\'Fort Lamy Airpor...\\'\\'MorÃ³n Air Base BA\\'\\'Albacete-Los Lla...\\'\\'\\' Clermont-Ferrand\\'\\'Nikolayevsk-na-A...\\'\\'Gauhati-Borjhar ...\\'\\'\\' LÃ³dz Airport (LCJ)\\'\\'Oakland Range CA\\'\\'\\' Papa\\'\\'Kus GÃ¶lÃ¼ (Lake...\\'\\'\\' ZÃ¼rich-Kloten A...\\'\\'\\' Fethiye\\'\\'San Luis AcatlÃ¡n\\'\\'\\' Ocala FL\\'\\'Milano-Malpensa ...\\'\\'Denver-Stapleton...\\'\\'Saint John Airpo...\\'\\'San Gabriel Moun...\\'\\'\\' Newark Internati...\\'\\'Cobourg ON\\'\\'\\' Tehran\\'\\'Masbate Airport ...\\'\\'\\' Milano-Malpensa ...\\'\\'Ã\\\\x87akirlar Ã\\\\x87iftl...\\'\\'\\' Redding CA\\'\\'\\' Kosing North Ko...\\'\\'\\' Namtsev\\'\\'\\' Salamanca NY\\'\\'\\' Fairbanks AK\\'\\'\\' Globe AZ\\'\\'Andapa\\'\\'\\' Singapore-Changi...\\'\\'\\' Grand Cayman Island\\'\\'\\' Hachita NM\\'\\'Burtonwood RAF S...\\'\\'\\' Stalingrad Airpo...\\'\\'Cwm Edno Wales\\'\\'Mt Crillon AK\\'\\'\\' Fort Yukon AK\\'\\'\\' New York-La Guar...\\'\\'\\' Pohang\\'\\'Korean coast\\'\\'Kasfareet RAF St...\\'\\'\\' Sandspit Airport...\\'\\'\\' Panamint Springs...\\'\\'Pisa Airport (PSA)\\'\\'Cedar Grove NJ\\'\\'Raunheim\\'\\'\\' Kikwit\\'\\'\\' Bagdogra\\'\\'Wheeler-Sack AAF...\\'\\'Monte la Cinta\\'\\'Nagpur-Sonegaon ...\\'\\'\\' \" N\\'GaoundÃ©rÃ©\"\\'\\' Ulyanovsk/Barata...\\'\\'Palta Lake\\'\\'\\' UberlÃ¢ndia-Edua...\\'\\'El Carmolia/Los ...\\'\\'\\' Nice-le Var Airp...\\'\\'Butterworth RAF ...\\'\\'Guggi Glacier n...\\'\\'\\' La Ciotat\\'\\'\\' Hamburg-FuhlsbÃ¼...\\'\\'Swinderby RAF St...\\'\\'\\' Collo\\'\\'\\' Bay Minette AL\\'\\'Felixstowe Suffolk\\'\\'\\' Gaspe QC\\'\\'\\' Frankfurt Intern...\\'\\'\\' Thule Air Base (...\\'\\'Hugoton-HAP Airp...\\'\\'\\' Point Barrow AK...\\'\\'\\' San Felipe Airpo...\\'\\'Baguio-Loakan Ai...\\'\\'\\' Mimizan\\'\\'\\' New York-Idlewil...\\'\\'\\' Magdagachi Airpo...\\'\\'Loma Prieta Moun...\\'\\'\\' Beirut Airport (...\\'\\'\\' Jefferson City MT\\'\\'Mihara Volcano\\'\\'\\' Camp Edwards MA\\'\\'Brunswick NAS M...\\'\\'\\' Whittier CA\\'\\'Graz-Thalerhof A...\\'\\'Winnipeg-Stevens...\\'\\'\\' Karmanovo Novos...\\'\\'\\' Berlin\\'\\'\\' Carolina MA\\'\\'Dentist C\\'\\'\\' Kamikawa\\'\\'\\' Khandyga\\'\\'Middelkerke\\'\\'Phan Thiet\\'\\'\\' Skien\\'\\'\\' Frobisher Bay NU\\'\\'Ipoh\\'\\'SÃ£o Paulo SP\\'\\'EyjafjallajÃ¶kull\\'\\'Sandwich Bay NL\\'\\'\\' Sowina\\'\\'\\' Manaus AM\\'\\'\\' Atar\\'\\'\\' Whidbey Island N...\\'\\'\\' Gotska SandÃ¶n i...\\'\\'Baltic Sea\\'\\'Cairo Internatio...\\'\\'\\' Berwick-upon-Tweed\\'\\'\\' Monrovia CA\\'\\'Foligno Airport\\'\\'\\' Cherry Point MCA...\\'\\'\\' Dallas-Love Fiel...\\'\\'\\' Oya\\'\\'\\' Hoyo de Manzanares\\'\\'\\' MaraÃº BA\\'\\'Moline-Quad-City...\\'\\'\\' Seattle WA\\'\\'Warszawa\\'\\'within Laos\\'\\'Pithiviers Airport\\'\\'\\' Niigata Air Base...\\'\\'Falmouth-Otis AF...\\'\\'\\' Kuala Lumpur\\'\\'Palmeira de GoiÃ...\\'\\'within Nicaragua\\'\\'\\' GuaÃ\\\\xadra Airport ...\\'\\'\\' Hook Hampshire\\'\\'\\' Benson RAF Stati...\\'\\'\\' Suwon (K-13) Air...\\'\\'ApÃ¡capuszta\\'\\'\\' Chlya Nizhneamu...\\'\\'\\' Potsdam\\'\\'Fort Indiantown-...\\'\\'\\' Khewra\\'\\'\\' Khartoum-Wadi Se...\\'\\'\\' Loisy\\'\\'Kosti Airport (KST)\\'\\'Tampico\\'\\'\\' Narsarsuaq Airpo...\\'\\'Carolina Aerodrome\\'\\'\\' Northice Camp\\'\\'\\' Paris-Orly Airpo...\\'\\'\\' Santa LucÃ\\\\xada Air...\\'\\'\\' Lahore\\'\\'Tabora Airport (...\\'\\'\\' Belogorsk Tisul...\\'\"Ust\\'-Tareya Kra...\"\\'\\' Newport ME\\'\\'NyÃ\\\\xadregyhÃ¡za Ai...\\'\\'\\' Skvoritsy Lenin...\\'\\'\\' Philadelpia-Nort...\\'\\'\\' Tarbat Ness\\'\\'San Francisco de...\\'\\'Perpignan Airpor...\\'\\'\\' Kangnung Air Base\\'\\'BÃ©ni Ounif\\'\\'Jamshedpur\\'\\'Kuybyshev Airpor...\\'\\'\\' Bonneuil-sur-Marne\\'\\'\\' Cronulla NSW\\'\"Fletcher\\'s Ice I...\"\\'Wigsley RAF Station\\'\\'Mt. McKinley AK\\'\\'Nevada\\'\\'\\' Fort Lamy Airpor...\\'\\'\\' Merowe\\'\\'\\' Cho-ok\\'\\'Nizhniye Kresty ...\\'\\'Sincan Ankara\\'\\'between Anchorag...\\'\\'\\' Kangnung\\'\\'\\' Billings MT\\'\\'La Romana\\'\\'\\' Block Island RI\\'\\'\\' Etropole\\'\\'\\' Boscombe Down RA...\\'\\'\\' JÃ¶nkÃ¶ping Airp...\\'\\'Lyneham\\'\\'\\' Tacoma-McChord A...\\'\\'within Jilin province\\'\\'\\' Vresovice\\'\\'\\' Banning CA\\'\\'\\' Yeniseisk\\'\\'Antalaha-Antsira...\\'\\'\\' Bermuda-Kindley ...\\'\\'Fallon NAS NV (...\\'\\'\\' Three Gorges Ta...\\'\\'\\' Wells NV\\'\\'Kunmadaras\\'\\'Richmond Airport...\\'\\'\\' Guercif\\'\\'\\' Moses Lake-Larso...\\'\\'Dahr el Abid Mou...\\'\\'\\' Miami FL USA\\'\\'\\' En Nebk\\'\\'Tokyo Bay\\'\\'\\' Kamar Uttar Pra...\\'\\'\\' La Guaria\\'\\'\\' Jinhae (K-10) Ai...\\'\\'Chinmen Island\\'\\'Spernall\\'\\'\\' Dhahran\\'\\'\\' Raleigh/Durham A...\\'\\'\\' Fish Haven ID\\'\\'\\' Issaquah WA\\'\\'Myeik\\'\\'\\' Shallufa RAF Sta...\\'\\'\\' Korean coast\\'\\'\\' Agrigento Italy\\'\\'\\' Stephenville-Ern...\\'\\'\\' Chaumont\\'\\'\\' Shantou Formosa...\\'\\'\\' Berlin-Tempelhof\\'\\'Indo-China\\'\\'Madeira\\'\\'Irkutsk\\'\\'\\' Batagay Airport ...\\'\\'\\' Kazan Airport\\'\\'\\' Cagliari-Elmas A...\\'\\'Lichfield RAF St...\\'\\'Strait of Georgi...\\'\\'\\' BogotÃ¡-Techo Ai...\\'\\'\\' Newfoudland Canada\\'\\'\\' Lai Chau\\'\\'Valkenburg Air B...\\'\\'\\' Roma-Centocelle ...\\'\\'Kirensk Airfield\\'\\'\\' Bitburg Air Base...\\'\\'\\' Swinderby RAF St...\\'\\'\\' Moji Honshu Island\\'\\'\\' Mobile Point AL...\\'\\'\\' Jackson-Hawkins ...\\'\\'MedellÃ\\\\xadn Airpor...\\'\\'Yilan\\'\\'\\' Station Echo\\'\\'\\' Avon IN\\'\\'\\' Karachi-Mauripur...\\'\\'\\' Windsor Locks-Br...\\'\\'Ashgabat Airport...\\'\\'Cagayan de Oro A...\\'\\'\\' San Pedro de Col...\\'\\'\\' Daejeon\\'\\'Katowice\\'\\'\\' Kalahasahar\\'\\'\\' Salvador-Dois de...\\'\\'\\' Da Nang Airport ...\\'\\'Saint Petersburg...\\'\\'\\' Alvarado CA\\'\\'Nicosia Airport ...\\'\\'Panama City-Tocu...\\'\\'Itapebi BA\\'\\'\\' San Fransisco C...\\'\\'Mkwaya\\'\\'Miandrivazo Airp...\\'\\'Kingston Airport...\\'\\'\\' Gauhati\\'\\'\\' Selleck WA\\'\\'\\' Point Loma CA\\'\\'\\' \" Chicago-O\\'Hare I...\"\\'Choteau Airport ...\\'\\'\\' Hartland Point ...\\'\\'Bombay-Juhu Airport\\'\\'\\' Delhi\\'\\'Prince Rupert BC\\'\\'Belfast-Aldergro...\\'\\'\\' Hemsbach\\'\\'\\' Marshall TX\\'\\'Lake Melville NL\\'\\'\\' Des Moines IA\\'\\'Saint Louis-Lamb...\\'\\'Nadezhda Airport\\'\\'Kings Canyon Nat...\\'\\'\\' Blenheim-Woodbou...\\'\\'\\' Barzas\\'\\'Okinawa-Bolo Air...\\'\\'Nabeul\\'\\'\\' Juan A. Pradere BA\\'\\'\\' Zugdidi\\'\\'San Ramon Mts.\\'\\'\\' CopiapÃ³-Chamona...\\'\\'Phou-Lassi Hill\\'\\'\\' CÃ³rdoba CD\\'\\'Seoul (K-16) Air...\\'\\'\\' Sangley Point Ai...\\'\\'Tehran\\'\\'Persian Gulf\\'\\'\\' Picinguaba Cove ...\\'\\'\\' Rushan\\'\\'Mississippi River\\'\\'\\' Chestertown MD\\'\\'\\' Stavanger-Sola A...\\'\\'\\' Wake Island (Pac...\\'\\'\\' Cape Henry VA USA\\'\\'\\' Basin MT\\'\\'Johannesburg-Ran...\\'\\'\\' Milton-Whiting F...\\'\\'\\' Etah\\'\\'\\' Zyryanka\\'\\'Rockliffe-CFB Ot...\\'\\'\\' Idris Libya\\'\\'Trelew CB\\'\\'\\' Bordeaux\\'\\'El Chanar LR\\'\\'Chunchon Air Base\\'\\'\\' Mao-erh-shan\\'\\'Hanoi-Gia Lam Ai...\\'\\'\\' Sharjah Airport ...\\'\\'Myaungmya\\'\\'Tartagal Salta\\'\\'\\' Gharyan\\'\\'Springfield-West...\\'\\'Flathead Forest MT\\'\\'CorumbÃ¡ Interna...\\'\\'\\' Campo Grande Air...\\'\\'\\' Laiya\\'\\'Mont Le Cimet\\'\\'\\' Vail WA\\'\\'\\' Ilha da BoqueirÃ...\\'\\'Tacoma-McChord A...\\'\\'\\' San Andres\\'\\'Luluaba\\'\\'Chablekal\\'\\'\\' Albany Airport ...\\'\\'\\' San Luis de Pale...\\'\\'\\' Bermuda\\'\\'\\' Miles City Munic...\\'\\'\\' Bertam\\'\\'\\' Guarinocito\\'\\'\\' Prades\\'\\'\\' Jask Iran Gulf...\\'\\'Louisville-Stand...\\'\\'\\' Port Lyautey NAS...\\'\\'\\' Tangier Airport ...\\'\\'\\' Irkutsk Airport ...\\'\\'\\' Tuguegarao\\'\\'Jujuy Airport P...\\'\\'New York-Idlewil...\\'\\'\\' Mamulique\\'\\'Tonkin Delta\\'\\'MÃ½rdalsjÃ¶kull ...\\'\\'\\' Mineralnye Vody ...\\'\\'\\' MarabÃ¡ PA\\'\\'\\' Kharkov Airport ...\\'\\'\\' Tarabuco\\'\\'\\' Calhan CO\\'\\'\\' Singapore Island\\'\\'\\' Villa Mugueta SF\\'\\'\\' Fort Bragg NC\\'\\'Albuquerque-Kirt...\\'\\'Camp A.P. Hill VA\\'\\'\\' Mallala SA\\'\\'\\' Sirte\\'\\'\\' Yonago-Miho Air ...\\'\\'\\' Guaderrama\\'\\'\\' Taichung\\'\\'\\' Newton Falls OH\\'\\'\\' Argyll\\'\\'\\' Nagpur-Sonegaon ...\\'\\'\\' Araruama RJ\\'\\'Cerro Tecpan\\'\\'\\' Cairo-Almaza Air...\\'\\'\\' Malta-Luqa Airpo...\\'\\'NÃ¼rnberg Airpor...\\'\\'Agrihan Island\\'\\'Pic de Costabonn...\\'\\'Vancouver Intern...\\'\\'Nome AFB AK (OME)\\'\\'Ashuanipi Lake NL\\'\\'Narsarsuaq Airpo...\\'\\'\\' Keya\\'\\'\\' Jeju Island\\'\\'LÃ¢pseki\\'\\'Teterboro Airpor...\\'\\'\\' Aldbury Hertfor...\\'\\'Tallinn-Ã\\\\x9clemist...\\'\\'\\' Shreveport LA\\'\\'\\' Elba\\'\\'Manizales\\'\\'Topcliffe RAF St...\\'\\'\\' Buffalo NY\\'\\'\\' Hullavington RAF...\\'\\'\\' Barbers Point NA...\\'\\'\\' Tsaghkashen\\'\\'Angle Bay\\'\\'Dien Bien Phu\\'\\'\\' Apiay Air Base (...\\'\\'\\' Hokkaido\\'\\'Mukeiras Airport...\\'\\'Severn Estuary ...\\'\\'Beijing Xijiao A...\\'\\'San Pablo Bay CA\\'\\'\\' Curry AK\\'\\'\\' CÃ¡ceres\\'\\'between Puerto I...\\'\\'\\' Gozo\\'\\'Muong Sai Airpor...\\'\\'\\' Yelm WA\\'\\'\\' Zaghouan\\'\\'Mogadishu\\'\\'\\' Gemas\\'\\'\\' Delhi-Safdarjung...\\'\\'Huntingdon TN\\'\\'\\' Wright WY\\'\\'Gunsan (Kunsan) ...\\'\\'Hanoi-Gialam Air...\\'\\'\\' Saint-Ã\\\\x89tienne-d...\\'\\'Dien Bien Phu-Gi...\\'\\'\\' Catamarca Airpor...\\'\\'Xieng Khouang Ai...\\'\\'\\' Syerston RAF Sta...\\'\\'\\' Mackay Airport ...\\'\\'\\' Midland TX\\'\\'\\' Gruszowiec\\'\\'\\' Lothian MD\\'\\'Haiphong-Cat Bi ...\\'\\'\\' Monterrey\\'\\'Bear Island\\'\\'River Swale\\'\\'Jebel al Lawz\\'\\'\\' Adana\\'\\'\\' Hanoi-Gia Lam Ai...\\'\\'Moose Jaw SK\\'\\'\\' San Lucido\\'\\'Thorney Island R...\\'\\'Xiengkhouang\\'\\'\\' Batuco\\'\\'\\' Burbank Airport ...\\'\\'\\' Beulaville NC\\'\\'Sierra del Vilgo...\\'\\'Damascus Airport\\'\\'Nam Bac\\'\\'Churchill Airpor...\\'\\'Sea Island RCAF ...\\'\\'Saigon-Tan-Son-N...\\'\\'\\' Sinking Spring PA\\'\\'\\' Carricitos\\'\\'\\' Ban Sot\\'\\'\\' Nassau Airport (...\\'\\'\\' RAF North Luffenham\\'\"N89Â°09\\' W90Â°00\\'\"\\'Saugaon\\'\\'\\' Hawaii USA\\'\\'Porvenir Airport...\\'\\'Serra do CipÃ³ M...\\'\\'Duluth-Williamso...\\'\\'\\' Maribor\\'\\'\\' SE coast\\'\\'Da Nang\\'\\'Gage Airport OK...\\'\\'\\' Folkestone\\'\\'\\' Ixtlahuaca\\'\\'\\' Sint-Truiden\\'\\'\\' Nairobi\\'\\'\\' Christmas Island\\'\\'\\' Verkhnyaya Salda...\\'\\'Moses Lake-Larso...\\'\\'\\' Pathein\\'\\'Kyritz\\'\\'Columbus-Port Co...\\'\\'\\' Riverside-March ...\\'\\'Hopkinsville-Cam...\\'\\'\\' Cheung Chau Island\\'\\'\\' Hainan Island\\'\\'Kuwait Internati...\\'\\'Saint Anthony NL\\'\\'Kelleys Island L...\\'\\'Preston City CT\\'\\'Bahrain-Muhurraq...\\'\\'\\' McGrath AK\\'\\'Blackbushe\\'\\'\\' Pakse\\'\\'\\' Mason City IA\\'\\'North Sea 37km ...\\'\\'Forrest Hill VIC\\'\\'\\' Yuzhno-Sakhalinsk\\'\\'Santa Cruz de Ll...\\'\\'\\' Oxnard Airport CA\\'\\'\\' Cape Ostrovnoi ...\\'\\'Barrington Tops ...\\'\\'St. Peter Port ...\\'\\'\\' Mouzaia\\'\\'\\' Newhall CA\\'\\'\\' Isla Catalina\\'\\'\\' Fawnskin CA\\'\\'London-Stansted ...\\'\\'Sangley Point Na...\\'\\'Nagoya-Komaki Ai...\\'\\'\\' Calne\\'\\'Guatemala City\\'\\'\\' Skardu\\'\\'Goose Bay Air Ba...\\'\\'\\' Capilla del Senor\\'\\'\\' Hua Hin\\'\\'\\' Daegu (K-2) Air ...\\'\\'\\' Limone Piemonte ...\\'\\'\\' Barnaby Notting...\\'\\'Tranigigvaag Fjo...\\'\\'Ballykelly-RAF S...\\'\\'Mount Sivukha K...\\'\\'\\' Maryland USA\\'\\'Mangalore Airpor...\\'\\'\\' Glastonbury CT\\'\\'Brisbane-Eagle F...\\'\\'\\' Jirishanga\\'\\'\\' Waynesboro VA\\'\\'Jambi Airport (DJB)\\'\\'\\' Eschau\\'\\'Hamble\\'\\'\\' Berlin Airport ...\\'\\'Villa Harding Gr...\\'\\'\\' Luang Prabang\\'\\'\\' Alma-Ata\\'\"St. John\\'s Airpo...\"\\'Elefsis Air Base\\'\\'Johnsville NAS PA\\'\\'Guasdualito Airp...\\'\\'\\' Bratislava-Ivank...\\'\\'Haines Municipal...\\'\\'Brampton ON\\'\\'\\' Milwaukee-Genera...\\'\\'\\' Ciudad Bolivar\\'\\'\\' White Plains NY\\'\\'\\' Pittsburgh-Alleg...\\'\\'\\' PolnÃ¡\\'\\'\\' Bratronov\\'\\'St. Eugene ON\\'\\'\\' Huntsville AL\\'\\'\\' Barranquilla-Sol...\\'\\'Irkutsk Airport ...\\'\\'Polar Station SP-3\\'\\'St. Petersburg A...\\'\\'\\' Fastnet Rock Ir...\\'\\'\\' Smyrna-Sewart AF...\\'\\'\\' Cincinnati/North...\\'\\'\\' Moskva-Bykovo Ai...\\'\\'\\' London Airport ...\\'\\'\\' Stephenville NL...\\'\\'\\' JardÃ\\\\xadn Antioquia\\'\\'\\' Dexter IA\\'\\'\\' Gauhati-Borjhar ...\\'\\'\\' Chattanooga-Love...\\'\\'\\' Lipovets Kagarl...\\'\\'\\' Ocean Weather St...\\'\\'Niigata Air Base...\\'\\'La Pedrera Airpo...\\'\\'Nagpur\\'\\'\\' Calabar\\'\\'Monte Terminillo\\'\\'\\' Albuquerque Muni...\\'\\'Santiago-Los Cer...\\'\\'Salisbury-Belved...\\'\\'\\' Kinmen\\'\\'Boscombe Down RA...\\'\\'Hagerstown-Wash....\\'\\'\\' Kepino Arkhange...\\'\\'Vitoria da Conqu...\\'\\'\\' Taitung\\'\\'Clinton IA\\'\\'\\' Ciudad de Valles\\'\\'\\' Talpa de Allende...\\'\\'Pittsburgh-Great...\\'\\'Cerro Trujillo\\'\\'\\' Cullman AL\\'\\'Jerez De La Fron...\\'\\'\\' Phonesavanh Airport\\'\\'Salisbury-Belvedere\\'\\'Gonesse\\'\\'\\' Springfield Muni...\\'\\'\\' Oregon USA\\'\\'\\' Colyton\\'\\'Khowai Airport (...\\'\\'Hucknall Airport\\'\\'\\' Lapine AL\\'\\'Lahad Datu Airpo...\\'\\'\\' Pensacola FL\\'\\'\\' Mys Zhelaniya\\'\\'\\' VitÃ³ria-Goiabei...\\'\\'Islip-MacArthur ...\\'\\'\\' DÃ¼sseldorf Airp...\\'\\'Yellowknife Airp...\\'\\'\\' Great Natuna Isl...\\'\\'Hall Lake NU\\'\\'Sydney Airport NS\\'\\'Matsushima Air Base\\'\\'Mount Kupe\\'\\'Ghisonaccia Fiel...\\'\\'\\' Moulins\\'\\'\\' Tanaguarena\\'\\'Onnaing\\'\\'Iqaluit-Frobishe...\\'\\'\\' KeflavÃ\\\\xadk Intern...\\'\\'\\' Barnesville OH\\'\\'\\' Dnepropetrovsk A...\\'\\'\\' Amphur Fang\\'\\'Mount Kilimanjaro\\'\\'RÃ\\\\xado Gallegos-Ri...\\'\\'Suquez/LÃ©rida\\'\\'\\' Barcelona\\'\\'\\' Edmonton Municip...\\'\"N73Â°15\\' E162Â°3...\"\\'\\' Deftinge\\'\\'\\' Alamagordo NM\\'\\'\\' Eastbourne Sussex\\'\\'Winterburn AB\\'\\'Tarapoto Airport...\\'\\'\\' AsunciÃ³n-Silvio...\\'\\'Leon Airport (BJX)\\'\\'\\' Coral Harbour NU\\'\\'St Lawrence Isla...\\'\\'\\' TÃ©touan\\'\\'Sitkinak Island AK\\'\\'\\' Ukhta\\'\\'Nagurskoye Air Base\\'\\'\\' San AndrÃ©s Tuxtla\\'\\'\\' Thorney Island R...\\'\\'Capacho\\'\\'\\' Oaxaca\\'\\'Fraser River Va...\\'\\'\\' Petrich\\'\\'\\' Libya\\'\\'Sanau\\'\\'\\' Kemano BC\\'\\'\\' Fort Leonard Woo...\\'\\'\\' Fayid RAF Station\\'\\'\\' Voronezh Airport...\\'\\'Edelweiler\\'\\'\\' Hawthorne NV\\'\\'\\' Charleston AFB ...\\'\\'\\' Castelo ES\\'\\'Hobbs NM\\'\\'\\' Skwentna AK\\'\\'\\' Lanywa\\'\\'\\' Alexandria-Engla...\\'\\'\\' Banyo\\'\\'\\' Basra\\'\\'Gulf of Venezuela\\'\\'\\' Komarovo Kansk ...\\'\\'\\' Thorhild AB\\'\\'\\' La Paz\\'\\'\\' Dishforth RAF St...\\'\\'Bangor-Dow AFB ME\\'\\'Tripoli-Idris Ai...\\'\\'Bordeaux-MÃ©rign...\\'\\'\\' Honolulu HI USA\\'\\'\\' Burns WY\\'\\'\\' Jamaica Caribbean\\'\\' Ozerevo Borovic...\\'\\'\\' Beaverlodge SK\\'\\'\\' ViÃ±ac\\'\\'Medicine Bow Pea...\\'\\'\\' Wien-Schwechat I...\\'\\'Baghdad Internat...\\'\\'\\' Barra Outer Heb...\\'\\'Hall Beach (DEW ...\\'\\'\\' Texcoco\\'\\'Longmont CO\\'\\'\\' Holyoke MA\\'\\'\\' Hickam AFB Hawaii\\'\\'\\' Seattle-Boeing F...\\'\\'Iwo Jima Air Bas...\\'\\'\\' Akranes\\'\\'Johnstone Strait...\\'\\'\\' Agra-Kheria Air ...\\'\\'\\' Kagoshima\\'\\'Montserrat\\'\\'\\' Marville RCAF St...\\'\\'Spartanburg Down...\\'\\'\\' Kauai HI\\'\\'Tordoki Yani\\'\\'\\' Omutinskoye Tyu...\\'\\'\\' Ketama\\'\\'\\' Bourke Airport ...\\'\\'\\' Hollywood SC\\'\\'Nueva Ocotepeque\\'\\'\\' La Granja Segovia\\'\\'\\' Jacksonville-Tho...\\'\\'\\' Balkhash Lake\\'\\'\\' Kyleakin Scotland\\'\\'\\' Cape Bird Ross ...\\'\\'Langar\\'\\'Sparrevohn Air F...\\'\\'\\' Londonderry OH\\'\\'San Francisco In...\\'\\'\\' Blida\\'\\'Frederick Henry ...\\'\\'Oreway QC\\'\\'\\' Toryska\\'\\'Blackbushe Airpo...\\'\\'Kuujjuaq Airport...\\'\\'Nantes-Chateau B...\\'\\'\\' Smithtown NY\\'\\'\\' Lyon-Bron Airpor...\\'\\'\\' Zaragoza\\'\\'Edward VII Penin...\\'\\'\\' Fort Lauderdale FL\\'\\'Northern Venezuela\\'\\'Cheyenne Airport...\\'\\'Little America V\\'\\'ChÃ¢teauroux-DÃ©...\\'\\'Mount Dirphys\\'\\'\\' Frobisher Bay Ai...\\'\\'\\' Fort Chimo QC\\'\\'Toronto ON\\'\\'Najran\\'\\'\\' Niles CA\\'\\'\\' Owensboro KY\\'\\'Dukham\\'\\'\\' Cairo Internatio...\\'\\'\\' Aleppo\\'\\'\\' Rascafria\\'\\'Lash Golath Mt.\\'\\'Ushuaia-Comandan...\\'\\'Cameron Highlands\\'\\'\\' Argentia NAS NL...\\'\\'Gao Airport (GAQ)\\'\\'Pelly Bay NU\\'\\'Knob Lake\\'\\'\\' Curuzu Cuatia Ai...\\'\\'Tezpur-Salonibar...\\'\\'Largs\\'\\'Indapur\\'\\'Korat\\'\\'\\' Pittsburgh-Great...\\'\\'\\' Seattle/Tacoma I...\\'\\'Hall Beach Airpo...\\'\\'\\' Saijo\\'\\'\\' Fairfield-Travis...\\'\\'Ataq Airport (AXK)\\'\\'Parintins AM\\'\\'\\' Wheelus Air Base...\\'\\'Idris\\'\\'\\' Sukhumi Airport ...\\'\\'\\' Woodbine KS\\'\\'Berlin-Bohnsdorf\\'\\'Villa Tesei BA\\'\\'Kathmandu-Tribhu...\\'\\'\\' Jeffersonville IN\\'\\'Ahmedabad Airpor...\\'\\'Sierra de Las Minas\\'\\'Beaverlodge Lake...\\'\\'Vientiane-Wattay...\\'\\'\\' Ipoh\\'\\'Hudson Bay SK\\'\\'\\' Jijel\\'\\'\\' Townsend MT\\'\\'\\' New York NY\\'\\'\\' Kano Internation...\\'\\'\\' Resistencia Airp...\\'\\'Grand Canyon AZ\\'\\'\\' Lom\\'\\'Coral Harbour Ai...\\'\\'\\' Rio Branco Airpo...\\'\\'Flat Rock MI\\'\\'Ingolstadt Air Base\\'\\'\\' PavÃ\\\\xadn CD\\'\\'Quantico VA ?\\'\\'\\' Batagay\\'\\'\\' Deir-ez-Zor\\'\\'\\' Federal WY\\'\\'Al Mahfid Airport\\'\\'\\' Thazi\\'\\'Boca Raton Publi...\\'\\'\\' San Salvador Aux...\\'\\'\\' Gizhiga\\'\\'Palm Beach AFB ...\\'\\'Brevoort Island NU\\'\\'\\' La Paz-El Alto A...\\'\\'Vientiane\\'\\'Cold Bay AK\\'\\'\\' Car Nicobar Airp...\\'\\'Belo Horizonte-P...\\'\\'Dikson Airport (...\\'\\'\\' Amman-Marka Inte...\\'\\'Bartlesville OK\\'\\'\\' Cherepovets Airp...\\'\\'\\' FÃ¼rstenfeldbruc...\\'\\'Botuobia\\'\\'DEW Line Site 28...\\'\\'Mount Yale CO\\'\\'Campofelice di R...\\'\\'Santa Margherita\\'\\'\\' Kuujjuaq QC\\'\\'\\' Tenerife-Los Rod...\\'\\'\\' Salisbury Airpor...\\'\\'\\' \" Land\\'s End UK\"\\'\\' Mull of Kintyre ...\\'\\'Szombathely\\'\\'\\' Rauch BA\\'\\'San Nicolas del ...\\'\\'\\' San Francisco C...\\'\\'McMurdo Station\\'\\'Tallahassee Muni...\\'\\'Daly Waters NT\\'\\'\\' Newburg PA\\'\\'Castle Archdale\\'\\'\\' Rio de Janeiro-G...\\'\\'Lake Mzingazi\\'\\'Suez\\'\\'\\' San Miguel Bay\\'\\'\\' Blackbushe Airpo...\\'\\'Hummelfjell Moun...\\'\\'\\' Hangzhou\\'\\'Las Vegas-McCarr...\\'\\'\\' Puerto Somoza\\'\\'Cerro El Rucio\\'\\'Eglisau\\'\\'\\' Caracas Airport ...\\'\\'McMurdo Station-...\\'\\'GroÃ\\\\x9fer Feldberg...\\'\\'\\' Foolow\\'\\'Mount Slesse BC\\'\\'\\' Cameron Highlands\\'\\'\\' Panama Gulf of ...\\'\\'\\' Dannemois\\'\\'\\' Bartlesville Air...\\'\\'Tourous Mountains\\'\\'Postville NL\\'\\'Long Beach CA\\'\\'Hargeisa Airport...\\'\\'\\' Tyrone PA\\'\\'\\' MÃ¼nchen-Riem Ai...\\'\\'Monte Giner\\'\\'\\' Timmins Airport ...\\'\\'\\' Nashua PA\\'\\'\\' Dhahran Internat...\\'\\'Comodoro Rivadav...\\'\\'Tancos Air Base\\'\\'Reggio Calabria ...\\'\\'Tak Province\\'\\'Victorville-Geor...\\'\\'\\' Tulsa Municipal ...\\'\\'\\' Rankin Inlet NU\\'\\'Bukhara Airport ...\\'\\'Vall de NÃºria ...\\'\\'\\' Rome-Griffiss AF...\\'\\'Forres-Kinloss R...\\'\\'Ometepe Island\\'\\'\\' Sunland Los Ang...\\'\\'Rikers Island NY\\'\\'\\' Kohima Nagaland\\'\\'\\' Son Bonet Mallorca\\'\\'Yamal Peninsula\\'\\'\\' Seoul-Gimpo (Kim...\\'\\'\\' SalesÃ³polis SP\\'\\'\\' Blyn WA\\'\\'Columbia SC\\'\\'Sutton Wick\\'\\'\\' TÃºluÃ¡\\'\\'\\' Hakuba\\'\\'Kingsway Camp\\'\\'\\' Natagaima\\'\\'Wythenshawe\\'\\'\\' Sayari\\'\\'Loikaw Airport (...\\'\\'Duntroon ACT\\'\\'\\' Tokyo Japan\\'\\'\\' Sept-Ã\\\\x8eles QC\\'\\'\\' Ulyanovsk\\'\\'Cambridge Bay Ai...\\'\\'\\' Djanet\\'\\'\\' Chincoteague NAA...\\'\\'BagÃ© Airport R...\\'\\'Ilha Anchieta SP\\'\\'\\' Manicouagon QC\\'\\'Arica-El Buitre ...\\'\\'\\' Ridgeland SC\\'\\'\\' Calabozo\\'\\'\\' Tourenne\\'\\'\\' MÃ©rida-Rejon Ai...\\'\\'Argentia Naval A...\\'\\'Queria\\'\\'Pittsburgh Inter...\\'\\'\\' Phoenix AZ\\'\\'\\' Yawata\\'\\'\\' Varna Airport (VAR)\\'\\'Star Hill\\'\\'Santoshpur village\\'\\'\\' Villa Herradura\\'\\'Tanyurer\\'\\'\\' Shihr\\'\\'Pir Panjal\\'\\'\\' Sidi Ifni Airpor...\\'\\'\\' Madrid-Barajas\\'\\'\\' Azores Islands\\'\\'\\' San Carlos de Ba...\\'\\'Salem Harbor MA\\'\\'\\' Aras de Alpuente\\'\\'Budapest-Feriheg...\\'\\'Albertville Airp...\\'\\'Beihan Airport (...\\'\\'Kikori River\\'\\'\\' Romanshorn Bode...\\'\\'Panagarh Airport\\'\\'Bouinane\\'\\'\\' Clarksburg MD\\'\\'Port Hardy Airpo...\\'\\'\\' Horn Island Airp...\\'\\'Cape Parry NWT\\'\\'\\' Guarne\\'\\'\\' Charlakhi Island\\'\\'Athens Airport (...\\'\\'\\' Rupert House QC\\'\\'\\' Stavropol\\'\\'\\' Rio Martil\\'\\'\\' Meco\\'\\'King Salmon Airp...\\'\\'\\' Biak-Mokmer Airp...\\'\\'\\' Hsinchu\\'\\'\\' Port Kent NY\\'\\'Sam Neua Airport...\\'\\'Fiera di Primiero\\'\\'\\' Pinerolo\\'\\'\\' Daggett CA\\'\\'San Giorgio di B...\\'\\'Magdagachi Airpo...\\'\\'Hilo-General Lyn...\\'\\'\\' Issoudun QC\\'\\'Bizerte\\'\\'\\' Cabarete\\'\\'\\' AsunciÃ³n\\'\\'Perak\\'\\'\\' Brooklyn CGAS NY\\'\\'\\' Krumpendorf\\'\\'\\' Juticalpa Airpor...\\'\\'\\' Japen Island\\'\\'\\' Slovita Lvov Re...\\'\\'\\' El Paso Internat...\\'\\'Niquitao\\'\\'Binghamton Airpo...\\'\\'Tetuan Airport (...\\'\\'New Bedford MA\\'\\'\\' Montevideo-Carra...\\'\\'\\' Panagarh\\'\\'Falstone Northu...\\'\\'\\' Fallon NV\\'\\'Palma de Mallorc...\\'\\'Natal RN\\'\\'Islay-Glenegedal...\\'\\'Osaka-Itami Airp...\\'\\'\\' Akshi\\'\\'\\' Beirut Internati...\\'\\'Chukotka\\'\\'\\' Fort McMurray AB\\'\\'\\' Uniontown PA\\'\\'Taraif\\'\\'\\' Adak NAS AK (ADK)\\'\\'Sunahawa\\'\\'\\' Butler MO\\'\\'Cafayate SA\\'\\'Port-Ã\\\\x89tienne\\'\\'Porto Alegre-Sal...\\'\\'Johannesburg Int...\\'\\'Bideford\\'\\'\\' Colerne RAF Station\\'\\'\\' Oran\\'\\'\\' Tinker AFB OK\\'\\'San SebastiÃ¡n-F...\\'\\'North Pole drift...\\'\\'\\' Getafe\\'\\'\\' MÃ©rida Airport ...\\'\\'Karachi Internat...\\'\\'Guernsey Airport...\\'\\'\\' Praia da Baleia ...\\'\\'\\' Sydney-Kingsford...\\'\\'Downend\\'\\'Massena-Richards...\\'\\'\\' Son Bonet Airpor...\\'\\'Chessel Down\\'\\'\\' Ballerup\\'\\'Christchurch\\'\\'\\' Middelharnis Ha...\\'\\'\\' Gustavus Airport...\\'\\'NorrkÃ¶ping Airp...\\'\\'\\' Ankara-Esenboga ...\\'\\'\\' Tindouf\\'\\'Helsinki-Vantaa ...\\'\\'Fezzan\\'\\'\\' Bolivar BA\\'\\'Jeannine Lake QC\\'\\'Ozamiz City\\'\\'\\' Tokyo-Yokota AFB...\\'\\'\\' Birobidzhan\\'\\'\\' Clermont-Ferrant\\'\\'\\' Aracruz ES\\'\\'\\' London-Stansted ...\\'\\'\\' Kahuku Point Oa...\\'\\'Bishoftu\\'\\'Buenos Aires Sea...\\'\\'Porto Alegre RS\\'\\'\\' Edmonton-Namao F...\\'\\'Poitiers-Biard A...\\'\\'\\' Rioja\\'\\'\\' Forres-Kinloss R...\\'\\'\\' Esquel Airport ...\\'\\'Aklavik NT\\'\\'\\' Okinawa-Kadena A...\\'\\'\\' Honolulu Hawaii\\'\\'between Tipuani ...\\'\\'Manston RAF Stat...\\'\\'Bilbao\\'\\'Santa Fe Springs...\\'\\'Norwalk CA\\'\\'Beihan\\'\"Chicago-O\\'Hare I...\"\\'Guatemala City-L...\\'\\'Hato Apure\\'\\'\\' Palm Springs Mun...\\'\\'Monte Vesuvio\\'\\'Pyongyang-Sunan ...\\'\\'Mirny Ice Station\\'\\'\\' Savasleika Air Base\\'\\'\\' Raiatea Airport ...\\'\\'Mount Scifarello\\'\\'\\' Ilha do Corvo A...\\'\\'\\' Chicago-Merrill ...\\'\\'Winter Hill\\'\\'Mirny\\'\\'\\' Mirny Ice Station\\'\\'New Haven Airpor...\\'\\'Manzala Lake\\'\\'Melbourne FL (MLB)\\'\\'Bacolod Airport ...\\'\\'\\' Sacramento-McCle...\\'\\'\\' Kathmandu\\'\\'Guriat Airstrip\\'\\'\\' Miami Internatio...\\'\\'\\' Bridgeport TX\\'\\'Bridgeport TX\\'\\'\\' Havana\\'\\'Meesden Green\\'\\'Quito\\'\\'\\' \" Xi\\'an\"\\'\\' Freeland-Tri Cit...\\'\\'Cerro Illiniza\\'\\'MÃ©rida-Rejon Ai...\\'\\'Pyongtaek\\'\\'Warszawa-Okecie ...\\'\\'\\' Georgetown DE\\'\\'\\' Barcelona Airpor...\\'\\'\\' In Salah Airport...\\'\\'\\' Arden NV\\'\\'Craigie\\'\\'\\' Voronezh\\'\\'\\' Igarka\\'\\'Qrendi\\'\\'\\' Moskva-Sheremety...\\'\\'Hagerstown Regio...\\'\\'\\' Madras OR\\'\\'Manada-Mapanget ...\\'\\'\\' Taft CA\\'\\'\\' Arctic Bay NU\\'\\'ChÃ¢tenoy Loiret\\'\\'Laha Ambon\\'\\'\\' Brunswick MD\\'\\'Gurgaon\\'\\'Lake Figurnoye\\'\\'\\' Andapa\\'\\'Driftwood Bay AK\\'\\'\\' MoliÃ¨re\\'\\'Manila Internati...\\'\\'\\' Guadalajara Airp...\\'\\'Martinsburg Airp...\\'\\'\\' Ilha Grande Beac...\\'\\'\\' Curitiba Airport...\\'\\'\\' San Antonio del ...\\'\\'Blida\\'\\'\\' Damroh\\'\\'Puerto Columbia\\'\\'Moskva-Khodynka ...\\'\\'\\' Byelaya Noch\\'\\'\\' Inta\\'\\'\\' New Braunfels TX\\'\\'Rimouski Airport...\\'\\'BÃ¶cklweiher\\'\\'Ciudad Trujillo-...\\'\\'RÃ\\\\xado Cuarto Airp...\\'\\'\\' Leeming RAF Station\\'\\'Taipeh\\'\\'\\' Benghazi-Benina ...\\'\\'Ilha Carnapijo PA\\'\\'\\' Ontario Internat...\\'\\'Trelew Airport ...\\'\\'\\' Toshima\\'\\'\\' Nantucket Memori...\\'\\'\\' Talakan Khabaro...\\'\\'ItajaÃ\\\\xad Airport ...\\'\\'Minneapolis-St P...\\'\\'Milford\\'\\'\\' London Airport (...\\'\\'\\' Sasnashen\\'\\'\\' Campina Grande A...\\'\\'JÃµhvi\\'\\'\\' Konstantinovski ...\\'\\'Madras Airport (...\\'\\'\\' Ordu-Giresun Air...\\'\\'\\' Triel\\'\\'\\' Lazo Khabarovsk...\\'\\'Gaza Air Base\\'\\'\\' Barreiras BA\\'\\'Kinmen\\'\\'\\' BuendÃ\\\\xada\\'\\'\\' Payette ID\\'\\'Smyshlyaevka Ku...\\'\\'\\' Maracaibo\\'\\'\\' Villa Montes\\'\\'\\' Okarben\\'\\'\\' Sukpai\\'\\'\\' Cape Hallett Bay\\'\\'Zele\\'\\'\\' Blantyre-Chileka...\\'\\'\\' Anzio\\'\\'Masjid-i-Sulaiman\\'\\'MayarÃ\\\\xad Arriba\\'\\'Porlamar Airport...\\'\\'Ross Ice Shelf\\'\\'\\' Harrisburg-Olmst...\\'\\'\\' Preston Airport ...\\'\\'\\' Grakhovo\\'\\'\\' Roccatamburo di ...\\'\\'Le Touquet\\'\\'Lorient-Lann Bih...\\'\\'Privetnoye\\'\\'San Borja - La Paz\\'\\'\\' Buenos Aires/Eze...\\'\\'San Francisco La...\\'\\'Tangier Airport ...\\'\\'\\' Swan Valley ID\\'\\'Augusta-Bush Fie...\\'\\'Azores\\'\\'Anadyr\\'\\'Limestone-Loring...\\'\\'East Sale VIC\\'\\'Paulis Airport (...\\'\\'Frimley\\'\\'Guadarrama Mount...\\'\\'\\' Labuan Malaysia...\\'\\'Jakarta\\'\\'\\' Modena\\'\\'\\' Whoonsocket RI\\'\\'Cherepovets Airp...\\'\\'\\' Cutigliano Pistoia\\'\\'\\' Tashkent-Yuzhny ...\\'\\'Uralsk Airport (...\\'\\'Sopley Park\\'\\'Salisbury Airpor...\\'\\'\\' UncÃ\\\\xada\\'\\'\\' Hatanga Krasnoy...\\'\\'Seighford\\'\\'Moyobamba Airpor...\\'\\'Marble Point\\'\\'\\' Peru-Bunker Hill...\\'\\'Pena Blanca Mt.\\'\\'Mt. Holston TN\\'\\'Panther Peak CA\\'\\'Firq\\'\\'\\' Mar del Plata BA\\'\\'\\' Stalingrad (VOG)\\'\\'\\' MÃ©rida\\'\\'\\' Wadi-es-Sir\\'\\'Kuala Lumpur RAF...\\'\\'Willoughby Bay VA\\'\\'Brindisi-Papola ...\\'\\'Ust-Kara Airstrip\\'\\'VolcÃ¡n Osorno\\'\\'\\' Chakala\\'\\'Vitebsk Airport ...\\'\\'\\' Kerrville Airpor...\\'\\'\\' Ifafa KwaZulu-N...\\'\\'\\' Atlantic Ocean\\'\\'\\' Severo-Evensk M...\\'\\'Hawkesbury River...\\'\\'\\' Kintamani Bali\\'\\'\\' London-Gatwick A...\\'\\'Belen\\'\\'Udoria ON\\'\\'\\' Chartres\\'\\'\\' Prescott Airport...\\'\\'\\' Caravelas BA\\'\\'\\' Dresden-Klotzsch...\\'\\'\\' Managua Airport ...\\'\\'\\' Selfridge AFB MI\\'\\'Addis Ababa-Lide...\\'\\'Curralinho PA\\'\\'Charagua\\'\\'\\' Tobu\\'\\'Mahon\\'\\'\\' Chicago-Midway A...\\'\\'Argentia-NAS NL...\\'\\'\\' Boukpayanga\\'\\'Alma GA\\'\\'\\' Killeen TX\\'\\'Adana-Incirlik A...\\'\\'\\' Port-au-Prince\\'\\'\\' Napoli-Capodichi...\\'\\'\\' Orting WA\\'\\'Beirut Airport (...\\'\\'Juneau Internati...\\'\\'Rio Tejo (Tagus ...\\'\\'HyÃ¨res\\'\\'\\' China Lake CA\\'\\'Baltimore Harbor...\\'\\'Ankara-Etimesgut...\\'\\'\\' BahÃ\\\\xada Kino\\'\\'Mount SÃ¼phan\\'\\'\\' Bredsk Novosibi...\\'\\'\\' Kerman\\'\\'Key West Interna...\\'\\'Sierra de Valdemeca\\'\"N82Â°21\\' E177Â°00\\'\"\\'Mallorca Alfabi...\\'\\'\\' Cuzco-Velazco As...\\'\\'\\' Whidbey Island-N...\\'\\'Coral Harbour S...\\'\\'Charleston-Kanaw...\\'\\'Chase MD\\'\\'\\' Tournavista\\'\\'Islamabad Intern...\\'\\'Moro\\'\\'Bilibino Airfield\\'\\'\\' Khartoum-Civil A...\\'\\'RAF Watton Airfield\\'\\'Mormugao Goa\\'\\'Deputatskiy Airport\\'\\'Athens-Ellinikon...\\'\\'Roswell-Walker A...\\'\\'Cerro Baco\\'\\'Yurgarga River ...\\'\\'\\' Prince Rupert BC\\'\\'Istanbul-YesilkÃ...\\'\\'\\' Puvirnituq Airpo...\\'\\'Gan RAF Station ...\\'\\'\\' CÃ³rdoba-Pajas B...\\'\\'Bari-Palese Airp...\\'\\'Santiago del Est...\\'\\'\\' Kuwait City\\'\\'\\' BabaÃ§ulÃ¢ndia TO\\'\\'Mumbai (Bombay)\\'\\'\\' Andover NH\\'\\'Kapidag Yarimadasi\\'\\'Southend Municip...\\'\\'Palmdale Air For...\\'\\'Sagone\\'\\'Moose Creek ID\\'\\'El Palomar AB BA\\'\\'Khabarovsk region\\'\\'\\' Pevek Airport (PWE)\\'\\'\\' Calverton-Peconi...\\'\\'San Isidro de El...\\'\\'Saint Kitts-Gold...\\'\\'MaringÃ¡ Airport...\\'\\'Abiline-Dyess AF...\\'\\'\\' Traliceto Corsica\\'\\'Poza Rica\\'\\'\\' Mercedes\\'\\'Cape Hallett\\'\\'Oederquart\\'\\'\\' Salvador Airport...\\'\\'Great Sitkin Isl...\\'\\'Jeddah Airport\\'\\'\\' Buffalo TX\\'\\'\\' Petropavlovsk-Ka...\\'\\'\\' Tula Airport (TYA)\\'\\'Leitchfield KY\\'\\'Baiyer River Air...\\'\\'\\' Arlington WA\\'\\'\\' Tangmere\\'\\'\\' Santa Maria Airp...\\'\\'\\' Avlon Attiki\\'\\'Bucks Elbow Moun...\\'\\'Te Whanga Lagoon...\\'\\'\\' Saint-ClÃ©ophas-...\\'\\'\\' Cleveland-Burke ...\\'\\'\\' Tainan\\'\\'Ferreyra CD\\'\\'\\' Lviv-Snilow Airp...\\'\\'\\' Pilottown LA G...\\'\\'\\' Ilha Rasa RJ\\'\\'Sao Filipe Airpo...\\'\\'\\' Irkutsk\\'\\'\\' Williamsport-Lyc...\\'\\'Buenos Aires BA\\'\\'AragarÃ§as Airpo...\\'\\'\\' Puebla Airport\\'\\'\\' Moron Island\\'\\'\\' Mendoza MD\\'\\'Luabo\\'\\'Puerto de la Luz...\\'\\'\\' Boysun Surkhand...\\'\\'\\' Dow AFB ME\\'\\'Gravina Island AK\\'\\'Patipi Bay off ...\\'\\'\\' Vilnius\\'\\'Agadir-Inezgane ...\\'\\'\\' Palembang\\'\\'San Jose de Chiq...\\'\\'\\' Taksing\\'\\'Dianopolis Airpo...\\'\\'Gulf of Sirte\\'\\'\\' Bolivia NC\\'\\'Byrd Station\\'\\'Leningrad-Shosse...\\'\\'Plaridel Airport\\'\\'\\' Minersville UT\\'\\'\\' GhardaÃ¯a\\'\\'\\' Sverdlovsk\\'\\'\\' Charles City VA\\'\\'Montego Bay Airp...\\'\\'Mackay Airport ...\\'\\'\\' Bathurst Island NT\\'\\'Straits of Florida\\'\\'Wrightstown-McGu...\\'\\'Hon Chay Mountain\\'\\'Madeira OH\\'\\'ReykjavÃ\\\\xadk-Naval...\\'\\'Havana-Ciudad Li...\\'\\'Rio de Janeiro RJ\\'\\'Liberty SC\\'\\'\\' Gan RAF Station ...\\'\\'Woolsington Airp...\\'\\'\\' Botricello\\'\\'Fort Worth-Carsw...\\'\\'\\' JÃ©rez del Marqu...\\'\\'\\' Paloh\\'\\'Jorhat-Rowriah A...\\'\\'El Refugio\\'\\'Monte Argentera\\'\\'Nagoya-Komaki In...\\'\\'\\' Amatice\\'\\'\\' Cannelton IN\\'\\'over France\\'\\'\\' Planeta Rica\\'\\'\\' Chimbote\\'\\'Ras Alsheikh Hamid\\'\\'DEW Site 28 NU\\'\\'\\' Kunsan\\'\\'\\' Wiesbaden AFB (WIE)\\'\\'\\' Kromeriz\\'\\'\\' Memphis NAS TN\\'\\'\\' Siuna Airport (SIU)\\'\\'Pelotas-Federal ...\\'\\'\\' Taipei-Songshan ...\\'\\'Lincoln AFB NE ...\\'\\'\\' Marburg\\'\\'BogotÃ¡-Eldorado...\\'\\'Kota Tinggi\\'\\'\\' Hickory Airport ...\\'\\'\\' Bunia Airport (BUX)\\'\\'Nyurba Airport (...\\'\\'\\' York PA\\'\\'Aguadilla-Ramey ...\\'\\'Enken Ayano-Mai...\\'\\'Villemoleix\\'\\'\\' Tora-Tonga\\'\\'\\' El Sosneado\\'\\'David Airport (DAV)\\'\\'Atlanta Airport ...\\'\\'El Coco\\'\\'Tehran-Mehrabad ...\\'\\'Lourdes-Tarbes O...\\'\\'Dessau Airport\\'\\'\\' Tkvarcheli\\'\\'\\' Mackay QLD\\'\\'Mount Gilbert AK\\'\\'\\' San JosÃ©-La Sab...\\'\\'\\' Newry ME\\'\\'Blackpool Airport\\'\\'\\' Aldan\\'\\'\\' Oakington RAF St...\\'\\'\\' Sharjah\\'\\'\\' Quito-Mariscal S...\\'\\'\\' Polillo Island\\'\\'\\' Jimma\\'\\'Rushengo\\'\\'\\' Syktyvkar\\'\\'Vockerode\\'\\'Miami FL (MIA)\\'\\'\\' Rimini Airport (...\\'\\'\\' Tipuani\\'\\'Camp Tuto\\'\\'SÃ£o Paulo-Virac...\\'\\'\\' Tarasovich\\'\\'\\' Weeks Lake QC\\'\\'Port Lyautey\\'\\'Rio Jaru RO\\'\\'Mauritius-Plaisa...\\'\\'\\' Heraklion-N. Kaz...\\'\\'El Palmar\\'\\'Dutovo region\\'\\'\\' Beirut\\'\\'\\' Tczew\\'\\'Puri Post\\'\\'\\' Dakar-Yoff Airpo...\\'\\'Shakhtersk Airpo...\\'\\'\\' Mpouya\\'\\'\\' Nosok\\'\\'\\' Zikhnovo\\'\\'\\' El Badary\\'\\'\\' Salto\\'\\'\\' Empire CO\\'\\'Agartala-Singerb...\\'\\'\\' Batna\\'\\'\\' Chushul\\'\\'\\' BelÃ©m Airport ...\\'\\'Brest Airport\\'\\'\\' Juchitepec\\'\\'\\' Elba Italy Tyr...\\'\\'San Antonio-Rand...\\'\\'Orinda CA\\'\\'Orlando-Municipa...\\'\\'\\' Boston-Logan Int...\\'\\'Sacramento CA\\'\\'Mironeasa-Iassy\\'\\'\\' Aden\\'\\'Mt Capanne\\'\\'Plain City UT\\'\\'\\' Sharypovo Airport\\'\\'\\' Ust-Orda\\'\\'\\' Missoula MT\\'\\'Toledo-Express A...\\'\\'Nairobi-Embakasi...\\'\\'\\' Penza Airport (PEZ)\\'\\'McMurdo Sound\\'\\'Uturoa Harbour ...\\'\\'Bhairawa Airport...\\'\\'Palmar Sur Airpo...\\'\\'\\' Luzon Island-Cub...\\'\\'Nassau-Oakes Field\\'\\'Mount Baco\\'\\'\\' Leningrad-Shosse...\\'\\'\\' Plain of Jars\\'\\'\\' Chernovo\\'\\'Cachimbo PA\\'\\'\\' Cienfuegos\\'\\'\\' Repinka\\'\\'\\' San AndrÃ©s de G...\\'\\'\\' South Head Sydn...\\'\\'Yamburg Airport\\'\\'Mawson Station\\'\\'New York NY\\'\\'Miller Army Air ...\\'\\'Puerto Montt\\'\\'DÃ¼sseldorf Airp...\\'\\'\\' Vakarel\\'\\'Peledui Lensk d...\\'\\'Yampi Sound Koo...\\'\\'\\' Ulyanovsk Airpor...\\'\\'Koivulahti\\'\\'Spangdahlem Air ...\\'\\'Taif Air Base (TIF)\\'\\'\\' Hopkinsville-For...\\'\\'\\' Katy TX\\'\\'Midway Island-Sa...\\'\\'Bilbao Airport (...\\'\\'Nairobi-Eastleig...\\'\\'Vilkerath\\'\\'Mount Burangrang\\'\\'\\' Roma-Fiumicino A...\\'\\'Belo Horizonte A...\\'\\'\\' Montauk Point NY\\'\\'Vladivostok Airp...\\'\\'Kwamouth\\'\\'\\' Madura Island\\'\\'\\' Bizana\\'\\'Luluabourg\\'\\'Mezen Airport\\'\\'\\' Brussel-Zaventem...\\'\\'LBJ Ranch TX\\'\\'Atlantic City-Ba...\\'\\'Mount Meru\\'\\'Lake George FL\\'\\'PÃ¡ramo Turmal\\'\\'Assam\\'\\'Brasilia DF\\'\\'\\' Ponta Grossa-San...\\'\\'MonterÃ\\\\xada-Los Ga...\\'\\'\\' Nagpur\\'\\'\\' Marysville CA\\'\\'Paksi\\'\\'\\' Phon Savan\\'\\'\\' Natal RN\\'\\'\\' NÃ¼rnberg\\'\\'\\' Linares\\'\\'Saint Pierre Air...\\'\\'Blida Airport\\'\\'Reggan Airport\\'\\'Puerto CalderÃ³n\\'\\'Bereina Airport ...\\'\\'Bluefield-Mercer...\\'\\'\\' Saint Jean Airpo...\\'\\'Moncton Airport ...\\'\\'Avord Air Base\\'\\'Mount Parker\\'\\'\\' Mustang OK\\'\\'Rhimkhim\\'\\'San Antonio Airport\\'\\'\\' Al Qamishli Airp...\\'\\'\\' Edjele\\'\\'Upper Heyford RA...\\'\\'Cerro Arenal\\'\\'\\' Wiesbaden Air Ba...\\'\\'Gan/Seenu Airpor...\\'\\'\\' St. Augustine Be...\\'\\'Azaiba Airfield\\'\\'Bulwer Island QLD\\'\\'Ramstein Air For...\\'\\'\\' Fonte da Telha\\'\\'Guelph Airport ON\\'\\'CuraÃ§ao-Dr. Alb...\\'\\'\\' Tachikawa AB Japan\\'\\'\\' Douala Airport (...\\'\\'Lago PeÃ±uelas\\'\\'\\' Teheran\\'\\'Oakland Internat...\\'\\'\\' Bogoroditsk Tul...\\'\\'Kings Ranch TX\\'\\'\\' Nanaimo BC\\'\\'Winslow AZ\\'\\'\\' Knob Lake QC\\'\\'Sosnovy Bor Niz...\\'\\'Biggin Hill\\'\\'Odessa-Central A...\\'\\'\\' Casablanca-Anfa ...\\'\\'\\' Pardo BA\\'\\'\\' Rio Grande Juqu...\\'\\'Havana-JosÃ© Mar...\\'\\'Hamburg-FuhlsbÃ¼...\\'\\'Lukhovitsy-Trety...\\'\\'Chico Airport C...\\'\\'\\' Pearce WA\\'\\'El Paso Internat...\\'\\'\\' Rudsar\\'\\'Sarcpa Lake Airs...\\'\\'\\' Pha Khao\\'\\'Riga Central Air...\\'\\'\\' Walterboro Munic...\\'\\'\\' Kangerlussuaq-SÃ...\\'\\'\\' Thaton\\'\\'Kintampo Brong-...\\'\\'\\' Sendafar\\'\\'ConcÃ³rdia SC\\'\\'\\' San Borja Airpor...\\'\\'\\' Rabat-Sale Airpo...\\'\\'Elizabethville A...\\'\\'Kamina Airport (...\\'\\'Santa Rosa de Ya...\\'\\'\\' Ndola Airport (NLA)\\'\\'Dublin Airport (...\\'\\'Oat Mountain CA\\'\\'\\' Oymyakon\\'\\'Wilmington-New H...\\'\\'Kamina ?\\'\\'Qinglongshan He...\\'\\'Norfolk-NAS Cham...\\'\\'Brasilia Interna...\\'\\'Kolwezi\\'\\'Ibiza Airport (IBZ)\\'\\'Bahrain Internat...\\'\\'Mont Canigou\\'\\'Mahesh\\'\\'Saint-Hyacinthe QC\\'\\'\\' Osan\\'\\'BelÃ©m Airport ...\\'\\'Groglin Fell\\'\\'Ballykelly RAF S...\\'\\'\\' Parintins AM\\'\\'\\' Izu\\'\\'Frankfurt Intern...\\'\\'\\' Smorodinny\\'\\'Evreux Airport (...\\'\\'Phou Fa\\'\\'Les Prevosts Gu...\\'\\'\\' Recife-Guararape...\\'\\'\\' Vladivostok Airp...\\'\\'Shantung Province\\'\\'\\' Richmond Interna...\\'\\'Wilkins Station\\'\\'\\' Virginia\\'\\'Chitado\\'\\'\\' Puerto Rico Car...\\'\\'Sentinel Ridge\\'\\'Covington-Greate...\\'\\'\\' Kalungwi village\\'\\'\\' SÃ£o Paulo/Campi...\\'\\'\\' Whitehorse YT\\'\\'\\' Mount Hagen\\'\\'\\' Aviano\\'\\'\\' Ebersheim\\'\\'Krasnoyarsk Airport\\'\\'Kolwezi Airport ...\\'\\'\\' Yakutsk Airport ...\\'\\'Amritsar\\'\\'\\' Praia de Itaipu ...\\'\\'Montignies-lez-Lens\\'\\'\\' Corona CA\\'\\'Managua Airport ...\\'\\'\\' Chebotovka villa...\\'\\'\\' Wollongong Airpo...\\'\\'Belton MO\\'\\'Ankara-Esenboga ...\\'\\'Kinnaur Himacha...\\'\\'\\' Surabaya\\'\\'Kabul Airport (KBL)\\'\\'Belize City-Phil...\\'\\'Korea Bay\\'\\'South Park Towns...\\'\\'\\' Osan AFB\\'\\'\\' Maniamuna\\'\\'Kronborg Glacier\\'\\'Tippi Airport (TIE)\\'\\'Arctic Bay NT\\'\\'\\' CuruzÃº CuatiÃ¡\\'\\'\\' Ogden-Hill AFB ...\\'\\'Caranavi Airport\\'\\'within France\\'\\'Altus AFB OK (LTS)\\'\\'\\' Helena MT\\'\\'\\' La Toma SL\\'\\'CÃºcuta Airport ...\\'\\'\\' Hall Beach Airpo...\\'\\'between Bien Hoa...\\'\\'\\' Xieng Khouang\\'\\'\\' Tingo Maria\\'\\'Greensboro/High ...\\'\\'\\' Hachinohe\\'\\'\\' Bao Loc\\'\\'\\' Ahwaz Airport (AWZ)\\'\\'Mt Ohira\\'\\'\\' Paphos\\'\\'\\' Durango CO\\'\\'\\' Porlamar\\'\\'Municipio de Mar...\\'\\'Jamaica Bay NY\\'\\'Nanuque MG\\'\\'\\' Warsaw\\'\\'\\' Seymour\\'\\'Mt Velino\\'\\'Taurus Mountains\\'\\'\\' AlenÃ§on\\'\\'New Orleans LA\\'\\'Toyanaka\\'\\'Adak Naval Air F...\\'\\'Bandera TX\\'\\'\\' Wadi Halfa Airpo...\\'\\'between Guam and...\\'\\'\\' Santiago Airport...\\'\\'\\' Sorong-Jefman Ai...\\'\\'SÃ£o Francisco d...\\'\\'\\' Draganescu\\'\\'\\' Jerez de la Fron...\\'\\'Karpun Mountain\\'\\'Revel\\'\\'Hipp Khanh\\'\\'\\' BahÃ\\\\xada Solano\\'\\'Mendoza-El Plume...\\'\\'\\' Daru\\'\\'St. Boniface Down\\'\\'\\' Haveri\\'\\'\\' Vallenar\\'\\'Arunachal Prades...\\'\\'\\' Vitoria-Goiabeir...\\'\\'\\' Mong-Hpayak\\'\\'Biak-Boroekoe Ro...\\'\\'GodthÃ¥b/Nuuk Ai...\\'\\'\\' Villa Pedro Montoya\\'\\'\\' Nairobi-Embakasi...\\'\\'Chichester Harbour\\'\\'\\' Kaimana West Papua\\'\\'Kaimana Bay Wes...\\'\\'San Pedro Sula\\'\\'\\' Unionville MO\\'\\'\\' Markt Schwaben\\'\\'Algiers\\'\\'\\' Talenda Rajshahi\\'\\'\\' Dover AFB DE USA\\'\\'California\\'\\'\\' Sofia-Vrazhdebna...\\'\\'Lake Minchumina AK\\'\\'\\' Pointe-Ã\\\\xa0-Pitre-...\\'\\'Creil\\'\\'\\' Rawalpindi\\'\\'Pedro Afonso GO\\'\\'\\' Bandirma Airport...\\'\\'\\' Durban\\'\\'Isle of Man-Rona...\\'\\'\\' Voznesenka Kras...\\'\\'Tshikapa Airport...\\'\\'\\' Caracas-Simon Bo...\\'\\'\\' Tashkent Airport...\\'\\'\\' Junnar\\'\\'Amarillo-Air Ter...\\'\\'\\' Brindisi-Papola ...\\'\\'\\' Ban Me Thuot\\'\\'Kontum Airport (...\\'\\'\\' Loheshyphu Dropp...\\'\\'Khao Yai Mountain\\'\\'Honolulu Interna...\\'\\'Glynco NAS GA (...\\'\\'\\' Las Palmas-Gando...\\'\\'Mutya  Misamis ...\\'\\'\\' Adler/Sochi Airp...\\'\\'\\' Magong Penghu\\'\\'Ternopil Airport...\\'\\'Batanii Mici\\'\\'Everett-Paine Fi...\\'\\'\\' Coulommiers-Vois...\\'\\'Punta Arenas-Car...\\'\\'ViÃ§osa AL\\'\\'\\' Tulachan Dhuri\\'\\'Sugar Land TX\\'\\'Knoxville-Mc Ghe...\\'\\'Bedford-Hanscom ...\\'\\'Patuxent River-N...\\'\\'Ambon\\'\\'Barrancabermeja ...\\'\\'Cerro Puena Paz\\'\\'Mt. Prenj\\'\\'\\' Chippenham Wilt...\\'\\'\\' Saladas CR\\'\\'\\' Phu Fa\\'\\'\\' Khabarovsk\\'\\'Nase Amami\\'\\'\\' Lake Milton OH\\'\\'\\' Alcoche\\'\\'\\' Spokane WA\\'\\'Seal Beach CA\\'\\'San Pedro Sula A...\\'\\'\\' Cherskiy Airport...\\'\\'Tenerife-Norte L...\\'\\'\\' Kamunza-Goi\\'\\'Sela Pass\\'\\'Montague Island AK\\'\\'Tandil Airport ...\\'\\'SÃ£o Paulo-Campo...\\'\\'Montevideo-Carra...\\'\\'Bagotville Airpo...\\'\\'\\' Brno Turany Airp...\\'\\'\\' Amir Kabir Dam\\'\\'\\' Carmona\\'\\'Victoria Interna...\\'\\'\\' Biorka Island AK\\'\\'Cagayan de Oro-L...\\'\\'GuantÃ¡namo NAS ...\\'\\'Moskva-Sheremety...\\'\\'\\' Bernay-en-Brie\\'\\'BascapÃ¨\\'\\'Dak To\\'\\'Bahia Aguirre TF\\'\\'Nova Lima MG\\'\\'Carora Airport (...\\'\\'\\' SuÃ¡rez Tolima\\'\\'Cerro El Gaital\\'\\'\\' Nagoya\\'\\'SÃ£o TomÃ© Ilha...\\'\\'\\' Ellicott City MD\\'\\'Davis Glacier\\'\\'Kingston\\'\\'\\' Paraibuna SP\\'\\'\\' Lima-Callao Inte...\\'\\'Uncia\\'\\'\\' Barrancabermeja\\'\\'Ellsworth Station\\'\\'\\' Mistassini Lake QC\\'\\'\\' ParanÃ¡ da Eva AM\\'\\'Arkhangelsk-Kego...\\'\\'\\' Olyokminsk\\'\\'\\' Warszawa-Okecie ...\\'\\'Grand Island NE\\'\\'\\' Brasilia DF\\'\\'\\' \" Noril\\'sk-Nezhdan...\"\\'Rotterdam Airpor...\\'\\'Monte Renoso Co...\\'\\'Banhilal\\'\\'\\' Alameda NAS CA ...\\'\\'Moncton-Metropol...\\'\\'\\' PÃ©rillos\\'\\'Colombo-Katunaya...\\'\\'\\' Chepbeica\\'\\'Parnaiba Airport...\\'\\'\\' Las Palmas Isla...\\'\\'Blackpool Airpor...\\'\\'Cape Lisburne AF...\\'\\'Kansas City Down...\\'\\'\\' New York NJ USA\\'\\'Ulus District A...\\'\\'\\' Syktyvkar Airpor...\\'\\'Everglades FL\\'\\'\\' Long Semodo\\'\\'Fort-Lamy Airpor...\\'\\'Puyallup WA\\'\\'Bukhta Yemlinska...\\'\\'Mt. Boca\\'\\'Herzogenaurach A...\\'\\'Bentwaters RAF S...\\'\\'Kalimikui\\'\\'\\' Richardson Lakes\\'\\'Monte Real Air Base\\'\\'\\' Karaj\\'\\'\\' Tacora Volcano\\'\\'Memphis NAS TN ...\\'\\'\\' Staverton Airpor...\\'\\'Kasongo Lunda Ai...\\'\\'\\' Sora\\'\\'Pisa-Arturo dell...\\'\\'Punta Indio BA\\'\\'Magadan Airport ...\\'\\'\\' Urakhcha Rybnay...\\'\\'Flin Flon Airpor...\\'\\'Hamah\\'\\'Shuangtan Villag...\\'\\'\\' Palermo\\'\\'Nakhon Phanom\\'\\'Kobenhavn-Kastru...\\'\\'\\' Bu Hafafa\\'\\'\\' Fuerteventura\\'\\'\\' Masjed Soleyman\\'\\'Hachijo Jima Air...\\'\\'Awaji-Shima\\'\\'Mt. Cameroon\\'\\'Sendai\\'\\'Az Zahweyyin\\'\\'Wamena Airport (...\\'\\'\\' Leningrad-Smolno...\\'\\'Hassi Messaoud A...\\'\\'Manhattan Munici...\\'\\'Urgench\\'\\'Sarna\\'\\'\\' Annette Island ...\\'\\'Mt. Kaolokung\\'\\'\\' BÃ©kÃ©ssÃ¡mson\\'\\'\\' Puerto Aisen\\'\\'Linchuan Jiangxi\\'\\'\\' Springfield-West...\\'\\'\\' Detmold\\'\\'\\' Passo Fundo Airp...\\'\\'within Vietnam\\'\\'Rochester-Monroe...\\'\\'Tauramena Airpor...\\'\\'\\' Mt. Ngatamahinerua\\'\\'Botulu Vilyuisk...\\'\\'\\' South Caicos Island\\'\\'Pierce Lake SK\\'\\'Farafangana Airp...\\'\\'\\' Chandigarh Airpo...\\'\\'Pak Tha\\'\\'Karaganda Airpor...\\'\\'\\' Bombay Airport (...\\'\\'Dover AFB DE (DOV)\\'\\'IbicarÃ© SC\\'\\'Zavkhan Province\\'\\'\\' Spartanburg SC\\'\\'Stettynskloof W...\\'\\'Kap Desolation\\'\\'\\' Lyon\\'\\'\\' Great Falls-Malm...\\'\\'Kishinev Airport...\\'\\'Mumbai-Santa Cru...\\'\\'Mount Hachijo-Fuji\\'\\'Neva River\\'\\'between Tazovsko...\\'\\'Nikolskoe Aleut...\\'\\'\\' Calgary-McCall F...\\'\\'\\' Kutaisi Airport ...\\'\\'Francistown Airp...\\'\\'Salvador Airport...\\'\\'\\' Kapan\\'\\'A Loui\\'\\'DÃ¼rrenÃ¤sch\\'\\'\\' Ban Phone Mouang\\'\\'Gamela PE\\'\\'\\' Sibu\\'\\'GenÃ¨ve-Cointrin...\\'\\'\\' Agra\\'\\'Pic de la Roquette\\'\\'\\' Bialobrzegi\\'\\'\\' Cape May NJ USA\\'\\'Oran\\'\\'Maha Sarakham\\'\\'AsunciÃ³n-Ã\\\\x91u-Gu...\\'\\'Graham Bell Isla...\\'\\'Bangalore Airpor...\\'\\'\\' Chicklade\\'\\'Chelyabinsk Airp...\\'\\'Toyama Airport (...\\'\\'Indianapolis Int...\\'\\'\\' Mariehamn Airpor...\\'\\'Wien-Schwechat I...\\'\\'Ixtepec Oaxaca\\'\\'\\' Banihal pass Ka...\\'\\'Ste-ThÃ©rÃ¨se-de...\\'\\'Morgantown WV\\'\\'\\' Nederland CO\\'\\'\\' Kirensk Airport\\'\\'\\' KÃ¶nigsbrÃ¼ck\\'\\'Elkton MD\\'\\'\\' Ban Me Thout\\'\\'\\' Ghazni\\'\\'Midland Air Term...\\'\\'\\' Songkhla\\'\\'Logarh Valley\\'\\'Anderson Municip...\\'\\'\\' Batagay Airport\\'\\'Asuncion-Alfredo...\\'\\'\\' Rupert River QC\\'\\'\\' ZarÃ¡te BA\\'\\'Culloden Moor\\'\\'Thysville Airport\\'\\'\\' Kenkiyak\\'\\'\\' Vogelsberg villa...\\'\\'\\' Yacuiba Airport ...\\'\\'\\' SÃ£o SebastiÃ£o SC\\'\\'\\' Calverton NY\\'\\'\\' Dhzigda Airport\\'\\'Mechuka Uttar P...\\'\\'\\' Tabajara RO\\'\\'Banihal Pass\\'\\'\\' Osaka-Itami Airp...\\'\\'\\' Marawi\\'\\'\\' New Orleans Inte...\\'\\'Oita Airport (OIT)\\'\\'Mt. Glungezer\\'\\'\\' Lake Tahoe Airpo...\\'\\'Londrina Airport...\\'\\'\\' FacatavivÃ¡\\'\\'Rioja\\'\\'Tenerife-Los Rod...\\'\\'Wisley Airfield\\'\\'Singapore-Paya L...\\'\\'\\' San Fransisco CA\\'\\'Mt Somma\\'\\'New York-John F....\\'\\'Along Airport (IXV)\\'\\'La Fortuna BA\\'\\'Mekong River\\'\\'Portel PA\\'\\'Hargeisa\\'\\'\\' Clinton County A...\\'\\'\\' Pisa-Arturo dell...\\'\\'Larandia ChaquÃ©ta\\'\\'Al Arish Airport...\\'\\'Bouar Airport (BOP)\\'\\'Phoenix-Deer Val...\\'\\'\\' Valdez Municipal...\\'\\'Kilwa Masoko Air...\\'\\'\\' Foix\\'\\'Mitzpe Ramon\\'\\'Laguna Brava LR\\'\\'\\' Upernavik\\'\\'Isfahan\\'\\'Tan Hiep\\'\\'\\' San Ramon CA\\'\\'\\' Lima Internation...\\'\\'\\' Cooperton Kiowa...\\'\\'\\' Cadiz\\'\\'Seale AL\\'\\'Svetilnoye Bori...\\'\\'Antisana Volcano\\'\\'Sibuco Point\\'\\'\\' Luvungi airstrip\\'\\'Morro do SÃ£o Lo...\\'\\'Long Akah\\'\\'\\' Trinidad Airport...\\'\\'Twin Cities NART...\\'\\'BrasÃ\\\\xadlia Intern...\\'\\'Cheremshan\\'\\'Novosibirsk (OVB)\\'\\'\\' Ã\\\\x87anakkale\\'\\'Labuan Airport (...\\'\\'\\' Yantai Shantung...\\'\\'\\' Bacau Airport (BCM)\\'\\'Toronto Internat...\\'\\'\\' Jeddah Saudi Ar...\\'\\'San-Chiao\\'\\'\\' Palma de Mallorca\\'\\'\\' Ridgeway SC\\'\\'Dhaka-Tejgaon Ai...\\'\\'\\' RÃ\\\\xado Gallegos In...\\'\\'Nowra Airport N...\\'\\'Krasnodar Airpor...\\'\\'\\' Ketchikan AK\\'\\'\\' Urtazym\\'\\'\\' DonzÃ¨re\\'\\'Death Valley CA\\'\\'\\' Parrottsville TN\\'\\'\\' Ansbach\\'\\'Gia Vuc\\'\\'\\' Magdeburg\\'\\'\\' Pingtung\\'\\'Washington-Dulle...\\'\\'Granite Mountain...\\'\\'Lundazi District\\'\\'\\' Ceiba-Roosevelt ...\\'\\'\\' Tonopah NV\\'\\'Rioja area\\'\\'\\' Tilshead\\'\\'Okayama Airport ...\\'\\'Hurka\\'\\'\\' Puerto Rico\\'\\'\\' Topcliffe RAF St...\\'\\'Miami-Opa locka ...\\'\\'Homer Airport A...\\'\\'\\' Yuzhno-Sakhalins...\\'\\'Vaong Nong\\'\\'Karimata Strait\\'\\'\\' Nova Friburgo RJ\\'\\'\\' Vietnam coast S...\\'\\'Bario Airport (BBN)\\'\\'\\' Condoto\\'\\'Puerto Rico Airp...\\'\\'Kiev-Gostomel Ai...\\'\\'Manawa\\'\\'\\' Hanstedt II\\'\\'Muang Hein (LS-48)\\'\\'San Juan-Isla Ve...\\'\\'Shiraz Airport (...\\'\\'Mt Alcazaba\\'\\'Addis Ababa-Bole...\\'\\'Otter Lake Chic...\\'\\'Glasgow-Renfrew ...\\'\\'\\' Cugir\\'\\'\\' Cape Khorgoy\\'\\'Derby Airport\\'\\'Mount Avala\\'\\'ChÃ¢teauroux Air...\\'\\'Lillie Glacier\\'\\'\\' Phumi Dak Dam\\'\\'\\' Nikolayevsk-na-A...\\'\\'\\' Augusta GA\\'\\'\\' Magong\\'\\'\\' Portsmouth-Pease...\\'\\'\\' Perote Vera Cruz\\'\\'\\' Gavanoasa\\'\\'Heraklion Airpor...\\'\\'Freeport-Grand B...\\'\\'\\' Argentia-NAS NL...\\'\\'A Ro\\'\\'\\' Murmansk Airport...\\'\\'\\' Helsingborg-Ã\\\\x84ng...\\'\\'Detroit-Metropol...\\'\\'Lourdes-de-Blanc...\\'\\'Roma-Fiumicino A...\\'\\'Baton Rouge LA\\'\\'\\' Ahlhorn Air Base\\'\\'\\' Cape Newenham AK\\'\\'\\' Surami\\'\"LÃ©opoldville-N\\'...\"\\'\\' Milluni\\'\\'CÃ³rdoba CD\\'\\'Labuan RAF Station\\'\\'Numancia Aklan\\'\\'\\' San Francisco In...\\'\\'Yurimaguas Airpo...\\'\\'Adelaide Base\\'\\'\\' Turrialba\\'\\'River Pasighat\\'\\'\\' Detroit-Metropol...\\'\\'EncarnaciÃ³n-Ten...\\'\\'\\' Limestone-Loring...\\'\\'Topeka-Forbes AF...\\'\\'\\' Wake Island AFB ...\\'\\'Shackleton Glacier\\'\\'Detroit-Willow R...\\'\\'Santa Isabel do ...\\'\\'\\' Wichita-McConnel...\\'\\'\\' Beaver Yukon Fl...\\'\\'San Jose Airport...\\'\\'Porto Velho RO\\'\\'Mount Helmos\\'\\'\\' Katwijk\\'\\'Garoua Airport (...\\'\\'\\' Goretskoye Airstrip\\'\\'Far East\\'\\'\\' San JosÃ© Volcano\\'\\'\\' Jones Beach NY\\'\\'Calvi Airport (CLY)\\'\\'Lake Hefner OK\\'\\'Mount Nakanoone\\'\\'Isfahan Airport ...\\'\\'Leeds/Bradford A...\\'\\'Moskva-Zhukovsky...\\'\\'\\' Cape Race NL C...\\'\\'Iki Airport (IKI)\\'\\'\\' Louth\\'\\'Philipsburg-Mid-...\\'\\'Luang Sun Mounta...\\'\\'Porgera Airport ...\\'\\'London-Heathrow ...\\'\\'Mt Tangcong Vaca\\'\\'\\' Kuybyshev Airpor...\\'\\'Frunze Airport (...\\'\\'Bucaramanga-Gome...\\'\\'Launceston Airpo...\\'\\'Upper Musquodobo...\\'\\'Cerro Saguancancha\\'\\'\\' Waterville NL\\'\\'Khanty-Mansiysk ...\\'\\'Pan de Azucar Peak\\'\\'Rio Branco Airpo...\\'\\'\\' Cordova MD\\'\\'AlenÃ§on\\'\\'\\' Leeds/Bradford A...\\'\\'Hadibo\\'\\'\\' Lowery Pass\\'\\'Whenuapai Airport\\'\\'Da Nang Air Base...\\'\\'Warrnambool Airp...\\'\\'\\' Andros Island\\'\\'\\' Damascus\\'\\'\\' Klamath Falls OR\\'\\'\\' Jersey-States Ai...\\'\\'Nagaland\\'\\'Manston Airport ...\\'\\'Mt Rainier WA\\'\\'\\' Korat AFB\\'\\'Long Island Soun...\\'\\'\\' Blond\\'\\'\\' Knobnoster-White...\\'\\'\\' Madrid-Torrejon ...\\'\\'Hon Quan\\'\\'\\' Hopsten AB\\'\\'Tra My\\'\\'\\' Angel Falls\\'\\'Nikolski Air For...\\'\\'Obihiro Airport ...\\'\\'\\' Pedro Juan Cabal...\\'\\'\\' Sabattus ME\\'\\'\\' Crooked Island ...\\'\\'Cebu Airport (CEB)\\'\\'\\' Murcia/Alcantari...\\'\\'\\' Holloway Field\\'\\'Algiers-Dar el B...\\'\\'Manaus/Ponta Pel...\\'\\'Ahlhorn Air Base\\'\\'\\' North Vietnamese...\\'\\'\\' Jaruco\\'\\'\\' Bristol Channel\\'\\'Catalina Harbour...\\'\\'\\' San Francisco CA\\'\\'Da Nang Airport ...\\'\\'\\' Piacenza\\'\\'Nouakchott Airpo...\\'\\'Little Baldon\\'\\'\\' 100 Mile House BC\\'\\'Tijuana Airport ...\\'\\'\\' Nantucket MA USA\\'\\'Ashford-Lympne A...\\'\\'\\' Choushi\\'\\'\\' Liverpool Intern...\\'\\'\\' Gorny\\'\\'\\' Montoursville PA\\'\\'Mount Madiac\\'\\'\\' Lerma Campeche\\'\\'\\' Panama City-Tocu...\\'\\'\\' Barra do Bugres MT\\'\\'Lake Michigan MI\\'\\'El Pucu FO\\'\\'\\' Poonch\\'\\'Jeuk\\'\\'\\' Å\\\\xa0ilale\\'\\'Carauari Airport...\\'\\'\\' Cali Airport (CLO)\\'\\'Hikuera Papeete...\\'\\'\\' Loukhi\\'\\'Pathankot\\'\\'Bien Hoa Air Base\\'\\'Srinagar Airport...\\'\\'\\' Hayward Municipa...\\'\\'\\' Louisville-Bowma...\\'\\'Baghdogra\\'\\'Mt Kantakan\\'\\'\\' Ulan-Ude Airport...\\'\\'Jamnagar-Govardh...\\'\\'Jammu-Satwari Ai...\\'\\'\\' Quang-Ngai\\'\\'\\' Pastaza Airport ...\\'\\'\\' Long Bawan East...\\'\\'Chances Peak\\'\\'\\' Qui Nhon Airport...\\'\\'Ardmore OK\\'\\'Long Tieng\\'\\'\\' CÃºcuta\\'\\'\\' McMurdo Station-...\\'\\'\\' Patian\\'\\'Dayton-Patterson...\\'\\'\\' Pique OH\\'\\'\\' Bucaramanga-Gome...\\'\\'Huntsville-Madis...\\'\\'\\' Manila Airport (...\\'\\'\\' Jackson MI\\'\\'Veckerhagen\\'\\'\\' Vilhena RO\\'\\'Mohanbari Airpor...\\'\\'San Ramon\\'\\'Pouso Alegre Air...\\'\\'Tan Hiep Air Base\\'\\'\\' Obock Airport (OBC)\\'\\'\\' Puerto Limon\\'\\'\\' El Encanto\\'\\'\\' Terra de Areia RS\\'\\'CanÃ³n del Paraiso\\'\\'\\' HesselÃ¸ Kattegat\\'\\' Cincinnati-Great...\\'\\'Coraopolis PA\\'\\'Salt Lake City I...\\'\\'Ust-Maya Airport ?\\'\\'New Orleans-Mois...\\'\\'Sayaboury Airpor...\\'\\'\\' Urrao\\'\\'Belfast Internat...\\'\\'\\' Salt Lake City UT\\'\\'South Vietnam\\'\\'North Salem NY\\'\\'Horlick Mountains\\'\\'El Ortigal de Ar...\\'\\'\\' Panama City-Tocumen\\'\\'Chu Lai Air Base...\\'\\'\\' Brunswick NAS M...\\'\\'Ura Airstrip\\'\\'\\' Tuy Hoa\\'\\'Bitburg Air Base...\\'\\'\\' Alamosa CO\\'\\'\\' Cape Romanzof Ai...\\'\\'\\' Legaspi Airport ...\\'\\'Le TrÃ©port\\'\\'between Tan Son ...\\'\\'Salvador BA\\'\\'\\' Tuy Hoa (TBB)\\'\\'Magadan\\'\\'\\' Ban Solou\\'\\'\\' TuluÃ¡\\'\\'Shau Valley\\'\\'Tanh Linh Air Base\\'\\'Hopsten Air Base\\'\\'\\' Pleiku Airport (...\\'\\'\\' Scranton PA\\'\\'An Khe\\'\\'\\' Chipaque\\'\\'Taiwan Strait\\'\\'\\' Vi Thanh\\'\\'\\' Chkalovsky\\'\\'\\' Cartagena-Crespo...\\'\\'\\' Shamurat Nurata...\\'\\'Palomares\\'\\'between Douala a...\\'\\'\\' Duchity\\'\\'\\' An Khe\\'\\'\\' RÃ\\\\xado Cuarto CD\\'\\'\\' Bremen Airport (...\\'\\'\\' Bolshaya Viska\\'\\'\\' Dong Hoi Vietna...\\'\\'Luxor\\'\\'\\' Khe Sanh\\'\\'\\' Tokyo-Haneda Air...\\'\\'Banihall Pass\\'\\'\\' Granada\\'\\'Gansu Province\\'\\'\\' Pechora\\'\\'\\' Milan-Malpensa\\'\\'Des Moines Airpo...\\'\\'Mys Nalycheva\\'\\'\\' Golubichnoye Kh...\\'\\'\\' Callao\\'\\'Bunia Airport (BUX)\\'\\'\\' A Shau Special F...\\'\\'Mt Parnon\\'\\'\\' A Roh\\'\\'\\' Haiphong\\'\\'\\' Bardufoss Airpor...\\'\\'Tuy Hoa (TBB)\\'\\'northeastern Laos\\'\\'Playa de Bibijagua\\'\\'Guwahati-Borjhar...\\'\\'Litchfield Park ...\\'\\'North Battleford...\\'\\'Skopje Airport (...\\'\\'Sam Neua\\'\\'Belleville-Scott...\\'\\'Porto Nacional A...\\'\\'\\' Ardmore Municipa...\\'\\'\\' Clarendon TX\\'\\'\\' Boyuk Zira\\'\\'\\' Labinsk\\'\\'\\' Hope Slide BC\\'\\'Nagpur Airport (...\\'\\'El Kuntilla\\'\\'Mount Talaula\\'\\'Kon Tum Airfield\\'\\'Gradnitsa\\'\\'Cai Cai Camp Ki...\\'\\'Apolima Strait\\'\\'\\' Ban Hai\\'\\'Amarillo AFB TX...\\'\\'\\' Vinh Thanh\\'\\'\\' Thanh Hoa Bridge...\\'\\'\\' Ban Phakat\\'\\'\\' Felthorpe\\'\\'\\' \" Nice-CÃ´te d\\'Azu...\"\\'Minsk-1 Internat...\\'\\'\\' Immingham\\'\\'\\' Columbia City IN\\'\\'\\' Phu Hiep\\'\\'\\' Tam Ky\\'\\'Lac PÃ©ribonka QC\\'\\'Arteni Talin di...\\'\\'Maulmyine Airpor...\\'\\'Long Beach MS\\'\\'Lorica Airport\\'\\'\\' Sablayan\\'\\'\\' Kuwait Internati...\\'\\'Qui Nhon Air Bas...\\'\\'Auckland Interna...\\'\\'Rio Orton\\'\\'\\' Battle Creek MI\\'\\'Jamaica\\'\\'Roanoke Municipa...\\'\\'Cerro el PlanchÃ²n\\'\\'Vung Tau Airport...\\'\\'Campo Largo PR\\'\\'\\' Cape Lisburne Ai...\\'\\'Gallup Airport ...\\'\\'\\' Zaporizhia Oblast\\'\\'Port Elizabeth NJ\\'\\'\\' Benito\\'\\'\\' Falls City NE\\'\\'Batumi\\'\\'Greenwood Canadi...\\'\\'Lotrioara Valley\\'\\'\\' Acapulco\\'\\'Tachikawa AFB\\'\\'Puerto Lobos CB\\'\\'\\' Azaiba Airfield\\'\\'Arkhangelsk Airp...\\'\\'Altamira PA\\'\\'\\' Highland Park IL\\'\\'\\' CamagÃ¼ey Airpor...\\'\\'Tuzla Istanbul\\'\\'\\' Ljubljana-Brnik ...\\'\\'\\' Rajouri\\'\\'Dong Tre\\'\\'\\' Chai-I\\'\\'\\' Murgab\\'\\'\\' Tsikhisdziri Cape\\'\\'\\' Acapulco Airport...\\'\\'\\' Santa Cruz\\'\\'\\' El Sauzal\\'\\'Medford NJ\\'\\'Kagoshima Airpor...\\'\\'\\' BogotÃ¡-Eldorado...\\'\\'\\' Winton QLD\\'\\'\\' Tennant Creek Ai...\\'\\'\\' Platte SD\\'\\'Port Stanley\\'\\'\\' Wrightwood CA\\'\\'\\' Wemme OR\\'\\'\\' Cam Ranh Bay\\'\\'Garoua\\'\\'\\' Aspermont TX\\'\\'Short Creek WV\\'\\'\\' Dong Hoi Gulf o...\\'\\'\\' Rio Moju PA\\'\\'Hopkinsville-For...\\'\\'Santa Maria AB ...\\'\\'\\' Lai Khe\\'\\'Funza\\'\\'\\' Esteng\\'\\'Suva\\'\\'\\' Oudega\\'\\'unknown location\\'\\'Matsuyama Airpor...\\'\\'\\' Dallgow\\'\\'Chicago-Merrill ...\\'\\'\\' New Bern Airport...\\'\\'Wadi Rabtah\\'\\'\\' Alma-Ata Airport...\\'\\'\\' Pinder Point\\'\\'\\' La Pedrera Airpo...\\'\\'Dau Tieng\\'\\'\\' Gulfport MS\\'\\'Harrisburg Airpo...\\'\\'Chachapoyas Airp...\\'\\'\\' Olacaputos SA\\'\\'AriÃ¨ge\\'\\'\\' Zafarabad\\'\\'\\' San Felipe Baja\\'\\'Cerro Las Animas\\'\\'Saigon Airport (...\\'\\'Tyumen Airport (...\\'\\'Yellahanka AFB\\'\\'Buny Buny\\'\\'Hilo Internation...\\'\\'\\' Duc Pho\\'\\'\\' Bimini Bahamas\\'\\'\\' Meligan Airstrip\\'\\'\\' Novosibirsk-Tolm...\\'\\'Java\\'\\'Norfolk Municipa...\\'\\'\\' Frankfurt-Main\\'\\'San Juan\\'\\'Hodeidah Airport...\\'\\'MÃ©rida Airport ...\\'\\'Lutong Airport\\'\\'San Antonio Inte...\\'\\'\\' Sepone\\'\\'LaYareta Pass\\'\\'Aleppo-Nejrab Ai...\\'\\'Amman\\'\\'\\' Saint Paul Islan...\\'\\'\\' Mexico City-Beni...\\'\\'Manado-Sam Ratul...\\'\\'Tay Ninh\\'\\'Binh Thuy Air Ba...\\'\\'Danmarkshavn\\'\\'Holmdel NJ\\'\\'Chaiten Airport ...\\'\\'\\' Mactan Island-Ch...\\'\\'\\' RÃ\\\\xado PautÃ©\\'\\'Caravelas BA\\'\\'\\' Marseilles OH\\'\\'Limbang Airport ...\\'\\'\\' Salekhard Airpor...\\'\\'Venezia\\'\\'\\' Urbana OH\\'\\'\\' Klamath Falls-Ki...\\'\\'Tachikawa\\'\\'\\' Phan Rang\\'\\'Col Visentin\\'\\'within Belize\\'\\'Rourkela Airport...\\'\\'\\' Yakutsk\\'\\'\\' \" Kayser\\'s Beach\"\\'\\' Cap Finisterre\\'\\'Bandar Abbas Air...\\'\\'\\' Subachoque\\'\\'\\' Bien Hoa Air Base\\'\\'Merced-Castle AF...\\'\\'\\' Hoi An\\'\\'\\' Lima\\'\\'\\' Ughelli Aerodrome\\'\\'\\' Moskva-Domodedov...\\'\\'\\' La Para CD\\'\\'\\' Seoul-Yeouido Ai...\\'\\'\\' Hail\\'\\'\\' Tamanrasset Airp...\\'\\'\\' Aguila AZ\\'\\'\\' Nizhniye Kresty ...\\'\\'Cam Ranh Bay\\'\\'Pico da Bandeira...\\'\\'Kham Duc Airstrip\\'\\'Bao Loc\\'\\'Zarand\\'\\'\\' Nicosia Airport ...\\'\\'Manston-Kent Int...\\'\\'Enugu\\'\\'\\' Nantucket Island...\\'\\'\\' Sogamoso Airport...\\'\\'\\' Malaybalay Airport\\'\\'\\' Trenton Canadian...\\'\\'Incahuara\\'\\'Vestmannaeyjar\\'\\'Huron-Howes Airp...\\'\\'\\' La Plata BA\\'\\'\\' Alexeyevka\\'\\'\\' Ventura CA\\'\\'\\' Cape Dyer Airpor...\\'\\'\\' Sontecomapan\\'\\'Newquay-St Mawga...\\'\\'\\' Ottawa Internati...\\'\\'Iligan Airport (...\\'\\'Pebbly Beach Av...\\'\\'\\' San Marcos\\'\\'Dar es Salaam In...\\'\\'\\' Samsun\\'\\'Stockport\\'\\'Blagoveshchensk ...\\'\\'Beirut ?\\'\\'Luxor Air Base\\'\\'Sirkin\\'\\'Jerusalem Airpor...\\'\\'West Raynham RAF...\\'\\'Jeddah\\'\\'Quang Ngai\\'\\'\\' Gazimurski Zavod\\'\\'Xaixai\\'\\'Atlin Provincial...\\'\\'Coari AM\\'\\'Habulaya\\'\\'\\' Ashbourne\\'\\'\\' Blossburg PA\\'\\'Warrensburg-Whit...\\'\\'\\' Khalif Nseir\\'\\'Rivera Airport (...\\'\\'Mazatlan\\'\\'Bhubaneswar Airp...\\'\\'\\' Mitino\\'\\'Aden Internation...\\'\\'Abingdon-RAF Sta...\\'\\'\\' Bacolod\\'\\'Casablanca-Anfa ...\\'\\'\\' Le Center MN\\'\\'\\' Ozyorski\\'\\'Lock Haven PA\\'\\'\\' Bellevue-Offutt ...\\'\\'Landsberg/Lech ?\\'\\'Hendersonville NC\\'\\'Antananarivo-Iva...\\'\\'\\' Gia Vuc\\'\\'Harrisburg-York ...\\'\\'Duc Pho Camp\\'\\'\\' Melun-SÃ©nart\\'\\'Havana\\'\\'Mactan Island-Ch...\\'\\'\\' San Luis Obispo CA\\'\\'Phu Cum\\'\\'Portsmouth Airpo...\\'\\'within Pleiku province\\'\\'Chynow\\'\\'\\' China South Chi...\\'\\'\\' Meschura Airport\\'\\'\\' An Thoi\\'\\'Prins Karls Forl...\\'\\'Mojave CA\\'\\'Port Harcourt Ai...\\'\\'Balboa-Howard AF...\\'\\'UrubupungÃ¡ Airp...\\'\\'\\' Kingston-Palisad...\\'\\'London-Luton Air...\\'\\'Tayibah\\'\\'Calgary AB\\'\\'Bristol Airport ...\\'\\'Palm Springs CA\\'\\'Jacksonville Bea...\\'\\'\\' Tiomar\\'\\'Goose Bay NL\\'\\'\\' Hue\\'\\'\\' Lagos\\'\\'\\' Hue-Phu Bai Airp...\\'\\'\\' Demre Turkey\\'\\'Khormaksar RAF S...\\'\\'Aldan Airport (ADH)\\'\\'\\' Palawan Island\\'\\'Khe Sanh\\'\\'Pampa del Gigant...\\'\\'between Phan Ran...\\'\\'\\' Muskegon MI\\'\\'\\' Curitiba-Afonso ...\\'\\'Blackdown Hill ...\\'\\'\\' Lhokkruet Indon...\\'\\'Cincinnati/North...\\'\\'Enugu Airport (ENU)\\'\\'Matamoros Tamau...\\'\"l\\'Ã©tang de Berre\"\\'Niokolo Koba Nat...\\'\\'Dak To Airfield\\'\\'Leipzig\\'\\'\\' Newquay UK\\'\\'\\' Covington-Greate...\\'\\'Candelaria\\'\\'Reyes Airport (REY)\\'\\'Long Binh Bien Hoa\\'\\'Nha Trang Airpor...\\'\\'Raleigh/Durham A...\\'\\'\\' Orlando-Herndon ...\\'\\'\\' Falmouth-Otis AF...\\'\\'Muong Soui\\'\\'Les Loges-en-Josas\\'\\'Cordillera Carpish\\'\\'\\' Ban Me Thot\\'\\'Akron/Canton Reg...\\'\\'\\' Binh Thuy Air Ba...\\'\\'Nakhon Phanom Ai...\\'\\'Mount Fairweathe...\\'\\'\\' Johor Baru\\'\\'Perryville Munic...\\'\\'Creag Bhan\\'\\'GÃ¶teborg-Torsla...\\'\\'\\' London-Luton Air...\\'\\'Chiang Mai Inter...\\'\\'\\' Dien Bien Phu\\'\\'\\' Liepaya Airport ...\\'\\'Voronezh Airport...\\'\\'Essequibo River\\'\\'Oxford-Universit...\\'\\'Rennes\\'\\'\\' Vologda\\'\\'Lake Memphramago...\\'\\'\\' Sankt Florian\\'\\'Copper Canyon NV\\'\\'Phou Louang Moun...\\'\\'Muong Yut\\'\\'Zifta\\'\\'Lagos\\'\\'Minot AFB ND (MIB)\\'\\'General Carneiro...\\'\\'Damnoen Saduak D...\\'\\'\\' Moroni Airport (...\\'\\'Yakutsk-Magan Ai...\\'\\'\\' Port Harcourt Ai...\\'\\'Williams Field\\'\\'\\' Phu Quoc Island ...\\'\\'Dhaka Glacier\\'\\'\\' GuajarÃ¡ Mirim GO\\'\\'Grik\\'\\'\\' Nekrasovka\\'\\'\\' Phan Rang Air Ba...\\'\\'\\' Taipei\\'\\'Muang Phine Laos\\'\\'Baghdad\\'\\'Donetsk Airport ...\\'\\'\\' Ban Napa\\'\\'\\' Statesville Muni...\\'\\'\\' Parchum Chunsky...\\'\\'Song Ba\\'\\'Hue-Phu Bai Airp...\\'\\'Santiago-Antonio...\\'\\'\\' Pointe-Ã\\\\xa0-Pitre\\'\\'Honolulu-Hickam ...\\'\\'Volgograd Airpor...\\'\\'\\' Ibajay\\'\\'Mount Getantag\\'\\'\\' Saint Denis\\'\\'Ben Het Special ...\\'\\'\\' Mueda Airport (MUD)\\'\\'Parkersburg-Wood...\\'\\'\\' Tacna\\'\\'Evansville IN\\'\\'Gia Nghia\\'\\'\\' Tuskar Rock\\'\\'\\' Waewaepa Range\\'\\'\\' Saint Louis-Lamb...\\'\\'\\' Rossfjordstraumen\\'\\'Panama City\\'\\'Duc Pho\\'\\'\\' Dao Phu Quoc Island\\'\\'Sangley Point NA...\\'\\'\\' Okinawa China Sea\\'Pune-Lohegaon Ai...\\'\\'\\' Coyhaique\\'\\'Wellington Inter...\\'\\'\\' Villa del Carbon\\'\\'Kaliningrad Airp...\\'\\'Ndola Airport (NLA)\\'\\'Moffett Field NA...\\'\\'\\' Bien Hoa\\'\\'\\' Panama City FL\\'\\'Trinidad Airport...\\'\\'Glenmanuilt Hill...\\'\\'\\' Windhoek-Strijdo...\\'\\'\\' Moskva-Domodedovo\\'\\'Szolnok Air Base\\'\\'Atlantic City In...\\'\\'\\' Islamabad-Chakla...\\'\\'Tumaco\\'\\'\\' Dawson TX\\'\\'Paisano Ranch TX\\'\\'Pleiku Airport (...\\'\\'Got el Afraq\\'\\'\\' Camp Evans\\'\\'Davao-Mati Airpo...\\'\\'LourenÃ§o Marque...\\'\\'\\' Saharanpur-Saras...\\'\\'Mizo Hills Mizo...\\'\\'Kham Duc\\'\\'Macuma\\'\\'\\' Maryinka Dankov...\\'\\'\\' Tenginskaya Ust...\\'\\'\\' Muang Nong\\'\\'\\' Bedford-Hanscom ...\\'\\'\\' Xom Rach Goc\\'\\'Na Khang Airstrip\\'\\'\\' Mumbai Airport (...\\'\\'\\' Slobodovka Shev...\\'\\'\\' Gdansk\\'\\'Novo-Zolotovski ...\\'\\'Bissau Airport (...\\'\\'Isla del FrontÃ³n\\'\\'Stradishall\\'\\'\\' Resolute Airport...\\'\\'\\' San SebastiÃ¡n-F...\\'\\'Brong Ahafo region\\'\\'within South Vietnam\\'\\'Uli Airstrip\\'\\'Fayetteville Mun...\\'\\'\\' Breusovka Polta...\\'\\'UherskÃ© Hradist...\\'\\'\\' Lagos-Murtala Mu...\\'\\'GravatÃ¡ PE\\'\\'Strait of Magellan\\'\\'\\' Sufi-Kurgan\\'\\'\\' Pleiku\\'\\'\\' Recife PE\\'\\'Cleveland-Burke ...\\'\\'Tuy Hoa Airport ...\\'\\'\\' Red Buff CA\\'\\'\\' Psebai\\'\\'Mirny Airport (MJZ)\\'\\'Shawnigan Lake BC\\'\\'\\' Langenbruck\\'\\'\\' Wilmington-Clint...\\'\"Kinshasa-N\\'Djili...\"\\'\\' MaturÃ\\\\xadn-Quiriqu...\\'\\'\\' Reyes Airport (REY)\\'\\'Thein Ngon\\'\\'Trabzon\\'\\'Phan Rang Air Ba...\\'\\'\\' Odda\\'\\'\\' Karnobat\\'\\'\\' BodÃ¸\\'\\'Bradore Bay QC\\'\\'\\' Golovin Airport ...\\'\\'\\' Nice France\\'\\'Vinh Long Air Base\\'\\'\\' Hollywood-Burban...\\'\\'Stalevo\\'\\'\\' Managua-Las Merc...\\'\\'Farnborough Airp...\\'\\'CamagÃ¼ey Airpor...\\'\\'\\' Seymchan Magada...\\'\\'\\' Twin Falls NL\\'\\'\\' Stockton CA\\'\\'U-Tapao Airport ...\\'\\'\\' Maryy-1 Airport ...\\'\\'Ham Tan\\'\\'\\' Paso Canoas Airport\\'\\'Canutama AM\\'\\'\\' Akhisar\\'\\'FeijÃ³ Airport ...\\'\\'\\' Taichung-Ching C...\\'\\'Tafelberg\\'\\'Big Salt Lake P...\\'\\'\\' Lebanon Airport ...\\'\\'Brownsville TX\\'\\'\\' Lensk\\'\\'\\' Mar Del Plata Ai...\\'\\'Zambales Mountai...\\'\\'San Borja\\'\\'Santa Barbara Mu...\\'\\'\\' Gunnison CO\\'\\'San Fransisco Ba...\\'\\'\\' Santa Ana-Orange...\\'\\'\\' Savannakhet Airp...\\'\\'Tonle Cham Airfield\\'\\'\\' Iliamna Airport ...\\'\\'Beijing\\'\\'RÃ¸ros Airport (...\\'\\'\\' SÃ¸nderborg\\'\\'The Pas MB\\'\\'Schaft Creek Air...\\'\\'\\' San Juan\\'\\'\\' Chu Lai Air Base\\'\\'Gran Tarajal/Fue...\\'\\'\\' Nairobi-Wilson A...\\'\\'\\' Bradford Airport...\\'\\'Prudhoe Bay AK\\'\\'Praia Ponta Gros...\\'\\'\\' Ensenada\\'\\'\\' Sioux City-Munic...\\'\\'\\' Hampton-Langley ...\\'\\'\\' Port Hedland WA\\'\\'\\' Ciudad Vitoria\\'\\'\\' San AndrÃ©s Isla...\\'\\'Mt. Paku\\'\\'\\' Malka Yelizovo ...\\'\\'Loanda PA\\'\\'\\' Los Angeles CA ...\\'\\'Milano-Linate\\'\\'Kozhikode-Calicu...\\'\\'Vung Tau (VTG)\\'\\'\\' Wroclaw-Strachow...\\'\\'Tonle Cham\\'\\'Reyes\\'\\'Titograd Airport...\\'\\'\\' Saravane\\'\\'Harlingen TX\\'\\'Mikaa Lake AB\\'\\'\\' Husum Schwesing ...\\'\\'\\' Erding Air Base\\'\\'Kaohsiung\\'\\'Jaipur-Sanganer ...\\'\\'\\' Lone Pine CA\\'\\'Hannover-Langenh...\\'\\'Phu Cat Air Base...\\'\\'Gaylord-Otsego C...\\'\\'Stonington Island\\'\\'Rubashovka Anna...\\'\\'Lemoore-NAS/Reev...\\'\\'\\' Hilo HI USA\\'\\'Taichung-Ching C...\\'\\'Cartagena-Crespo...\\'\\'\\' Cabra CÃ³rdoba\\'\\'\\' Uli Airstrip\\'\\'\\' Taiz\\'\\'Aswan Airport (ASW)\\'\\'New Orleans Inte...\\'\\'Fairford RAF Sta...\\'\\'Colchane\\'\\'\\' Jakharrad\\'\\'\\' Sagirdasht\\'\\'\\' Sergeyevka Pril...\\'\\'Kano\\'\\'\\' Nassau Internati...\\'\\'\\' Zawoja\\'\\'Hue-Citadel Airf...\\'\\'Shiraz\\'\\'Severny Starosh...\\'\\'Baden-Baden\\'\\'Dawushan\\'\\'San Antonio del ...\\'\\'Roscas\\'\\'\\' Chongjin\\'\\'Coventry-Baginto...\\'\\'River Congo\\'\\'\\' Corban\\'\\'\\' Abercorn QC\\'\\'\\' Otar Kurdai dis...\\'\\'\\' Khulna Airport (...\\'\\'Phan Thiet Airpo...\\'\\'\\' Takoradi Airport...\\'\\'\\' Enugu\\'\\'\\' Colina\\'\\'Loc Ninh\\'\\'Anchorage Intern...\\'\\'Gaithersburg-Mon...\\'\\'Evadale TX\\'\\'\\' Los Alamitos NAS...\\'\\'RÃ\\\\xado Cuarto CD\\'\\'Sebring FL\\'\\'Asuncion-Preside...\\'\\'Papeete-Faaa Air...\\'\\'Novotitarovka D...\\'\\'\\' Phu Bai\\'\\'Papeete\\'\\'Bahia de Todos L...\\'\\'\\' Lashio Airport (...\\'\\'\\' Alderney Channe...\\'\\'Flores Azores\\'\\'Benin City Airpo...\\'\\'Ubon Ratchathani...\\'\\'Katum\\'\\'St. Petersburg-C...\\'\\'\\' Pskov Airport (PKV)\\'\\'\\' Monterrey-Gen Ma...\\'\\'Pointe Noire\\'\\'\\' Shemya AK USA ...\\'\\'Eket\\'\\'China Lake NAF CA\\'\\'\\' Ubon RTAFB (UBP)\\'\\'Le Touquet Airpo...\\'\\'Pasco-Tri-Cities...\\'\\'\\' Katum\\'\\'\\' Poroslitsy villa...\\'\\'Moses Lake-Grant...\\'\\'Cisterna di Latina\\'\\'\\' Talas\\'\\'Las Palmas-Airpo...\\'\\'\\' AlborÃ¡n Island\\'\\'\\' Udokan range Al...\\'\\'\\' Monroe GA\\'\\'Islamabad\\'\\'Malcolm Island A...\\'\\'Ruddervoorde\\'\\'\\' Hetauda\\'\\'Nepalganj Airpor...\\'\\'Ilopango\\'\\'Caucaya Airstrip\\'\\'\\' Khor Ambadu\\'\\'ThÃ³rshÃ¶fn Airp...\\'\\'\\' Hassi Messaoud A...\\'\\'within Phuoc Tuy province\\'\\'Drahomysl\\'\\'Fort Worth TX\\'\\'Preobrazhenka D...\\'\\'\\' Auriflama SP\\'\\'Andes Mountains\\'\\'Tampa Internatio...\\'\\'\\' Zamboanga\\'\\'\\' Douala\\'\\'Calcutta Airport...\\'\\'Saint Thomas-Har...\\'\\'Valona\\'\\'El Wagah\\'\\'\\' Mostki Rogachov...\\'\\'Tuxtla GutiÃ©rre...\\'\\'Suere\\'\\'Lusaka Airport (...\\'\\'Santa BÃ¡rbara\\'\\'\\' Khovu-Aksy Airport\\'\\'\\' DueÃ±as\\'\\'\\' Egvekinot-Zaliv ...\\'\\'\\' PhÃº My\\'\\'Encampment A-A R...\\'\\'Korat AFB\\'\\'Caranavi\\'\\'Sagwon AK\\'\\'Tumaco-La Florid...\\'\\'\\' CaÃ±o La Raya\\'\\'Amderma Airport ...\\'\\'\\' Fairland IN\\'\\'\\' Plei Djereng\\'\\'Ogden-Hill AFB ...\\'\\'\\' Manila Internati...\\'\\'San Salvador/Ilo...\\'\\'Puelo Alto\\'\\'Sofia-Vrazhdebna...\\'\\'\\' Campbell River A...\\'\\'\\' Mexico City-Juar...\\'\\'\\' Tiksi Airport (IKS)\\'\\'Courtyard Farm\\'\\'Hue-Phu Bai Air ...\\'\\'\\' Pskov\\'\\'Tapini Airport (...\\'\\'\\' Chu Lai\\'\\'\\' Phu Cat Air Base...\\'\\'within Kien Giang Province\\'\\'\\' San Juan Caribb...\\'\\'\\' Nizhnevartovsk A...\\'\\'\\' PiendamÃ³ Cauca\\'\\'Stockton Airport...\\'\\'Golden Gate FL\\'\\'Seattle NAS WA\\'\\'Miyazaki Airport...\\'\\'Tel Aviv-Lod Int...\\'\\'Rural Retreat VA\\'\\'Rome\\'\\'Kazalinsk\\'\\'Stockholm-Arland...\\'\\'Grand Cayman Island\\'\\'Santiago Havana\\'\\'\\' Racine-Horlick A...\\'\\'\\' Sudan border\\'\\'Escravos\\'\\'\\' Wabush Airport ...\\'\\'between Sverdlov...\\'\\'Antofagasta\\'\\'\\' Amderma Airport ...\\'\\'\\' Valparaiso-Eglin...\\'\\'\\' Glenn Falls-Floy...\\'\\'Istanbul-AtatÃ¼r...\\'\\'\\' Lagos/Ikeja Inte...\\'\\'Wien-Schwechat A...\\'\\'Bolovip Airport ...\\'\\'\\' Ban Talan\\'\\'\\' Mukachevo\\'\\'\\' Santa Rosa Airpo...\\'\\'Oukaimeden mount...\\'\\'Havana-Jose Mart...\\'\\'Sydney-Kingsford...\\'\\'Base Marambio S...\\'\\'Puerto Montt-Tep...\\'\\'\\' Khatanga\\'\\'\\' Makhachkala\\'\\'Pyongyang\\'\\'\\' Gilleleje\\'\\'Corani\\'\\'Bu Dop Special F...\\'\\'Athens (ATH)\\'\\'Awaji island Hy...\\'\\'UberlÃ¢ndia-Edua...\\'\\'\\' Tainan Airport (...\\'\\'Inuvik Airport ...\\'\\'Luxembourg-Finde...\\'\\'San Andreas\\'\\'\\' Tien Phuoc\\'\\'\\' Bornholm Airport...\\'\\'within Quang Tin Province\\'\\'Lago Agrio Airpo...\\'\\'Namchang\\'\\'Salvador\\'\\'\\' Long Tieng Airstrip\\'\\'North Little Roc...\\'\\'\\' Stockholm-Arland...\\'\\'La Palma-Buena V...\\'\\'Jacksonville Int...\\'\\'Zaragoza Airport...\\'\\'David City\\'\\'Patna Airport (PAT)\\'\\'Harlingen-Valley...\\'\\'Kithairon Mountains\\'\\'\\' Apia-Faleolo Air...\\'\\'Chiang Klang\\'\\'Pozo ChuÃ±o Moun...\\'\\'Addis Ababa-Hail...\\'\\'ChambÃ©ry Airpor...\\'\\'Aspen Airport C...\\'\\'\\' \" Beit She\\'an\"\\'\\' Poza Rica-Tajin ...\\'\\'\\' Murmansk-Kilpyav...\\'\\'Luxor Airport (LXR)\\'\\'Cerro Vizcachuna\\'\\'\\' Tokmass\\'\\'Kergantic Ploemeur\\'\\'Vladeasa mountai...\\'\\'Loma Alta CH\\'\\'Porto Alegre Air...\\'\\'\\' Samarkand Airpor...\\'\\'\\' Palisade NE\\'\\'Santiago-Arturo ...\\'\\'SANAE Station\\'\\'\\' Waterford CT\\'\\'Laja Airport\\'\\'\\' Puerto Montt\\'\\'\\' Puerto LÃ³pez\\'\\'\\' Santo Domingo-La...\\'\\'Samsun Airport (...\\'\\'\\' WÃ¼renlingen\\'\\'\\' San Fansisco\\'\\'\\' Ust-Maya Airport\\'\\'Berezovo Airport...\\'\\'Jomsom Airport (...\\'\\'\\' Vancouver Intern...\\'\\'Ust-Kut Airport ...\\'\\'\\' St. Moritz-Samed...\\'\\'Berlin-SchÃ¶nefe...\\'\\'\\' Sasasama\\'\\'\\' Nikolayevo-Kozlo...\\'\\'Melcor Ocampo\\'\\'Ciudad AlemÃ¡n\\'\\'Lima Cuba\\'\\'Nang Keo Mountain\\'\\'That Son\\'\\'Cowie Bay\\'\\'\\' Toguchin Novosi...\\'\\'\\' Berrechid\\'\\'\\' Dak Seang\\'\\'\\' Zaporozhye Airpo...\\'\\'Wichita-McConnel...\\'\\'Rawalpindi\\'\\'Caribbean Sea\\'\\'Ahwaz Airport (AWZ)\\'\\'Weldon NC\\'\\'Kuban\\'\\'\\' Cabanatuan\\'\\'Indianapolis-Wei...\\'\\'\\' Bang Tang Lou\\'\\'Pellston MI\\'\\'within Rostov region\\'\\'Guyana Cuba\\'\\'\\' Rivolto Air Base\\'\\'\\' Kainantu\\'\\'Mikhailov distri...\\'\\'Havana Airport (...\\'\\'\\' St. Croix Virgi...\\'\\'\\' Hamilton AFB CA\\'\\'Barrow-Point Bar...\\'\\'Mogadishu Intern...\\'\\'East Java\\'\\'\\' Montreal-St. Hub...\\'\\'Iligan-Maria Cri...\\'\\'\\' Pellston-Emmet C...\\'\\'Oncativo CO\\'\\'\\' Guran Tulun dis...\\'\\'Edwards AFB CA ...\\'\\'Guyana Curacao\\'\\'\\' Chisinau Airport...\\'\\'Pleiku Air Base ...\\'\\'\\' Prudhoe Bay AK\\'\\'\\' Isla San Lucas\\'\\'\\' Tegucigalpa-Tonc...\\'\\'\\' Atlanta-DeKalb P...\\'\\'\\' Daboase\\'\\'\\' Tripoli Internat...\\'\\'\\' Roxas\\'\\'Cuenca Airport (...\\'\\'Benson-RAF Stati...\\'\\'Manado-Samratula...\\'\\'Samarkand Airpor...\\'\\'\\' Da Nang Vietnam...\\'\\'NÃ¼rnberg\\'\\'Tra Bong\\'\\'\\' La Rioja LR\\'\\'\\' Huaricanga\\'\\'\\' San Juan-Isla Ve...\\'\"Val-d\\'Or Airport...\"\\'Dak Pek Special ...\\'\\'Bolshaya Indra L...\\'\\'Dumaguete Airpor...\\'\\'Potomac River WA\\'\\'Sierra del Montseny\\'\\'McGrath Airport ...\\'\\'\\' Albertacce\\'\\'\\' Toronto Internat...\\'\\'Damascus\\'\\'Mbuji-Mayi Airpo...\\'\\'Espiritu\\'\\'Columbia Airport...\\'\\'Gerona Airport (...\\'\\'Bogatyye Saby di...\\'\\'Tarragona\\'\\'Edinburgh-Turnho...\\'\\'Busira River\\'\\'Long Tieng Airstrip\\'\\'Abidjan\\'\\'\\' AukÅ¡telkai\\'\\'Diamond Lake OR\\'\\'CÃ³rdoba-Pajas B...\\'\\'Santa Ana-El Tor...\\'\\'\\' Piggott AR\\'\\'East Berlin\\'\\'Acapulco-Alvarez...\\'\\'\\' Cuzco Airport (CUZ)\\'\\'\\' Cam Ranh Airport\\'\\'Kirovograd\\'\\'Opa-locka Airpor...\\'\\'\\' Dubois WY\\'\\'Hamamatsu AFB\\'\\'Bornholm\\'\\'\\' Homestead AFB F...\\'\\'Namangan Region\\'\\'Cruzeiro do Sul AC\\'\\'Yuzhno-Sakhalins...\\'\\'Bahia de Tortugas\\'\\'Pavlof Volcano AK\\'\\'\\' Silchar-Kumbhirg...\\'\\'Haringvreter\\'\\'Dubrovnik Airpor...\\'\\'\\' Perivlepto\\'\\'\\' Dnepropetrovsk\\'\\'\\' Huambo\\'\\'Finningley RAF S...\\'\\'\\' Dzharkishlak\\'\\'Orocovis\\'\\'Zerqa RAF Statio...\\'\\'\\' Bulbukhta\\'\\'Myggenaes Island...\\'\\'\\' Izhevsk\\'\\'Mys Kamenny Airp...\\'\\'\\' Silver Plume CO\\'\\'\\' Germiston\\'\\'Newcastle Airpor...\\'\\'Aranjuez\\'\\'\\' Chernivtsi\\'\\'Rhinelander-Onei...\\'\\'Trabzon Airport ...\\'\\'Simferopol Airpo...\\'\\'Leshukonskoye Ai...\\'\\'Marietta-Dobbins...\\'\\'San Andres Cuba\\'\\'\\' Bettles AK\\'\\'Sinop\\'\\'Pointe-Ã\\\\xa0-Pitre-...\\'\\'Serra Norte PA\\'\\'\\' Ivanovo-Severny ...\\'\\'Sawai\\'\\'Qui-Nhon\\'\\'Tijuana Cuba\\'\\'Kerkyra Airport ...\\'\\'Paraparaumu Airp...\\'\\'La Crosse Munici...\\'\\'Doha Baghdad\\'\\'Jacksonville Ha...\\'\\'Palanga Airport ...\\'\\'\\' Huntington WV\\'\\'Guiyang\\'\\'Lexington KY\\'\\'Christiansted Ha...\\'\\'La Antigua\\'\\'\\' Tulkarm\\'\\'KÃ¶nigsdorf Bayern\\'\\'\\' Nha Trang Airpor...\\'\\'\\' Cam Ranh\\'\\'\\' Tambov\\'\\'\\' Dhaka-Tejgaon Ai...\\'\\'\\' Turrialba Volcano\\'\\'\\' Constanta-Kogaln...\\'\\'Brno\\'\\'Texel\\'\\'Sarmiento\\'\\'Dugny-Le Bourget...\\'\\'\\' Tuy Hoa AB Phu Yen\\'\\'\\' Boise ID\\'\\'Richmond BC\\'\\'\\' Algiers Algeria\\'\\'\\' Leningrad-Pulkov...\\'\\'\\' Shamshernagar Ai...\\'\\'Sugluk QC\\'\\'Lusaka\\'\\'\\' Patna\\'\\'Edison NJ\\'\\'Killeen TX\\'\\'Dalat\\'\\'\\' Ploemeur\\'\\'Bedford-Thurleig...\\'\\'\\' Palca\\'\\'\\' MÃ©zilhac\\'\\'Lake Champlain NY\\'\\'\\' Rostov\\'\\'\\' Floridablanca\\'\\'\\' Surgut Airport (...\\'\\'Accra-Kotoka Air...\\'\\'Phnom Penh-Poche...\\'\\'Benghazi\\'\\'\\' Sokcho\\'\\'Paramo Los Conejos\\'\\'Cabo Rojo Airpor...\\'\\'Kirovsk Airport ...\\'\\'Nondalton Airpor...\\'\\'\\' Phan Rang (PHA)\\'\\'\\' Shawnee OK\\'\\'Phnom Penh\\'\\'McMurdo-Williams...\\'\\'Gulfport Municip...\\'\\'Cunatincuta Moun...\\'\\'Barrancabermeja-...\\'\\'Houston TX\\'\\'TucumÃ¡n Airport...\\'\\'\\' Fort-Archambault...\\'\\'Santiago\\'\\'Lubbock Airport ...\\'\\'Istres\\'\\'\\' Hashimara\\'\\'Red Devil Airpor...\\'\\'Guangzhou\\'\\'Ontario Internat...\\'\\'\\' Voroshilovgrad A...\\'\\'Jos Airport (JOS)\\'\\'Beef Island Airp...\\'\\'Nairobi Internat...\\'\\'within Bulgaria\\'\\'\\' Las Lajas\\'\\'\\' Tedzhen\\'\\'\\' Floridablanca Ai...\\'\\'\\' Butte MT\\'\\'\\' Napier-Hawkes Ba...\\'\\'\\' Gagetown CFB Sta...\\'\\'\\' Coolidge AZ\\'\\'Mae Hong Son Air...\\'\\'Maracaibo-La Chi...\\'\\'\\' Guatemala City-L...\\'\\'Somerset Island NU\\'\\'Buhl ID\\'\\'MalmÃ¶\\'\\'Rijeka Airport (...\\'\\'\\' Kirov\\'\\'\\' Braganza\\'\\'Batagay Airport\\'\\'\\' Santiago-Los Cer...\\'\"Devil\\'s Peak\"\\'Nassau\\'\\'\\' Malakhovo\\'\\'Bogodorsk Island...\\'\\'\\' Bouam Long\\'\\'Centenera\\'\\'Preveza-Aktion A...\\'\\'\\' Duarte CA\\'\\'Riverside-March ...\\'\\'\\' New Haven Airpor...\\'\\'\\' Putre\\'\\'Winston-Salem Ai...\\'\\'McKenzie Lake ON\\'\\'Shelter Cove CA\\'\\'Ban Honeisai\\'\\'Yokotsu Mt\\'\\'Boca Raton FL\\'\\'\\' Pochop\\'\\'Windsor Locks CT\\'\\'Kamennaya Sarma ...\\'\\'\\' Jeddah\\'\\'\\' Bamako Airport (...\\'\\'Lipetsk Airport ...\\'\\'\\' Pau\\'\\'\\' Shizukuishi\\'\\'Compton CA\\'\\'Villa Reynolds A...\\'\\'\\' Hengchun\\'\\'Lago Bracciano (RM)\\'\\'\\' Ahmednagar\\'\\'Kampot Airport (...\\'\\'Fairview Park OH\\'\\'Pine Point NWT\\'\\'\\' Esigna Corsica\\'\\'Townsville RAAF ...\\'\\'\\' Basse-Terre\\'\\'\\' Philadelphia Int...\\'\\'Cerro de Hojas\\'\\'\\' Ã\\\\x96ndÃ¶rkhaan\\'\\'\\' Belleville-Scott...\\'\\'Rajince Presevo\\'\\'\\' Kiev-Borispol Ai...\\'\\'Sarasota Airport...\\'\\'\\' Suez Canal\\'\\'\\' Tokko\\'\\'\\' Deer Lake Airpor...\\'\\'\\' Sena Madureira AC\\'\\'\\' Sint Maarten Ne...\\'\\'\\' Aarsele\\'\\'Amman-Marka Inte...\\'\\'\\' South Caicos\\'\\'\\' Tyubelyaha\\'\\'Athens\\'\\'San Vicente del ...\\'\\'Mt Santa Elena\\'\\'Epernay\\'\\'\\' Great Inagua\\'\\'\\' Peoria-Greater P...\\'\"Nice-CÃ´te d\\'Azu...\"\\'\\' Allentown Airpor...\\'\\'Ida MI\\'\\'\\' Maracaibo-La Chi...\\'\\'Cape Perry NT\\'\\'Nevado de Santa ...\\'\\'\\' Pisa-San Giusto ...\\'\\'\\' Padang\\'\\'Nakhon Pathom/Ka...\\'\\'\\' Vinnitsa Airport...\\'\\'Jacksonville-Lit...\\'\\'\\' Kerch Airport (KHC)\\'\\'within Cambodia\\'\\'Bucharest-Otopen...\\'\\'Hualien Air Base...\\'\\'\\' Penghu Island\\'\\'\\' Yerevan\\'\\'Kota Kinabalu Ai...\\'\\'\\' Aloja Airstrip\\'\\'D-59 Station\\'\\'Islamabad-Chakla...\\'\\'\\' Lannion-Servel A...\\'\\'Kapoeta\\'\\'\\' Melitopol\\'\\'\\' Damanka\\'\\'\\' Cumbum\\'\\'within Tashkent Region\\'\\'\\' Iranian border\\'\\'\\' Cubi Point NAS ...\\'\\'Farikha Airstrip\\'\\'Urumqi Airport (...\\'\\'Trieste-Ronchi d...\\'\\'Machuka\\'\\'Trivandrum Airpo...\\'\\'Cerro Huayca\\'\\'\\' Culebra Airport ...\\'\\'Ban Boum\\'\\'Dajabon\\'\\'\\' Damascus Airport\\'\\'Puerto Inca\\'\\'Clermont-Ferrand...\\'\\'Khanty-Mansisk\\'\\'Baranikha\\'\\'\\' Baikit\\'\\'Central Dominica...\\'\\'Kingman Airport ...\\'\\'Norman Wells Air...\\'\\'\\' Chetumal\\'\\'Jeddah Internati...\\'\\'\\' Ibiza Airport (IBZ)\\'\\'Lake City FL\\'\\'\\' Patuxent River-N...\\'\\'\\' Victoria County-...\\'\\'\\' Adana Airport (ADA)\\'\\'\\' Betania\\'\\'\\' Khost Airport (KHT)\\'\\'\\' CeskÃ© Kamenice\\'\\'Poughkeepsie-Dut...\\'\\'Maun Airport (MUB)\\'\\'Usisya\\'\\'\\' Phnom Penh-Poche...\\'\\'Bournemouth Inte...\\'\\'Fairbanks Intern...\\'\\'\\' Tegal\\'\\'Karlovy Vary Air...\\'\\'SalvaciÃ³n mine ...\\'\\'Jahran area\\'\\'Pha Khao\\'\\'\\' Valledupar Airpo...\\'\\'\\' Long Tieng\\'\\'between Savannak...\\'\\'\\' Jacksonville-Lit...\\'\\'\\' Lipetsk Airport ...\\'\\'Munich\\'\\'Lake Charles AFB...\\'\\'\\' Kalba\\'\\'Sangay Volcano\\'\\'\\' Linkou\\'\\'Omsk Airport (OMS)\\'\\'\\' Aden Internation...\\'\\'Sterlitamak\\'\\'Voroshilovgrad\\'\\'\\' Tchepone\\'\\'Yogyakarta\\'\\'\\' San Fernando\\'\\'Siena/Ampugnano ...\\'\\'Madang Airport (...\\'\\'Yukagir Village ...\\'\\'Da Nang Air Base\\'\\'HumaitÃ¡ AM\\'\\'\\' La Crosse Munici...\\'\\'La Paz ?\\'\\'\\' Ardinello di Ama...\\'\\'Vyyezdnoye Arza...\\'\\'\\' Moyobamba\\'\\'El Desengano\\'\\'\\' An Loc\\'\\'Sofia\\'\\'\\' Bratsk Airport (...\\'\\'Poltava Region\\'\\'\\' Ciudad BolÃ\\\\xadvar\\'\\'Argyz district ...\\'\\'El Obeid Airport...\\'\\'Okeechobee FL\\'\\'Svetlogorsk\\'\\'\\' Kontum Airport (...\\'\\'Fort Lauderdale ...\\'\\'\\' Lobito Airport\\'\\'Blantyre-Chileka...\\'\\'\\' Montego Bay\\'\\'PanevÃ©zys\\'\\'\\' California\\'\\'Helgoland Airpor...\\'\\'\\' Cruzeiro do Sul AC\\'\\'Fort Worth-Great...\\'\\'\\' Jebel Musa\\'\\'DYE 3 Airstrip\\'\\'\\' Magong AFB (MZG)\\'\\'Weiden\\'\\'\\' Windsor ON\\'\\'\\' Santiago-Pudahue...\\'\\'\\' Compostela\\'\\'BauÃ©\\'\\'\\' Rechka\\'\\'\\' Staines\\'\\'\\' A Shau Valley\\'\\'Ponce-Mercedita ...\\'\\'Irish Sea\\'\\'\\' Shiringa\\'\\'\\' Kzyl-Orda\\'\\'\\' Appleton WI\\'\\'Astrakhanka dist...\\'\\'\\' Hao Island Airpo...\\'\\'South Weymouth N...\\'\\'Kulusuk Airport ...\\'\\'Buffalo-Greater ...\\'\\'\\' Arinaga Las Pal...\\'\\'Kompong Som Airp...\\'\\'Wales Airport A...\\'\\'Murmansk Airport...\\'\\'Belgaum-Sambre A...\\'\\'Tabuk Airport (TUU)\\'\\'Okha\\'\\'Oklahoma City-Wi...\\'\\'Abidjan-Felix Ho...\\'\\'Lake Jackson TX\\'\\'Socorro NM\\'\\'\\' Nahanni Butte NWT\\'\\'Wapenamanda Airp...\\'\\'\\' San AndrÃ©s\\'\\'\\' Yenotayevka\\'\\'\\' Santiago\\'\\'Pivijay\\'\\'\\' Tha Tam Bleung\\'\\'San Pedro Richar...\\'\\'Kanoya\\'\\'Wenatchee-Pangbo...\\'\\'\\' Ust-Kuyga\\'\\'\\' Las Palomas\\'\\'Ambari Falakata ...\\'\\'Austin-Robert Mu...\\'\\'Point Mugu CA\\'\\'\\' Swartkop AFB\\'\\'\\' Aldan Airport (ADH)\\'\\'Bandar-e-Ganave\\'\\'\\' Soc Trang (SOA)\\'\\'KÃ¶nigs Wusterha...\\'\\'\\' Monte Carlo\\'\\'\\' Thandwe Airport ...\\'\\'\\' Rabat\\'\\'Sumbawa Besar\\'\\'Port Clinton OH\\'\\'Sittwe-Civil Air...\\'\\'\\' Canaima Airport ...\\'\\'\\' Vang Vieng\\'\\'Kudjero Gap\\'\\'\\' Innsbruck-Kraneb...\\'\\'\\' Perevitsy\\'\\'\\' Suntar\\'\\'\\' Magnitogorsk Air...\\'\\'Mount Giluwe\\'\\'Cape Newenham Ai...\\'\\'\\' Gondar\\'\\'Velikaya Vulyga\\'\\'Clarendon\\'\\'TromsÃ¸/Langnes ...\\'\\'Panchkhal\\'\\'Semipalatinsk re...\\'\\'\\' Johannesburg Air...\\'\\'\\' Ben Cat\\'\\'Great Whale Rive...\\'\\'Cherski\\'\\'\\' El Tiburcio\\'\\'\\' Athens-Ellinikon...\\'\\'Krasnoyarsk Seve...\\'\\'Tula Airport (TYA)\\'\\'\\' Lenakel Airfield...\\'\\'\\' NoirÃ©table\\'\\'Col du DevÃ¨s R...\\'\\'\\' Poggiorsini\\'\\'Romorantin\\'\\'\\' Kursk-Vostochny ...\\'\\'\\' Cruncha\\'\\'\\' Paksong\\'\\'Dinard-Pleurtuit...\\'\\'Segundo Corral A...\\'\\'\\' St. Johns NL C...\\'\\'Beograd Airport ...\\'\\'\\' Nakhon Phanom Ai...\\'\\'Bislig Airport (...\\'\\'\\' Norman Wells NT\\'\\'\\' Tuy Hoa Airport ...\\'\\'Yerbogachon Irk...\\'\\'Beni Suef\\'\\'\\' Conway SC\\'\\'Galapa\\'\\'\\' Lac Randall QC\\'\\'\\' Jalkot\\'\\'Findlay OH\\'\\'Montreal\\'\\'Arica-Chacalluta...\\'\\'Lac Randall QC\\'\\'\\' Sint Maarten\\'\\'Tonquil Island\\'\\'Saranac Lake NY\\'\\'\\' Watsa\\'\\'\\' Edmonton Interna...\\'\\'Baltimore/Washin...\\'\\'\\' Guiyang\\'\\'Pontianak-Supadi...\\'\\'\\' Glasgow\\'\\'\\' Petukhovo Bolsh...\\'\\'\\' Pontianak Airpor...\\'\\'Sachs Harbour Ai...\\'\\'South Pole Station\\'\\'Rondonopolis Air...\\'\\'\\' PudasjÃ¤rvi\\'\\'\\' Saravan\\'\\'\\' Provideniya Airp...\\'\\'\\' Thakhet East\\'\\'\\' Iqaluit Airport ...\\'\\'\\' \" Isma\\'iliya\"\\'Cerro Horqueta\\'\\'\\' Barrancabermeja ...\\'\\'Seddon\\'\\'Manaus Air Base ...\\'\\'\\' Ura-Tube\\'\\'\\' Nabire\\'\\'Semipalatinsk Ai...\\'\\'\\' Szczecin-GoleniÃ...\\'\\'\\' San RamÃ³n\\'\\'\\' Vietnam coast\\'\\'San Salvador Air...\\'\\'Ushuaia TF\\'\\'\\' La Plance  ...\\'\\'\\' Funchal Airport ...\\'\\'\\' Serov\\'\\'Blaine MN\\'\\'\\' Ban Hong Sa\\'\\'\\' Smolensk\\'\\'Columbus-Lockbou...\\'\\'Silk Hope NC\\'\\'\\' Kondinskoye\\'\\'\\' Brunswick-NAS M...\\'\\'\\' Hyderabad-Begump...\\'\\'\\' Buon Me Thuot (B...\\'\\'Cerro Picon\\'\\'\\' Ozyornaya\\'\\'Champaign-Willar...\\'\\'Cuito Canaval\\'\\'\\' Basel/Mulhouse A...\\'\\'\\' Mountain View-Mo...\\'\\'\\' Moffett Field NA...\\'\\'Montrose County ...\\'\\'\\' Andreyevka\\'\\'ChiriguanÃ¡ Cesar\\'\\'Mosul Airport (OSM)\\'\\'Bamyan Airport (...\\'\\'Djibouti Airport...\\'\\'\\' Boca Chica\\'\\'Leticia Airport ...\\'\\'within South Yemen\\'\\'Hyderabad-Begump...\\'\\'Mueda Airport (MUD)\\'\\'Bhavnagar Airpor...\\'\\'\\' Queen Elizabeth ...\\'\\'\\' Union Springs AL\\'\\'\\' Chub Cay Airport...\\'\\'\\' Ellington AFB TX\\'\\'\\' Semipalatinsk\\'\\'\\' Kursk\\'\\'Salvador-Dois de...\\'\\'\\' Svay Rieng Airpo...\\'\\'Starobeshevo Dis...\\'\\'Southern Siberia\\'\\'Lyallpur\\'\\'\\' Rimouski Airport...\\'\\'\\' Delhi-Indira Gan...\\'\\'SÃ£o LuÃ\\\\xadz-Marec...\\'\\'Goussainville\\'\\'\\' Casey Airport QC\\'\\'\\' Villavicencio-La...\\'\\'Bihar\\'\\'Colonia Airport ...\\'\\'Wilhelmshaven-Ma...\\'\\'Bangor Internati...\\'\\'\\' Puerto Vallarta ...\\'\\'\\' Abakan\\'\\'\\' Iloilo\\'\\'\\' Shakhtersk\\'\\'Toto\\'\\'Gorna Oryakhovitsa\\'\\'Mbeya Airport (MBI)\\'\\'\\' Phu Quoc\\'\\'Beluga Airport ...\\'\\'Cerro MajÃ©\\'\\'Eureka NV\\'\\'\\' Tambillo\\'\\'Tofamanir\\'\\'Saatli district\\'\\'\\' Papeete-Faaa Air...\\'\\'Vignale\\'\\'\\' Yukon OK\\'\\'\\' Acapulco Interna...\\'\\'Shakhty\\'\\'\\' Chumikan\\'\\'Tamarac FL\\'\\'\\' Washington DC\\'\\'Strasbourg-Entzh...\\'\\'\\' La CoruÃ±a Airpo...\\'\\'\\' Eureka NU\\'\\'Dondon\\'\\'\\' Wassenaar\\'\\'Kotui River\\'\\'\\' Baku-Bina Intern...\\'\\'Barquisimeto Air...\\'\\'\\' El Yopal\\'\\'\\' Chalus\\'\\'\\' Hueva Guadalajara\\'\\'\\' Nerkha Nizhneud...\\'\\'\\' Kyzyl\\'\\'Auvers\\'\\'\\' Las Palmas\\'\\'Pecos City Airpo...\\'\\'\\' Bangkok\\'\\'Daet Airport (DTE)\\'\\'\\' Cold Bay AK\\'\\'Tomsk-Bogashevo ...\\'\\'Colerne RAF Station\\'\\'\\' Titograd\\'\\'Samarkand region\\'\\'within Hovd Province\\'\\'Gary Regional Ai...\\'\\'Lincoln NE\\'\\'Black Fork Mount...\\'\\'Itaituba Airport...\\'\\'Itaituba PA\\'\\'Mt. Khuuta Aksa...\\'\\'Tashauz Airport ...\\'\\'\\' Goris\\'\\'\\' Acapulco-Alvarez...\\'\\'Lukla Airport (LUA)\\'\\'Sugar Loaf Mount...\\'\\'Pnom Penh-Pochen...\\'\\'\\' MazatlÃ¡n-Gen. R...\\'\\'Kazan Airport\\'\\'Yacuiba Airport ...\\'\\'Brno-Turany Airp...\\'\\'\\' Nyrob\\'\\'\\' Cartagena Colom...\\'\\'Kolpashevo\\'\\'Mount Gimie\\'\\'Caracas\\'\\'\\' QuilpÃ©\\'\\'Villavicencio-La...\\'\\'\\' Socorro NM\\'\\'\\' Bu Prang Camp\\'\\'\\' Craon\\'\\'\\' Chania-SoÃºda Ai...\\'\\'\\' Quang Ngai\\'\\'SÃ³lheimasandur\\'\\'Porto Marghera\\'\\'Dubai Airport (DXB)\\'\\'Little Rissingto...\\'\\'Chattanooga Muni...\\'\\'Sadow\\'\\'\\' VeszprÃ©m-Szentk...\\'\\'Kurupung\\'\\'\\' Phnom Penh Airpo...\\'\\'Tawi Atair\\'\\'Santa Ana\\'\\'Moskva-Domodedov...\\'\\'\\' Norwich Airport ...\\'\\'Taiz-Al Janad Ai...\\'\\'Phnom Penh Airpo...\\'\\'\\' Karacharovo\\'\\'\\' AysÃ©n\\'\\'\\' Sanatorny\\'\\'Talara\\'\\'Yerevan-Erebuni ...\\'\\'Horn Island Airp...\\'\\'\\' Tangier-Boukhale...\\'\\'\\' Vinniki\\'\\'\\' Khantaiskoye Ozero\\'\\'Cartagena Airpor...\\'\\'\\' West Palm Beach FL\\'\\'\\' Durban-Louis Bot...\\'\\'Dole\\'\\'Dalat/Cam-Ly\\'\\'\\' Tombouctou\\'\\'Balashov\\'\\'\\' Torino Airport (...\\'\\'Midland TX\\'\\'Johnstown-Cambri...\\'\\'Mukachevo\\'\\'Unduavi\\'\\'\\' Vitebsk Airport ...\\'\\'Chennai Airport ...\\'\\'Vila Cabral Airp...\\'\\'\\' Florencia\\'\\'\\' Placida FL\\'\\'\\' Pompano Beach FL\\'\\'Taipingshan Dist...\\'\\'\\' ChigorodÃ³\\'\\'\\' ChaitÃ©n\\'\\'Yegorlykskaya di...\\'\\'\\' Sarakawa\\'\\'\\' Rostov Airport (...\\'\\'Izmir-Cumaovasi ...\\'\\'Carp Airport ON...\\'\\'\\' Pago Pago Intern...\\'\\'\\' Colorado-Springs...\\'\\'Hue Airport (HUI)\\'\\'\\' San Francisco de...\\'\\'\\' Marmato\\'\\'Newton Fiord NU\\'\\'Montalvo\\'\"Bois d\\'Ermenonville\"\\'Normandia\\'\\'Lake Placid FL\\'\\'\\' Borrego Springs CA\\'\\'\\' Fort Nelson BC\\'\\'\\' Prince Rupert-Se...\\'\\'Gemena Airport (...\\'\\'Okinawa-Naha Air...\\'\\'\\' Bishop Airport ...\\'\\'\\' Kirov Airport (KVX)\\'\\'Bastia-Poretta A...\\'\\'Fairfield-Travis...\\'\\'AsunciÃ³n Intern...\\'\\'Sarasota-Bradent...\\'\\'Brunswick-Malcol...\\'\\'Elim AK\\'\\'\\' Francistown Airp...\\'\\'Ust-Kuyga Airpor...\\'\\'Kazan Airport (KZN)\\'\\'\\' Kutaisi\\'\\'\\' Guam-Andersen AF...\\'\\'Svay Rieng Airpo...\\'\\'\\' Denpasar\\'\\'Sala Phou Koun\\'\\'Galveston-Schole...\\'\\'Bassein Airport ...\\'\\'Polar Station SP-22\\'\\'\\' Banos\\'\\'Pingtung Air Bas...\\'\\'Ivano-Frankovsk ...\\'\\'\\' Tay Ninh\\'\\'within Crimea\\'\\'Anchorage-Campbe...\\'\\'\\' Baudette MN\\'\\'\\' Springfield IL\\'\\'\\' Kiev-Zhulhyany A...\\'\\'within Sulawesi\\'\\'Kompong Cham Air...\\'\\'Rankin Inlet NU\\'\\'Bathurst-Raglan ...\\'\\'\\' CÃºcuta-Camilo D...\\'\\'Brussel-Zaventem...\\'\\'\\' Winslow AZ\\'\\'\\' Kline SC\\'\\'\\' Safford AZ\\'\\'\\' Battambang Airpo...\\'\\'\\' Demidovo\\'\\'\\' Usinsk Airport\\'\\'\\' Sinitsyno Atkar...\\'\\'\\' Point Hope Airpo...\\'\\'Battambang Airpo...\\'\\'Nagoya\\'\\'\\' Nicosia\\'\\'\\' HÃ©ric\\'\\'El Libano\\'\\'Cali Airport (CLO)\\'\\'\\' Moc Hoa\\'\\'Pitelino Rjazan...\\'\\'\\' Kamloops BC\\'\\'\\' Bagotville QC\\'\\'Mota Airport (OTA)\\'\\'Quimper Airport ...\\'\\'\\' Mariquita Airpor...\\'\\'\\' Dimas\\'\\'Linoghin\\'\\'\\' Porlamar Airport...\\'\\'\\' Kisangani\\'\\'Andryushkino\\'\\'\\' Valence-Chabeuil...\\'\\'Galbraith Lake A...\\'\\'Redlo\\'\\'\\' Briggsdale CO\\'\\'Norfolk Regional...\\'\\'\\' Petreto-Bicchisa...\\'\\'Bandar Lampung-B...\\'\\'\\' Cephalonia Greece\\'\\'\\' Puerto Montt-Tep...\\'\\'Recife Internati...\\'\\'\\' Charlotte-Dougla...\\'\\'\\' Ponta PorÃ£ Inte...\\'\\'\\' Cabo de Palos\\'\\'Lago XolotlÃ¡n\\'\\'Clinton Municipa...\\'\\'Saharood\\'\\'Lupine Airstrip AK\\'\\'\\' Saint Thomas\\'\\'\\' Guatemala City\\'\\'Krakor Airport (...\\'\\'NykÃ¶ping Airpor...\\'\\'Cutral CÃ³ NE\\'\\'Svay Rieng province\\'\\'\\' Clark Air Base ...\\'\\'\\' Vientiane\\'\\'\\' Yeniseysk Airpor...\\'\\'\\' Rio de Janeiro-A...\\'\\'\\' Calapan Airport ...\\'\\'Topraisar\\'\\'Bias Fortes MG\\'\\'\\' \" Old Man\\'s Camp AK\"\\'\\' Rea Point Airfie...\\'\\'Port Gentil Airp...\\'\\'\\' Surgut\\'\\'Chita Airport (HTA)\\'\\'Aleandrovskoye\\'\\'\\' Sorato Mt.\\'\\'TomÃ©-AÃ§u PA\\'\\'Funchal Airport ...\\'\\'Soddu Airport (SXU)\\'\\'\\' Kermanshah Airpo...\\'\\'Dubai Tripoli ...\\'\\'\\' Beograd Airport ...\\'\\'\\' Cerro de la Muerte\\'\\'Saskatoon Airpor...\\'\\'Upperville VA\\'\\'Stony Point NY\\'\\'Maskeliya\\'\\'Kiev region\\'\\'\\' Jeddah Internati...\\'\\'Prudhoe Bay/Dead...\\'\\'Takeo\\'\\'Song Be\\'\\'\\' Maturin\\'\\'\\' Baturino Asinov...\\'\\'Bannak\\'\\'Lome Airport (LFW)\\'\\'\\' Lancaster-Fairfi...\\'\\'Tikal-El PetÃ©n ...\\'\\'\\' Sibiu Airport (SBZ)\\'\\'Rio Cuarto CD\\'\\'Tucson-Davis Mon...\\'\\'New Orleans NAS/...\\'\\'Pensacola Region...\\'\\'\\' Nha Trang\\'\\'\\' La Angostura TU\\'\\'\\' San Borja\\'\\'\\' El Doncello\\'\\'\\' Newport News VA\\'\\'Whittier CA\\'\\'Boende Airport (...\\'\\'Akrotiri RAF Sta...\\'\\'Washington DC\\'\\'La Grande Airpor...\\'\\'\\' Budapest-Feriheg...\\'\\'\\' Sam Neua Airport...\\'\\'Dolo\\'\\'\\' Addison Airport ...\\'\\'Faroe Islands-Va...\\'\\'Zaporozhye Airpo...\\'\\'\\' Istanbul-YesilkÃ...\\'\\'Santo Domingo-La...\\'\\'Houston-Intercon...\\'\\'Taipei-Songshan ...\\'\\'Egg Harbor NJ\\'\\'\\' AgadÃ¨s Airport ...\\'\\'\\' Rangoon\\'\\'\\' Wikieup AZ\\'\\'South Lake Tahoe...\\'\\'\\' Fairbanks Intern...\\'\\'Tikal-El Peten A...\\'\\'SaarbrÃ¼cken Air...\\'\\'Rushinga Forward...\\'\\'\\' Pontiac MI\\'\\'Provincetown Air...\\'\\'Madrid (unknown ...\\'\\'Knezevac\\'\\'Hyannis Airport ...\\'\\'Dallas-Hensley F...\\'\\'Peixe GO\\'\\'Rajkot-Civil Air...\\'\\'\\' Pleiku City\\'\\'\\' AcarÃ¡\\'\\'Tullahoma TN\\'\\'Lalibela Airport...\\'\\'Dinder National ...\\'\\'Cerdas\\'\\'Dubois-Jefferson...\\'\\'Kalengwa\\'\\'\\' Florida\\'\\'Casper Airport ...\\'\\'Veracruz-Las Baj...\\'\\'CuliacÃ¡n Sinaloa\\'\\'Bien Hoa\\'\\'Bergamo-Orio Al ...\\'\\'Tokyo\\'\\'\\' Southern Pines-P...\\'\\'\\' Sofia\\'\\'Minieta Szlacheckie\\'\\'Fort Simpson Air...\\'\\'Cerro Sayari\\'\\'Tin City Airport...\\'\\'\\' Poltava Airport ...\\'\\'\\' Hilton Head Airp...\\'\\'Yallahanpur\\'\\'Than Son Nhut\\'\\'\\' Sardinata\\'\\'\\' Cape Paterson VIC\\'\\'\\' Mesa AZ\\'\\'King and Queen C...\\'\\'Rio de Janeiro-J...\\'\\'Mestia\\'\\'Anchorage-Lake H...\\'\\'\\' Rockwood TN\\'\\'Guadeloupe\\'\\'San Borja Airpor...\\'\\'Riberalta\\'\\'\\' Watertown Airpor...\\'\\'\\' Markovo\\'\\'La Libertad\\'\\'Kaufering\\'\\'Emden Airport (EME)\\'\\'\\' Karaganda\\'\\'\\' Saravena\\'\\'Williams Lake BC\\'\\'Atlantic Ocean o...\\'\\'Nantes ChÃ¢teau-...\\'\\'Richmond Municip...\\'\\'Dallas-Addison A...\\'\\'\\' Batumi-Chorokh A...\\'\\'\\' KÃºty\\'\\'Arauca Airport (...\\'\\'Duke of York Bay...\\'\\'Mircea Voda\\'\\'\\' Termez\\'\\'Lake Mistassini QC\\'\\'\\' Imlay City MI\\'\\'Sierra Nevada de...\\'\\'\\' Punta Amapala\\'\\'\\' Amskroud\\'\\'Belize City\\'\\'Kasangulu\\'\\'Porvenir Island\\'\\'\\' Bagdarin\\'\\'St. Yan\\'\\'Naoro Airport (NOO)\\'\\'\\' Krasnovodsk Airp...\\'\\'Bossaso Airport ...\\'\\'\\' Damascus Interna...\\'\\'Jackowo\\'\\'Mtwara Airport (...\\'\\'Novosibirsk-Tolm...\\'\\'\\' Gambell Airport ...\\'\\'Leipzig Airport ...\\'\\'Auburn Municipal...\\'\\'Baucau Airport (...\\'\\'Gonaives\\'\\'Wakeman OH\\'\\'\\' Mota\\'\\'\\' Itaparica BA\\'\\'San Jose Municip...\\'\\'\\' Ritoque\\'\\'\\' Turukhansk (UOTT)\\'\\'\\' Palembang Airpor...\\'\\'La Grande-LG-2 a...\\'\\'Fort Severn Airp...\\'\\'\\' Tancos Air Base\\'\\'Mikonos\\'\\'Providence-Theod...\\'\\'Kluatantan regio...\\'\\'Rafaela Aerodrom...\\'\\'Sawu Island\\'\\'Cherry Point MCA...\\'\\'Inishmore Airpor...\\'\\'\\' Novgorod Airport...\\'\\'Mazatlan Airport...\\'\\'\\' Nizhneangarsk\\'\\'\\' Concordia Airpor...\\'\\'\\' Gali\\'\\'\\' El Caoba\\'\\'Dunsfold Airport...\\'\\'\\' El Arish\\'\\'Igloolik Airport...\\'\\'Du Motu\\'\\'\\' Serafimovich\\'\\'Fergana Airport ...\\'\\'Tacloban (TAC)\\'\\'\\' Slave Lake Airpo...\\'\\'Kufrah Airport (...\\'\\'Meck Island\\'\\'Mielec\\'\\'Wenatchee WA\\'\\'\\' Al Qaysumah\\'\\'\\' Anchorage Intern...\\'\\'Kimba Ngorongoro\\'\\'Mactan Island\\'\\'Kuala Lumpur Sub...\\'\\'\\' San Borja-Capita...\\'\\'\\' Loja\\'\\'within Azerbaijan\\'\\'\\' Changsha-Huanghu...\\'\\'Rambouillet\\'\\'ChapecÃ³ Airport...\\'\\'Palu Airport (PLW)\\'\\'\\' Cozumel Airport ...\\'\\'\\' Frunze Airport (...\\'\\'Santa Marta\\'\\'\\' Bari-Palese Airp...\\'\\'\\' Cabanillas\\'\\'\\' Los Angeles-Van ...\\'\\'Bacau Airport (BCM)\\'\\'Faya Airport (FYT)\\'\\'Managua-Las Merc...\\'\\'within Southeastern Bol...\\'\\'\\' Verkhnyaya Khava\\'\\'Udrivik Lake AK\\'\\'Gago Coutinho\\'\\'\\' Havana-JosÃ© Mar...\\'\\'\\' Ashgabat Airport...\\'\\'\\' Puerto Asis\\'\\'Ketchikan Intern...\\'\\'Brighton FL\\'\\'\\' Cobadin\\'\\'\\' Kazachinsk\\'\\'\\' Cutral-CÃ³  NE\\'\\'\\' Tula\\'\\'Massawa Airport ...\\'\\'Upolu Point HI\\'\\'Djanet-Inedbiren...\\'\\'Rubelsanto Airpo...\\'\\'\\' Monze\\'\\'Camuigan\\'\\'Lynn Lake MB\\'\\'\\' Chernigov\\'\\'\\' Alaverdi\\'\\'Nassau Internati...\\'\\'Asbestos Hill Ai...\\'\\'Charmanli\\'\\'Zamboanga Airpor...\\'\\'\\' Khandyga-Teply K...\\'\\'MacÃ\\\\xadas Nguema B...\\'\\'\\' Osokorka\\'\\'Kama River\\'\\'\\' Kota Kinabalu Ai...\\'\\'between Pauana a...\\'\\'\\' Nizhneangarsk Ai...\\'\\'Engels district ...\\'\\'Kazan\\'\\'Amangeldy Komso...\\'\\'\\' Mexico City\\'\\'within Valikhanovskiy d...\\'\\'\\' Daiku\\'\\'Sivash Lagoon\\'\\'Tashkent-Yuzhny ...\\'\\'\\' Barnaul\\'\\'\\' Chita Airport (HTA)\\'\\'\\' Dutch Harbor AK\\'\\'Nym Lake ON\\'\\'\\' Astrakhan\\'\\'CovilhÃ£ Airport...\\'\\'\\' \" Sokol\\'skoye\"\\'\\' Popovka\\'\\'Avalon Airport ...\\'\\'\\' Chilpancingo\\'\\'Vejer de la Fron...\\'\\'Guryev Airport (...\\'\\'\\' Uelen Chukotka\\'\\'Chimborazo Volcano\\'\\'Mexico City-Juar...\\'\\'\\' Bar Harbor Airpo...\\'\\'Ile Ã\\\\xa0 la Crosse...\\'\\'\\' Beryozovo\\'\\'\\' Shanisu River\\'\\'Ho Chi Minh City...\\'\\'Peterborough\\'\\'Kangerlussuaq-SÃ...\\'\\'LÃ©on Airport (BJX)\\'\\'Abitibi Canyon n...\\'\\'Larnaca Airport ...\\'\\'Praslin Island\\'\\'Ajaccio-Campo de...\\'\\'\\' Brockett BC\\'\\'La Piragua\\'\\'\\' Pontevedra\\'\\'\\' Anapa Black Sea\\'\\' Vrbovec\\'\\'Montreal Gander...\\'\\'Livingston Island\\'\\'\\' Aruba\\'\\'Bhopal Airport (...\\'\\'\\' Isparta\\'\\'\\' Mosher Creek BC\\'\\'Sakon Nakhon Air...\\'\\'\\' Alpena MI\\'\\'\\' SÃ£o Paulo-Virac...\\'\\'Hot Springs-Inga...\\'\\'Novosibirsk\\'\\'Madrid-Cuatro Vi...\\'\\'\\' Khoito-Gol Kyre...\\'\\'\\' Bridgetown Inter...\\'\\'\\' Santa Cruz-El Tr...\\'\\'\\' San Luis Potosi\\'\\'\\' El Yopal Airport...\\'\\'\\' Petrolina Intern...\\'\\'Radum\\'\\'RychnÃ³w\\'\\'\\' Banjarmasin-Sjam...\\'\\'between CuraÃ§ao...\\'\\'Naples Airport ...\\'\\'Villa de Casas ...\\'\\'\\' Das Island\\'\\'SchwabmÃ¼nchen\\'\\'\\' Kozani-Philippos...\\'\\'\\' Tumkur\\'\\'\\' Klushino Solnec...\\'\\'\\' Victoria\\'\\'\\' Laayoune-Hassan ...\\'\\'\\' Armavir Air Base\\'\\'Yosemite Nationa...\\'\\'Chisasibi Airpor...\\'\\'Wildwood-Cape Ma...\\'\\'Oborso\\'\\'Juan de Fuca BC\\'\\'\\' Kazakovskoye\\'\\'\\' Ust-Kut Airport\\'\\'\\' Shiraz Airport (...\\'\\'\\' Seshcha\\'\\'\\' Bangkok-Don Muan...\\'\\'San RamÃ³n Airpo...\\'\\'Sinaloa de Leyva\\'\\'\\' Trujillo Airport...\\'\\'Mara\\'\\'Kiev-Borispol Ai...\\'\\'Praha-Ruzyne Air...\\'\\'La Senda\\'\\'\\' Flint-Bishop Air...\\'\\'\\' Chiredzi-Buffalo...\\'\\'\\' Puerto CortÃ©s\\'\\'Samarinda Airpor...\\'\\'Sturgate Lincol...\\'\\'\\' Terrace Airport ...\\'\\'SÃ¼tÃ§Ã¼ler\\'\\'\\' Sarajevo Airport...\\'\\'La China\\'\\'\\' Chiva\\'\\'El Peru\\'\\'Krestsy Novgoro...\\'\\'Gomez Nunatak\\'\\'\\' Lagura\\'\\'Tanjung Santan A...\\'\\'Ujung Pandang-Ha...\\'\\'Huinca Renanco CD\\'\\'Izmir-Cigli Air ...\\'\\'Sumbawa Besar-Br...\\'\\'\\' Poznan\\'\\'Camanaos\\'\\'Truckee Airport ...\\'\\'Hill Bank\\'\\'\\' Salluit Airport ...\\'\\'Shenyang Airport...\\'\\'AmatlÃ¡n de Jora\\'\\'Monroe Station FL\\'\\'Fuenterrabia\\'\\'Hakodate\\'\\'\\' LaBelle FL\\'\\'\\' Forish\\'\\'Perth Airport W...\\'\\'St. Thomas\\'\\'Bainaha Valley\\'\\'\\' Zhdanov Airport ...\\'\\'\\' Sanga-Sanga\\'\\'CFB Summerside ...\\'\\'Libreville Airpo...\\'\\'New Hope GA\\'\\'\\' Penek Chulymsky...\\'\\'Edavlli Prakasa...\\'\\'Hyannis MA\\'\\'Saliente del Rio...\\'\\'Wunnummin Lake A...\\'\\'Tenerife Magdalena\\'\\'Tainan Airport (...\\'\\'\\' Ruddock LA\\'\\'Moe\\'\\'\\' Sabana Larga\\'\\'KrakÃ³w Internat...\\'\\'Sokoto Airport (...\\'\\'Wheeling-Palwauk...\\'\\'McLean VA\\'\\'Riyadh Internati...\\'\\'Marysville-Beale...\\'\\'Navegantes Airpo...\\'\\'\\' Tavda\\'\\'\\' Ayanka Airstrip\\'\\'Ardmore Airport ...\\'\\'Drietabbetje\\'\\'Pickle Lake Airp...\\'\\'\\' Curitiba PR\\'\\'Greenville-Major...\\'\\'Aramoun\\'\\'\\' Lusaka Airport (...\\'\\'Lone Pine CA\\'\\'Wewak-Boram Airp...\\'\\'Korinth\\'\\'Genoa-Cristoforo...\\'\\'\\' Mapai\\'\\'Tucson Internati...\\'\\'Kuwait\\'\"Seshcha-Br\\'ansk AFB\"\\'\\' Founkoueye\\'\\'\\' Bukhara\\'\\'Vero Beach FL\\'\\'Kabri Dar Airpor...\\'\\'\\' Newton GA\\'\\'Izhevsk Airport ...\\'\\'Distribuidor La ...\\'\\'\\' Condoto Airport ...\\'\\'Zagreb Airport (...\\'\\'Belgrade\\'\\'\\' Salto Airport (STY)\\'\\'\\' Wake Island Airp...\\'\\'Mendoza\\'\\'Nucet\\'\\'within Lam Luk Ka District\\'\\'Doha Airport (DOH)\\'\\'\\' Bocas del Toro ...\\'\\'Put-in-Bay Airpo...\\'\\'\\' Natal Airport R...\\'\\'Lima Airport (LIM)\\'\\'\\' Nedakonice\\'\\'La Parra de Jerez\\'\\'Helsinki\\'\\'\\' Cuangar\\'\\'\\' Mactan Island\\'\\'\\' Sheridan WY\\'\\'\\' MitÃº Airport (MVP)\\'\\'Alamedin\\'\\'Tubo Milkie\\'\\'\\' Vitim Airport\\'\\'Oshawa Municipal...\\'\\'\\' Kungrad\\'\\'Ruby Airport AK...\\'\\'\\' Abidjan-Felix Ho...\\'\\'\\' Yoro Airport (ORO)\\'\\'Bourgas Airport ...\\'\\'Ban Maetab Mountain\\'\\'\\' Barysh Airstrip\\'\\'Lake Balaton\\'\\'\\' El Bolson RN\\'\"Sana\\'a Internati...\"\\'Jigiga Airport (...\\'\\'Pawhuska Municip...\\'\\'Daliao Township ...\\'\\'\\' San JosÃ©-Juan S...\\'\\'Salt Lake City UT\\'\\'\\' Goyave\\'\\'\\' Kona-Keahole Air...\\'\\'\\' Omolon Bilibino...\\'\\'\\' Bratsk\\'\\'Jurbarkas\\'\\'\\' Otrado-Olginski\\'\\'\\' Waglan Island\\'\\'\\' Cerro Moreno\\'\\'\\' Cuenca\\'\\'Surabaja\\'\\'Mt Iliamna AK\\'\\'Mt. Loi Hsam Hsao\\'\\'\\' San Pedro Coahuila\\'\\'\\' Yakutat Airport ...\\'\\'Narsarsuaq\\'\\'\\' Urziceni\\'\\'\\' Lhokseumawe\\'\\'\\' Bawean Island J...\\'\\'\\' Kuala Lumpur Sub...\\'\\'Auburn AL\\'\\'Samarkand Region\\'\\'\\' Thompson MB\\'\\'Flores-Santa Ele...\\'\\'Lanseria Airport...\\'\\'Tadjoura Airport...\\'\\'\\' Valparaiso-Porte...\\'\\'\\' Gillsburg MS\\'\\'\\' Manidar\\'\\'\\' Cape Chelyuskin\\'\\'\\' Barra del Parismina\\'\\'\\' San CristÃ³bal d...\\'\\'\\' Jorhat-Rowriah A...\\'\\'Lake Pontchartra...\\'\\'Georgetown-Ogle ...\\'\\'\\' Cosme Sud CD\\'\\'Hay River Airpor...\\'\\'BogotÃ¡ ?\\'\\'Llanos del Yari\\'\\'within Tete province\\'\\'Chuya Irkutsk r...\\'\\'Saturna Island BC\\'\\'\\' Tanjong Kupang\\'\\'\\' Tarko-Sale Airpo...\\'\\'Oujda Airport (OUD)\\'\\'\\' Churchill Falls ...\\'\\'El Hierro Canar...\\'\\'Lake City Munici...\\'\\'Bucaramanga-Palo...\\'\\'\\' Kaysville UT\\'\\'\\' Podkopayevo\\'\\'\\' Vieques\\'\\'\\' Nanisivik Airpor...\\'\\'\\' Ekimchan\\'\\'Kenora Airport ...\\'\\'Toksook Bay AK\\'\\'within South Carolina\\'\\'Lugansk Airport ...\\'\\'\\' RÃ\\\\xado Grande Muni...\\'\\'Key Largo-Port L...\\'\\'\\' Kisangani Airpor...\\'\\'CiÃ©naga Grande ...\\'\\'Pueblo Memorial ...\\'\\'\\' Toksook Bay AK\\'\\'San Ramon Airpor...\\'\\'\\' San Vicente Airp...\\'\\'Tibesti\\'\\'Kinston New Bern\\'\\'\\' Faya-Largeau\\'\\'Eirunepe Airport...\\'\\'\\' Krasnoye\\'\\'Tamanrasset-Ague...\\'\\'\\' Richland Airport...\\'\\'\\' Artigas Airport ...\\'\\'Cranbrook Airpor...\\'\\'Clermont-Ferrand\\'\\'Laguna de Brus\\'\\'Serrania Los Cob...\\'\\'\\' Palermo-Punta Ra...\\'\\'Garaina Airport ...\\'\\'Rebiechowo\\'\\'Santiago De Comp...\\'\\'\\' Punta Mulatos\\'\\'\\' Petrozavodsk Air...\\'\\'Hong Kong\\'\\'Memphis Denver\\'\\'Don Nok AFB\\'\\'\\' Gabare\\'\\'Rio Branco AC\\'\\'Elma IA\\'\\'\\' Grand Turk\\'\\'Hollywood-Burban...\\'\\'CienÃ©ga UnguÃ\\\\xada\\'\\'Richmond New York\\'\\'Bethel AK\\'\\'Muryuk\\'\\'Charleroi-Gossel...\\'\\'KÃ¶ln/Bonn Airpo...\\'\\'Rukuhot\\'\\'San Jose CA\\'\\'\\' Fort Irwin-Bicyc...\\'\\'UrimÃ¡n\\'\\'North Caicos Air...\\'\\'\\' RzeszÃ³w\\'\\'KorpijÃ¤rvi Lake\\'\\'Nordholz Naval A...\\'\\'Flatwoods LA\\'\\'\\' Durbin FL\\'\\'\\' Ufa\\'\\'Ashgabat\\'\\'\\' Karnaukhovskiy\\'\\'Del Rio TX\\'\\'Shippingport PA\\'\\'Kingston-Up Park...\\'\\'Prague\\'\\'Takaoka\\'\\'\\' Memphis Internat...\\'\\'Badkhalsa\\'\\'\\' Maksatiha Tver ...\\'\\'Snow Lake MB\\'\\'within Beni Department\\'\\'\\' Kladkovo Yegory...\\'\\'\\' Winnipeg MB\\'\\'Gryzy\\'\\'\\' Pastavy\\'\\'\\' Santo Tomas\\'\\'Roxas City Airpo...\\'\\'Monrovia-Sprigg ...\\'\\'\\' Greybull WY\\'\\'\\' Muscle Shoals Ai...\\'\\'Toronto-Pearson ...\\'\\'Serra de Santa B...\\'\\'Wielbark\\'\\'Nairobi-Jomo Ken...\\'\\'Pichincha Mountains\\'\\'Candor NC\\'\\'Cerro Kennedy\\'\\'Ioannina Airport...\\'\\'\\' Hastings FL\\'\\'Lago PetÃ©n ItzÃ¡\\'\\'\\' Opa-locka Airpor...\\'\\'\\' Kotzebue AK\\'\\'Nyeri Hills\\'\\'Kalamazoo MI\\'\\'Flores\\'\\'Chub Cay Airport...\\'\\'Lydd Internation...\\'\\'Tota Boyaca\\'\\'\\' Nukus\\'\\'\\' Simara Island\\'\\'Frobisher Bay Ai...\\'\\'\\' Papun Airport (PPU)\\'\\'\\' Fanja\\'\\'Constanta-Kogaln...\\'\\'Vancouver-Coal H...\\'\\'Whamira Hills\\'\\'\\' Conakry\\'\\'Clewiston FL\\'\\'\\' Farmerville LA\\'\\'Conway AR\\'\\'\\' Yablunivka Pril...\\'\\'Barrio Santos S...\\'\\'Somie\\'\\'\\' Ireland Irish Sea\\'Komakuk NU\\'\\'Tehran/Doshan Ta...\\'\\'\\' Poland ME\\'\\'\\' Novoaleksandrovsk\\'\\'Houston-Hobby Ai...\\'\\'\\' Karima\\'\\'\\' San Diego Intern...\\'\\'\\' Ulan-Bator\\'\\'Oulu Airport (OUL)\\'\\'\\' Fort Walton Beac...\\'\\'Tbilisi Airport ...\\'\\'\\' Sagaing\\'\\'\\' Kuopio Airport (...\\'\\'Santo Antonio do...\\'\\'Denpasar Bali-Ng...\\'\\'\\' Santiago de Chile\\'\\'\\' Luzon\\'\\'\\' Barrow-Point Bar...\\'\\'\\' Mary\\'\\'Riohacha-Almiran...\\'\\'Lancaster-Willia...\\'\\'\\' Lanovtsy\\'\\'Valledupar\\'\\'\\' Alief TX\\'\\'\\' Nizhnevartovsk\\'\\'\\' Vickery OH\\'\\'Madrid Lisbon\\'\\'\\' Bellona Island\\'\\'\\' Emelyanovka Gul...\\'\\'Degahbur Airport...\\'\\'BocaiÃºva MG\\'\\'\\' Alexandria Egypt\\'\\'\\' Sakon Nakhon Air...\\'\\'Makhachkala Airp...\\'\\'Camarones\\'\\'Mareb Airport (MYN)\\'\\'\\' Colombo-Bandaran...\\'\\'\\' Lusaka\\'\\'\\' Arad Airport (ARW)\\'\\'\\' Punta Fija\\'\\'\\' Marie Galante-Le...\\'\\'Port Kaituma Air...\\'\\'\\' Leh Airport (IXL)\\'\\'\\' Rubio\\'\\'Madison-Dane Cou...\\'\\'Kendall-Tamiami ...\\'\\'\\' Cottageville SC\\'\\'Jocoli MD\\'\\'Des Moines IA\\'\\'\\' Steamboat Spring...\\'\\'\\' Lorida FL\\'\\'\\' Omaha-Eppley Air...\\'\\'Sierra Cucuy\\'\\'Cherskiy Airport...\\'\\'\\' Port Mayaca FL\\'\\'Battle Creek FL\\'\\'Bembridge Airpor...\\'\\'Cesar Department\\'\\'Cleveland-Hopkin...\\'\\'Minneapolis-St. ...\\'\\'Varanasi\\'\\'Marion IL\\'\\'\\' Turks & Caicos\\'\\'\\' Portland Interna...\\'\\'\\' Budyonnovsk Ros...\\'\\'Molodezhnaya\\'\\'Inigok Airport AK\\'\\'Southbay FL\\'\\'Juist Airport (JUI)\\'\\'Catalina Island-...\\'\\'Cherbourg-Mauper...\\'\\'ItacajÃ¡ TO\\'\\'\\' Belgorod Airport...\\'\\'\\' BÃ©char-Leger Ai...\\'\\'Taos Airport NM...\\'\\'\\' Rodez Airport (RDZ)\\'\\'\\' Haikota\\'\\'\\' Isfahan\\'\\'Trebinje\\'\\'Bauru SP\\'\\'Miami-Dade Colli...\\'\\'Clarksburg-Bened...\\'\\'\\' Kariba\\'\\'Yarra Creek Kin...\\'\\'Taoyuan\\'\\'\\' Auckland Interna...\\'\\'Saint Lucia-Hewa...\\'\\'\\' Asmara\\'\\'\\' Moanda\\'\\'\\' Probolinggo\\'\\'\\' Los Angeles Inte...\\'\\'\\' Chongyang\\'\\'\\' FlorianÃ³polis A...\\'\\'\\' Bridgetown Barb...\\'\\'Chardzhou Airpor...\\'\\'Luanda-4 de Feve...\\'\\'\\' Baykit (BKT)\\'\\'\\' Quebec Airport ...\\'\\'Nkayi Airport (NKY)\\'\\'Jalapa\\'\\'\\' Saginaw MI\\'\\'\\' Belle Glade FL\\'\\'Songo Airport\\'\\'Chiguayante\\'\\'Iquique-Cavancha...\\'\\'\\' Tampico Airport ...\\'\\'Pastaza Province\\'\\'within Irian Jaya\\'\\'\\' Guantanamo Cuba...\\'\\'within eastern\\'\\'Erdenet Airport ...\\'\\'Adler/Sochi Airp...\\'\\'\\' Svidovets\\'\\'Mesa-Falcon Fiel...\\'\\'SÃ£o TomÃ© Islan...\\'\\'Aberdeen\\'\\'Ufa Airport (UFA)\\'\\'Cardiff-Wales Ai...\\'\\'Bullen Point Air...\\'\\'\\' Fort Lauderdale ...\\'\\'\\' Rockland-Knox Co...\\'\\'Lubumbashi-Luano...\\'\\'Thompson Airport...\\'\\'Dybowo-Olecko\\'\\'\\' Leh\\'\\'\\' Elk City ID\\'\\'Fort Lauderdale-...\\'\\'\\' Aldeia IndÃ\\\\xadgena...\\'\\'Petropavlovsk-Ka...\\'\\'\\' Hyannis-Barnstab...\\'\\'\\' Shiraz\\'\\'Chicago New Yor...\\'\\'RiviÃ¨re-du-Loup...\\'\\'\\' Daggett-Barstow-...\\'\\'San JosÃ©-Juan S...\\'\\'\\' Alverca\\'\\'Kamenz\\'\\'Krasnaya Polyana\\'\\'Drzenin\\'\\'\\' Aruba Caribbean...\\'\\'Casa Grande AZ\\'\\'Mount Sibayak\\'\\'\\' Bua\\'\\'\\' Cela\\'\\'Moosonee Airport...\\'\\'\\' Kingston-Norman ...\\'\\'Omaha-Eppley Air...\\'\\'\\' Superior MT\\'\\'within West Irian\\'\\'\\' \" Matthew\\'s Ridge ...\"\\'Brunswick-Glynco...\\'\\'Saint Croix-Alex...\\'\\'Daneborg\\'\\'Sumburgh Airport...\\'\\'\\' Leningrad-Rzhevk...\\'\\'\\' Panvel\\'\\'Cerro Tupungato\\'\\'Fuerteventura L...\\'\\'\\' Gaborone\\'\\'\\' Katab\\'\\'\\' Kurilovka\\'\\'San Francisco P...\\'\\'Larnaca\\'\\'Daxue Mountain\\'\\'\\' Kirsanov\\'\\'Fort de France-L...\\'\\'Pilot Point Airp...\\'\\'Ban Mai\\'\\'Squaw Lake QC\\'\\'Rome Tehran\\'\\'Orchid Island Ai...\\'\\'\\' Taipei-Chiang Ka...\\'\\'\\' South Caicos Int...\\'\\'Hattiesburg-Bobb...\\'\\'\\' Sarroch\\'\\'\\' Boston MA\\'\\'Charleston AFB ...\\'\\'Blink Horn Point...\\'\\'\\' Malyushin Airfield\\'\\'Barentu\\'\\'\\' Nantes\\'\\'\\' San Andros\\'\\'Porpoise Bay BC\\'\\'Royan Charente-...\\'\\'Carmelita Airpor...\\'\\'Iturup Island\\'\\'Campina\\'\\'Kirkwall Airport...\\'\\'Lensk\\'\\'\\' San Ysidro CA\\'\\'Tijuana\\'\\'\\' \\'\\'\\'Bettles Airport ...\\'\\'\\' Cozumel Air Base...\\'\\'\\' Tikhoretsk\\'\\'Big Trout Lake ON\\'\\'Huabango\\'\\'Tau Airport (TAV)\\'\\'\\' Kadugli Airport\\'\\'\\' Churchill-Metrop...\\'\\'\\' Cascavel Airport...\\'\\'\\' Washington-Dulle...\\'\\'Grand Canyon-Nat...\\'\\'Vologda Airport ...\\'\\'Savar\\'\\'\\' McCormick SC\\'\\'\\' Denver-Arapahoe ...\\'\\'LojaLoja Airport...\\'\\'\\' Puerto Williams ...\\'\\'Tokyo-Narita Air...\\'\\'\\' Freeport-Grand B...\\'\\'\\' Taif\\'\\'Takla Narrows BC\\'\\'Dublin-Baldonnel...\\'\\'Mount Erebus\\'\\'Unalaska Airport...\\'\\'\\' Nome AK\\'\\'\\' Forli Airport (FRL)\\'\\'Oaxaca\\'\\'\\' Apolo Airport (APB)\\'\\'Machiques\\'\\'Cerro Toledo\\'\\'\\' Oroque\\'\\'\\' Puerto Esperanza\\'\\'Manari Airport (...\\'\\'\\' Kabul\\'\\'Grande-RiviÃ¨re-...\\'\\'Palmyra Island ...\\'\\'Camiare\\'\\'Banjarmasin-Sjam...\\'\\'Palermo-Punta Ra...\\'\\'Zomba Air Base\\'\\'\\' Sri Racha\\'\\'Santa Ana-Yacuma...\\'\\'\\' Bogor\\'\\'\\' Mandalay Airport...\\'\\'Toul-RosiÃ¨res A...\\'\\'Alameda-NAS CA ...\\'\\'San Salvador\\'\\'Baracoa Airport ...\\'\\'\\' NgaoundÃ©rÃ© Air...\\'\\'Plattsburgh AFB ...\\'\\'Port-au-Prince\\'\\'Billerica MA\\'\\'Agra-Kheria Air ...\\'\\'Banjarmasin\\'\\'\\' Poptun\\'\\'Orenburg Airport...\\'\\'\\' Port-au-Prince A...\\'\\'\\' Adana-Incirlik A...\\'\\'Baton Rouge-Ryan...\\'\\'\\' Addis Ababa-Bole...\\'\\'\\' Changsha Airport...\\'\\'\\' Sebha Airport (SEB)\\'\\'within Namibia\\'\\'\\' Parker CO\\'\\'CuiabÃ¡-Marechal...\\'\\'Conakry Airport ...\\'\\'Arsenyev-Varfolo...\\'\\'Balikpapan-Sepin...\\'\\'Dallas Havana\\'\\'\\' Athol-Silverwood...\\'\\'\\' Conlon TX\\'\\'\\' FlorianÃ³polis-H...\\'\\'Pago Pago\\'\\'\\' Dania FL\\'\\'Posht-i-Badam\\'\\'Esperanzo Forest\\'\\'RÃ\\\\xado Beni\\'\\'Richmond Interna...\\'\\'\\' La Macarena Meta\\'\\'Douala Airport (...\\'\\'\\' Esperance Airpor...\\'\\'\\' Varadero\\'\\'Miami Seaplane B...\\'\\'Bonanza-San Pedr...\\'\\'\\' Sarasota FL US...\\'\\'FÃ¼rstenfeldbruck\\'\\'Carling Lake ON\\'\\'Utila\\'\\'Gierioz\\'\\'\\' Yacuiba\\'\\'Allentown Intern...\\'\\'\\' Matala\\'\\'Brno-Cernovice\\'\\'\\' Valley NE\\'\\'\\' Dushanbe\\'\\'Khost Airport (KHT)\\'\\'Yuma Internation...\\'\\'Chiang Rai Airpo...\\'\\'\\' Columbus Municip...\\'\\'\\' Ustica Italy T...\\'\\'\\' \" Isola d\\'Elba\"\\'\\' Prachuap Khiri K...\\'\\'\\' Tepic Airport (TPQ)\\'\\'Galway-Carnmore ...\\'\\'North Sinai\\'\\'Port-au-Prince A...\\'\\'Loja Airport (LOH)\\'\\'Ottery St. Mary\\'\\'Arkhangelsk-Tala...\\'\\'Camaguey\\'\\'within Pastaza province\\'\\'Kuwait Manama ...\\'\\'Trujillo Airport...\\'\\'Ramona Airport CA\\'\\'Tel Aviv-Ben Gur...\\'\\'Krosinko\\'\\'New Smyrna Beach...\\'\\'\\' Togiak AK\\'\\'Nouadhibou Airpo...\\'\\'\\' Palma de Mallorc...\\'\\'Guwahati\\'\\'Otay CA\\'\\'Vijayawada Airpo...\\'\\'Lima-Callao Inte...\\'\\'AsunciÃ³n\\'\\'24 Mayo Airstrip...\\'\\'Saint-Vincent-de...\\'\\'Barbers Point NA...\\'\\'Tampa Havana\\'\\'Sacramento Metro...\\'\\'\\' Puerto BerrÃ\\\\xado\\'\\'\\' Iquitos\\'\\'\\' West End Settlement\\'\\'\\' Madinah-Mohammad...\\'\\'Kindu Airport (KND)\\'\\'\\' Haiti\\'\\'\\' Bereznik Airport...\\'\\'\\' Kindu Airport (KND)\\'\\'\\' Castilla la Nueva\\'\\'\\' Peninsula de La ...\\'\\'Wichita Falls-Ki...\\'\\'\\' Okeechobee FL\\'\\'Mount SmjÃ¶rfjÃ¶...\\'\\'Baghdad-Saddam I...\\'\\'\\' Kirkuk Airport (...\\'\\'McMinnville TN\\'\\'between Madrid a...\\'\\'\\' Ocean Cay Airport\\'\\'BeniarrÃ©s\\'\\'Misool Island\\'\\'Diyarbakir Airpo...\\'\\'\\' Chapais QC\\'\\'Fort Sill-Henry ...\\'\\'\\' Colmar-Houssen A...\\'\\'Saint Lucia\\'\\'Stewart Island A...\\'\\'\\' Kabul Airport (KBL)\\'\\'Valparaiso-Wagne...\\'\\'Falea KÃ©nyÃ©ba...\\'\\'Caracas-Simon Bo...\\'\\'Akrotiri RAF (AKT)\\'\\'Benguela Airport...\\'\\'\\' Caracas-SimÃ³n B...\\'\\'\\' Cairo West Air Base\\'\\'\\' \" Norman\\'s Cay\"\\'Annanberg-Nodabu...\\'\\'Yap Airport Wes...\\'\\'\\' Menongue\\'\\'\\' Murri\\'\\'\\' Bimini\\'\\'\\' Pecos City Airpo...\\'\\'Simanggang\\'\\'\\' Indio CA\\'\\'Higuerote Airpor...\\'\\'Angola/Namibia b...\\'\\'\\' Tumut NS\\'\\'\\' Marandellas\\'\\'Many LA\\'\\'Slide Mountain NY\\'\\'Sherbrooke QC\\'\\'Poprad/Tatry Air...\\'\\'\\' Riohacha\\'\\'\\' Qatar\\'\\'\\' CancÃºn Airport ...\\'\\'ReykjavÃ\\\\xadk Domes...\\'\\'\\' Candelaria\\'\\'\\' El Banco Magdalena\\'\\'Karad Airport\\'\\'Bahar Dar Airpor...\\'\\'Agua Negro Ranch...\\'\\'Blenheim-Woodbou...\\'\\'Ramstein AFB (RMS)\\'\\'\\' Inner Hebrides\\'\\'within Kamoa Mountains\\'\\'\\' Spokane Internat...\\'\\'Petrolina PE\\'\\'CÃºcuta\\'\\'Caravani\\'\\'Westchester Coun...\\'\\'Krenkel Station ...\\'\\'Santa Ana-John W...\\'\\'\\' Tabones Island\\'\\'Galt ON\\'\\'\\' Anapoima\\'\\'Kabul Damascus\\'\\'Pantano de BuendÃ\\\\xada\\'\\'\\' Moroni-Prince Sa...\\'\\'Station Nord\\'\\'Lac Bienville QC\\'\\'\\' San Luis PotosÃ\\\\xad\\'\\'\\' Slupsk-Redzikowo...\\'\\'Hoa Binh\\'\\'Managua Panama ...\\'\\'\\' St. Croix\\'\\'Emerald Airport ...\\'\\'\\' PalaÃº de Abajo\\'\\'Laguna Soliz\\'\\'\\' Cincinnati Munic...\\'\\'\\' Fort Collins/Lov...\\'\\'\\' Puerto de Andrai...\\'\\'\\' Pekanbaru\\'\\'\\' Lazo\\'\\'Semarang-Achmad ...\\'\\'\\' Voskhod Krasnod...\\'\\'\\' Vanimo\\'\\'\\' Walkersville MD\\'\\'\\' Buenos Aires-Jor...\\'\\'Mount Joli QC\\'\\'Vicente Guerro\\'\\'Slate Creek AK\\'\\'\\' Menongue Airport...\\'\\'Pinarete Mountain\\'\\'\\' Zumba\\'\\'Huairapungo Moun...\\'\\'\\' Nassau Bahamas\\'\\'Dillingham Munic...\\'\\'Gilgit Airport (...\\'\\'Voroshilovgrad r...\\'\\'Thandwe Airport ...\\'\\'Manaus-Eduardo G...\\'\\'\\' Smithers BC\\'\\'Bratsk Airport (...\\'\\'\\' Hualien Airport ...\\'\\'\\' Saldus\\'\\'\\' \" Ust\\'-Barguzin\"\\'Rabaul-Lakunai A...\\'\\'\\' Tirupati Airport...\\'\\'\\' Miraflores Airpo...\\'\\'West Deering NH\\'\\'Villavicencio Ai...\\'\\'Nailstone\\'\\'\\' Frazier Park CA\\'\\'Jackson Lake ON\\'\\'\\' Kenai Airport A...\\'\\'Beni\\'\\'\\' King Cove Airpor...\\'\\'Kedrovy Bodaybi...\\'\\'\\' Balad\\'\\'\\' Stupina\\'\\'\\' Maroantsetra Air...\\'\\'\\' CarurÃº Airport ...\\'\\'Chihuahua-Gen Fi...\\'\\'Chimkent region\\'\\'\\' Cochrane Airport...\\'\\'\\' Coclecito\\'\\'\\' Utichiy Island\\'\\'\\' Beira\\'\\'\\' Cali-Palmaseca A...\\'\\'Gdansk Airport (...\\'\\'\\' Coyhaique Airpor...\\'\\'\\' Palana\\'\\'Katowice-Pyrzowi...\\'\\'within Florida?\\'\\'Mangalore-Bajpe ...\\'\\'\\' Sanyi Township ...\\'\\'\\' Zavitinsk\\'\\'Sekakes Airport ...\\'\\'Dire Dawa Airpor...\\'\\'Zeya\\'\\'\\' Paipa-Juan Jose ...\\'\\'Dahl Creek Airpo...\\'\\'Zagrodno\\'\\'Namangan region\\'\\'\\' Saratov\\'\\'\\' Zheleznogorsk-Il...\\'\\'St. Andrew Guer...\\'\\'\\' Indian Springs-A...\\'\\'Kahrisak\\'\\'northeast Colombia\\'\\'\\' Felt OK\\'\\'\\' Lac-Saint-FranÃ§...\\'\\'\\' Moerdijk\\'\\'Dessie-Combolcha...\\'\\'Guelta Zammour\\'\\'\\' Saint Thomas Air...\\'\\'Foya Kamala\\'\\'San Miguel Airport\\'\\'Bafoussam Airpor...\\'\\'Sukhbaatar Province\\'\\'\\' Zihuatanejo\\'\\'Sennar\\'\\'Waterkloof\\'\"Noril\\'sk Airport...\"\\'Rothera Station\\'\\'Huehuetenango\\'\\'\\' Ust-Kulom\\'\\'\\' Kufra\\'\\'Saint Lucia-Vigi...\\'\\'\\' Ajaccio-Campo de...\\'\\'Spence Bay Airpo...\\'\\'\\' Anamur\\'\\'Laredo Internati...\\'\\'Mexico City-Beni...\\'\\'\\' San Antero\\'\\'\\' Deputatskiy\\'\\'\\' Severo-Yeniseysk...\\'\\'Puerto Lempira A...\\'\\'Punta Arenas-Pre...\\'\\'Lagos/Ikeja Inte...\\'\\'\\' Pensacola Region...\\'\\'\\' Gelendzhik\\'\\'\\' Addis Ababa\\'\\'Shevchenko\\'\\'Pearl Harbor Cha...\\'\\'Constanta Airpor...\\'\\'BÃ¡csbokod\\'\\'Damascus Interna...\\'\\'BogotÃ¡ Cali\\'\\'Groton CT\\'\\'Mount Garbi\\'\\'\\' Jeju (Cheju) Int...\\'\\'\\' Jammu\\'\\'Mt. Ipao\\'\\'within Prachinburi\\'\\'Amarillo Interna...\\'\\'\\' King Salmon Airp...\\'\\'Netheravon Wilt...\\'\\'Scituate Reservo...\\'\\'Nairobi Jeddah ...\\'\\'Columbia-McEntir...\\'\\'\\' Gamvik\\'\\'\\' Phoenix-Luke AFB...\\'\\'\\' Anapa Airport (AAQ)\\'\\'Greenwood IL\\'\\'Macon-Lewis B. W...\\'\\'\\' Igenhausen\\'\\'\\' QuÃ©tame\\'\\'Paulatuk Airport...\\'\\'\\' Gevenlik\\'\\'Novyj Urengoj Ai...\\'\\'\\' Yangsuo\\'\\'Glendive-Dawson ...\\'\\'Port Stanley Air...\\'\\'Qotur\\'\\'\\' Savannah GA (At...\\'\\'Calgary Internat...\\'\\'\\' Tashtagol\\'\\'Puerto LimÃ³n Ai...\\'\\'Sputendorf\\'\\'HÃ¡rmashatÃ¡rhegy\\'\\'Judsonia AR\\'\\'Miraflores\\'\\'\\' Petrovsk Air Base\\'\\'Madera CA\\'\\'North Pole\\'\\'Hooper Bay AK\\'\\'Uberaba Airport ...\\'\\'\\' Kassel-Calden Ai...\\'\\'Biarritz (BIQ)\\'\\'\\' Barranquilla-Ern...\\'\\'Dnepropetrovsk A...\\'\\'\\' Pebble Island\\'\\'\\' Seoul-Seongnam A...\\'\\'Rondon Airport (...\\'\\'Polevoye\\'\\'Zegrze Pomorskie\\'\\'Dvoinovski Volg...\\'\\'St. Petersburg I...\\'\\'\\' Pebble Island (I...\\'\\'Serra de Pacatub...\\'\\'RAAF Amberley QLD\\'\\'Krasnoarmeiskaya\\'\\'Tabatinga Intern...\\'\\'\\' Severomorsk-1 Na...\\'\\'Staunton-Shenand...\\'\\'\\' Jakarta\\'\\'\\' Verbovichi Naro...\\'\\'Wollaston Lake A...\\'\\'Long Semado-Lawa...\\'\\'Greve in Chianti\\'\\'\\' Waterkloof Air F...\\'\\'\\' Lake Bolshoye Toko\\'\\'\\' Shanghai\\'\\'Santa Marta-Simo...\\'\\'Amritsar-Raja Sa...\\'\\'Mindat\\'\\'Sukhumi-Babusher...\\'\\'\\' Bazarnyye Mataki\\'\\'Managua-Augusto ...\\'\\'West Palm Beach ...\\'\\'\\' Dno Pskov region\\'\\'Amritsar Airport...\\'\\'La Soufriere Vol...\\'\\'Makale Airport (...\\'\\'\\' Wolf Creek Pass CO\\'\\'Smedava\\'\\'Ishigaki Airport...\\'\\'Strachotice\\'\\'Nasiriyah Airpor...\\'\\'\\' Knoxville TN\\'\\'\\' Valladolid\\'\\'Khorezm region\\'\\'\\' Andros Town Airp...\\'\\'\\' Imishli\\'\\'Shanghai-Hongqia...\\'\\'Huntington Beach...\\'\\'\\' Two Bridge Lake BC\\'\\'\\' Luxembourg-Finde...\\'\\'Hat Yai Airport ...\\'\\'\\' Kampung Atap\\'\\'Merowe Airport (...\\'\\'\\' Graskop\\'\\'Kosciusko MS\\'\\'Shamattawa Airpo...\\'\\'Serra de Monchique\\'\\'Sinop Airport (SIC)\\'\\'\\' Bontang\\'\\'Edmonton-Namao F...\\'\\'\\' Mountain View Ai...\\'\\'Dnepropetrovsk r...\\'\\'Monte Bibala\\'\\'\\' Quetame\\'\\'Pontianak\\'\\'Abbotsford Airpo...\\'\\'Burbank/Glendale...\\'\\'\\' Pueblo Memorial ...\\'\\'La Serena-La Flo...\\'\\'Manado Airport (...\\'\\'Sakhanskoye Shi...\\'\\'Guangzhou-Baiyun...\\'\\'Great Abaco\\'\\'\\' Hailey-Sun Valle...\\'\\'Brainerd-Crow Wi...\\'\\'Madison GA\\'\\'\\' Alleypey\\'\\'\\' Bay City TX\\'\\'\\' Tripoli\\'\\'Portland Interna...\\'\\'Douala Air Base\\'\\'RÃ\\\\xado Gallegos In...\\'\\'Playa Baracoa Ai...\\'\\'Houston-William ...\\'\\'Preobrazhenskaya...\\'\\'\\' Kuala Selangor ...\\'\\'Melbourne VIC\\'\\'Nuevo Laredo (NLD)\\'\\'Shamathawa MB\\'\\'Jalalabad Airpor...\\'\\'BÃ¥tsfjord Airpo...\\'\\'\\' Salento\\'\\'Cherkasy region\\'\\'Koko\\'\\'Adelaide Airport...\\'\\'Fuzhou Yixu Airp...\\'\\'Varna Airport (VAR)\\'\\'\\' Shashgow Ghazni\\'\\'Nakashibetsu Air...\\'\\'\\' Sebha\\'\\'Chikala Hills\\'\\'\\' Vanavara Krasno...\\'\\'\\' Quelimane Airpor...\\'\\'Poti Airport\\'\\'Lawton Municipal...\\'\\'\\' Eagle Pass-Winn ...\\'\\'\\' Guangzhou Baiyun...\\'\\'Selawik AK\\'\\'Puerto Vallarta\\'\\'\\' Leninakan Airpor...\\'\\'\\' Toba\\'\\'Flotta Airport (...\\'\\'Wichita-Mid-Cont...\\'\\'\\' Barranca de Upia\\'\\'\\' Guayaquil-Simon ...\\'\\'Landikma\\'\\'Tsaghkahovit\\'\\'\\' Cesis\\'\\'Montreal-St. Hub...\\'\\'Cali-Palmaseca A...\\'\\'Kaunas\\'\\'\\' Nakhon Sawan/Tak...\\'\\'\\' Klyuchi Air Base\\'\\'River Kagoak AK\\'\\'\\' Tavil-Dara\\'\\'\\' Blagodarnoye Kr...\\'\\'Kubitet Tyazhin...\\'\\'\\' Scotland\\'\\'Schleswig Airpor...\\'\\'Beaumont Municip...\\'\\'\\' Shiryaiski Ilov...\\'\\'Cangamba Airport...\\'\\'\\' Kinmen-Shang-Yi ...\\'\\'Siddipet Bussap...\\'\\'\\' Cold Bay Airport...\\'\\'\\' Puerto Maldonado\\'\\'\\' Kharkiv-Sokilnyk...\\'\\'Kauai HI\\'\\'\\' Gali Abkhazia\\'\\'\\' Niela\\'\\'Millhaven GA\\'\\'\\' Fairbanks-Metro ...\\'\\'Ulan Bator-Buyan...\\'\\'\\' Las Vegas-Nellis...\\'\\'\\' Kahului HI\\'\\'\\' Kazarman\\'\\'\\' LabÃ©\\'\\'Berry Island\\'\\'\\' Jalalabad Airpor...\\'\\'Kasaba Bay Airpo...\\'\\'\\' Mestia\\'\\'Leningrad-Pulkov...\\'\\'Tobin Creek Airs...\\'\\'Bristol VA/John...\\'\\'Kharkov Region\\'\\'Brownwood Airpor...\\'\\'Lagos-Murtala Mu...\\'\\'Gimli Airport M...\\'\\'Missoula Airport...\\'\\'between Ambon an...\\'\\'\\' Koslan\\'\\'Pasto-Cano Airpo...\\'\\'\\' Ubon Ratchathani...\\'\\'Odessa Region\\'\\'Omsukchan Airport\\'\\'\\' Wilmington-Great...\\'\\'Vieques Airport ...\\'\\'Roma\\'\\'\\' Stanwood WA\\'\\'Tel Aviv\\'\\'\\' Dundo Airport (DUE)\\'\\'Hot Springs-Memo...\\'\\'\\' Adavale QLD\\'\\'within Mexico\\'\\'\\' Sakhalinsk Okho...\\'\\'Tours-St Symphor...\\'\\'Guilin Airport (...\\'\\'Bagram Air Base ...\\'\\'Mino Jebel Ali\\'\\'Las Bolsas SA\\'\\'\\' Lanyu Island\\'\\'\\' Rio Blanco Mata...\\'\\'San AndrÃ©s Isla...\\'\\'Karolewo\\'\\'AraÃ§atuba Airpo...\\'\\'\\' Lonkin\\'\\'Monterrubio vill...\\'\\'\\' Pinckneyville IL\\'\\'\\' Santa Isabel-CÃ³...\\'\\'Kansk Air Base\\'\\'Middletown PA\\'\\'Alto Pencoso Sa...\\'\\'\\' Lubango Airport ...\\'\\'\\' Burevestnik\\'\\'\\' Senkovo\\'\\'\\' Lansdowne House ...\\'\\'Midland/Odessa R...\\'\\'Denver-Buckley A...\\'\\'\\' Enugu Airport (ENU)\\'\\'LinkÃ¶ping-Saab ...\\'\\'\\' Kalgoorlie WA\\'\\'\\' Stornoway Airpor...\\'\\'El Paso-West Tex...\\'\\'Poptun Airport (...\\'\\'Zapote\\'\\'Sioux Falls Regi...\\'\\'Vail-Eagle Count...\\'\\'Honolulu HI\\'\\'\\' Al Qatrana\\'\\'Cochabamba-J Wil...\\'\\'\\' Karimui\\'\\'\\' Tessenei Airport...\\'\\'Kissidougou Airp...\\'\\'\\' Mazar-I-Sharif A...\\'\\'\\' Chuarrancho\\'\\'\\' Manado\\'\\'Edinburgh RAAF S...\\'\\'\\' Terre Haute-Hulm...\\'\\'Avalon CA\\'\\'CamagÃ¼ey Intern...\\'\\'Huambo Airport (...\\'\\'\\' Debre Zeit/Harar...\\'\\'\\' Prosperine Airpo...\\'\\'Elefsis\\'\"N\\'Djamena Airpor...\"\\'CancÃºn Airport ...\\'\\'Cerro PilÃ³n\\'\\'\\' Oneonta Municipa...\\'\\'San Miguel Airstrip\\'\\'Taipei-Chiang Ka...\\'\\'\\' Rurrenabaque Air...\\'\\'\\' Ciudad Quesada\\'\\'\\' Bergamo-Orio Al ...\\'\\'\\' Florianopolis SC\\'\\'\\' Quthing Airport ...\\'\\'Scottsdale AZ\\'\\'\\' Imperatriz Airpo...\\'\\'Cerro Alto Santa...\\'\\'San Manuel Ray B...\\'\\'San Borja-Capita...\\'\\'\\' Staroye Zhookovo\\'\\'\\' Thunder Bay Airp...\\'\\'\\' Ushuaia Airport ...\\'\\'Voroshilovgrad R...\\'\\'\\' Donetsk\\'\\'Chalkhill PA\\'\\'Panama\\'\\'Szarvas-KÃ¡ka\\'\\'Sanday Airport (...\\'\\'\\' Sivakovka Khoro...\\'\\'\\' Rio das Ostras RJ\\'\\'\\' Playa Baracoa Ai...\\'\\'\\' Casapalca\\'\\'Neryungri/Chulma...\\'\\'Kustanai region\\'\\'\\' Zadar\\'\\'\\' Sigonella Naval ...\\'\\'Mokhotlong Airpo...\\'\\'Krasnodar region\\'\\'Punya Boguchany...\\'\\'Krasnoselkup Air...\\'\\'\\' Providencia Airp...\\'\\'\\' Andryushino Sve...\\'\\'Lazurnoye\\'\\'Waterville-Rober...\\'\\'Isiro-Matari (IRP)\\'\\'Harare ?\\'\\'\\' Vieques Airport ...\\'\\'Nawabshah\\'\\'\\' Dhaka-Zia Intern...\\'\\'Marseille\\'\\'within Aceh\\'\\'Nanisivik Airpor...\\'\\'\\' Wamena\\'\\'Marchington\\'\\'Aktyubinsk Airpo...\\'\\'\\' Jinotega\\'\\'Kinshasa\\'\\'Mount Musaka\\'\\'Omega Air Force ...\\'\\'\\' Bandundu Airport...\\'\\'Isfahan-Shahid B...\\'\\'Opole\\'\\'\\' Saaremaa Island\\'\\'Surin\\'\\'\\' Zaranj\\'\\'\\' Orillia Airport ON\\'\\'West Freugh Airport\\'\\'Aberdeen Municip...\\'\\'\\' Pavlodar\\'\\'\\' Skiathos Airport...\\'\\'\\' Sredni Kalar Ch...\\'\\'Fort Franklin NT\\'\\'Horcajo de los M...\\'\\'Port Isabel TX\\'\\'\\' Sable Island NL...\\'\\'\\' Davao\\'\\'Tete-Matundo Air...\\'\\'\\' Saint Thomas-Cyr...\\'\\'\\' Tanger\\'\\'\\' Inverness Airpor...\\'\\'between Loja and...\\'\\'Salinas\\'\\'\\' Castres\\'\\'\\' Wilton Airport NSW\\'\\'Atlanta-William ...\\'\\'\\' Kostroma Airport...\\'\\'\\' Jacksonville Int...\\'\\'Ati Airport (ATV)\\'\\'Jasper-Walker Co...\\'\\'Songkhla Airport...\\'\\'Verkhne Imbatsko...\\'\\'\\' JaÃ©n\\'\\'Alki Point Seat...\\'\\'\\' Kerege\\'\\'Waco Municipal A...\\'\\'\\' Bhojpur\\'\\'Cafunfo Airport ...\\'\\'Yeniseysk Airpor...\\'\\'ConcepciÃ³n Airp...\\'\\'Nevado Illimani\\'\\'Bamyan\\'\\'\\' Kansas City Down...\\'\\'\\' Uralsk Airport (...\\'\\'Yogyakarta-Adisu...\\'\\'Lop Buri Air Base\\'\\'Brisbane Interna...\\'\\'Orlando Internat...\\'\\'\\' San JosÃ© de los...\\'\\'\\' Reno/Tahoe Inter...\\'\\'\\' Trujillo-Capiro ...\\'\\'\\' \" Dzhabal\\'-Ussaradzh\"\\'\\' Buga\\'\\'Cerro el Plateado\\'\\'Lake Byeloye Vo...\\'\\'\\' Taboga Island\\'\\'London KY\\'\\'\\' Minsk-2 Internat...\\'\\'Cedarville NJ\\'\\'Wilton Airfield ...\\'\\'\\' Banjarmasin\\'\\'\\' Bilbao Airport (...\\'\\'\\' Tombouctou Airpo...\\'\\'\\' Dakhla\\'\\'Riyadh Air Base ...\\'\\'El Bagre Airport...\\'\\'within Iran\\'\\'\\' Novobyelaya Lug...\\'\\'Giallo-Warehouse...\\'\\'Barter Island AK\\'\\'Fort Hood TX\\'\\'\\' Akobo\\'\\'Paris-Charles de...\\'\\'Dhahran Internat...\\'\\'Lago Ullum SJ\\'\\'Borogon Airport\\'\\'\\' Florencia Airpor...\\'\\'Jeddah-King Abdu...\\'\\'\\' Salta SA\\'\\'\\' Phuket Internati...\\'\\'\\' Kulusuk\\'\\'Wilkes-Barre Int...\\'\\'\\' Perpignan Airpor...\\'\\'within KhÃ¶vsgÃ¶l Province\\'\\'\\' Zolochiv\\'\\'Perris CA\\'\\'Lewistown Munici...\\'\\'Kyzyl Airport (KYZ)\\'\\'Doha Internation...\\'\\'Lake Geneva Muni...\\'\\'Maluku\\'\\'Chongoene\\'\\'Sulczewka\\'\\'Cochin\\'\\'Gwangju (Kwangju...\\'\\'\\' Harrison-Boone C...\\'\\'Tadibeyakha\\'\\'Ten Mile Creek BC\\'\\'\\' Cabimas-Oro Negr...\\'\\'\\' Sangar\\'\\'\\' Montgomery-Orang...\\'\\'\\' Provins\\'\\'Stavropol region\\'\\'Los Angeles-Van ...\\'\\'Sebha Airport (SEB)\\'\\'\\' Trenton-Mercer C...\\'\\'Moma\\'\\'\\' Juara Airport M...\\'\\'\\' Cork Ireland\\'\\'\\' Santa Maria RS\\'\\'San Juan-Luis Mu...\\'\\'\\' Ponta de Mucurip...\\'\\'\\' Suduntui Chita ...\\'\\'King Salmon AK\\'\\'\\' Mbeya Airport (MBI)\\'\\'Eldebba Airport ...\\'\\'Baykit (BKT)\\'\\'Egegik Airport ...\\'\\'Krasny Yar distr...\\'\\'\\' Uchkuduk\\'\\'\\' Kandahar Airport...\\'\\'Lac HÃ©lÃ¨ne QC\\'\\'Selitrennoye Kh...\\'\\'\\' Leticia\\'\\'Bodensee\\'\\'Mt. Komendant O...\\'\\'Northport WA\\'\\'Dallas/Fort Wort...\\'\\'Mocoa\\'\\'\\' Mulia Airport (LII)\\'\\'\\' Ueno Village Ta...\\'\\'Quinlan TX\\'\\'\\' Gulkana AK\\'\\'Katherine-Tindal...\\'\\'Manchester Inter...\\'\\'\\' Auburn Airport ...\\'\\'\\' Marysville-Beale...\\'\\'\\' Hickory NC\\'\\'\\' Nurallao Sardinia\\'\\'\\' Kokoda Airport (...\\'\\'\\' Yunkyur Airstrip\\'\\'\\' Kandahar\\'\\'East Naples FL\\'\\'\\' Staunton-Shenand...\\'\\'West Chicago-Dup...\\'\\'\\' Kharkov Airport\\'\\'Kilifas Gap\\'\\'\\' Jenkinsburg GA\\'\\'within Arizona\\'\\'\\' VitÃ³ria da Conq...\\'\\'Homer City PA\\'\\'\\' Putao Airport (PBU)\\'\\'\\' Singapore\\'\\'Bloomington-Monr...\\'\\'Enshi Airport (ENH)\\'\\'\\' Juneau Internati...\\'\\'Bethel Airport ...\\'\\'Sparta-White Cou...\\'\\'Kasese Airport (...\\'\\'Dothan Airport ...\\'\\'Edmonton Interna...\\'\\'Friedrichshafen ...\\'\\'Rochester MN\\'\\'\\' Swartkop Air For...\\'\\'Toulouse-Blagnac...\\'\\'College Station-...\\'\\'Accra\\'\\'Yaviza Mountains\\'\\'\\' Gannan Heilongj...\\'\\'\\' Cumana\\'\\'Riyadh-King Khal...\\'\\'\\' Dhangadhi\\'\\'\\' Kaduna\\'\\'De Kalb TX\\'\\'Sosnovaya Roscha...\\'\\'Khuvsgul Province\\'\\'\\' Shantobe\\'\\'Caribou Horn Lak...\\'\\'\\' Vatry/ChÃ¢lons-e...\\'\\'Un-Sara\\'\\'Sachigo Lake Air...\\'\\'\\' Riyadh\\'\\'Ujung Pandang ha...\\'\\'Lago Gutierrez RN\\'\\'SÃ£o Paulo-Guaru...\\'\\'Las Lomitas\\'\\'\\' East Midlands Ai...\\'\\'Sault Ste. Marie...\\'\\'\\' Kasongo\\'\\'\\' Saransk Airport ...\\'\\'\\' Magong Airport (...\\'\\'Philippi Glacier\\'\\'Iruma Air Base\\'\\'Erie Internation...\\'\\'Coatesville-Ches...\\'\\'\\' Bugulma Airport ...\\'\\'Thira Airport (JTR)\\'\\'\\' Pachuca Hidalgo\\'\\'\\' Alpena County Re...\\'\\'Daytona Beach In...\\'\\'\\' Naha\\'\\'Lime Village AK\\'\\'Jammu\\'\\'Mount Lloyd Geor...\\'\\'Steins NM\\'\\'\\' Omsk Severny Air...\\'\\'\\' Jamnagar India\\'\\'MezÃµnyÃ¡rÃ¡d\\'\\'\\' Pemba Airport (POL)\\'\\'Las Mesas\\'\\'Magdalena NM\\'\\'\\' Argos\\'\\'\\' Bor\\'\\'Redwater TX\\'\\'Tripoli Internat...\\'\\'\\' Mombasa\\'\\'\\' Tame\\'\\'\\' Las Salinas de H...\\'\\'Qala i Naw Airpo...\\'\\'\\' San Salvador/Ilo...\\'\\'over Angola\\'\\'Portland-Hillsbo...\\'\\'Ledovaya Baza\\'\\'\\' Billings-Logan I...\\'\\'Hollywood-North ...\\'\\'Laramie-General ...\\'\\'\\' Khanty-Mansiysk ...\\'\\'\\' Djibouti\\'\\'Punta Mitre CR\\'\\'\\' Ampanoizankova\\'\\'Dundo Airport (DUE)\\'\\'\\' Laphroaig Isle ...\\'\\'\\' Calgary AB\\'\\'Barrow-In-Furnes...\\'\\'Balboa-Howard Ai...\\'\\'Grand Canyon Nat...\\'\\'\\' La Macarena Airp...\\'\\'\\' Dembidollo\\'\\'Penza Airport (PEZ)\\'\\'Buffalo Municipa...\\'\\'\\' Kayseri-Erkilet ...\\'\\'Lincoln Municipa...\\'\\'Kopsa\\'\\'Camden Airport ...\\'\\'Chimoio Airport ...\\'\\'Kelowna Airport ...\\'\\'\\' Choszczno\\'\\'\\' Cantallops\\'\\'Wabush Airport ...\\'\\'\\' San Juan-Luis Mu...\\'\\'Mount Kinpoku\\'\\'Tabou Airport (TXU)\\'\\'Krasiny\\'\\'Mount Canlandog\\'\\'Bedford-Virgil I...\\'\\'\\' Saint Vincent-Ar...\\'\\'Calabar Airport ...\\'\\'Rutland Airport ...\\'\\'Konder Mountain ...\\'\\'\\' MocorÃ³n-Durzona...\\'\\'\\' Garut\\'\\'Texarkana Munici...\\'\\'\\' Siuna\\'\\'\\' Lille-Lesquin Ai...\\'\\'Cerritos CA\\'\\'\\' North Sea\\'\\'Pickle Lake ON\\'\\'Cluj Airport (CLJ)\\'\\'Vanuabalavu Airp...\\'\\'\\' Mantiqueira SP\\'\\'Chennai (Madras)...\\'\\'Liberal Municipa...\\'\\'\\' Port-de-Paix\\'\\'Magoebaskloof\\'\\'\\' San Carlos\\'\\'Aalborg Airport ...\\'\\'\\' Cabildo\\'\\'Stoelmanseiland\\'\\'\\' Komatipoort\\'\\'Nightmute Airpor...\\'\\'Indore Airport (...\\'\\'\\' Peshawar Airport...\\'\\'\\' Medina\\'\\'\\' Tosa Bay\\'\\'\\' Christiansted S...\\'\\'Mojave Air & Spa...\\'\\'\\' Zahedan\\'\\'Casablanca-Nouas...\\'\\'Brooksville-Hern...\\'\\'Tabriz Airport (...\\'\\'Rio de Janeiro-A...\\'\\'Congo Town Airport\\'\\'Windsor MA\\'\\'\\' Fort McMurray Ai...\\'\\'\\' Berlin-SchÃ¶nefe...\\'\\'Lanzhou-Zhongchu...\\'\\'\\' Norman Wells Air...\\'\\'\\' Arar\\'\\'\\' Nadi Internation...\\'\\'Chernenko Airport\\'\\'\\' Bata Airport (BSG)\\'\\'Ilorin Airport (...\\'\\'\\' Pilas Island Su...\\'\\'\\' Toronto Island A...\\'\\'Remington Â\\\\xa0IN\\'\\'\\' Asmara Internati...\\'\\'Montgomery-Maxwe...\\'\\'Lugano Airport (...\\'\\'Kearns UT\\'\\'\\' JaboatÃ£o PE\\'\\'Cima CA\\'\\'Tarnogsky Gorodo...\\'\\'Varginha Airport...\\'\\'\\' Monrovia\\'\\'\\' San Ignacio de M...\\'\\'\\' Jakiri\\'\\'\\' eastern coast\\'\\'Felvoru\\'\\'Sverdlovsk Airpo...\\'\\'Oneonta Municipa...\\'\\'San Juan Reservoir\\'\\'\\' Fukuoka Airport ...\\'\\'\\' Stadnitsa\\'\\'Trondheim-VÃ¦rne...\\'\\'within Kalimantan\\'\\'Fresno Air Termi...\\'\\'Abu Simbel Airpo...\\'\\'Norfolk-Stefan F...\\'\\'Provincia Indepe...\\'\\'\\' Guarita\\'\\'Wadi Doum\\'\\'\\' Higuerote\\'\\'Miranshah area\\'\\'\\' PilisszentlÃ©lek\\'\\'Lake Sivash\\'\\'\\' Kansas City Inte...\\'\\'\\' Johannesburg/Ger...\\'\\'Jaisalmer Airpor...\\'\\'Lac Placier QC\\'\\'Soviet Arctic ocean\\'\\'\\' Panay\\'\\'Al Jaylah\\'\\'\\' Pulau Mapur\\'\\'Bahia Negra\\'\\'\\' MayagÃ¼ez Airpor...\\'\\'\\' Pickle Lake ON\\'\\'Wau\\'\\'West Mifflin PA\\'\\'Shageluk AK\\'\\'Savannas hill range\\'\\'Nadi Internation...\\'\\'\\' Ruteng\\'\\'\\' Ilaga Airport (ILA)\\'\\'\\' Visby\\'\\'\\' Koblenz-Winninge...\\'\\'\\' LÃ¼beck-Blankens...\\'\\'Lake Manyara (LKY)\\'\\'within Bolivar State\\'\\'\\' Khost\\'\\'\\' Maudsley Lake SK\\'\\'Hidden Bay Airst...\\'\\'Paraparau\\'\\'\\' Saposoa Airport ...\\'\\'Berdyansk Airpor...\\'\\'\\' Hopong\\'\\'Dayton Airport ...\\'\\'Brookfield Farm\\'\\'Madisonville Mun...\\'\\'\\' Baguio-Loakan Ai...\\'\\'Fort Bragg NC\\'\\'Cooch Behar Airp...\\'\\'Kandahar Airport...\\'\\'Ciudad Camargo\\'\\'Crystal Bay NV\\'\\'Sabadell Airport\\'\\'Lac Cache ON\\'\\'Tekapo Aerodrome\\'\\'Ivanovo Airport ...\\'\\'\\' El PetÃ©n\\'\\'Santo Angelo Air...\\'\\'Innyaly Lensky ...\\'\\'Calama-El Loa Ai...\\'\\'\\' Gardez\\'\\'Ust-Nem\\'\\'Kilaguni\\'\\'Newburgh-Stewart...\\'\\'Ainsdale Sands ...\\'\\'Beaver Falls PA\\'\\'\\' Alisovo (Bliznezi)\\'\\'Bulverde TX\\'\\'Omsk\\'\\'\\' CarajÃ¡s Airport...\\'\\'Melka Shedi\\'\\'White Sands Miss...\\'\\'Rayleigh Essex\\'\\'Kunduz\\'\\'Castle Crags Sta...\\'\\'Shreveport-Barks...\\'\\'\\' Bloemfontein\\'\\'Twin Falls City ...\\'\\'Gold Beach Munic...\\'\\'Memphis Internat...\\'\\'\\' Keflavik Iceland\\'\\'El Poleo\\'\\'\\' Pa-An\\'\\'\\' Kuito\\'\\'Conca di Crezzo\\'\\'Rancho Murieta CA\\'\"Komsomol\\'sk-na-A...\"\\'Ciudad Mante\\'\\'\\' Bartlesville OK\\'\\'Desert Center CA\\'\\'\\' Ulongwe\\'\\'\\' Ross River Airpo...\\'\\'Jefferson WI\\'\\'Tuusula\\'\\'Saint Clair Shor...\\'\\'Mayor Pablo Lage...\\'\\'Le Puy\\'\\'\\' Haumuri Bluffs\\'\\'\\' Mauritius\\'\\'\\' Tavoy Myanmar ...\\'\\'\\' Djakovo\\'\\'Hayoun\\'\\'\\' Mount Waddington...\\'\\'Lexington-Blue G...\\'\\'Deptford NJ\\'\\'\\' Paso Robles CA\\'\\'Udon Thani Airpo...\\'\\'Dallas-Redbird A...\\'\\'San Ignacio de M...\\'\\'\\' Lima-Jorge Chave...\\'\\'\\' Kanabea\\'\\'\\' Cochin NAS (COK)\\'\\'\\' Iligan Airport (...\\'\\'Joplin Airport ...\\'\\'Pyatigorsk\\'\\'Boca San Carlos\\'\\'Mashhad Airport ...\\'\\'\\' Goba Airport (GOB)\\'\\'\\' Samarinda\\'\\'Dahra-Warehouse ...\\'\\'\\' Seferihisar\\'\\'Monterrey\\'\\'Luanda Airport (...\\'\\'\\' Monroe Municipal...\\'\\'Yonago-Miho Airp...\\'\\'Hamilton Airport...\\'\\'\\' Chongqing Baishi...\\'\\'Krasnovodsk Airp...\\'\\'\\' Green Island Air...\\'\\'\\' Durango-La Plata...\\'\\'within DariÃ©n Province\\'\\'Durango-La Plata...\\'\\'\\' Kettwig\\'\\'Tuting Arunacha...\\'\\'Springfield Airp...\\'\\'Lake Ontario ON\\'\\'Wheeling-Ohio Co...\\'\\'Hanoi-Noibai Air...\\'\\'Kaohsiung Intern...\\'\\'\\' MacaÃ© Airport ...\\'\\'Saskylakh\\'\\'Surgut Airport (...\\'\\'\\' Girne Arap\\'\\'Germiston c. 13...\\'\\'\\' Machault\\'\\'Veshchevo Air Fo...\\'\\'\\' Charbatia Air Base\\'\\'Quetta Airport (...\\'\\'\\' Decatur TX\\'\\'Algiers-Houari B...\\'\\'\\' Maimana\\'\\'\\' Hennenman\\'\\'Kudinovo\\'\\'\\' Techamutete\\'\\'\\' Maui HI\\'\\'Axum Airport (AXU)\\'\\'\\' BrÃ¸nnÃ¸ysund Ai...\\'\\'Mossel Bay\\'\\'Krzemlin\\'\\'Cartagena-Rafael...\\'\\'West Paterson NJ\\'\\'Cerro FÃ¡brega\\'\\'\\' Hannover Airport...\\'\\'within Yucatan\\'\\'\\' Greenville Airpo...\\'\\'\\' San Mateo ManabÃ\\\\xad\\'\\'\\' Tobolsk\\'\\'\\' Posadas Airport ...\\'\\'\\' Aleksandriya\\'\\'Delhi-Indira Gan...\\'\\'Guna Airport (GUX)\\'\\'Bronson Creek Ai...\\'\\'Mulhouse-Habshei...\\'\\'San Salvador-Com...\\'\\'Cabimas-Oro Negr...\\'\\'Cesnikovo\\'\\'Eysines\\'\\'\\' Qeshm Island\\'\\'Khabarovsk-Novy ...\\'\\'SÃ£o JosÃ© dos C...\\'\\'Kisumu Airport (...\\'\\'\\' Spratly Islands ...\\'\\'\\' John Day OR\\'\\'Vadodara Airport...\\'\\'Golden Meadow LA\\'\\'Morristown Munic...\\'\\'within Colombia\\'\\'\\' Cutio Bie\\'\\'\\' Kunduz\\'\\'\\' Bahawalpur Airpo...\\'\\'Asau Airport (AAU)\\'\"Ã\\\\x8ele M\\'bamou\"\\'\\' Kystatyam\\'\\'Station 6\\'\\'between Villavic...\\'\\'\\' Arteaga\\'\\'\\' Privolzhskiy Air...\\'\\'Hopedale NL\\'\\'\\' Santiago de Comp...\\'\\'La Paz Airport (...\\'\\'Jackson WY\\'\\'Montego Bay-Sang...\\'\\'Emae Airport (EAE)\\'\\'\\' Bahar Dar Airpor...\\'\\'Cheney ON\\'\\'\\' Harare Airport (...\\'\\'\\' Aiykan\\'\\'Aurangabad-Chikk...\\'\\'Aleppo Airport (...\\'\\'Ushuaia Airport ...\\'\\'\\' \" Kozel\\'sk Kaluga...\"\\'GoiÃ¢nia-Santa G...\\'\\'\\' Bhaisau\\'\\'\\' Eastsound-Orcas ...\\'\\'\\' Linfen Air Base\\'\\'Dori Airport (DOR)\\'\\'Luanda\\'\\'Oscoda-Wurtsmith...\\'\\'\\' Sandar-Marneuli\\'\\'\\' Ahmedabad Airpor...\\'\\'Yerevan Airport ...\\'\\'\\' Juliaca Airport ...\\'\\'\\' Salzburg-W. A. M...\\'\\'Les Eplatures Ai...\\'\\'Belaya Gora ?\\'\\'\\' Pikangikum Airpo...\\'\\'Oak Grove PA\\'\\'Gondar Airport (...\\'\\'Niedernberg\\'\\'Kayseri-Erkilet ...\\'\\'\\' SeinÃ¤joki-Ilmaj...\\'\\'MichalkÃ³w\\'\\'\\' Johannesburg\\'\\'MontluÃ§on-GuÃ©r...\\'\\'\\' Parachinar\\'\\'Rogachevo Air Base\\'\\'Gander Internati...\\'\\'Butzweilerhof\\'\\'\\' Chapleau Airport...\\'\\'Hamada al Hamra\\'\\'Tel aviv-Ben Gur...\\'\\'Waskaganish Airp...\\'\\'\\' Kodinsk Airport\\'\\'Western Sahara\\'\\'Grand Turk Islan...\\'\\'\\' Naryan-Mar\\'\\'Karm `Umran\\'\\'Cuatro CiÃ©negas\\'\\'Catarman-Nationa...\\'\\'Lockerbie\\'\\'\\' Aspen Airport C...\\'\\'\\' Kegworth\\'\\'Rockingham Count...\\'\\'\\' Dayton-James Cox...\\'\\'\\' Caracas/La Carlo...\\'\\'between La Paz a...\\'\\'Buena Vista CO\\'\\'Ã\\\\x96rnskÃ¶ldsvik A...\\'\\'Quiliano\\'\\'Fairbanks-Fort W...\\'\\'Lisboa-Portela d...\\'\\'Abilene-Dyess AF...\\'\\'\\' Bannu\\'\\'Marseille-Proven...\\'\\'\\' Santa Maria-Vila...\\'\\'Lichinga Airport...\\'\\'Glasgow Internat...\\'\\'\\' Washington State\\'\\'\\' Hurlburt Field FL\\'\\'\\' Castera-Lou\\'\\'Poughkeepsie NY\\'\\'\\' La Grande-LG-4 a...\\'\\'\\' Luena Airport (LUO)\\'\\'Cazombo\\'\\'Dryden Municipal...\\'\\'\\' Maidstone-Lashen...\\'\\'Lafayette-Purdue...\\'\\'\\' Saginaw TX\\'\\'Tiraora Lodge\\'\\'\\' SÃ£o Paulo-Guaru...\\'\\'Kieta-Aropa Airp...\\'\\'Jeddah-Prince Ab...\\'\\'Palangkaraya-Tji...\\'\\'Baku Airport (BAK)\\'\\'Laoag Airport (LAO)\\'\\'Iquitos Airport ...\\'\\'LÃ©oncel\\'\\'\\' Wriezen\\'\\'Tatarski\\'\\'\\' Decatur Airport ...\\'\\'Sechenovo\\'\\'\\' Summerland Key FL\\'\\'Melbourne-Tullam...\\'\\'\\' Playa del Carmen...\\'\\'\\' Columbia-Maury C...\\'\\'Portland Harbour\\'\\'\\' Oskarshamn Airpo...\\'\\'Azusa CA\\'\\'\\' Dolbizno Kamene...\\'\\'Unalakleet Airpo...\\'\\'\\' Huaral\\'\\'Torino-Aeritalia...\\'\\'\\' Bronson Creek BC\\'\\'\\' Derby WA\\'\\'\\' De Kalb Airport IL\\'\\'\\' Boboc Air Base\\'\\'Colville Lake Ai...\\'\\'Punta BojÃ³rquez\\'\\'CuraÃ§ao-Hato In...\\'\\'\\' Zella\\'\\'Grenville Channe...\\'\\'Vereda el Salitre\\'\\'\\' Kiunga\\'\\'Zabol Airport (ACZ)\\'\\'\\' Tarma\\'\\'\\' St. Anne-des-Mon...\\'\\'\\' Petersburg AK\\'\\'\\' Hargeisa\\'\\'YaoundÃ©-Ville A...\\'\\'\\' Cartersville Air...\\'\\'\\' Cape Schmidt\\'\\'Cam Ranh Airport\\'\\'Belfast City Air...\\'\\'Wau Airport (WUU)\\'\\'Dayton-James Cox...\\'\\'??Cape Kibera\\'\\'Sioux Gateway Ai...\\'\\'\\' Mocuba\\'\\'Chana\\'\\'Grimsby-Binbrook...\\'\\'Ulan-Ude Airport...\\'\\'\\' Samos Airport (SMI)\\'\\'Augusta Airport ...\\'\\'Ilha das OnÃ§as PA\\'\\'Gambella\\'\\'Upper Dart Valley\\'\\'\\' Novgorod-Krechev...\\'\\'Neryungri Airpor...\\'\\'\\' Shanghai-Hongqia...\\'\\'San Carlos de Ba...\\'\\'\\' Puerto Ordaz Air...\\'\\'Bishkek Airport ...\\'\\'SÃ£o JosÃ© do Xi...\\'\\'Taura AFB\\'\\'Laval-Pradel\\'\\'\\' Hirtshals Skage...\\'\\'\\' Playa de Baracoa\\'\\'Vodochody-Klecan...\\'\\'\\' Bintuni\\'\\'Jalal-Abad Airport\\'\\'\\' Mayfield Graves ...\\'\\'\\' Houston-William ...\\'\\'St. Croix\\'\\'Humacao Airport ...\\'\\'TÃ©nÃ©rÃ© desert\\'\\'Trelew-Almirante...\\'\\'Toulon-HyÃ¨res A...\\'\\'\\' Indapur\\'\\'Terrace Airport ...\\'\\'\\' Semenivka Chern...\\'\\'\\' Roxboro/Person C...\\'\\'Sedona Airport ...\\'\\'\\' Yar-Sale\\'\\'Stepnogorsk Airport\\'\\'\\' Carlingford NB\\'\\'Uncertain TX\\'\\'U-Tapao (UTP)\\'\\'Las Perdices CD\\'\\'Sasstown Airport...\\'\\'Kirovabad\\'\\'\\' Sumqayit\\'\\'Hatay\\'\\'Kangiqsujuaq Air...\\'\\'Saltillo Airport...\\'\\'\\' Hoolehua-Molokai...\\'\\'\\' Mariehamn\\'\\'\\' Roncesvalles To...\\'\\'\\' Belo Horizonte-P...\\'\\'El Gorah Sinai\\'\\'Maluti Mountains\\'\\'SÃ¢nmartin\\'\\'\\' Barualite\\'\\'\\' Sovetsky Airport...\\'\\'Kidston Airport ...\\'\\'\\' Dzhambul Airport...\\'\\'Seoul-Kimpo Inte...\\'\\'\\' Jamba Airport (JMB)\\'\\'BorÃ³w\\'\\'\\' Toluca\\'\\'\\' George Town\\'\\'Lille-Lesquin Ai...\\'\\'\\' Tepic\\'\\'Panama City-Pait...\\'\\'Guayaramerin Air...\\'\\'\\' Aweil\\'\\'Santa Ana-Orange...\\'\\'\\' Visina\\'\\'Man Airport (MJC)\\'\\'Tver-Zmeevo\\'\\'Banten Bay Java...\\'\\'\\' Port Vila-Bauerf...\\'\\'Hagerstown MD\\'\\'Menongue Airport...\\'\\'Villa Gesell Air...\\'\\'Kajo Kaji\\'\\'Yorke Island Air...\\'\\'Portsmouth-Pease...\\'\\'\\' Pervouralsk\\'\\'\\' Elko Airport NV...\\'\\'\\' Leadville CO\\'\\'McCharen Field ...\\'\\'Ansonia OH\\'\\'Little Rock Nati...\\'\\'\\' La Sabaneta\\'\\'Wakunai Airport ...\\'\\'Cove Neck NY\\'\\'Mount Rinjani\\'\\'within Inuvik NT\\'\\'\\' Ulaangom Airport...\\'\\'\\' Kinkala\\'\\'Okha Sakhalin I...\\'\\'\\' Plattsburgh-Clin...\\'\\'\\' Burlington Inter...\\'\\'\\' Columbia Regiona...\\'\\'\\' Panevezys-Pajuos...\\'\\'\\' IbaguÃ©-Perales ...\\'\\'Winnipeg Interna...\\'\\'Bauru Airport S...\\'\\'\\' Bangalore-Hindus...\\'\\'Siauliai\\'\\'\\' Bergisch Gladbach\\'\\'Taiyuan Airport ...\\'\\'\\' Denver Internati...\\'\\'\\' Caracas-La Carlo...\\'\\'Goma Airport (GOM)\\'\\'\\' Leongatha VIC\\'\\'Kaabong\\'\\'JÃ¡szjÃ¡kÃ³halma\\'\\'Vershino-Darasun...\\'\\'Roatan Airport (...\\'\\'Las Mesitas\\'\\'\\' Uvalde-Garner Fi...\\'\\'Carlsbad-McClell...\\'\\'\\' Labuan Bajo-Muti...\\'\\'\\' Utila Airport (UII)\\'\\'\\' Levittown\\'\\'Juiz De Fora-Fra...\\'\\'Camiare Airstrip\\'\\'\\' Gadsden Municipa...\\'\\'\\' VÃ¦rÃ¸y-Stolport...\\'\\'Uelen\\'\\'\\' Contadora Airpor...\\'\\'Khost\\'\\'\\' Kinshasa\\'\\'Luang Namtha Air...\\'\\'\\' Bam\\'\\'\\' Moosonee Airport...\\'\\'\\' Tarbert\\'\\'\\' Spafaryev Island\\'\\'\\' Tuxtla GutiÃ©rre...\\'\\'\\' Mareeba QLD\\'\\'Manila-Ninoy Aqu...\\'\\'\\' Rodenbach\\'\\'Abarqu\\'\\'\\' Capon Bridge WV\\'\\'Pelly Crossing YT\\'\\'Mabuiag Island A...\\'\\'Morobe Airport (...\\'\\'Yelgava Airport\\'\\'\\' Unalakleet Airpo...\\'\\'Kenkiyak\\'\\'\\' Altamira Airport...\\'\\'Fresno-Chandler ...\\'\\'\\' Didcot\\'\\'Thistle Lake NT\\'\\'\\' Shurma Urzhum d...\\'\\'OcaÃ±a-Aguasclar...\\'\\'unknown airstrip\\'\\'\\' Union Island\\'\\'Aruba-Reina Beat...\\'\\'Ponmudi Mountain...\\'\\'Shivrajpur\\'\\'Sukhumi Airport ...\\'\\'Touba Airport (TOZ)\\'\\'Kinston-Stalling...\\'\\'Petrozavodsk Air...\\'\\'\\' Bielsko Biala Ai...\\'\\'Iberia\\'\\'Saint-Yan-Charol...\\'\\'\\' Stepanakert\\'\\'\\' Shindand\\'\\'Juba Airport (JUB)\\'\\'Rushan\\'\\'Yunlin\\'\\'California City CA\\'\\'Kacha Air Base\\'\\'Sibu Airport (SBW)\\'\\'Livny\\'\\'Frunze Airport\\'\\'\\' Moabi\\'\\'Pavlodar Airport...\\'\\'\\' MayagÃ¼ez San J...\\'\\'Pereira-MatecaÃ±...\\'\\'Morristown-Moore...\\'\\'Conroe-Montgomer...\\'\\'Saylla Chico\\'\\'Marana-Pinal Air...\\'\\'\\' San Luis Obispo-...\\'\\'\\' Halmstad Airport...\\'\\'Crows Landing-Au...\\'\\'Lakeport CA\\'\\'\\' Wynoochee Dam WA\\'\\'Ramsar Airport (...\\'\\'Kotlas Airport (...\\'\\'\\' Kigali Airport (...\\'\\'\\' Novosibirsk-Yelt...\\'\\'Tarakan-Juwata A...\\'\\'ZacapÃº Airport\\'\\'Huayna PotosÃ\\\\xad M...\\'\\'Kutaisi Airport ...\\'\\'\\' Santiago-Antonio...\\'\\'\\' Parkersburg WV\\'\\'HonningsvÃ¥g-Val...\\'\\'Nyurba\\'\\'La Escalera\\'\\'Calcutta-Netaji ...\\'\\'Stadlerberg\\'\\'\\' Pohnpei\\'\\'\\' Velichovsky\\'\\'Cerro San NicolÃ...\\'\\'\\' Koh Samui Airpor...\\'\\'Al Abraq Air Bas...\\'\\'Manantiales MD\\'\\'\\' Libreville\\'\\'Sebring Air Term...\\'\\'Syktyvkar Airpor...\\'\\'southern Iran\\'\\'Punta Del Este A...\\'\\'\\' Nairobi-Jomo Ken...\\'\\'\\' Chalatenango\\'\\'Shakhtersk Airport\\'\\'San Ignace\\'\\'Villa GarzÃ³n Ai...\\'\\'\\' False Pass AK\\'\\'Isle Of Man-Rona...\\'\\'Annaba Airport (...\\'\\'Corowa Airport ...\\'\\'Straussberg ?\\'\\'Lima Internation...\\'\\'Little Vermillio...\\'\\'\\' MÃ©rida-A Carnev...\\'\\'\\' Belo Horizonte MG\\'\\'Vichy-Rolla Nati...\\'\\'Palembang Airpor...\\'\\'Qadisiyah Air Ba...\\'\\'Tuz Khurmatu Air...\\'\\'Al Bakr-Balad So...\\'\\'Beckley Airport ...\\'\\'\\' Gorontalo-Jalalu...\\'\\'\\' Ras Al Khafji\\'\\'Monrovia\\'\\'\\' Volos-NÃ©a Anchi...\\'\\'\\' Ã\\\\x89pinal-Mirecour...\\'\\'\\' Chihuahua Airpor...\\'\\'\\' Taisha\\'\\'OtÃº Airport (OTU)\\'\\'Puerto Williams ...\\'\\'\\' Cazombo\\'\\'Avon Park Munici...\\'\\'\\' Montevideo\\'\\'Shayka Mayhar Ai...\\'\\'Shaykh Mazhar Ai...\\'\\'\\' Shikoku Island\\'\\'Baghdad-Al Mutha...\\'\\'\\' Glenview Naval A...\\'\\'\\' Valera\\'\\'\\' Pinofranque\\'\\'\\' Malanje\\'\\'\\' San Diego-Brown ...\\'\\'\\' BrasÃ\\\\xadlia Intern...\\'\\'\\' Rash Mishab\\'\\'Navoi Airport (NVI)\\'\\'Puebla/Huejotzin...\\'\\'Yelahanka Air St...\\'\\'\\' Macas\\'\\'Kaliningrad-Khra...\\'\\'Thutade Lake BC\\'\\'\\' Brunswick-Glynco...\\'\\'Red Lake Airport...\\'\\'\\' Nuku Hiva Airpor...\\'\\'\\' Cocos Islands Ai...\\'\\'Brochet Airport ...\\'\\'Oxford-Waterbury...\\'\\'Hartford-Bradley...\\'\\'\\' Bowling Green KY\\'\\'Shreveport LA\\'\\'Cameron Lake BC\\'\\'\\' Manado-Sam Ratul...\\'\\'Beni Airport (BNC)\\'\\'Irkutsk-2 Airport\\'\\'Bauchi Airport (...\\'\\'\\' Phu Toey\\'\\'\\' Saint-Michel-des...\\'\\'\\' Matthewtown\\'\\'Slavonski Brod\\'\\'\\' Banyutanni\\'\\'Pratica di Mare ...\\'\\'\\' Puerto Plata-La ...\\'\\'Taegu Airport (TAE)\\'\\'\\' Perekopivka\\'\\'\\' Charallave-Ã\\\\x93sca...\\'\\'between Santa Ba...\\'\\'\\' Chute des Passes...\\'\\'\\' Simikot Airport ...\\'\\'Santa BÃ¡rbara d...\\'\\'\\' Sukhov-2-i Mikh...\\'\\'\\' Razdolnoye Ural...\\'\\'\\' Sokoto Airport (...\\'\\'Ljubljana-Brnik ...\\'\\'\\' Yartsevo\\'\\'Columbia-Maury C...\\'\\'Denver Internati...\\'\\'\\' Bellavista Airpo...\\'\\'\\' Birmingham Airpo...\\'\\'\\' Surkhet Airport ...\\'\\'\\' Jeddah-King Abdu...\\'\\'\\' Uraj Airport (URJ)\\'\\'In Guezzam Airpo...\\'\\'\\' Olpoi\\'\\'Piano di Crixia ...\\'\\'\\' Rarotonga Airpor...\\'\\'\\' Uricani\\'\\'Big Trout Airpor...\\'\\'\\' Dori Airport (DOR)\\'\\'\\' Petrel Sakhalin...\\'\\'\\' Imphal Municipal...\\'\\'\\' Ucharal\\'\\'Poliny Osipenko\\'\\'Minturno\\'\\'\\' Guryev\\'\\'Sibuyan Island ...\\'\\'\\' Sampit Airport (...\\'\\'\\' Long Seridan\\'\\'\\' Kota Kinabalu\\'\\'within southeastern Col...\\'\\'\\' Tenterfield NSW\\'\\'\\' Kigali\\'\\'Eagle Lake TX\\'\\'Varazdin\\'\\'Mount Arey\\'\\'Galcaio\\'\\'\\' Lensk Airport\\'\\'Belvidere Center...\\'\\'Osijek Airport (...\\'\\'Lombok\\'\\'\\' Khatanga Airport...\\'\\'Kiel-Holtenau Ai...\\'\\'\\' Saint Petersburg...\\'\\'Cazombo Airport ...\\'\\'\\' Jakarta-Halim Pe...\\'\\'Augusta State Ai...\\'\\'\\' Quirigua\\'\\'Calvi-Sainte Cat...\\'\\'Balashov Airfield\\'\\'Florence MT\\'\\'Shelopugino\\'\\'Tumbang Miri\\'\\'\\' East Sale VIC ...\\'\\'\\' CFS Alert NU (YLT)\\'\\'\\' Makhachkala Airp...\\'\\'Geneina Airport ...\\'\\'Grozny Airport (...\\'\\'\\' Dakovo\\'\\'\\' Destin FL\\'\\'\\' Fort Worth Allia...\\'\\'\\' Romeo MI\\'\\'\\' Yartsevo Yenise...\\'\\'Scotts Peak TAS\\'\\'\\' Komsomolsk-na-Us...\\'\\'Sena-Sofala\\'\\'within Papua New Guinea\\'\\'Milano-Parma Air...\\'\\'RiviÃ¨re-au-Saum...\\'\\'\\' GuaratinguetÃ¡ A...\\'\\'Lubbock Internat...\\'\\'Ã\\\\x89lancourt\\'\\'\\' Vukovar\\'\\'Nyurba ?\\'\\'\\' Rome-Richard B R...\\'\\'Suva-Nausori Air...\\'\\'Heidelberg-Hands...\\'\\'\\' Santiago de los ...\\'\\'\\' GottrÃ¶ra\\'\\'Dekelia/Tatoi Ai...\\'\\'\\' Wanli\\'\\'Velsk Airport\\'\\'Bundaberg Airpor...\\'\\'\\' Saranac Lake-Adi...\\'\\'Lyakhsh\\'\\'\\' Prato\\'\\'Komo Airport (KOM)\\'\\'VizcaÃ\\\\xadno MulegÃ©\\'\\'Cheju Airport (CJU)\\'\\'Elmira Regional ...\\'\\'\\' Strasbourg-Entzh...\\'\\'Poste Montagnais...\\'\\'\\' Dominica-Cane Fi...\\'\\'\\' Elefsis Air Base\\'\\'Batumi-Chorokh A...\\'\\'\\' Sinj\\'\\'\\' Turbo\\'\\'CaetitÃ© BA\\'\\'\\' Evansville-Dress...\\'\\'Dixon WY\\'\\'\\' Guryev Airport (...\\'\\'\\' Diouloulou\\'\\'\\' Toledo-Express A...\\'\\'Mallcu\\'\\'\\' Tlahualilo de Za...\\'\\'Bangui Airport (...\\'\\'Arequipa-Rodrigu...\\'\\'Teniente R. Mars...\\'\\'Eket airstrip\\'\\'Carolita Ranch\\'\\'Maasai Mara Nati...\\'\\'Estancia El Trom...\\'\\'Selawik Airport ...\\'\\'Wilmington-Airbo...\\'\\'\\' KIRN VOR\\'\\'\\' Etsouali\\'\\'\\' Knoxville-Mc Ghe...\\'\\'Zilina Airport (...\\'\\'Marzeno\\'\\'\\' Nizhneyansk\\'\\'Valley\\'\\'Stepanakert\\'\\'Swarupnagar\\'\\'Granada Airport ...\\'\\'\\' Boothgarh Ludhi...\\'\\'\\' Baykovo\\'\\'\\' Maaten al-Sarra\\'\\'\\' Orchid Island Ai...\\'\\'Goroka Gap\\'\\'Kyshik\\'\\'\\' Nairobi-Moi Air ...\\'\\'Perris Valley Ai...\\'\\'\\' Peruvian coast\\'\\'\\' Saveh\\'\\'Blewett Falls La...\\'\\'Cumuatillo Airstrip\\'\\'\\' Taymyr Lake\\'\\'Sisian Airport\\'\\'rural airstrip n...\\'\\'\\' TucutÃ\\\\xad\\'\\'\\' Mayaguez-Eugenio...\\'\\'Moscow-Vnukovo A...\\'\\'\\' Anniston-County ...\\'\\'Marromeu Airport...\\'\\'Sheboygan Falls WI\\'\\'Wilmington Airpo...\\'\\'Poltavskiy\\'\\'Pantelleria Airp...\\'\\'\\' Cruzeiro do Sul-...\\'\\'Cerro Copey\\'\\'\\' Batu Island\\'\\'Devonport Airpor...\\'\\'Sosnovyy Kostan...\\'\\'\\' Iyakachchi\\'\\'Jumla Airport (JUM)\\'\\'Reggio Calabria-...\\'\\'Ukrainsky\\'\\'\\' ConcepciÃ³n-Carr...\\'\\'BÃ¼chel\\'\\'Nakhichevan Airp...\\'\\'\\' \" Sana\\'a\"\\'\\' Colquitt LA\\'\\'Tbilisi-Novo Ale...\\'\\'Oostende Airport...\\'\\'\\' Skopje Airport (...\\'\\'\\' Ambon-Pattimura ...\\'\\'\\' Juba\\'\\'Sofia Airport (SOF)\\'\\'Icapara Iguape SP\\'\\'\\' Kathmandu-Tribhu...\\'\\'Rensselaer IN\\'\\'Lviv-Snilow Airp...\\'\\'\\' Schefferville QC\\'\\'Mt Chacaltaya\\'\\'Sokoto\\'\\'Homestead AFB F...\\'\\'\\' Hot Springs-Memo...\\'\\'\\' Ivanovo Airport ...\\'\\'\\' MetapÃ¡n\\'\\'within Guam\\'\\'Kaduna Airport (...\\'\\'Kharkov Airport ...\\'\\'Jamba Airport (JMB)\\'\\'\\' Sarajevo\\'\\'Bellavista Airpo...\\'\\'\\' Kechries\\'\\'\\' CuraÃ§ao Caribb...\\'\\'UmeÃ¥ Airport (UME)\\'\\'\\' Kalga Airstrip\\'\"Base Bernardo O\\'...\"\\'\\' Union Valley Res...\\'\\'Bijlmermeer Ams...\\'\\'\\' Berkeley Springs...\\'\\'Ruteng-Satar Tac...\\'\\'\\' Dingxi\\'\\'Mogadishu Airstrip\\'\\'\\' Kodra Makarov D...\\'\\'Kostanay\\'\\'Lake Caballochoa\\'\\'Mogadishu South ...\\'\\'\\' San Juan Ranch s...\\'\\'Patriot Hills Camp\\'\\'\\' Dania Beach FL\\'\\'\\' Tver-Migalovo Ai...\\'\\'Tulcea Airport (...\\'\\'\\' Son Trung\\'\\'San Luis Airport...\\'\\'\\' Guilin Airport (...\\'\\'Southampton-East...\\'\\'\\' Harlem MT\\'\\'Choibalsan Airpo...\\'\\'\\' Kushimoto\\'\\'Pogapa\\'\\'\\' Uruapan Airport ...\\'\\'Elkridge MD\\'\\'\\' Goma Airport (GOM)\\'\\'\\' Memmingen\\'\\'\\' Alotau\\'\\'Tolo Harbour\\'\\'Labuan Bajo-Muti...\\'\\'McCall Airport ...\\'\\'Faro Airport (FAO)\\'\\'Sierra Grande Ai...\\'\\'\\' Paradip Bay of ...\\'\\'Hibbing-Chisholm...\\'\\'\\' Paris-Charles de...\\'\\'\\' Hermosillo Airpo...\\'\\'\\' Surabaya Airport...\\'\\'Quebec Airport ...\\'\\'\\' Sellafield\\'\\'Kostanay-Nariman...\\'\\'Surabaya-Juanda ...\\'\\'Moscow-Tushino A...\\'\\'Lucknow (LKO)\\'\\'Bambu Airport (BCP)\\'\\'Al Taqaddum Air ...\\'\"Kinshasa-N\\'Dolo ...\"\\'Recife-Guararape...\\'\\'within Northern Sumatra\\'\\'Nairobi National...\\'\\'Kharasavey Airport\\'\\'Aurillac Airport...\\'\\'\\' Guvercinlik\\'\\'RzeszÃ³w-Jasionk...\\'\\'Gyumri-Leninakan...\\'\\'\\' Orchid Island\\'\\'Baffin Island NU\\'\\'Santa Rosa Airpo...\\'\\'Ã\\\\x89vreux-Fauville...\\'\\'Heidelberg Airpo...\\'\\'\\' Geilo-Dagali Air...\\'\\'\\' Hareto\\'\\'\\' CuiabÃ¡ MT\\'\\'Muang Khon Kaen\\'\\'Villahermosa-Car...\\'\\'\\' Isla de la Marga...\\'\\'\\' Shemya AK\\'\\'Stepanavan\\'\\'Great Barrier Is...\\'\\'\\' Lublin\\'\\'Viranschir\\'\\'Lucknow-Amausi A...\\'\\'Morioka-Hanamaki...\\'\\'Merced Municipal...\\'\\'\\' Zephyrhills Airp...\\'\\'Florencia Airpor...\\'\\'within Zavkhan Province\\'\\'Montpellier-Frej...\\'\\'\\' Luena\\'\\'\\' Aurangabad Airpo...\\'\\'Tashqurghan\\'\\'\\' Libreville Airpo...\\'\\'\\' Shelton NE\\'\\'Pine Bluff AR\\'\\'Muskegon Airport...\\'\\'Cayenne-Rochambe...\\'\\'Atalaya\\'\\'Edmonton/Villene...\\'\\'Blair Athol\\'\\'Kiriwina Island\\'\\'Gulgubip Airport...\\'\\'Green Island Air...\\'\\'Nabire Airport (...\\'\\'\\' Tbilisi\\'\\'\\' Manila-Ninoy Aqu...\\'\\'Mitwaba\\'\\'Samara Airport (...\\'\\'within El Venadito Rive...\\'\\'Aminius\\'\\'Johannesburg-Jan...\\'\\'Ramenskoye\\'\\'Mthatha\\'\\'Big Sand Lake Ai...\\'\\'\\' Bombay-Sahar Int...\\'\\'Topeka-Forbes Fi...\\'\\'Tofino Airport ...\\'\\'\\' Wainwright Airpo...\\'\\'Yinchuan Airport...\\'\\'\\' Mokpo Airport (MPK)\\'\\'Byers KS\\'\\'Boise Air Termin...\\'\\'Long Loyang Sar...\\'\\'\\' Bharatpur Airpor...\\'\\'\\' El Fasher Airpor...\\'\\'Moscow-Sheremety...\\'\\'\\' Valensole\\'\\'Yegoryevsk-Shuvo...\\'\\'Hartford-Brainar...\\'\\'\\' Iliamna AK\\'\\'\\' Slavgorod\\'\\'PÃ¡tras\\'\\'\\' Krasnoslobodsk ...\\'\\'Sinop Airport M...\\'\\'Hailey-Friedman ...\\'\\'\\' Boulder NV\\'\\'Al Ghaydah Airpo...\\'\\'\\' Weston on the Green\\'\\'\\' Khorog\\'\\'Strasbourg\\'\\'Barrancominas Ai...\\'\\'La Colina Airport\\'\\'Tijuana-Rodrigue...\\'\\'\\' Pecos NM\\'\\'\\' Port Blair\\'\\'Tanahmerah Airpo...\\'\\'Angora\\'\\'\\' Colquemarca\\'\\'Kiev Oslo\\'\\'Venice-Marco Pol...\\'\\'Troyes-Barberey ...\\'\\'\\' Tyumen Airport (...\\'\\'Novoalekseevskaya\\'\\'BesanÃ§on-La VÃ¨...\\'\\'\\' Gobernador Cresp...\\'\\'Kawthaung Airpor...\\'\\'Point Lay-Dew St...\\'\\'Jimi Valley\\'\\'Franz Josef Glacier\\'\\'Niamey Airport (...\\'\\'\\' Angra dos Reis RJ\\'\\'Front Royal VA\\'\\'Reno-Cannon Inte...\\'\\'\\' Namsos Airport (...\\'\\'Lokichoggio Airp...\\'\\'\\' Sandy Lake Airpo...\\'\\'Thorne Bay AK\\'\\'Bekdash\\'\\'\\' Urumqi Airport (...\\'\\'La Paragua\\'\\'\\' Ohrid Airport (OHD)\\'\\'\\' Molima\\'\\'Patriot Hills\\'\\'\\' Hibbing-Chisholm...\\'\\'\\' Umiujaq Airport ...\\'\\'Vahun\\'\\'\\' Tuktoyaktuk NT\\'\\'Chicago-Dupage C...\\'\\'\\' TucumÃ£ Airport ...\\'\\'Deer Lake Airpor...\\'\\'Tura Airport\\'\\'Berne-Belp Airpo...\\'\\'Milwaukee-Genera...\\'\\'Namatanai\\'\\'Ipoh Airport (IPH)\\'\\'Phonesavanh\\'\\'Vorogovo\\'\\'Douglas-Daly Exp...\\'\\'\\' Santa Ana-John W...\\'\\'\\' Goodland-Renner ...\\'\\'Tanag Libmanan ...\\'\\'Suwalki\\'\\'Sitia Airport (JSH)\\'\\'Linz Airport (LNZ)\\'\\'\\' Uraj\\'\\'\\' Margosatubig Za...\\'\\'Ampuriabrava Air...\\'\\'Xiamen Airport (...\\'\\'Cuamba Airport (...\\'\\'\\' Elorza Airport (...\\'\\'\\' Mamony\\'\\'Kuala Kapuas\\'\\'\\' \" Kinshasa-N\\'Djili...\"\\'Santa Elena Airs...\\'\\'\\' Meadow Lake Airp...\\'\\'Hangzhou Jianqia...\\'\\'Puerto Inirida A...\\'\\'New Roads-False ...\\'\\'Cark Airport\\'\\'Anadyr Airport (...\\'\\'MÃ¼nchen-Franz J...\\'\\'unknown airport\\'\\'\\' Nalchik Airport ...\\'\\'Cleveland-Cuyaho...\\'\\'\\' Uttoxeter\\'\\'\\' San JosÃ© del Ll...\\'\\'TrollhÃ¤ttan Air...\\'\\'Alicante Airport...\\'\\'Tumbes Airport (...\\'\\'\\' Tamworth Airport...\\'\\'Pointe Noire Air...\\'\\'\\' \" Val-d\\'Or Airport...\"\\'\\' Malindi\\'\\'\\' Cabinda\\'\\'Key West Harbor FL\\'\\'\\' La Macarena\\'\\'Wagete Irian Jaya\\'\\'Bassett-Rock NE\\'\\'Bassett NE\\'\\'Vigo Airport (VGO)\\'\\'Weipa Airport Q...\\'\\'\\' Mezhduretshensk\\'\\'Ciudad AlemÃ¡n A...\\'\\'Sevilla Airport ...\\'\\'Loma LozÃ¡n\\'\\'\\' Hiroshima West A...\\'\\'Malange Airport ...\\'\\'\\' Lokichoggio Airp...\\'\\'\\' Nangapinoh\\'\\'\\' Jacareacanga PA\\'\"M\\'Banza Congo Ai...\"\\'\\' El Rosal\\'\\'Up Park Camp\\'\\'\\' SÃ£o Gabriel da ...\\'\\'\\' BraganÃ§a\\'\\'Bloemspruit Air ...\\'\\'Palana\\'\\'\\' Bukoba Airport (...\\'\\'\\' Puerto Lleras\\'\\'Oktyabrsky\\'\\'CÃºcuta-Camilo D...\\'\\'Waukegan Memoria...\\'\\'\\' Xian-Xianyang In...\\'\\'Mount Kalora\\'\\'Taku Inlet AK\\'\\'Kirensk\\'\\'\\' Fort Simpson Air...\\'\\'Aichach\\'\\'Lyon Satolas Air...\\'\\'Tidjikja Airport...\\'\\'Dera Ismail Khan\\'\\'Sierra de Mariola\\'\\'\\' Sunder Nagar Hi...\\'\\'Bad Kirchheim\\'\\'\\' Lyakhovo\\'\\'Kherson Airport ...\\'\\'Boma Airport (BOA)\\'\\'\\' Fort de France-L...\\'\\'Luanda ??\\'\\'\\' Colon-Enrique A....\\'\\'\\' Saborsko\\'\\'Purnema Arkhang...\\'\\'Eskisehir Airpor...\\'\\'Grenchen Airport...\\'\\'Olyokminsk Airport\\'\\'\\' North Adams-Harr...\\'\\'\\' Bada Air Base\\'\\'Jeju (Cheju) Int...\\'\\'\\' Pearblossom CA\\'\\'Verkhnya Tavda\\'\\'Helena Airport ...\\'\\'\\' Tizounine\\'\\'New Orleans-Lake...\\'\\'Puerto Pisana\\'\\'\\' Aliquippa PA\\'\\'Reno/Tahoe Inter...\\'\\'Samoyliha Shatu...\\'\\'\\' Abuja Internatio...\\'\\'Fish Egg Inlet BC\\'\\'Oradea Airport (...\\'\\'\\' TarauacÃ¡ AC\\'\\'\\' Vanavara\\'\\'Pontianak Airpor...\\'\\'Bahia Negra Airp...\\'\\'Elista Airport (...\\'\\'Chaybukha\\'\\'Denpasar-Ngurah ...\\'\\'\\' Natanz\\'\\'Formosa do Rio P...\\'\\'within HuÃ¡nuco\\'\\'\\' Ust-Ilimsk Airpo...\\'\\'Batagay\\'\\'\\' Roselawn IN\\'\\'Oslo-Gardermoen ...\\'\\'Kajaani Airport ...\\'\\'Saposoa Airport ...\\'\\'Huambo-Albano Ma...\\'\\'Avenal CA\\'\\'\\' Canobie QLD\\'\\'\\' Tabubil\\'\\'Tallinn-Ulemiste...\\'\\'Rothera Research...\\'\\'Puerto la Victor...\\'\\'\\' Majuro Marshall...\\'\\'\\' Oslo-Gardermoen ...\\'\\'Nuuk Airport (GOH)\\'\\'Oyem Airport (OYE)\\'\\'\\' Minami-Daito Island\\'\\'Fresno CA\\'\\'Lobito Airport\\'\\'Farmington Munic...\\'\\'\\' Olsobip\\'\\'Cerro Aicha\\'\\'\\' Kiri Kasama\\'\\'\\' Coventry-Baginto...\\'\\'Vrede\\'\\'\\' Van Airport (VAN)\\'\\'Sarajevo Airport...\\'\\'Bili\\'\\'Port Sudan Airpo...\\'\\'\\' Isfahan-Shahid B...\\'\\'Ã\\\\x85lesund-Vigra A...\\'\\'Toogoolawah Airp...\\'\\'Molo Strait\\'\\'\\' Maria La Baja\\'\\'\\' Flagstaff-Pullia...\\'\\'\\' Masset Airport ...\\'\\'Newton Municipal...\\'\\'Pleasanton CA\\'\\'Tobolsk Airport ...\\'\\'\\' NeuquÃ©n NE\\'\\'North Angola\\'\\'\\' Lubbock Internat...\\'\\'\\' Krasnoyarsk Airp...\\'\\'\\' Provedenia Airpo...\\'\\'Allendorf\\'\\'Paungassi MN\\'\\'Koundara-Sambail...\\'\\'\\' Cafunfo Airport ...\\'\\'Almaty Airport (...\\'\\'Mys Shmidta Airport\\'\\'Kuala Lumpur Int...\\'\\'Grajewo\\'\\'\\' Gostomel\\'\\'Wauchula FL\\'\\'Kansas City Inte...\\'\\'\\' Oki Island\\'\\'\\' Big Trout Airpor...\\'\\'Jasper-Hinton Ai...\\'\\'\\' Gainesville-Lee ...\\'\\'Gillette-Campbel...\\'\\'Bom Jesus AC\\'\\'Lac Manitou QC\\'\\'\\' Baku\\'\\'\\' Ossora Airport\\'\\'Cap Haitien Airp...\\'\\'Tawau Airport (TWU)\\'\\'Lac Bondesir QC\\'\\'\\' Masirah Airport ...\\'\\'Bandung-Husein S...\\'\\'\\' Bucharest-Otopen...\\'\\'\\' Kenema Airport (...\\'\\'\\' Iquitos Airport ...\\'\\'Palana Airport\\'\\'\\' Occhiatana\\'\\'Santo Domingo-He...\\'\\'Espinal-Aguablan...\\'\\'LuziÃ¢nia Airpor...\\'\\'Tyugalbuga Nova...\\'\\'Dzhambul Airport...\\'\\'Kikwangala\\'\\'Lima-J Chavez In...\\'\\'\\' Alexander City A...\\'\\'Kivalina Airport...\\'\\'Qom\\'\\'\\' Apolo\\'\\'\\' San Salvador-Com...\\'\\'Halifax-Canadian...\\'\\'Walkers Cay Airp...\\'\\'\\' Alice Springs Ai...\\'\\'\\' Jaffna-Palaly AF...\\'\\'Sioux Falls ON\\'\\'Naha Airport (NAH)\\'\\'Taguatinga Airpo...\\'\\'\\' Sibay Airport B...\\'\\'Comayagua-Palmer...\\'\\'Lukapa Airport (...\\'\\'Jayapura-Sentani...\\'\\'Bliss Canyon ID\\'\\'\\' Lossiemouth\\'\\'Vitoria Airport ...\\'\\'Rogers Municipal...\\'\\'Nixon Fork Mine AK\\'\\'Lielvarde Air Base\\'\\'Hohenems Airport...\\'\\'\\' Palmerston North\\'\\'Magdalena de Kin...\\'\\'\\' Volgograd\\'\\'Taitung Airport ...\\'\\'Jeremie Airport ...\\'\\'Keperveyem Airport\\'\\'\\' Herpuchi\\'\\'\\' Catumbela Airpor...\\'\\'\\' Ramona CA\\'\\'Hakodate Airport...\\'\\'\\' La Romana\\'\\'Pastaza-Shell AFB\\'\\'Baroda (Vadodara...\\'\\'Medouneu Airport...\\'\\'\\' Alotau-Gurney Ai...\\'\\'\\' Zelyony Log\\'\\'Bintuni Airport ...\\'\\'\\' Independence NY\\'\\'Denver-Arapahoe ...\\'\\'Denver-Centennia...\\'\\'\\' Karimui Airport ...\\'\\'Minneapolis-Flyi...\\'\\'Fane Airport (FNE)\\'\\'\\' Labuan Airport (...\\'\\'Hangzhou Airport...\\'\\'Kumawa Mountains\\'\\'\\' San Salvador\\'\\'Sierras Grandes CD\\'\\'Mezhdurechensk\\'\\'Nikolai Airport ...\\'\\'\\' Toez\\'\\'Cape Town Intern...\\'\\'Haifa Airport (HFA)\\'\\'\\' Carrollton GA\\'\\'Rasdhoo Ari Atoll\\'\\'Posadas Airport ...\\'\\'\\' Thessaloniki Int...\\'\\'Murray Island Ai...\\'\\'\\' Farewell AK\\'\\'\\' Toronto ON\\'\\'\\' Sydney NSW\\'\\'Montserrat ?\\'\\'\\' Colombo\\'\\'Wilcze Gardlo\\'\\'\\' waypoint GURKA\\'\\'Saint Thomas-Cyr...\\'\\'South Bend Regio...\\'\\'Skopje\\'\\'Ovda Airport (VDA)\\'\\'Salvesen Lake ON\\'\\'Choho Geologloh Uul\\'\\'In Amenas Airpor...\\'\\'Gruenerwinkel Mo...\\'\\'\\' Campbell River BC\\'\\'Gunung Antara\\'\\'\\' Cahors\\'\\'Male Internation...\\'\\'\\' Marunga\\'\\'Bole\\'\\'\\' Ponta Delgada-No...\\'\\'\\' Ufa Airport (UFA)\\'\\'\\' Piedras Negras A...\\'\\'Shymkent\\'\\'\\' Cabu San Lucas\\'\\'Mosque Airstrip BC\\'\\'\\' Villa Dolores CD\\'\\'East Granby CT\\'\\'Guadalajara Inte...\\'\\'\\' Jaffna-Palaly AFB\\'\\'Urumano\\'\\'\\' Jaffna\\'\\'UncÃ\\\\xada Airport\\'\\'\\' SantarÃ©m Airpor...\\'\\'Makovskoye Airfield\\'\\'\\' Baku Airport (BAK)\\'\\'\\' Nakhichevan Airp...\\'\\'Verkhnyaya Toyma\\'\\'Mactan\\'\\'\\' Grossevichi\\'\\'\\' Verona Airport (...\\'\\'\\' Cahungula Lunda...\\'\\'Ingleside-McCamp...\\'\\'Buga\\'\\'Begesin Airstrip\\'\\'Rancagua\\'\\'Novy Urengoy Air...\\'\\'Novy Bor Airstrip\\'\\'Saransk\\'\\'\\' Eagle River Airp...\\'\\'\\' Marco Island Air...\\'\\'Augsburg Airport...\\'\\'Spokane Internat...\\'\\'Nashville Intern...\\'\\'\\' Kano-Aminu Kano ...\\'\\'RincÃ³n de Los S...\\'\\'Harare Airport (...\\'\\'\\' Blenheim\\'\\'Nairobi-Wilson A...\\'\\'Fazenda Matary MA\\'\\'Luremo Airstrip\\'\\'\\' Saint Johns Muni...\\'\\'\\' Puerto Plata Do...\\'\\'\\' Ensenada Airport...\\'\\'\\' Kawatana\\'\\'Port-au-Prince-M...\\'\\'Morelia Airport ...\\'\\'El Zapotal CobÃ...\\'\\'\\' Freilassing\\'\\'\\' Baia Mare Airpor...\\'\\'\\' Omsk\\'\\'\\' Bulwer\\'\\'Ban Lung-Ratanak...\\'\\'\\' Jabal Awliya\\'\\'\\' Lukapa\\'\\'\\' Arequipa-Rodrigu...\\'\\'Aarhus-Tirstrup ...\\'\\'Halifax Internat...\\'\\'\\' Bagua\\'\\'Zhuhai Airport (...\\'\\'Soroako Airport ...\\'\\'\\' NjarÃ°vÃ\\\\xadk\\'\\'Kuli Papa\\'\\'Datadawai Airpor...\\'\\'Derna-Martuba Ai...\\'\\'Nain Airport NL...\\'\\'\\' Dubrovnik Airpor...\\'\\'Barisal Airport ...\\'\\'\\' Matsu Airport (MFK)\\'\\'\\' Nouadhibou\\'\\'Virgin Gorda Air...\\'\\'Currumbin QLD\\'\\'Kuujjuarapik Air...\\'\\'\\' Anadyrsky Liman\\'\\'Zhuravka Verhne...\\'\\'Palapala hills ...\\'\\'Meghauli Airport...\\'\\'Preah Vihear pro...\\'\\'Albuquerque Inte...\\'\\'\\' Haj Yousif\\'\\'St. George Islan...\\'\\'Kenty Lake QC\\'\\'\\' Terrace BC\\'\\'Santa Maria de O...\\'\\'\\' Andoas\\'\\'\\' Umba\\'\\'\\' Linz\\'\\'Tampico-Gen F Ja...\\'\\'Treasure Cay Air...\\'\\'Fargo-Hector Fie...\\'\\'\\' Broome WA\\'\\'Kanpur Airport (...\\'\\'\\' Lerwick/Tingwall...\\'\\'Holitipu Airstrip\\'\\'Ping Tung Air Base\\'\\'RibeiÃ£o Preto-L...\\'\\'Pisa\\'\\'\\' Rasht Airport (RAS)\\'\\'\\' Yambio\\'\\'Gorkaya Balka S...\\'\\'Hoogeveen\\'\\'\\' Cochenour ON\\'\\'\\' Madaniat\\'\\'\\' Jos Airport (JOS)\\'\\'Cut and Shoot TX\\'\\'\\' Weir TX\\'\\'\\' Changhai Airport...\\'\\'\\' BouaflÃ©\\'\\'Bamako Airport (...\\'\\'Villa Gladys Air...\\'\\'San Vicente de C...\\'\\'\\' Mendi Airport (MDU)\\'\\'Ambon-Pattimura ...\\'\\'\\' Kanda\\'\\'PrÃ©veza-Aktion ...\\'\\'Eindhoven Airpor...\\'\\'\\' East Moriches NY\\'\\'\\' Kalemie\\'\\'Playa del Carmen...\\'\\'Enstone Airfield\\'\\'Russian Mission ...\\'\\'Rosh Pinah\\'\\'Myeik Airport (MGZ)\\'\\'Oran-Es Senia Ai...\\'\\'Atar\\'\\'Lago Fanaco\\'\\'Czama Dabrowska\\'\\'Tlemcen Airport...\\'\\'Lubi\\'\\'\\' Faroe Islands-Va...\\'\\'Luzamba Airport ...\\'\\'\\' Offenburg Airport\\'\\'Auca Mahuida NE\\'\\'Markham Bay NU\\'\\'Northolt Airport...\\'\\'\\' Bronson Creek Ai...\\'\\'Sovetskoye\\'\\'\\' Jackson Hole WY\\'\\'\\' Alliford Bay BC\\'\\'Pelinia\\'\\'\\' Svalbard-Longyea...\\'\\'\\' Queloz SP\\'\\'Bryansk Airport ...\\'\\'\\' Pittsburgh Inter...\\'\\'BahÃ\\\\xada Tortugas ...\\'\\'Ngau Island Airp...\\'\\'\\' Den Oever\\'\\'Ilaga Airport (ILA)\\'\\'Hampton Court\\'\\'\\' Lima Peru\\'\\'\\' Kahemba\\'\\'\\' Morelia Airport ...\\'\\'San Francesco al...\\'\\'Liberec\\'\\'Taraira Airfield\\'\\'Cuiaba Airport ...\\'\\'\\' Manta Airport (MEC)\\'\\'Puvirnituq Airpo...\\'\\'Chicago-Executiv...\\'\\'Gods River Airpo...\\'\\'Ust-Nera Airport...\\'\\'\\' Ejirin\\'\\'\\' Charki Dadri\\'\\'\\' Charkhi Dadri\\'\\'Most Pyssa\\'\\'Naga Airport (WNP)\\'\\'Caruaru PE\\'\\'\\' Richmond RAAF Ba...\\'\\'Quincy Municipal...\\'\\'Baykit\\'\\'\\' Cape Mendocino ...\\'\\'\\' Mitsamiouli Gra...\\'\\'\\' Bethel AK\\'\\'\\' Abakan Airport (...\\'\\'\\' Ebini\\'\\'Bronzewing Airpo...\\'\\'San Jose-McGuire...\\'\\'Ciudad del Este-...\\'\\'Nyagan Airport\\'\\'Fort Chipewyan A...\\'\\'\\' Stephenville Air...\\'\\'Boguchany\\'\\'Chevilly\\'\\'\\' Andreapol Air Base\\'\\'Villahermosa-Cap...\\'\\'\\' Rionegro/MedellÃ...\\'\\'\\' Narrows VA\\'\\'\\' Dorchester NH\\'\\'Dubagunta\\'\\'Kamur Airport (KCD)\\'\\'Kalima-Kakungwa ...\\'\\'\\' Edenton Municipa...\\'\\'Nakina Airport ...\\'\\'Bullhead City AZ\\'\\'\\' \" Apia-Fagali\\'i Ai...\"\\'\\' Monroe MI\\'\\'Djerba-Zarzis Ai...\\'\\'Kananga Airport ...\\'\\'Muscatine Airpor...\\'\\'\\' Uberaba Airport ...\\'\\'\\' Jaffna-Palaly Ai...\\'\\'Nelson Airport (...\\'\\'Nuevo Laredo Int...\\'\\'Chokurdah Airpor...\\'\\'\\' Sparrevohn Airpo...\\'\\'\\' Shushenskoye\\'\\'\\' Yola Airport (YOL)\\'\\'Tambacounda Airp...\\'\\'Mount Balatukan\\'\\'\\' Quibaxe\\'\\'Uruapan Airport ...\\'\\'Antigua-V.C. Bir...\\'\\'\\' Salta Internatio...\\'\\'Guangzhou Airpor...\\'\\'CarajÃ¡s Airport...\\'\\'Greenville Downt...\\'\\'Charallave-Ã\\\\x93sca...\\'\\'\\' Salt Lake City I...\\'\\'Vilhena Airport ...\\'\\'La Ceiba-Goloson...\\'\\'Ardebil\\'\\'Barrie-Orillia L...\\'\\'Vavunativu Army ...\\'\\'\\' Hampton GA\\'\\'\\' La Felisa\\'\\'\\' Guapiles\\'\\'Abu Dhabi Intern...\\'\\'Houston-Sugar La...\\'\\'\\' Mashhad\\'\\'Newton WI\\'\\'\\' Cherkessk\\'\\'\\' Juba Airport (JUB)\\'\\'\\' Nunapitchuk Airp...\\'\\'Pucallpa Airport...\\'\\'Griffin-Spalding...\\'\\'\\' Wainwright AK\\'\\'Abidjan Airport ...\\'\\'Verkhnevilyuisk ...\\'\\'Brazzaville-Maya...\\'\\'\\' Niamey Airport (...\\'\\'Ossabaw Island GA\\'\\'\\' Tanjung Pandan-B...\\'\\'Blandburg PA\\'\\'\\' KÃ¢mpÃ³ng Chhnang\\'\\'Paros Airport (PAS)\\'\\'Shenzhen Airport...\\'\\'Steynsburg\\'\\'Porto-Francisco ...\\'\\'\\' Gyandzha Airport...\\'\\'Great Falls Inte...\\'\\'\\' Monterrey-Aeropu...\\'\\'\\' La Carbonera\\'\\'\\' Luquillo\\'\\'\\' Gorda AFB\\'\\'\\' Luanda Airport (...\\'\\'Phaplu Airport (...\\'\\'Wuhan Airport (WUH)\\'\\'\\' Irumu\\'\\'Mandalgobi Airpo...\\'\\'Ottawa/Macdonald...\\'\\'\\' Yelizavetinskoye\\'\\'\\' Venetie AK\\'\\'White Plains-Wes...\\'\\'\\' Madh Island\\'\\'\\' Suzano SP\\'\\'Beiersdorf\\'\\'Bandung\\'\\'\\' Goroka Airport (...\\'\\'Naknek Airport ...\\'\\'\\' Ranong\\'\\'Elko NV\\'\\'Serra da Mantiqu...\\'\\'Florence-Peretol...\\'\\'San Vincente Res...\\'\\'\\' Guam-Agana Inter...\\'\\'Fajardo Airport ...\\'\\'Franceville/Mven...\\'\\'Thessaloniki Int...\\'\\'\\' Dalton Municipal...\\'\\'\\' Cocal do Sul SC\\'\\'Gan Gan Airport NT\\'\\'San CristÃ³bal A...\\'\\'Punta PÃ¡jaros\\'\\'Aberdeen MS\\'\\'Bondo Airport\\'\\'\\' Miri Airport (MYY)\\'\\'Beijing-Capital ...\\'\\'Nejran Airport (...\\'\\'Buckland Airport...\\'\\'Nguru\\'\\'Minembwe Mountains\\'\\'\\' Namibia\\'\\'Chania-SoÃºda Ai...\\'\\'\\' Medan-Polonia Ai...\\'\\'\\' Montrose CO\\'\\'\\' Nuevo Berlin\\'\\'\\' Banjul\\'\\'\\' Jamba\\'\\'Ambato-Chachoan ...\\'\\'Jakarta-Soekarno...\\'\\'Sheboygan Memori...\\'\\'Canela Airport RS\\'\\'Island Lake/Gard...\\'\\'Pokhara Airport ...\\'\\'West Memphis AR\\'\\'Bryansk Internat...\\'\\'\\' Simbai\\'\\'Madison MS\\'\\'RÃ\\\\xado Grande Airp...\\'\\'Mwanza Airport (...\\'\\'La Ceiba\\'\\'North Bay Airpor...\\'\\'Billings-Logan I...\\'\\'Webequie Airport...\\'\\'\\' Irkutsk-2 Airport\\'\\'Sioux Lookout Ai...\\'\\'Little Grand Rap...\\'\\'Naryan-Mar Airpo...\\'\\'La Vertiente\\'\\'Fredericton Airp...\\'\\'\\' Thessaloniki\\'\\'\\' Guerrero Negro\\'\\'Pastra Mountain\\'\\'Colorado Springs...\\'\\'\\' Sylhet Civil Air...\\'\\'between Abidjan ...\\'\\'\\' Rio Sidra Airpor...\\'\\'Lubang Airport (...\\'\\'Monterrey-Genera...\\'\\'Gogrial\\'\\'eastern Bolivia\\'\\'Haina ?\\'\\'Puerto Plata-La ...\\'\\'\\' Tampico-Gen F Ja...\\'\\'Malololailai Air...\\'\\'Maiden-Little Mo...\\'\\'Khojak Pass\\'\\'\\' Brno-Turany Airp...\\'\\'\\' Houston-George B...\\'\\'Lloydminster Air...\\'\\'Alghero-Fertilia...\\'\\'Saranac Lake-Adi...\\'\\'\\' Port Heiden Airp...\\'\\'\\' Cagayan de Oro-L...\\'\\'George Town-Exum...\\'\\'\\' Navafria\\'\\'\\' ChambÃ©ry Airpor...\\'\\'Stornoway Airpor...\\'\\'Beaumont-Jeffers...\\'\\'St. Moritz-Samed...\\'\\'Nasir Airport\\'\\'Oakdale Airport ...\\'\\'Manistee-Blacker...\\'\\'\\' Clarksville TN\\'\\'\\' La Ceiba-Goloson...\\'\\'Mombasa-Moi Inte...\\'\\'Hwange Airport (...\\'\\'CistÃ©rniga\\'\\'\\' Hsinchu Airport ...\\'\\'Orlando Executiv...\\'\\'\\' Piura Airport (PIU)\\'\\'\\' Zumpango\\'\\'Marietta GA\\'\\'\\' Bismarck Municip...\\'\\'GÃ¶dÃ¶llo Airport\\'\\'\\' Resende Airport ...\\'\\'La Lope\\'\\'\\' Vaalwater\\'\\'\\' Calhoun GA\\'\\'Barra de Tijuca ...\\'\\'\\' NÃ©ma Airport (EMN)\\'\\'\\' Nome Airport AK...\\'\\'Kendari Airport ...\\'\\'Hyderabad Airpor...\\'\\'\\' Long Tieng Xian...\\'\\'\\' Erdenet\\'\\'Santa FÃ©-Sauce ...\\'\\'Montreal-Mirabel...\\'\\'Fishers Island-E...\\'\\'Valencia Airport...\\'\\'\\' Abidjan Airport ...\\'\\'Hog River Airpor...\\'\\'\\' Reserve NM\\'\\'\\' Bucharest\\'\\'\\' Magan\\'\\'\\' \" Ra\\'sal-Khaymah\"\\'\\' Florence KS\\'\\'Pushkin\\'\\'\\' Pelly Bay NU\\'\\'Rawlins Airport ...\\'\\'Saravena\\'\\'Baie de Quiberon\\'\\'\\' Kunduz Airport (...\\'\\'Goma\\'\\'Kitona\\'\\'Kasabonika Airpo...\\'\\'Saurimo Airport ...\\'\\'\\' Lunocharski\\'\\'Batam-Hang Nadim...\\'\\'\\' Ghorepani\\'\\'Pretoria-Wonderb...\\'\\'\\' Tachilek Airport...\\'\\'Leticia-Alfredo ...\\'\\'\\' Luanda\\'\\'\\' \" Peggy\\'s Cove NS\"\\'\\' Malanje Airport ...\\'\\'Malabo Airport (...\\'\\'George West-Live...\\'\"Saint Mary\\'s Air...\"\\'Guadalajara-Migu...\\'\\'within Chiapas state\\'\\'\\' Mona Island\\'\\'Equador Loreto ...\\'\\'\\' Melilla Airport ...\\'\\'Rwenzori mountains\\'\\'Fairoaks Airport\\'\\'Praia-Francisco ...\\'\\'\\' Mannar\\'\\'Maputo Internati...\\'\\'Missoula-Johnson...\\'\\'Zell am Zee\\'\\'\\' Indian Church\\'\\'\\' Rio Rancho NM\\'\\'\\' Fortaleza-Pinto ...\\'\\'\\' Lubutu\\'\\'Wallops Island VA\\'\\'\\' Quetzaltenango\\'\\'\\' Sommerhausen\\'\\'\\' Victoria Interna...\\'\\'Kalemie Airport ...\\'\\'Warri\\'\\'Ashburton\\'\\'\\' Mena Intermounta...\\'\\'Iqaluit Airport ...\\'\\'Baie Comeau Airp...\\'\\'\\' Surat Thani Airp...\\'\\'Nixon Fork Mine ...\\'\\'Vila Nova\\'\\'\\' Cafunfo\\'\\'Curitiba-Afonso ...\\'\\'Zrenjanin\\'\\'Pancevo\\'\\'Kilimanjaro Airp...\\'\\'Saint-Augustin R...\\'\\'\\' Arakkonam Naval ...\\'\\'Mayne Island BC\\'\\'Olbia-Costa Smer...\\'\\'Geilenkirchen Ai...\\'\\'Cullman AL\\'\\'\\' Coconut Island A...\\'\\'\\' Bluefields Airpo...\\'\\'Hyannis-Barnstab...\\'\\'San Blas Airport...\\'\\'\\' Luanda-4 de Feve...\\'\\'Porto Velho-Aero...\\'\\'\\' Kimbe\\'\\'Bratislava-Ivank...\\'\\'Kinmen-Shang-Yi ...\\'\\'\\' \" Saint Mary\\'s AK\"\\'Grenouillet\\'\\'Foxtrot Airstrip\\'\\'Columbus Airport...\\'\\'Ruian\\'\\'Muskoka Airport ...\\'\\'Pohang Airport (...\\'\\'Mucuri Airport ...\\'\\'\\' Davis Inlet Airp...\\'\\'Bata Airport (BSG)\\'\\'Rhodes-Diagoras ...\\'\\'Rogers AR\\'\\'TapauÃ¡ Airport AM\\'\\'Goroka Airport (...\\'\\'\\' Ceyhan\\'\\'RibeirÃ£o Preto-...\\'\\'\\' MÃ¡laga Airport\\'\\'Simiti\\'\\'\\' Irati PR\\'\\'\\' ClÃ©cy\\'\\'Johannesburg\\'\\'Fituita Airport ...\\'\\'\\' Healy AK\\'\\'Mandera Airport ...\\'\\'Waterfound Lake SK\\'\\'\\' Port Vila\\'\\'Loma Bonita Air ...\\'\\'\\' Luzamba\\'\\'Hickory Airport ...\\'\\'Naser Abad\\'\\'El Paraiso Ranch\\'\\'Bemidji Airport ...\\'\\'BerbÃ©rati Airpo...\\'\\'Leskovac\\'\\'Kuching Airport ...\\'\\'Ol Kiombo\\'\\'Zhanjiang Airpor...\\'\\'\\' Coron Airport (XCN)\\'\\'Kukes\\'\\'Thunder Bay Airp...\\'\\'\\' Goroka\\'\\'within Xinjiang Province\\'\\'\\' Agen-La Garenne ...\\'\\'Porthcurno Airstrip\\'\\'Long Haul Lake MB\\'\\'Seraing\\'\\'Middle Wallop Ar...\\'\\'Chengdu Airport ...\\'\\'Luzamba\\'\\'\\' Sittwe-Civil Air...\\'\\'Toluca Airport (...\\'\\'\\' Bluefields\\'\\'\\' Orito\\'\\'\\' Delailasakau\\'\\'Arusha Airport (...\\'\\'\\' Rhodes/Paradisi-...\\'\\'\\' Brazzaville\\'\\'Arauca-Santiago ...\\'\\'Santo AntÃ£o Island\\'\\'Ketchikan-Waterf...\\'\\'\\' Ran of Kutch\\'\\'\\' Sept-Ã\\\\x8eles Airpo...\\'\\'Hillsborough NH\\'\\'Lobutu\\'\\'\\' Port Alsworth AK\\'\\'Hong Kong-Chek L...\\'\\'Hualien Airport ...\\'\\'\\' Turtkul Airport\\'\\'Gulkana Airport ...\\'\\'Kopiago Fugwa\\'\\'\\' Adwa\\'\\'Santa Rosa\\'\\'Caen-Carpiquet A...\\'\\'Newcastle-Willia...\\'\\'Gerona-Costa Bra...\\'\\'\\' Monte Dourado Ai...\\'\\'FIR Bucharest\\'\\'\\' Zempoala\\'\\'Tulln/Langenleba...\\'\\'Gainesville-Lee ...\\'\\'Pekanbaru-Simpan...\\'\\'Norfolk Island A...\\'\\'Gaborone-Sir Ser...\\'\\'Ranger Lake ON\\'\\'\\' Milano-Parma Air...\\'\\'Mitton Airstrip\\'\\'Subic Bay Intern...\\'\\'Fayetteville Reg...\\'\\'Golfo di Genova\\'\\'\\' Aberdeen SD\\'\\'Urmia (Orumiyeh)...\\'\\'\\' Pasni\\'\\'Mbandaka Airport...\\'\\'\\' La MontaÃ±ita C...\\'\\'\\' Mitrovica\\'\\'\\' Tshikapa\\'\\'Anguilla-Wallbla...\\'\\'Benguela-Gen V D...\\'\\'Kwando Airstrip\\'\\'Matak-Tarempa Ai...\\'\\'\\' Bethel Airport ...\\'\\'Kasibu\\'\\'\\' JoÃ£o Pessoa PB\\'\\'\\' Branson/Point Lo...\\'\\'SÃ£o Jorge Islan...\\'\\'\\' McMurdo Station\\'\\'Gouldsboro PA\\'\\'Wichita-Cessna A...\\'\\'Hamburg Aerodrom...\\'\\'\\' Crisp County-Cor...\\'\\'\\' Great Hallingbury\\'\\'\\' Adjuntas\\'\\'\\' Simra Airport (SIF)\\'\\'Bejuma\\'\\'Villacoublay/Vel...\\'\\'La FertÃ©-Alais\\'\\'\\' Abbotsford Airpo...\\'\\'\\' Inebolu\\'\\'Saint-BarthÃ©lÃ©...\\'\\'Abuja Internatio...\\'\\'\\' Penang Internati...\\'\\'\\' Nassenwil\\'\\'\\' Marsa el-Brega\\'\\'Chimore Airport\\'\\'Guayaquil-Simon ...\\'\\'\\' Anacapa Island CA\\'\\'Envira AM\\'\\'\\' Mwanza Airport (...\\'\\'Filitheyo Seapla...\\'\\'\\' Maputo Internati...\\'\\'\\' Sacramento-Mathe...\\'\\'Sapporo-Okadama ...\\'\\'an airstrip \\'...\\'\\'Vijaynagar\\'\\'Fuzhou Changle I...\\'\\'\\' Carreto\\'\\'Ennadai Lake Air...\\'\\'Killeen Municipa...\\'\\'\\' Cubillejo Provi...\\'\\'Fox Harbour Airp...\\'\\'\\' Buda TX\\'\\'\\' Anuradhapura Air...\\'\\'\\' GualeguaychÃº ER\\'\\'Marianna Municip...\\'\\'Minatitlan Airpo...\\'\\'Tomuzlovskoe Bu...\\'\\'\\' Davao City-Franc...\\'\\'Pepa\\'\\'\\' Bukavu\\'\\'Siirt Airport (SXZ)\\'\\'Hancock-Houghton...\\'\\'Bapi Airport (BPD)\\'\\'\\' Kurupung Airport...\\'\\'Monument Valley ...\\'\\'\\' Kaunakakai HI\\'\\'Bocas Del Toro A...\\'\\'\\' Goderich ON\\'\\'\\' Moanda Airport (...\\'\\'\\' Wilkes-Barre PA\\'\\'Erave Airport (ERE)\\'\\'\\' Leopoldsburg Air...\\'\\'Lima-25 airstrip\\'\\'Kamituga Airport\\'\\'\\' Peterborough Air...\\'\\'Kauai Island/Lih...\\'\\'Gisborne Airport...\\'\\'Astrakhan-Privol...\\'\\'\\' Boca Raton FL\\'\\'\\' Shimano\\'\\'\\' Yellowknife Wate...\\'\\'Tacheng Xinjian...\\'\\'\\' Cagayancillo\\'\\'Amman-Queen Alia...\\'\\'\\' ChulÃºm de JuÃ¡rez\\'\\'\\' Pelion Mountain ...\\'\\'\\' Patna Airport (PAT)\\'\\'\\' Chisinau\\'\\'\\' Linneus ME\\'\\'\\' Mafraq-King Huss...\\'\\'Jarayakhali Hill\\'\\'\\' Kulu-Bhuntar Air...\\'\\'Stevens/Nicklin ...\\'\\'within North-Yenisey\\'\\'Michimahuida Vol...\\'\\'Greensboro NC\\'\\'General Acha LP\\'\\'Spanish Cay Airport\\'\\'Teslin Lake BC\\'\\'\\' Ironwood-Gogebic...\\'\\'Kisangani Airpor...\\'\\'Baku-Bina Intern...\\'\\'\\' Porecatu PR\\'\\'\\' Bahrain Internat...\\'\\'\\' Freetown-Lungi I...\\'\\'Rosario-Islas Ma...\\'\\'Arenal Volcano\\'\\'\\' Pueblo Rico Ris...\\'\\'\\' Burketown QLD\\'\\'Rio Sidra Airpor...\\'\\'\\' Aubenas\\'\\'San Pablo-Coasel...\\'\\'Hail Airport (HAS)\\'\\'Mbambanakira Air...\\'\\'\\' Cuba\\'\\'\\' Greenville ME\\'\\'La Grande-LG-4 a...\\'\\'Jinan Airport (TNA)\\'\\'Petrel-Burevestn...\\'\\'Reynosa-Gen Luci...\\'\\'\\' Port Radium NT\\'\\'Lummi Island WA\\'\\'Malaga\\'\\'Red Deer Airport...\\'\\'\\' Sam Neua\\'\\'Concord-Buchanan...\\'\\'\\' Blumberg\\'\\'Jedo Village ne...\\'\\'\\' Mona Quimbundo\\'\\'Cheboksary Airpo...\\'\\'Luebo Airport\\'\\'Fort Wayne Munic...\\'\\'Chilanga\\'\\'Uvda Air Force Base\\'\\'Bandar Abbas\\'\\'\\' Datah Dawai Airp...\\'\\'\\' CÃ³rdoba\\'\\'\\' Bujumbura Intern...\\'\\'Charleston-Yeage...\\'\\'within Gabon\\'\\'AnÃ¡polis Airpor...\\'\\'\\' Kenai AK\\'\\'Jackson Hole Air...\\'\\'\\' Rangeley Municip...\\'\\'Charlottesville-...\\'\\'Malabo-Santa Isa...\\'\\'\\' Zheng Zou Air Base\\'\\'Schenectady-Coun...\\'\\'\\' Mahdia\\'\\'\\' Silimo\\'\\'\\' Fort Worth-Meach...\\'\\'\\' Parnamirim BA\\'\\'Troy Municipal A...\\'\\'Kayseri\\'\\'Djibouti\\'\\'Eider Point AK\\'\\'Ciudad BolÃ\\\\xadvar\\'\\'Sault Ste Marie ...\\'\\'Abu Dhabi\\'\\'\\' Strasburg CO\\'\\'Donlin Creek Air...\\'\\'Ravenna\\'\\'Luena Airport (LUO)\\'\\'Sheffield City A...\\'\\'Beaver Island Ai...\\'\\'\\' NÃ¼rnberg Airpor...\\'\\'\\' Jacobkondre\\'\\'Jakarta-Pondok C...\\'\\'Sun Island Resort\\'\\'\\' Granton Harbour\\'\\'\\' Unadilla GA\\'\\'Pohnpei Airport ...\\'\\'Donalsonville GA\\'\\'Madinah-Mohammad...\\'\\'Quilemba\\'\\'Saint-BarthÃ©lÃ©my\\'\\'\\' Surabaya-Juanda ...\\'\\'Decatur-Bishop A...\\'\\'Ashwaubenon WI\\'\\'Adar Yel\\'\\'\\' Malange Airport ...\\'\\'Las Majaguas\\'\\'Grande Prairie A...\\'\\'\\' Nouadhibou Airpo...\\'\\'\\' Tembo\\'\\'\\' Kobyay Airstrip\\'\\'Stanitsa Nekraso...\\'\\'\\' Plattsburgh Inte...\\'\\'\\' Gorkovskiy\\'\\'\\' Roque PÃ©rez BA\\'\\'\\' Nagambie VIC\\'\\'Cooma Airport N...\\'\\'Nzagi Airport (NZA)\\'\\'\\' Malatya\\'\\'\\' Sari\\'\\'\\' Myakotino Zubts...\\'\\'Metallurg Volgo...\\'\\'Victorville Airp...\\'\\'Salina Airport ...\\'\\'Cootamundra Airp...\\'\\'La Ronge Airport...\\'\\'Lake Minchumina ...\\'\\'\\' Burdakovka\\'\\'Titusville-Space...\\'\\'\\' Viacha\\'\\'\\' Puerto Cabello A...\\'\\'Zenino Veydelev...\\'\\'\\' Chkalovsky Airpo...\\'\\'TulcÃ¡n Airport ...\\'\\'Colombo-Bandaran...\\'\\'Sitidgi Lake NWT\\'\\'Sandersville-Kao...\\'\\'Itaituba-Fazenda...\\'\\'Kuujjuaq-Fort Ch...\\'\\'Mugogo\\'\\'\\' Ithaca-Tompkins ...\\'\\'\\' Piqua OH\\'\\'\\' MÃ¡laga Airport ...\\'\\'Port Alsworth Ai...\\'\\'\\' La Grande QC\\'\\'Napoli Airport (...\\'\\'\\' Kapuskasing ON\\'\\'\\' Laurinburg NC\\'\\'\\' Tijuana\\'\\'\\' Shanksville PA\\'\\'\\' ChichÃ©n ItzÃ¡ A...\\'\\'Goose (Otter Cre...\\'\\'Tigil Airport\\'\\'Deadhorse-Alpine...\\'\\'Kapuskasing Airp...\\'\\'\\' Adler Russia B...\\'\\'\\' Polyarnyj\\'\\'\\' Columbretes Isla...\\'\\'Basel/Mulhouse-E...\\'\\'\\' Shamattawa Airpo...\\'\\'Honiara-Henderso...\\'\\'Roanoke-Blacksbu...\\'\\'Osh Airport (OSS)\\'\\'Osage Beach Airp...\\'\\'Ciudad Victoria ...\\'\\'Kirksville Munic...\\'\\'Southend Airport...\\'\\'\\' Johannesburg Int...\\'\\'Belle Harbor NY\\'\\'\\' Kalyazin\\'\\'\\' KÃ¤rdla\\'\\'ChÃ©zy\\'\\'Buriti Alegre Ai...\\'\\'\\' Port Harcourt\\'\\'\\' Playa del Carmen\\'\\'\\' Quepos\\'\\'Skien Airport (SKE)\\'\\'\\' Bessemer Airport...\\'\\'\\' Novaya Inya\\'\\'Bremen Airport (...\\'\\'Sunny Isles Beac...\\'\\'Lawrence Airport...\\'\\'\\' Sierra Blanca TX\\'\\'\\' Mount Gambier Ai...\\'\\'LidkÃ¶ping-Hovby...\\'\\'Geti\\'\\'\\' San Antonio de P...\\'\\'Belo Horizonte-T...\\'\\'Long Bawan Airpo...\\'\\'Lhokseumawe-Mali...\\'\\'\\' Bremerhaven Airp...\\'\\'Anchorage-Ted St...\\'\\'Birmingham Inter...\\'\\'\\' Shamsi\\'\\'\\' ZaldÃ\\\\xadvar\\'\\'Pekanbaru-Sultan...\\'\\'Chilpancingo Air...\\'\\'\\' Yokyakarta\\'\\'Cerro El Tigre\\'\\'\\' Beef Island\\'\\'GuayaramerÃ\\\\xadn Ai...\\'\\'\\' Ipiales\\'\\'Kavak Airstrip\\'\\'Rapid City-Ellsw...\\'\\'\\' Isla Larga Los ...\\'\\'Camden-Harrell F...\\'\\'Novato Airport ...\\'\\'\\' Twentynine Palms...\\'\\'\\' Sarab-e Do Rah\\'\\'Hindu Kush mount...\\'\\'Sarsura Glacier ...\\'\\'\\' Monrovia-Roberts...\\'\\'\\' Mbuji-Mayi\\'\\'San Juan SJ\\'\\'Hobo\\'\\'\\' Lakhta Air Base\\'\\'Heglig\\'\\'\\' Parkes VOR\\'\\'Mozdok\\'\\'\\' Rocca di Mezzo\\'\\'\\' Placetas\\'\\'\\' Alma WI\\'\\'Elk Island MB\\'\\'\\' Djibouti-Ambouli...\\'\\'Elliott Bay WA\\'\\'Tervel\\'\\'Casper/Natrona C...\\'\\'Sabang-Maimun Sa...\\'\\'Weston-on-the-Gr...\\'\\'\\' Pusan-Kimhae Air...\\'\\'Sun City-Pilansb...\\'\\'Mara Ngerende Ai...\\'\\'Wetar Island\\'\\'Kostandenetz\\'\\'PopayÃ¡n-Guiller...\\'\\'Leakey TX\\'\\'\\' Tunis-Carthage A...\\'\\'\\' Dalian\\'\\'\\' Pensacola FL G...\\'\\'Grand Island Air...\\'\\'\\' Calabar Airport ...\\'\\'Lake Casa Blanca...\\'\\'\\' Penghu islands ...\\'\\'\\' George\\'\\'\\' Wichita KS\\'\\'Lovozero Airfield\\'\\'Anholt\\'\\'Neiva-Benito Sal...\\'\\'Maastricht/Aache...\\'\\'Walker CA\\'\\'George Lake MB\\'\\'Shimojishima Air...\\'\\'\\' Dubovoye Lipets...\\'\\'Lac Cojibo QC\\'\\'Ã\\\\x9cberlingen\\'\\'Bangui\\'\\'Werneuchen\\'\\'\\' Long Bawan Airpo...\\'\\'\\' Estes Park CO\\'\\'Mugumo Coffee Farm\\'\\'Pimu Airstrip\\'\\'\\' Caguas\\'\\'\\' Sladkiy Liman K...\\'\\'Big Bear City Ai...\\'\\'Vagai\\'\\'Muyowasi-Murungu...\\'\\'Kadjuduwa Watta\\'\\'Karachi-Quaid-E-...\\'\\'\\' Pokhara\\'\\'Diavik Airport ...\\'\\'\\' Ayan\\'\\'\\' Rio Branco-PlÃ¡c...\\'\\'Birigui SP\\'\\'\\' Xichang\\'\\'Silimo\\'\\'Andros Town Airp...\\'\\'Mahe Island-Seyc...\\'\\'Inongo Airport (...\\'\\'\\' Paranapanema SP\\'\\'\\' Shalinskoye\\'\\'\\' Natashquan QC\\'\\'Hawthorne Airpor...\\'\\'Basel Switzerla...\\'\\'\\' Goa-Dabolim Airp...\\'\\'Dexter Regional ...\\'\\'Santa Cruz do Su...\\'\\'Teesside Interna...\\'\\'\\' Paderborn-Lippstadt\\'\\'\\' Spanish Fort AL\\'\\'\\' Eveleth-Virginia...\\'\\'Monterrey-Gen Ma...\\'\\'Sligo-Collooney ...\\'\\'\\' Niederanven\\'\\'Kome\\'\\'\\' Juwata\\'\\'\\' Parks AZ\\'\\'\\' Taos NM\\'\\'\\' Antalya Airport ...\\'\\'Sandspit Airport...\\'\\'BrasÃ\\\\xadlia-Kubits...\\'\\'\\' Ol Kiombo Airstrip\\'\\'\\' Mombasa-Moi Inte...\\'\\'MarÃ\\\\xadlia SP\\'\\'Astoria Airport ...\\'\\'Xian-Xianyang Ai...\\'\\'Guam-A.B. Won Pa...\\'\\'\\' Brisbane QLD\\'\\'\\' Mena AR\\'\\'\\' Birmingham\\'\\'\\' TepTep\\'\\'\\' Rockford-Greater...\\'\\'\\' Makung City Pen...\\'\\'\\' Baghrabad\\'\\'Aberdeen-Dyce Ai...\\'\\'\\' Manteo-Dare Coun...\\'\\'\\' Windhoek\\'\\'\\' Anjouan\\'\\'\\' San Pedro Airpor...\\'\\'\\' Nikolai AK\\'\\'between Bocas de...\\'\\'Tezpur Air Base ...\\'\\'\\' Diyarbakir Airpo...\\'\\'\\' Medford OR\\'\\'\\' Chachapoyas\\'\\'Eden Lake BC\\'\\'Gorontalo-Jalalu...\\'\\'\\' Pattaya Airport ...\\'\\'Melilla Airport ...\\'\\'\\' NdjolÃ©\\'\\'Kipnuk Airport ...\\'\\'Busia\\'\\'San Angelo-Ducot...\\'\\'Rio Branco-PlÃ¡c...\\'\\'\\' Pikangikum ON\\'\\'\\' Baucau-Cakung Ai...\\'\\'\\' El Para\\'\\'Brasschaat Air Base\\'\\'\\' Kohat\\'\\'Blenheim Woodbou...\\'\\'\\' Borki\\'\\'\\' Kotzebue Airport...\\'\\'\\' Creswell OR\\'\\'Tamanrasset Airp...\\'\\'Kinston Regional...\\'\\'Rumbek Airport (...\\'\\'Ningbo Airport (...\\'\\'\\' Carey ID\\'\\'Obuasi Airstrip\\'\\'Badiraguato Airport\\'\\'Santos Air Base ...\\'\\'\\' El Paujil\\'\\'\\' Mallorca\\'\\'Oujda-Les Angade...\\'\\'\\' Mulia\\'\\'Rumbek\\'\\'\\' Fitchburg Munici...\\'\\'Al Taqqadum\\'\\'Urgench Airport ...\\'\\'Qum\\'\\'Sredny Island\\'\\'\\' Chetumal Airport...\\'\\'Dhaka-Zia Intern...\\'\\'\\' Prince Albert SK\\'\\'\\' Loma Alta TX\\'\\'OcaÃ±a-Aguas Cla...\\'\\'\\' Lorain County Re...\\'\\'\\' Coffs Harbour Ai...\\'\\'\\' Sangara\\'\\'Houston-West Hou...\\'\\'\\' Lac du Bonnet MB\\'\\'\\' MaÃ§ka\\'\\'\\' Milano-Linate Ai...\\'\\'Lake Wicksteed ON\\'\\'\\' Porto Belo Farm RJ\\'\\'Nueva Gerona-Raf...\\'\\'Jaffna-Palaly Ai...\\'\\'Groningen-Eelde ...\\'\\'\\' Brest-Guipavas A...\\'\\'\\' Rudshour\\'\\'\\' Rooisand Desert ...\\'\\'\\' Myachkovo Airport\\'\\'\\' BahÃ\\\\xada Ballena\\'\\'\\' Port Sudan\\'\\'\\' San Cristobal\\'\\'\\' Cranbrook BC\\'\\'Mount Kenya\\'\\'Oak Harbor WA\\'\\'Sorocaba SP\\'\\'Ulu mine strip NT\\'\\'Welzow\\'\\'Tocomita\\'\\'\\' Pyongtaek-Deside...\\'\\'\\' Oyonnax\\'\\'\\' Esine\\'\\'\\' Barrow AK\\'\\'St. Augustine Ai...\\'\\'Old Fangak\\'\\'\\' Cap Haitien Airp...\\'\\'\\' Hyannis MA\\'\\'\\' MÃ¥lÃ¶ga\\'\\'\\' Cayey\\'\\'\\' Summer Beaver ON\\'\\'\\' CaniÃ§al Madeir...\\'\\'Lankein\\'\\'Wick Airport (WIC)\\'\\'\\' La Quemada\\'\\'Del Rio Internat...\\'\\'\\' Beaumont TX\\'\\'\\' Fort Pierce-Sain...\\'\\'LiÃ¨ge-Bierset A...\\'\\'Bocas del Rosario\\'\\'\\' Paraparaumu\\'\\'East Highlands CA\\'\\'\\' Amakinskaya\\'\\'\\' Uriman\\'\\'\\' La Paragua\\'\\'TarauacÃ¡ Airpor...\\'\\'\\' Las Potrancas Ra...\\'\\'\\' Cody-Yellowstone...\\'\\'\\' Kamina Airport (...\\'\\'FlorianÃ³polis-H...\\'\\'\\' Ogle Airport (OGL)\\'\\'Mineral Wells Ai...\\'\\'Grand Junction-W...\\'\\'\\' Lanseria Airport...\\'\\'\\' Baghdad Internat...\\'\\'Kano-Aminu Kano ...\\'\\'BodÃ¸ Airport (BOO)\\'\\'\\' Atlanta-Newnan C...\\'\\'Barangay Dinapna...\\'\\'\\' Jellicoe ON\\'\\'Wausau-Central W...\\'\\'\\' Suc-et-Sentenac\\'\\'\\' MitÃº\\'\\'\\' Helendale CA\\'\\'Mzuzu Airport (ZZU)\\'\\'Tokunoshima Airp...\\'\\'Terrace Bay Airp...\\'\\'\\' Sharm el Sheikh\\'\\'\\' MÃ¼nchen-Franz J...\\'\\'Sturt Island\\'\\'\\' Pelee Island ON\\'\\'Mulia Airport (LII)\\'\\'Dakar-LÃ©opold S...\\'\\'\\' GhardaÃ¯a-NoumÃ©...\\'\\'Akron/Canton-Ful...\\'\\'Reus Airport (REU)\\'\\'\\' Green Island QLD\\'\\'Toksook Bay Airp...\\'\\'Attawapiskat Riv...\\'\\'\\' Mostar Airport (...\\'\\'HolguÃ\\\\xadn-Frank P...\\'\\'\\' Celaya\\'\\'Lac Sainte Croix\\'\\'\\' San Diego-Mirama...\\'\\'\\' Tonopah-Test Ran...\\'\\'\\' Mto wa Mbu\\'\\'Utica-Oneida Cou...\\'\\'\\' Punta Gorda\\'\\'within Pavlovsky distri...\\'\\'Shabunda\\'\\'Puerto Esperanza...\\'\\'\\' Belize City\\'\\'Daytona Beach FL\\'\\'La Romana Airpor...\\'\\'Chibougamau/Chap...\\'\\'Trieste-Dei Legi...\\'\\'\\' Helena AR\\'\\'Melo Airport (MLZ)\\'\\'Chimanta Mountains\\'\\'Carepa-Antonio R...\\'\\'\\' Vallecillos\\'\\'Jiech Jonglei S...\\'\\'Ganes Creek AK\\'\\'\\' Tatal\\'\\'Bozoy\\'\\'\\' Mwingi\\'\\'\\' Lukla\\'\\'Las Vegas-North ...\\'\\'Kigali Internati...\\'\\'\\' Genichesk Khers...\\'\\'Rupert WV\\'\\'\\' Kodiak Airport ...\\'\\'Dipneedle Lake ON\\'\\'Chitral Airport ...\\'\\'Las Gaviotas Air...\\'\\'SiglufjÃ¶rdur Ai...\\'\\'\\' Moskva-Myachkovo...\\'\\'SÃ£o SebastiÃ£o\\'\\'Saint Vincent-E....\\'\\'Green Bay-Austin...\\'\\'Canol Road Mile...\\'\\'Yaroslavl Airpor...\\'\\'Chamadouro Sant...\\'\\'\\' Beef Island Bri...\\'\\'Fort Vermilion A...\\'\\'Nevis-Newcastle ...\\'\\'Ã\\\\x98stre Ã\\\\x86ra Airport\\'\\'El Jaguey\\'\\'\\' Punto Fijo\\'\\'Zhengzhou Airpor...\\'\\'Mexicali Airport...\\'\\'\\' Ononge\\'\\'Beni Mavivi\\'\\'San Carlos de RÃ...\\'\\'Santa Cruz-Viru ...\\'\\'Playa de la Vent...\\'\\'Freetown-Lungi I...\\'\\'Orlando-Herndon ...\\'\\'Punta Gorda-Char...\\'\\'\\' Panama-Albrook M...\\'\\'\\' Neihart MT\\'\\'\\' Goma\\'\\'\\' Maracay\\'\\'Dinslaken-Schwar...\\'\\'\\' Buchalki\\'\\'\\' Gluboki\\'\\'Venice Airport ...\\'\\'Gisenyi Airport ...\\'\\'\\' Villahermosa\\'\\'George Airport (...\\'\\'\\' Gwinner-Roger Me...\\'\\'Hallo Bay AK\\'\\'\\' Fullerton Munici...\\'\\'Wilmington-New C...\\'\\'\\' Vega Baja\\'\\'Long Lake ON\\'\\'Krasnoyarsk region\\'\\'Midland Internat...\\'\\'\\' Heglig\\'\\'Sylhet-Osmani In...\\'\\'\\' Kindu\\'\\'Jefferson City MO\\'\\'\\' Coron\\'\\'\\' Kirksville Regio...\\'\\'Loiborsoit Villa...\\'\\'Lanzarote Airpor...\\'\\'\\' Lake Michigan MI\\'\\'\\' New Providence I...\\'\\'\\' Inverness\\'\\'\\' Stuart VA\\'\\'Netheravon Airport\\'\\'Sharjah Airport ...\\'\\'Menzel Lejmat North\\'\\'within South-Eastern Es...\\'\\'\\' Baotou Airport (...\\'\\'\\' Bagram\\'\\'Solo City-Adi Su...\\'\\'Howell Island MO\\'\\'St-Georges de Be...\\'\\'North Miami Beac...\\'\\'McAllen-Miller I...\\'\\'\\' Bellevue ID\\'\\'Bucharest Baneas...\\'\\'\\' Tulsa Internatio...\\'\\'\\' El Junquito\\'\\'Bay View-Rancho ...\\'\\'Puerto GaitÃ¡n\\'\\'Cedar Rapids Air...\\'\\'Qayyarah Airfiel...\\'\\'Ainsworth Airpor...\\'\\'Banda Aceh-Blang...\\'\\'Andahuaylas Airp...\\'\\'Goa-Dabolim Airp...\\'\\'Bukalaza\\'\\'Cali-Alfonso B. ...\\'\\'Logan-Cache Airp...\\'\\'Keene-Dillant-Ho...\\'\\'\\' Colquiri\\'\\'Kongolo\\'\\'Oviedo/Aviles-As...\\'\\'\\' Iasi Airport (IAS)\\'\\'Kansas City-Char...\\'\\'\\' Al Taji\\'\\'Bergen-Flesland ...\\'\\'Bromont Airport ...\\'\\'\\' Wobagen Airstrip\\'\\'\\' Sarmi Airport (ZRM)\\'\\'Enarotali Airpor...\\'\\'\\' El Devanador Tz...\\'\\'\\' Aguachina\\'\\'Impfondo Airport...\\'\\'\\' Belize City Muni...\\'\\'Tupelo-Regional ...\\'\\'\\' Campbeltown-Mach...\\'\\'\\' Varandey Airport...\\'\\'Forte dei Marmi\\'\\'Winnipeg-James A...\\'\\'\\' Sakhanka\\'\\'Providencia-El E...\\'\\'Caracas-SimÃ³n B...\\'\\'PapelÃ³n\\'\\'\\' Rovie\\'\\'Mukalla-Al-Rayya...\\'\\'\\' Kampene\\'\\'Coca Airport (OCC)\\'\\'\\' Enarotali\\'\\'\\' Chico CA\\'\\'Savusavu Airport...\\'\\'Bagay-Baranovka ...\\'\\'\\' Pisco\\'\\'Hammerfest Airpo...\\'\\'\\' Stratford\\'\\'\\' Lockhart River A...\\'\\'Kolyadinets\\'\\'\\' Exuma Internatio...\\'\\'\\' Mongu Airport (MNR)\\'\\'Punta Cana Airpo...\\'\\'\\' Biega\\'\\'\\' Zacapa Airport\\'\\'\\' Rittman OH\\'\\'\\' Fort Lauderdale-...\\'\\'\\' El Callao\\'\\'Kalima Airport (...\\'\\'Yellowknife Wate...\\'\\'Matemo Airport\\'\\'\\' Kapoeta Airport\\'\\'Chittagong-Shah ...\\'\\'\\' Baney\\'\\'Old Bridge Airpo...\\'\\'Caticlan-Malay A...\\'\\'\\' Globe-San Carlos...\\'\\'\\' Hierba Buena\\'\\'\\' Shovelnose Creek...\\'\\'\\' Calvi\\'\\'Louie Lagoon No...\\'\\'Louis Lagoon BC\\'\\'\\' Mukalla\\'\\'Arak Airport (AJK)\\'\\'\\' Grammatikos\\'\\'\\' Puerto Ayacucho ...\\'\\'\\' Machiques\\'\\'Rapid Lake QC\\'\\'\\' Durban-Virginia ...\\'\\'\\' Pucallpa-Cap. FA...\\'\\'Deerfield Beach FL\\'\\'Lorain County Re...\\'\\'\\' Zielona GÃ³ra\\'\\'\\' Isiro-Matari (IRP)\\'\\'Murambi\\'\\'Samarinda\\'\\'Mae Sot Airport ...\\'\\'Alto da Boa Vist...\\'\\'Lake Charles Mun...\\'\\'May Creek YT\\'\\'Aru Airport\\'\\'\\' Winnipeg Airport...\\'\\'Rio Negro AM\\'\\'Mumbai-Chhatrapa...\\'\\'Lac La Biche Air...\\'\\'Ogdensburg Airpo...\\'\\'\\' Round Rock TX\\'\\'\\' Labozhskoe\\'\\'Lisa Village Og...\\'\\'\\' Unalakleet AK\\'\\'Sacramento-McCle...\\'\\'Dong Xuyen\\'\\'Korla Airport (KRL)\\'\\'\\' Manchester Munic...\\'\\'Khak-e Shahidan\\'\\'\\' South Hampton NY\\'\\'Hamilton-John Mu...\\'\\'\\' Privacion Airstrip\\'\\'\\' Stupino\\'\\'Ratanakiri-Ban L...\\'\\'Grobnik Airport\\'\\'Sinabang-Lasikin...\\'\\'\\' Orangeburg Munic...\\'\\'\\' Tamarindo Airpor...\\'\\'Valleyview Airpo...\\'\\'\\' Nardaran\\'\\'Istanbul-Sabiha ...\\'\\'Pokola\\'\\'Zalingei\\'\\'\\' Paparo\\'\\'\\' Truckee Airport ...\\'\\'Fataki\\'\\'Minocqua-Noble F...\\'\\'\\' Orumiyeh\\'\\'Puerto JimÃ©nez ...\\'\\'\\' Villanow GA\\'\\'\\' Freiburg Im Brei...\\'\\'\\' Hejce\\'\\'\\' Port Alberni BC\\'\\'Caloundra Airpor...\\'\\'Burnsville-Mount...\\'\\'Myrtle Beach-Gra...\\'\\'\\' Watertown WI\\'\\'Juneau-Dodge Cou...\\'\\'\\' Paris TN\\'\\'Aweil Airport\\'\\'\\' El Peten\\'\\'\\' Buschin\\'\\'Lubanimanga\\'\\'Arekuna\\'\\'Nasiriyah-Tallil...\\'\\'\\' Cuenca-Mariscal ...\\'\\'\\' Payam Airport (PYK)\\'\\'\\' Oak Glen CA\\'\\'\\' Rio Bonito RJ\\'\\'Leszno-Strzyzewi...\\'\\'\\' Marsabit\\'\\'\\' Kozlovets\\'\\'Haydom\\'\\'KoussÃ©ri\\'\\'\\' Tersky\\'\\'Bost/Lashkar Gah...\\'\\'\\' Chalkis\\'\\'Amisi Airport\\'\\'Margarita Mountain\\'\\'Zwedru Airport\\'\\'\\' Mersin\\'\\'\\' La Ronge Airport...\\'\\'Murfreesboro Mun...\\'\\'Myrtle Beach Int...\\'\\'\\' SÃ£o TomÃ© Islan...\\'\\'\\' Krepsko\\'\\'\\' New London-Groto...\\'\\'\\' Yaocun\\'\\'Manassas Regiona...\\'\\'NecoclÃ\\\\xad Airport...\\'\\'Managua Internat...\\'\\'Bandanaira Airpo...\\'\\'Rionegro/MedellÃ...\\'\\'\\' Anyang VOR\\'\\'AbÃ©chÃ© Airport...\\'\\'\\' Taiynsha\\'\\'\\' Jumla Airport (JUM)\\'\\'Upland-Cable Air...\\'\\'Barcelona-Gen J ...\\'\\'Saint Paul Islan...\\'\\'DunaÃºjvÃ¡ros Ai...\\'\\'\\' Vilanculos Airpo...\\'\\'Canberra Airport...\\'\\'Bajura Airport (...\\'\\'\\' Patroklos Island\\'\\'Barragem da Agui...\\'\\'\\' Sake\\'\\'\\' Multan Airport (...\\'\\'Gvardeyskoye Air...\\'\\'Hamilton-Ravalli...\\'\\'Kigoma Airport (...\\'\\'Al Asad Air Base\\'\\'\\' Cresco-Ellen Chu...\\'\\'Limanskoye\\'\\'\\' Semarang-Achmad ...\\'\\'Spanish Fork-Spr...\\'\\'Sullivan Regiona...\\'\\'Riceboro GA\\'\\'Berners Bay AK\\'\\'\\' Bennington-Willi...\\'\\'\\' Puerto Ayacucho\\'\\'SÃ£o Paulo\\'\"Novobrats\\'ke Bu...\"\\'Torcoroma\\'\\'Grain Valley-Eas...\\'\\'Rtishchevo Air Base\\'\\'\\' Salta-MartÃ\\\\xadn Mi...\\'\\'Wainwright Airpo...\\'\\'Kahuzi-Biega Nat...\\'\\'Nangungu\\'\\'\\' Vande Ikya\\'\\'\\' Peixoto Azevedo MT\\'\\'Novo Progresso-C...\\'\\'Decatur Airport ...\\'\\'Kikwit Airport (...\\'\\'Stord-SÃ¸rstokke...\\'\\'Mamit\\'\\'Leonardtown-Sain...\\'\\'\\' Aranchi\\'\\'\\' Hengshui\\'\\'Falsterbokanalen\\'\\'Punta PÃ¡jaros A...\\'\\'Newark-Liberty I...\\'\\'Alek Airstrip\\'\\'Nakhon Sawan/Tak...\\'\\'Norway House Air...\\'\\'\\' Walikale\\'\\'Veloor\\'\\'Bukavu-Kamenbe A...\\'\\'\\' Progreso\\'\\'Ancona-Falconara...\\'\\'\\' Leticia-Alfredo ...\\'\\'West Point Island\\'\\'Siberia\\'\\'Altamira Airport...\\'\\'Montreal-Pierre ...\\'\\'\\' Mindelheim-Matts...\\'\\'Novolazarevskaja\\'\\'Flamingo Bay\\'\\'Kenana\\'\\'\\' Pie de la Cuesta...\\'\\'\\' Gari Sverdlovsk...\\'\\'\\' Tauranga Airport...\\'\\'Santa Teresa-Don...\\'\\'\\' Rapid City Regio...\\'\\'Carat Lake NU\\'\\'\\' CuliacÃ¡n-Fedl d...\\'\\'Long Layu Airstrip\\'\\'AgadÃ¨s Airport ...\\'\\'\\' Pambauang\\'\\'Sandy Bay Airpor...\\'\\'\\' Balad Air Base\\'\\'\\' Guadalajara-Migu...\\'\\'Fort St. John Ai...\\'\\'Sangata-Tanjung ...\\'\\'\\' Nenana AK\\'\\'Jelenia GÃ³ra Ai...\\'\\'Johannesburg-O.R...\\'\\'Butler County/K....\\'\\'Pau-Uzein Airpor...\\'\\'\\' Woodland Park CO\\'\\'\\' Cape Girardeau A...\\'\\'Yahurabila\\'\\'\\' Belgrade  MT\\'\\'\\' North Caicos Air...\\'\\'\\' Suba-Basbas\\'\\'\\' Alliance Airport...\\'\\'Berbegamau Airst...\\'\\'\\' Al-Amarah\\'\\'Las Palmas-Gando...\\'\\'\\' Ruhnu Airport\\'\\'Kochi Airport (KCZ)\\'\\'Ostromechevo Br...\\'\\'Kish Island Airp...\\'\\'Beverly Airport ...\\'\\'\\' Mogadishu Intern...\\'\\'Rifle-Garfield C...\\'\\'Hampton-Newport ...\\'\\'La Paragua Airport\\'\\'Sanford FL\\'\\'\\' Kandrian\\'\\'Belize coast\\'\\'Anjouan-Ouani Ai...\\'\\'Traverse City-Ch...\\'\"Governor\\'s Harbo...\"\\'\\' Kopinang\\'\\'\\' Hamilton-Ravalli...\\'\\'Dillon Airport ...\\'\\'\\' El-Thamad\\'\\'Trenton Canadian...\\'\\'Billings-Logan F...\\'\\'Acarigua Airport...\\'\\'\\' Pampa Hermosa\\'\\'Acaricuara Airpo...\\'\\'Kizota\\'\\'Mayo Airport YT...\\'\\'Laramie Regional...\\'\\'\\' Kamina\\'\\'Karakuzhur\\'\\'An Naeem Airstrip\\'\\'Phnom Damrey\\'\\'\\' Tehachapi CA\\'\\'Venice-Treviso A...\\'\\'BouakÃ© Airport ...\\'\\'Conway-Dennis F....\\'\\'CuliacÃ¡n-Fedl d...\\'\\'\\' Connemara Airport\\'\\'Muncho Lake-Mile...\\'\\'Stanley ID\\'\\'Santa Marta-SimÃ...\\'\\'\\' Bandundu\\'\\'Antabare Airstrip\\'\\'\\' Dilesos\\'\\'Acciano\\'\\'\\' Shinile\\'\\'Paloich Airport\\'\\'\\' Puerto Concordia\\'\\'Garissa Airport ...\\'\\'\\' Moorea-Temae Air...\\'\\'Dominica-Melvill...\\'\\'Busan-Gimhae (Pu...\\'\\'\\' Farmingdale-Repu...\\'\\'Antalya Airport ...\\'\\'London City Airp...\\'\\'Pasto-Antonio Na...\\'\\'Westhampton-Fran...\\'\\'\\' Kongolo Airport ...\\'\\'\\' Dostuk\\'\\'within Helmand Province\\'\\'Dawei Airport (TVY)\\'\\'\\' Punia Airport (PUN)\\'\\'Berbera Airport ...\\'\\'\\' Cross City Airpo...\\'\\'Vilnius Airport ...\\'\\'Danbury Airport ...\\'\\'Atlanta-DeKalb P...\\'\\'Phuket Internati...\\'\\'Mystic Lake Lodg...\\'\\'Kamburu Airstrip\\'\\'\\' Tixkokob\\'\\'Malemba Nkulu\\'\\'Lake Durusu\\'\\'\\' DÃ¼sseldorf-Dorm...\\'\\'\\' Naches WA\\'\\'\\' Santo Domingo Ai...\\'\\'\\' Cubarral\\'\\'Olathe-New Centu...\\'\\'Guadalcanal-Los ...\\'\\'Goodland-Renner ...\\'\\'Chibougamau Airp...\\'\\'Butuan Airport (...\\'\\'Panama-Albrook M...\\'\\'Malang-Abdul Rac...\\'\\'\\' SÃ£o Paulo-Campo...\\'\\'\\' Santa Elena\\'\\'\\' Chino Airport C...\\'\\'Santa InÃ©s Isl...\\'\\'\\' Isparta Airport ...\\'\\'Corozal Airport ...\\'\\'\\' Columbus-Rickenb...\\'\\'Corentyne\\'\\'Salmon-Lemhi Cou...\\'\\'Newcastle-Vance ...\\'\\'Vernal Airport ...\\'\\'\\' Chub Cay Bahamas\\'\\'Mt. Patterson\\'\\'\\' Nyala\\'\\'\\' Bahia PiÃ±a\\'\\'\\' Los Roques Airpo...\\'\\'\\' Trbovlje\\'\\'\\' Lihue HI\\'\\'\\' Bailundo\\'\\'\\' Miroslawiec Air ...\\'\\'Teresita Airport\\'\\'\\' Long Apung Airpo...\\'\\'Bulawayo-Joshua ...\\'\\'Sugapa Airport (...\\'\\'\\' Augusta State Ai...\\'\\'Ankeny Regional ...\\'\\'El Prado El Seybo\\'\\'NuquÃ\\\\xad-Reyes Mur...\\'\\'Christchurch Int...\\'\\'Leesburg Executi...\\'\\'Los Roques Airpo...\\'\\'Yerevan-Zvartnot...\\'\\'Washington-Ronal...\\'\\'Caico Seco\\'\\'Ras Al Khaimah I...\\'\\'Putao Airport (PBU)\\'\\'Kayenta-Peabody ...\\'\\'\\' Consuega\\'\\'\\' Oklahoma City-Wi...\\'\\'Lanzhou Airport ...\\'\\'SÃ©tif-Ain Arat ...\\'\\'\\' Bushi Village O...\\'\\'Udaipur-Dabok Ai...\\'\\'QuÃ©bec City Jea...\\'\\'Limoges-Bellegar...\\'\\'\\' London-Biggin Hi...\\'\\'Odense-Beldringe...\\'\\'Lawa-Antino Airport\\'\\'\\' Mwanza (HTMW)\\'\\'\\' Comodoro Rivadav...\\'\\'\\' Nain NL\\'\\'Chisinau Airport...\\'\\'\\' Tumeremo\\'\\'\\' AnnobÃ³n Island\\'\\'Coari Airport A...\\'\\'Doro Airstrip\\'\\'\\' Talkeetna AK\\'\\'Wajir Airport (WJR)\\'\\'Port Heiden Airp...\\'\\'\\' Rumbek\\'\\'Ada MI\\'\\'\\' Ulmeni\\'\\'Lac du Bonnet MB\\'\\'\\' Boguchany\\'\\'\\' Lubbock Preston ...\\'\\'\\' Chelyabinsk Airp...\\'\\'Kearney Regional...\\'\\'Greensburg-Decat...\\'\\'Novoternovskiy\\'\\'\\' La Junta\\'\\'Sidra Airstrip\\'\\'Kisangani-Bangok...\\'\\'\\' Chifeng\\'\\'Mathiang Airfield\\'\\'\\' Betz Oise\\'\\'Krems-Langenlois...\\'\\'\\' Tegal Lilin\\'\\'\\' Gryzlov\\'\\'\\' Dmitrievskaya\\'\\'DivinÃ³polis PA\\'\\'\\' CochamÃ³\\'\\'Stefanesti\\'\\'\\' Saltillo-Plan de...\\'\\'\\' Puerto Montt-Mar...\\'\\'Kichwa Tembo Air...\\'\\'North Ari Atoll\\'\\'Hook Lake NWT\\'\\'Manchester Airpo...\\'\\'Estancia Esperan...\\'\\'West Chester-Bra...\\'\\'Owatonna Airport...\\'\\'Guadalajara-Don ...\\'\\'Reading Municipa...\\'\\'\\' K-50 Airport\\'\\'La Tortuga-Punta...\\'\\'\\' Santo Domingo\\'\\'\\' Moab-Canyonlands...\\'\\'\\' Bishkek-Manas In...\\'\\'\\' La Puente CabaÃ...\\'\\'\\' Barangay Bukana ...\\'\\'Jambi-Sultan Tha...\\'\\'\\' Boguchany Krasn...\\'\\'\\' Toacaso\\'\\'\\' Carlsbad NM\\'\\'\\' Bukavu-Kavumu Ai...\\'\\'Telluride Airpor...\\'\\'\\' Reno-Stead Airpo...\\'\\'Efogi Airport (EFG)\\'\\'Buturlinovka Air...\\'\"Ba\\'kelalan Airpo...\"\\'\\' Perm Airport (PEE)\\'\\'Columbia Metropo...\\'\\'\\' Pedernales\\'\\'Bridgewater Air ...\\'\\'\\' Barberton\\'\\'\\' Learmonth WA A...\\'\\'Lukla-Tenzing-Hi...\\'\\'\\' Bauru Airport S...\\'\\'\\' Nyala Lodge Airs...\\'\\'\\' Toksook Bay AK ...\\'\\'\\' Punta Chivato Ai...\\'\\'Fak Fak Airport ...\\'\\'\\' Verkhnyaya Pesha...\\'\\'Stony Rapids Air...\\'\\'\\' Al-Taqaddum Air ...\\'\\'\\' Gods Lake Narrow...\\'\\'\\' Canet-Plage\\'\\'Fort Smith Airpo...\\'\\'\\' Atlangatepec Air...\\'\\'CapurganÃ¡ Airpo...\\'\\'Ewer Airport (EWE)\\'\\'\\' Cambridge Bay Ai...\\'\\'Caribbean Sea o...\\'\\'Celaya-CapitÃ¡n ...\\'\\'\\' Olpoi-Lajmoli Ai...\\'\\'Chautauqua Count...\\'\\'Lewistown-Sharpe...\\'\\'Telluride Region...\\'\\'Tony Camp\\'\\'\\' Intuto\\'\\'Bosaso-Bender Qa...\\'\\'\\' Weehawken NJ H...\\'\\'Casablanca-Moham...\\'\\'Island Lake MB ...\\'\\'Lubbock Preston ...\\'\\'Mojave-Kern Coun...\\'\\'Trigoria\\'\\'\\' Santo AntÃ³nio ...\\'\\'Boma Airstrip\\'\\'Eskisehir-Anadol...\\'\\'\\' Buffalo Niagara ...\\'\\'Heraklion-N. Kaz...\\'\\'\\' Kotzebue-Ralph W...\\'\\'\\' Isfahan/Shahin S...\\'\\'Guasdualito-Vare...\\'\\'\\' Bishkek District...\\'\\'Timisoara Airpor...\\'\\'\\' San Miguel Truj...\\'\\'Maridi Airport\\'\\'\\' Bidadi\\'\\'\\' Entebbe Airport ...\\'\\'Dolinsk-Sokol Ai...\\'\\'Gdynia-Babie Doly\\'\\'Barangay San Mig...\\'\\'\\' Wamena (WMX)\\'\\'ThulakhÃ´m district\\'\\'Canaima Airport ...\\'\\'Banjul-Yundum In...\\'\\'\\' Stockton UT\\'\\'Massamba Bandun...\\'\\'Oi (Nemyugyuntsy...\\'\\'\\' Seongmu Air Base\\'\\'\\' Dornum\\'\\'\\' Mashhad Airport ...\\'\\'Dire Dawa-Aba Te...\\'\\'\\' Madiun-Iswahyudi...\\'\\'Porto Seguro-Ter...\\'\\'\\' Isiro-Matari Air...\\'\\'Quevedo Airport\\'\\'\\' SÃ£o Pedro and S...\\'\\'Halaveli Resort ...\\'\\'Gryttjom airfiel...\\'\\'\\' Port Hope Simpso...\\'\\'Rinchi village i...\\'\\'Kadamdzhayskom ...\\'\\'Lanseria Interna...\\'\\'\\' Primorsko-Ahtars...\\'\\'Pologi Zaporizh...\\'\\'Salerno FOB\\'\\'\\' Wamena Airport (...\\'\\'Wangerooge Airpo...\\'\\'\\' Mitsamiouli\\'\\'\\' Great Barrier Is...\\'\\'\\' Sarif-Umra Airstrip\\'\\'Bimini Internati...\\'\\'\\' Qazvin\\'\\'Metropolitano Ai...\\'\\'Mashhad-Shahid H...\\'\\'\\' Constable Point\\'\\'\\' Oksibil Airport ...\\'\\'Koh Samui Airpor...\\'\\'Bairro de Almeir...\\'\\'\\' Taiping Airport ...\\'\\'\\' Brazzaville-Maya...\\'\\'\\' La Tortuga\\'\\'Las Vegas-Nellis...\\'\\'Zarafshan Airpor...\\'\\'Verona Airport (...\\'\\'Long Apung Bulu...\\'\\'Ruidoso Municipa...\\'\\'Onikeevo Kirovo...\\'\\'Serui-Sudjarwo T...\\'\\'Sheffield MA\\'\\'Hayward Executiv...\\'\\'Savoonga Airport...\\'\\'\\' Varamin\\'\\'\\' Durban Internati...\\'\\'Ozuki Airport\\'\\'\\' Aurora TX\\'\\'Umgalala Airstrip\\'\\'\\' Fonds-Verrettes\\'\\'Las Minas\\'\\'Angra dos Reis A...\\'\\'Nuristan Province\\'\\'\\' Managua-Augusto ...\\'\\'Kwamalasamutu Ai...\\'\\'\\' Bonaire-Flamingo...\\'\\'Pamalican Island...\\'\\'\\' Benavides TX\\'\\'Osaka-Kansai Int...\\'\\'\\' Aldeias AurÃ©lio...\\'\\'\\' Mirny Airport (MJZ)\\'\\'Ali Air Base\\'\\'Fort Pierce-Sain...\\'\\'Sinkrebaka\\'\\'Ivanovo-Severny ...\\'\\'Greenville-Spart...\\'\\'\\' Windhoek-Eros Ai...\\'\\'Saint-Jean-de-Th...\\'\\'\\' Norfolk Island A...\\'\\'\\' TarakignÃ© 30 k...\\'\\'Le Rene  Co...\\'\\'Shanghai-Pudong ...\\'\\'\\' Saint-HonorÃ© Ai...\\'\\'Isabel-Pasar Air...\\'\\'\\' Matthew Town Gr...\\'\\'Tonj Airfield\\'\\'Makassar-Sultan ...\\'\\'Kingston-Norman ...\\'\\'\\' Vomo Island\\'\\'Somerset-Lake Cu...\\'\\'Heglig Airport\\'\\'\\' Chicago-Executiv...\\'\\'Piajo Airstrip ...\\'\\'Nassau-Lynden Pi...\\'\\'Moba Airport (BDV)\\'\\'Beagle Bay Airpo...\\'\\'\\' Sand Point Munic...\\'\\'\\' Senador JosÃ© Po...\\'\\'Waterkloof Air F...\\'\\'\\' Cotabato-Awang A...\\'\\'Mazar-I-Sharif A...\\'\\'Grenoble-Saint G...\\'\\'\\' Balikpapan-Sepin...\\'\\'\\' Reinhardtsdorf-S...\\'\\'\\' Kwigillingok Air...\\'\\'Sacramento Inter...\\'\\'\\' London Gatwick A...\\'\\'Kodiak Airport ...\\'\\'\\' Tallinn-Ã\\\\x9clemist...\\'\\'Jeffersonville-C...\\'\\'Moncton/Greater ...\\'\\'Huatulco-BahÃ\\\\xadas...\\'\\'\\' Smolensk Air Base\\'\\'\\' Morganton Fanni...\\'\\'Melville Island NU\\'\\'Manokwari-Rendan...\\'\\'\\' Monterrey Intern...\\'\\'\\' Saransk\\'\\'Kangel Danda Air...\\'\\'Barangay Laput ...\\'\\'Arlit Airport (RLT)\\'\\'\\' Marianivka Frun...\\'\\'MitÃº-Fabio Albe...\\'\\'\\' Goryachy Klyuch\\'\\'Brize Norton RAF...\\'\\'\\' Alert Ellesmere...\\'\\'\\' Osypnoi Bugor vi...\\'\\'\\' Poeketi\\'\\'Biscarrosse/Pare...\\'\\'Salang Pass\\'\\'San Pedro Catac...\\'\\'\\' Caxito\\'\\'Kabul-Hamid Karz...\\'\\'Sharana Air Base\\'\\'within Peru\\'\\'Puerta del Este ...\\'\\'\\' Felipe Carrillo ...\\'\\'Brac Airport (BWK)\\'\\'Little Peconic B...\\'\\'\\' Chiclayo-Capitan...\\'\\'\\' Mintom\\'\\'\\' QuÃ©bec City Jea...\\'\\'Sarybulak North...\\'\\'Broomfield-Rocky...\\'\\'\\' Voznesenskoye N...\\'\\'Tuzla Airfield\\'\\'Oshkosh-Wittman ...\\'\\'\\' Islamabad-Benazi...\\'\\'Conakry Internat...\\'\\'FOB Dwyer Helma...\\'\\'\\' Lytton BC\\'\\'Mount Healy nea...\\'\\'\\' Igarka Airport (...\\'\\'\\' Kumushkino\\'\\'Pori Airport (POR)\\'\\'\\' Aleknagik AK\\'\\'San Andres Islan...\\'\\'\\' Yichun Lindu Air...\\'\\'\\' Bastipur Shikha...\\'\\'VitÃ³ria da Conq...\\'\\'Guardatinajas F...\\'\\'Misima Island Ai...\\'\\'\\' Dubai Airport (DXB)\\'\\'\\' Sperlonga\\'\\'Anse-Bertrand\\'\\'Izhma Airport\\'\\'\\' Uribe Meta\\'\\'SandnessjÃ¸en-St...\\'\\'Montmagny Airpor...\\'\\'Manteo-Dare Coun...\\'\\'\\' Kirensk Irkutsk...\\'\\'\\' Coatzacoalcos\\'\\'Mukinge Airport\\'\\'\\' Bugulumisa\\'\\'\\' Santa Isabel PA\\'\\'Kirby Lake Airpo...\\'\\'\\' Wami\\'\\'\\' Guasimal Sancti...\\'\\'\\' Batam Island\\'\\'Inuvik-Mike Zubk...\\'\\'\\' Karachi-Jinnah I...\\'\\'HuÃ¡nuco-AlfÃ©re...\\'\\'Guerima Airport\\'\\'Georgetown-Chedd...\\'\\'Zalingei Airport\\'\\'Bunger Hills\\'\\'San Fernando Air...\\'\\'\\' Demnate\\'\\'\\' Sri Chaur Villag...\\'\\'Sanikiluaq Airpo...\\'\\'Uktus Airport\\'\\'\\' Krasny Oktyabr ...\\'\\'Maple Creek Airp...\\'\\'Istanbul AtatÃ¼r...\\'\\'Springfield-Abra...\\'\\'Montpellier Lan...\\'\\'\\' Urmia (Orumiyeh)...\\'\\'Hoedspruit AFB (...\\'\\'\\' Senador Canedo GO\\'\\'Muncho Lake/Mile...\\'\\'Tharjath Airstrip\\'\\'El Capricho area\\'\\'Sulaymaniyah Int...\\'\\'Cork Airport (ORK)\\'\\'\\' Tanjung Pinang-K...\\'\\'El Espino\\'\\'Mont Biega\\'\\'Appleton-Outagam...\\'\\'Pachuca-Ingenier...\\'\\'Forli Airport (FRL)\\'\\'Garbuzovo Belgo...\\'\\'Union Island Air...\\'\\'\\' Clayton County A...\\'\\'Sendai Airport (...\\'\\'Saanen Airfield\\'\\'Long Beach Munic...\\'\\'Tripoli Aiport (...\\'\\'\\' Pointe Noire Air...\\'\\'Manas County Hu...\\'\\'\\' Dibrova Zhytomy...\\'\\'\\' Mayo YT\\'\\'\\' Saskatoon Airpor...\\'\\'Roswell Internat...\\'\\'\\' Loxley AL\\'\\'Ust-Kamchatsk Ai...\\'\\'Montserrat-John ...\\'\\'Lengpui Airport ...\\'\\'Loreto Airport (...\\'\\'\\' Kaimana-Utarom A...\\'\\'Rotterdam/The Ha...\\'\\'\\' Atqasuk AK\\'\\'Sofiyivka Ipatov...\\'\\'\\' Prahuaniyeu RN\\'\\'Port Hueneme-Poi...\\'\\'Barra do Vento A...\\'\\'\\' Bettles Field AK\\'\\'Nome Airport AK...\\'\\'Manta Airport (MEC)\\'\\'Postville Airpor...\\'\\'Cold Bay Airport...\\'\\'\\' Gray TN\\'\\'Nashville-John C...\\'\\'Vladikavkaz Airp...\\'\\'Toronto-Buttonvi...\\'\\'\\' Beregovoy Amur ...\\'\\'Pukatawagan Airp...\\'\\'\\' Bagram Air Base ...\\'\\'Kielce-MaslÃ³w A...\\'\\'\\' Strezhevoy\\'\\'Biyaadhoo Traini...\\'\\'Opa-locka Execut...\\'\\'Warszawa-FrÃ©dÃ©...\\'\\'Kei Mouth Easte...\\'\\'\\' Goulimime Airpor...\\'\\'Bichevaya\\'\\'\\' Jeju South Kore...\\'\\'\\' Bom Jardim da Se...\\'\\'Kasba Lake Airpo...\\'\\'\\' Afghanistan\\'\\'Todzhi district ...\\'\\'Lawas Airport (LWY)\\'\\'\\' Neschadinovskaya...\\'\\'Cochin Internati...\\'\\'\\' Magan Yakutsk r...\\'\\'\\' Nightmute AK\\'\\'\\' Isla RobinsÃ³n C...\\'\\'\\' Kostyukivka Vin...\\'\\'\\' Yaroslavl-Tunosh...\\'\\'\\' Notnare Village ...\\'\\'Bruchsal Airfield\\'\\'Utila Airport (UII)\\'\\'Valencia-Arturo ...\\'\\'\\' Milot\\'\\'\\' Heitman Lake AK\\'\\'Puerto Ordaz Air...\\'\\'\\' Kutacane-Alas Le...\\'\\'As Sidr Airport\\'\\'Atlanta-Newnan C...\\'\\'Utsingi Point G...\\'\\'ManhuaÃ§u-Aeropo...\\'\\'\\' Zasovkaya Krasn...\\'\\'\\' Madang Airport (...\\'\\'Xakanaka Airstrip\\'\\'Surat Gujarat Ai...\\'\\'\\' Novy Urengoy Air...\\'\\'\\' GoiÃ¢nia-Santa G...\\'\\'Dhorpatan Bowan...\\'\\'Al-Anad Air Base\\'\\'Erzurum Airport ...\\'\\'Shabunda Airport\\'\"Guri\\'el Airstrip\"\\'Warroad Airport ...\\'\\'Talcha Airport\\'\\'\\' Bilogai/Sugapa A...\\'\\'Larat-Watidar Ai...\\'\\'Atlanta Hartsfie...\\'\\'Mingoro Village\\'\\'Mesquite Airport...\\'\\'Walan Rabat Land...\\'\\'Karachi-Jinnah I...\\'\\'\\' Kitakojima Island\\'\\'\\' Namoya\\'\\'Wheatland-Phifer...\\'\\'Bukavu-Kavumu Ai...\\'\\'Kalibo Airport (...\\'\\'Craiova Airport ...\\'\\'Tanay Airfield ...\\'\\'\\' Manaus-Aeroclube...\\'\\'\\' Egelsbach Airport\\'\\'Paulding Northwe...\\'\\'Laguna Caballoco...\\'\"Deadman\\'s Cay Ai...\"\\'Mount Kebnekaise\\'\\'Franklin-Macon C...\\'\\'Blue River Airpo...\\'\\'\\' Byelaya Kalitva ...\\'\\'\\' Puerto Aguirre\\'\\'\\' Abalone Caye Po...\\'\\'Tokyo Haneda Int...\\'\\'Yida Airstrip\\'\\'DÃ¢rvari\\'\\'\\' Knyazhichi Sumy...\\'\\'Laguna Salada\\'\\'Eugene Airport ...\\'\\'Galkayo Airport ...\\'\\'Dhaka-Shahjalal ...\\'\\'Yambio Airport\\'\\'\\' Jomsom Airport (...\\'\\'Sasereme Airstrip\\'\\'Houston-George B...\\'\\'GÃ¶dÃ¶llÃµ Airfield\\'\\'CÃ¡slav Air Base\\'\\'The Diplomat Gol...\\'\\'\\' Tampa-Mac Dill A...\\'\\'LÃ©zignan-CorbiÃ...\\'\\'Mumbai (Bombay) ...\\'\\'\\' Modena Iron Cou...\\'\\'Minden-Tahoe Air...\\'\\'\\' Isla de Flores ...\\'\\'Aspen-Pitkin Cou...\\'\\'\\' Borodyanka Airfield\\'\\'Antigua-Coolidge...\\'\\'\\' Serov Sverdlovs...\\'\\'Vanimo Airport (...\\'\\'Sandy Lake Airpo...\\'\\'Pweto Airport (PWO)\\'\\'\\' La Leona Tocaima...\\'\\'Tver-Migalovo Ai...\\'\\'Hotan Airport (HTN)\\'\\'\\' Edgemont SD\\'\\'El Palomar Airpo...\\'\\'Conrad Maldivian...\\'\\'\\' Nouakchott Airpo...\\'\\'Le Castellet Air...\\'\\'Saint George Mun...\\'\\'Elban Amur region\\'\\'Bolshoe Gryzlovo...\\'\\'Cambridge Airpor...\\'\\'Juiz de Fora-Fra...\\'\\'St. Gallen-Alten...\\'\\'Kamra-Minhas PAF...\\'\\'Magong Airport (...\\'\\'\\' Talodi\\'\\'Ngerende Airstri...\\'\\'\\' Jhuosi Hualien ...\\'\\'Bydgoszcz Airpor...\\'\\'GaspÃ© Airport ...\\'\\'\\' Palana Airport\\'\\'\\' Bornholm-RÃ¸nne ...\\'\\'Macon Downtown A...\\'\\'\\' Duma\\'\\'New Haven-Tweed ...\\'\\'Dolpa Airport (DOP)\\'\\'\\' Ivdel Sverdlovs...\\'\\'Dmitrievskaya K...\\'\\'\\' Omdurman Khartoum\\'\\'SÃ£o Paulo/Campi...\\'\\'Nifty Airport W...\\'\\'Shindand Airport...\\'\\'Bir Kalait\\'\\'Butembo Airport\\'\\'\\' Wichita-Mid-Cont...\\'\\'\\' Saint-Germain-du...\\'\\'Murcia-San Javie...\\'\\'Bratislava-M. R....\\'\\'Greenwood County...\\'\\'\\' Snow Lake Airpor...\\'\\'\\' \" Sana\\'a Internati...\"\\'Yugorsk-2 Airfield\\'\\'\\' Bryans Corner OK\\'\\'\\' Mekoryuk-Ellis F...\\'\"Giant\\'s Castle ...\"\\'La Yesca Airstrip\\'\\'\\' Detroit Lakes MN\\'\\'\\' Iturbide\\'\\'within Afghanistan\\'\\'Tomas District ...\\'\\'\\' Libby Airport MT\\'\\'Holtanna Glacier\\'\\'\\' Heho Airport (HEH)\\'\\'\\' Shymkent Airport...\\'\\'Caia Airport (CMZ)\\'\\'between Los Roqu...\\'\\'\\' Pellston Regiona...\\'\\'Mount Elizabeth\\'\\'Okiwi Station Ai...\\'\\'\\' Almaty Airport (...\\'\\'Knyazhin Zhytom...\\'\\'Muscat-Seeb Airp...\\'\\'Salta-MartÃ\\\\xadn Mi...\\'\\'Thomson-McDuffie...\\'\\'\\' Rybinsk Airport ...\\'\\'Ponta Delgada-Jo...\\'\\'\\' Annemasse Airpor...\\'\\'\\' Pias Airport\\'\\'\\' Dillingham Munic...\\'\\'\\' South Bend Regio...\\'\\'Djolu Airport\\'\\'\\' Vostochnaya Ust...\\'\\'St. Anthony Airp...\\'\\'Lyon Saint-ExupÃ...\\'\\'Walaha Airport (...\\'\\'Seoul-Incheon In...\\'\\'\\' Zacatecas-La Cal...\\'\\'\\' Chaldovar\\'\\'\\' Valencia-Arturo ...\\'\\'northeast coast ...\\'\\'Strehaia\\'\\'\\' Ternate\\'\\'McMinnville Muni...\\'\\'\\' Chernolesskoye ...\\'\\'\\' Shenyang-Taoxian...\\'\\'Mong Hsat Airpor...\\'\\'Forward Operatin...\\'\\'\\' Jyl-Kol Jalal-A...\\'\\'Varna Airpot (VAR)\\'\\'Simikot Airport ...\\'\\'Davao City-Franc...\\'\\'\\' Baton Rouge Metr...\\'\\'\\' Cookstown Airpor...\\'\\'\\' \" N\\'GaoundÃ©rÃ© Ai...\"\\'\\' Saint-Mathieu-de...\\'\\'Chino Airport C...\\'\\'Marsh Harbour In...\\'\\'\\' FertÃ¶szentmiklÃ...\\'\\'\\' Terenozek Kyzyl...\\'\\'Seronera Airport...\\'\\'Moosehead Lake NL\\'\\'Soldotna Airport...\\'\\'\\' Matthews Ridge A...\\'\\'Shieli district ...\\'\\'Isla Perico Pan...\\'\\'Pyatikhatki Kra...\\'\\'\\' Shakhty Airport\\'\\'Lubumbashi Inter...\\'\\'\\' Akureyri Airport...\\'\\'Danfeng County\\'\\'Bienenfarm Airport\\'\\'\\' Birmingham-Shutt...\\'\\'\\' Vilyuisk\\'\\'Sucre-Juana Azur...\\'\\'Lake Manyara\\'\\'\\' Ivanhoe Lake NT\\'\\'\\' Purisima del Mag...\\'\\'Bangkok-Suvarnab...\\'\\'Hermosillo-Gen P...\\'\\'\\' ViÃ±a del Mar Ai...\\'\\'Ouagadougou Airp...\\'\\'\\' Nyagan\\'\\'Kerman Internati...\\'\\'Hudson Bay ON\\'\\'\\' Deauville-Saint ...\\'\\'Nouakchott-Oumto...\\'\\'Santa Monica Air...\\'\\'AcandÃ\\\\xad ChocÃ³ ...\\'\\'\\' Cayo Luis PeÃ±a\\'\\'Sevryukova Belg...\\'\\'Kudat Airport (KUD)\\'\\'\\' \" Skulyn Volyns\\'k...\"\\'Likawage Airstrip\\'\\'\\' Lincoln Municipa...\\'\\'\\' Loreto Airport (...\\'\\'Wichita-Colonel ...\\'\\'\\' Pakse Airport (PKZ)\\'\\'\\' Derby KS\\'\\'Balesin Airstrip\\'\\'Piilani Highway ...\\'\\'Tayozhny Krasno...\\'\\'Pogapa Airstrip\\'\\'Riberalta Airpor...\\'\"Devil\\'s Hole Sa...\"\\'\\' Buena Vista Apure\\'\\'\\' Red Lake Airport...\\'\\'Kazan Internatio...\\'\\'Kamako West-KasaÃ¯\\'\\'Badami Airport AK\\'\\'Kibeni\\'\\'Buon Me Thuot (B...\\'\\'Nuiqsut AK\\'\\'Bwabwata Nationa...\\'\\'\\' \" Saint Mary\\'s Air...\"\\'\\' Fukue Airport (FUJ)\\'\\'Omega Airport (OMG)\\'\\'\\' San Fernando de ...\\'\\'\\' La Alianza Arecibo\\'\\'\\' Walton IN\\'\\'\\' Pikany Indian Ai...\\'\\'\\' Kalaupapa Airpor...\\'\\'\\' Atlanta-Fulton C...\\'\\'\\' Coventry Warwic...\\'\\'Thisted Airport ...\\'\\'Jaipur Internati...\\'\\'Stephenville Int...\\'\\'Eastern Afghanistan\\'\\'\\' Trier-FÃ¶hren Ai...\\'\\'Saltillo-Plan de...\\'\\'\\' Olive Creek\\'\\'\\' Petreasa Alba\\'\\'\\' Roskilde Airport...\\'\\'Ilulissat Airpor...\\'\\'Kulob Airport (TJU)\\'\\'Elk City-Regiona...\\'\\'Zhengzhou-Xinzhe...\\'\\'Mala Mala Airpor...\\'\\'\\' AÃ¯n Kercha\\'\\'Stella Maris-Est...\\'\\'\\' Sandhikhark\\'\\'Rubkona Airport\\'\\'\\' Pearland Regiona...\\'\\'\\' Grombalia\\'\\'\\' Lukapa Airport (...\\'\\'\\' Hadhramaut\\'\\'\\' Kish Island Airp...\\'\\'within Indian Ocean\\'\\'San Fernando BA\\'\\'Zephyrhills Airp...\\'\\'\\' Kuala Lumpur-Sul...\\'\\'Karauli district...\\'\\'BrasÃ\\\\xadlia-Juscel...\\'\\'within Venezuela\\'\\'Kikori Airport (...\\'\\'Kramatorsk Airpo...\\'\\'\\' San Vicente del ...\\'\\'Terbuny Lipetsk...\\'\\'Columbus-Rickenb...\\'\\'Zahedan Airport ...\\'\\'Ganla\\'\\'El Wak\\'\\'\\' Xieng Khouang Ai...\\'\\'southern Apure S...\\'\\'Mount Airy/Surry...\\'\\'\\' Carmelo/Zagarzaz...\\'\\'Yazd Airport (AZD)\\'\\'Traverse City Ai...\\'\\'\\' Bruzual Apure\\'\\'Coari-Urucu Airp...\\'\\'\\' BahÃ\\\\xada Solano-Jo...\\'\\'Dayton-Mark Anto...\\'\\'\\' Drobyshevo\\'\\'Apure\\'\\'\\' Rybinsk Yarosla...\\'\\'\\' Olsztyn/Dajtki A...\\'\\'AruanÃ£ Airport GO\\'\\'Tehran-Imam Khom...\\'\\'\\' Lugansk Airport ...\\'\\'Fresno Yosemite ...\\'\\'\\' Lydenburg Mpuma...\\'\\'Huntsville Inter...\\'\\'\\' Egegik AK\\'\\'\\' Olsberg-Elpe\\'\\'\\' Peshawar-Bacha K...\\'\\'Astana Internati...\\'\\'\\' Chirundu\\'\\'Monkey Mountain ...\\'\\'\\' Izvaryne\\'\\'Hrabove\\'\\'Tarasovka Airfield\\'\\'Herat Airport (HEA)\\'\\'\\' Gossi\\'\\'Boulder City Mun...\\'\\'\\' Foz do IguaÃ§u/C...\\'\\'\\' Prototskiye Kra...\\'\\'\\' Harrisburg Inter...\\'\\'Santos SP\\'\\'Doncaster/Sheffi...\\'\\'Princeton Airpor...\\'\\'Raleigh/Durham I...\\'\\'Shamwana Airstrip\\'\\'Mulume Munene\\'\\'\\' Mercaderes Cauca\\'\\'Ibans Mosquitia\\'\\'\\' Kogatende\\'\\'NoumÃ©a-La Tonto...\\'\\'Athens Municipal...\\'\\'Nordelta BA\\'\\'\\' Varrelbusch Airp...\\'\\'San JosÃ© del C...\\'\\'Conroe-Lone Star...\\'\\'\\' Port Moresby-Jac...\\'\\'Kom Ashwin Fayoum\\'\\'Shoyna Airport\\'\\'Timmins Airport ...\\'\\'La TabatiÃ¨re Ai...\\'\\'Ceiba-Jose Apont...\\'\\'Punta Cana Inter...\\'\\'Lanai Airport H...\\'\\'Braunschweig Air...\\'\\'Laguna de Tres P...\\'\\'\\' Shabunda Airport\\'\\'Toussus-le-Noble...\\'\\'\\' Sint Maarten-Jul...\\'\\'\\' Elorza Apure State\\'\\'Panyagor Airstrip\\'\\'\\' Yellowknife NT\\'\\'London-Biggin Hi...\\'\\'Stavanger-Sola A...\\'\\'Samara-Kurumoch ...\\'\\'Teniente Rodolfo...\\'\\'\\' Mackall AAF NC\\'\\'Belize City Muni...\\'\\'Providenciales I...\\'\\'\\' Gaithersburg-Mon...\\'\\'Hokandara\\'\\'Obo-Mission Airs...\\'\\'Brittas House Ai...\\'\\'\\' ChampotÃ³n\\'\\'Tequesquitengo A...\\'\\'within Guyana\\'\\'\\' Uvira\\'\\'Lahore-Allama Iq...\\'\\'Magadan-Sokol Ai...\\'\\'Matthews Ridge A...\\'\\'\\' Abu adh Dhuhur A...\\'\\'\\' Shatyrkul Mine\\'\\'Dawlatabad distr...\\'\\'\\' Boca Druif\\'\\'Tripoli-Mitiga I...\\'\\'Rhodes/Paradisi-...\\'\\'Sebastian Munici...\\'\\'\\' Miami Executive ...\\'\\'\\' Quelimane Airport\\'\\'Kyiv-Borispol Ai...\\'\\'Marco Island Air...\\'\\'Hubli Airport (HBX)\\'\\'\\' Niigata Airport ...\\'\\'Prads-Haute-BlÃ©one\\'\\'\\' Goa India\\'\\'Verdigris OK\\'\\'Promin Lutsk di...\\'\"Sana\\'a-Al Dalaim...\"\\'Halifax-Stanfiel...\\'\\'Barneo Camp Ices...\\'\\'\\' Caribbean Sea\\'\\'\\' North Vancouver BC\\'\\'Khajuraho Airpor...\\'\\'Hiroshima Intern...\\'\\'\\' Rifle-Garfield C...\\'\\'\\' Portland Bill\\'\\'\\' Ashizuri Cape J...\\'\\'\\' Sevilla Airport ...\\'\\'Dahra Oilfield\\'\\'Azov district R...\\'\\'Newport News/Wil...\\'\\'\\' Klaipeda Lithua...\\'\\'Sanamer Stavrop...\\'\\'Mandeng Airstrip\\'\\'\\' Puerto Colombia\\'\\'\\' QuerÃ©taro Airpo...\\'\\'\\' Pichavaram\\'\\'Konan Airport (OKS)\\'\\'Sacramento-Execu...\\'\\'\\' Kosrae Airport (...\\'\\'Tatsinsky distri...\\'\\'Aktau Airport (SCO)\\'\\'over China\\'\\'\\' Kezhma Kezhemsk...\\'\\'Grosse Ile Munic...\\'\\'\\' Ella Lake Misty...\\'\\'Okcheon North C...\\'\\'Kapolei-Kalaeloa...\\'\\'\\' Medan-Soewondo A...\\'\\'\\' Kuredu Island Re...\\'\\'\\' Orange Beach AL\\'\\'\\' Dubai-Skydive Du...\\'\\'\\' Faraklo Laconia\\'\\'Ladowisko Chrcyn...\\'\\'\\' Manaus-Eduardo G...\\'\\'Lagoa Santa Air ...\\'\\'\\' Codazzi\\'\\'Stancuta\\'\\'Chandler Municip...\\'\\'\\' Saba\\'\\'Margaree Airport...\\'\\'Codrington Airpo...\\'\\'CervenÃ½ Kamen\\'\\'Aguni Airport (AGJ)\\'\\'Kaduna\\'\\'Thangool Airport...\\'\\'Barcaldine Airpo...\\'\\'\\' Tambacounda\\'\\'Louisburg-North ...\\'\\'Merseburg Airport\\'\\'\\' Iliamna-East Win...\\'\\'DÃ¼sseldorf Inte...\\'\\'Lhaviyani Kanifu...\\'\\'DÃ©line Airport ...\\'\\'Lismore Airport ...\\'\\'SaarbrÃ¼cken-Ens...\\'\\'Dubai-Palm Drop ...\\'\\'Bajaja Mount Di...\\'\\'\\' Chigwell Essex\\'\\'Tamale Airport (...\\'\\'\\' Afgooye\\'\\'Bamyan Province\\'\\'\\' Yumbillo\\'\\'\\' Apaseo el Alto\\'\\'Cuzco-Velazco As...\\'\\'Afgoye District\\'\\'\\' Hasna North Sinai\\'\\'\\' Las Mercedes del...\\'\\'\\' KoussanÃ©\\'\\'\\' Monroe County Ai...\\'\\'Saint Lucia-Geor...\\'\\'\\' Malakal Airport ...\\'\\'\\' Akron-Fulton Int...\\'\\'\\' Guarda-Mor MG\\'\\'Grand Forks Airp...\\'\\'Ixtapa/Zihuatane...\\'\\'\\' Farnborough Airp...\\'\\'Jabalpur Airport...\\'\\'Palm Springs Int...\\'\\'\\' Swellendam West...\\'\\'\\' Pickle Lake Airp...\\'\\'Oyonnax-Arbent A...\\'\\'\\' Anaktuvuk Pass A...\\'\\'\\' OajevÃ¡gge\\'\\'RondonÃ³polis-Ma...\\'\\'\\' Windhoek-Hosea K...\\'\\'Hooper Bay Airpo...\\'\\'Corral Viejo\\'\\'\\' Cedar Fort UT\\'\\'Scottsdale Airpo...\\'\\'Amundsen-Scott S...\\'\\'Chance Bay Whit...\\'\\'QuerÃ©taro Airpo...\\'\\'Gay Orenburg Ob...\\'\\'\\' Naypyidaw Intern...\\'\\'Dana Myagdi dis...\\'\\'\\' Kuala Selangor\\'\\'\\' Bangor ME\\'\\'\\' Langebaanweg Air...\\'\\'\\' Kawrgosk\\'\\'Albuquerque Sunp...\\'\\'Basel/Mulhouse/F...\\'\\'\\' \" Cox\\'s Bazar Airp...\"\\'Rome-Richard B R...\\'\\'Hacienda la Palm...\\'\\'Hawijah\\'\\'\\' Durango-Guadalup...\\'\\'\\' Aksarino Zainsk...\\'\\'Jakarta-Halim Pe...\\'\\'\\' MacapÃ¡ Internac...\\'\\'\\' Kanoya Air Base\\'\\'\\' Puerto GaitÃ¡n A...\\'\\'Fentress Airpark...\\'\\'\\' Kiunga Airport (...\\'\\'Maryevka Pestra...\\'\\'Cuenca-Mariscal ...\\'\\'\\' El Obeid Airport...\\'\\'Manning Airport AB\\'\\'\\' San Bernardino I...\\'\\'Indore-Devi Ahil...\\'\\'Dexter Municipal...\\'\\'\\' Lodi Airport CA\\'\\'\\' Tequesquitengo\\'\\'Dwyer Airport (DWR)\\'\\'\\' Texarkana AR\\'\\'Akobo Airport\\'\\'\\' Neryungri Airpor...\\'\\'Fort Dodge Airpo...\\'\\'Gainesville-J R ...\\'\\'Bor Airport\\'\\'Lolat Yahukimo ...\\'\\'\\' Bach Long Vi Island\\'\\'Khark Airport (KHK)\\'\\'\\' Homer-Beluga Lak...\\'\\'Lima-Jorge ChÃ¡v...\\'\\'\\' Dervenochoria\\'\\'Bereke\\'\\'\\' Novopokrovskoye ...\\'\\'\\' Rybnyi Uyan Kac...\\'\\'Loei Airport (LOE)\\'\\'Montijo Air Base\\'\\'San Juan-Fernand...\\'\\'\\' Jinshan City Beach\\'\\'Baldwin Airport WI\\'\\'\\' Chennai Bay of ...\\'\\'\\' Zelenogorskiy K...\\'\\'\\' Spanish Fork UT\\'\\'Ajaccio-Napoleon...\\'\\'\\' Simikot\\'\\'Polyarnyj Airpor...\\'\\'\\' SÃ£o Pedro do Sul\\'\\'Orillas del RÃ\\\\xado...\\'\\'North Eleuthera ...\\'\\'\\' Biloxi MS\\'\\'\\' Russian Mission ...\\'\\'Orlando Apopka A...\\'\\'\\' Tatarskoye Urayk...\\'\\'Puerto Montt-Mar...\\'\\'Jackson-McKellar...\\'\\'Bray Northern Cape\\'\\'Taipei-Taiwan Ta...\\'\\'\\' Belaya Gora Airp...\\'\\'Bloodvein River ...\\'\\'\\' Kelowna Airport ...\\'\\'Smithfield-North...\\'\\'Dunnellon/Marion...\\'\\'\\' Apiay\\'\\'Porto Alegre-Can...\\'\\'Lisboa-Humberto ...\\'\\'Panama City Albr...\\'\\'\\' Moorhead Municip...\\'\\'Pitu/Morotai-Leo...\\'\\'Tyler-Pounds Reg...\\'\\'\\' Tanjung Pinang\\'\\'Gunnison-Crested...\\'\\'\\' Camilla GA\\'\\'\\' Port Aransas-Mus...\\'\\'\\' Havelian\\'\\'Hobart Airport ...\\'\\'Saint-FrÃ©dÃ©ric...\\'\\'Moomba Airport ...\\'\\'\\' Puerto CarreÃ±o-...\\'\\'Butterworth RMAF...\\'\\'\\' Adler\\'\\'Sasakwa Airstrip\\'\\'\\' Muscat Oman\\'\\'Five Point-Agro-...\\'\\'Howell-Livingsto...\\'\\'Swan River Pert...\\'\\'Illertissen Airport\\'\\'\\' Thebephatshwa Ai...\\'\\'Tulita Airport ...\\'\\'\\' Lago de Maracaibo\\'\\'Salzburg-W. A. M...\\'\\'Caracas/La Carlo...\\'\\'Azraq-Muwaffaq S...\\'\\'Yalowega Lake SK\\'\\'Kalaupapa Airpor...\\'\\'\\' Mutare Airport (...\\'\\'Ardabil Airport ...\\'\\'Jauja-Francisco ...\\'\\'Yei Airport\\'\\'\\' PoÃ§os de Caldas...\\'\\'Kopinang Airfield\\'\\'Richfield Munici...\\'\\'Waukesha Airport...\\'\\'Soyo Airport (SZA)\\'\\'\\' FacatativÃ¡\\'\\'Chignik AK\\'\\'Assabu Hokkaido...\\'\\'\\' Toluca Internati...\\'\\'\\' Skagway AK\\'\\'Elfin Cove Seapl...\\'\\'MalÃ©-Velana Int...\\'\\'Mogadishu Aden A...\\'\\'Ulan Bator-Ching...\\'\\'Garbaharey Airpo...\\'\\'\\' Dawei\\'\\'TarapacÃ¡ Airpor...\\'\\'Nancova Airstrip\\'\\'\\' Kiliya\\'\\'\\' Alpine-Casparis ...\\'\\'\\' Macanao\\'\\'\\' Itta Bena MS\\'\\'\\' \" Val-d\\'Or\"\\'Lower East River...\\'\\'Sinak Airport (NKD)\\'\\'\\' Eteringbang Airport\\'\\'Mikonos Airport ...\\'\\'\\' Poltavskaya Kra...\\'\\'Medan-Kualanamu ...\\'\\'Mulino State Air...\\'\\'\\' Pocatello Airpor...\\'\\'Iquitos-Coronel ...\\'\\'\\' NaiguatÃ¡\\'\\'Temporary Landin...\\'\\'\\' Yeniseisk Krasn...\\'\\'Maban Airstrip\\'\\'Chernoye Airport\\'\\'\\' Turinskaya Slobo...\\'\\'Hato Viejo\\'\\'Playa Linda\\'\\'Sint Maarten-Jul...\\'\\'Ciudad del Carme...\\'\\'Greeley-Weld Cou...\\'\\'Bridgetown-Grant...\\'\\'\\' southern Greenland\\'\\'ParÃ¡ de Minas A...\\'\\'Nili Airport\\'\\'\\' MalÃ©-Velana Int...\\'\\'Mazamari-Manuel ...\\'\\'Xuddur Airport\\'\\'\\' Dundo\\'\\'Iloilo Internati...\\'\\'Chester/Hawarden...\\'\\'Rio Negro Parqu...\\'\\'\\' Nuevo Saposoa\\'\\'Prince Albert Ai...\\'\\'Lobo Wildlife Lo...\\'\\'Toronto - London\\'\\'Coffee Creek YT\\'\\'Ekimchan Amur r...\\'\\'\\' Limpopo province\\'\\'Toronto City-Bil...\\'\\'\\' Nelkan Airport\\'\\'Empakaai area\\'\\'Dhaalu Atoll\\'\\'\\' Placencia Airpor...\\'\\'Doha-Hamad Inter...\\'\\'Buka Airport (BUA)\\'\\'\\' Fond-du-Lac Airp...\\'\\'Sieberatsreute ...\\'\\'\\' Dinangat Village\\'\\'Michigan City Ai...\\'\\'\\' Punta Islita Air...\\'\\'KittilÃ¤ Airport...\\'\\'Akobo\\'\\'Rock Springs-Swe...\\'\\'Jessore Airport ...\\'\\'\\' Zhetygen Air Base\\'\\'Hodulluca Mevkii...\\'\\'Brownsville-Sout...\\'\\'Zhengchang Suiy...\\'\\'\\' Stepanovskoye R...\\'\\'\\' Yasuj Airport (YES)\\'\\'Havre-Saint-Pier...\\'\\'Tallinn-Lennart ...\\'\\'\\' Latakia-Khmeimim...\\'\\'\\' Shahr-e Kurd\\'\\'\\' Blue Creek Oran...\\'\\'Talbot Bay WA\\'\\'Hastings Airport...\\'\\'\\' Deadhorse AK\\'\\'Sheridan Airport...\\'\\'Riberalta-CapitÃ...\\'\\'Orlando-Central ...\\'\\'\\' Gardiner Airport...\\'\\'Marion Municipal...\\'\\'\\' Boufarik Air Base\\'\\'\\' Atqasuk Airport ...\\'\\'El Barde Somali...\\'\\'\\' Omaha NE\\'\\'Akola village\\'\\'\\' Crozet VA\\'\\'\\' Philadelphia PA\\'\\'Newquay-Cornwall...\\'\\'Alexandria Inter...\\'\\'\\' Sharara Airstrip\\'\\'\\' Savannah/Hilton ...\\'\\'\\' IbaguÃ©\\'\\'Santiago de Comp...\\'\\'GaviÃ£o Peixoto-...\\'\\'\\' Clonbullogue Aer...\\'\\'\\' TuzantÃ¡n\\'\\'Bahun Khark\\'\\'Yangzhou Taizhou...\\'\\'Kamonia Airstrip\\'\\'\\' Obo-Mission Airs...\\'\\'\\' Njabini\\'\\'Saint Tropez-La ...\\'\\'Baleni Galati C...\\'\\'Mendi Airport (MDU)\\'\\'Kyiv-Igor Sikors...\\'\\'\\' Nabire Airport (...\\'\\'Columbus-John Gl...\\'\\'Kenyam Airstrip\\'\\'SouguÃ©ta Kindia\\'\\'Nizhneudinsk Ir...\\'\\'San Pedro Airpor...\\'\\'\\' Padek Airstrip\\'\\'Fez-Sais Airport...\\'\\'Parker Lake NU\\'\\'\\' Al Hoceima-Chari...\\'\\'\\' Pretoria-Wonderb...\\'\\'Mount Jumbo Pri...\\'\\'San Felipe Airport\\'\\'Manley Hot Sprin...\\'\\'Cataratas del Ig...\\'\\'\\' Al Alamain\\'\\'Burnet Municipal...\\'\\'\\' Kamako Airstrip\\'\\'Portsmouth Inter...\\'\\'Port Vila-Bauerf...\\'\\'Evenki district ...\\'\\'Durango-Guadalup...\\'\\'\\' Wilmington-New H...\\'\\'\\' Tongjiang\\'\\'\\' Piz Segnas\\'\\'Lalgarh Airport\\'\\'Ketron Island WA\\'\\'Payson UT\\'\\'Gera-Leumnitz Ai...\\'\\'\\' Cape Hatteras NC\\'\\'Pieri Airstrip\\'\\'SantafÃ© del Cag...\\'\\'Macau Airport (MFM)\\'\\'\\' Brusartsi\\'\\'\\' Mojo\\'\\'Burbank-Bob Hope...\\'\\'Itapaci GO\\'\\'\\' Yirol Airstrip\\'\\'Whitehead Pond NL\\'\\'Santa Fe Airport...\\'\\'\\' Lake Jackson TX\\'\\'Foz do IguaÃ§u/C...\\'\\'\\' Oscoda Wurtsmith...\\'\\'\\' Sendai Japan\\'\\'\\' Chuuk/Weno Inter...\\'\\'Khartoum Airport...\\'\\'Gambell Airport ...\\'\\'Beoga Airstrip\\'\\'\\' Tanjung Bungin\\'\\'Chaklala-PAF Bas...\\'\\'\\' Lisbon\\'\\'Winder-Barrow Co...\\'\\'BahÃ\\\\xada Solano-Jo...\\'\\'\\' JequitaÃ\\\\xad-Fazend...\\'\\'\\' Memphis IN\\'\\'Fargo-Hector Int...\\'\\'Athens-ElefthÃ©r...\\'\\'\\' Muroto Cape Japan\\'\\'\\' Hobart TAS\\'\\'Corozo SarstÃºn\\'\\'Mount Gambier Ai...\\'\\'Kamarata Airport...\\'\\'Savonlinna Airpo...\\'\\'Uvalde-Ox Ranch ...\\'\"Fat\\'h Airport\"\\'\\' Kidron-Stoltzfus...\\'\\'Rouyn Airport Q...\\'\\'Tuscaloosa Regio...\\'\\'\\' Kake AK\\'\\'\\' WhatÃ¬/Lac La Ma...\\'\\'\\' Bay Harbor Islan...\\'\\'Billund Airport ...\\'\\'\\' CaracaraÃ\\\\xad RR\\'\\'Trinity Bay nea...\\'\\'Pyongtaek-Deside...\\'\\'Ouargla-Ain Beid...\\'\\'Eufaula-Weedon F...\\'\\'Rio de Janeiro/G...\\'\\'Presque Isle Int...\\'\\'\\' Little Grand Rap...\\'\\'Finca La Bendici...\\'\\'\\' San Pedro Peralt...\\'\\'\\' Inuvik NT\\'\\'Latrobe-Westmore...\\'\\'Orlando Sanford ...\\'\\'Kuala Lumpur-Sul...\\'\\'Oklahoma City-Su...\\'\\'\\' Bajamar\\'\\'Matsieng Aerodrome\\'\\'Alonso de Rojas\\'\\'\\' Nashville Intern...\\'\\'Innsbruck-Kraneb...\\'\\'Dominica Douglas...\\'\\'\\' New Albany MS\\'\\'Dry Tortugas Nat...\\'\\'Siegen-Siegerlan...\\'\\'Gillam Airport ...\\'\\'Jacksonville Nav...\\'\\'\\' Hay River Airpor...\\'\\'Vyun Tomponsky ...\\'\\'\\' Monclova\\'\\'\\' Kuujjuarapik Air...\\'\\'\\' Uriman Airport (...\\'\\'Saint-Esprit Aer...\\'\\'Mandalay Interna...\\'\\'Chico de Chamorr...\\'\\'Zhuravskoye\\'\\'\\' Indianapolis Reg...\\'\\'\\' Lipo\\'\"Svyatoshyns\\'kyi ...\"\\'\\' Kyren Tunkinsky...\\'\\'Kiunga Airport (...\\'\\'RÃ\\\\xado Chixoy La ...\\'\\'JoaquÃ\\\\xadn V. Gonz...\\'\\'\\' Rodina village ...\\'\\'\\' Fort Hope Airpor...\\'\\'\\' Mlyny Poltava r...\\'\\'Parque Nacional ...\\'\\'Nizhneangarsk Ai...\\'\\'Plant City-Black...\\'\\'\\' Gvardeysky\\'\\'\\' Roberval Airport...\\'\\'\\' Raduga Novoalek...\\'\\'Graham Creek To...\\'\\'Novoshchedrinska...\\'\\'Mesquite Municip...\\'\\'Al Jufra Airbase\\'\\'Addenbroke Islan...\\'\\'Mora Kalu Rawal...\\'\\'\\' Grand Batanga\\'\\'Candle 2 Airport...\\'\\'Longmen Farm Wu...\\'\\'\\' Fakhrabad\\'\\'Aarhus Airport (...\\'\\'Misrata Internat...\\'\\'Mafia Airport (MFA)\\'\\'\\' Mayo Airport YT...\\'\\'\\' Los Ã\\\\x81ngeles-Mar...\\'\\'Las Pilas Champ...\\'\\'El Ramonal Chet...\\'\\'\\' Base Marambio\\'\\'\\' Zhukovsky Intern...\\'\\'Elizabethton Mun...\\'\\'San Marcos Regio...\\'\\'Kapalua Airport ...\\'\\'Oroville Airport...\\'\\'Gmunden Airfield\\'\\'Santa Barbara Ai...\\'\\'Aligarh Airport\\'\\'Selektsionny Lg...\\'\\'Egelsbach Airfie...\\'\\'Lake Syuryun-Kyu...\\'\\'El Monte-San Gab...\\'\\'Pansol Calamba ...\\'\\'\\' Nueva CajolÃ¡\\'\\'Manizales-La Nub...\\'\\'\\' Gransee Airfield\\'\\'Chencoh Hopelc...\\'\\'\\' Kampung Mamontog...\\'\\'Ta Island Airstr...\\'\\'Pepperell Airpor...\\'\\'Seronera Airstri...\\'\\'Moo 2 Sai Yok D...\\'\\'San Salvador de ...\\'\\'Blue Creek Oran...\\'\\'Windsor Locks-Br...\\'\\'\\' Lviv-Danylo Haly...\\'\\'Charleston Inter...\\'\\'Fort Myers-South...\\'\\'\\' Kole\\'\\'Cedartown-Polk C...\\'\\'Unalaska-Tom Mad...\\'\\'\\' Nassau-Lynden Pi...\\'\\'\\' Atlanta Hartsfie...\\'\\'PalajuyÃº Sipac...\\'\\'Sipacate Escuintla\\'\\'Family Lake Lit...\\'\\'Kolnyang County\\'\\'Vista Hermosa I...\\'\\'San Jose Cabo-Lo...\\'\\'PetÃ©n\\'\\'MaraÃº-Barra Gra...\\'\\'Saint-Jean du Sud\\'\\'Gasmata\\'\\'Black Point Airs...\\'\\'\\' El Picudo San A...\\'\\'\\' San AndrÃ©s Vill...\\'\\'\\' Sachigo Lake Air...\\'\\'Detroit-Coleman ...\\'\\'SayaxchÃ© PetÃ©n\\'\\'\\' Chan Chen Corozal\\'\\'\\' Victoria Regiona...\\'\\'\\' King George Island\\'\\'QuichÃ©\\'\\'Sarteneja airstrip\\'\\'Visalia Airport ...\\'\\'El Chico Retalh...\\'\\'\\' Scottsbluff NE\\'\\'\\' Tastiota\\'\\'\\' Otamendi BA\\'\\'\\' Geneina Airport ...\\'\\'\\' Haputale\\'\\'Manda Bay-Camp S...\\'\\'\\' Sabashahr\\'\\'\\' Unalaska-Tom Mad...\\'\\'Schefferville Ai...\\'\\'\\' Cooma NSW\\'\\'\\' Friemersheim\\'\\'Bandar Mahshahr ...\\'\\'\\' Sharana FOB\\'\\'Monterrey-Aeropu...\\'\\'Dammam-King Faha...\\'\\'\\' Eureka-Murray Fi...\\'\\'\\' Fairmount GA\\'\\'Rio Bueno-Fundo ...\\'\\'Usinsk Airport (...\\'\\'\\' Benbrook TX\\'\\'Miyanmin Airstri...\\'\\'Magadan-13 Airport\\'\\'\\' Lake Coleman TX\\'\\'Dryden Regional ...\\'\\'Kuredu Island Re...\\'\\'Belmar/Farmingda...\\'\\'\\' Ust-Kamenogorsk ...\\'\\'Altoona Airport ...\\'\\'Claura Arriba I...\\'\\'Fort Langley Air...\\'\\'Porlamar-del Car...\\'\\'Phoenix-Scottsda...\\'\\'\\' La Crosse Rush ...\\'\\'Yenkisa Airstrip...\\'\\'\\' Caballo Blanco ...\\'\\'Jonesboro Munici...\\'\\'\\' Tarhuna\\'\\'\\' Las Cruces PetÃ©n\\'\\'Laguna del Tigre...\\'\\'Kugaaruk Airport...\\'\\'\\' Lloydminster Air...\\'\\'\\' Bardale Airstrip\\'\\'southern Zulia s...\\'\\'Ulang Airstrip\\'\\'\\' Victorville-Sout...\\'\\'Houston Internat...\\'\\'Natal Air Force ...\\'\\'Kolkata-Netaji S...\\'\\'\\' Morocoy Quintan...\\'\\'\\' Sarteneja\\'\\'RegiÃ³n Costa Mo...\\'\\'San Diego-Brown ...\\'\\'Urzhar Airport (...\\'\\'Al Taji Army Air...\\'\\'Machiques de Per...\\'\\'Mapastepec\\'\\'\\' JosÃ© Maria More...\\'\\'Toluca-Licenciad...\\'\\'\\' Kistenevo Bolsh...\\'\\'Beledweyne-Ugas ...\\'\\'\\' Van-Ferit Melen ...\\'\\'\\' Tagarkhay Burya...\\'\\'\\' Brus Laguna\\'\\'Shanghai Pudong ...\\'\\'Montgomery Regio...\\'\\'Holbox Airstrip\\'\\'\\' El Chal PetÃ©n ...\\'\\'Rio Negro Zulia\\'\\'Dhobley Airstrip\\'\\'Lobios\\'\\'IxcÃ¡n\\'\\'\\' ParaguanÃ¡\\'\\'Santa Ana Barto...\\'\\'New Fangak Airstrip\\'\\'Ziguinchor Airpo...\\'\\'Chicago/Rockford...\\'\\'Lake Charles-Che...\\'\\'Palenque Airport...\\'\\'\\' Tokyo-Haneda Int...\\'\\'Belo Horizonte/P...\\'\\'Whitmore-Grand C...\\'\\'Maji Moto area i...\\'\\'Machiques de Perija\\'\\'Zanja\\'\\'Santha Martha\\'\\'\\' Guaymaral Airport\\'\\'Alta Verapaz Sa...\\'\\'\\' Chuhuiv Air Base\\'\\'Catatumbo Edo ...\\'\\'Sur del Lago reg...\\'\\'\\' Martuni\\'\\'\\' Salton City CA\\'\\'Machiques Zulia\\'\\'Sergio ButrÃ³n C...\\'\\'Mundri Airstrip\\'\\'Yakataga Airport...\\'\\'Mwoakilloa Airfi...\\'\\'Medhafushi Water...\\'\\'Fukue Airport (FUJ)\\'\\'Laguna del Tigre\\'\\'Igaratinga-SÃ£o ...\\'\\'BrasÃ\\\\xadlia-Piquet...\\'\\'Fernandina Beach...\\'\\'El Chico Champe...\\'\\'Iquitos Internat...\\'\\'CaÃ±o Amarillo ...\\'\\'Mysore Airport (...\\'\\'Sion Airport (SIR)\\'\\'Naujaat Airport ...\\'\\'Wobagen Airstrip\\'\\'Garowe Airport (...\\'\\'Lufkin Angelina ...\\'\\'JesÃºs MarÃ\\\\xada Se...\\'\\'\\' Zolota Sloboda ...\\'\\'southern Belize\\'\\'Leadville Airpor...\\'\\'Jacksonville Exe...\\'\\'Farmingdale-Repu...\\'\\'Kawemhaken-Lawa ...\\'\\'Diamantina Airpo...\\'\\'\\' Jakarta-Soekarno...\\'\\'\\' Pine Grove OR\\'\\'Rocky Point Cla...\\'\\'Los Mochis-Feder...\\'\\'Mukinge Mission ...\\'\\'Davenport Airpor...\\'\\'Crooked Tree Or...\\'\\'\\' Taechon Air Base\\'\\'Iturup Airport (...\\'\\'Abha Internation...\\'\\'San Diego-Montgo...\\'\\'Blois/Le Breuil ...\\'\\'Kaskattama Airst...\\'\\'\\' Abuja-Nnamdi Azi...\\'\\'\\' Xalapa Airport (...\\'\\'San AndrÃ©s PetÃ©n\\'\\'\\' Boraldai\\'\\'Monfort Airport ...\\'\"Shanghu Ji\\'an C...\"\\'GhardaÃ¯a-NoumÃ©...\\'\\'Pieri\\'\\'Isfahan Airport\\'\\'Angguruk Airstrip\\'\\'Chevak Airport ...\\'\\'Puerto Vallarta-...\\'\\'Kapaure\\'\\'\\' Marsabit Airport...\\'\\'Gdansk-Lech Wale...\\'\\'\\' Osaka/Yao Airpor...\\'\\'Chignik-Lagoon A...\\'\\'\\' Laceyville PA\\'\\'Charleston Execu...\\'\\'Ridgeland Airpor...\\'\\'Gwalior Airport ...\\'\\'Nangang Island-M...\\'\\'\\' Denver-Centennia...\\'\\'Parque Laguna de...\\'\\'Laytamak Airstrip\\'\\'\\' Smyrna Airport ...\\'\\'Alexandroupolis-...\\'\\'Atlanta-Cobb Cou...\\'\\'Wiener Neustadt ...\\'\\'\\' Pyin Oo Lwin\\'\\'\\' Tanay Airfield\\'\\'within JesÃºs MarÃ\\\\xada Se...\\'\\'\\' Gijet\\'\\'\\' Zaboyskiy Slavy...\\'\\'\\' Teuge Airport\\'\\'Penticton Airpor...\\'\\'\\' Honolulu-Daniel ...\\'\\'Patikul Sulu\\'\\'\\' Karaultobe Kyzy...\\'\\'\\' Treasure Cay Air...\\'\\'\\' Aniak Airport A...\\'\\'Rex North Mining...\\'\\'\\' Fort Smith NT\\'\\'Kavala-Megas Ale...\\'\\'Eteringbang Airport\\'\\'Ganges Harbor Ai...\\'\\'\\' Kedrovo\\'\\'Old Sarum Airfield\\'\\'Burahache Airstrip\\'\\'Reading Regional...\\'\\'\\' Norderney Airfie...\\'\\'\\' Kombolcha\\'\\'within JesÃºs Ma...\\'\\'Nengbei Farm He...\\'\\'\\' Kahramanmaras\\'\\'\\' Kubinka AFB\\'\\'Lansing-Capital ...\\'\\'Elk River NC (N...\\'\\'\\' Plainville-Rober...\\'\\'\\' Kazachinskoye Ai...\\'\\'RÃ\\\\xado Catatumbo\\'\\'\\' Piracicaba Airpo...\\'\\'between Youngsto...\\'\\'Berlin Brandenbu...\\'\\'Asheville Region...\\'\\'Honolulu-Daniel ...\\'\\'Moorsele Airfield\\'\\'\\' Thomson-McDuffie...\\'\\'\\' Little Belize C...\\'\\'\\' Menzelinsk Airport\\'\\'\\' Wilton-Alta Mesa...\\'\\'Mount Pleasant R...\\'\\'Houston Executiv...\\'\\'Jacmel Airport (...\\'\\'\\' Alapayevsk Sver...\\'\\'Dagi Baru Airstrip\\'\\'\\' Fort Providence NT\\'\\'Dolow Airport\\'\\'western Venezuela\\'\\'\\' Victoria 3 Reta...\\'\\'Letca Noua Airfield\\'\\'\\' Beaver Island-We...\\'\\'between Santiago...\\'\\'\\' Port Alsworth Ai...\\'\\'Lake Havasu City...\\'\\'Kemi/Tornio Airp...\\'\\'\\' Manchester-Bosto...\\'\\'Dubuque IA\\'\\'Fulshear TX\\'\\'\\' Shabunda\\'\\'El Cajon San Diego\\'\\'Bazaruto Island ...\\'\\'Helena-Thompson-...\\'\\'Rio Dulce-Las Ve...\\'\\'\\' \" N\\'Tireft\"\\'\\' Venetia Mine Air...\\'\\'RoatÃ¡n-Juan Man...\\'\\'Hangzhou-Xiaosha...\\'\\'Machakilha Tole...\\'\\'\\' Vakilabad Arzuiyeh\\'\\'Hayden-Yampa Val...\\'\\'Islip-Long Islan...\\'\\'Agok Airstrip\\'\\'\\' Koryaki Yelizov...\\'\\'MorÃ³n-Ituzaingo...\\'\\'Culebra Airport ...\\'\\'Umiat Airport A...\\'\\'\\' Aralsk\\'\\'\\' Zhukivtsi\\'\\'\\' Ostrogozhsk Vor...\\'\\'\\' Oceanside Munici...\\'\\'Kyiv-Gostomel Ai...\\'\\'\\' MohÃ©li-Bandar e...\\'\\'Bilogai/Sugapa A...\\'\\'Campbellton TX\\'\\'\\' Sanya\\'\\'Kanpur Air Force...\\'\\'Gulfport-Biloxi ...\\'\\'Baltimore-Martin...\\'\\'\\' Sioux Lookout Ai...\\'\\'\\' Wuzhou Tengxian...\\'\\'SÃ¤ntis Mountain\\'\\'\\' Burley Municipal...\\'\\'Caldwell Wright ...\\'\\'Mykhailivka\\'\\'Pamiers/Les Pujo...\\'\\'Boituva SP\\'\\'\\' Nanga Eboko\\'\\'Chongqing-Jiangb...\\'\\'Eldorado do Sul RS\\'\\'\\' Dry Bay Airport AK\\'\\'\\' Lynedoch Private...\\'\\'Sanosware\\'\\'Natchitoches Reg...\\'\\'Ellington Airpor...\\'\\'Chisana Field A...\\'\\'LiÃ¨ge Airport (...\\'\\'\\' Sebyan-Kyuel Ko...\\'\\'\\' Olenyok Airport ...\\'\\'\\' Ryazan-Dyagilevo...\\'\\'\\' Oymyakon Airfield\\'\\'RÃ\\\\xado Grande-Gobe...\\'\\'Prochnookopskaya...\\'\\'\\' Kavala\\'\\'Kotzebue-Ralph W...\\'\\'\\' Omdurman Al Hara\\'\\'Talkeetna Airpor...\\'\\'Chiang Rai-Mae F...\\'\\'GoiÃ¢nia-Naciona...\\'\\'\\' Abu Dhabi-Bateen...\\'\\'Nes\\'\\'Conakry-Gbessia ...\\'\\'\\' PiotrkÃ³w Trybun...\\'\\'\\' Ventspils (Balti...\\'\\'\\' Freeland WA\\'\\'Phoenix-Mesa Gat...\\'\\'\\' Kissimmee Gatewa...\\'\\'\\' Porto Trombetas PA\\'\\'\\' Ramos Arizpe\\'\\'Pointe-Noire Ago...\\'\\'El Estrecho Airp...\\'\\'Pietermaritzburg...\\'\\'within Zulia\\'\\'Yassin east Darfur\\'\\'KÃ¶ln/Bonn-Konra...\\'\\'Montpellier-MÃ©d...\\'\\'Waco-McGregor Ex...\\'\\'Nantes Atlantiqu...\\'\\'Moa Island Torr...\\'\\'\\' Jeberos\\'\\'Lac PLuto QC\\'\\'Mactan-Cebu Inte...\\'\\'\\' Linguaglossa Si...\\'\\'\\' Kasese\\'\\'\\' Miami-Dade Count...\\'\\'Pewaukee WI\\'\\'\\' Snohomish WA\\'\\'Batesville Regio...\\'\\'GuantÃ¡namo Nava...\\'\\'Wichita Dwight D...\\'\\'Abudwak Airstrip\\'\\'\\' Venado\\'\\'Mweya Airport\\'\\'Provo Airport U...\\'\\'\\' Karatayka\\'\\'\\' Novomaryevskaya ...\\'\\'\\' Pokhara Internat...\\'\\'\\' Molokai/Kaunakak...\\'\\'Poplar Municipal...\\'\\'Al-Khadim Air Base\\'\\'40 nm S of Toron...\\'\\'Fitzgerald River...\\'\\'Eliptamin Airpor...\\'\\'San JosÃ© Vista ...\\'\\'Rochester-Greate...\\'\\'\\' Berisso BA\\'\\'\\' Little Rock-Bill...\\'\\'\\' Nakina ON\\''"
      ]
     },
     "execution_count": 46,
     "metadata": {},
     "output_type": "execute_result"
    }
   ],
   "source": [
    "new=new.str.strip()\n",
    "new.unique().sum()"
   ]
  },
  {
   "cell_type": "code",
   "execution_count": 47,
   "metadata": {},
   "outputs": [],
   "source": [
    "new=new.str.strip(\"\\'\")"
   ]
  },
  {
   "cell_type": "code",
   "execution_count": 55,
   "metadata": {},
   "outputs": [
    {
     "data": {
      "text/html": [
       "<div>\n",
       "<style scoped>\n",
       "    .dataframe tbody tr th:only-of-type {\n",
       "        vertical-align: middle;\n",
       "    }\n",
       "\n",
       "    .dataframe tbody tr th {\n",
       "        vertical-align: top;\n",
       "    }\n",
       "\n",
       "    .dataframe thead th {\n",
       "        text-align: right;\n",
       "    }\n",
       "</style>\n",
       "<table border=\"1\" class=\"dataframe\">\n",
       "  <thead>\n",
       "    <tr style=\"text-align: right;\">\n",
       "      <th></th>\n",
       "      <th>location</th>\n",
       "    </tr>\n",
       "  </thead>\n",
       "  <tbody>\n",
       "    <tr>\n",
       "      <th>61</th>\n",
       "      <td>Verona</td>\n",
       "    </tr>\n",
       "    <tr>\n",
       "      <th>62</th>\n",
       "      <td>Felixtowe RNAS</td>\n",
       "    </tr>\n",
       "    <tr>\n",
       "      <th>63</th>\n",
       "      <td>Acadia Siding C...</td>\n",
       "    </tr>\n",
       "    <tr>\n",
       "      <th>64</th>\n",
       "      <td>El Shereik</td>\n",
       "    </tr>\n",
       "    <tr>\n",
       "      <th>65</th>\n",
       "      <td>Ã\\x96stanÃ¥</td>\n",
       "    </tr>\n",
       "    <tr>\n",
       "      <th>...</th>\n",
       "      <td>...</td>\n",
       "    </tr>\n",
       "    <tr>\n",
       "      <th>23912</th>\n",
       "      <td>Berisso BA</td>\n",
       "    </tr>\n",
       "    <tr>\n",
       "      <th>23913</th>\n",
       "      <td>Houston-William ...</td>\n",
       "    </tr>\n",
       "    <tr>\n",
       "      <th>23914</th>\n",
       "      <td>Little Rock-Bill...</td>\n",
       "    </tr>\n",
       "    <tr>\n",
       "      <th>23915</th>\n",
       "      <td>Nakina ON</td>\n",
       "    </tr>\n",
       "    <tr>\n",
       "      <th>23916</th>\n",
       "      <td>Belmar/Farmingda...</td>\n",
       "    </tr>\n",
       "  </tbody>\n",
       "</table>\n",
       "<p>23856 rows × 1 columns</p>\n",
       "</div>"
      ],
      "text/plain": [
       "                   location\n",
       "61                   Verona\n",
       "62           Felixtowe RNAS\n",
       "63       Acadia Siding C...\n",
       "64               El Shereik\n",
       "65              Ã\\x96stanÃ¥\n",
       "...                     ...\n",
       "23912            Berisso BA\n",
       "23913   Houston-William ...\n",
       "23914   Little Rock-Bill...\n",
       "23915             Nakina ON\n",
       "23916   Belmar/Farmingda...\n",
       "\n",
       "[23856 rows x 1 columns]"
      ]
     },
     "execution_count": 55,
     "metadata": {},
     "output_type": "execute_result"
    }
   ],
   "source": [
    "new=pd.DataFrame(new)\n",
    "new"
   ]
  },
  {
   "cell_type": "code",
   "execution_count": 50,
   "metadata": {},
   "outputs": [
    {
     "data": {
      "text/plain": [
       "'Verona Felixtowe RNASAcadia Siding C... El ShereikÃ\\\\x96stanÃ¥Golders GreenHavana harbourMeerutLago Maggiore Calais The Engl...Evere AirfieldBerck-sur-Mer Senlis Beijing-Nanyuan ...Thieuloy-Saint-A... Havana CubaMonsures Somme Ã\\\\x89taplesPoix ValenciennesEast Malling KentLittlestone KentLondon-Croydon A...Golden Green ne... Amsterdam-Schiph...Wadhurst East S... Boulogne Englis...Hurst  Ashf...Leigh KentEnglish ChannelKÃ¶nigsbergAtlantic OceanSt. Julians Sev... Abbeville Folkestone Kent...NigtevechtSpaichingenDearborn MI KÃ¶ln-Butzweiler... Port Townsend WAArnsbergDetroit MIMoran Prairie S... Spur TXLetzlingenFloresville TXnan Toledo OHEpinais Bretagne Newark Airport ... Napoli San Diego Airpor...SheppertonPaddock Wood KentWichita KSSantiago Airport... DungenessSaint Paul MNEmsland Gallup NMJask Airport GrÃ¶mitzEdegem La Spezia Godstone SurreyLÃ¼beck-TravemÃ¼... Hempstead-Roosev...Goodwater ALToussus-le-NobleOakland Municipa...Oceanside CA Punta ArenasSan Marcos TXMarden KentGaza San Bernardino CACordobaBuenos AiresMount MisimBoston MAChicago Municipa...Chicago ILAalsmeerValley Stream NYOcotal Nueva Se...Jihlava (Iglau)Santo DomingoBoulogne Paris Iguape SPBurbank CA Cap de Creus SpainDallas-Love Fiel...Jennerstown PAAlhambra CAHarrisburg PAArequipa Airport... Bazaar KSOvalle Airport (... Mohania BiharGex (Ain) Kupang Elyria OHMalmÃ¶-Bulltofta...AswanRotterdam-Waalha...Miami FLCincinnati OHPittsburgh PA Gloucester MA Dearborn MIAshley INOklahoma City OKBlackwell Airpor...Calimesa CANizhnetambovskSterling IL Vitacura Schleissheim Aer...Tubbergen Salt Flat TXSelsdon ParkEl Aceituno Cho...Villamontes Gra...Lynndyl UTAmarillo-English...Poix-de-PicardieNewark NJEugene ORBakersfield CAVirginia Beach VA Diksmuide Neodesha KSZechliner HÃ¼tteHempstead-Roosev... Valencia Quay NMManagua Beauvais KharkovLeÃ³nCorbignyToncontÃ\\\\xadnGliwiceLima-Limatambo A...Croydon Livingston Manor...Camp Skeel Osco...JuninColumbus OHLima OHWurmlingen/Tuttl...Cochrane WIAston Clinton B...Irapuato Wilsons Promonto...Flat Airport AK...La Ceiba Airport...Gross-Rackitt P... Ilfracombe QLD Palma SorianoBuffalo NY Rutbah Wells Wilmurt NYBoca Chica Tama...Atlanta GA Szczecin Brilon HallgartenGadsden AL Atlanta MOLake IzabalMoscowFlint-Bishop Air...Marsaxlokk BayMedellÃ\\\\xadn-Enriqu... MahÃ³n MenorcaBushehr (Bushire...Pian San GiacomoHanskÃ¼hnenburgMurfreesboro TN Albuquerque NM Flinders Island ...Great Salt Lake UTTroy NYZwettlHankowBrussel-Haren Ai... JutiapaBrindisiIlhÃ©us BALake SalisburyTatsfield AuxerreLima AlexandriaGoodwin AR Tres Esquinas Ai... CochabambaZÃ¼rich-DÃ¼bendo... ZigongSaualpe Amecameca de JuÃ...Nanking Airport ... Fairchance PAPort of SpainOrvin (Ilfingen) Elburg Algerian coast Chicago Municipa...Mount Lihesten ...Mersa Matruh Air...Terre Haute-Hulm...OberhofDessauCopiapÃ³ Airport...Hundred WV AltenkirchenGlendale-Grand C...Biarritz Parme A...La Rochelle-Lago...Mirabella Bay C...London-Gatwick A...Frankfurt BenghaziDelhi San JosÃ© Pinula Tabarz Madrid Algordon Lauf an der PegnitzPound Hill Tilg... Cuatro Vientos HannoverLe Grand-Bornand Serranillos Ã\\\\x81vilaLeÃ³n Airport Milford PAChengtuMirabello Bay C... Nanking Airport ...PiasSioux City IA Oran-es Senia Ai... San Francisco Mu...JaramaAtlanta Municipa...GuadalajaraElsdorf Ouroux Clifton PAValenciaunknownLake Spenard AK McNary AZSantander-La Alb...Liegnitz Clay Springs AZBelleville ILKarachi AncudJohannesburg/Ger... BeertKunming CristÃ³balWadi Halfa Airpo... Herina Bistrita...Chilang Point B...Daytona Beach Mu...Fairbanks AK San Luis SLSariÃ±ena (Huesca)New York-Floyd B... Puerto CabezasFaliro BayPalembang-Talang... Knight WYTutow El Jadida Stene AirfieldPirin MountainsRoggentinMÃ¼nchen Saint-Sauveur Sorata Frankfurt Bozeman MT Pago Pago Ameri...Barcelona San Clemente Isl...Ã\\\\x89tang de Berre Sardinia Italy PontoiseBarcelona-El Pra... Wawona CADatia Madhya Pr...Buhkta TeplitsFrench PyrÃ©nÃ©es NyÃ\\\\xadregyhÃ¡za Venezia Lido Air... KingstonMaranola Formia QuibdÃ³ Saugus CADomeykoSantos Airport ... Cleveland Munici...Mt MercedarioCerro ChilliguaMaxwell Field M...Billings Municip... Terranova Sardi...MorÃ³n BAWuhan (Hankow)Negrileasa Stul... Kisumu Manila Philippines Debrecen Airport...Mankato MNOberkirchGuanabara BayBucharest-Baneas...Mornago (Varese)WangmoonBig Prairie MTMelillaAngle Bay Milfo...Frankfurt Rhein-...Grisons (GraubÃ¼...Coruripe ALSoest Montgomery Munic...Powellsville NCMt Dandenong VICJersey-States Ai...FukuokaAmsterdam-Schiph...Honolulu Harbour... Regina Airport ...Walton Bay Some... Winklern BayreuthBathurst (Banjul)Lake Habbaniyah Point Reyes CA ViennaBangkok Manila Kerama IslandsTsingtao (Quingd...Quito-Cotocollao...Miles City Munic...Rio Bonito RJLydda Airport (TLV) Sumapaz Katherine-Tindal... Port Washington ... ArrensVilajuÃ¯ga Airfield CartagenaSan Juan harborTermes Ribi Com...Vancouver BC WeiningTandjong Batavi...Sint-Stevens-Woluwe Alder WAOklahoma City Mu...Cabezabellosa C...Fukuoka Airport ...Tegucigalpa-Tonc... El Carmen Santa...GroÃ\\\\x9fer Arbersee Bollstadt/Amerdi... UruyÃ©nLumbo lagoon Il... ArganaSan Diego-North ...Hanchung (Hanzho...Fukuoka dai-1 Ai...Chongqing Airpor...AlexandriaJohore StraitsCalcuttaHytheKirby-in-Furness...Rangoon-Mingalad...TivissaSaint-Sauveur L... Rio de Janeiro-S...GlindowHunding/ZuedingCatterick RAF St...Wilhelmshaven-ReedePembroke Dock RA... ZinnitzMilford Haven in... GroÃ\\\\x9fjena Naumb...WarsawSydney-Mascot Ai...Thomasdorf  \\'... Wangerooge Nort...Isles of ScillyGabodePlymouth Sound ... OlÃ\\\\xadasTiverton Devon Lastras de Cuell...El Palomar BA Cap Juby Arbersee Bayeri... Europa Point St...Heston Airport Denpasar-Ngurah ...Carcross YTDiaoyu Dao Senk...Aiello Calabro PrinzapolkaSan Isidro Dibba Oman Gul... Orange San MartÃ\\\\xadn Volc... Kavieng New Ire...Stromboli IslandBristol-Whitchur...Pittsburgh-Alleg...Meurcourt Sylling Tarm Vium churchOslo-FornebuEinfeldNeumÃ¼nsterAalborg West Ai...Gullesfjordbotn ...Froysjoen Berle...Gangsoya Sogn o...Hartvikvatnet N...Lillehammer Opp...Valebu Ringebu ...Graberget Domba...River Vorma Min...Honefoss Ringer...Galderud Kongsv...Sivebo GrebbestadSamnerÃ¶d Uddev...Kvamen Sokndal ...GrumsLake VÃ¤nern Ma... TofteLangevannet Fos...ArbrÃ¥ BollnÃ¤s Loch Lomond Sco...Oslo-Fornebu Air...Helsinki-Malmi A...WaalhavenValkenburg\"\\'s Gravenzande\"Maassluis Den HaagTielOckenburgRijksweg 13 WaalhavenRotterdam - Den ... RotterdamRotterdam DelftDen HaagLoosduinen AfferdenDen Hout LeidenBerkel en RodenrijsCulemborg or Arnhemroad Delft - Den... YpenburgVoorburgDelftTongerenChaumontEsneux\"\\'t Woudt\"RosiÃ¨re-la-GrandeOchten-IJzendoornRenswoudeDruten Vlaardingen Wassenaarse SlagBenschopBiesboschZevenbergsehoekKatwijkBlerick-BoekendKanneRijswijk Den BoschIJmuidenHorstMaastrichtVrusschenhuisken...StolwijkDen BoschMonsterWassenaarse SlagKerk-AvezaathWassenaarDelft - Den Haag...BerkelVeenendaalValkenburg ABMoerdijkWitryYpenburgRozenburgVroenhovenAlkenWaardenburg ZaltbommelNoordwijk aan ZeeSchipluidenBrussels-Haren A...BiersetBarcelona Airpor...Ochamps Pritchett COPhilippeville Ai...Kjerringvatnet ...Glasgow-Prestwic...ArquesMerville Airport...MervilleLympne ArquesBazargio-DobrujaStorfjellet Sal...Evenesdal Saltd...Jordbrufjellet ...Amot Osterdalen...Ulmet/KuselSkotten seter R... Los Angeles Muni...RiksgrÃ¤nsen Ki... Koblenz CharlevilleMannheim Airport...Reinoksbreen Ko... Keri Island Gul... Ouistreham Abentheuer/Hochw...Schiphol ParisBordeauxGulf of Tonkin Sumburgh Head U...Lee-on-SolentBucharest-BaneasaWhitehorse BCDonibristle RAF ... DodomaMoresby Park Cu... Novosibirsk LÃ¤mershagenReykjavÃ\\\\xadk RAF S... Risculita Lovettsville VADremLimavady RAF Sta... RigaMÃ¡laga Airport ... Pucklechurch Gl...CarnotvilleGulf of BeauducSoesterbergRangoon ? Kunming ChangyiBerlin-Tempelhof... Strathie Point ... Wick ScotlandWatzmannkar Centerville UT RincÃ³n del Tigr...Brauna/SchÃ¶ntei...Botafogo Rio de...NairobiPembroke DockBrest OrdzhonikidzeWhitchurch AirfieldMilano-Linate Ai... Cape Spartivento...Mount Batten QuitoPuntarenasDoncaster RAF St...Sullom Voe Shet...Puerto Nuevo BABuenos Aires Har...Chengtu (Chengdu...IndochinaBodÃ¸Hommelvik Seapla...Umbalkees Glacie... San Diego-North ... MbeyaSalt Lake City M... Fernando de Noro...Catania-Fontanar... NagyvÃ¡rad (Oradea)El Fasherwithin Jiangxi Province Saint Louis Airp...RhodosSintra Air Base Armstrong Airpor...Marble CreekTaohsien Hunan PerugiaRiver Tagus LisbonStrait of MessinaScaramanga Jonesboro GAPalma de MallorcaHommelvik Bay\"St. Paul\\'s Bay\"Cincinnati Munic... BegovatBorinquen AAF (BQN)Elands Bay West...Jijiga Air Base Vero Beach FL AlamicambaLeithagebirgeMannersdorf Lei... SallumVeszprÃ©mDeva Apuseni Mo... RÃ\\\\xado Putumayo Kumanovosouth KarpathiaLanghÃ³ll Fagra...Cape Town-Wingfi...Kalafrana BayIris SeaMarsaxlokkAthens-Tatoi Air... Alikarnassos Ir...Chania-AlikianuKalamos TanagraCorinthTatoiBelÃ©m PAKlÃ¼tzowDodo RiverYoakum TXMinnaBucharest Popton Point Mi... PasenowRio de Janeiro-S...Tonnolfjellet O...Fiskviksaetra S...Pskov-KrestyVayengaBudaÃ¶rs AirportSkerjafjÃ¶rdur Lipetsk ?North Atlanticwithin RussiaRogachov Gomel ...Luga district L...Velikiye Luki Ai... Cruach na Seilch...Chkalovsky Airpo...Yelnya district ...Dayton-Wright Pa... NikolayevLake Sig Tver r... Punta ChameLake Sabro Osta...VyazmaRoma-Lido di Ost...Vyazma Airport Libyan coast Me...Riga-Spilve AirportBathurst-Jeswang... UmanKhartoumPensacola Bay FLMoskva-Vnukovo A...Bereznegovatoye VoymarkPalanquero AFB (... Hindelopen (IJss... SÃ£o Paulo SP Yastrebovo Naro...CuzcoLangendiebach Ai... Tarapaca Kizyl-ArvatSeydisfjÃ¶rdur Marseille-Marign... LeningradFreetown-Hasting... Starodub Bryans...Yedrovo Akranes TeigavÃ¶rbetween St. Eust...Challhuani Range... LatvaVyazma-DvoyevkaHomlafossen Dol... Kozelsk MoscowTikhvin SevskKursk area Dmitrovsk Medyn Smolensk ... Sevsk Oryol regionMozhaysk Gorlovo Medyn d...Batavia Ladoga ChornoyeGabrene PetrichPensacola NAS F...Karachi-Drigh Ro...Argentia NAS NL...Little Wau CreekShibenets GolodyayevkaMoorhead MN St. Thomas ONRisvik Salsbruk... Turku Gulf of F...Halifax harbor NSInvergordon RAF ...Inhambane Airpor... AkchernyaLeningrad-Komend... Wichita Falls TXPodborovye AirfieldNovaya Ladoga Leningrad-Komend...LyddaKjevik Airfield ...Saratov Airport ...Lake Ladoga Tendrovskaya (Oc...Arzberg Ell... Carrowmore ...Tandjong Pandan Saratov Airport ...Ford Island NAS ...Hong Kong-Kai Ta...Western desert LG-138 Port Moresby Khvoinaya AirportKweilin (Guilin) Moskva-Khodynka ...Mount Batten RAF... Khvoinaya Tobruk (Tubruq) Winterset IA DmitriyevkaTympakiou CreteMedan-Polonia Ai... Sabang Chardzhou Airpor...Darmo SurabayaCretaGalapagos Island KemaPearl Harbor NAS... SmelovkaSelma-Craig Fiel... OdessaKÃ¸benhavn-Kastr...FossvogurKavieng HarbourStranraer Kirkc... Las Vegas NV Vyazma Smolensk...South Yell Shet...Salamaua AirfieldBulolo Airport (... SalamauaSalamauaPlesnevo Smolen...Vyazma district ...Yudino Temkinsk... Samarinda Dutch... Molotov Airport ...Zhashkovo distri... Flores Island Zhashkovo Kalug... PrzemyslPeremyshl-Zhashkovo Krivoy RogAlameda NAS CA ...Pacific Timor Australian coastYangon-Mingalado... VillavicencioKalinin region ?Bathurst Island NT Rosann Point Do...between Juchnow ... Cairns Airport ... KarachevElk Horn Mountai...Kaneohe Bay HIHendon Airport (...Darwin NT Melville Island NTAleutians AKSemplakBrisbane-Archerf... Brisbane-Archerf...Oregon Inlet NCTanjung Priok NAS RabaulCholm Air BaseWiesciszowice Truscott WATanjung Batu Du... SumatraLa MÃ¡sica Mts ...Townsville SPB QLD Porto Alegre Air... Cilacap Java I...Chittagong Airpo...Detroit City Air...Broome Airport ...Broome WACarnot Bay WARAAF Broome Harb...GryadkiGryadki Smolens... Port Sewall FLCorpus Christi TXTongue Point ORKhartoum-Civil A... Kunming Airport ...Ogden-Hill Field...SÃ£o Paulo-Congo...Klinserschlucht ... MedynPort Darwin NT PorchovKatherine River NT Iceland Sicily Taiwan \" Makapu\\'u HI\"Maaten BagushLivermore Valley... Livermore CAAkyab Main RAF S...Unknown Metz MOGeraldton Airpor...Cairo-Heliopolis... Pine Creek NT Fayetteville-Pop...FÃ¼rstenwaldeBreitind Reipa ...Dutch Harbor NAS...Ogden-Hill AAF ...St. Lucia Ajdabiya Salt Lake City M...Vypolzovo Kalin...Pearl Harbor HIBougainville Island Misima Island C...Myitkyina Airpor...Myitkyina Guidonia MontecelioMiles City MT Kordon Visim-Sh...between Malemes ...Malta-Luqa Airpo...Harbke  Hel... Saint LuciaTamalkipasRoma-Urbe AirportFugloy Gildeska... Alice Springs N...Johnston Island ... Fish RiverSouth Pacific Mare Island CA ... Half Moon Bay CAGulf of MexicoKubinka Newfoundland Ca...Key West NAS FL...West Orange NJSouth AtlanticLeningrad Corpus Christi ...Maxaranguape RNZutsKiska Volcano AKKolarVyazma area Smo...Parkes Airport ...Pacific OceanHonolulu-John Ro...Takla Lake BC YeletsTrinidad SkredewickCamp Williams WISiwa Airport (SEW) Proschorowka Ivantsevo Molvo... Dutch Harbor AK...Welon WVSevastopol-Khers... Port-Ã\\\\x89tienne Ai...Khlevnoye Lipet...Khlevnogo distri... Bell Rock Scotland ??YeletsNovokhopersk Vo... Alaskabetween Townsvil... BangaloreFort Worth-Meach... Egyptian coast Paskovayka Stal...Dutch Harbor AKLangfjorden Alt...Espiritu Santo Santa Cruz Islan...Cape Korrishka AKStalingrad Airpo... Brest France AlgiersVerkhnyaya Akhtuba ZhirkovCape Charles VA Garnet Peak MAÂPort Moresby Sierra LeonePort Moresby-Sev...Coco Solo Manza...Manzanillo Bay Gibraltar-North ... Port of Spain-Pi...Moel-y-Gaer Moun... Dahlgren VATashkent Airport... Dunbeath Scotland Youngsville LA Kholokholnya St...Bay of BiscayWashington-Bolli...Amlia Island AKNuevo Laredo Abu QirBig Springs Golf...AdanaCochin Airport (...Fayetteville-Pop...Bilbeis RAF Station Blairstown NJGreat Exuma NAS Jan Mayenbetween Kunming ... \" M\\'bour Senegal\"Lahore Airport (...Ameur-el-AÃ¯nPedra Branca SPAtka Airport AK... Mersa Matruh CoamoBotwood Seaplane...Rockhampton Airp...within New CaledoniaDinjan Airport BodinumuFort Randall AKÂCorpus Christi N... Bukovac Tanndorf Palm Springs CAMediterranean Seabetween Maleme a...Overlihogda Rin...Laverton Airport...Cebu IslandMullins SCLongue-Pointe-de...Monte Calino Allahabad Kansas City MOEast CoastRendalen Hedmark Natunga ReykjavÃ\\\\xadkLurnea Siding Ai... Memphis TNWallis Island SpainSebkra CreteEspirÃ\\\\xadtu SantoMount Obree Lockhart SCGibraltar-North ...Las Palmas Lisbon Portugal Cooktown QLDPlymouth SoundMasfjord HordalandCasablancaLake Washington WA Trapanibetween Tunis an... Kazanlakbetween Tunisia ... MilanoAlgiers-Maison B... Dali Yunnan Pro...Krasnoyarsk Airp...Pinto MagdalenaAddis Ababa Airp...TÃ©bessa Airport...Makiivka  S...PopondettaBillings MTChalkis Euboea ...Clinton MDMyola LakeMallacoota Airpo... St. Annes Head ...St Joseph MOÂExmouth WA Oahu Island HI ... Invergordon Ros... Dobodura Iliamna Lake AKBethel CTMocta DouzBunaDurban Montgomery-Maxwe...within TexasMount Menshy Brat Ascension IslandMadrid-Barajas A...West Palm Beach-... Louisville IN Mokapuu Point HI Australia Natal Brazil Tashkent Fairfield UTBlythe AAB CAÂ Wien-Aspern Airport Kisumu Airport (... Vancouver BCNew York-La Guar... Yanaul Fairfield CA ReykjavÃ\\\\xadk/Kefla...Omagh Reaghan ... Heceta Head ORPitomnik Dno Bangui Port SaidSebring-Hendrick... HeliopolisOstrowJacksonville FLChabua Airfield Gander Lake NLPitomnik Airfiel...Cooktown Airport... PantelleriaTagus River off... Stalingrad-Pitom... Gibbs Hill Light...between Tontouta... Tezpur Airport (...Port Moresby-War... Perth WAAguelhokReykjavik Airfield ParamariboBiskra Airport (... TunisPalo Seca Brunswick GA USAAlness nr. Inve...Elizabeth City NCTunis - Trapani Wau Airport (WUG) Gumrak Ukiah CA Austin-del Valle... Flagstaff AZWestern Approaches ChaparraTunis AirportLaurinburg-Maxto... Myakinino Black Rock Isle...SookeratingGreenland ice cap Venice Airport (... Castaic CAÂnortheastern Burma Fort St. John BCLake Ponchartrai... Wau Canton Island Ai...Whidbey Island-N...Austin-del Valle... Zaragoza Nuevo ... Dalhart TXCanton Island Ai... Bom Jesus da Lap... ChungkingSan Francisco Ba...Asmara TakoradiPisarevka village Atella Lisboa Enterprise UT Cairo Colorado Springs...Gaeidnugaissa T...Lekvattnet ... Townsville QLD Cairns QLD Trondheim/Hommel...Mount Ketan-Dag Sol-IletskBerdigestyakh G... Leixoes (Porto)Fort Hertz Gasmata Bataisk Airfield... Narsarsuaq Lake Becharof AK LuishuiMechanicsburg PAWhidbey Island-A... Skindewai Fort HertzLubbock-South Pl... Kunming-Wujiaba ...Dobodura AirfieldPatkai RangeEl Fasher Airpor...MontesquieuJacksonville NAS...Noffution North Melbourne-Essend...Poole Seaplane BaseAttu Island-Casc...Poole Harbour D... Gavutu IslandAgartala Air Bas...Somaliland Oliver Springs TN BÃ©ziers Johnston Island ...Albemarle Sound NCDonibristle RNASGabes airfield Victorville AAF ...Stuttgart AAF AR Flemington NJNAS Trinidad Copalis Beach WA Skagen Denmark ...Whitchurch Minzong Vougo NormandyGulf of Carpenta... TezuRathmines NSWHkashang GaKhartoum-Wadi Se...Cairns Harbour QLD Sedalia Army Air...BurtonwoodSedalia Army Air...Kunming-Wujiaba ...Cape BonEvansville-Dress...Havana-Rancho Bo... Latti Arunachal...between Towsvill...Kansas City MO AitaTontouta BayGuadalcanal Oakland CACarthage Cefalu SicilyDmitrovskoye sho... Freetown Sierra...Waller FieldMukilteo WAJorhat Mobile-Brookley ... NAS Corpus Chris...Gander-RCAF Stat...Amchitka AK Great Inagua Ba...Tunis-Carthage A...between Yangkai ... Oklahoma City-Ti...St. Johns River FL Gander Airport ... Makapuu Point HI Myola Lake Owen...Lough Neagh Nor... Morganton NC Guadalcanal Adak AK Sitka NAS AKBoneGyulaj Paramaribo-Zande...Macon GA SochiAtka AKInnismackill Isl... Port Stephens NSWLuluk Bay AKSaratov-Zavodsko... Clare Island Cl... Karachibetween Castelve... Hal Assini Denver COBay of Biscaye ... Uelkal ChukotkaCaracas-MaiquetÃ...Angle AirportYegoryevskKunming Airport ...Wickford Harbor ... La CoruÃ±a Spai...Thiersville Airf...Praa Sands Sout... Bryansk ZezevitovoMolotov (PEE) Fiji St. Kilda Scotl...between Tihwa (U... Laurinburg-Maxto...St. Lucia BayManitou KY Noumea-Tontouta ...Bowling Green Mu... Magadan-13 Airport Algeciras YanchiNorth Atlantic ... Finisterre SpainZhizdra district... Maksatikh Tver ...Whitehorse YTMonrovia-Roberts... TurmasovoBiscayne Bay FLYunnanyiCharters Towers ...Boxted Jacksonville-NAS...St Lucia Bay Olsufyevo Olsufyevo Oryol...Springfield IL Hathungo San CristÃ³bal I...Wichita-Municipa...Georgetown-Widea...Lough Erne KhartoumGorodetzbetween Tezpur a... Dutch Harbor NAS...between Yunnanyi...Exmouth Gulf WAMobile Bay FL St-NazaireLoch Tarbert Ki...Waccamaw Lake W...Marrakech-Menara...Damaturu Gibraltar Dayton-Wright Pa...Grenada AAB MS Gela SicilyMonroe-Selman AA... Chebba TunisiaSicily Hemingford NE Trinidad-Waller ... Scoglitti SicilyDunnellon AAF FL Tunis-El Aouina ...\"Pantano D\\'Arcia ...\"Sanpiero-Licata ...Scoglitti SicilyTulagi Harborbetween Mohanbar... Catania SicilyTezpur Alliance AAF NE... Shannon-Rinneann... Hilo NAS HI Grenada AAF MS Vella LavellaOsipovka Lincoln AB NE Corfu IslandMinna Airport (MXJ) Nassau Bay SardiniaColumbus-Muscoge...Manaus AM Naknek AAB AKMasirah IslandHope Mills NCÂ Trammel KY Brandon village ...Kelly Field TXSan CristÃ³bal I...Denny Island BC Zhukovka Mogily...Taylor Field FL Lahe NanyonThermal AAF CA Rock Falls IA Yunnanyi Whenuapai Air BaseChirdwin ValleyDuross Point Lo...Homestead AAF F... Balashov Airfield Donli Arunachal... Terapo Tsili TsiliFort Hertz valleyPleuvenTisina Kaptolska...Bay of Bisay Rhodeswithin MyanmarTsili TsiliLas Cruces Munic...New GuineaMowtingTallahassee FLNashville Metrop... Bowen QLDHampstead NH Akhtyrka Rechitsa Gomel ...DjerbaMount Brandon C...Bay of SalernoMiami-36th Stree...Long Island Dorset CalcuttaCape AgulhasPensacola FLKeystone Army Ai...Port of Spain-Pi... Garland NCGuadalcanal Airp... Hirsthals Denma... Winima Egvekinot Sulawesi Lviv Pantelleria IslandKansas City-Fair... Saint Joseph-Ros... Sedalia MO EspirÃ\\\\xadtu Santo KeaNashville AAF T... Accra Airport ZenkovVail Field CAMohanbari Air Ba...Bowen Airport Q... Toropa Vitebsk ... Dallas TXBowling Green MObetween Chengkun...Tchiehtu KwongomaMyrtle Beach SCLeron Plains Air...Great BirchamKos Airport (KGS) Orax Gulf of Ke... Yakhnovo Airfield SasovoGibraltarJorhat (JRH)New Florence MO Calcutta-Dum Dum... Bathurst RAF Sta... McCloud CALauthala BayChittagong Airfi...Capraia Gorgona ...Oran-es Senia Ai... Fort Benning-Law... Lovelock NVAroybukt Lyngen...Brahmaputra River Caddo Gap AR Alliance AAB NEArran Island Sc...Pomelaa Harbour ...AgadirIraklion Airfiel...Perdido Bay FL Pysht Clallam C... Tutuila America...Regents Park Lo...Besokupe Tea Estate LaeGela SicilyParamaribo-Zande...Torres Strait Myitkyina Centerville TNAldermaston Aero...Ballinamallard ... Cloncurry QLD Palmyra Island A... Columbus GAHÃ¥llÃ¶ Island Kunming Airfield...Escambia Bay FLPalermo AshaOviaGusap Sogeribetween Dinjan a...Rockhampton QLDHoffman-Mackall ...northern BurmaBharatpur Podgorica Grenada AAB MSwithin TurkeyWutingbetween Chabua a... Walong DonegalPayne Field MSAnchorage-Elmend... Toronto-Malton A...Port Lyautey NAS...Brynberian SollumCaravelas Airpor...Botwood NLBlack Seawithin Albania Nadzab Spanish coastLawson Field GALae New York-Floyd B... Mayowithin Queensland LerosLeros Island Leros Alinda Bay Rewan Homestead ... BodrumCarnarvon Gorge ...Louisville-Bowma... Monroe-Selman AA... ChengkungNew Orleans Muni...Malaita Island Manoel Ribeiro RJ Vigo Spain Tamaqua PA Nigg Ross & Cro... Mondo QLD JagodinaNakety Bay Kentirabetween Sookerat...Catania Airport ... Torbay NL UelkalSummer Bay AKwithin ChinaSambharDinjan Air Base Sabinal TX BelÃ©m PABeaufort NAS SC...EspirÃ\\\\xadtu Santo-... Sookerating Membury USAAF St...Tibetan plateau Portreath CornwallStavangerGarbutt RAAF Sta... Hyannis NE Ile de GroixTsuyung Jumbe Lighthouse... GrudaKnocklayd Mounta...Portreath Cornwall Copis IslandWashington-Natio...Austin Municipal...Knollwood Airpor...Nadzab Elephant Point ...Mount Hagen-Kaga...Mackay QLDWilmington DL Ledo Turtle Head Isla... ShivpuriSydney IslandKnocknapeasta C... Leuchars Scotland Suifu El Paso-Biggs Fi... Ramenye Canal Creek QLD Portuguese coastAmapÃ¡ Airport APSt. Eval Cornwall Moskva-Vnukovo A...Văliug (Fra...Brown Willy Bod...Mount VictoriaBay of Biscay ?Yunnanyi Airport ShingbwiyangNew Caledonia an...Sciacca VoiSookerating Air ...Ã\\\\x8ele de Groix MohanbariPerugiaCopenhagenVagdalen Sorrei...Rabo de PeixeLikiang Mt.Los Angeles-Mine... Macon GAAgate NETreasury IslandTibual TiddimAmchitka Airport...Clarence NY Boa Island Loug...Alliance AAF NE...Lvivbetween Guadalca...El Khroub Air BaseNowgong AssamMonte TezioMekong River ValleyGrindonÂSaidor Svorynbetween Florida ...BorizzoOwi Island Beograd-Zemun Ai... Casablanca Azores Islands ...Oakland CAFort Hertz (Putao)Sydney Harbour-R...Fort Hertz ValleyBeane Army Airfi... Mendoza-El Plume...Wadi SeidnaGioia del Colle ...Richmond Central... Farmersville LAHimalaya Mountains Mano TX PlociczAccra Airport (ACC)Trinksteinsattel Marinella SicilyKhargpur RiluSania Marez Goliang Arunach... YankaiBlue Stack Mount... Sioux City AAB IA LhasaPuckTaiwanAakenustunturi ... Kelai IslandAttu AKBhagalpur Papua New GuineaEl Prat de Llobr...between Korsun a... Finschhafen Airp...Newbury-Greenham... MontfauconSan Rafael-Hamil...East Point Plant...Tulihat/Imphal A...Ataqa MountainsNadzab-No.1 Stri...Groot Linden HoevenGroesbeekSon Retie GroesbeekHeihoekReuselErpWagenbroek HeijningenOostelbeersLage MierdeBladelRetie Westkapelle the... Geel VitrivalVessemBoxtelCasterenLuyksgestelMt. Deception AKOchtenAfferden Boxtel MilheezeSchijndelVenzelderheideSt.OedenrodeDodewaardEschNorth SeaRÃ¼gen Dutch coast Nor...Membury USAAF St... HeelsumAgartala Airport... De HorstEindhoven Air BaseWageningen BerlicumRhenenHaamstede Air BaseBordj MenaielSchaarsbergen DeelenArnhem Speculator NY Postel Dongchuan Yunnanon Arnhem ops S... Turnhout Kessel Arnhem Capo Carbonara Kasterlee Brugge ChanyiBestWolfheze Muroc AAF CAReek Buunderkamp Louisburg KS Kharagpur-Kalaik...Madang Strip KeldonkSonse HeideArendonkDrielOplooEverseUdenEindhovenVolkel Air Base EindhovenDoorwerthRio Doce MGMount Hagen Bradwell Bay Malden AAF MO (...Ramskapellesouthern part of...Bemmel BezelSlijk-EwijkHeteren Bahrainwithin IllinoisGaya Air BaseSermata IslandLake TaliKharagpur-Kalaik...Tura Tlanalapa HidalgoImphal Veghel UdenUden - VolkelOisterwijkOosterbeek Camp Mackall NCNeuleiningen Tezpur Dafflaghur Tea E... Owi Island Papu...IahqalNAS Terminal Isl...Salon-de-Provincebetween Lae and ... PaelBellona Island (...Natal-Parnamirim...Saint-Nicolas-lÃ...Hsinching Airfie...Borokoe Biak AachenLeicester East R...Grove USAAF Stat...ShinbweyangStrymÃ³nas RiverYpres Advanced L...Vyatskiye Polyan... Santahar Alakurtti AirportLuliang Sydney NSToul-Croix de MetzHumboldt BayHawaii WewakLawrenceville-Ge...NagaonBrussels/Evere A... UtvÃ¦r LighthousePengshan Sadiyabetween Myitkyin... AccraMalden AAF MO (... Ledo AirfieldSylhet Airport (...Wakde WarazupHsinching ShingbiwyangMount ZadnÃ\\\\xad Ger... Pirapora Airport...Angaur AirstripRochester-Short ... Lawrenceville-Ge... Kalaikunda Thursday Island ...CsÃ¡kvÃ¡r Air Base ChangchunNandi AAF (NAN)Bolleville-Advan... Lubbock-South Pl...between Biak Isl... HronskÃ¡ BreznicaTiddim\"Uccagag\\'ga Finn...\"within Atlantic OceanHestnutan Seljo...Welford Park USA...KomÃ¡rom CountyLangstone Downs ...San Juan NASNjallajÃ¤rvi Ut...KwanchanDinjanAntens kapell A... Luichow Princes Risborou...Gaya TiddimMuddusjÃ¤vri IvaloSalem CGAS MACyclops Field (H...Milo SicilyTuolbujÃ¤rviVÃ¤ylÃ¤Cadoaivi FinnmarkLuppovaara MakassarSaint-Pol-sur-Mer DunkirkPao-shan Samar IslandNgatik Lagoon P...Jacobswell Guil... ZagrebReno AAB NV La Rochellewithin TennesseeDigboi Mountains Julington Creek FLCarpiquet Advanc... TsuyungGaya Airport (GAY) Grandview Munici...Maupertuis Advan...Bouley Bay Harbo...Beny-sur-Mer Adv... Anchorage-Elmend...Tournon NautsiQuerqueville Adv... Saint-ChamondPoleymieuxCambrai-Niergnie...Le Mans-Advanced...Houston-Ellingto...Aitape-Tadji Air...Gweek CornwallFalalop Ulithi ... Goose Bay NL Hanford CA DinjanVernouillet-Adva...San Pedro BayDigerronden Ron... Jacksonville NAS...Mont Tournette ...Morotai IslandBrisbane QLDYazagyo Thayagom MawlaikNorth Yazagyo Marathon-Florida...Grove RAF Station Oahu Island HI Llyn Dulyn Castel Benito Glendale CABuilyabetween Morotai ... Cape St. George NL Watlington SibenikPatricia Bay BCYefonchang Casper AAF WYNorth Sea ?London-Northolt ... Stanislav Tofino BCBayug AirfieldCarpineto della ... Memel Baltic SeaCastel Benito Placitas NMTarquinia DergaonKainantuTulihakChanyiEnewetak Island ... BrightonHollandia AirfieldPaishuihoLough an Laban ...Numfor Airport (... SpyckerEsperanto CAPitu/Morotai Isl...Pao-Shan Sailum Kabirwala PunjabKano Airport (KAN) England English...South West PacificWesthampnettImphal Airport (...Yazagyo Airfield Blue Mounds WIMawluUSAAF Station 385 Absheron PeninsulaAdenKwajalein Airpor...Leith Hill LiÃ¨geEly Lodge Ferma...Bas WaretonÂbetween Tacloban... Tegucigalpaoff the East coa...Shinbweyang AirportTownsville QLD MÃ¥lklÃ¤ppenKinangop Peak A...Biggin Hill Airp...between Pelelieu...RanceDigboi MountainMawlu AirstripTerceira-Lajes A... Hollywood-Lockhe... Keene CAKalmahera MorotaiPeishiyi LeyteSorido Newquay-St Mawga...Clayquot Vancou... Saint-Valery-en-...OrlÃ©ans/Bricy A...Dutch New GuineaHixon RAF StationSan Pablo Leyte MijanÃ¨s ZhinaxiangKuyung district LiÃ¨ge-Bierset A... CrosbyBhagalpurÂLeyte IslandLi Pingbetween Biak and...Momauk Orlovka Teplik ... Mohanbari Air Ba... Myitkyina Airpor...Finschhafen Harbour DaliLeith Hill SurreyKerowagiAldermaston RAF ...Welford RAF Station Zelma MOMarrakech Air Ba...Crosby RAF Stationbetween Bari and... Cape Calavite BhomoImphal Municipal... OrlÃ©ans StaffordMemphis Municipa... Aldenhoven CalshotLippspringe Airf...Dergaon Reykjavik YazagyoGujratBeenoskee Mounta... Ironton MOMoran Air BaseHsian Airfield Torrettoriabetween RzeszÃ³w... Stirling Ai...Nadens-Dawstore ...Whitehill Copse ...GuamTacloban Airport... Wall Kill NY Sibret BastogneMellier 30 km W... Tenneville MÃ¢gÃ´sterMarcouray Laroche Saline MIAldermaston-USAA...Mindoro Airport ... Finschhafen Airf...Chilbolton ChÃ¢teaudun-Adva... Quartzite AZ Harrisburg PA (... Indianapolis INBhamo AirstripBari PortsmouthHemroulle St. HubertSandweiler Advan...Sorido BiakLao Ho Kaw Adak AAB AK (ADK)Bastogne Seine RiverAntwerpen-Deurne...Comilla Airport ...Unknown possibl...Lyon-Bron (LYN)LaplandKautokeino AirstripYap Island Telin Island Ru...Parkton NC Malakua Jacquin...Salisbury on Rck... Linton TNArakan Memphis Airport TNMambare Bayover Mambare BayMisamari Tampa FL KerowagiNovoyuryevka Ni...Alice Springs Ai...Aguadilla-Borinq...Bougainville Santa Ana-El Tor... Sophia NCbetween Seattle ...Lysyanka 60 km ...north of Nikolajev TartuAmerican River C...MajuroBerchem Paoshan Palmdale CA MangnungTrory Cross Enn... Tarifa Crawford NE Euboea NikolajevQuelimane Airpor...CaltagironeHukawng Valley FezShemya AFB AK (...between Nikopol ...between Tiraspol...Loddington HallOssig Kansas City ARChengkungAegean SeaHorsehall Hill F...between Eleusis ...Reno NV ElmdonHampstead Norris... Lagoona NSW Olathe NAS KS (...between Iceland ...between Nadzab a...CamagÃ¼ey Air Ba... PortadownChoiseul IslandMolesworth VICNOTS Inyokern CAMarseille-Marign...ChandinaHsinjan HseinAxford RamsburyDakar-Eknes Field Stuart FLCharleston SCTamu AirstripNew York Municip...Cape Gloucester ...Chengdu British Columbia Silchar Loshan Yanovshchina Kr... South Plains-Ida...Chandina RAF Sta...Finschhafen Watlington Oxfo...Anguille Mountai...Bathurst Itanagar ChengduPalermo-Boccadif...Pensacola USCG FLFinschhafen Airf...Baelum AzoresAlliance NECostermanvilleBlunsdon Wiltshire Foggia Amarillo AAF TX... Chengkung AirfieldBuckley Field CO Cairo-Payne Fiel... Indaw LangkoBarrackpore Air ...Conway River Sanford NCEnschedeBottesford USAAF...Aberdeen Airstrip Dobodura No. 7 (...Mingan Airport ... South Plains Aux...MongenaAlligator Pond B...FlorianÃ³polis SCKamiri Airstrip ... KeflavikCaribbeanJagielnicaMagnetic Island ...Palel AirfieldMidghamChedworth RAF St...KolomyyaPatuxent River N...Los Angeles Muni...Milne BayShingbwiyangZemun Water Aero...Kattegatbetween Aalborg-... Ascension AÃ§u RNbetween New Hebr...MowdockNewtown OHFritzlar airfiel... Austin Municipal... OrsovaMontgomery Rock ... BelgradeFriedrichshafenCollingbourne W... ChowdhuraniAlvescot Port Hardy Airpo...Tanacross AKHasmshingyangChandigarh Airpo...within Burma BrindisiBorneoStockholm-Bromma... FredrikstadMasirah Airport ...Tulihal ImphalChengkung Airfield Idalou Aux Field...Marrakech Airfie... Tingpai Imphal IndiaAlliance AAF NEIdalou AAF TXLacedonia Babo Winona AZ Liangshan Airfie...Bresso Maryborough QLD PalelDigbol MountainCoral SeaLaleghatwithin AssamShellingford RAF...Imphal-Koirengei...Upottery RAF Sta... Lake Worth FL Ampi AssamJijilis Elmira NYNewark AAF NJJorhat Airport (... Lanping LeskovacTripoli-Castel B... Midway IslandBari Airport (BRI) BerwickLuganville Airfi... San Diego CA USAClydesideVatersay Island ...Stephenville-Har...Harrisburg-Olmst... Kohima AssamGaudo Obozerski Airfie... Miami FLClydeside AirstripKweilinWartonBundaberg QLD Welford AldbourneKievbetween Torokina... PloskinMyitkyina (MYT)Java Sea Maubum Landing S... North Tawton Devon Kristiansund No... Sakden TagapTadji Airstrip ...southern Tibet Natal-Parnamirim... Silchar Airfield... Habbaniyabetween Chittago...Chanyi AirportAden-Khormaksar ...Zaliv Kresta Bay... Novy DvorPrestwick Attu Island-Casc...Corry Field FLTingkawk SakanUpotterySalalah Airport ... Santiago de Baney Oujda Mostaganem WarmwellPupiackai Magneville Norm... \" Pont-l\\'AbbÃ©\" Sainte-MÃ¨re-Ã\\\\x89g... Picauville Pointe du HocBassenville GibervilleMelvilleBroadwell RAF St... Saint-Marcouf NormandySpanhoe-USAAF St...Middle Wallop RA...ColombellesNormandy Carentan Normandy Carentan Montaigu-la-Bris... Etienville Norm... Surtainville No...Clainville Norm...Beuzeville-au-Plain Reuvillebetween Vuiteboe... NÃ©grevilleCotentin NormandyGleann MÃ²r Sai...within Milne Bay Province English Channel Sebeville Caen Ranville NormandyCottesmore RAF S...off U.K. coast ... Grandcamp-Maisy Ranville DreuxCazaux Point de Barfleur OxfordRichmond VA Dinjan Airportbetween Tingkawk...Meridian-Key Fie...\"Fisherman\\'s Isla...\" Karinganj Assam HopinGreat Ragged IslandFleves Island Faroe Islands N...Reykjavik Laju North Vernon IN MyanmarPelelSpanhoe Espiritu Santos ...Takoradi Airport...Le Fresney Advan... Kweilin Kohima Millinocket ME Ninchangwangbetween Hsinchin... Lalmanirhat Hansa Bay Fenny AFBMogaungThe Wig Loch RyanDelhi-Safdarjung... AgadirRettenegg StyriaJayapura Shetland Islands...Godlinngston HillTulihal Air Base...Exeter Airport (...Deelen AB Lake Palik Bori... Bombay-Santacruz...Tadji Monroe-Selman Fi...CairoBurtonwood Airpo...Ponte Olivo Poprad Western ...Green IslandLedo Syracuse Municip... Hydra MatagalpaHollandia-Cyclop...Roma-Ciampino Ai... ShongphelCalcutta-Dum Dum...Constantine Airp...Lae-Nadzab Airpo... Constatia NYTinwell Isle of Vis KamaingSaidor GapBrindisi Airport...AnnanbergBiak-Mokmer Air ... SafiBathurst RAF Sta... AvgustovaScottsbluff Coun... Roma-Ciampino Ai...India or BangladeshCortland Airport...Columbus-Atterbu... Bosanska Dubica Kingsley Dam NB Oahu HIwithin Indiana Namlea Kok-Su Sciacca Cape Fear NC USASyracuse AAF NY...Grandview Munici... Milos VocinColleville-sur-M... Kenitra-NAF Craw... UkhrulRecife PE Kwajalein Airpor... KokodaTezpur Airport (...Tingkawk Sakan A...Lae-Nadzab Air B... Gaeta Village F... GreenlandMerriam KS Tealing Angus ...Muscogee County ...Port Loganwithin ColoradoFoula Island Sh... Gurney Rauceby Biak SleafordOwi Airfieldwithin New York StateGrossetoClovis AAF NM (... Mogaung ChindwinBerbice RiverArajuno Pastaza Salerno SalalahNonsvatnet Hoyl...Baldy Mountain RoshiStuttgart-Echter...Sentani Naper NESouth Plains-Ida...Satellite Channe... MohaviaNoemfoor Island-...Amblie Advanced ...Abadan Airport (... Akureyri-Kassos ...Tami Beach Holl... AntillaSaipan Sea Island BCManus SPB Admir...San Diego Bay CANewcastle/Distri...Boothby Graffoe ... MarlboroughCorleaGrosseto Air Bas...South-West Pacific Barrackpore Air ...Wios Wolndi Natal RN BrazilOrbetello AirfieldCreag Riabhach ...Casablanca-Cazes...between Maidugur...Kwanghan Airfiel... Dehong Margherita Assam Tingkawk SakanGusaubetween Gibralta...La PazChambois OrneMount SernioHabbaniya RAF St...Latin Downs Wan...Witham River BelÃ©m/Val-de-Ca...Unknown China-B... Yupanga \" Land\\'s End\"Agartala Shingowlyang CherbourgVocinCabo Tres Forcas...Telmest Glasgow-Prestwic...St. Thomas Mount...between Greenlan...Mount Kinnekulle... SÃ£o Paulo-Congo...Chesapeake Bay MD ShimbuwangSariaya QuezonBoteni Malay PeninsulaCazkaBevinco CorsicaValley RAF Stati...Ivanca SenjFulbeck USAAF St...RadvanSaint Joseph-Ros... Delabole CornwallBiak Bloody Foreland ...St. Genges Chann... Jorhat (JRH) Presque Isle AAF... Ottawa-Uplands A... Mossman QLD Exeter USAAF Sta... KoksijdePaoshan Fort Glenn Army ...Sansapor Chabua AirfieldEl Aouina AABÂLas Vegas AAF NV Imphal Airport (...South Plains AAF...Nakingant Warrensburg-Seda... Beachy Head SussexSahmawbetween Biak to ... ChorrillosAldermaston USAA...Toulon-sur-Montagne Sumner IL BournePatkai Mountains ZiadumArunachal Pradeshwithin Sagaing regionSaint-Dizier (A-... Jorhat Carson City NVTali Tingkank-An Lang TaiSiakwan LashioRome AAB NJ Snetterton Heath Torokina Burbank-Hollywoo... Mount Tali LaoshanPrnjavor Sileby Leiceste...BudapestKingston Bagpuiz...Paochan Dexter MOMidland AAF TX ... Glomel Schwebo Tabingaung Saratov-Zavodsko... Kambaiti Sumba Island Stalinabad Brownfield ILBhamo (BMO) Paris-Le Bourget... HawaiiAngle Bay Pembr...Samar IslandLedo AssamOndalÂ Pao-Shan PyinmanaPuerto Cabezas A...Yanglin Field MorotaiMyitkyina North Milwaukee WI Dinawa KurmitolaMorotai Oakridge MS MyingyanChihchiangLuingshan ShamshernagarLaohwangpingWarton-USAAF Sta...Fort Hertz (PBU) Maikisung Baguio Biskra Airport (...Guinan str. SamarEast Arm Darwin... Kyaukpyu KhamtiMaungdaw Airfield Los Negros Admi... Balikpapan Gold Run Placer...Irian Jaya Taintaihering S...\"Woman\\'s Bay AK\"PajaoBeauvais-TillÃ© ...Chenkang NwegyiUlithi Caroline... TeknafSulphur Mountain...between Lashio a... Cocos (Keeling) ...Peishiyi AirfieldTanauan AirfieldKahului NAS HI ... Myitkyina SouthTuguegarao Airpo... Spring Lake TX Samarai IslandAkyab HarbourReims Vila do Porto A...Burgaw NCNanponmao Kunyang Guam-North Field...NanningDallas TXToungoo MainParis-Orly Airpo... LuliangEspiritu Santo-P...Wichita Municipa...Kunming (KMG) NaypyidawSzemao PretoriaKisumuSavannah-Hunter ...Kangla AirfieldBagabagQuonset Point NA... Florence SCChittagong-Paten... Savo Island Gua... Chittagong Airfi... AkyabTacloban Thamainggyi Manipur Road Myitikyina Fernandina FL MengsaIe Shima Airfield Delhi-Palam Airp... Basal AirfieldMindoro Island BishmaknagarRegensburg Wilmington-New C... Bhuj KutchTsingchingAngeles City-Cla... Taungoo GayaShitsungOkinawaLeizhouNanning Airport ... Glossop Shelf Moor TaclobanMengshaHoudan Tengchung DubaiJolo-Zettel Fiel...Villacoublay Adv...Luna AirportMellaha Air Base... Tulihal ThanbaungCoal Harbour RCA... Grants NMFort de France H...Biloxi-Keesler F...Biak Island Pao Shan Selvogur Nes Lalmonirhat Airp... Myitkyina North GologhatCairo-Payne Fiel... Tezpur AAB Liangshan Lee-Po-Ka Shaibah RAF StationIztaccÃ\\\\xadhuatl Vo... Marietta GAJacksonville NAA...Bardufoss Airpor...Manila-Nielson F...Luagg Okinawa-Naha AFB... Nanponmao Air BaseWama Airstrip Tateyama AirfieldEast Midlands Ai... DahanuTarakan Airport ... Laban IslandOlathe NAS KS (... ZÃ¼rich-DÃ¼bendo...Mokerang Strip ...Ramrauli RAF Sta...Cagliari-Elmas A... RomaBiggin Hill USAA... Jilin Somerset El Centro CAMelbourne Airfie... Misamari Cape York Austr...Albuquerque NMManila-Nichols A... Okinawa JapanDarwin Harbor NT Vaison-la-Romaine Dibrugarh-Chabua... FuzhouGuam-Harmon Air ...Memphis TNIstres-Le TubÃ© ... Duyinzeik San Jancinico St... Shwegyin ChaungnakwaKaren Hills NyaunggonaleParis-Le Bourget Aguadilla-Borinq... Milne Bay Amherst LinanMaprik-Hayfields...CoulommiersTampa-Peter O. K...Karachi Air BaseChihkiangUnknown * Lingayen Luzon Yangon Airport (... Kansas City-Fair... Ye Myanmar And... AtsugiTopeka AAF KSPuncak JayaFrankfurt/Eschbo... Tarakan IndonesiaShanghai Umnak Island-For...Wig Bay MengyuHanau Atsugi NAS (NJA)between Vanuatu ... Trat Chicago-Municipa... PanglongHsian ChihkiangPalembang Broken Hillbetween Liangsha... Hsian Guam-Agana NAS (...TripoliAomori Field Wiesensteig Belle Isle Landi...Jodhpur Airport ...Kuantan RiverLakeland FL Uplands CADunnet HeadTosido El Adem RAF StationPalmerston North... Boana MindanaoBanana River FL...Down Ampney RAF ...within Huntingdon Warre...DÃ\\\\xadvcÃ\\\\xad kameny ...between Okinawa ... Tuas Saipan Mariana ...Phuket Airport (...Riccall RAF StationBangkok-Don Muan...Purley Surrey Suichang Anchorage AKManila ChiringaArkonam Coos Bay ORHankou Pennville IN Cuneo ZhijiangHyvinkaaLaguna de Rocha Page OK Phnom Penh HerrenalbTrondheimwithin Greenland ChukhaColombo-Ratmalan... Honolulu HISchlatt Corpus Christi N... Palermo-Boccadif...Paris-Le Bourget...ChÃ©zy-sur-Marne Ettringen Tacloban Airport...El Adem RAF Station Jacquinot Bay Wien-Schwechat R...Atlanta AAF GA ...Hishi-no-ShimaPeleliu AirfieldToulouse Jakarta-Kemayora...Warazup Bruas Auburn CAPalmyra Island A...Cairo-Almaza Air...TiksiDudinka Radlett AirfieldJinamoc Island ... Carlos Pellegrin... Novosibirsk-Seve...Stallarholmen Tiksi Cape Canaveral ... Billings Municip...between Tachikaw...Mt Mandalgan Ne...KouandÃ© Heraklion Airport VillieuPhuket IslandJakarta-Kemayora...CoulsdonVoksenkollenTiksi Airport (IKS)Timor SeaSendai-Yanomi Field Jacksonville AAB...PatengaGoose Bay Airpor...Kengersfeld Ontario CABashleyMadrid Air BaseChungking OstiaSaint-AndrÃ©-de-... Namtu Gmina Inowroclaw Minsk-1 Internat...Bad Steinbach B...between Suichwan... Kweiyang Chervlennaya Sh...Corsica ?Emison Auxiliary...Nashville Munici...HochihMarienfeld  \\'...TengchungGore Field MTJamaica Bay Lon...between Denpasar...Hathazari Airfield Mexico City Inte...Birmingham Army ... Bell Center OHMerauke-Mopah Ai...Malignano Legnica Beqa IslandPapaPanghkamSt Johns River FLHarlaxton RAF St...Nivelles Advance...Richards BayBrookings ORPaleleastern Germany ListaKaneohe NAS Oah...Ben Talaidh Mull Bury QC Los Angeles CA MontieriIrrawaddy River Schweich Trier KaroiBudapest area Budalin Deming TXFour Marks Hants.Muse AirfieldPoltava Airport ...Hunters Burgh HechiMapientien Peishiyi Mangshihbetween Chihchia...Jiwani Airport Tilagaon Batan Island Nichols Field Mount Victoria Tangmere AirfieldKnocknagor Irvi...Otokabetween Papa and...Myitkyina South ...Saanich Inlet BCPort Moresby-Jac... Yunlung Oakland NAS CA ... Kangla AssamSinthe Oblong IL Likiang LungleiAntipolo  Luzon Lagoa Santa GO Vernouillet (A-41)Imphal-Tulihal A...Momote Los Negr...TaboraCorregidor IslandAbadanWau Valley Zeals RAF StationBarrackporeCleveland Munici...AgraTanuanProsnes Advanced... RuralÂ\\\\xa0Retreat VA Casablanca-Cazes... Wadi Seidna Biak IndonesiaMalÃ¡ Ã\\\\x9apa (Klei...SlunecnÃ\\\\xad jÃ¡ma-... Marshall IslandsAttu-Alexai Poin... Lake TaliYankai Moncton/Greater ...Thabutkon AirstripEast Midlands-Ca...MonywaWarazup AirstripQuezon FieldHailing Island Darwin NTCarmeilles-en-Va...Dhaka-Kurmitola ... OrfordnessCompiÃ¨gne/Margn... CheddingtonMuldenDobodura PoixMomote Airfieldbetween Bayug an...Nasagbu IslandShinbweyang Airf...BraunauDagupan LuzonKutkai Irrawady RiverMangshi Kodiak NAS AK Tanauan Airfieldwithin India or BurmaSan Marcelino Jassore TanauanShwebo Moran Vitra George West TX Riverside CAAalborg WestBhamo Airport (BMO)Mawnubyin Prosnes San Carlos CACrÃ³ na Roda Hil...Bathurst Bay QLDMyitche Air BaseKerman Airport (...Gravesend Lee Vining CA YunnanBreslau-Gandau A... Cold Bay-Fort Ra... Rock Harbor FL PachungKyaukpyu Ramree... YunglungKurmitola Port Moresby Pa... Barrackpore ChittagongWroclaw Slater MOQuinapundan BayDunkeswellVaszar AngaurShingwiyangDohazari AirfieldWeeze Pangseng Pass WeselRiswickhof Reeswithin Germany Mehr Poseh Yukiang R... WeezeHenderson Field ...on Rhein crossin... Bonninghardt TazaMagee IslandMaunubyin AirportLeonokow Tanauan Leyte I...Napoli-Capodichi... IrvineEl Centro-Naval ...Chinkiang Air BasePomigliano Airfield Chiringa AssamAlon AirstripMeiktilaKnolwood Auxilia...Chabua Bovingdon RAF St... Trenton NJBarreiras BABhamo TurovetsNiddaMonglong EttinghausenMourmelon Bonn Reichenbach Airf... ShinbwiyanTuao LuzonPearce Airport WA Faroe Islands LimburgWrexen PaderbornGelnhausen Advan... Malmedy Timor Savu Seawithin HessenDinjan AirfieldMyitkeWertheim am Main...Okinawa-Yontan F... Kiaokiewithin northern FranceCrailsheim-Advan...Achiet Advanced ...Lashio Airport (... South KhulnaKhilparaWenigenlupnitz A...Nieder-Waroldern Hildesheim Oklahoma City OKMakum Ribeira AzoresBretigny (A-48) Yelahanka MysoreFahrenkampWenigenlupnitz (...Funafuti LagoonNieheim HolzmindenBankstown Airpor... Feni Morgantown WVBad Langensalza ...Le Havre Advance...Koblenz-Winninge... ShingbwyangCharleroiMalirGotha Nord Advan...Eisfeld Advanced...Amiens-Advanced ... Auqui Island Mi...Giessen Advanced... RondaAustin-Bergstrom... Burnet TXGooseberry Hill WA Kielce VitrollesLedo Pass areaMorhiban Lake L...Dahlenwarsleben Sweetwater TXSanta Rosa Islan...Glienig/SteinreichAlness ScotlandBermuda-Kindley ...Luckenwalde nea... Sinbo Piesenkofen Dessau MongyaiBÃ¶rnersorfVoisins Shanghai-Kiangwa...RumkhapalongHelmstedt Advanc...Manila Airport (...ReisbachSchwÃ¤bisch Hall...Bayreuth Advance...MetzRheine-Advanced ... Angeles CityBerlin Hesdin Claude TX Emison Auxiliary... Foreland Kentbetween Chanyi a...Guam-Agana NAS (...Poltava Air BaseMarkham ValleyWustrow/RerikMatsuyamaBasra Internatio... SikeÃ¥fjÃ¤rden ...Sarregueminesbetween Meiktila...Gleiwitz QuaraManus Island Higgins Field Q...Emirau Airport (...Long Man HillHindheadLandau Ebenberg ...JarnyYwataungErgolding Advanc...ChamHelmstedt-Advanc...Saltnessand Buv... MituRosiÃ¨res en Hay... Putao\"Cox\\'s Bazar Airp...\"between Tadji an...MerseburgSorido AirstripMarrakech Cordelia CANivelles B-75 Ad...Fl. BlancAuckland-Mangere...Ledo AirfieldHidden Valley P... Daytona Beach FLAngers-Arville A...Risstissen-Advan...within Kachin State JoalKalaywa Manus Island-Mom...Beirut Mabein Ocean View VA ...KwanghanYapingKharagpurNice Advanced La... Nanhua PeguTaillefontaine \" Cox\\'s Bazaar\" Attu AK Okinawa KielHannoverMannheim Advance...MingaladonWinslow Airport ... Mayaguana IslandVenezia-Lido Air... Drewin TuraLongreach Airpor... Iwo Jima Karin Ipiabas RJBogotÃ¡-Techo Ai...TanahmeraPort Of Spain-Pi...Melun/Villaroche... Htawgawbetween Momote a... DhakaBluefield VA Canton Hainan Island S... Gumab Masbate I...Birmingham Airpo...Tinian Island In...ChangchunSemarang Airport... San JoseLe Bouscat Bord... MajuroMount Bongkok Blakehill FarmNetrubezh Kolpn... Marseille Yelvertoft QLD Lula GAButterworth Airp...Cheshire CT Wake IslandMount Ptolemy n...JesseltonVadodaraHmawbi RAF Station Wuhan Nanking (Nanjing) GereldePoona RAF Statio... Lo-tien-Chen Pearl Harbor NAS... Le MansElk Mountain WYLipa-Fernando Ai...Solntsevo distri...Fujisawa Air BaseBelo Airport (BMD) Aurora-Lowry AFB... Aix-en-Provence CarlisleMenorca-MahÃ³n A...IlhÃ©us Airport ...Negros IslandDhorro Naro Huerta Dumog Saigon BarquisimetoVictoria PointVictoria Point A... Warlingham Orlando FL Sanborn NYMinsk-1 Airport ...Charlottetown P...Bandung Airport ... Yangon-Mingalado... MÃ©liseyMedellinAnzioThing Mountain CAJinan ShandongPoole Harbour Praha-Ruzyne Int...BasraNewark Internati...Newark NJ (EWR)Derwent River es...Rod-el-Farag Newport Beach DERadcliffe-on-TrentSingapore-Kallan... ZircNanjing Hobard Mills CASeoul-Gimpo (Kim... Anadyr Bakovka Kuntsev...Indian OceanBanahao MountainLantau IslandSingapore-Seleta...BramptonZyryanka Airport SinhkungBina TouhoHunanPort Angeles CGA...Laupahoehoe HIMount Guram Nor...Stoney Cross RAF... Albuquerque-Kirt...Ayuy AirstripLee-On-Solent ShensiShanghai-Jiangwa...Lyneham RAF Stat...Woodbridge RAF S...Oviedo Airport (... WymeswoldBovingdon RAF St...CorumbÃ¡ MSLa Libertad Airs...Effingham Hollywood CATarawa AtollBassingbourn RAF...San JosÃ©-La Sab... Barcelos AMValley RAF Station KazanPindi-KhutTsushima Strait PeipingSydney NSWAlwarOshima Island HeidelbergSimra Airport (SIF)Desborough RAF S...Pastaza-Shell Me... Richmond-Byrd Fi...Karachi-Mauripur...within India Guam Flagler Beach FLKawdutStradishall RAF ... Amalfi Aguadilla-Ramey ... Champagny Island...Delhi-Palam Airp... OniTaboga IslandAsmara Internati... Madrid-Barajas A... Samar FieldEl ArenalKwangju AirstripWillimantic CT Shannon Mexico City-CentralSwartkop Air Base Kallar Syedan Pau-Uzein Airpor...within Cameron Highlands Aracaju BrazilChar Chapli Palmer MA Reading Municipa...Ewa MCAS HI Jinan Airport (TNA)Saishu Island Cuenca Airport (...Sama Bay Hainan Goodland KSBellevue-Offutt ...Kinvara Galway BasseinHondaMelbourne-Essend...General Pacheco BAMexico CityTorrance CAWillow Grove NAS... Oslo Point Arena CALumberton Airpor...Lakehurst NJ Kranj EnniskerryBournemouth-Hurn...Fukuoka-Itazuke ...Ndolo BledRouen Moline IL Garmisch-Partenk... Ashland MSBathurst-Jeshwan...FÃ¼rth Advanced ...Manchester-Ringw... Moncton NB (YQM) KÃ¸ge Big Delta AKConstantine-Ain ... Elko NV Esperanza Darvaza Airport Bathurst-Yundum ...Nome AKHolmsley South R...Tiputini Airport...Okinawa-Naha AFB...Estevan SK Granite Falls WA Gander NLYonago-Miho Air ... Xichang Sichuan...Shannon Airport ... Hong Kong-Kai Ta...Hong Kong-Kai Tak Rio de Janeiro RJBulusanHermosillo Airpo... Stephenville-Har...Fort Benning-Law... Koge Penang Malaysia... Cheyenne Airport... Sefrou Alexandria VANewcastle DE WoendiLaramie WY ChitralCatanduva SPMembury RAF Station Manila-Nichols A...Gebel KalamounEl Paso-Biggs AA...Mount BanahaoTashauzSaint-LÃ©ger-la-...Taiden Yamshchina Mosk... ShereRio de Janeiro-M... San Rafael NMAnchorage-Merril... DobrovÃ\\\\xadzeUfaTakuma BayCleveland OH Lebec CA Perote Iwo Jima Air Bas...Lons-le-Saunier Interlaken SuezOhama Beach 210... ValdenocheDarwin RAAF Stat... San JosÃ©Brize Norton (BZZ)El Palomar Air B...San Juan-Isla Gr... BerelyokhDunsfold AirportMount Rainier WA Osaka-Itami Air ... Ostrov LitneMt. BanahawFairbanks-Ladd A...Shanghai-Longhua... Tilaran Trigno Ferrara London-Northolt ... Aberdeen MDHonington RAF St...BuenaventuraMalta-Luqa San Diego CALos Angeles Airp... Shanghai-Jiangwa...Walshville IL Shannon Airport ...Michigan City INThurston Island Charleston SC Taldi-Kurgan France Nashville Metrop...Whitchurch AirportSÃ£o Paulo de Ol... Carmel NJ QingdaoJones Beach NYMont VentouxCostermansville ...Jacksonville Mun...Stowting Laoag PhilippinesGalax VA PueblaOakington Singapore-Seleta...BelfastKupang-El Tari A...An Cu AnnamOakland NAS CA ... Puerto Araujo Guayaquil Airpor...Allentown PABÃ¼ckeburgSchofields Airpo... Seattle/Sand Poi... Headingley MB Dartmouth NSMt. Parker ChongqingRenfrewGillemanuk BaliNewark Airport NJ Hankou Lisboa-Portela d...Middle Aston Assateague Islan...Harrington DLLagoa Santa GO Pedro Bernado Chongqing Airpor... Mys Shmidta AirportWaterbeach RAF S... KladnoDenver COLeague City TX Terracina BogotÃ¡ MalmÃ¶Neubiberg Air BaseOffenbachKaufbeurenPhiladelphia PAChina Sea Point Lookout S...Nizhnesvanetsky ...Lapula River\"L\\'isola di Ischia\" Bandung ChÃ¢teau-BernardCharleston Munic... MedellÃ\\\\xadn-Enriqu... Negombo RAF StationMasindi Bucaramanga Aq QalehCaracas-La Carlo...Freetown DessieFairfield-Suisun... Gimbat Station NTPalm Beach-Palm ... Decaturville TN CaracasSan Antonio-Kell...DalbryDakar-Yoff Airpo... MalakalColumbus GA Karlovy Vary Volochanka Villa...Shanghei-Lungwha...San Salvador-Ilo...NiameyTorino-Mirafiori...Biloxi-Keesler A... Nicoya Airport (...Newark Airport ...Saigon-Tan Son N...landing ground H3 Cape May Pount ... Austin TXOmetepecQuito-Mariscal S...Gainesville Airp... Khabarovsk Airpo... Malaybalay Livingston MT TrinidadHÃ©Ã°insfjÃ¶rÃ°ur Atsugi-NAS (NJA) Bainbridge MDMitÃº Airport (MVP) Palanquero-Germa...Aoulef GÃ¨menosNatal Airport R...Oakington RAF St... Charles Town WV DalatFort Knox-Godman... Cebu Leninabad Airpor... Mayadine\"Karkinyts\\'ka Gul...\"Hamlin Field SKIpiales-San Luis...Charleston WV IsioloAntananarivo-Ari... EsÃ©ka Florida coast USA Saigon-Tan Son N... Inistrahull IslandChincoteague VAOberrÃ¶blingen Melbourne FLVichy-Charmeil A...Saigon ?Az-ZubairKotzebue Airport...Saint Joseph Air...MorÃ³n AB BALondon Airport (... Yogyakartawithin Yumen provinceTupungato MountainSvolvÃ¦r-Helle A...Miami Internatio...within AlaskaSevero-Vostochny...Cachoeiro de Ita... Chevilly Haneda AAB Cormey OHHanksville UT Woodford Airport...Bahrain Marine A... LÃ¸dingen Westgate Cambridge Bay NU El AjebDishforth RAF St... Aberdeen-Dyce Ai...VoulaBermuda Air Term...Grosse Ile NAS MI Larkspur COZamboangaHollywood-Lockhe...CarlotaBuenos Aires-Jor...Junagarh Puerto San Juan Angeles City-Cla...Delhi-Palam Air ...Dago Lake AKBelfast-Nutts Co...PauPanama City-Albr... Borja Changchun Airpor... Gander NL CanadaPikes Peak COSylva NC Baoding Southend PierLondon Bryce Canyon Air...Annette Island AKMount Hymettus YulinNegombo RAF Station Muswellbrook NSWwithin Pir Panjal RangeBalikpapanJammu Airport (IXJ) Les BouchouxAdak AKBombay-Santa Cru...Santa Maria del ...Wilmington-Newca...Brightstone Down...Honolulu NAF HIPorto de Moz PAPlouznice Lomni... Rizal provinceWau Airport (WUG)Sverdlovsk-Kolts...Ciudad BolÃ\\\\xadvar ... RumijaYakutat AK TrappaBahÃ\\\\xada Blanca-Co...Seattle/Tacoma I... Tokyo Taldom Herford TX Chongqing Airport Eglin TXHampton-Langley ... Izmir Goose Bay Airpor... Camp Springs-And... Abingdon RAF Sta...Norfolk NAS Cham... Tyoply Stan Krasnoyarsk Seve...Dilalongan Uetersen RAF Sta...Madrid-Barajas (... MitwabaManila ?Korangi Creek LeeuwardenLÃ©on KÃ¸benhavn-Kastr... ChrysostomJohannesburg-Pal... GonesseRuislip Savannah GA Madrid Airport YamasÃ¡Ponte GaleriaGuaymasOxon Hill MDCamp Springs-And...Mukden Airport (...Boston-Logan Int...Iloilo-Mandurria... Ward COMoulouyaBaltimore MD CyprusMonte de CaparicaMontagne du Chev... Coalinga CAwestern Atlantic...Beirut Internati...between Chita an...MarignaneBombay-Santacruz... Brunswick GA Saluda NC PadalarangParis Ciudad del Carme... UlrichsteinHullavington RAF...Collesalvetti St. MarcoufMati La Grita Columbus OH Breves PAKalafranaMobile AL Perpignan Kharp San Jose CA Poso SulawesiTulsa Internatio...Mount Sanford AKJuqueri Range SP ChocontÃ¡Vorkuta Airport ...Poonch Airstrip Woodland WAOklahoma City-Ti...Monte Cardo Berlin-Gatow Tsingtao BuenavistaKano Internation... AltamiraLos BarriosSaigon Lae AirfieldJolo Airport (JOL)Irish Law Mountain ChitaKhabarovsk Airport Quonset Point NA...San Isidro de el... BodayboSan JosÃ© Tsingtao Marine ...Erding Air BaseDarwin Airport ... Magazini Easthampton MA JunÃ\\\\xadn Airport ... Vrede Columbus-Port Co... Cebu-Lahug Airport BovingdonRamat David MagadanRamat-David Air ... Latrun PopowiceNorth Luffenham ... Banton Rouge LA AmesburyLisboaEloy AZCoulommiers Airport Mount Carmel PASalzburg Airport...Maracaibo-Grano ...Caracas Airport ...BogotÃ¡-TechoIstanbulKeerbergen AirfieldPico de OrizabaNorthwoodEkron-Tel Nof Ai... Wiesbaden Air BaseDjiringGreenville AFB NC Wiesbaden Coronel Pringles... Maiquetia-La Gloria ToulonPuerto Cabello H... Kau Chau Island Marseille France Villacoublay Air...Gore Airport (GOR) Hoa BinhCap des Rosiers QCFassberg Air Base Berlin-Tempelhof...Abingdon RAF Sta...Kittigazuit NWTQingdao Airport ... Buenos Aires SywellTurukhansk Airpo... Dakar SenegalBerlin-RAF Gatow...MCAS Cherry Poin... Miami NAS FLRununder PointPyote AFB TXDesford RAF StationSydney Airport ...Batu Melintang Coro FalcÃ³n Ravolzhausen Newton NJTengah RAF Stati... Winona WI Kimbwe Quirindi NSWNovosibirsk-Seve...Lisboa Airport (...Moskva-Bykovo Ai...SurabayaFÃ¸rdesveten Ho... Wetaskiwin ABBarbacena MG Buguruslan-Bayma...Tetovo Cape Medynski Za...Wunstorf RAF Sta...Burlington Inter...Santa Maria-Vila...Lord Howe Island... Balkhash Airport...Mount Punggur L...Trondheim-HommelvikHaines Bay RionegroCampina Grande A...Berlin-R.A.F. Ga... Wadi HalfaBÃ¼ckeburg RAF S... Yevlakh Parshino Kirens...Liverpool Intern... Clinton LA CozumelRantoul-Chanute ... Sumatra Island Samurskaya Edmonton AB Elba Tyrrhenian...LÃ¼beck-Blankens...Herzlia AirfieldRamat David Air ... Mys Kosistyy Cape Spencer AKMount Guemes Va...Mount Macedon VICBogotÃ¡ RawangFairbanks-Eielso...Prestwick-Heathf...Wake Island Airp...Berlin-SchÃ¶neberg LeninabadColÃ³n-Coco Solo... GeorgetownConholt Park Ryzhovo SakhaFazenda Boa Espe...VehariRAF Wig Bay Wig... Cambray NM Muroc CAPraha-Ruzyne Int... Fassberg KÃ¶nigstein im T...TaipeiAntofagasta-Cerr... MaiduguriPlaya Viru Greenville-Donal... Fairfield-Suisun...Basalt IslandRaiiz mountain r... Pilos GandesaValuyevo Moskov...Fort Nelson BC Florida USA Gu... Mangalore VICVillavicencioJambi Sumatra MinskMonte ArgentarioSeattle-Boeing F... Tel AvivMÃ¼nchen-Riem Ai... Weimar CAZacatecas Airpor...Caravelas Bay BABrandywine MDBirjand Airport ... Garstang Arzew Mineral WALyon-Bron Airpor... Pelotas-Federal ... Frankfurt Rhein-...Ras-el-Tin Banihal PassRio Yavariwestern AtlanticWichita-Beech Ai... Churchill MB Stalino Airport ... Homer AKRoosevelt Roads-...LuleÃ¥-Kallax Ai... UtechtAlameda CANizhnyaya Pesha ... Port Washington NYTainan Tripoli-Castel B...Buenaventura Bay AhwazGuayaquil Mezenka Beloyar... BarsebÃ¤ck Ã\\\\x96re... HuÃ¡nucoPaiyangOberpfaffenhofen...Celle RAF Statio...Montevideo San Antonio de l... ExhallHythe HampshireAnnette Island A...North Point Hon...Cuzco Airport (CUZ)Cerro Colorado BraganÃ§a PAGander Airport ... Bad Langensalza CelleCoolangatta Airp...Puerto Cabezas NkolafambaMount Bel-AutyHoang Su Phi Paraparaumu Airp...Barranquilla-Ern... LÃ¼beckKingston-Palisad... Resolute Bay NU Campeche Johnston IslandBelo Horizonte-C... Edgar Springs MOSchleswigland RA... PirsogianniDubbo Airport N...Marve BeachNice Airport (NCE)Porto Nacional TOGÃ¼tersloh Airpo...Athens-Hassani A... Stephenville NLThessaloniki Air... KirenskSaint Thomas Air... Torino-Aeritalia... Abaetetuba PA Portland Lighthouse Alabat Island L...VolcÃ¡n Tungurahua SchwerinDetroit River MI Roswell-Walker A...Yellowknife NTIsachsen Airstri...Celle RAF StationMaui HIStephenville-Ern... Athens FlorianÃ³polis SC San Juan-Isla Gr...Osisko Lake QC Santa Monica CAKolundaNeustadt LuperÃ³n Memphis Municipa... BariLord Howe IslandAvraham Guildford Airpor... Roanoke IL Zaouit Massa Chatsworth CA RathenowBerlin-Tegel Air... Marga Nizhneudi...Chesterfield NJ Naberezhniye ChelnyJaquirana RS Joinville SC Salasaca HillMilwaukee WI Salalah Airport ...RurrenabaquePortland Airport... BojacÃ¡ Ankara Lurga Point Basse-YutzPutlaToronto-Malton A... Manchester-Ringw... Polukotelnikovo ...Lao KayBigstone Lake MB LaghouatGuam-North Field... KabanskLÃ©opoldvilleRose Bay Sydney...Cochabamba Airpo...ItuzaingÃ³ BAEl Tuito Collinsville CA Kazan-Borisogleb...Sucre TaipingSault-aux-Cochon...Santa Cruz-El Tr...AnisakanNetheravon RAF S...Barter Island Ai...NykÃ¶ping-F11 AF... Dakar SavasleykaMount PopocatepetlBeacon Hill Castilla BA McCleary WAIguape SPMount Mitchell NC Saltillo MachacamarcaAlexandria Airpo...Ã\\\\x89tang de Berre ... Karachi Airport ...MalakalSan Diego Intern...Bolson de Burruy...Redondo Mountain...London Heathrow ... Washington-Natio...PÃ©cs/Pogany Air...Akron/Canton Air...Calgary Municipa... Shreveport-Barks... MengziLas PiedrosLanywaNairobi-Civil Ai... Oslo-Fornebu Air...Seletar Island Kelso WAPÃ¡ramo Bogueche Dong Khe Saint-Just-Chale...Deversoir RAF St...Villa Cisneros ...RibeirÃ£o Claro PRMuntok BayGuangxi province Vallejo CA LanzhouBeograd-Dojno Po... Baja CaliforniaHaikouJungshahiOrizabaBornholm-RÃ¸nne ...Aulnay-sous-Bois Vitoria ESTiruchirappalli-... Edenton MCAS NC Aktyubinsk Airpo...Comilla Sverdlovsk-Kolts... Camden Airport ...Itaquaquecetuba SPAnkara Zinder Tobarra Vacasbetween Iloilo a... TamataveShella Airstrip Snag YTLe Treport Whitehorse Airpo... La TintaSouthamptonMount Clemens-Se...Calshot RAF Station Roosevelt Roads-...Maracaibo Cali Pon Lake YTEvans Bay Welli...Tokyo-Haneda Air... Raynesford MTLos Angeles Inte...Lagoa PÃ¡ti Man...Cotonou Airport ... Snag Lake YT Campoalegre HuilaPraded Mountain Minneapolis-St. ...Hope ARIpiales Airport ... LlandowIringa-Nduli Air... CowbridgeSmyrna-Sewart AF...Rome-Griffiss AF... Ankara-Etimesgut...Lae Airfield Komaki Air Base ... Rockcliffe RCAF ... Roswell AAF NM Cap Ferret\"Ke\\'ehi Lagoon O...\" KievSuberi Rajastan Kingston JamaicaCornwallis Islan... Hastings Pinto Vitim Tachikawa Air BaseYakutsk Airport ...Cochabamba Summerside Airpo... Hartsville SC Leon Springs TX Tenkodogo Simiatug Fairbanks-Ladd A... Georgetown Airpo...Oyster Northamp... HarstadBalurghat Airpor...Aurora-Lowry AFB... Burley IDMount Paskal PastoCharlotte-Dougla... Cape Flattery WA Teterboro Airpor... IlhÃ©us BA Melbourne FL USA FonsecaTulsa Municipal ...Buenos Aires/Eze... Bahrain Airport ...within Madagascar Merida Benton Harbour ...Seoul (K-14) Air... Guildford WAKhimki Reservoir Hendersonville TN Decatur ALEl Lorza Toulouse BusanGuajarÃ¡ PATaejon Air Base Pathankot BocoioIwakuni NAS Tbilisi Airport ...Kenai Airport A... Myrtle Beach SCnorthern Isreali... O-Shima Porto Alegre-Gra...Tanezrouft Juneau AK KoÅ¡ice Karaganda Airpor... SÃ£o Francisco d... Tallahassee FL Decatur IL (DEC)KoÅ¡ice Airport ... Aichach Seimchan Paeng Nylong-do Eagle CO Cravo Norte AraucaChinhae Air Base... Kampong JeneraBarranquilla Jemaja Island I... Wadi Natrun Parsons TN Utica NYGuanabara Bay RJRocky Peak CASon-La-Na-San Ai...Ashiya Air BaseVatnajÃ¶kull Gla... Tehran-Mehrabad ... Kwajalein NAS (KWA)Malo Sljeme Aden-Khormaksar ...Nagoya-Komaki AFB Ashiya Air Base North KoreaIwakuni MCASGalÃ¡pagosColumbus Southwe...Laguna Anteojos ...Malay Cove Trin...Filton Airport (...Rostov Airport (...Bungulla NSWAlmelund MN St Claire ALSea of JapanAlma-Ata Airport...Mill HillDhahran Airport ... Limestone MESingapore-Changi... Truckee CAArctic Ice Stati...Tachikawa Air Base Bridgeport ALMont BlancVitoria Da Conqu...Misawa Air Base ...Schofields NSW Butte Airport M...La Paz-El Alto A... PyongyangPusan East (K-9)... Turukhansk Airpo... Pickens SCEmirdag GrenobleFagaras Mountains Hobsonville Air ...Surabaya/Perak A...Greenville-Donal...Long Beach Airpo... Pyongyang Air Base HyesanjinMount Moran WY MedellÃ\\\\xadn KhitokhaHolguÃ\\\\xadn Airport... Yokohama Bay ne... ChamaranHagaru-ri Airstrip Hagaru-ri AirstripKabrit RAF StationSu Won (K-13) Ai... Bangui Airport (... \" Col de l\\'Ouillat\"Yonpo AirfieldMount FujiDaegu (Taegu) K-... Satapuala Upolu Niamey KotagiriLondrina PRRibeirÃ£o Preto SP PÃ¡ramo Las Siet...TouraneMt. TabayocBenghazi-Benina ...Kampong Aur Penticton BCMcCreight Mounta... Montaltodi di Ca...MynzhilkiSerui Cobo BAGreat Slave Lake...Chicago-Midway A...Hoengseong Air B...Chungju (K-41) A... Tuapse Kazan Airport (KZN) Sungei PadiPhiladelphia Int... Reardan WA Taejon (K-5) Air... Chala Tsushima Airport...Damascus-Mezzeh ... Okinawa-Naha NAS...PapendrechtCoolawanyah Airp... CivitavecchiaMt. Yuli Kostanay-Nariman... San Luis PotosÃ\\\\xad...Taegu Air Base (...Madrid HafnarfjÃ¶rdur Terceira-Lajes A...Khabarovsk Krai ... BuÃ©aWhidbey Island N... San Pablo de los...Eastville VALuang Prabang Ai... YalÃ\\\\xad Antioquia BÃ©ja Stockholm-Bromma...Rio de Janeiro-G...Newhall CAUrbe Iwakuni MCAS Tulsa OKOkinawa-Kadena A...Hong Kong IslandResolute Airport...Phoenix-Sky Harb...Strubby RAF Station Hato Nuevo Florianopolis Ai... Shannon Ireland Iskra RÃ\\\\xado Grande TFCamden NSW Matagorda Island... Riga-Spilve Airport HongchonEntebbe Airport ...KeflavÃ\\\\xadk Intern...Refugio Pass CA Mount Clemens-Se... Charleston WV Mama Airport \" Cape d\\'Arguilar\" ZalingeiSeoul-Kimpo Air ... Solano CAbetween Kyzyl an...Tres Esquinas Ai... Key West FL Los Antiguos SC Fort Wayne IN Taegu Air Base Wonsan Punta Indio Nava... Fayid Bordeaux-MÃ©rign... Monterroso (Lugo) Spokane-Felts Fi... Rovigo MaceiÃ³ Airport ...Giebelstadt AAF ... Rancharia SPKodiak NAS AK (... New Lisbon IN Daegu Air Base Busan (Pusan) We...Aqaba Airport (AQJ)Albany-Turner AF...BahrainPalame BAPuerto Deseado A... Inje New Boston TX Jackson TNGramacho Rio de... San Antonio-Kell...WittelsbachPort Vila Flemings Island ...Manila Bay Omsukchan SanoyeaSpokane-Fairchil...Choma Airport (F... MorÃ³n de la Fon...Kentira RijekaGeneva-on-the-La... Fort Collins CO Fort Dix-McGuire... HanoiBarranquilla-Sol...Pohang (K-3) Air...Montreal-Dorval ... Aracaju Airport ... Lyneham-RAF Stat...Gao AirfieldBangkok Internat... El Paso TXFayid RAF Station Antananarivo-Ari...Curles Neck Farm... Sitka AK Gao Airport (GAQ) Isola di Palmaria Kaduna Airport (... Cochabamba-J Wil...Guaratiba RJBarilla Bay TASMoisville Vilyuisk AirportLuzon Island-Cub...Boh Fai AirportLena River ...Summit AK Kanash Oakland Internat...Wular Lake Platinum Airstri...Lake Texcoco Montauk Point N... Fairbanks-Eielso... Gorbovichi Tsushima Island Chunchon Air Bas... Palma Islas Bal... Redwood City CABangalore-Hindus... LokaUbatuba SPTukalan river E... Rafael Castillo BA BabiceMount TanazawaLa Paz-El Alto Maedong Serkova Krasnoy...Mersin Lafayette INCerro BlancoPuerto LeguizamoWarner Robins-Ro...ConceiÃ§Ã£o do A... Art. Bogdanovic ...Atsugi NAS (NJA)Mount IngeliMt. Benson BCZÃ¼rich-Kloten A...Sept-Ã\\\\x8eles Airpo... Nassau Miami (MIA) FL SkopjeEast Hendred Ox... Flores-Santa Ele... Arkhangelsk-Tala...San Bernardino-N...Tucumcari Airpor...Hanoi VladivostokFort Lamy Airpor...MorÃ³n Air Base BAAlbacete-Los Lla... Clermont-FerrandNikolayevsk-na-A...Gauhati-Borjhar ... LÃ³dz Airport (LCJ)Oakland Range CA PapaKus GÃ¶lÃ¼ (Lake... ZÃ¼rich-Kloten A... FethiyeSan Luis AcatlÃ¡n Ocala FLMilano-Malpensa ...Denver-Stapleton...Saint John Airpo...San Gabriel Moun... Newark Internati...Cobourg ON TehranMasbate Airport ... Milano-Malpensa ...Ã\\\\x87akirlar Ã\\\\x87iftl... Redding CA Kosing North Ko... Namtsev Salamanca NY Fairbanks AK Globe AZAndapa Singapore-Changi... Grand Cayman Island Hachita NMBurtonwood RAF S... Stalingrad Airpo...Cwm Edno WalesMt Crillon AK Fort Yukon AK New York-La Guar... PohangKorean coastKasfareet RAF St... Sandspit Airport... Panamint Springs...Pisa Airport (PSA)Cedar Grove NJRaunheim Kikwit BagdograWheeler-Sack AAF...Monte la CintaNagpur-Sonegaon ... \" N\\'GaoundÃ©rÃ©\" Ulyanovsk/Barata...Palta Lake UberlÃ¢ndia-Edua...El Carmolia/Los ... Nice-le Var Airp...Butterworth RAF ...Guggi Glacier n... La Ciotat Hamburg-FuhlsbÃ¼...Swinderby RAF St... Collo Bay Minette ALFelixstowe Suffolk Gaspe QC Frankfurt Intern... Thule Air Base (...Hugoton-HAP Airp... Point Barrow AK... San Felipe Airpo...Baguio-Loakan Ai... Mimizan New York-Idlewil... Magdagachi Airpo...Loma Prieta Moun... Beirut Airport (... Jefferson City MTMihara Volcano Camp Edwards MABrunswick NAS M... Whittier CAGraz-Thalerhof A...Winnipeg-Stevens... Karmanovo Novos... Berlin Carolina MADentist C Kamikawa KhandygaMiddelkerkePhan Thiet Skien Frobisher Bay NUIpohSÃ£o Paulo SPEyjafjallajÃ¶kullSandwich Bay NL Sowina Manaus AM Atar Whidbey Island N... Gotska SandÃ¶n i...Baltic SeaCairo Internatio... Berwick-upon-Tweed Monrovia CAFoligno Airport Cherry Point MCA... Dallas-Love Fiel... Oya Hoyo de Manzanares MaraÃº BAMoline-Quad-City... Seattle WAWarszawawithin LaosPithiviers Airport Niigata Air Base...Falmouth-Otis AF... Kuala LumpurPalmeira de GoiÃ...within Nicaragua GuaÃ\\\\xadra Airport ... Hook Hampshire Benson RAF Stati... Suwon (K-13) Air...ApÃ¡capuszta Chlya Nizhneamu... PotsdamFort Indiantown-... Khewra Khartoum-Wadi Se... LoisyKosti Airport (KST)Tampico Narsarsuaq Airpo...Carolina Aerodrome Northice Camp Paris-Orly Airpo... Santa LucÃ\\\\xada Air... LahoreTabora Airport (... Belogorsk Tisul...\"Ust\\'-Tareya Kra...\" Newport MENyÃ\\\\xadregyhÃ¡za Ai... Skvoritsy Lenin... Philadelpia-Nort... Tarbat NessSan Francisco de...Perpignan Airpor... Kangnung Air BaseBÃ©ni OunifJamshedpurKuybyshev Airpor... Bonneuil-sur-Marne Cronulla NSW\"Fletcher\\'s Ice I...\"Wigsley RAF StationMt. McKinley AKNevada Fort Lamy Airpor... Merowe Cho-okNizhniye Kresty ...Sincan Ankarabetween Anchorag... Kangnung Billings MTLa Romana Block Island RI Etropole Boscombe Down RA... JÃ¶nkÃ¶ping Airp...Lyneham Tacoma-McChord A...within Jilin province Vresovice Banning CA YeniseiskAntalaha-Antsira... Bermuda-Kindley ...Fallon NAS NV (... Three Gorges Ta... Wells NVKunmadarasRichmond Airport... Guercif Moses Lake-Larso...Dahr el Abid Mou... Miami FL USA En NebkTokyo Bay Kamar Uttar Pra... La Guaria Jinhae (K-10) Ai...Chinmen IslandSpernall Dhahran Raleigh/Durham A... Fish Haven ID Issaquah WAMyeik Shallufa RAF Sta... Korean coast Agrigento Italy Stephenville-Ern... Chaumont Shantou Formosa... Berlin-TempelhofIndo-ChinaMadeiraIrkutsk Batagay Airport ... Kazan Airport Cagliari-Elmas A...Lichfield RAF St...Strait of Georgi... BogotÃ¡-Techo Ai... Newfoudland Canada Lai ChauValkenburg Air B... Roma-Centocelle ...Kirensk Airfield Bitburg Air Base... Swinderby RAF St... Moji Honshu Island Mobile Point AL... Jackson-Hawkins ...MedellÃ\\\\xadn Airpor...Yilan Station Echo Avon IN Karachi-Mauripur... Windsor Locks-Br...Ashgabat Airport...Cagayan de Oro A... San Pedro de Col... DaejeonKatowice Kalahasahar Salvador-Dois de... Da Nang Airport ...Saint Petersburg... Alvarado CANicosia Airport ...Panama City-Tocu...Itapebi BA San Fransisco C...MkwayaMiandrivazo Airp...Kingston Airport... Gauhati Selleck WA Point Loma CA \" Chicago-O\\'Hare I...\"Choteau Airport ... Hartland Point ...Bombay-Juhu Airport DelhiPrince Rupert BCBelfast-Aldergro... Hemsbach Marshall TXLake Melville NL Des Moines IASaint Louis-Lamb...Nadezhda AirportKings Canyon Nat... Blenheim-Woodbou... BarzasOkinawa-Bolo Air...Nabeul Juan A. Pradere BA ZugdidiSan Ramon Mts. CopiapÃ³-Chamona...Phou-Lassi Hill CÃ³rdoba CDSeoul (K-16) Air... Sangley Point Ai...TehranPersian Gulf Picinguaba Cove ... RushanMississippi River Chestertown MD Stavanger-Sola A... Wake Island (Pac... Cape Henry VA USA Basin MTJohannesburg-Ran... Milton-Whiting F... Etah ZyryankaRockliffe-CFB Ot... Idris LibyaTrelew CB BordeauxEl Chanar LRChunchon Air Base Mao-erh-shanHanoi-Gia Lam Ai... Sharjah Airport ...MyaungmyaTartagal Salta GharyanSpringfield-West...Flathead Forest MTCorumbÃ¡ Interna... Campo Grande Air... LaiyaMont Le Cimet Vail WA Ilha da BoqueirÃ...Tacoma-McChord A... San AndresLuluabaChablekal Albany Airport ... San Luis de Pale... Bermuda Miles City Munic... Bertam Guarinocito Prades Jask Iran Gulf...Louisville-Stand... Port Lyautey NAS... Tangier Airport ... Irkutsk Airport ... TuguegaraoJujuy Airport P...New York-Idlewil... MamuliqueTonkin DeltaMÃ½rdalsjÃ¶kull ... Mineralnye Vody ... MarabÃ¡ PA Kharkov Airport ... Tarabuco Calhan CO Singapore Island Villa Mugueta SF Fort Bragg NCAlbuquerque-Kirt...Camp A.P. Hill VA Mallala SA Sirte Yonago-Miho Air ... Guaderrama Taichung Newton Falls OH Argyll Nagpur-Sonegaon ... Araruama RJCerro Tecpan Cairo-Almaza Air... Malta-Luqa Airpo...NÃ¼rnberg Airpor...Agrihan IslandPic de Costabonn...Vancouver Intern...Nome AFB AK (OME)Ashuanipi Lake NLNarsarsuaq Airpo... Keya Jeju IslandLÃ¢psekiTeterboro Airpor... Aldbury Hertfor...Tallinn-Ã\\\\x9clemist... Shreveport LA ElbaManizalesTopcliffe RAF St... Buffalo NY Hullavington RAF... Barbers Point NA... TsaghkashenAngle BayDien Bien Phu Apiay Air Base (... HokkaidoMukeiras Airport...Severn Estuary ...Beijing Xijiao A...San Pablo Bay CA Curry AK CÃ¡ceresbetween Puerto I... GozoMuong Sai Airpor... Yelm WA ZaghouanMogadishu Gemas Delhi-Safdarjung...Huntingdon TN Wright WYGunsan (Kunsan) ...Hanoi-Gialam Air... Saint-Ã\\\\x89tienne-d...Dien Bien Phu-Gi... Catamarca Airpor...Xieng Khouang Ai... Syerston RAF Sta... Mackay Airport ... Midland TX Gruszowiec Lothian MDHaiphong-Cat Bi ... MonterreyBear IslandRiver SwaleJebel al Lawz Adana Hanoi-Gia Lam Ai...Moose Jaw SK San LucidoThorney Island R...Xiengkhouang Batuco Burbank Airport ... Beulaville NCSierra del Vilgo...Damascus AirportNam BacChurchill Airpor...Sea Island RCAF ...Saigon-Tan-Son-N... Sinking Spring PA Carricitos Ban Sot Nassau Airport (... RAF North Luffenham\"N89Â°09\\' W90Â°00\\'\"Saugaon Hawaii USAPorvenir Airport...Serra do CipÃ³ M...Duluth-Williamso... Maribor SE coastDa NangGage Airport OK... Folkestone Ixtlahuaca Sint-Truiden Nairobi Christmas Island Verkhnyaya Salda...Moses Lake-Larso... PatheinKyritzColumbus-Port Co... Riverside-March ...Hopkinsville-Cam... Cheung Chau Island Hainan IslandKuwait Internati...Saint Anthony NLKelleys Island L...Preston City CTBahrain-Muhurraq... McGrath AKBlackbushe Pakse Mason City IANorth Sea 37km ...Forrest Hill VIC Yuzhno-SakhalinskSanta Cruz de Ll... Oxnard Airport CA Cape Ostrovnoi ...Barrington Tops ...St. Peter Port ... Mouzaia Newhall CA Isla Catalina Fawnskin CALondon-Stansted ...Sangley Point Na...Nagoya-Komaki Ai... CalneGuatemala City SkarduGoose Bay Air Ba... Capilla del Senor Hua Hin Daegu (K-2) Air ... Limone Piemonte ... Barnaby Notting...Tranigigvaag Fjo...Ballykelly-RAF S...Mount Sivukha K... Maryland USAMangalore Airpor... Glastonbury CTBrisbane-Eagle F... Jirishanga Waynesboro VAJambi Airport (DJB) EschauHamble Berlin Airport ...Villa Harding Gr... Luang Prabang Alma-Ata\"St. John\\'s Airpo...\"Elefsis Air BaseJohnsville NAS PAGuasdualito Airp... Bratislava-Ivank...Haines Municipal...Brampton ON Milwaukee-Genera... Ciudad Bolivar White Plains NY Pittsburgh-Alleg... PolnÃ¡ BratronovSt. Eugene ON Huntsville AL Barranquilla-Sol...Irkutsk Airport ...Polar Station SP-3St. Petersburg A... Fastnet Rock Ir... Smyrna-Sewart AF... Cincinnati/North... Moskva-Bykovo Ai... London Airport ... Stephenville NL... JardÃ\\\\xadn Antioquia Dexter IA Gauhati-Borjhar ... Chattanooga-Love... Lipovets Kagarl... Ocean Weather St...Niigata Air Base...La Pedrera Airpo...Nagpur CalabarMonte Terminillo Albuquerque Muni...Santiago-Los Cer...Salisbury-Belved... KinmenBoscombe Down RA...Hagerstown-Wash.... Kepino Arkhange...Vitoria da Conqu... TaitungClinton IA Ciudad de Valles Talpa de Allende...Pittsburgh-Great...Cerro Trujillo Cullman ALJerez De La Fron... Phonesavanh AirportSalisbury-BelvedereGonesse Springfield Muni... Oregon USA ColytonKhowai Airport (...Hucknall Airport Lapine ALLahad Datu Airpo... Pensacola FL Mys Zhelaniya VitÃ³ria-Goiabei...Islip-MacArthur ... DÃ¼sseldorf Airp...Yellowknife Airp... Great Natuna Isl...Hall Lake NUSydney Airport NSMatsushima Air BaseMount KupeGhisonaccia Fiel... Moulins TanaguarenaOnnaingIqaluit-Frobishe... KeflavÃ\\\\xadk Intern... Barnesville OH Dnepropetrovsk A... Amphur FangMount KilimanjaroRÃ\\\\xado Gallegos-Ri...Suquez/LÃ©rida Barcelona Edmonton Municip...\"N73Â°15\\' E162Â°3...\" Deftinge Alamagordo NM Eastbourne SussexWinterburn ABTarapoto Airport... AsunciÃ³n-Silvio...Leon Airport (BJX) Coral Harbour NUSt Lawrence Isla... TÃ©touanSitkinak Island AK UkhtaNagurskoye Air Base San AndrÃ©s Tuxtla Thorney Island R...Capacho OaxacaFraser River Va... Petrich LibyaSanau Kemano BC Fort Leonard Woo... Fayid RAF Station Voronezh Airport...Edelweiler Hawthorne NV Charleston AFB ... Castelo ESHobbs NM Skwentna AK Lanywa Alexandria-Engla... Banyo BasraGulf of Venezuela Komarovo Kansk ... Thorhild AB La Paz Dishforth RAF St...Bangor-Dow AFB METripoli-Idris Ai...Bordeaux-MÃ©rign... Honolulu HI USA Burns WY Jamaica Caribbean Ozerevo Borovic... Beaverlodge SK ViÃ±acMedicine Bow Pea... Wien-Schwechat I...Baghdad Internat... Barra Outer Heb...Hall Beach (DEW ... TexcocoLongmont CO Holyoke MA Hickam AFB Hawaii Seattle-Boeing F...Iwo Jima Air Bas... AkranesJohnstone Strait... Agra-Kheria Air ... KagoshimaMontserrat Marville RCAF St...Spartanburg Down... Kauai HITordoki Yani Omutinskoye Tyu... Ketama Bourke Airport ... Hollywood SCNueva Ocotepeque La Granja Segovia Jacksonville-Tho... Balkhash Lake Kyleakin Scotland Cape Bird Ross ...LangarSparrevohn Air F... Londonderry OHSan Francisco In... BlidaFrederick Henry ...Oreway QC ToryskaBlackbushe Airpo...Kuujjuaq Airport...Nantes-Chateau B... Smithtown NY Lyon-Bron Airpor... ZaragozaEdward VII Penin... Fort Lauderdale FLNorthern VenezuelaCheyenne Airport...Little America VChÃ¢teauroux-DÃ©...Mount Dirphys Frobisher Bay Ai... Fort Chimo QCToronto ONNajran Niles CA Owensboro KYDukham Cairo Internatio... Aleppo RascafriaLash Golath Mt.Ushuaia-Comandan...Cameron Highlands Argentia NAS NL...Gao Airport (GAQ)Pelly Bay NUKnob Lake Curuzu Cuatia Ai...Tezpur-Salonibar...LargsIndapurKorat Pittsburgh-Great... Seattle/Tacoma I...Hall Beach Airpo... Saijo Fairfield-Travis...Ataq Airport (AXK)Parintins AM Wheelus Air Base...Idris Sukhumi Airport ... Woodbine KSBerlin-BohnsdorfVilla Tesei BAKathmandu-Tribhu... Jeffersonville INAhmedabad Airpor...Sierra de Las MinasBeaverlodge Lake...Vientiane-Wattay... IpohHudson Bay SK Jijel Townsend MT New York NY Kano Internation... Resistencia Airp...Grand Canyon AZ LomCoral Harbour Ai... Rio Branco Airpo...Flat Rock MIIngolstadt Air Base PavÃ\\\\xadn CDQuantico VA ? Batagay Deir-ez-Zor Federal WYAl Mahfid Airport ThaziBoca Raton Publi... San Salvador Aux... GizhigaPalm Beach AFB ...Brevoort Island NU La Paz-El Alto A...VientianeCold Bay AK Car Nicobar Airp...Belo Horizonte-P...Dikson Airport (... Amman-Marka Inte...Bartlesville OK Cherepovets Airp... FÃ¼rstenfeldbruc...BotuobiaDEW Line Site 28...Mount Yale COCampofelice di R...Santa Margherita Kuujjuaq QC Tenerife-Los Rod... Salisbury Airpor... \" Land\\'s End UK\" Mull of Kintyre ...Szombathely Rauch BASan Nicolas del ... San Francisco C...McMurdo StationTallahassee Muni...Daly Waters NT Newburg PACastle Archdale Rio de Janeiro-G...Lake MzingaziSuez San Miguel Bay Blackbushe Airpo...Hummelfjell Moun... HangzhouLas Vegas-McCarr... Puerto SomozaCerro El RucioEglisau Caracas Airport ...McMurdo Station-...GroÃ\\\\x9fer Feldberg... FoolowMount Slesse BC Cameron Highlands Panama Gulf of ... Dannemois Bartlesville Air...Tourous MountainsPostville NLLong Beach CAHargeisa Airport... Tyrone PA MÃ¼nchen-Riem Ai...Monte Giner Timmins Airport ... Nashua PA Dhahran Internat...Comodoro Rivadav...Tancos Air BaseReggio Calabria ...Tak ProvinceVictorville-Geor... Tulsa Municipal ... Rankin Inlet NUBukhara Airport ...Vall de NÃºria ... Rome-Griffiss AF...Forres-Kinloss R...Ometepe Island Sunland Los Ang...Rikers Island NY Kohima Nagaland Son Bonet MallorcaYamal Peninsula Seoul-Gimpo (Kim... SalesÃ³polis SP Blyn WAColumbia SCSutton Wick TÃºluÃ¡ HakubaKingsway Camp NatagaimaWythenshawe SayariLoikaw Airport (...Duntroon ACT Tokyo Japan Sept-Ã\\\\x8eles QC UlyanovskCambridge Bay Ai... Djanet Chincoteague NAA...BagÃ© Airport R...Ilha Anchieta SP Manicouagon QCArica-El Buitre ... Ridgeland SC Calabozo Tourenne MÃ©rida-Rejon Ai...Argentia Naval A...QueriaPittsburgh Inter... Phoenix AZ Yawata Varna Airport (VAR)Star HillSantoshpur village Villa HerraduraTanyurer ShihrPir Panjal Sidi Ifni Airpor... Madrid-Barajas Azores Islands San Carlos de Ba...Salem Harbor MA Aras de AlpuenteBudapest-Feriheg...Albertville Airp...Beihan Airport (...Kikori River Romanshorn Bode...Panagarh AirportBouinane Clarksburg MDPort Hardy Airpo... Horn Island Airp...Cape Parry NWT Guarne Charlakhi IslandAthens Airport (... Rupert House QC Stavropol Rio Martil MecoKing Salmon Airp... Biak-Mokmer Airp... Hsinchu Port Kent NYSam Neua Airport...Fiera di Primiero Pinerolo Daggett CASan Giorgio di B...Magdagachi Airpo...Hilo-General Lyn... Issoudun QCBizerte Cabarete AsunciÃ³nPerak Brooklyn CGAS NY Krumpendorf Juticalpa Airpor... Japen Island Slovita Lvov Re... El Paso Internat...NiquitaoBinghamton Airpo...Tetuan Airport (...New Bedford MA Montevideo-Carra... PanagarhFalstone Northu... Fallon NVPalma de Mallorc...Natal RNIslay-Glenegedal...Osaka-Itami Airp... Akshi Beirut Internati...Chukotka Fort McMurray AB Uniontown PATaraif Adak NAS AK (ADK)Sunahawa Butler MOCafayate SAPort-Ã\\\\x89tiennePorto Alegre-Sal...Johannesburg Int...Bideford Colerne RAF Station Oran Tinker AFB OKSan SebastiÃ¡n-F...North Pole drift... Getafe MÃ©rida Airport ...Karachi Internat...Guernsey Airport... Praia da Baleia ... Sydney-Kingsford...DownendMassena-Richards... Son Bonet Airpor...Chessel Down BallerupChristchurch Middelharnis Ha... Gustavus Airport...NorrkÃ¶ping Airp... Ankara-Esenboga ... TindoufHelsinki-Vantaa ...Fezzan Bolivar BAJeannine Lake QCOzamiz City Tokyo-Yokota AFB... Birobidzhan Clermont-Ferrant Aracruz ES London-Stansted ... Kahuku Point Oa...BishoftuBuenos Aires Sea...Porto Alegre RS Edmonton-Namao F...Poitiers-Biard A... Rioja Forres-Kinloss R... Esquel Airport ...Aklavik NT Okinawa-Kadena A... Honolulu Hawaiibetween Tipuani ...Manston RAF Stat...BilbaoSanta Fe Springs...Norwalk CABeihan\"Chicago-O\\'Hare I...\"Guatemala City-L...Hato Apure Palm Springs Mun...Monte VesuvioPyongyang-Sunan ...Mirny Ice Station Savasleika Air Base Raiatea Airport ...Mount Scifarello Ilha do Corvo A... Chicago-Merrill ...Winter HillMirny Mirny Ice StationNew Haven Airpor...Manzala LakeMelbourne FL (MLB)Bacolod Airport ... Sacramento-McCle... KathmanduGuriat Airstrip Miami Internatio... Bridgeport TXBridgeport TX HavanaMeesden GreenQuito \" Xi\\'an\" Freeland-Tri Cit...Cerro IllinizaMÃ©rida-Rejon Ai...PyongtaekWarszawa-Okecie ... Georgetown DE Barcelona Airpor... In Salah Airport... Arden NVCraigie Voronezh IgarkaQrendi Moskva-Sheremety...Hagerstown Regio... Madras ORManada-Mapanget ... Taft CA Arctic Bay NUChÃ¢tenoy LoiretLaha Ambon Brunswick MDGurgaonLake Figurnoye AndapaDriftwood Bay AK MoliÃ¨reManila Internati... Guadalajara Airp...Martinsburg Airp... Ilha Grande Beac... Curitiba Airport... San Antonio del ...Blida DamrohPuerto ColumbiaMoskva-Khodynka ... Byelaya Noch Inta New Braunfels TXRimouski Airport...BÃ¶cklweiherCiudad Trujillo-...RÃ\\\\xado Cuarto Airp... Leeming RAF StationTaipeh Benghazi-Benina ...Ilha Carnapijo PA Ontario Internat...Trelew Airport ... Toshima Nantucket Memori... Talakan Khabaro...ItajaÃ\\\\xad Airport ...Minneapolis-St P...Milford London Airport (... Sasnashen Campina Grande A...JÃµhvi Konstantinovski ...Madras Airport (... Ordu-Giresun Air... Triel Lazo Khabarovsk...Gaza Air Base Barreiras BAKinmen BuendÃ\\\\xada Payette IDSmyshlyaevka Ku... Maracaibo Villa Montes Okarben Sukpai Cape Hallett BayZele Blantyre-Chileka... AnzioMasjid-i-SulaimanMayarÃ\\\\xad ArribaPorlamar Airport...Ross Ice Shelf Harrisburg-Olmst... Preston Airport ... Grakhovo Roccatamburo di ...Le TouquetLorient-Lann Bih...PrivetnoyeSan Borja - La Paz Buenos Aires/Eze...San Francisco La...Tangier Airport ... Swan Valley IDAugusta-Bush Fie...AzoresAnadyrLimestone-Loring...East Sale VICPaulis Airport (...FrimleyGuadarrama Mount... Labuan Malaysia...Jakarta Modena Whoonsocket RICherepovets Airp... Cutigliano Pistoia Tashkent-Yuzhny ...Uralsk Airport (...Sopley ParkSalisbury Airpor... UncÃ\\\\xada Hatanga Krasnoy...SeighfordMoyobamba Airpor...Marble Point Peru-Bunker Hill...Pena Blanca Mt.Mt. Holston TNPanther Peak CAFirq Mar del Plata BA Stalingrad (VOG) MÃ©rida Wadi-es-SirKuala Lumpur RAF...Willoughby Bay VABrindisi-Papola ...Ust-Kara AirstripVolcÃ¡n Osorno ChakalaVitebsk Airport ... Kerrville Airpor... Ifafa KwaZulu-N... Atlantic Ocean Severo-Evensk M...Hawkesbury River... Kintamani Bali London-Gatwick A...BelenUdoria ON Chartres Prescott Airport... Caravelas BA Dresden-Klotzsch... Managua Airport ... Selfridge AFB MIAddis Ababa-Lide...Curralinho PACharagua TobuMahon Chicago-Midway A...Argentia-NAS NL... BoukpayangaAlma GA Killeen TXAdana-Incirlik A... Port-au-Prince Napoli-Capodichi... Orting WABeirut Airport (...Juneau Internati...Rio Tejo (Tagus ...HyÃ¨res China Lake CABaltimore Harbor...Ankara-Etimesgut... BahÃ\\\\xada KinoMount SÃ¼phan Bredsk Novosibi... KermanKey West Interna...Sierra de Valdemeca\"N82Â°21\\' E177Â°00\\'\"Mallorca Alfabi... Cuzco-Velazco As... Whidbey Island-N...Coral Harbour S...Charleston-Kanaw...Chase MD TournavistaIslamabad Intern...MoroBilibino Airfield Khartoum-Civil A...RAF Watton AirfieldMormugao GoaDeputatskiy AirportAthens-Ellinikon...Roswell-Walker A...Cerro BacoYurgarga River ... Prince Rupert BCIstanbul-YesilkÃ... Puvirnituq Airpo...Gan RAF Station ... CÃ³rdoba-Pajas B...Bari-Palese Airp...Santiago del Est... Kuwait City BabaÃ§ulÃ¢ndia TOMumbai (Bombay) Andover NHKapidag YarimadasiSouthend Municip...Palmdale Air For...SagoneMoose Creek IDEl Palomar AB BAKhabarovsk region Pevek Airport (PWE) Calverton-Peconi...San Isidro de El...Saint Kitts-Gold...MaringÃ¡ Airport...Abiline-Dyess AF... Traliceto CorsicaPoza Rica MercedesCape HallettOederquart Salvador Airport...Great Sitkin Isl...Jeddah Airport Buffalo TX Petropavlovsk-Ka... Tula Airport (TYA)Leitchfield KYBaiyer River Air... Arlington WA Tangmere Santa Maria Airp... Avlon AttikiBucks Elbow Moun...Te Whanga Lagoon... Saint-ClÃ©ophas-... Cleveland-Burke ... TainanFerreyra CD Lviv-Snilow Airp... Pilottown LA G... Ilha Rasa RJSao Filipe Airpo... Irkutsk Williamsport-Lyc...Buenos Aires BAAragarÃ§as Airpo... Puebla Airport Moron Island Mendoza MDLuaboPuerto de la Luz... Boysun Surkhand... Dow AFB MEGravina Island AKPatipi Bay off ... VilniusAgadir-Inezgane ... PalembangSan Jose de Chiq... TaksingDianopolis Airpo...Gulf of Sirte Bolivia NCByrd StationLeningrad-Shosse...Plaridel Airport Minersville UT GhardaÃ¯a Sverdlovsk Charles City VAMontego Bay Airp...Mackay Airport ... Bathurst Island NTStraits of FloridaWrightstown-McGu...Hon Chay MountainMadeira OHReykjavÃ\\\\xadk-Naval...Havana-Ciudad Li...Rio de Janeiro RJLiberty SC Gan RAF Station ...Woolsington Airp... BotricelloFort Worth-Carsw... JÃ©rez del Marqu... PalohJorhat-Rowriah A...El RefugioMonte ArgenteraNagoya-Komaki In... Amatice Cannelton INover France Planeta Rica ChimboteRas Alsheikh HamidDEW Site 28 NU Kunsan Wiesbaden AFB (WIE) Kromeriz Memphis NAS TN Siuna Airport (SIU)Pelotas-Federal ... Taipei-Songshan ...Lincoln AFB NE ... MarburgBogotÃ¡-Eldorado...Kota Tinggi Hickory Airport ... Bunia Airport (BUX)Nyurba Airport (... York PAAguadilla-Ramey ...Enken Ayano-Mai...Villemoleix Tora-Tonga El SosneadoDavid Airport (DAV)Atlanta Airport ...El CocoTehran-Mehrabad ...Lourdes-Tarbes O...Dessau Airport Tkvarcheli Mackay QLDMount Gilbert AK San JosÃ©-La Sab... Newry MEBlackpool Airport Aldan Oakington RAF St... Sharjah Quito-Mariscal S... Polillo Island JimmaRushengo SyktyvkarVockerodeMiami FL (MIA) Rimini Airport (... TipuaniCamp TutoSÃ£o Paulo-Virac... Tarasovich Weeks Lake QCPort LyauteyRio Jaru ROMauritius-Plaisa... Heraklion-N. Kaz...El PalmarDutovo region Beirut TczewPuri Post Dakar-Yoff Airpo...Shakhtersk Airpo... Mpouya Nosok Zikhnovo El Badary Salto Empire COAgartala-Singerb... Batna Chushul BelÃ©m Airport ...Brest Airport Juchitepec Elba Italy Tyr...San Antonio-Rand...Orinda CAOrlando-Municipa... Boston-Logan Int...Sacramento CAMironeasa-Iassy AdenMt CapannePlain City UT Sharypovo Airport Ust-Orda Missoula MTToledo-Express A...Nairobi-Embakasi... Penza Airport (PEZ)McMurdo SoundUturoa Harbour ...Bhairawa Airport...Palmar Sur Airpo... Luzon Island-Cub...Nassau-Oakes FieldMount Baco Leningrad-Shosse... Plain of Jars ChernovoCachimbo PA Cienfuegos Repinka San AndrÃ©s de G... South Head Sydn...Yamburg AirportMawson StationNew York NYMiller Army Air ...Puerto MonttDÃ¼sseldorf Airp... VakarelPeledui Lensk d...Yampi Sound Koo... Ulyanovsk Airpor...KoivulahtiSpangdahlem Air ...Taif Air Base (TIF) Hopkinsville-For... Katy TXMidway Island-Sa...Bilbao Airport (...Nairobi-Eastleig...VilkerathMount Burangrang Roma-Fiumicino A...Belo Horizonte A... Montauk Point NYVladivostok Airp...Kwamouth Madura Island BizanaLuluabourgMezen Airport Brussel-Zaventem...LBJ Ranch TXAtlantic City-Ba...Mount MeruLake George FLPÃ¡ramo TurmalAssamBrasilia DF Ponta Grossa-San...MonterÃ\\\\xada-Los Ga... Nagpur Marysville CAPaksi Phon Savan Natal RN NÃ¼rnberg LinaresSaint Pierre Air...Blida AirportReggan AirportPuerto CalderÃ³nBereina Airport ...Bluefield-Mercer... Saint Jean Airpo...Moncton Airport ...Avord Air BaseMount Parker Mustang OKRhimkhimSan Antonio Airport Al Qamishli Airp... EdjeleUpper Heyford RA...Cerro Arenal Wiesbaden Air Ba...Gan/Seenu Airpor... St. Augustine Be...Azaiba AirfieldBulwer Island QLDRamstein Air For... Fonte da TelhaGuelph Airport ONCuraÃ§ao-Dr. Alb... Tachikawa AB Japan Douala Airport (...Lago PeÃ±uelas TeheranOakland Internat... Bogoroditsk Tul...Kings Ranch TX Nanaimo BCWinslow AZ Knob Lake QCSosnovy Bor Niz...Biggin HillOdessa-Central A... Casablanca-Anfa ... Pardo BA Rio Grande Juqu...Havana-JosÃ© Mar...Hamburg-FuhlsbÃ¼...Lukhovitsy-Trety...Chico Airport C... Pearce WAEl Paso Internat... RudsarSarcpa Lake Airs... Pha KhaoRiga Central Air... Walterboro Munic... Kangerlussuaq-SÃ... ThatonKintampo Brong-... SendafarConcÃ³rdia SC San Borja Airpor... Rabat-Sale Airpo...Elizabethville A...Kamina Airport (...Santa Rosa de Ya... Ndola Airport (NLA)Dublin Airport (...Oat Mountain CA OymyakonWilmington-New H...Kamina ?Qinglongshan He...Norfolk-NAS Cham...Brasilia Interna...KolweziIbiza Airport (IBZ)Bahrain Internat...Mont CanigouMaheshSaint-Hyacinthe QC OsanBelÃ©m Airport ...Groglin FellBallykelly RAF S... Parintins AM IzuFrankfurt Intern... SmorodinnyEvreux Airport (...Phou FaLes Prevosts Gu... Recife-Guararape... Vladivostok Airp...Shantung Province Richmond Interna...Wilkins Station VirginiaChitado Puerto Rico Car...Sentinel RidgeCovington-Greate... Kalungwi village SÃ£o Paulo/Campi... Whitehorse YT Mount Hagen Aviano EbersheimKrasnoyarsk AirportKolwezi Airport ... Yakutsk Airport ...Amritsar Praia de Itaipu ...Montignies-lez-Lens Corona CAManagua Airport ... Chebotovka villa... Wollongong Airpo...Belton MOAnkara-Esenboga ...Kinnaur Himacha... SurabayaKabul Airport (KBL)Belize City-Phil...Korea BaySouth Park Towns... Osan AFB ManiamunaKronborg GlacierTippi Airport (TIE)Arctic Bay NT CuruzÃº CuatiÃ¡ Ogden-Hill AFB ...Caranavi Airportwithin FranceAltus AFB OK (LTS) Helena MT La Toma SLCÃºcuta Airport ... Hall Beach Airpo...between Bien Hoa... Xieng Khouang Tingo MariaGreensboro/High ... Hachinohe Bao Loc Ahwaz Airport (AWZ)Mt Ohira Paphos Durango CO PorlamarMunicipio de Mar...Jamaica Bay NYNanuque MG Warsaw SeymourMt VelinoTaurus Mountains AlenÃ§onNew Orleans LAToyanakaAdak Naval Air F...Bandera TX Wadi Halfa Airpo...between Guam and... Santiago Airport... Sorong-Jefman Ai...SÃ£o Francisco d... Draganescu Jerez de la Fron...Karpun MountainRevelHipp Khanh BahÃ\\\\xada SolanoMendoza-El Plume... DaruSt. Boniface Down Haveri VallenarArunachal Prades... Vitoria-Goiabeir... Mong-HpayakBiak-Boroekoe Ro...GodthÃ¥b/Nuuk Ai... Villa Pedro Montoya Nairobi-Embakasi...Chichester Harbour Kaimana West PapuaKaimana Bay Wes...San Pedro Sula Unionville MO Markt SchwabenAlgiers Talenda Rajshahi Dover AFB DE USACalifornia Sofia-Vrazhdebna...Lake Minchumina AK Pointe-Ã\\\\xa0-Pitre-...Creil RawalpindiPedro Afonso GO Bandirma Airport... DurbanIsle of Man-Rona... Voznesenka Kras...Tshikapa Airport... Caracas-Simon Bo... Tashkent Airport... JunnarAmarillo-Air Ter... Brindisi-Papola ... Ban Me ThuotKontum Airport (... Loheshyphu Dropp...Khao Yai MountainHonolulu Interna...Glynco NAS GA (... Las Palmas-Gando...Mutya  Misamis ... Adler/Sochi Airp... Magong PenghuTernopil Airport...Batanii MiciEverett-Paine Fi... Coulommiers-Vois...Punta Arenas-Car...ViÃ§osa AL Tulachan DhuriSugar Land TXKnoxville-Mc Ghe...Bedford-Hanscom ...Patuxent River-N...AmbonBarrancabermeja ...Cerro Puena PazMt. Prenj Chippenham Wilt... Saladas CR Phu Fa KhabarovskNase Amami Lake Milton OH Alcoche Spokane WASeal Beach CASan Pedro Sula A... Cherskiy Airport...Tenerife-Norte L... Kamunza-GoiSela PassMontague Island AKTandil Airport ...SÃ£o Paulo-Campo...Montevideo-Carra...Bagotville Airpo... Brno Turany Airp... Amir Kabir Dam CarmonaVictoria Interna... Biorka Island AKCagayan de Oro-L...GuantÃ¡namo NAS ...Moskva-Sheremety... Bernay-en-BrieBascapÃ¨Dak ToBahia Aguirre TFNova Lima MGCarora Airport (... SuÃ¡rez TolimaCerro El Gaital NagoyaSÃ£o TomÃ© Ilha... Ellicott City MDDavis GlacierKingston Paraibuna SP Lima-Callao Inte...Uncia BarrancabermejaEllsworth Station Mistassini Lake QC ParanÃ¡ da Eva AMArkhangelsk-Kego... Olyokminsk Warszawa-Okecie ...Grand Island NE Brasilia DF \" Noril\\'sk-Nezhdan...\"Rotterdam Airpor...Monte Renoso Co...Banhilal Alameda NAS CA ...Moncton-Metropol... PÃ©rillosColombo-Katunaya... ChepbeicaParnaiba Airport... Las Palmas Isla...Blackpool Airpor...Cape Lisburne AF...Kansas City Down... New York NJ USAUlus District A... Syktyvkar Airpor...Everglades FL Long SemodoFort-Lamy Airpor...Puyallup WABukhta Yemlinska...Mt. BocaHerzogenaurach A...Bentwaters RAF S...Kalimikui Richardson LakesMonte Real Air Base Karaj Tacora VolcanoMemphis NAS TN ... Staverton Airpor...Kasongo Lunda Ai... SoraPisa-Arturo dell...Punta Indio BAMagadan Airport ... Urakhcha Rybnay...Flin Flon Airpor...HamahShuangtan Villag... PalermoNakhon PhanomKobenhavn-Kastru... Bu Hafafa Fuerteventura Masjed SoleymanHachijo Jima Air...Awaji-ShimaMt. CameroonSendaiAz ZahweyyinWamena Airport (... Leningrad-Smolno...Hassi Messaoud A...Manhattan Munici...UrgenchSarna Annette Island ...Mt. Kaolokung BÃ©kÃ©ssÃ¡mson Puerto AisenLinchuan Jiangxi Springfield-West... Detmold Passo Fundo Airp...within VietnamRochester-Monroe...Tauramena Airpor... Mt. NgatamahineruaBotulu Vilyuisk... South Caicos IslandPierce Lake SKFarafangana Airp... Chandigarh Airpo...Pak ThaKaraganda Airpor... Bombay Airport (...Dover AFB DE (DOV)IbicarÃ© SCZavkhan Province Spartanburg SCStettynskloof W...Kap Desolation Lyon Great Falls-Malm...Kishinev Airport...Mumbai-Santa Cru...Mount Hachijo-FujiNeva Riverbetween Tazovsko...Nikolskoe Aleut... Calgary-McCall F... Kutaisi Airport ...Francistown Airp...Salvador Airport... KapanA LouiDÃ¼rrenÃ¤sch Ban Phone MouangGamela PE SibuGenÃ¨ve-Cointrin... AgraPic de la Roquette Bialobrzegi Cape May NJ USAOranMaha SarakhamAsunciÃ³n-Ã\\\\x91u-Gu...Graham Bell Isla...Bangalore Airpor... ChickladeChelyabinsk Airp...Toyama Airport (...Indianapolis Int... Mariehamn Airpor...Wien-Schwechat I...Ixtepec Oaxaca Banihal pass Ka...Ste-ThÃ©rÃ¨se-de...Morgantown WV Nederland CO Kirensk Airport KÃ¶nigsbrÃ¼ckElkton MD Ban Me Thout GhazniMidland Air Term... SongkhlaLogarh ValleyAnderson Municip... Batagay AirportAsuncion-Alfredo... Rupert River QC ZarÃ¡te BACulloden MoorThysville Airport Kenkiyak Vogelsberg villa... Yacuiba Airport ... SÃ£o SebastiÃ£o SC Calverton NY Dhzigda AirportMechuka Uttar P... Tabajara ROBanihal Pass Osaka-Itami Airp... Marawi New Orleans Inte...Oita Airport (OIT)Mt. Glungezer Lake Tahoe Airpo...Londrina Airport... FacatavivÃ¡RiojaTenerife-Los Rod...Wisley AirfieldSingapore-Paya L... San Fransisco CAMt SommaNew York-John F....Along Airport (IXV)La Fortuna BAMekong RiverPortel PAHargeisa Clinton County A... Pisa-Arturo dell...Larandia ChaquÃ©taAl Arish Airport...Bouar Airport (BOP)Phoenix-Deer Val... Valdez Municipal...Kilwa Masoko Air... FoixMitzpe RamonLaguna Brava LR UpernavikIsfahanTan Hiep San Ramon CA Lima Internation... Cooperton Kiowa... CadizSeale ALSvetilnoye Bori...Antisana VolcanoSibuco Point Luvungi airstripMorro do SÃ£o Lo...Long Akah Trinidad Airport...Twin Cities NART...BrasÃ\\\\xadlia Intern...CheremshanNovosibirsk (OVB) Ã\\\\x87anakkaleLabuan Airport (... Yantai Shantung... Bacau Airport (BCM)Toronto Internat... Jeddah Saudi Ar...San-Chiao Palma de Mallorca Ridgeway SCDhaka-Tejgaon Ai... RÃ\\\\xado Gallegos In...Nowra Airport N...Krasnodar Airpor... Ketchikan AK Urtazym DonzÃ¨reDeath Valley CA Parrottsville TN AnsbachGia Vuc Magdeburg PingtungWashington-Dulle...Granite Mountain...Lundazi District Ceiba-Roosevelt ... Tonopah NVRioja area TilsheadOkayama Airport ...Hurka Puerto Rico Topcliffe RAF St...Miami-Opa locka ...Homer Airport A... Yuzhno-Sakhalins...Vaong NongKarimata Strait Nova Friburgo RJ Vietnam coast S...Bario Airport (BBN) CondotoPuerto Rico Airp...Kiev-Gostomel Ai...Manawa Hanstedt IIMuang Hein (LS-48)San Juan-Isla Ve...Shiraz Airport (...Mt AlcazabaAddis Ababa-Bole...Otter Lake Chic...Glasgow-Renfrew ... Cugir Cape KhorgoyDerby AirportMount AvalaChÃ¢teauroux Air...Lillie Glacier Phumi Dak Dam Nikolayevsk-na-A... Augusta GA Magong Portsmouth-Pease... Perote Vera Cruz GavanoasaHeraklion Airpor...Freeport-Grand B... Argentia-NAS NL...A Ro Murmansk Airport... Helsingborg-Ã\\\\x84ng...Detroit-Metropol...Lourdes-de-Blanc...Roma-Fiumicino A...Baton Rouge LA Ahlhorn Air Base Cape Newenham AK Surami\"LÃ©opoldville-N\\'...\" MilluniCÃ³rdoba CDLabuan RAF StationNumancia Aklan San Francisco In...Yurimaguas Airpo...Adelaide Base TurrialbaRiver Pasighat Detroit-Metropol...EncarnaciÃ³n-Ten... Limestone-Loring...Topeka-Forbes AF... Wake Island AFB ...Shackleton GlacierDetroit-Willow R...Santa Isabel do ... Wichita-McConnel... Beaver Yukon Fl...San Jose Airport...Porto Velho ROMount Helmos KatwijkGaroua Airport (... Goretskoye AirstripFar East San JosÃ© Volcano Jones Beach NYCalvi Airport (CLY)Lake Hefner OKMount NakanooneIsfahan Airport ...Leeds/Bradford A...Moskva-Zhukovsky... Cape Race NL C...Iki Airport (IKI) LouthPhilipsburg-Mid-...Luang Sun Mounta...Porgera Airport ...London-Heathrow ...Mt Tangcong Vaca Kuybyshev Airpor...Frunze Airport (...Bucaramanga-Gome...Launceston Airpo...Upper Musquodobo...Cerro Saguancancha Waterville NLKhanty-Mansiysk ...Pan de Azucar PeakRio Branco Airpo... Cordova MDAlenÃ§on Leeds/Bradford A...Hadibo Lowery PassWhenuapai AirportDa Nang Air Base...Warrnambool Airp... Andros Island Damascus Klamath Falls OR Jersey-States Ai...NagalandManston Airport ...Mt Rainier WA Korat AFBLong Island Soun... Blond Knobnoster-White... Madrid-Torrejon ...Hon Quan Hopsten ABTra My Angel FallsNikolski Air For...Obihiro Airport ... Pedro Juan Cabal... Sabattus ME Crooked Island ...Cebu Airport (CEB) Murcia/Alcantari... Holloway FieldAlgiers-Dar el B...Manaus/Ponta Pel...Ahlhorn Air Base North Vietnamese... Jaruco Bristol ChannelCatalina Harbour... San Francisco CADa Nang Airport ... PiacenzaNouakchott Airpo...Little Baldon 100 Mile House BCTijuana Airport ... Nantucket MA USAAshford-Lympne A... Choushi Liverpool Intern... Gorny Montoursville PAMount Madiac Lerma Campeche Panama City-Tocu... Barra do Bugres MTLake Michigan MIEl Pucu FO PoonchJeuk Å\\\\xa0ilaleCarauari Airport... Cali Airport (CLO)Hikuera Papeete... LoukhiPathankotBien Hoa Air BaseSrinagar Airport... Hayward Municipa... Louisville-Bowma...BaghdograMt Kantakan Ulan-Ude Airport...Jamnagar-Govardh...Jammu-Satwari Ai... Quang-Ngai Pastaza Airport ... Long Bawan East...Chances Peak Qui Nhon Airport...Ardmore OKLong Tieng CÃºcuta McMurdo Station-... PatianDayton-Patterson... Pique OH Bucaramanga-Gome...Huntsville-Madis... Manila Airport (... Jackson MIVeckerhagen Vilhena ROMohanbari Airpor...San RamonPouso Alegre Air...Tan Hiep Air Base Obock Airport (OBC) Puerto Limon El Encanto Terra de Areia RSCanÃ³n del Paraiso HesselÃ¸ Kattegat Cincinnati-Great...Coraopolis PASalt Lake City I...Ust-Maya Airport ?New Orleans-Mois...Sayaboury Airpor... UrraoBelfast Internat... Salt Lake City UTSouth VietnamNorth Salem NYHorlick MountainsEl Ortigal de Ar... Panama City-TocumenChu Lai Air Base... Brunswick NAS M...Ura Airstrip Tuy HoaBitburg Air Base... Alamosa CO Cape Romanzof Ai... Legaspi Airport ...Le TrÃ©portbetween Tan Son ...Salvador BA Tuy Hoa (TBB)Magadan Ban Solou TuluÃ¡Shau ValleyTanh Linh Air BaseHopsten Air Base Pleiku Airport (... Scranton PAAn Khe ChipaqueTaiwan Strait Vi Thanh Chkalovsky Cartagena-Crespo... Shamurat Nurata...Palomaresbetween Douala a... Duchity An Khe RÃ\\\\xado Cuarto CD Bremen Airport (... Bolshaya Viska Dong Hoi Vietna...Luxor Khe Sanh Tokyo-Haneda Air...Banihall Pass GranadaGansu Province Pechora Milan-MalpensaDes Moines Airpo...Mys Nalycheva Golubichnoye Kh... CallaoBunia Airport (BUX) A Shau Special F...Mt Parnon A Roh Haiphong Bardufoss Airpor...Tuy Hoa (TBB)northeastern LaosPlaya de BibijaguaGuwahati-Borjhar...Litchfield Park ...North Battleford...Skopje Airport (...Sam NeuaBelleville-Scott...Porto Nacional A... Ardmore Municipa... Clarendon TX Boyuk Zira Labinsk Hope Slide BCNagpur Airport (...El KuntillaMount TalaulaKon Tum AirfieldGradnitsaCai Cai Camp Ki...Apolima Strait Ban HaiAmarillo AFB TX... Vinh Thanh Thanh Hoa Bridge... Ban Phakat Felthorpe \" Nice-CÃ´te d\\'Azu...\"Minsk-1 Internat... Immingham Columbia City IN Phu Hiep Tam KyLac PÃ©ribonka QCArteni Talin di...Maulmyine Airpor...Long Beach MSLorica Airport Sablayan Kuwait Internati...Qui Nhon Air Bas...Auckland Interna...Rio Orton Battle Creek MIJamaicaRoanoke Municipa...Cerro el PlanchÃ²nVung Tau Airport...Campo Largo PR Cape Lisburne Ai...Gallup Airport ... Zaporizhia OblastPort Elizabeth NJ Benito Falls City NEBatumiGreenwood Canadi...Lotrioara Valley AcapulcoTachikawa AFBPuerto Lobos CB Azaiba AirfieldArkhangelsk Airp...Altamira PA Highland Park IL CamagÃ¼ey Airpor...Tuzla Istanbul Ljubljana-Brnik ... RajouriDong Tre Chai-I Murgab Tsikhisdziri Cape Acapulco Airport... Santa Cruz El SauzalMedford NJKagoshima Airpor... BogotÃ¡-Eldorado... Winton QLD Tennant Creek Ai... Platte SDPort Stanley Wrightwood CA Wemme OR Cam Ranh BayGaroua Aspermont TXShort Creek WV Dong Hoi Gulf o... Rio Moju PAHopkinsville-For...Santa Maria AB ... Lai KheFunza EstengSuva Oudegaunknown locationMatsuyama Airpor... DallgowChicago-Merrill ... New Bern Airport...Wadi Rabtah Alma-Ata Airport... Pinder Point La Pedrera Airpo...Dau Tieng Gulfport MSHarrisburg Airpo...Chachapoyas Airp... Olacaputos SAAriÃ¨ge Zafarabad San Felipe BajaCerro Las AnimasSaigon Airport (...Tyumen Airport (...Yellahanka AFBBuny BunyHilo Internation... Duc Pho Bimini Bahamas Meligan Airstrip Novosibirsk-Tolm...JavaNorfolk Municipa... Frankfurt-MainSan JuanHodeidah Airport...MÃ©rida Airport ...Lutong AirportSan Antonio Inte... SeponeLaYareta PassAleppo-Nejrab Ai...Amman Saint Paul Islan... Mexico City-Beni...Manado-Sam Ratul...Tay NinhBinh Thuy Air Ba...DanmarkshavnHolmdel NJChaiten Airport ... Mactan Island-Ch... RÃ\\\\xado PautÃ©Caravelas BA Marseilles OHLimbang Airport ... Salekhard Airpor...Venezia Urbana OH Klamath Falls-Ki...Tachikawa Phan RangCol Visentinwithin BelizeRourkela Airport... Yakutsk \" Kayser\\'s Beach\" Cap FinisterreBandar Abbas Air... Subachoque Bien Hoa Air BaseMerced-Castle AF... Hoi An Lima Ughelli Aerodrome Moskva-Domodedov... La Para CD Seoul-Yeouido Ai... Hail Tamanrasset Airp... Aguila AZ Nizhniye Kresty ...Cam Ranh BayPico da Bandeira...Kham Duc AirstripBao LocZarand Nicosia Airport ...Manston-Kent Int...Enugu Nantucket Island... Sogamoso Airport... Malaybalay Airport Trenton Canadian...IncahuaraVestmannaeyjarHuron-Howes Airp... La Plata BA Alexeyevka Ventura CA Cape Dyer Airpor... SontecomapanNewquay-St Mawga... Ottawa Internati...Iligan Airport (...Pebbly Beach Av... San MarcosDar es Salaam In... SamsunStockportBlagoveshchensk ...Beirut ?Luxor Air BaseSirkinJerusalem Airpor...West Raynham RAF...JeddahQuang Ngai Gazimurski ZavodXaixaiAtlin Provincial...Coari AMHabulaya Ashbourne Blossburg PAWarrensburg-Whit... Khalif NseirRivera Airport (...MazatlanBhubaneswar Airp... MitinoAden Internation...Abingdon-RAF Sta... BacolodCasablanca-Anfa ... Le Center MN OzyorskiLock Haven PA Bellevue-Offutt ...Landsberg/Lech ?Hendersonville NCAntananarivo-Iva... Gia VucHarrisburg-York ...Duc Pho Camp Melun-SÃ©nartHavanaMactan Island-Ch... San Luis Obispo CAPhu CumPortsmouth Airpo...within Pleiku provinceChynow China South Chi... Meschura Airport An ThoiPrins Karls Forl...Mojave CAPort Harcourt Ai...Balboa-Howard AF...UrubupungÃ¡ Airp... Kingston-Palisad...London-Luton Air...TayibahCalgary ABBristol Airport ...Palm Springs CAJacksonville Bea... TiomarGoose Bay NL Hue Lagos Hue-Phu Bai Airp... Demre TurkeyKhormaksar RAF S...Aldan Airport (ADH) Palawan IslandKhe SanhPampa del Gigant...between Phan Ran... Muskegon MI Curitiba-Afonso ...Blackdown Hill ... Lhokkruet Indon...Cincinnati/North...Enugu Airport (ENU)Matamoros Tamau...\"l\\'Ã©tang de Berre\"Niokolo Koba Nat...Dak To AirfieldLeipzig Newquay UK Covington-Greate...CandelariaReyes Airport (REY)Long Binh Bien HoaNha Trang Airpor...Raleigh/Durham A... Orlando-Herndon ... Falmouth-Otis AF...Muong SouiLes Loges-en-JosasCordillera Carpish Ban Me ThotAkron/Canton Reg... Binh Thuy Air Ba...Nakhon Phanom Ai...Mount Fairweathe... Johor BaruPerryville Munic...Creag BhanGÃ¶teborg-Torsla... London-Luton Air...Chiang Mai Inter... Dien Bien Phu Liepaya Airport ...Voronezh Airport...Essequibo RiverOxford-Universit...Rennes VologdaLake Memphramago... Sankt FlorianCopper Canyon NVPhou Louang Moun...Muong YutZiftaLagosMinot AFB ND (MIB)General Carneiro...Damnoen Saduak D... Moroni Airport (...Yakutsk-Magan Ai... Port Harcourt Ai...Williams Field Phu Quoc Island ...Dhaka Glacier GuajarÃ¡ Mirim GOGrik Nekrasovka Phan Rang Air Ba... TaipeiMuang Phine LaosBaghdadDonetsk Airport ... Ban Napa Statesville Muni... Parchum Chunsky...Song BaHue-Phu Bai Airp...Santiago-Antonio... Pointe-Ã\\\\xa0-PitreHonolulu-Hickam ...Volgograd Airpor... IbajayMount Getantag Saint DenisBen Het Special ... Mueda Airport (MUD)Parkersburg-Wood... TacnaEvansville INGia Nghia Tuskar Rock Waewaepa Range Saint Louis-Lamb... RossfjordstraumenPanama CityDuc Pho Dao Phu Quoc IslandSangley Point NA... Okinawa China SeaPune-Lohegaon Ai... CoyhaiqueWellington Inter... Villa del CarbonKaliningrad Airp...Ndola Airport (NLA)Moffett Field NA... Bien Hoa Panama City FLTrinidad Airport...Glenmanuilt Hill... Windhoek-Strijdo... Moskva-DomodedovoSzolnok Air BaseAtlantic City In... Islamabad-Chakla...Tumaco Dawson TXPaisano Ranch TXPleiku Airport (...Got el Afraq Camp EvansDavao-Mati Airpo...LourenÃ§o Marque... Saharanpur-Saras...Mizo Hills Mizo...Kham DucMacuma Maryinka Dankov... Tenginskaya Ust... Muang Nong Bedford-Hanscom ... Xom Rach GocNa Khang Airstrip Mumbai Airport (... Slobodovka Shev... GdanskNovo-Zolotovski ...Bissau Airport (...Isla del FrontÃ³nStradishall Resolute Airport... San SebastiÃ¡n-F...Brong Ahafo regionwithin South VietnamUli AirstripFayetteville Mun... Breusovka Polta...UherskÃ© Hradist... Lagos-Murtala Mu...GravatÃ¡ PEStrait of Magellan Sufi-Kurgan Pleiku Recife PECleveland-Burke ...Tuy Hoa Airport ... Red Buff CA PsebaiMirny Airport (MJZ)Shawnigan Lake BC Langenbruck Wilmington-Clint...\"Kinshasa-N\\'Djili...\" MaturÃ\\\\xadn-Quiriqu... Reyes Airport (REY)Thein NgonTrabzonPhan Rang Air Ba... Odda Karnobat BodÃ¸Bradore Bay QC Golovin Airport ... Nice FranceVinh Long Air Base Hollywood-Burban...Stalevo Managua-Las Merc...Farnborough Airp...CamagÃ¼ey Airpor... Seymchan Magada... Twin Falls NL Stockton CAU-Tapao Airport ... Maryy-1 Airport ...Ham Tan Paso Canoas AirportCanutama AM AkhisarFeijÃ³ Airport ... Taichung-Ching C...TafelbergBig Salt Lake P... Lebanon Airport ...Brownsville TX Lensk Mar Del Plata Ai...Zambales Mountai...San BorjaSanta Barbara Mu... Gunnison COSan Fransisco Ba... Santa Ana-Orange... Savannakhet Airp...Tonle Cham Airfield Iliamna Airport ...BeijingRÃ¸ros Airport (... SÃ¸nderborgThe Pas MBSchaft Creek Air... San Juan Chu Lai Air BaseGran Tarajal/Fue... Nairobi-Wilson A... Bradford Airport...Prudhoe Bay AKPraia Ponta Gros... Ensenada Sioux City-Munic... Hampton-Langley ... Port Hedland WA Ciudad Vitoria San AndrÃ©s Isla...Mt. Paku Malka Yelizovo ...Loanda PA Los Angeles CA ...Milano-LinateKozhikode-Calicu...Vung Tau (VTG) Wroclaw-Strachow...Tonle ChamReyesTitograd Airport... SaravaneHarlingen TXMikaa Lake AB Husum Schwesing ... Erding Air BaseKaohsiungJaipur-Sanganer ... Lone Pine CAHannover-Langenh...Phu Cat Air Base...Gaylord-Otsego C...Stonington IslandRubashovka Anna...Lemoore-NAS/Reev... Hilo HI USATaichung-Ching C...Cartagena-Crespo... Cabra CÃ³rdoba Uli Airstrip TaizAswan Airport (ASW)New Orleans Inte...Fairford RAF Sta...Colchane Jakharrad Sagirdasht Sergeyevka Pril...Kano Nassau Internati... ZawojaHue-Citadel Airf...ShirazSeverny Starosh...Baden-BadenDawushanSan Antonio del ...Roscas ChongjinCoventry-Baginto...River Congo Corban Abercorn QC Otar Kurdai dis... Khulna Airport (...Phan Thiet Airpo... Takoradi Airport... Enugu ColinaLoc NinhAnchorage Intern...Gaithersburg-Mon...Evadale TX Los Alamitos NAS...RÃ\\\\xado Cuarto CDSebring FLAsuncion-Preside...Papeete-Faaa Air...Novotitarovka D... Phu BaiPapeeteBahia de Todos L... Lashio Airport (... Alderney Channe...Flores AzoresBenin City Airpo...Ubon Ratchathani...KatumSt. Petersburg-C... Pskov Airport (PKV) Monterrey-Gen Ma...Pointe Noire Shemya AK USA ...EketChina Lake NAF CA Ubon RTAFB (UBP)Le Touquet Airpo...Pasco-Tri-Cities... Katum Poroslitsy villa...Moses Lake-Grant...Cisterna di Latina TalasLas Palmas-Airpo... AlborÃ¡n Island Udokan range Al... Monroe GAIslamabadMalcolm Island A...Ruddervoorde HetaudaNepalganj Airpor...IlopangoCaucaya Airstrip Khor AmbaduThÃ³rshÃ¶fn Airp... Hassi Messaoud A...within Phuoc Tuy provinceDrahomyslFort Worth TXPreobrazhenka D... Auriflama SPAndes MountainsTampa Internatio... Zamboanga DoualaCalcutta Airport...Saint Thomas-Har...ValonaEl Wagah Mostki Rogachov...Tuxtla GutiÃ©rre...SuereLusaka Airport (...Santa BÃ¡rbara Khovu-Aksy Airport DueÃ±as Egvekinot-Zaliv ... PhÃº MyEncampment A-A R...Korat AFBCaranaviSagwon AKTumaco-La Florid... CaÃ±o La RayaAmderma Airport ... Fairland IN Plei DjerengOgden-Hill AFB ... Manila Internati...San Salvador/Ilo...Puelo AltoSofia-Vrazhdebna... Campbell River A... Mexico City-Juar... Tiksi Airport (IKS)Courtyard FarmHue-Phu Bai Air ... PskovTapini Airport (... Chu Lai Phu Cat Air Base...within Kien Giang Province San Juan Caribb... Nizhnevartovsk A... PiendamÃ³ CaucaStockton Airport...Golden Gate FLSeattle NAS WAMiyazaki Airport...Tel Aviv-Lod Int...Rural Retreat VARomeKazalinskStockholm-Arland...Grand Cayman IslandSantiago Havana Racine-Horlick A... Sudan borderEscravos Wabush Airport ...between Sverdlov...Antofagasta Amderma Airport ... Valparaiso-Eglin... Glenn Falls-Floy...Istanbul-AtatÃ¼r... Lagos/Ikeja Inte...Wien-Schwechat A...Bolovip Airport ... Ban Talan Mukachevo Santa Rosa Airpo...Oukaimeden mount...Havana-Jose Mart...Sydney-Kingsford...Base Marambio S...Puerto Montt-Tep... Khatanga MakhachkalaPyongyang GillelejeCoraniBu Dop Special F...Athens (ATH)Awaji island Hy...UberlÃ¢ndia-Edua... Tainan Airport (...Inuvik Airport ...Luxembourg-Finde...San Andreas Tien Phuoc Bornholm Airport...within Quang Tin ProvinceLago Agrio Airpo...NamchangSalvador Long Tieng AirstripNorth Little Roc... Stockholm-Arland...La Palma-Buena V...Jacksonville Int...Zaragoza Airport...David CityPatna Airport (PAT)Harlingen-Valley...Kithairon Mountains Apia-Faleolo Air...Chiang KlangPozo ChuÃ±o Moun...Addis Ababa-Hail...ChambÃ©ry Airpor...Aspen Airport C... \" Beit She\\'an\" Poza Rica-Tajin ... Murmansk-Kilpyav...Luxor Airport (LXR)Cerro Vizcachuna TokmassKergantic PloemeurVladeasa mountai...Loma Alta CHPorto Alegre Air... Samarkand Airpor... Palisade NESantiago-Arturo ...SANAE Station Waterford CTLaja Airport Puerto Montt Puerto LÃ³pez Santo Domingo-La...Samsun Airport (... WÃ¼renlingen San Fansisco Ust-Maya AirportBerezovo Airport...Jomsom Airport (... Vancouver Intern...Ust-Kut Airport ... St. Moritz-Samed...Berlin-SchÃ¶nefe... Sasasama Nikolayevo-Kozlo...Melcor OcampoCiudad AlemÃ¡nLima CubaNang Keo MountainThat SonCowie Bay Toguchin Novosi... Berrechid Dak Seang Zaporozhye Airpo...Wichita-McConnel...RawalpindiCaribbean SeaAhwaz Airport (AWZ)Weldon NCKuban CabanatuanIndianapolis-Wei... Bang Tang LouPellston MIwithin Rostov regionGuyana Cuba Rivolto Air Base KainantuMikhailov distri...Havana Airport (... St. Croix Virgi... Hamilton AFB CABarrow-Point Bar...Mogadishu Intern...East Java Montreal-St. Hub...Iligan-Maria Cri... Pellston-Emmet C...Oncativo CO Guran Tulun dis...Edwards AFB CA ...Guyana Curacao Chisinau Airport...Pleiku Air Base ... Prudhoe Bay AK Isla San Lucas Tegucigalpa-Tonc... Atlanta-DeKalb P... Daboase Tripoli Internat... RoxasCuenca Airport (...Benson-RAF Stati...Manado-Samratula...Samarkand Airpor... Da Nang Vietnam...NÃ¼rnbergTra Bong La Rioja LR Huaricanga San Juan-Isla Ve...\"Val-d\\'Or Airport...\"Dak Pek Special ...Bolshaya Indra L...Dumaguete Airpor...Potomac River WASierra del MontsenyMcGrath Airport ... Albertacce Toronto Internat...DamascusMbuji-Mayi Airpo...EspirituColumbia Airport...Gerona Airport (...Bogatyye Saby di...TarragonaEdinburgh-Turnho...Busira RiverLong Tieng AirstripAbidjan AukÅ¡telkaiDiamond Lake ORCÃ³rdoba-Pajas B...Santa Ana-El Tor... Piggott AREast BerlinAcapulco-Alvarez... Cuzco Airport (CUZ) Cam Ranh AirportKirovogradOpa-locka Airpor... Dubois WYHamamatsu AFBBornholm Homestead AFB F...Namangan RegionCruzeiro do Sul ACYuzhno-Sakhalins...Bahia de TortugasPavlof Volcano AK Silchar-Kumbhirg...HaringvreterDubrovnik Airpor... Perivlepto Dnepropetrovsk HuamboFinningley RAF S... DzharkishlakOrocovisZerqa RAF Statio... BulbukhtaMyggenaes Island... IzhevskMys Kamenny Airp... Silver Plume CO GermistonNewcastle Airpor...Aranjuez ChernivtsiRhinelander-Onei...Trabzon Airport ...Simferopol Airpo...Leshukonskoye Ai...Marietta-Dobbins...San Andres Cuba Bettles AKSinopPointe-Ã\\\\xa0-Pitre-...Serra Norte PA Ivanovo-Severny ...SawaiQui-NhonTijuana CubaKerkyra Airport ...Paraparaumu Airp...La Crosse Munici...Doha BaghdadJacksonville Ha...Palanga Airport ... Huntington WVGuiyangLexington KYChristiansted Ha...La Antigua TulkarmKÃ¶nigsdorf Bayern Nha Trang Airpor... Cam Ranh Tambov Dhaka-Tejgaon Ai... Turrialba Volcano Constanta-Kogaln...BrnoTexelSarmientoDugny-Le Bourget... Tuy Hoa AB Phu Yen Boise IDRichmond BC Algiers Algeria Leningrad-Pulkov... Shamshernagar Ai...Sugluk QCLusaka PatnaEdison NJKilleen TXDalat PloemeurBedford-Thurleig... Palca MÃ©zilhacLake Champlain NY Rostov Floridablanca Surgut Airport (...Accra-Kotoka Air...Phnom Penh-Poche...Benghazi SokchoParamo Los ConejosCabo Rojo Airpor...Kirovsk Airport ...Nondalton Airpor... Phan Rang (PHA) Shawnee OKPhnom PenhMcMurdo-Williams...Gulfport Municip...Cunatincuta Moun...Barrancabermeja-...Houston TXTucumÃ¡n Airport... Fort-Archambault...SantiagoLubbock Airport ...Istres HashimaraRed Devil Airpor...GuangzhouOntario Internat... Voroshilovgrad A...Jos Airport (JOS)Beef Island Airp...Nairobi Internat...within Bulgaria Las Lajas Tedzhen Floridablanca Ai... Butte MT Napier-Hawkes Ba... Gagetown CFB Sta... Coolidge AZMae Hong Son Air...Maracaibo-La Chi... Guatemala City-L...Somerset Island NUBuhl IDMalmÃ¶Rijeka Airport (... Kirov BraganzaBatagay Airport Santiago-Los Cer...\"Devil\\'s Peak\"Nassau MalakhovoBogodorsk Island... Bouam LongCenteneraPreveza-Aktion A... Duarte CARiverside-March ... New Haven Airpor... PutreWinston-Salem Ai...McKenzie Lake ONShelter Cove CABan HoneisaiYokotsu MtBoca Raton FL PochopWindsor Locks CTKamennaya Sarma ... Jeddah Bamako Airport (...Lipetsk Airport ... Pau ShizukuishiCompton CAVilla Reynolds A... HengchunLago Bracciano (RM) AhmednagarKampot Airport (...Fairview Park OHPine Point NWT Esigna CorsicaTownsville RAAF ... Basse-Terre Philadelphia Int...Cerro de Hojas Ã\\\\x96ndÃ¶rkhaan Belleville-Scott...Rajince Presevo Kiev-Borispol Ai...Sarasota Airport... Suez Canal Tokko Deer Lake Airpor... Sena Madureira AC Sint Maarten Ne... AarseleAmman-Marka Inte... South Caicos TyubelyahaAthensSan Vicente del ...Mt Santa ElenaEpernay Great Inagua Peoria-Greater P...\"Nice-CÃ´te d\\'Azu...\" Allentown Airpor...Ida MI Maracaibo-La Chi...Cape Perry NTNevado de Santa ... Pisa-San Giusto ... PadangNakhon Pathom/Ka... Vinnitsa Airport...Jacksonville-Lit... Kerch Airport (KHC)within CambodiaBucharest-Otopen...Hualien Air Base... Penghu Island YerevanKota Kinabalu Ai... Aloja AirstripD-59 StationIslamabad-Chakla... Lannion-Servel A...Kapoeta Melitopol Damanka Cumbumwithin Tashkent Region Iranian border Cubi Point NAS ...Farikha AirstripUrumqi Airport (...Trieste-Ronchi d...MachukaTrivandrum Airpo...Cerro Huayca Culebra Airport ...Ban BoumDajabon Damascus AirportPuerto IncaClermont-Ferrand...Khanty-MansiskBaranikha BaikitCentral Dominica...Kingman Airport ...Norman Wells Air... ChetumalJeddah Internati... Ibiza Airport (IBZ)Lake City FL Patuxent River-N... Victoria County-... Adana Airport (ADA) Betania Khost Airport (KHT) CeskÃ© KamenicePoughkeepsie-Dut...Maun Airport (MUB)Usisya Phnom Penh-Poche...Bournemouth Inte...Fairbanks Intern... TegalKarlovy Vary Air...SalvaciÃ³n mine ...Jahran areaPha Khao Valledupar Airpo... Long Tiengbetween Savannak... Jacksonville-Lit... Lipetsk Airport ...MunichLake Charles AFB... KalbaSangay Volcano LinkouOmsk Airport (OMS) Aden Internation...SterlitamakVoroshilovgrad TcheponeYogyakarta San FernandoSiena/Ampugnano ...Madang Airport (...Yukagir Village ...Da Nang Air BaseHumaitÃ¡ AM La Crosse Munici...La Paz ? Ardinello di Ama...Vyyezdnoye Arza... MoyobambaEl Desengano An LocSofia Bratsk Airport (...Poltava Region Ciudad BolÃ\\\\xadvarArgyz district ...El Obeid Airport...Okeechobee FLSvetlogorsk Kontum Airport (...Fort Lauderdale ... Lobito AirportBlantyre-Chileka... Montego BayPanevÃ©zys CaliforniaHelgoland Airpor... Cruzeiro do Sul ACFort Worth-Great... Jebel MusaDYE 3 Airstrip Magong AFB (MZG)Weiden Windsor ON Santiago-Pudahue... CompostelaBauÃ© Rechka Staines A Shau ValleyPonce-Mercedita ...Irish Sea Shiringa Kzyl-Orda Appleton WIAstrakhanka dist... Hao Island Airpo...South Weymouth N...Kulusuk Airport ...Buffalo-Greater ... Arinaga Las Pal...Kompong Som Airp...Wales Airport A...Murmansk Airport...Belgaum-Sambre A...Tabuk Airport (TUU)OkhaOklahoma City-Wi...Abidjan-Felix Ho...Lake Jackson TXSocorro NM Nahanni Butte NWTWapenamanda Airp... San AndrÃ©s Yenotayevka SantiagoPivijay Tha Tam BleungSan Pedro Richar...KanoyaWenatchee-Pangbo... Ust-Kuyga Las PalomasAmbari Falakata ...Austin-Robert Mu...Point Mugu CA Swartkop AFB Aldan Airport (ADH)Bandar-e-Ganave Soc Trang (SOA)KÃ¶nigs Wusterha... Monte Carlo Thandwe Airport ... RabatSumbawa BesarPort Clinton OHSittwe-Civil Air... Canaima Airport ... Vang ViengKudjero Gap Innsbruck-Kraneb... Perevitsy Suntar Magnitogorsk Air...Mount GiluweCape Newenham Ai... GondarVelikaya VulygaClarendonTromsÃ¸/Langnes ...PanchkhalSemipalatinsk re... Johannesburg Air... Ben CatGreat Whale Rive...Cherski El Tiburcio Athens-Ellinikon...Krasnoyarsk Seve...Tula Airport (TYA) Lenakel Airfield... NoirÃ©tableCol du DevÃ¨s R... PoggiorsiniRomorantin Kursk-Vostochny ... Cruncha PaksongDinard-Pleurtuit...Segundo Corral A... St. Johns NL C...Beograd Airport ... Nakhon Phanom Ai...Bislig Airport (... Norman Wells NT Tuy Hoa Airport ...Yerbogachon Irk...Beni Suef Conway SCGalapa Lac Randall QC JalkotFindlay OHMontrealArica-Chacalluta...Lac Randall QC Sint MaartenTonquil IslandSaranac Lake NY Watsa Edmonton Interna...Baltimore/Washin... GuiyangPontianak-Supadi... Glasgow Petukhovo Bolsh... Pontianak Airpor...Sachs Harbour Ai...South Pole StationRondonopolis Air... PudasjÃ¤rvi Saravan Provideniya Airp... Thakhet East Iqaluit Airport ... \" Isma\\'iliya\"Cerro Horqueta Barrancabermeja ...SeddonManaus Air Base ... Ura-Tube NabireSemipalatinsk Ai... Szczecin-GoleniÃ... San RamÃ³n Vietnam coastSan Salvador Air...Ushuaia TF La Plance  ... Funchal Airport ... SerovBlaine MN Ban Hong Sa SmolenskColumbus-Lockbou...Silk Hope NC Kondinskoye Brunswick-NAS M... Hyderabad-Begump... Buon Me Thuot (B...Cerro Picon OzyornayaChampaign-Willar...Cuito Canaval Basel/Mulhouse A... Mountain View-Mo... Moffett Field NA...Montrose County ... AndreyevkaChiriguanÃ¡ CesarMosul Airport (OSM)Bamyan Airport (...Djibouti Airport... Boca ChicaLeticia Airport ...within South YemenHyderabad-Begump...Mueda Airport (MUD)Bhavnagar Airpor... Queen Elizabeth ... Union Springs AL Chub Cay Airport... Ellington AFB TX Semipalatinsk KurskSalvador-Dois de... Svay Rieng Airpo...Starobeshevo Dis...Southern SiberiaLyallpur Rimouski Airport... Delhi-Indira Gan...SÃ£o LuÃ\\\\xadz-Marec...Goussainville Casey Airport QC Villavicencio-La...BiharColonia Airport ...Wilhelmshaven-Ma...Bangor Internati... Puerto Vallarta ... Abakan Iloilo ShakhterskTotoGorna OryakhovitsaMbeya Airport (MBI) Phu QuocBeluga Airport ...Cerro MajÃ©Eureka NV TambilloTofamanirSaatli district Papeete-Faaa Air...Vignale Yukon OK Acapulco Interna...Shakhty ChumikanTamarac FL Washington DCStrasbourg-Entzh... La CoruÃ±a Airpo... Eureka NUDondon WassenaarKotui River Baku-Bina Intern...Barquisimeto Air... El Yopal Chalus Hueva Guadalajara Nerkha Nizhneud... KyzylAuvers Las PalmasPecos City Airpo... BangkokDaet Airport (DTE) Cold Bay AKTomsk-Bogashevo ...Colerne RAF Station TitogradSamarkand regionwithin Hovd ProvinceGary Regional Ai...Lincoln NEBlack Fork Mount...Itaituba Airport...Itaituba PAMt. Khuuta Aksa...Tashauz Airport ... Goris Acapulco-Alvarez...Lukla Airport (LUA)Sugar Loaf Mount...Pnom Penh-Pochen... MazatlÃ¡n-Gen. R...Kazan AirportYacuiba Airport ...Brno-Turany Airp... Nyrob Cartagena Colom...KolpashevoMount GimieCaracas QuilpÃ©Villavicencio-La... Socorro NM Bu Prang Camp Craon Chania-SoÃºda Ai... Quang NgaiSÃ³lheimasandurPorto MargheraDubai Airport (DXB)Little Rissingto...Chattanooga Muni...Sadow VeszprÃ©m-Szentk...Kurupung Phnom Penh Airpo...Tawi AtairSanta AnaMoskva-Domodedov... Norwich Airport ...Taiz-Al Janad Ai...Phnom Penh Airpo... Karacharovo AysÃ©n SanatornyTalaraYerevan-Erebuni ...Horn Island Airp... Tangier-Boukhale... Vinniki Khantaiskoye OzeroCartagena Airpor... West Palm Beach FL Durban-Louis Bot...DoleDalat/Cam-Ly TombouctouBalashov Torino Airport (...Midland TXJohnstown-Cambri...MukachevoUnduavi Vitebsk Airport ...Chennai Airport ...Vila Cabral Airp... Florencia Placida FL Pompano Beach FLTaipingshan Dist... ChigorodÃ³ ChaitÃ©nYegorlykskaya di... Sarakawa Rostov Airport (...Izmir-Cumaovasi ...Carp Airport ON... Pago Pago Intern... Colorado-Springs...Hue Airport (HUI) San Francisco de... MarmatoNewton Fiord NUMontalvo\"Bois d\\'Ermenonville\"NormandiaLake Placid FL Borrego Springs CA Fort Nelson BC Prince Rupert-Se...Gemena Airport (...Okinawa-Naha Air... Bishop Airport ... Kirov Airport (KVX)Bastia-Poretta A...Fairfield-Travis...AsunciÃ³n Intern...Sarasota-Bradent...Brunswick-Malcol...Elim AK Francistown Airp...Ust-Kuyga Airpor...Kazan Airport (KZN) Kutaisi Guam-Andersen AF...Svay Rieng Airpo... DenpasarSala Phou KounGalveston-Schole...Bassein Airport ...Polar Station SP-22 BanosPingtung Air Bas...Ivano-Frankovsk ... Tay Ninhwithin CrimeaAnchorage-Campbe... Baudette MN Springfield IL Kiev-Zhulhyany A...within SulawesiKompong Cham Air...Rankin Inlet NUBathurst-Raglan ... CÃºcuta-Camilo D...Brussel-Zaventem... Winslow AZ Kline SC Safford AZ Battambang Airpo... Demidovo Usinsk Airport Sinitsyno Atkar... Point Hope Airpo...Battambang Airpo...Nagoya Nicosia HÃ©ricEl LibanoCali Airport (CLO) Moc HoaPitelino Rjazan... Kamloops BC Bagotville QCMota Airport (OTA)Quimper Airport ... Mariquita Airpor... DimasLinoghin Porlamar Airport... KisanganiAndryushkino Valence-Chabeuil...Galbraith Lake A...Redlo Briggsdale CONorfolk Regional... Petreto-Bicchisa...Bandar Lampung-B... Cephalonia Greece Puerto Montt-Tep...Recife Internati... Charlotte-Dougla... Ponta PorÃ£ Inte... Cabo de PalosLago XolotlÃ¡nClinton Municipa...SaharoodLupine Airstrip AK Saint Thomas Guatemala CityKrakor Airport (...NykÃ¶ping Airpor...Cutral CÃ³ NESvay Rieng province Clark Air Base ... Vientiane Yeniseysk Airpor... Rio de Janeiro-A... Calapan Airport ...TopraisarBias Fortes MG \" Old Man\\'s Camp AK\" Rea Point Airfie...Port Gentil Airp... SurgutChita Airport (HTA)Aleandrovskoye Sorato Mt.TomÃ©-AÃ§u PAFunchal Airport ...Soddu Airport (SXU) Kermanshah Airpo...Dubai Tripoli ... Beograd Airport ... Cerro de la MuerteSaskatoon Airpor...Upperville VAStony Point NYMaskeliyaKiev region Jeddah Internati...Prudhoe Bay/Dead...TakeoSong Be Maturin Baturino Asinov...BannakLome Airport (LFW) Lancaster-Fairfi...Tikal-El PetÃ©n ... Sibiu Airport (SBZ)Rio Cuarto CDTucson-Davis Mon...New Orleans NAS/...Pensacola Region... Nha Trang La Angostura TU San Borja El Doncello Newport News VAWhittier CABoende Airport (...Akrotiri RAF Sta...Washington DCLa Grande Airpor... Budapest-Feriheg... Sam Neua Airport...Dolo Addison Airport ...Faroe Islands-Va...Zaporozhye Airpo... Istanbul-YesilkÃ...Santo Domingo-La...Houston-Intercon...Taipei-Songshan ...Egg Harbor NJ AgadÃ¨s Airport ... Rangoon Wikieup AZSouth Lake Tahoe... Fairbanks Intern...Tikal-El Peten A...SaarbrÃ¼cken Air...Rushinga Forward... Pontiac MIProvincetown Air...Madrid (unknown ...KnezevacHyannis Airport ...Dallas-Hensley F...Peixe GORajkot-Civil Air... Pleiku City AcarÃ¡Tullahoma TNLalibela Airport...Dinder National ...CerdasDubois-Jefferson...Kalengwa FloridaCasper Airport ...Veracruz-Las Baj...CuliacÃ¡n SinaloaBien HoaBergamo-Orio Al ...Tokyo Southern Pines-P... SofiaMinieta SzlacheckieFort Simpson Air...Cerro SayariTin City Airport... Poltava Airport ... Hilton Head Airp...YallahanpurThan Son Nhut Sardinata Cape Paterson VIC Mesa AZKing and Queen C...Rio de Janeiro-J...MestiaAnchorage-Lake H... Rockwood TNGuadeloupeSan Borja Airpor...Riberalta Watertown Airpor... MarkovoLa LibertadKauferingEmden Airport (EME) Karaganda SaravenaWilliams Lake BCAtlantic Ocean o...Nantes ChÃ¢teau-...Richmond Municip...Dallas-Addison A... Batumi-Chorokh A... KÃºtyArauca Airport (...Duke of York Bay...Mircea Voda TermezLake Mistassini QC Imlay City MISierra Nevada de... Punta Amapala AmskroudBelize CityKasanguluPorvenir Island BagdarinSt. YanNaoro Airport (NOO) Krasnovodsk Airp...Bossaso Airport ... Damascus Interna...JackowoMtwara Airport (...Novosibirsk-Tolm... Gambell Airport ...Leipzig Airport ...Auburn Municipal...Baucau Airport (...GonaivesWakeman OH Mota Itaparica BASan Jose Municip... Ritoque Turukhansk (UOTT) Palembang Airpor...La Grande-LG-2 a...Fort Severn Airp... Tancos Air BaseMikonosProvidence-Theod...Kluatantan regio...Rafaela Aerodrom...Sawu IslandCherry Point MCA...Inishmore Airpor... Novgorod Airport...Mazatlan Airport... Nizhneangarsk Concordia Airpor... Gali El CaobaDunsfold Airport... El ArishIgloolik Airport...Du Motu SerafimovichFergana Airport ...Tacloban (TAC) Slave Lake Airpo...Kufrah Airport (...Meck IslandMielecWenatchee WA Al Qaysumah Anchorage Intern...Kimba NgorongoroMactan IslandKuala Lumpur Sub... San Borja-Capita... Lojawithin Azerbaijan Changsha-Huanghu...RambouilletChapecÃ³ Airport...Palu Airport (PLW) Cozumel Airport ... Frunze Airport (...Santa Marta Bari-Palese Airp... Cabanillas Los Angeles-Van ...Bacau Airport (BCM)Faya Airport (FYT)Managua-Las Merc...within Southeastern Bol... Verkhnyaya KhavaUdrivik Lake AKGago Coutinho Havana-JosÃ© Mar... Ashgabat Airport... Puerto AsisKetchikan Intern...Brighton FL Cobadin Kazachinsk Cutral-CÃ³  NE TulaMassawa Airport ...Upolu Point HIDjanet-Inedbiren...Rubelsanto Airpo... MonzeCamuiganLynn Lake MB Chernigov AlaverdiNassau Internati...Asbestos Hill Ai...CharmanliZamboanga Airpor... Khandyga-Teply K...MacÃ\\\\xadas Nguema B... OsokorkaKama River Kota Kinabalu Ai...between Pauana a... Nizhneangarsk Ai...Engels district ...KazanAmangeldy Komso... Mexico Citywithin Valikhanovskiy d... DaikuSivash LagoonTashkent-Yuzhny ... Barnaul Chita Airport (HTA) Dutch Harbor AKNym Lake ON AstrakhanCovilhÃ£ Airport... \" Sokol\\'skoye\" PopovkaAvalon Airport ... ChilpancingoVejer de la Fron...Guryev Airport (... Uelen ChukotkaChimborazo VolcanoMexico City-Juar... Bar Harbor Airpo...Ile Ã\\\\xa0 la Crosse... Beryozovo Shanisu RiverHo Chi Minh City...PeterboroughKangerlussuaq-SÃ...LÃ©on Airport (BJX)Abitibi Canyon n...Larnaca Airport ...Praslin IslandAjaccio-Campo de... Brockett BCLa Piragua Pontevedra Anapa Black Sea VrbovecMontreal Gander...Livingston Island ArubaBhopal Airport (... Isparta Mosher Creek BCSakon Nakhon Air... Alpena MI SÃ£o Paulo-Virac...Hot Springs-Inga...NovosibirskMadrid-Cuatro Vi... Khoito-Gol Kyre... Bridgetown Inter... Santa Cruz-El Tr... San Luis Potosi El Yopal Airport... Petrolina Intern...RadumRychnÃ³w Banjarmasin-Sjam...between CuraÃ§ao...Naples Airport ...Villa de Casas ... Das IslandSchwabmÃ¼nchen Kozani-Philippos... Tumkur Klushino Solnec... Victoria Laayoune-Hassan ... Armavir Air BaseYosemite Nationa...Chisasibi Airpor...Wildwood-Cape Ma...OborsoJuan de Fuca BC Kazakovskoye Ust-Kut Airport Shiraz Airport (... Seshcha Bangkok-Don Muan...San RamÃ³n Airpo...Sinaloa de Leyva Trujillo Airport...MaraKiev-Borispol Ai...Praha-Ruzyne Air...La Senda Flint-Bishop Air... Chiredzi-Buffalo... Puerto CortÃ©sSamarinda Airpor...Sturgate Lincol... Terrace Airport ...SÃ¼tÃ§Ã¼ler Sarajevo Airport...La China ChivaEl PeruKrestsy Novgoro...Gomez Nunatak LaguraTanjung Santan A...Ujung Pandang-Ha...Huinca Renanco CDIzmir-Cigli Air ...Sumbawa Besar-Br... PoznanCamanaosTruckee Airport ...Hill Bank Salluit Airport ...Shenyang Airport...AmatlÃ¡n de JoraMonroe Station FLFuenterrabiaHakodate LaBelle FL ForishPerth Airport W...St. ThomasBainaha Valley Zhdanov Airport ... Sanga-SangaCFB Summerside ...Libreville Airpo...New Hope GA Penek Chulymsky...Edavlli Prakasa...Hyannis MASaliente del Rio...Wunnummin Lake A...Tenerife MagdalenaTainan Airport (... Ruddock LAMoe Sabana LargaKrakÃ³w Internat...Sokoto Airport (...Wheeling-Palwauk...McLean VARiyadh Internati...Marysville-Beale...Navegantes Airpo... Tavda Ayanka AirstripArdmore Airport ...DrietabbetjePickle Lake Airp... Curitiba PRGreenville-Major...Aramoun Lusaka Airport (...Lone Pine CAWewak-Boram Airp...KorinthGenoa-Cristoforo... MapaiTucson Internati...Kuwait\"Seshcha-Br\\'ansk AFB\" Founkoueye BukharaVero Beach FLKabri Dar Airpor... Newton GAIzhevsk Airport ...Distribuidor La ... Condoto Airport ...Zagreb Airport (...Belgrade Salto Airport (STY) Wake Island Airp...MendozaNucetwithin Lam Luk Ka DistrictDoha Airport (DOH) Bocas del Toro ...Put-in-Bay Airpo... Natal Airport R...Lima Airport (LIM) NedakoniceLa Parra de JerezHelsinki Cuangar Mactan Island Sheridan WY MitÃº Airport (MVP)AlamedinTubo Milkie Vitim AirportOshawa Municipal... KungradRuby Airport AK... Abidjan-Felix Ho... Yoro Airport (ORO)Bourgas Airport ...Ban Maetab Mountain Barysh AirstripLake Balaton El Bolson RN\"Sana\\'a Internati...\"Jigiga Airport (...Pawhuska Municip...Daliao Township ... San JosÃ©-Juan S...Salt Lake City UT Goyave Kona-Keahole Air... Omolon Bilibino... BratskJurbarkas Otrado-Olginski Waglan Island Cerro Moreno CuencaSurabajaMt Iliamna AKMt. Loi Hsam Hsao San Pedro Coahuila Yakutat Airport ...Narsarsuaq Urziceni Lhokseumawe Bawean Island J... Kuala Lumpur Sub...Auburn ALSamarkand Region Thompson MBFlores-Santa Ele...Lanseria Airport...Tadjoura Airport... Valparaiso-Porte... Gillsburg MS Manidar Cape Chelyuskin Barra del Parismina San CristÃ³bal d... Jorhat-Rowriah A...Lake Pontchartra...Georgetown-Ogle ... Cosme Sud CDHay River Airpor...BogotÃ¡ ?Llanos del Yariwithin Tete provinceChuya Irkutsk r...Saturna Island BC Tanjong Kupang Tarko-Sale Airpo...Oujda Airport (OUD) Churchill Falls ...El Hierro Canar...Lake City Munici...Bucaramanga-Palo... Kaysville UT Podkopayevo Vieques Nanisivik Airpor... EkimchanKenora Airport ...Toksook Bay AKwithin South CarolinaLugansk Airport ... RÃ\\\\xado Grande Muni...Key Largo-Port L... Kisangani Airpor...CiÃ©naga Grande ...Pueblo Memorial ... Toksook Bay AKSan Ramon Airpor... San Vicente Airp...TibestiKinston New Bern Faya-LargeauEirunepe Airport... KrasnoyeTamanrasset-Ague... Richland Airport... Artigas Airport ...Cranbrook Airpor...Clermont-FerrandLaguna de BrusSerrania Los Cob... Palermo-Punta Ra...Garaina Airport ...RebiechowoSantiago De Comp... Punta Mulatos Petrozavodsk Air...Hong KongMemphis DenverDon Nok AFB GabareRio Branco ACElma IA Grand TurkHollywood-Burban...CienÃ©ga UnguÃ\\\\xadaRichmond New YorkBethel AKMuryukCharleroi-Gossel...KÃ¶ln/Bonn Airpo...RukuhotSan Jose CA Fort Irwin-Bicyc...UrimÃ¡nNorth Caicos Air... RzeszÃ³wKorpijÃ¤rvi LakeNordholz Naval A...Flatwoods LA Durbin FL UfaAshgabat KarnaukhovskiyDel Rio TXShippingport PAKingston-Up Park...PragueTakaoka Memphis Internat...Badkhalsa Maksatiha Tver ...Snow Lake MBwithin Beni Department Kladkovo Yegory... Winnipeg MBGryzy Pastavy Santo TomasRoxas City Airpo...Monrovia-Sprigg ... Greybull WY Muscle Shoals Ai...Toronto-Pearson ...Serra de Santa B...WielbarkNairobi-Jomo Ken...Pichincha MountainsCandor NCCerro KennedyIoannina Airport... Hastings FLLago PetÃ©n ItzÃ¡ Opa-locka Airpor... Kotzebue AKNyeri HillsKalamazoo MIFloresChub Cay Airport...Lydd Internation...Tota Boyaca Nukus Simara IslandFrobisher Bay Ai... Papun Airport (PPU) FanjaConstanta-Kogaln...Vancouver-Coal H...Whamira Hills ConakryClewiston FL Farmerville LAConway AR Yablunivka Pril...Barrio Santos S...Somie Ireland Irish SeaKomakuk NUTehran/Doshan Ta... Poland ME NovoaleksandrovskHouston-Hobby Ai... Karima San Diego Intern... Ulan-BatorOulu Airport (OUL) Fort Walton Beac...Tbilisi Airport ... Sagaing Kuopio Airport (...Santo Antonio do...Denpasar Bali-Ng... Santiago de Chile Luzon Barrow-Point Bar... MaryRiohacha-Almiran...Lancaster-Willia... LanovtsyValledupar Alief TX Nizhnevartovsk Vickery OHMadrid Lisbon Bellona Island Emelyanovka Gul...Degahbur Airport...BocaiÃºva MG Alexandria Egypt Sakon Nakhon Air...Makhachkala Airp...CamaronesMareb Airport (MYN) Colombo-Bandaran... Lusaka Arad Airport (ARW) Punta Fija Marie Galante-Le...Port Kaituma Air... Leh Airport (IXL) RubioMadison-Dane Cou...Kendall-Tamiami ... Cottageville SCJocoli MDDes Moines IA Steamboat Spring... Lorida FL Omaha-Eppley Air...Sierra CucuyCherskiy Airport... Port Mayaca FLBattle Creek FLBembridge Airpor...Cesar DepartmentCleveland-Hopkin...Minneapolis-St. ...VaranasiMarion IL Turks & Caicos Portland Interna... Budyonnovsk Ros...MolodezhnayaInigok Airport AKSouthbay FLJuist Airport (JUI)Catalina Island-...Cherbourg-Mauper...ItacajÃ¡ TO Belgorod Airport... BÃ©char-Leger Ai...Taos Airport NM... Rodez Airport (RDZ) Haikota IsfahanTrebinjeBauru SPMiami-Dade Colli...Clarksburg-Bened... KaribaYarra Creek Kin...Taoyuan Auckland Interna...Saint Lucia-Hewa... Asmara Moanda Probolinggo Los Angeles Inte... Chongyang FlorianÃ³polis A... Bridgetown Barb...Chardzhou Airpor...Luanda-4 de Feve... Baykit (BKT) Quebec Airport ...Nkayi Airport (NKY)Jalapa Saginaw MI Belle Glade FLSongo AirportChiguayanteIquique-Cavancha... Tampico Airport ...Pastaza Provincewithin Irian Jaya Guantanamo Cuba...within easternErdenet Airport ...Adler/Sochi Airp... SvidovetsMesa-Falcon Fiel...SÃ£o TomÃ© Islan...AberdeenUfa Airport (UFA)Cardiff-Wales Ai...Bullen Point Air... Fort Lauderdale ... Rockland-Knox Co...Lubumbashi-Luano...Thompson Airport...Dybowo-Olecko Leh Elk City IDFort Lauderdale-... Aldeia IndÃ\\\\xadgena...Petropavlovsk-Ka... Hyannis-Barnstab... ShirazChicago New Yor...RiviÃ¨re-du-Loup... Daggett-Barstow-...San JosÃ©-Juan S... AlvercaKamenzKrasnaya PolyanaDrzenin Aruba Caribbean...Casa Grande AZMount Sibayak Bua CelaMoosonee Airport... Kingston-Norman ...Omaha-Eppley Air... Superior MTwithin West Irian \" Matthew\\'s Ridge ...\"Brunswick-Glynco...Saint Croix-Alex...DaneborgSumburgh Airport... Leningrad-Rzhevk... PanvelCerro TupungatoFuerteventura L... Gaborone Katab KurilovkaSan Francisco P...LarnacaDaxue Mountain KirsanovFort de France-L...Pilot Point Airp...Ban MaiSquaw Lake QCRome TehranOrchid Island Ai... Taipei-Chiang Ka... South Caicos Int...Hattiesburg-Bobb... Sarroch Boston MACharleston AFB ...Blink Horn Point... Malyushin AirfieldBarentu Nantes San AndrosPorpoise Bay BCRoyan Charente-...Carmelita Airpor...Iturup IslandCampinaKirkwall Airport...Lensk San Ysidro CATijuana Bettles Airport ... Cozumel Air Base... TikhoretskBig Trout Lake ONHuabangoTau Airport (TAV) Kadugli Airport Churchill-Metrop... Cascavel Airport... Washington-Dulle...Grand Canyon-Nat...Vologda Airport ...Savar McCormick SC Denver-Arapahoe ...LojaLoja Airport... Puerto Williams ...Tokyo-Narita Air... Freeport-Grand B... TaifTakla Narrows BCDublin-Baldonnel...Mount ErebusUnalaska Airport... Nome AK Forli Airport (FRL)Oaxaca Apolo Airport (APB)MachiquesCerro Toledo Oroque Puerto EsperanzaManari Airport (... KabulGrande-RiviÃ¨re-...Palmyra Island ...CamiareBanjarmasin-Sjam...Palermo-Punta Ra...Zomba Air Base Sri RachaSanta Ana-Yacuma... Bogor Mandalay Airport...Toul-RosiÃ¨res A...Alameda-NAS CA ...San SalvadorBaracoa Airport ... NgaoundÃ©rÃ© Air...Plattsburgh AFB ...Port-au-PrinceBillerica MAAgra-Kheria Air ...Banjarmasin PoptunOrenburg Airport... Port-au-Prince A... Adana-Incirlik A...Baton Rouge-Ryan... Addis Ababa-Bole... Changsha Airport... Sebha Airport (SEB)within Namibia Parker COCuiabÃ¡-Marechal...Conakry Airport ...Arsenyev-Varfolo...Balikpapan-Sepin...Dallas Havana Athol-Silverwood... Conlon TX FlorianÃ³polis-H...Pago Pago Dania FLPosht-i-BadamEsperanzo ForestRÃ\\\\xado BeniRichmond Interna... La Macarena MetaDouala Airport (... Esperance Airpor... VaraderoMiami Seaplane B...Bonanza-San Pedr... Sarasota FL US...FÃ¼rstenfeldbruckCarling Lake ONUtilaGierioz YacuibaAllentown Intern... MatalaBrno-Cernovice Valley NE DushanbeKhost Airport (KHT)Yuma Internation...Chiang Rai Airpo... Columbus Municip... Ustica Italy T... \" Isola d\\'Elba\" Prachuap Khiri K... Tepic Airport (TPQ)Galway-Carnmore ...North SinaiPort-au-Prince A...Loja Airport (LOH)Ottery St. MaryArkhangelsk-Tala...Camagueywithin Pastaza provinceKuwait Manama ...Trujillo Airport...Ramona Airport CATel Aviv-Ben Gur...KrosinkoNew Smyrna Beach... Togiak AKNouadhibou Airpo... Palma de Mallorc...GuwahatiOtay CAVijayawada Airpo...Lima-Callao Inte...AsunciÃ³n24 Mayo Airstrip...Saint-Vincent-de...Barbers Point NA...Tampa HavanaSacramento Metro... Puerto BerrÃ\\\\xado Iquitos West End Settlement Madinah-Mohammad...Kindu Airport (KND) Haiti Bereznik Airport... Kindu Airport (KND) Castilla la Nueva Peninsula de La ...Wichita Falls-Ki... Okeechobee FLMount SmjÃ¶rfjÃ¶...Baghdad-Saddam I... Kirkuk Airport (...McMinnville TNbetween Madrid a... Ocean Cay AirportBeniarrÃ©sMisool IslandDiyarbakir Airpo... Chapais QCFort Sill-Henry ... Colmar-Houssen A...Saint LuciaStewart Island A... Kabul Airport (KBL)Valparaiso-Wagne...Falea KÃ©nyÃ©ba...Caracas-Simon Bo...Akrotiri RAF (AKT)Benguela Airport... Caracas-SimÃ³n B... Cairo West Air Base \" Norman\\'s Cay\"Annanberg-Nodabu...Yap Airport Wes... Menongue Murri Bimini Pecos City Airpo...Simanggang Indio CAHiguerote Airpor...Angola/Namibia b... Tumut NS MarandellasMany LASlide Mountain NYSherbrooke QCPoprad/Tatry Air... Riohacha Qatar CancÃºn Airport ...ReykjavÃ\\\\xadk Domes... Candelaria El Banco MagdalenaKarad AirportBahar Dar Airpor...Agua Negro Ranch...Blenheim-Woodbou...Ramstein AFB (RMS) Inner Hebrideswithin Kamoa Mountains Spokane Internat...Petrolina PECÃºcutaCaravaniWestchester Coun...Krenkel Station ...Santa Ana-John W... Tabones IslandGalt ON AnapoimaKabul DamascusPantano de BuendÃ\\\\xada Moroni-Prince Sa...Station NordLac Bienville QC San Luis PotosÃ\\\\xad Slupsk-Redzikowo...Hoa BinhManagua Panama ... St. CroixEmerald Airport ... PalaÃº de AbajoLaguna Soliz Cincinnati Munic... Fort Collins/Lov... Puerto de Andrai... Pekanbaru LazoSemarang-Achmad ... Voskhod Krasnod... Vanimo Walkersville MD Buenos Aires-Jor...Mount Joli QCVicente GuerroSlate Creek AK Menongue Airport...Pinarete Mountain ZumbaHuairapungo Moun... Nassau BahamasDillingham Munic...Gilgit Airport (...Voroshilovgrad r...Thandwe Airport ...Manaus-Eduardo G... Smithers BCBratsk Airport (... Hualien Airport ... Saldus \" Ust\\'-Barguzin\"Rabaul-Lakunai A... Tirupati Airport... Miraflores Airpo...West Deering NHVillavicencio Ai...Nailstone Frazier Park CAJackson Lake ON Kenai Airport A...Beni King Cove Airpor...Kedrovy Bodaybi... Balad Stupina Maroantsetra Air... CarurÃº Airport ...Chihuahua-Gen Fi...Chimkent region Cochrane Airport... Coclecito Utichiy Island Beira Cali-Palmaseca A...Gdansk Airport (... Coyhaique Airpor... PalanaKatowice-Pyrzowi...within Florida?Mangalore-Bajpe ... Sanyi Township ... ZavitinskSekakes Airport ...Dire Dawa Airpor...Zeya Paipa-Juan Jose ...Dahl Creek Airpo...ZagrodnoNamangan region Saratov Zheleznogorsk-Il...St. Andrew Guer... Indian Springs-A...Kahrisaknortheast Colombia Felt OK Lac-Saint-FranÃ§... MoerdijkDessie-Combolcha...Guelta Zammour Saint Thomas Air...Foya KamalaSan Miguel AirportBafoussam Airpor...Sukhbaatar Province ZihuatanejoSennarWaterkloof\"Noril\\'sk Airport...\"Rothera StationHuehuetenango Ust-Kulom KufraSaint Lucia-Vigi... Ajaccio-Campo de...Spence Bay Airpo... AnamurLaredo Internati...Mexico City-Beni... San Antero Deputatskiy Severo-Yeniseysk...Puerto Lempira A...Punta Arenas-Pre...Lagos/Ikeja Inte... Pensacola Region... Gelendzhik Addis AbabaShevchenkoPearl Harbor Cha...Constanta Airpor...BÃ¡csbokodDamascus Interna...BogotÃ¡ CaliGroton CTMount Garbi Jeju (Cheju) Int... JammuMt. Ipaowithin PrachinburiAmarillo Interna... King Salmon Airp...Netheravon Wilt...Scituate Reservo...Nairobi Jeddah ...Columbia-McEntir... Gamvik Phoenix-Luke AFB... Anapa Airport (AAQ)Greenwood ILMacon-Lewis B. W... Igenhausen QuÃ©tamePaulatuk Airport... GevenlikNovyj Urengoj Ai... YangsuoGlendive-Dawson ...Port Stanley Air...Qotur Savannah GA (At...Calgary Internat... TashtagolPuerto LimÃ³n Ai...SputendorfHÃ¡rmashatÃ¡rhegyJudsonia ARMiraflores Petrovsk Air BaseMadera CANorth PoleHooper Bay AKUberaba Airport ... Kassel-Calden Ai...Biarritz (BIQ) Barranquilla-Ern...Dnepropetrovsk A... Pebble Island Seoul-Seongnam A...Rondon Airport (...PolevoyeZegrze PomorskieDvoinovski Volg...St. Petersburg I... Pebble Island (I...Serra de Pacatub...RAAF Amberley QLDKrasnoarmeiskayaTabatinga Intern... Severomorsk-1 Na...Staunton-Shenand... Jakarta Verbovichi Naro...Wollaston Lake A...Long Semado-Lawa...Greve in Chianti Waterkloof Air F... Lake Bolshoye Toko ShanghaiSanta Marta-Simo...Amritsar-Raja Sa...MindatSukhumi-Babusher... Bazarnyye MatakiManagua-Augusto ...West Palm Beach ... Dno Pskov regionAmritsar Airport...La Soufriere Vol...Makale Airport (... Wolf Creek Pass COSmedavaIshigaki Airport...StrachoticeNasiriyah Airpor... Knoxville TN ValladolidKhorezm region Andros Town Airp... ImishliShanghai-Hongqia...Huntington Beach... Two Bridge Lake BC Luxembourg-Finde...Hat Yai Airport ... Kampung AtapMerowe Airport (... GraskopKosciusko MSShamattawa Airpo...Serra de MonchiqueSinop Airport (SIC) BontangEdmonton-Namao F... Mountain View Ai...Dnepropetrovsk r...Monte Bibala QuetamePontianakAbbotsford Airpo...Burbank/Glendale... Pueblo Memorial ...La Serena-La Flo...Manado Airport (...Sakhanskoye Shi...Guangzhou-Baiyun...Great Abaco Hailey-Sun Valle...Brainerd-Crow Wi...Madison GA Alleypey Bay City TX TripoliPortland Interna...Douala Air BaseRÃ\\\\xado Gallegos In...Playa Baracoa Ai...Houston-William ...Preobrazhenskaya... Kuala Selangor ...Melbourne VICNuevo Laredo (NLD)Shamathawa MBJalalabad Airpor...BÃ¥tsfjord Airpo... SalentoCherkasy regionKokoAdelaide Airport...Fuzhou Yixu Airp...Varna Airport (VAR) Shashgow GhazniNakashibetsu Air... SebhaChikala Hills Vanavara Krasno... Quelimane Airpor...Poti AirportLawton Municipal... Eagle Pass-Winn ... Guangzhou Baiyun...Selawik AKPuerto Vallarta Leninakan Airpor... TobaFlotta Airport (...Wichita-Mid-Cont... Barranca de Upia Guayaquil-Simon ...LandikmaTsaghkahovit CesisMontreal-St. Hub...Cali-Palmaseca A...Kaunas Nakhon Sawan/Tak... Klyuchi Air BaseRiver Kagoak AK Tavil-Dara Blagodarnoye Kr...Kubitet Tyazhin... ScotlandSchleswig Airpor...Beaumont Municip... Shiryaiski Ilov...Cangamba Airport... Kinmen-Shang-Yi ...Siddipet Bussap... Cold Bay Airport... Puerto Maldonado Kharkiv-Sokilnyk...Kauai HI Gali Abkhazia NielaMillhaven GA Fairbanks-Metro ...Ulan Bator-Buyan... Las Vegas-Nellis... Kahului HI Kazarman LabÃ©Berry Island Jalalabad Airpor...Kasaba Bay Airpo... MestiaLeningrad-Pulkov...Tobin Creek Airs...Bristol VA/John...Kharkov RegionBrownwood Airpor...Lagos-Murtala Mu...Gimli Airport M...Missoula Airport...between Ambon an... KoslanPasto-Cano Airpo... Ubon Ratchathani...Odessa RegionOmsukchan Airport Wilmington-Great...Vieques Airport ...Roma Stanwood WATel Aviv Dundo Airport (DUE)Hot Springs-Memo... Adavale QLDwithin Mexico Sakhalinsk Okho...Tours-St Symphor...Guilin Airport (...Bagram Air Base ...Mino Jebel AliLas Bolsas SA Lanyu Island Rio Blanco Mata...San AndrÃ©s Isla...KarolewoAraÃ§atuba Airpo... LonkinMonterrubio vill... Pinckneyville IL Santa Isabel-CÃ³...Kansk Air BaseMiddletown PAAlto Pencoso Sa... Lubango Airport ... Burevestnik Senkovo Lansdowne House ...Midland/Odessa R...Denver-Buckley A... Enugu Airport (ENU)LinkÃ¶ping-Saab ... Kalgoorlie WA Stornoway Airpor...El Paso-West Tex...Poptun Airport (...ZapoteSioux Falls Regi...Vail-Eagle Count...Honolulu HI Al QatranaCochabamba-J Wil... Karimui Tessenei Airport...Kissidougou Airp... Mazar-I-Sharif A... Chuarrancho ManadoEdinburgh RAAF S... Terre Haute-Hulm...Avalon CACamagÃ¼ey Intern...Huambo Airport (... Debre Zeit/Harar... Prosperine Airpo...Elefsis\"N\\'Djamena Airpor...\"CancÃºn Airport ...Cerro PilÃ³n Oneonta Municipa...San Miguel AirstripTaipei-Chiang Ka... Rurrenabaque Air... Ciudad Quesada Bergamo-Orio Al ... Florianopolis SC Quthing Airport ...Scottsdale AZ Imperatriz Airpo...Cerro Alto Santa...San Manuel Ray B...San Borja-Capita... Staroye Zhookovo Thunder Bay Airp... Ushuaia Airport ...Voroshilovgrad R... DonetskChalkhill PAPanamaSzarvas-KÃ¡kaSanday Airport (... Sivakovka Khoro... Rio das Ostras RJ Playa Baracoa Ai... CasapalcaNeryungri/Chulma...Kustanai region Zadar Sigonella Naval ...Mokhotlong Airpo...Krasnodar regionPunya Boguchany...Krasnoselkup Air... Providencia Airp... Andryushino Sve...LazurnoyeWaterville-Rober...Isiro-Matari (IRP)Harare ? Vieques Airport ...Nawabshah Dhaka-Zia Intern...Marseillewithin AcehNanisivik Airpor... WamenaMarchingtonAktyubinsk Airpo... JinotegaKinshasaMount MusakaOmega Air Force ... Bandundu Airport...Isfahan-Shahid B...Opole Saaremaa IslandSurin Zaranj Orillia Airport ONWest Freugh AirportAberdeen Municip... Pavlodar Skiathos Airport... Sredni Kalar Ch...Fort Franklin NTHorcajo de los M...Port Isabel TX Sable Island NL... DavaoTete-Matundo Air... Saint Thomas-Cyr... Tanger Inverness Airpor...between Loja and...Salinas Castres Wilton Airport NSWAtlanta-William ... Kostroma Airport... Jacksonville Int...Ati Airport (ATV)Jasper-Walker Co...Songkhla Airport...Verkhne Imbatsko... JaÃ©nAlki Point Seat... KeregeWaco Municipal A... BhojpurCafunfo Airport ...Yeniseysk Airpor...ConcepciÃ³n Airp...Nevado IllimaniBamyan Kansas City Down... Uralsk Airport (...Yogyakarta-Adisu...Lop Buri Air BaseBrisbane Interna...Orlando Internat... San JosÃ© de los... Reno/Tahoe Inter... Trujillo-Capiro ... \" Dzhabal\\'-Ussaradzh\" BugaCerro el PlateadoLake Byeloye Vo... Taboga IslandLondon KY Minsk-2 Internat...Cedarville NJWilton Airfield ... Banjarmasin Bilbao Airport (... Tombouctou Airpo... DakhlaRiyadh Air Base ...El Bagre Airport...within Iran Novobyelaya Lug...Giallo-Warehouse...Barter Island AKFort Hood TX AkoboParis-Charles de...Dhahran Internat...Lago Ullum SJBorogon Airport Florencia Airpor...Jeddah-King Abdu... Salta SA Phuket Internati... KulusukWilkes-Barre Int... Perpignan Airpor...within KhÃ¶vsgÃ¶l Province ZolochivPerris CALewistown Munici...Kyzyl Airport (KYZ)Doha Internation...Lake Geneva Muni...MalukuChongoeneSulczewkaCochinGwangju (Kwangju... Harrison-Boone C...TadibeyakhaTen Mile Creek BC Cabimas-Oro Negr... Sangar Montgomery-Orang... ProvinsStavropol regionLos Angeles-Van ...Sebha Airport (SEB) Trenton-Mercer C...Moma Juara Airport M... Cork Ireland Santa Maria RSSan Juan-Luis Mu... Ponta de Mucurip... Suduntui Chita ...King Salmon AK Mbeya Airport (MBI)Eldebba Airport ...Baykit (BKT)Egegik Airport ...Krasny Yar distr... Uchkuduk Kandahar Airport...Lac HÃ©lÃ¨ne QCSelitrennoye Kh... LeticiaBodenseeMt. Komendant O...Northport WADallas/Fort Wort...Mocoa Mulia Airport (LII) Ueno Village Ta...Quinlan TX Gulkana AKKatherine-Tindal...Manchester Inter... Auburn Airport ... Marysville-Beale... Hickory NC Nurallao Sardinia Kokoda Airport (... Yunkyur Airstrip KandaharEast Naples FL Staunton-Shenand...West Chicago-Dup... Kharkov AirportKilifas Gap Jenkinsburg GAwithin Arizona VitÃ³ria da Conq...Homer City PA Putao Airport (PBU) SingaporeBloomington-Monr...Enshi Airport (ENH) Juneau Internati...Bethel Airport ...Sparta-White Cou...Kasese Airport (...Dothan Airport ...Edmonton Interna...Friedrichshafen ...Rochester MN Swartkop Air For...Toulouse-Blagnac...College Station-...AccraYaviza Mountains Gannan Heilongj... CumanaRiyadh-King Khal... Dhangadhi KadunaDe Kalb TXSosnovaya Roscha...Khuvsgul Province ShantobeCaribou Horn Lak... Vatry/ChÃ¢lons-e...Un-SaraSachigo Lake Air... RiyadhUjung Pandang ha...Lago Gutierrez RNSÃ£o Paulo-Guaru...Las Lomitas East Midlands Ai...Sault Ste. Marie... Kasongo Saransk Airport ... Magong Airport (...Philippi GlacierIruma Air BaseErie Internation...Coatesville-Ches... Bugulma Airport ...Thira Airport (JTR) Pachuca Hidalgo Alpena County Re...Daytona Beach In... NahaLime Village AKJammuMount Lloyd Geor...Steins NM Omsk Severny Air... Jamnagar IndiaMezÃµnyÃ¡rÃ¡d Pemba Airport (POL)Las MesasMagdalena NM Argos BorRedwater TXTripoli Internat... Mombasa Tame Las Salinas de H...Qala i Naw Airpo... San Salvador/Ilo...over AngolaPortland-Hillsbo...Ledovaya Baza Billings-Logan I...Hollywood-North ...Laramie-General ... Khanty-Mansiysk ... DjiboutiPunta Mitre CR AmpanoizankovaDundo Airport (DUE) Laphroaig Isle ... Calgary ABBarrow-In-Furnes...Balboa-Howard Ai...Grand Canyon Nat... La Macarena Airp... DembidolloPenza Airport (PEZ)Buffalo Municipa... Kayseri-Erkilet ...Lincoln Municipa...KopsaCamden Airport ...Chimoio Airport ...Kelowna Airport ... Choszczno CantallopsWabush Airport ... San Juan-Luis Mu...Mount KinpokuTabou Airport (TXU)KrasinyMount CanlandogBedford-Virgil I... Saint Vincent-Ar...Calabar Airport ...Rutland Airport ...Konder Mountain ... MocorÃ³n-Durzona... GarutTexarkana Munici... Siuna Lille-Lesquin Ai...Cerritos CA North SeaPickle Lake ONCluj Airport (CLJ)Vanuabalavu Airp... Mantiqueira SPChennai (Madras)...Liberal Municipa... Port-de-PaixMagoebaskloof San CarlosAalborg Airport ... CabildoStoelmanseiland KomatipoortNightmute Airpor...Indore Airport (... Peshawar Airport... Medina Tosa Bay Christiansted S...Mojave Air & Spa... ZahedanCasablanca-Nouas...Brooksville-Hern...Tabriz Airport (...Rio de Janeiro-A...Congo Town AirportWindsor MA Fort McMurray Ai... Berlin-SchÃ¶nefe...Lanzhou-Zhongchu... Norman Wells Air... Arar Nadi Internation...Chernenko Airport Bata Airport (BSG)Ilorin Airport (... Pilas Island Su... Toronto Island A...Remington Â\\\\xa0IN Asmara Internati...Montgomery-Maxwe...Lugano Airport (...Kearns UT JaboatÃ£o PECima CATarnogsky Gorodo...Varginha Airport... Monrovia San Ignacio de M... Jakiri eastern coastFelvoruSverdlovsk Airpo...Oneonta Municipa...San Juan Reservoir Fukuoka Airport ... StadnitsaTrondheim-VÃ¦rne...within KalimantanFresno Air Termi...Abu Simbel Airpo...Norfolk-Stefan F...Provincia Indepe... GuaritaWadi Doum HigueroteMiranshah area PilisszentlÃ©lekLake Sivash Kansas City Inte... Johannesburg/Ger...Jaisalmer Airpor...Lac Placier QCSoviet Arctic ocean PanayAl Jaylah Pulau MapurBahia Negra MayagÃ¼ez Airpor... Pickle Lake ONWauWest Mifflin PAShageluk AKSavannas hill rangeNadi Internation... Ruteng Ilaga Airport (ILA) Visby Koblenz-Winninge... LÃ¼beck-Blankens...Lake Manyara (LKY)within Bolivar State Khost Maudsley Lake SKHidden Bay Airst...Paraparau Saposoa Airport ...Berdyansk Airpor... HopongDayton Airport ...Brookfield FarmMadisonville Mun... Baguio-Loakan Ai...Fort Bragg NCCooch Behar Airp...Kandahar Airport...Ciudad CamargoCrystal Bay NVSabadell AirportLac Cache ONTekapo AerodromeIvanovo Airport ... El PetÃ©nSanto Angelo Air...Innyaly Lensky ...Calama-El Loa Ai... GardezUst-NemKilaguniNewburgh-Stewart...Ainsdale Sands ...Beaver Falls PA Alisovo (Bliznezi)Bulverde TXOmsk CarajÃ¡s Airport...Melka ShediWhite Sands Miss...Rayleigh EssexKunduzCastle Crags Sta...Shreveport-Barks... BloemfonteinTwin Falls City ...Gold Beach Munic...Memphis Internat... Keflavik IcelandEl Poleo Pa-An KuitoConca di CrezzoRancho Murieta CA\"Komsomol\\'sk-na-A...\"Ciudad Mante Bartlesville OKDesert Center CA Ulongwe Ross River Airpo...Jefferson WITuusulaSaint Clair Shor...Mayor Pablo Lage...Le Puy Haumuri Bluffs Mauritius Tavoy Myanmar ... DjakovoHayoun Mount Waddington...Lexington-Blue G...Deptford NJ Paso Robles CAUdon Thani Airpo...Dallas-Redbird A...San Ignacio de M... Lima-Jorge Chave... Kanabea Cochin NAS (COK) Iligan Airport (...Joplin Airport ...PyatigorskBoca San CarlosMashhad Airport ... Goba Airport (GOB) SamarindaDahra-Warehouse ... SeferihisarMonterreyLuanda Airport (... Monroe Municipal...Yonago-Miho Airp...Hamilton Airport... Chongqing Baishi...Krasnovodsk Airp... Green Island Air... Durango-La Plata...within DariÃ©n ProvinceDurango-La Plata... KettwigTuting Arunacha...Springfield Airp...Lake Ontario ONWheeling-Ohio Co...Hanoi-Noibai Air...Kaohsiung Intern... MacaÃ© Airport ...SaskylakhSurgut Airport (... Girne ArapGermiston c. 13... MachaultVeshchevo Air Fo... Charbatia Air BaseQuetta Airport (... Decatur TXAlgiers-Houari B... Maimana HennenmanKudinovo Techamutete Maui HIAxum Airport (AXU) BrÃ¸nnÃ¸ysund Ai...Mossel BayKrzemlinCartagena-Rafael...West Paterson NJCerro FÃ¡brega Hannover Airport...within Yucatan Greenville Airpo... San Mateo ManabÃ\\\\xad Tobolsk Posadas Airport ... AleksandriyaDelhi-Indira Gan...Guna Airport (GUX)Bronson Creek Ai...Mulhouse-Habshei...San Salvador-Com...Cabimas-Oro Negr...CesnikovoEysines Qeshm IslandKhabarovsk-Novy ...SÃ£o JosÃ© dos C...Kisumu Airport (... Spratly Islands ... John Day ORVadodara Airport...Golden Meadow LAMorristown Munic...within Colombia Cutio Bie Kunduz Bahawalpur Airpo...Asau Airport (AAU)\"Ã\\\\x8ele M\\'bamou\" KystatyamStation 6between Villavic... Arteaga Privolzhskiy Air...Hopedale NL Santiago de Comp...La Paz Airport (...Jackson WYMontego Bay-Sang...Emae Airport (EAE) Bahar Dar Airpor...Cheney ON Harare Airport (... AiykanAurangabad-Chikk...Aleppo Airport (...Ushuaia Airport ... \" Kozel\\'sk Kaluga...\"GoiÃ¢nia-Santa G... Bhaisau Eastsound-Orcas ... Linfen Air BaseDori Airport (DOR)LuandaOscoda-Wurtsmith... Sandar-Marneuli Ahmedabad Airpor...Yerevan Airport ... Juliaca Airport ... Salzburg-W. A. M...Les Eplatures Ai...Belaya Gora ? Pikangikum Airpo...Oak Grove PAGondar Airport (...NiedernbergKayseri-Erkilet ... SeinÃ¤joki-Ilmaj...MichalkÃ³w JohannesburgMontluÃ§on-GuÃ©r... ParachinarRogachevo Air BaseGander Internati...Butzweilerhof Chapleau Airport...Hamada al HamraTel aviv-Ben Gur...Waskaganish Airp... Kodinsk AirportWestern SaharaGrand Turk Islan... Naryan-MarKarm `UmranCuatro CiÃ©negasCatarman-Nationa...Lockerbie Aspen Airport C... KegworthRockingham Count... Dayton-James Cox... Caracas/La Carlo...between La Paz a...Buena Vista COÃ\\\\x96rnskÃ¶ldsvik A...QuilianoFairbanks-Fort W...Lisboa-Portela d...Abilene-Dyess AF... BannuMarseille-Proven... Santa Maria-Vila...Lichinga Airport...Glasgow Internat... Washington State Hurlburt Field FL Castera-LouPoughkeepsie NY La Grande-LG-4 a... Luena Airport (LUO)CazomboDryden Municipal... Maidstone-Lashen...Lafayette-Purdue... Saginaw TXTiraora Lodge SÃ£o Paulo-Guaru...Kieta-Aropa Airp...Jeddah-Prince Ab...Palangkaraya-Tji...Baku Airport (BAK)Laoag Airport (LAO)Iquitos Airport ...LÃ©oncel WriezenTatarski Decatur Airport ...Sechenovo Summerland Key FLMelbourne-Tullam... Playa del Carmen... Columbia-Maury C...Portland Harbour Oskarshamn Airpo...Azusa CA Dolbizno Kamene...Unalakleet Airpo... HuaralTorino-Aeritalia... Bronson Creek BC Derby WA De Kalb Airport IL Boboc Air BaseColville Lake Ai...Punta BojÃ³rquezCuraÃ§ao-Hato In... ZellaGrenville Channe...Vereda el Salitre KiungaZabol Airport (ACZ) Tarma St. Anne-des-Mon... Petersburg AK HargeisaYaoundÃ©-Ville A... Cartersville Air... Cape SchmidtCam Ranh AirportBelfast City Air...Wau Airport (WUU)Dayton-James Cox...??Cape KiberaSioux Gateway Ai... MocubaChanaGrimsby-Binbrook...Ulan-Ude Airport... Samos Airport (SMI)Augusta Airport ...Ilha das OnÃ§as PAGambellaUpper Dart Valley Novgorod-Krechev...Neryungri Airpor... Shanghai-Hongqia...San Carlos de Ba... Puerto Ordaz Air...Bishkek Airport ...SÃ£o JosÃ© do Xi...Taura AFBLaval-Pradel Hirtshals Skage... Playa de BaracoaVodochody-Klecan... BintuniJalal-Abad Airport Mayfield Graves ... Houston-William ...St. CroixHumacao Airport ...TÃ©nÃ©rÃ© desertTrelew-Almirante...Toulon-HyÃ¨res A... IndapurTerrace Airport ... Semenivka Chern... Roxboro/Person C...Sedona Airport ... Yar-SaleStepnogorsk Airport Carlingford NBUncertain TXU-Tapao (UTP)Las Perdices CDSasstown Airport...Kirovabad SumqayitHatayKangiqsujuaq Air...Saltillo Airport... Hoolehua-Molokai... Mariehamn Roncesvalles To... Belo Horizonte-P...El Gorah SinaiMaluti MountainsSÃ¢nmartin Barualite Sovetsky Airport...Kidston Airport ... Dzhambul Airport...Seoul-Kimpo Inte... Jamba Airport (JMB)BorÃ³w Toluca George TownLille-Lesquin Ai... TepicPanama City-Pait...Guayaramerin Air... AweilSanta Ana-Orange... VisinaMan Airport (MJC)Tver-ZmeevoBanten Bay Java... Port Vila-Bauerf...Hagerstown MDMenongue Airport...Villa Gesell Air...Kajo KajiYorke Island Air...Portsmouth-Pease... Pervouralsk Elko Airport NV... Leadville COMcCharen Field ...Ansonia OHLittle Rock Nati... La SabanetaWakunai Airport ...Cove Neck NYMount Rinjaniwithin Inuvik NT Ulaangom Airport... KinkalaOkha Sakhalin I... Plattsburgh-Clin... Burlington Inter... Columbia Regiona... Panevezys-Pajuos... IbaguÃ©-Perales ...Winnipeg Interna...Bauru Airport S... Bangalore-Hindus...Siauliai Bergisch GladbachTaiyuan Airport ... Denver Internati... Caracas-La Carlo...Goma Airport (GOM) Leongatha VICKaabongJÃ¡szjÃ¡kÃ³halmaVershino-Darasun...Roatan Airport (...Las Mesitas Uvalde-Garner Fi...Carlsbad-McClell... Labuan Bajo-Muti... Utila Airport (UII) LevittownJuiz De Fora-Fra...Camiare Airstrip Gadsden Municipa... VÃ¦rÃ¸y-Stolport...Uelen Contadora Airpor...Khost KinshasaLuang Namtha Air... Bam Moosonee Airport... Tarbert Spafaryev Island Tuxtla GutiÃ©rre... Mareeba QLDManila-Ninoy Aqu... RodenbachAbarqu Capon Bridge WVPelly Crossing YTMabuiag Island A...Morobe Airport (...Yelgava Airport Unalakleet Airpo...Kenkiyak Altamira Airport...Fresno-Chandler ... DidcotThistle Lake NT Shurma Urzhum d...OcaÃ±a-Aguasclar...unknown airstrip Union IslandAruba-Reina Beat...Ponmudi Mountain...ShivrajpurSukhumi Airport ...Touba Airport (TOZ)Kinston-Stalling...Petrozavodsk Air... Bielsko Biala Ai...IberiaSaint-Yan-Charol... Stepanakert ShindandJuba Airport (JUB)RushanYunlinCalifornia City CAKacha Air BaseSibu Airport (SBW)LivnyFrunze Airport MoabiPavlodar Airport... MayagÃ¼ez San J...Pereira-MatecaÃ±...Morristown-Moore...Conroe-Montgomer...Saylla ChicoMarana-Pinal Air... San Luis Obispo-... Halmstad Airport...Crows Landing-Au...Lakeport CA Wynoochee Dam WARamsar Airport (...Kotlas Airport (... Kigali Airport (... Novosibirsk-Yelt...Tarakan-Juwata A...ZacapÃº AirportHuayna PotosÃ\\\\xad M...Kutaisi Airport ... Santiago-Antonio... Parkersburg WVHonningsvÃ¥g-Val...NyurbaLa EscaleraCalcutta-Netaji ...Stadlerberg Pohnpei VelichovskyCerro San NicolÃ... Koh Samui Airpor...Al Abraq Air Bas...Manantiales MD LibrevilleSebring Air Term...Syktyvkar Airpor...southern IranPunta Del Este A... Nairobi-Jomo Ken... ChalatenangoShakhtersk AirportSan IgnaceVilla GarzÃ³n Ai... False Pass AKIsle Of Man-Rona...Annaba Airport (...Corowa Airport ...Straussberg ?Lima Internation...Little Vermillio... MÃ©rida-A Carnev... Belo Horizonte MGVichy-Rolla Nati...Palembang Airpor...Qadisiyah Air Ba...Tuz Khurmatu Air...Al Bakr-Balad So...Beckley Airport ... Gorontalo-Jalalu... Ras Al KhafjiMonrovia Volos-NÃ©a Anchi... Ã\\\\x89pinal-Mirecour... Chihuahua Airpor... TaishaOtÃº Airport (OTU)Puerto Williams ... CazomboAvon Park Munici... MontevideoShayka Mayhar Ai...Shaykh Mazhar Ai... Shikoku IslandBaghdad-Al Mutha... Glenview Naval A... Valera Pinofranque Malanje San Diego-Brown ... BrasÃ\\\\xadlia Intern... Rash MishabNavoi Airport (NVI)Puebla/Huejotzin...Yelahanka Air St... MacasKaliningrad-Khra...Thutade Lake BC Brunswick-Glynco...Red Lake Airport... Nuku Hiva Airpor... Cocos Islands Ai...Brochet Airport ...Oxford-Waterbury...Hartford-Bradley... Bowling Green KYShreveport LACameron Lake BC Manado-Sam Ratul...Beni Airport (BNC)Irkutsk-2 AirportBauchi Airport (... Phu Toey Saint-Michel-des... MatthewtownSlavonski Brod BanyutanniPratica di Mare ... Puerto Plata-La ...Taegu Airport (TAE) Perekopivka Charallave-Ã\\\\x93sca...between Santa Ba... Chute des Passes... Simikot Airport ...Santa BÃ¡rbara d... Sukhov-2-i Mikh... Razdolnoye Ural... Sokoto Airport (...Ljubljana-Brnik ... YartsevoColumbia-Maury C...Denver Internati... Bellavista Airpo... Birmingham Airpo... Surkhet Airport ... Jeddah-King Abdu... Uraj Airport (URJ)In Guezzam Airpo... OlpoiPiano di Crixia ... Rarotonga Airpor... UricaniBig Trout Airpor... Dori Airport (DOR) Petrel Sakhalin... Imphal Municipal... UcharalPoliny OsipenkoMinturno GuryevSibuyan Island ... Sampit Airport (... Long Seridan Kota Kinabaluwithin southeastern Col... Tenterfield NSW KigaliEagle Lake TXVarazdinMount AreyGalcaio Lensk AirportBelvidere Center...Osijek Airport (...Lombok Khatanga Airport...Kiel-Holtenau Ai... Saint Petersburg...Cazombo Airport ... Jakarta-Halim Pe...Augusta State Ai... QuiriguaCalvi-Sainte Cat...Balashov AirfieldFlorence MTShelopuginoTumbang Miri East Sale VIC ... CFS Alert NU (YLT) Makhachkala Airp...Geneina Airport ...Grozny Airport (... Dakovo Destin FL Fort Worth Allia... Romeo MI Yartsevo Yenise...Scotts Peak TAS Komsomolsk-na-Us...Sena-Sofalawithin Papua New GuineaMilano-Parma Air...RiviÃ¨re-au-Saum... GuaratinguetÃ¡ A...Lubbock Internat...Ã\\\\x89lancourt VukovarNyurba ? Rome-Richard B R...Suva-Nausori Air...Heidelberg-Hands... Santiago de los ... GottrÃ¶raDekelia/Tatoi Ai... WanliVelsk AirportBundaberg Airpor... Saranac Lake-Adi...Lyakhsh PratoKomo Airport (KOM)VizcaÃ\\\\xadno MulegÃ©Cheju Airport (CJU)Elmira Regional ... Strasbourg-Entzh...Poste Montagnais... Dominica-Cane Fi... Elefsis Air BaseBatumi-Chorokh A... Sinj TurboCaetitÃ© BA Evansville-Dress...Dixon WY Guryev Airport (... Diouloulou Toledo-Express A...Mallcu Tlahualilo de Za...Bangui Airport (...Arequipa-Rodrigu...Teniente R. Mars...Eket airstripCarolita RanchMaasai Mara Nati...Estancia El Trom...Selawik Airport ...Wilmington-Airbo... KIRN VOR Etsouali Knoxville-Mc Ghe...Zilina Airport (...Marzeno NizhneyanskValleyStepanakertSwarupnagarGranada Airport ... Boothgarh Ludhi... Baykovo Maaten al-Sarra Orchid Island Ai...Goroka GapKyshik Nairobi-Moi Air ...Perris Valley Ai... Peruvian coast SavehBlewett Falls La...Cumuatillo Airstrip Taymyr LakeSisian Airportrural airstrip n... TucutÃ\\\\xad Mayaguez-Eugenio...Moscow-Vnukovo A... Anniston-County ...Marromeu Airport...Sheboygan Falls WIWilmington Airpo...PoltavskiyPantelleria Airp... Cruzeiro do Sul-...Cerro Copey Batu IslandDevonport Airpor...Sosnovyy Kostan... IyakachchiJumla Airport (JUM)Reggio Calabria-...Ukrainsky ConcepciÃ³n-Carr...BÃ¼chelNakhichevan Airp... \" Sana\\'a\" Colquitt LATbilisi-Novo Ale...Oostende Airport... Skopje Airport (... Ambon-Pattimura ... JubaSofia Airport (SOF)Icapara Iguape SP Kathmandu-Tribhu...Rensselaer INLviv-Snilow Airp... Schefferville QCMt ChacaltayaSokotoHomestead AFB F... Hot Springs-Memo... Ivanovo Airport ... MetapÃ¡nwithin GuamKaduna Airport (...Kharkov Airport ...Jamba Airport (JMB) SarajevoBellavista Airpo... Kechries CuraÃ§ao Caribb...UmeÃ¥ Airport (UME) Kalga Airstrip\"Base Bernardo O\\'...\" Union Valley Res...Bijlmermeer Ams... Berkeley Springs...Ruteng-Satar Tac... DingxiMogadishu Airstrip Kodra Makarov D...KostanayLake CaballochoaMogadishu South ... San Juan Ranch s...Patriot Hills Camp Dania Beach FL Tver-Migalovo Ai...Tulcea Airport (... Son TrungSan Luis Airport... Guilin Airport (...Southampton-East... Harlem MTChoibalsan Airpo... KushimotoPogapa Uruapan Airport ...Elkridge MD Goma Airport (GOM) Memmingen AlotauTolo HarbourLabuan Bajo-Muti...McCall Airport ...Faro Airport (FAO)Sierra Grande Ai... Paradip Bay of ...Hibbing-Chisholm... Paris-Charles de... Hermosillo Airpo... Surabaya Airport...Quebec Airport ... SellafieldKostanay-Nariman...Surabaya-Juanda ...Moscow-Tushino A...Lucknow (LKO)Bambu Airport (BCP)Al Taqaddum Air ...\"Kinshasa-N\\'Dolo ...\"Recife-Guararape...within Northern SumatraNairobi National...Kharasavey AirportAurillac Airport... GuvercinlikRzeszÃ³w-Jasionk...Gyumri-Leninakan... Orchid IslandBaffin Island NUSanta Rosa Airpo...Ã\\\\x89vreux-Fauville...Heidelberg Airpo... Geilo-Dagali Air... Hareto CuiabÃ¡ MTMuang Khon KaenVillahermosa-Car... Isla de la Marga... Shemya AKStepanavanGreat Barrier Is... LublinViranschirLucknow-Amausi A...Morioka-Hanamaki...Merced Municipal... Zephyrhills Airp...Florencia Airpor...within Zavkhan ProvinceMontpellier-Frej... Luena Aurangabad Airpo...Tashqurghan Libreville Airpo... Shelton NEPine Bluff ARMuskegon Airport...Cayenne-Rochambe...AtalayaEdmonton/Villene...Blair AtholKiriwina IslandGulgubip Airport...Green Island Air...Nabire Airport (... Tbilisi Manila-Ninoy Aqu...MitwabaSamara Airport (...within El Venadito Rive...AminiusJohannesburg-Jan...RamenskoyeMthathaBig Sand Lake Ai... Bombay-Sahar Int...Topeka-Forbes Fi...Tofino Airport ... Wainwright Airpo...Yinchuan Airport... Mokpo Airport (MPK)Byers KSBoise Air Termin...Long Loyang Sar... Bharatpur Airpor... El Fasher Airpor...Moscow-Sheremety... ValensoleYegoryevsk-Shuvo...Hartford-Brainar... Iliamna AK SlavgorodPÃ¡tras Krasnoslobodsk ...Sinop Airport M...Hailey-Friedman ... Boulder NVAl Ghaydah Airpo... Weston on the Green KhorogStrasbourgBarrancominas Ai...La Colina AirportTijuana-Rodrigue... Pecos NM Port BlairTanahmerah Airpo...Angora ColquemarcaKiev OsloVenice-Marco Pol...Troyes-Barberey ... Tyumen Airport (...NovoalekseevskayaBesanÃ§on-La VÃ¨... Gobernador Cresp...Kawthaung Airpor...Point Lay-Dew St...Jimi ValleyFranz Josef GlacierNiamey Airport (... Angra dos Reis RJFront Royal VAReno-Cannon Inte... Namsos Airport (...Lokichoggio Airp... Sandy Lake Airpo...Thorne Bay AKBekdash Urumqi Airport (...La Paragua Ohrid Airport (OHD) MolimaPatriot Hills Hibbing-Chisholm... Umiujaq Airport ...Vahun Tuktoyaktuk NTChicago-Dupage C... TucumÃ£ Airport ...Deer Lake Airpor...Tura AirportBerne-Belp Airpo...Milwaukee-Genera...NamatanaiIpoh Airport (IPH)PhonesavanhVorogovoDouglas-Daly Exp... Santa Ana-John W... Goodland-Renner ...Tanag Libmanan ...SuwalkiSitia Airport (JSH)Linz Airport (LNZ) Uraj Margosatubig Za...Ampuriabrava Air...Xiamen Airport (...Cuamba Airport (... Elorza Airport (... MamonyKuala Kapuas \" Kinshasa-N\\'Djili...\"Santa Elena Airs... Meadow Lake Airp...Hangzhou Jianqia...Puerto Inirida A...New Roads-False ...Cark AirportAnadyr Airport (...MÃ¼nchen-Franz J...unknown airport Nalchik Airport ...Cleveland-Cuyaho... Uttoxeter San JosÃ© del Ll...TrollhÃ¤ttan Air...Alicante Airport...Tumbes Airport (... Tamworth Airport...Pointe Noire Air... \" Val-d\\'Or Airport...\" Malindi CabindaKey West Harbor FL La MacarenaWagete Irian JayaBassett-Rock NEBassett NEVigo Airport (VGO)Weipa Airport Q... MezhduretshenskCiudad AlemÃ¡n A...Sevilla Airport ...Loma LozÃ¡n Hiroshima West A...Malange Airport ... Lokichoggio Airp... Nangapinoh Jacareacanga PA\"M\\'Banza Congo Ai...\" El RosalUp Park Camp SÃ£o Gabriel da ... BraganÃ§aBloemspruit Air ...Palana Bukoba Airport (... Puerto LlerasOktyabrskyCÃºcuta-Camilo D...Waukegan Memoria... Xian-Xianyang In...Mount KaloraTaku Inlet AKKirensk Fort Simpson Air...AichachLyon Satolas Air...Tidjikja Airport...Dera Ismail KhanSierra de Mariola Sunder Nagar Hi...Bad Kirchheim LyakhovoKherson Airport ...Boma Airport (BOA) Fort de France-L...Luanda ?? Colon-Enrique A.... SaborskoPurnema Arkhang...Eskisehir Airpor...Grenchen Airport...Olyokminsk Airport North Adams-Harr... Bada Air BaseJeju (Cheju) Int... Pearblossom CAVerkhnya TavdaHelena Airport ... TizounineNew Orleans-Lake...Puerto Pisana Aliquippa PAReno/Tahoe Inter...Samoyliha Shatu... Abuja Internatio...Fish Egg Inlet BCOradea Airport (... TarauacÃ¡ AC VanavaraPontianak Airpor...Bahia Negra Airp...Elista Airport (...ChaybukhaDenpasar-Ngurah ... NatanzFormosa do Rio P...within HuÃ¡nuco Ust-Ilimsk Airpo...Batagay Roselawn INOslo-Gardermoen ...Kajaani Airport ...Saposoa Airport ...Huambo-Albano Ma...Avenal CA Canobie QLD TabubilTallinn-Ulemiste...Rothera Research...Puerto la Victor... Majuro Marshall... Oslo-Gardermoen ...Nuuk Airport (GOH)Oyem Airport (OYE) Minami-Daito IslandFresno CALobito AirportFarmington Munic... OlsobipCerro Aicha Kiri Kasama Coventry-Baginto...Vrede Van Airport (VAN)Sarajevo Airport...BiliPort Sudan Airpo... Isfahan-Shahid B...Ã\\\\x85lesund-Vigra A...Toogoolawah Airp...Molo Strait Maria La Baja Flagstaff-Pullia... Masset Airport ...Newton Municipal...Pleasanton CATobolsk Airport ... NeuquÃ©n NENorth Angola Lubbock Internat... Krasnoyarsk Airp... Provedenia Airpo...AllendorfPaungassi MNKoundara-Sambail... Cafunfo Airport ...Almaty Airport (...Mys Shmidta AirportKuala Lumpur Int...Grajewo GostomelWauchula FLKansas City Inte... Oki Island Big Trout Airpor...Jasper-Hinton Ai... Gainesville-Lee ...Gillette-Campbel...Bom Jesus ACLac Manitou QC Baku Ossora AirportCap Haitien Airp...Tawau Airport (TWU)Lac Bondesir QC Masirah Airport ...Bandung-Husein S... Bucharest-Otopen... Kenema Airport (... Iquitos Airport ...Palana Airport OcchiatanaSanto Domingo-He...Espinal-Aguablan...LuziÃ¢nia Airpor...Tyugalbuga Nova...Dzhambul Airport...KikwangalaLima-J Chavez In... Alexander City A...Kivalina Airport...Qom Apolo San Salvador-Com...Halifax-Canadian...Walkers Cay Airp... Alice Springs Ai... Jaffna-Palaly AF...Sioux Falls ONNaha Airport (NAH)Taguatinga Airpo... Sibay Airport B...Comayagua-Palmer...Lukapa Airport (...Jayapura-Sentani...Bliss Canyon ID LossiemouthVitoria Airport ...Rogers Municipal...Nixon Fork Mine AKLielvarde Air BaseHohenems Airport... Palmerston NorthMagdalena de Kin... VolgogradTaitung Airport ...Jeremie Airport ...Keperveyem Airport Herpuchi Catumbela Airpor... Ramona CAHakodate Airport... La RomanaPastaza-Shell AFBBaroda (Vadodara...Medouneu Airport... Alotau-Gurney Ai... Zelyony LogBintuni Airport ... Independence NYDenver-Arapahoe ...Denver-Centennia... Karimui Airport ...Minneapolis-Flyi...Fane Airport (FNE) Labuan Airport (...Hangzhou Airport...Kumawa Mountains San SalvadorSierras Grandes CDMezhdurechenskNikolai Airport ... ToezCape Town Intern...Haifa Airport (HFA) Carrollton GARasdhoo Ari AtollPosadas Airport ... Thessaloniki Int...Murray Island Ai... Farewell AK Toronto ON Sydney NSWMontserrat ? ColomboWilcze Gardlo waypoint GURKASaint Thomas-Cyr...South Bend Regio...SkopjeOvda Airport (VDA)Salvesen Lake ONChoho Geologloh UulIn Amenas Airpor...Gruenerwinkel Mo... Campbell River BCGunung Antara CahorsMale Internation... MarungaBole Ponta Delgada-No... Ufa Airport (UFA) Piedras Negras A...Shymkent Cabu San LucasMosque Airstrip BC Villa Dolores CDEast Granby CTGuadalajara Inte... Jaffna-Palaly AFBUrumano JaffnaUncÃ\\\\xada Airport SantarÃ©m Airpor...Makovskoye Airfield Baku Airport (BAK) Nakhichevan Airp...Verkhnyaya ToymaMactan Grossevichi Verona Airport (... Cahungula Lunda...Ingleside-McCamp...BugaBegesin AirstripRancaguaNovy Urengoy Air...Novy Bor AirstripSaransk Eagle River Airp... Marco Island Air...Augsburg Airport...Spokane Internat...Nashville Intern... Kano-Aminu Kano ...RincÃ³n de Los S...Harare Airport (... BlenheimNairobi-Wilson A...Fazenda Matary MALuremo Airstrip Saint Johns Muni... Puerto Plata Do... Ensenada Airport... KawatanaPort-au-Prince-M...Morelia Airport ...El Zapotal CobÃ... Freilassing Baia Mare Airpor... Omsk BulwerBan Lung-Ratanak... Jabal Awliya Lukapa Arequipa-Rodrigu...Aarhus-Tirstrup ...Halifax Internat... BaguaZhuhai Airport (...Soroako Airport ... NjarÃ°vÃ\\\\xadkKuli PapaDatadawai Airpor...Derna-Martuba Ai...Nain Airport NL... Dubrovnik Airpor...Barisal Airport ... Matsu Airport (MFK) NouadhibouVirgin Gorda Air...Currumbin QLDKuujjuarapik Air... Anadyrsky LimanZhuravka Verhne...Palapala hills ...Meghauli Airport...Preah Vihear pro...Albuquerque Inte... Haj YousifSt. George Islan...Kenty Lake QC Terrace BCSanta Maria de O... Andoas Umba LinzTampico-Gen F Ja...Treasure Cay Air...Fargo-Hector Fie... Broome WAKanpur Airport (... Lerwick/Tingwall...Holitipu AirstripPing Tung Air BaseRibeiÃ£o Preto-L...Pisa Rasht Airport (RAS) YambioGorkaya Balka S...Hoogeveen Cochenour ON Madaniat Jos Airport (JOS)Cut and Shoot TX Weir TX Changhai Airport... BouaflÃ©Bamako Airport (...Villa Gladys Air...San Vicente de C... Mendi Airport (MDU)Ambon-Pattimura ... KandaPrÃ©veza-Aktion ...Eindhoven Airpor... East Moriches NY KalemiePlaya del Carmen...Enstone AirfieldRussian Mission ...Rosh PinahMyeik Airport (MGZ)Oran-Es Senia Ai...AtarLago FanacoCzama DabrowskaTlemcen Airport...Lubi Faroe Islands-Va...Luzamba Airport ... Offenburg AirportAuca Mahuida NEMarkham Bay NUNortholt Airport... Bronson Creek Ai...Sovetskoye Jackson Hole WY Alliford Bay BCPelinia Svalbard-Longyea... Queloz SPBryansk Airport ... Pittsburgh Inter...BahÃ\\\\xada Tortugas ...Ngau Island Airp... Den OeverIlaga Airport (ILA)Hampton Court Lima Peru Kahemba Morelia Airport ...San Francesco al...LiberecTaraira AirfieldCuiaba Airport ... Manta Airport (MEC)Puvirnituq Airpo...Chicago-Executiv...Gods River Airpo...Ust-Nera Airport... Ejirin Charki Dadri Charkhi DadriMost PyssaNaga Airport (WNP)Caruaru PE Richmond RAAF Ba...Quincy Municipal...Baykit Cape Mendocino ... Mitsamiouli Gra... Bethel AK Abakan Airport (... EbiniBronzewing Airpo...San Jose-McGuire...Ciudad del Este-...Nyagan AirportFort Chipewyan A... Stephenville Air...BoguchanyChevilly Andreapol Air BaseVillahermosa-Cap... Rionegro/MedellÃ... Narrows VA Dorchester NHDubaguntaKamur Airport (KCD)Kalima-Kakungwa ... Edenton Municipa...Nakina Airport ...Bullhead City AZ \" Apia-Fagali\\'i Ai...\" Monroe MIDjerba-Zarzis Ai...Kananga Airport ...Muscatine Airpor... Uberaba Airport ... Jaffna-Palaly Ai...Nelson Airport (...Nuevo Laredo Int...Chokurdah Airpor... Sparrevohn Airpo... Shushenskoye Yola Airport (YOL)Tambacounda Airp...Mount Balatukan QuibaxeUruapan Airport ...Antigua-V.C. Bir... Salta Internatio...Guangzhou Airpor...CarajÃ¡s Airport...Greenville Downt...Charallave-Ã\\\\x93sca... Salt Lake City I...Vilhena Airport ...La Ceiba-Goloson...ArdebilBarrie-Orillia L...Vavunativu Army ... Hampton GA La Felisa GuapilesAbu Dhabi Intern...Houston-Sugar La... MashhadNewton WI Cherkessk Juba Airport (JUB) Nunapitchuk Airp...Pucallpa Airport...Griffin-Spalding... Wainwright AKAbidjan Airport ...Verkhnevilyuisk ...Brazzaville-Maya... Niamey Airport (...Ossabaw Island GA Tanjung Pandan-B...Blandburg PA KÃ¢mpÃ³ng ChhnangParos Airport (PAS)Shenzhen Airport...SteynsburgPorto-Francisco ... Gyandzha Airport...Great Falls Inte... Monterrey-Aeropu... La Carbonera Luquillo Gorda AFB Luanda Airport (...Phaplu Airport (...Wuhan Airport (WUH) IrumuMandalgobi Airpo...Ottawa/Macdonald... Yelizavetinskoye Venetie AKWhite Plains-Wes... Madh Island Suzano SPBeiersdorfBandung Goroka Airport (...Naknek Airport ... RanongElko NVSerra da Mantiqu...Florence-Peretol...San Vincente Res... Guam-Agana Inter...Fajardo Airport ...Franceville/Mven...Thessaloniki Int... Dalton Municipal... Cocal do Sul SCGan Gan Airport NTSan CristÃ³bal A...Punta PÃ¡jarosAberdeen MSBondo Airport Miri Airport (MYY)Beijing-Capital ...Nejran Airport (...Buckland Airport...NguruMinembwe Mountains NamibiaChania-SoÃºda Ai... Medan-Polonia Ai... Montrose CO Nuevo Berlin Banjul JambaAmbato-Chachoan ...Jakarta-Soekarno...Sheboygan Memori...Canela Airport RSIsland Lake/Gard...Pokhara Airport ...West Memphis ARBryansk Internat... SimbaiMadison MSRÃ\\\\xado Grande Airp...Mwanza Airport (...La CeibaNorth Bay Airpor...Billings-Logan I...Webequie Airport... Irkutsk-2 AirportSioux Lookout Ai...Little Grand Rap...Naryan-Mar Airpo...La VertienteFredericton Airp... Thessaloniki Guerrero NegroPastra MountainColorado Springs... Sylhet Civil Air...between Abidjan ... Rio Sidra Airpor...Lubang Airport (...Monterrey-Genera...Gogrialeastern BoliviaHaina ?Puerto Plata-La ... Tampico-Gen F Ja...Malololailai Air...Maiden-Little Mo...Khojak Pass Brno-Turany Airp... Houston-George B...Lloydminster Air...Alghero-Fertilia...Saranac Lake-Adi... Port Heiden Airp... Cagayan de Oro-L...George Town-Exum... Navafria ChambÃ©ry Airpor...Stornoway Airpor...Beaumont-Jeffers...St. Moritz-Samed...Nasir AirportOakdale Airport ...Manistee-Blacker... Clarksville TN La Ceiba-Goloson...Mombasa-Moi Inte...Hwange Airport (...CistÃ©rniga Hsinchu Airport ...Orlando Executiv... Piura Airport (PIU) ZumpangoMarietta GA Bismarck Municip...GÃ¶dÃ¶llo Airport Resende Airport ...La Lope Vaalwater Calhoun GABarra de Tijuca ... NÃ©ma Airport (EMN) Nome Airport AK...Kendari Airport ...Hyderabad Airpor... Long Tieng Xian... ErdenetSanta FÃ©-Sauce ...Montreal-Mirabel...Fishers Island-E...Valencia Airport... Abidjan Airport ...Hog River Airpor... Reserve NM Bucharest Magan \" Ra\\'sal-Khaymah\" Florence KSPushkin Pelly Bay NURawlins Airport ...SaravenaBaie de Quiberon Kunduz Airport (...GomaKitonaKasabonika Airpo...Saurimo Airport ... LunocharskiBatam-Hang Nadim... GhorepaniPretoria-Wonderb... Tachilek Airport...Leticia-Alfredo ... Luanda \" Peggy\\'s Cove NS\" Malanje Airport ...Malabo Airport (...George West-Live...\"Saint Mary\\'s Air...\"Guadalajara-Migu...within Chiapas state Mona IslandEquador Loreto ... Melilla Airport ...Rwenzori mountainsFairoaks AirportPraia-Francisco ... MannarMaputo Internati...Missoula-Johnson...Zell am Zee Indian Church Rio Rancho NM Fortaleza-Pinto ... LubutuWallops Island VA Quetzaltenango Sommerhausen Victoria Interna...Kalemie Airport ...WarriAshburton Mena Intermounta...Iqaluit Airport ...Baie Comeau Airp... Surat Thani Airp...Nixon Fork Mine ...Vila Nova CafunfoCuritiba-Afonso ...ZrenjaninPancevoKilimanjaro Airp...Saint-Augustin R... Arakkonam Naval ...Mayne Island BCOlbia-Costa Smer...Geilenkirchen Ai...Cullman AL Coconut Island A... Bluefields Airpo...Hyannis-Barnstab...San Blas Airport... Luanda-4 de Feve...Porto Velho-Aero... KimbeBratislava-Ivank...Kinmen-Shang-Yi ... \" Saint Mary\\'s AK\"GrenouilletFoxtrot AirstripColumbus Airport...RuianMuskoka Airport ...Pohang Airport (...Mucuri Airport ... Davis Inlet Airp...Bata Airport (BSG)Rhodes-Diagoras ...Rogers ARTapauÃ¡ Airport AMGoroka Airport (... CeyhanRibeirÃ£o Preto-... MÃ¡laga AirportSimiti Irati PR ClÃ©cyJohannesburgFituita Airport ... Healy AKMandera Airport ...Waterfound Lake SK Port VilaLoma Bonita Air ... LuzambaHickory Airport ...Naser AbadEl Paraiso RanchBemidji Airport ...BerbÃ©rati Airpo...LeskovacKuching Airport ...Ol KiomboZhanjiang Airpor... Coron Airport (XCN)KukesThunder Bay Airp... Gorokawithin Xinjiang Province Agen-La Garenne ...Porthcurno AirstripLong Haul Lake MBSeraingMiddle Wallop Ar...Chengdu Airport ...Luzamba Sittwe-Civil Air...Toluca Airport (... Bluefields Orito DelailasakauArusha Airport (... Rhodes/Paradisi-... BrazzavilleArauca-Santiago ...Santo AntÃ£o IslandKetchikan-Waterf... Ran of Kutch Sept-Ã\\\\x8eles Airpo...Hillsborough NHLobutu Port Alsworth AKHong Kong-Chek L...Hualien Airport ... Turtkul AirportGulkana Airport ...Kopiago Fugwa AdwaSanta RosaCaen-Carpiquet A...Newcastle-Willia...Gerona-Costa Bra... Monte Dourado Ai...FIR Bucharest ZempoalaTulln/Langenleba...Gainesville-Lee ...Pekanbaru-Simpan...Norfolk Island A...Gaborone-Sir Ser...Ranger Lake ON Milano-Parma Air...Mitton AirstripSubic Bay Intern...Fayetteville Reg...Golfo di Genova Aberdeen SDUrmia (Orumiyeh)... PasniMbandaka Airport... La MontaÃ±ita C... Mitrovica TshikapaAnguilla-Wallbla...Benguela-Gen V D...Kwando AirstripMatak-Tarempa Ai... Bethel Airport ...Kasibu JoÃ£o Pessoa PB Branson/Point Lo...SÃ£o Jorge Islan... McMurdo StationGouldsboro PAWichita-Cessna A...Hamburg Aerodrom... Crisp County-Cor... Great Hallingbury Adjuntas Simra Airport (SIF)BejumaVillacoublay/Vel...La FertÃ©-Alais Abbotsford Airpo... IneboluSaint-BarthÃ©lÃ©...Abuja Internatio... Penang Internati... Nassenwil Marsa el-BregaChimore AirportGuayaquil-Simon ... Anacapa Island CAEnvira AM Mwanza Airport (...Filitheyo Seapla... Maputo Internati... Sacramento-Mathe...Sapporo-Okadama ...an airstrip \\'...VijaynagarFuzhou Changle I... CarretoEnnadai Lake Air...Killeen Municipa... Cubillejo Provi...Fox Harbour Airp... Buda TX Anuradhapura Air... GualeguaychÃº ERMarianna Municip...Minatitlan Airpo...Tomuzlovskoe Bu... Davao City-Franc...Pepa BukavuSiirt Airport (SXZ)Hancock-Houghton...Bapi Airport (BPD) Kurupung Airport...Monument Valley ... Kaunakakai HIBocas Del Toro A... Goderich ON Moanda Airport (... Wilkes-Barre PAErave Airport (ERE) Leopoldsburg Air...Lima-25 airstripKamituga Airport Peterborough Air...Kauai Island/Lih...Gisborne Airport...Astrakhan-Privol... Boca Raton FL Shimano Yellowknife Wate...Tacheng Xinjian... CagayancilloAmman-Queen Alia... ChulÃºm de JuÃ¡rez Pelion Mountain ... Patna Airport (PAT) Chisinau Linneus ME Mafraq-King Huss...Jarayakhali Hill Kulu-Bhuntar Air...Stevens/Nicklin ...within North-YeniseyMichimahuida Vol...Greensboro NCGeneral Acha LPSpanish Cay AirportTeslin Lake BC Ironwood-Gogebic...Kisangani Airpor...Baku-Bina Intern... Porecatu PR Bahrain Internat... Freetown-Lungi I...Rosario-Islas Ma...Arenal Volcano Pueblo Rico Ris... Burketown QLDRio Sidra Airpor... AubenasSan Pablo-Coasel...Hail Airport (HAS)Mbambanakira Air... Cuba Greenville MELa Grande-LG-4 a...Jinan Airport (TNA)Petrel-Burevestn...Reynosa-Gen Luci... Port Radium NTLummi Island WAMalagaRed Deer Airport... Sam NeuaConcord-Buchanan... BlumbergJedo Village ne... Mona QuimbundoCheboksary Airpo...Luebo AirportFort Wayne Munic...ChilangaUvda Air Force BaseBandar Abbas Datah Dawai Airp... CÃ³rdoba Bujumbura Intern...Charleston-Yeage...within GabonAnÃ¡polis Airpor... Kenai AKJackson Hole Air... Rangeley Municip...Charlottesville-...Malabo-Santa Isa... Zheng Zou Air BaseSchenectady-Coun... Mahdia Silimo Fort Worth-Meach... Parnamirim BATroy Municipal A...KayseriDjiboutiEider Point AKCiudad BolÃ\\\\xadvarSault Ste Marie ...Abu Dhabi Strasburg CODonlin Creek Air...RavennaLuena Airport (LUO)Sheffield City A...Beaver Island Ai... NÃ¼rnberg Airpor... JacobkondreJakarta-Pondok C...Sun Island Resort Granton Harbour Unadilla GAPohnpei Airport ...Donalsonville GAMadinah-Mohammad...QuilembaSaint-BarthÃ©lÃ©my Surabaya-Juanda ...Decatur-Bishop A...Ashwaubenon WIAdar Yel Malange Airport ...Las MajaguasGrande Prairie A... Nouadhibou Airpo... Tembo Kobyay AirstripStanitsa Nekraso... Plattsburgh Inte... Gorkovskiy Roque PÃ©rez BA Nagambie VICCooma Airport N...Nzagi Airport (NZA) Malatya Sari Myakotino Zubts...Metallurg Volgo...Victorville Airp...Salina Airport ...Cootamundra Airp...La Ronge Airport...Lake Minchumina ... BurdakovkaTitusville-Space... Viacha Puerto Cabello A...Zenino Veydelev... Chkalovsky Airpo...TulcÃ¡n Airport ...Colombo-Bandaran...Sitidgi Lake NWTSandersville-Kao...Itaituba-Fazenda...Kuujjuaq-Fort Ch...Mugogo Ithaca-Tompkins ... Piqua OH MÃ¡laga Airport ...Port Alsworth Ai... La Grande QCNapoli Airport (... Kapuskasing ON Laurinburg NC Tijuana Shanksville PA ChichÃ©n ItzÃ¡ A...Goose (Otter Cre...Tigil AirportDeadhorse-Alpine...Kapuskasing Airp... Adler Russia B... Polyarnyj Columbretes Isla...Basel/Mulhouse-E... Shamattawa Airpo...Honiara-Henderso...Roanoke-Blacksbu...Osh Airport (OSS)Osage Beach Airp...Ciudad Victoria ...Kirksville Munic...Southend Airport... Johannesburg Int...Belle Harbor NY Kalyazin KÃ¤rdlaChÃ©zyBuriti Alegre Ai... Port Harcourt Playa del Carmen QueposSkien Airport (SKE) Bessemer Airport... Novaya InyaBremen Airport (...Sunny Isles Beac...Lawrence Airport... Sierra Blanca TX Mount Gambier Ai...LidkÃ¶ping-Hovby...Geti San Antonio de P...Belo Horizonte-T...Long Bawan Airpo...Lhokseumawe-Mali... Bremerhaven Airp...Anchorage-Ted St...Birmingham Inter... Shamsi ZaldÃ\\\\xadvarPekanbaru-Sultan...Chilpancingo Air... YokyakartaCerro El Tigre Beef IslandGuayaramerÃ\\\\xadn Ai... IpialesKavak AirstripRapid City-Ellsw... Isla Larga Los ...Camden-Harrell F...Novato Airport ... Twentynine Palms... Sarab-e Do RahHindu Kush mount...Sarsura Glacier ... Monrovia-Roberts... Mbuji-MayiSan Juan SJHobo Lakhta Air BaseHeglig Parkes VORMozdok Rocca di Mezzo Placetas Alma WIElk Island MB Djibouti-Ambouli...Elliott Bay WATervelCasper/Natrona C...Sabang-Maimun Sa...Weston-on-the-Gr... Pusan-Kimhae Air...Sun City-Pilansb...Mara Ngerende Ai...Wetar IslandKostandenetzPopayÃ¡n-Guiller...Leakey TX Tunis-Carthage A... Dalian Pensacola FL G...Grand Island Air... Calabar Airport ...Lake Casa Blanca... Penghu islands ... George Wichita KSLovozero AirfieldAnholtNeiva-Benito Sal...Maastricht/Aache...Walker CAGeorge Lake MBShimojishima Air... Dubovoye Lipets...Lac Cojibo QCÃ\\\\x9cberlingenBanguiWerneuchen Long Bawan Airpo... Estes Park COMugumo Coffee FarmPimu Airstrip Caguas Sladkiy Liman K...Big Bear City Ai...VagaiMuyowasi-Murungu...Kadjuduwa WattaKarachi-Quaid-E-... PokharaDiavik Airport ... Ayan Rio Branco-PlÃ¡c...Birigui SP XichangSilimoAndros Town Airp...Mahe Island-Seyc...Inongo Airport (... Paranapanema SP Shalinskoye Natashquan QCHawthorne Airpor...Basel Switzerla... Goa-Dabolim Airp...Dexter Regional ...Santa Cruz do Su...Teesside Interna... Paderborn-Lippstadt Spanish Fort AL Eveleth-Virginia...Monterrey-Gen Ma...Sligo-Collooney ... NiederanvenKome Juwata Parks AZ Taos NM Antalya Airport ...Sandspit Airport...BrasÃ\\\\xadlia-Kubits... Ol Kiombo Airstrip Mombasa-Moi Inte...MarÃ\\\\xadlia SPAstoria Airport ...Xian-Xianyang Ai...Guam-A.B. Won Pa... Brisbane QLD Mena AR Birmingham TepTep Rockford-Greater... Makung City Pen... BaghrabadAberdeen-Dyce Ai... Manteo-Dare Coun... Windhoek Anjouan San Pedro Airpor... Nikolai AKbetween Bocas de...Tezpur Air Base ... Diyarbakir Airpo... Medford OR ChachapoyasEden Lake BCGorontalo-Jalalu... Pattaya Airport ...Melilla Airport ... NdjolÃ©Kipnuk Airport ...BusiaSan Angelo-Ducot...Rio Branco-PlÃ¡c... Pikangikum ON Baucau-Cakung Ai... El ParaBrasschaat Air Base KohatBlenheim Woodbou... Borki Kotzebue Airport... Creswell ORTamanrasset Airp...Kinston Regional...Rumbek Airport (...Ningbo Airport (... Carey IDObuasi AirstripBadiraguato AirportSantos Air Base ... El Paujil MallorcaOujda-Les Angade... MuliaRumbek Fitchburg Munici...Al TaqqadumUrgench Airport ...QumSredny Island Chetumal Airport...Dhaka-Zia Intern... Prince Albert SK Loma Alta TXOcaÃ±a-Aguas Cla... Lorain County Re... Coffs Harbour Ai... SangaraHouston-West Hou... Lac du Bonnet MB MaÃ§ka Milano-Linate Ai...Lake Wicksteed ON Porto Belo Farm RJNueva Gerona-Raf...Jaffna-Palaly Ai...Groningen-Eelde ... Brest-Guipavas A... Rudshour Rooisand Desert ... Myachkovo Airport BahÃ\\\\xada Ballena Port Sudan San Cristobal Cranbrook BCMount KenyaOak Harbor WASorocaba SPUlu mine strip NTWelzowTocomita Pyongtaek-Deside... Oyonnax Esine Barrow AKSt. Augustine Ai...Old Fangak Cap Haitien Airp... Hyannis MA MÃ¥lÃ¶ga Cayey Summer Beaver ON CaniÃ§al Madeir...LankeinWick Airport (WIC) La QuemadaDel Rio Internat... Beaumont TX Fort Pierce-Sain...LiÃ¨ge-Bierset A...Bocas del Rosario ParaparaumuEast Highlands CA Amakinskaya Uriman La ParaguaTarauacÃ¡ Airpor... Las Potrancas Ra... Cody-Yellowstone... Kamina Airport (...FlorianÃ³polis-H... Ogle Airport (OGL)Mineral Wells Ai...Grand Junction-W... Lanseria Airport... Baghdad Internat...Kano-Aminu Kano ...BodÃ¸ Airport (BOO) Atlanta-Newnan C...Barangay Dinapna... Jellicoe ONWausau-Central W... Suc-et-Sentenac MitÃº Helendale CAMzuzu Airport (ZZU)Tokunoshima Airp...Terrace Bay Airp... Sharm el Sheikh MÃ¼nchen-Franz J...Sturt Island Pelee Island ONMulia Airport (LII)Dakar-LÃ©opold S... GhardaÃ¯a-NoumÃ©...Akron/Canton-Ful...Reus Airport (REU) Green Island QLDToksook Bay Airp...Attawapiskat Riv... Mostar Airport (...HolguÃ\\\\xadn-Frank P... CelayaLac Sainte Croix San Diego-Mirama... Tonopah-Test Ran... Mto wa MbuUtica-Oneida Cou... Punta Gordawithin Pavlovsky distri...ShabundaPuerto Esperanza... Belize CityDaytona Beach FLLa Romana Airpor...Chibougamau/Chap...Trieste-Dei Legi... Helena ARMelo Airport (MLZ)Chimanta MountainsCarepa-Antonio R... VallecillosJiech Jonglei S...Ganes Creek AK TatalBozoy Mwingi LuklaLas Vegas-North ...Kigali Internati... Genichesk Khers...Rupert WV Kodiak Airport ...Dipneedle Lake ONChitral Airport ...Las Gaviotas Air...SiglufjÃ¶rdur Ai... Moskva-Myachkovo...SÃ£o SebastiÃ£oSaint Vincent-E....Green Bay-Austin...Canol Road Mile...Yaroslavl Airpor...Chamadouro Sant... Beef Island Bri...Fort Vermilion A...Nevis-Newcastle ...Ã\\\\x98stre Ã\\\\x86ra AirportEl Jaguey Punto FijoZhengzhou Airpor...Mexicali Airport... OnongeBeni MaviviSan Carlos de RÃ...Santa Cruz-Viru ...Playa de la Vent...Freetown-Lungi I...Orlando-Herndon ...Punta Gorda-Char... Panama-Albrook M... Neihart MT Goma MaracayDinslaken-Schwar... Buchalki GlubokiVenice Airport ...Gisenyi Airport ... VillahermosaGeorge Airport (... Gwinner-Roger Me...Hallo Bay AK Fullerton Munici...Wilmington-New C... Vega BajaLong Lake ONKrasnoyarsk regionMidland Internat... HegligSylhet-Osmani In... KinduJefferson City MO Coron Kirksville Regio...Loiborsoit Villa...Lanzarote Airpor... Lake Michigan MI New Providence I... Inverness Stuart VANetheravon AirportSharjah Airport ...Menzel Lejmat Northwithin South-Eastern Es... Baotou Airport (... BagramSolo City-Adi Su...Howell Island MOSt-Georges de Be...North Miami Beac...McAllen-Miller I... Bellevue IDBucharest Baneas... Tulsa Internatio... El JunquitoBay View-Rancho ...Puerto GaitÃ¡nCedar Rapids Air...Qayyarah Airfiel...Ainsworth Airpor...Banda Aceh-Blang...Andahuaylas Airp...Goa-Dabolim Airp...BukalazaCali-Alfonso B. ...Logan-Cache Airp...Keene-Dillant-Ho... ColquiriKongoloOviedo/Aviles-As... Iasi Airport (IAS)Kansas City-Char... Al TajiBergen-Flesland ...Bromont Airport ... Wobagen Airstrip Sarmi Airport (ZRM)Enarotali Airpor... El Devanador Tz... AguachinaImpfondo Airport... Belize City Muni...Tupelo-Regional ... Campbeltown-Mach... Varandey Airport...Forte dei MarmiWinnipeg-James A... SakhankaProvidencia-El E...Caracas-SimÃ³n B...PapelÃ³n RovieMukalla-Al-Rayya... KampeneCoca Airport (OCC) Enarotali Chico CASavusavu Airport...Bagay-Baranovka ... PiscoHammerfest Airpo... Stratford Lockhart River A...Kolyadinets Exuma Internatio... Mongu Airport (MNR)Punta Cana Airpo... Biega Zacapa Airport Rittman OH Fort Lauderdale-... El CallaoKalima Airport (...Yellowknife Wate...Matemo Airport Kapoeta AirportChittagong-Shah ... BaneyOld Bridge Airpo...Caticlan-Malay A... Globe-San Carlos... Hierba Buena Shovelnose Creek... CalviLouie Lagoon No...Louis Lagoon BC MukallaArak Airport (AJK) Grammatikos Puerto Ayacucho ... MachiquesRapid Lake QC Durban-Virginia ... Pucallpa-Cap. FA...Deerfield Beach FLLorain County Re... Zielona GÃ³ra Isiro-Matari (IRP)MurambiSamarindaMae Sot Airport ...Alto da Boa Vist...Lake Charles Mun...May Creek YTAru Airport Winnipeg Airport...Rio Negro AMMumbai-Chhatrapa...Lac La Biche Air...Ogdensburg Airpo... Round Rock TX LabozhskoeLisa Village Og... Unalakleet AKSacramento-McCle...Dong XuyenKorla Airport (KRL) Manchester Munic...Khak-e Shahidan South Hampton NYHamilton-John Mu... Privacion Airstrip StupinoRatanakiri-Ban L...Grobnik AirportSinabang-Lasikin... Orangeburg Munic... Tamarindo Airpor...Valleyview Airpo... NardaranIstanbul-Sabiha ...PokolaZalingei Paparo Truckee Airport ...FatakiMinocqua-Noble F... OrumiyehPuerto JimÃ©nez ... Villanow GA Freiburg Im Brei... Hejce Port Alberni BCCaloundra Airpor...Burnsville-Mount...Myrtle Beach-Gra... Watertown WIJuneau-Dodge Cou... Paris TNAweil Airport El Peten BuschinLubanimangaArekunaNasiriyah-Tallil... Cuenca-Mariscal ... Payam Airport (PYK) Oak Glen CA Rio Bonito RJLeszno-Strzyzewi... Marsabit KozlovetsHaydomKoussÃ©ri TerskyBost/Lashkar Gah... ChalkisAmisi AirportMargarita MountainZwedru Airport Mersin La Ronge Airport...Murfreesboro Mun...Myrtle Beach Int... SÃ£o TomÃ© Islan... Krepsko New London-Groto... YaocunManassas Regiona...NecoclÃ\\\\xad Airport...Managua Internat...Bandanaira Airpo...Rionegro/MedellÃ... Anyang VORAbÃ©chÃ© Airport... Taiynsha Jumla Airport (JUM)Upland-Cable Air...Barcelona-Gen J ...Saint Paul Islan...DunaÃºjvÃ¡ros Ai... Vilanculos Airpo...Canberra Airport...Bajura Airport (... Patroklos IslandBarragem da Agui... Sake Multan Airport (...Gvardeyskoye Air...Hamilton-Ravalli...Kigoma Airport (...Al Asad Air Base Cresco-Ellen Chu...Limanskoye Semarang-Achmad ...Spanish Fork-Spr...Sullivan Regiona...Riceboro GABerners Bay AK Bennington-Willi... Puerto AyacuchoSÃ£o Paulo\"Novobrats\\'ke Bu...\"TorcoromaGrain Valley-Eas...Rtishchevo Air Base Salta-MartÃ\\\\xadn Mi...Wainwright Airpo...Kahuzi-Biega Nat...Nangungu Vande Ikya Peixoto Azevedo MTNovo Progresso-C...Decatur Airport ...Kikwit Airport (...Stord-SÃ¸rstokke...MamitLeonardtown-Sain... Aranchi HengshuiFalsterbokanalenPunta PÃ¡jaros A...Newark-Liberty I...Alek AirstripNakhon Sawan/Tak...Norway House Air... WalikaleVeloorBukavu-Kamenbe A... ProgresoAncona-Falconara... Leticia-Alfredo ...West Point IslandSiberiaAltamira Airport...Montreal-Pierre ... Mindelheim-Matts...NovolazarevskajaFlamingo BayKenana Pie de la Cuesta... Gari Sverdlovsk... Tauranga Airport...Santa Teresa-Don... Rapid City Regio...Carat Lake NU CuliacÃ¡n-Fedl d...Long Layu AirstripAgadÃ¨s Airport ... PambauangSandy Bay Airpor... Balad Air Base Guadalajara-Migu...Fort St. John Ai...Sangata-Tanjung ... Nenana AKJelenia GÃ³ra Ai...Johannesburg-O.R...Butler County/K....Pau-Uzein Airpor... Woodland Park CO Cape Girardeau A...Yahurabila Belgrade  MT North Caicos Air... Suba-Basbas Alliance Airport...Berbegamau Airst... Al-AmarahLas Palmas-Gando... Ruhnu AirportKochi Airport (KCZ)Ostromechevo Br...Kish Island Airp...Beverly Airport ... Mogadishu Intern...Rifle-Garfield C...Hampton-Newport ...La Paragua AirportSanford FL KandrianBelize coastAnjouan-Ouani Ai...Traverse City-Ch...\"Governor\\'s Harbo...\" Kopinang Hamilton-Ravalli...Dillon Airport ... El-ThamadTrenton Canadian...Billings-Logan F...Acarigua Airport... Pampa HermosaAcaricuara Airpo...KizotaMayo Airport YT...Laramie Regional... KaminaKarakuzhurAn Naeem AirstripPhnom Damrey Tehachapi CAVenice-Treviso A...BouakÃ© Airport ...Conway-Dennis F....CuliacÃ¡n-Fedl d... Connemara AirportMuncho Lake-Mile...Stanley IDSanta Marta-SimÃ... BandunduAntabare Airstrip DilesosAcciano ShinilePaloich Airport Puerto ConcordiaGarissa Airport ... Moorea-Temae Air...Dominica-Melvill...Busan-Gimhae (Pu... Farmingdale-Repu...Antalya Airport ...London City Airp...Pasto-Antonio Na...Westhampton-Fran... Kongolo Airport ... Dostukwithin Helmand ProvinceDawei Airport (TVY) Punia Airport (PUN)Berbera Airport ... Cross City Airpo...Vilnius Airport ...Danbury Airport ...Atlanta-DeKalb P...Phuket Internati...Mystic Lake Lodg...Kamburu Airstrip TixkokobMalemba NkuluLake Durusu DÃ¼sseldorf-Dorm... Naches WA Santo Domingo Ai... CubarralOlathe-New Centu...Guadalcanal-Los ...Goodland-Renner ...Chibougamau Airp...Butuan Airport (...Panama-Albrook M...Malang-Abdul Rac... SÃ£o Paulo-Campo... Santa Elena Chino Airport C...Santa InÃ©s Isl... Isparta Airport ...Corozal Airport ... Columbus-Rickenb...CorentyneSalmon-Lemhi Cou...Newcastle-Vance ...Vernal Airport ... Chub Cay BahamasMt. Patterson Nyala Bahia PiÃ±a Los Roques Airpo... Trbovlje Lihue HI Bailundo Miroslawiec Air ...Teresita Airport Long Apung Airpo...Bulawayo-Joshua ...Sugapa Airport (... Augusta State Ai...Ankeny Regional ...El Prado El SeyboNuquÃ\\\\xad-Reyes Mur...Christchurch Int...Leesburg Executi...Los Roques Airpo...Yerevan-Zvartnot...Washington-Ronal...Caico SecoRas Al Khaimah I...Putao Airport (PBU)Kayenta-Peabody ... Consuega Oklahoma City-Wi...Lanzhou Airport ...SÃ©tif-Ain Arat ... Bushi Village O...Udaipur-Dabok Ai...QuÃ©bec City Jea...Limoges-Bellegar... London-Biggin Hi...Odense-Beldringe...Lawa-Antino Airport Mwanza (HTMW) Comodoro Rivadav... Nain NLChisinau Airport... Tumeremo AnnobÃ³n IslandCoari Airport A...Doro Airstrip Talkeetna AKWajir Airport (WJR)Port Heiden Airp... RumbekAda MI UlmeniLac du Bonnet MB Boguchany Lubbock Preston ... Chelyabinsk Airp...Kearney Regional...Greensburg-Decat...Novoternovskiy La JuntaSidra AirstripKisangani-Bangok... ChifengMathiang Airfield Betz OiseKrems-Langenlois... Tegal Lilin Gryzlov DmitrievskayaDivinÃ³polis PA CochamÃ³Stefanesti Saltillo-Plan de... Puerto Montt-Mar...Kichwa Tembo Air...North Ari AtollHook Lake NWTManchester Airpo...Estancia Esperan...West Chester-Bra...Owatonna Airport...Guadalajara-Don ...Reading Municipa... K-50 AirportLa Tortuga-Punta... Santo Domingo Moab-Canyonlands... Bishkek-Manas In... La Puente CabaÃ... Barangay Bukana ...Jambi-Sultan Tha... Boguchany Krasn... Toacaso Carlsbad NM Bukavu-Kavumu Ai...Telluride Airpor... Reno-Stead Airpo...Efogi Airport (EFG)Buturlinovka Air...\"Ba\\'kelalan Airpo...\" Perm Airport (PEE)Columbia Metropo... PedernalesBridgewater Air ... Barberton Learmonth WA A...Lukla-Tenzing-Hi... Bauru Airport S... Nyala Lodge Airs... Toksook Bay AK ... Punta Chivato Ai...Fak Fak Airport ... Verkhnyaya Pesha...Stony Rapids Air... Al-Taqaddum Air ... Gods Lake Narrow... Canet-PlageFort Smith Airpo... Atlangatepec Air...CapurganÃ¡ Airpo...Ewer Airport (EWE) Cambridge Bay Ai...Caribbean Sea o...Celaya-CapitÃ¡n ... Olpoi-Lajmoli Ai...Chautauqua Count...Lewistown-Sharpe...Telluride Region...Tony Camp IntutoBosaso-Bender Qa... Weehawken NJ H...Casablanca-Moham...Island Lake MB ...Lubbock Preston ...Mojave-Kern Coun...Trigoria Santo AntÃ³nio ...Boma AirstripEskisehir-Anadol... Buffalo Niagara ...Heraklion-N. Kaz... Kotzebue-Ralph W... Isfahan/Shahin S...Guasdualito-Vare... Bishkek District...Timisoara Airpor... San Miguel Truj...Maridi Airport Bidadi Entebbe Airport ...Dolinsk-Sokol Ai...Gdynia-Babie DolyBarangay San Mig... Wamena (WMX)ThulakhÃ´m districtCanaima Airport ...Banjul-Yundum In... Stockton UTMassamba Bandun...Oi (Nemyugyuntsy... Seongmu Air Base Dornum Mashhad Airport ...Dire Dawa-Aba Te... Madiun-Iswahyudi...Porto Seguro-Ter... Isiro-Matari Air...Quevedo Airport SÃ£o Pedro and S...Halaveli Resort ...Gryttjom airfiel... Port Hope Simpso...Rinchi village i...Kadamdzhayskom ...Lanseria Interna... Primorsko-Ahtars...Pologi Zaporizh...Salerno FOB Wamena Airport (...Wangerooge Airpo... Mitsamiouli Great Barrier Is... Sarif-Umra AirstripBimini Internati... QazvinMetropolitano Ai...Mashhad-Shahid H... Constable Point Oksibil Airport ...Koh Samui Airpor...Bairro de Almeir... Taiping Airport ... Brazzaville-Maya... La TortugaLas Vegas-Nellis...Zarafshan Airpor...Verona Airport (...Long Apung Bulu...Ruidoso Municipa...Onikeevo Kirovo...Serui-Sudjarwo T...Sheffield MAHayward Executiv...Savoonga Airport... Varamin Durban Internati...Ozuki Airport Aurora TXUmgalala Airstrip Fonds-VerrettesLas MinasAngra dos Reis A...Nuristan Province Managua-Augusto ...Kwamalasamutu Ai... Bonaire-Flamingo...Pamalican Island... Benavides TXOsaka-Kansai Int... Aldeias AurÃ©lio... Mirny Airport (MJZ)Ali Air BaseFort Pierce-Sain...SinkrebakaIvanovo-Severny ...Greenville-Spart... Windhoek-Eros Ai...Saint-Jean-de-Th... Norfolk Island A... TarakignÃ© 30 k...Le Rene  Co...Shanghai-Pudong ... Saint-HonorÃ© Ai...Isabel-Pasar Air... Matthew Town Gr...Tonj AirfieldMakassar-Sultan ...Kingston-Norman ... Vomo IslandSomerset-Lake Cu...Heglig Airport Chicago-Executiv...Piajo Airstrip ...Nassau-Lynden Pi...Moba Airport (BDV)Beagle Bay Airpo... Sand Point Munic... Senador JosÃ© Po...Waterkloof Air F... Cotabato-Awang A...Mazar-I-Sharif A...Grenoble-Saint G... Balikpapan-Sepin... Reinhardtsdorf-S... Kwigillingok Air...Sacramento Inter... London Gatwick A...Kodiak Airport ... Tallinn-Ã\\\\x9clemist...Jeffersonville-C...Moncton/Greater ...Huatulco-BahÃ\\\\xadas... Smolensk Air Base Morganton Fanni...Melville Island NUManokwari-Rendan... Monterrey Intern... SaranskKangel Danda Air...Barangay Laput ...Arlit Airport (RLT) Marianivka Frun...MitÃº-Fabio Albe... Goryachy KlyuchBrize Norton RAF... Alert Ellesmere... Osypnoi Bugor vi... PoeketiBiscarrosse/Pare...Salang PassSan Pedro Catac... CaxitoKabul-Hamid Karz...Sharana Air Basewithin PeruPuerta del Este ... Felipe Carrillo ...Brac Airport (BWK)Little Peconic B... Chiclayo-Capitan... Mintom QuÃ©bec City Jea...Sarybulak North...Broomfield-Rocky... Voznesenskoye N...Tuzla AirfieldOshkosh-Wittman ... Islamabad-Benazi...Conakry Internat...FOB Dwyer Helma... Lytton BCMount Healy nea... Igarka Airport (... KumushkinoPori Airport (POR) Aleknagik AKSan Andres Islan... Yichun Lindu Air... Bastipur Shikha...VitÃ³ria da Conq...Guardatinajas F...Misima Island Ai... Dubai Airport (DXB) SperlongaAnse-BertrandIzhma Airport Uribe MetaSandnessjÃ¸en-St...Montmagny Airpor...Manteo-Dare Coun... Kirensk Irkutsk... CoatzacoalcosMukinge Airport Bugulumisa Santa Isabel PAKirby Lake Airpo... Wami Guasimal Sancti... Batam IslandInuvik-Mike Zubk... Karachi-Jinnah I...HuÃ¡nuco-AlfÃ©re...Guerima AirportGeorgetown-Chedd...Zalingei AirportBunger HillsSan Fernando Air... Demnate Sri Chaur Villag...Sanikiluaq Airpo...Uktus Airport Krasny Oktyabr ...Maple Creek Airp...Istanbul AtatÃ¼r...Springfield-Abra...Montpellier Lan... Urmia (Orumiyeh)...Hoedspruit AFB (... Senador Canedo GOMuncho Lake/Mile...Tharjath AirstripEl Capricho areaSulaymaniyah Int...Cork Airport (ORK) Tanjung Pinang-K...El EspinoMont BiegaAppleton-Outagam...Pachuca-Ingenier...Forli Airport (FRL)Garbuzovo Belgo...Union Island Air... Clayton County A...Sendai Airport (...Saanen AirfieldLong Beach Munic...Tripoli Aiport (... Pointe Noire Air...Manas County Hu... Dibrova Zhytomy... Mayo YT Saskatoon Airpor...Roswell Internat... Loxley ALUst-Kamchatsk Ai...Montserrat-John ...Lengpui Airport ...Loreto Airport (... Kaimana-Utarom A...Rotterdam/The Ha... Atqasuk AKSofiyivka Ipatov... Prahuaniyeu RNPort Hueneme-Poi...Barra do Vento A... Bettles Field AKNome Airport AK...Manta Airport (MEC)Postville Airpor...Cold Bay Airport... Gray TNNashville-John C...Vladikavkaz Airp...Toronto-Buttonvi... Beregovoy Amur ...Pukatawagan Airp... Bagram Air Base ...Kielce-MaslÃ³w A... StrezhevoyBiyaadhoo Traini...Opa-locka Execut...Warszawa-FrÃ©dÃ©...Kei Mouth Easte... Goulimime Airpor...Bichevaya Jeju South Kore... Bom Jardim da Se...Kasba Lake Airpo... AfghanistanTodzhi district ...Lawas Airport (LWY) Neschadinovskaya...Cochin Internati... Magan Yakutsk r... Nightmute AK Isla RobinsÃ³n C... Kostyukivka Vin... Yaroslavl-Tunosh... Notnare Village ...Bruchsal AirfieldUtila Airport (UII)Valencia-Arturo ... Milot Heitman Lake AKPuerto Ordaz Air... Kutacane-Alas Le...As Sidr AirportAtlanta-Newnan C...Utsingi Point G...ManhuaÃ§u-Aeropo... Zasovkaya Krasn... Madang Airport (...Xakanaka AirstripSurat Gujarat Ai... Novy Urengoy Air... GoiÃ¢nia-Santa G...Dhorpatan Bowan...Al-Anad Air BaseErzurum Airport ...Shabunda Airport\"Guri\\'el Airstrip\"Warroad Airport ...Talcha Airport Bilogai/Sugapa A...Larat-Watidar Ai...Atlanta Hartsfie...Mingoro VillageMesquite Airport...Walan Rabat Land...Karachi-Jinnah I... Kitakojima Island NamoyaWheatland-Phifer...Bukavu-Kavumu Ai...Kalibo Airport (...Craiova Airport ...Tanay Airfield ... Manaus-Aeroclube... Egelsbach AirportPaulding Northwe...Laguna Caballoco...\"Deadman\\'s Cay Ai...\"Mount KebnekaiseFranklin-Macon C...Blue River Airpo... Byelaya Kalitva ... Puerto Aguirre Abalone Caye Po...Tokyo Haneda Int...Yida AirstripDÃ¢rvari Knyazhichi Sumy...Laguna SaladaEugene Airport ...Galkayo Airport ...Dhaka-Shahjalal ...Yambio Airport Jomsom Airport (...Sasereme AirstripHouston-George B...GÃ¶dÃ¶llÃµ AirfieldCÃ¡slav Air BaseThe Diplomat Gol... Tampa-Mac Dill A...LÃ©zignan-CorbiÃ...Mumbai (Bombay) ... Modena Iron Cou...Minden-Tahoe Air... Isla de Flores ...Aspen-Pitkin Cou... Borodyanka AirfieldAntigua-Coolidge... Serov Sverdlovs...Vanimo Airport (...Sandy Lake Airpo...Pweto Airport (PWO) La Leona Tocaima...Tver-Migalovo Ai...Hotan Airport (HTN) Edgemont SDEl Palomar Airpo...Conrad Maldivian... Nouakchott Airpo...Le Castellet Air...Saint George Mun...Elban Amur regionBolshoe Gryzlovo...Cambridge Airpor...Juiz de Fora-Fra...St. Gallen-Alten...Kamra-Minhas PAF...Magong Airport (... TalodiNgerende Airstri... Jhuosi Hualien ...Bydgoszcz Airpor...GaspÃ© Airport ... Palana Airport Bornholm-RÃ¸nne ...Macon Downtown A... DumaNew Haven-Tweed ...Dolpa Airport (DOP) Ivdel Sverdlovs...Dmitrievskaya K... Omdurman KhartoumSÃ£o Paulo/Campi...Nifty Airport W...Shindand Airport...Bir KalaitButembo Airport Wichita-Mid-Cont... Saint-Germain-du...Murcia-San Javie...Bratislava-M. R....Greenwood County... Snow Lake Airpor... \" Sana\\'a Internati...\"Yugorsk-2 Airfield Bryans Corner OK Mekoryuk-Ellis F...\"Giant\\'s Castle ...\"La Yesca Airstrip Detroit Lakes MN Iturbidewithin AfghanistanTomas District ... Libby Airport MTHoltanna Glacier Heho Airport (HEH) Shymkent Airport...Caia Airport (CMZ)between Los Roqu... Pellston Regiona...Mount ElizabethOkiwi Station Ai... Almaty Airport (...Knyazhin Zhytom...Muscat-Seeb Airp...Salta-MartÃ\\\\xadn Mi...Thomson-McDuffie... Rybinsk Airport ...Ponta Delgada-Jo... Annemasse Airpor... Pias Airport Dillingham Munic... South Bend Regio...Djolu Airport Vostochnaya Ust...St. Anthony Airp...Lyon Saint-ExupÃ...Walaha Airport (...Seoul-Incheon In... Zacatecas-La Cal... Chaldovar Valencia-Arturo ...northeast coast ...Strehaia TernateMcMinnville Muni... Chernolesskoye ... Shenyang-Taoxian...Mong Hsat Airpor...Forward Operatin... Jyl-Kol Jalal-A...Varna Airpot (VAR)Simikot Airport ...Davao City-Franc... Baton Rouge Metr... Cookstown Airpor... \" N\\'GaoundÃ©rÃ© Ai...\" Saint-Mathieu-de...Chino Airport C...Marsh Harbour In... FertÃ¶szentmiklÃ... Terenozek Kyzyl...Seronera Airport...Moosehead Lake NLSoldotna Airport... Matthews Ridge A...Shieli district ...Isla Perico Pan...Pyatikhatki Kra... Shakhty AirportLubumbashi Inter... Akureyri Airport...Danfeng CountyBienenfarm Airport Birmingham-Shutt... VilyuiskSucre-Juana Azur...Lake Manyara Ivanhoe Lake NT Purisima del Mag...Bangkok-Suvarnab...Hermosillo-Gen P... ViÃ±a del Mar Ai...Ouagadougou Airp... NyaganKerman Internati...Hudson Bay ON Deauville-Saint ...Nouakchott-Oumto...Santa Monica Air...AcandÃ\\\\xad ChocÃ³ ... Cayo Luis PeÃ±aSevryukova Belg...Kudat Airport (KUD) \" Skulyn Volyns\\'k...\"Likawage Airstrip Lincoln Municipa... Loreto Airport (...Wichita-Colonel ... Pakse Airport (PKZ) Derby KSBalesin AirstripPiilani Highway ...Tayozhny Krasno...Pogapa AirstripRiberalta Airpor...\"Devil\\'s Hole Sa...\" Buena Vista Apure Red Lake Airport...Kazan Internatio...Kamako West-KasaÃ¯Badami Airport AKKibeniBuon Me Thuot (B...Nuiqsut AKBwabwata Nationa... \" Saint Mary\\'s Air...\" Fukue Airport (FUJ)Omega Airport (OMG) San Fernando de ... La Alianza Arecibo Walton IN Pikany Indian Ai... Kalaupapa Airpor... Atlanta-Fulton C... Coventry Warwic...Thisted Airport ...Jaipur Internati...Stephenville Int...Eastern Afghanistan Trier-FÃ¶hren Ai...Saltillo-Plan de... Olive Creek Petreasa Alba Roskilde Airport...Ilulissat Airpor...Kulob Airport (TJU)Elk City-Regiona...Zhengzhou-Xinzhe...Mala Mala Airpor... AÃ¯n KerchaStella Maris-Est... SandhikharkRubkona Airport Pearland Regiona... Grombalia Lukapa Airport (... Hadhramaut Kish Island Airp...within Indian OceanSan Fernando BAZephyrhills Airp... Kuala Lumpur-Sul...Karauli district...BrasÃ\\\\xadlia-Juscel...within VenezuelaKikori Airport (...Kramatorsk Airpo... San Vicente del ...Terbuny Lipetsk...Columbus-Rickenb...Zahedan Airport ...GanlaEl Wak Xieng Khouang Ai...southern Apure S...Mount Airy/Surry... Carmelo/Zagarzaz...Yazd Airport (AZD)Traverse City Ai... Bruzual ApureCoari-Urucu Airp... BahÃ\\\\xada Solano-Jo...Dayton-Mark Anto... DrobyshevoApure Rybinsk Yarosla... Olsztyn/Dajtki A...AruanÃ£ Airport GOTehran-Imam Khom... Lugansk Airport ...Fresno Yosemite ... Lydenburg Mpuma...Huntsville Inter... Egegik AK Olsberg-Elpe Peshawar-Bacha K...Astana Internati... ChirunduMonkey Mountain ... IzvaryneHraboveTarasovka AirfieldHerat Airport (HEA) GossiBoulder City Mun... Foz do IguaÃ§u/C... Prototskiye Kra... Harrisburg Inter...Santos SPDoncaster/Sheffi...Princeton Airpor...Raleigh/Durham I...Shamwana AirstripMulume Munene Mercaderes CaucaIbans Mosquitia KogatendeNoumÃ©a-La Tonto...Athens Municipal...Nordelta BA Varrelbusch Airp...San JosÃ© del C...Conroe-Lone Star... Port Moresby-Jac...Kom Ashwin FayoumShoyna AirportTimmins Airport ...La TabatiÃ¨re Ai...Ceiba-Jose Apont...Punta Cana Inter...Lanai Airport H...Braunschweig Air...Laguna de Tres P... Shabunda AirportToussus-le-Noble... Sint Maarten-Jul... Elorza Apure StatePanyagor Airstrip Yellowknife NTLondon-Biggin Hi...Stavanger-Sola A...Samara-Kurumoch ...Teniente Rodolfo... Mackall AAF NCBelize City Muni...Providenciales I... Gaithersburg-Mon...HokandaraObo-Mission Airs...Brittas House Ai... ChampotÃ³nTequesquitengo A...within Guyana UviraLahore-Allama Iq...Magadan-Sokol Ai...Matthews Ridge A... Abu adh Dhuhur A... Shatyrkul MineDawlatabad distr... Boca DruifTripoli-Mitiga I...Rhodes/Paradisi-...Sebastian Munici... Miami Executive ... Quelimane AirportKyiv-Borispol Ai...Marco Island Air...Hubli Airport (HBX) Niigata Airport ...Prads-Haute-BlÃ©one Goa IndiaVerdigris OKPromin Lutsk di...\"Sana\\'a-Al Dalaim...\"Halifax-Stanfiel...Barneo Camp Ices... Caribbean Sea North Vancouver BCKhajuraho Airpor...Hiroshima Intern... Rifle-Garfield C... Portland Bill Ashizuri Cape J... Sevilla Airport ...Dahra OilfieldAzov district R...Newport News/Wil... Klaipeda Lithua...Sanamer Stavrop...Mandeng Airstrip Puerto Colombia QuerÃ©taro Airpo... PichavaramKonan Airport (OKS)Sacramento-Execu... Kosrae Airport (...Tatsinsky distri...Aktau Airport (SCO)over China Kezhma Kezhemsk...Grosse Ile Munic... Ella Lake Misty...Okcheon North C...Kapolei-Kalaeloa... Medan-Soewondo A... Kuredu Island Re... Orange Beach AL Dubai-Skydive Du... Faraklo LaconiaLadowisko Chrcyn... Manaus-Eduardo G...Lagoa Santa Air ... CodazziStancutaChandler Municip... SabaMargaree Airport...Codrington Airpo...CervenÃ½ KamenAguni Airport (AGJ)KadunaThangool Airport...Barcaldine Airpo... TambacoundaLouisburg-North ...Merseburg Airport Iliamna-East Win...DÃ¼sseldorf Inte...Lhaviyani Kanifu...DÃ©line Airport ...Lismore Airport ...SaarbrÃ¼cken-Ens...Dubai-Palm Drop ...Bajaja Mount Di... Chigwell EssexTamale Airport (... AfgooyeBamyan Province Yumbillo Apaseo el AltoCuzco-Velazco As...Afgoye District Hasna North Sinai Las Mercedes del... KoussanÃ© Monroe County Ai...Saint Lucia-Geor... Malakal Airport ... Akron-Fulton Int... Guarda-Mor MGGrand Forks Airp...Ixtapa/Zihuatane... Farnborough Airp...Jabalpur Airport...Palm Springs Int... Swellendam West... Pickle Lake Airp...Oyonnax-Arbent A... Anaktuvuk Pass A... OajevÃ¡ggeRondonÃ³polis-Ma... Windhoek-Hosea K...Hooper Bay Airpo...Corral Viejo Cedar Fort UTScottsdale Airpo...Amundsen-Scott S...Chance Bay Whit...QuerÃ©taro Airpo...Gay Orenburg Ob... Naypyidaw Intern...Dana Myagdi dis... Kuala Selangor Bangor ME Langebaanweg Air... KawrgoskAlbuquerque Sunp...Basel/Mulhouse/F... \" Cox\\'s Bazar Airp...\"Rome-Richard B R...Hacienda la Palm...Hawijah Durango-Guadalup... Aksarino Zainsk...Jakarta-Halim Pe... MacapÃ¡ Internac... Kanoya Air Base Puerto GaitÃ¡n A...Fentress Airpark... Kiunga Airport (...Maryevka Pestra...Cuenca-Mariscal ... El Obeid Airport...Manning Airport AB San Bernardino I...Indore-Devi Ahil...Dexter Municipal... Lodi Airport CA TequesquitengoDwyer Airport (DWR) Texarkana ARAkobo Airport Neryungri Airpor...Fort Dodge Airpo...Gainesville-J R ...Bor AirportLolat Yahukimo ... Bach Long Vi IslandKhark Airport (KHK) Homer-Beluga Lak...Lima-Jorge ChÃ¡v... DervenochoriaBereke Novopokrovskoye ... Rybnyi Uyan Kac...Loei Airport (LOE)Montijo Air BaseSan Juan-Fernand... Jinshan City BeachBaldwin Airport WI Chennai Bay of ... Zelenogorskiy K... Spanish Fork UTAjaccio-Napoleon... SimikotPolyarnyj Airpor... SÃ£o Pedro do SulOrillas del RÃ\\\\xado...North Eleuthera ... Biloxi MS Russian Mission ...Orlando Apopka A... Tatarskoye Urayk...Puerto Montt-Mar...Jackson-McKellar...Bray Northern CapeTaipei-Taiwan Ta... Belaya Gora Airp...Bloodvein River ... Kelowna Airport ...Smithfield-North...Dunnellon/Marion... ApiayPorto Alegre-Can...Lisboa-Humberto ...Panama City Albr... Moorhead Municip...Pitu/Morotai-Leo...Tyler-Pounds Reg... Tanjung PinangGunnison-Crested... Camilla GA Port Aransas-Mus... HavelianHobart Airport ...Saint-FrÃ©dÃ©ric...Moomba Airport ... Puerto CarreÃ±o-...Butterworth RMAF... AdlerSasakwa Airstrip Muscat OmanFive Point-Agro-...Howell-Livingsto...Swan River Pert...Illertissen Airport Thebephatshwa Ai...Tulita Airport ... Lago de MaracaiboSalzburg-W. A. M...Caracas/La Carlo...Azraq-Muwaffaq S...Yalowega Lake SKKalaupapa Airpor... Mutare Airport (...Ardabil Airport ...Jauja-Francisco ...Yei Airport PoÃ§os de Caldas...Kopinang AirfieldRichfield Munici...Waukesha Airport...Soyo Airport (SZA) FacatativÃ¡Chignik AKAssabu Hokkaido... Toluca Internati... Skagway AKElfin Cove Seapl...MalÃ©-Velana Int...Mogadishu Aden A...Ulan Bator-Ching...Garbaharey Airpo... DaweiTarapacÃ¡ Airpor...Nancova Airstrip Kiliya Alpine-Casparis ... Macanao Itta Bena MS \" Val-d\\'Or\"Lower East River...Sinak Airport (NKD) Eteringbang AirportMikonos Airport ... Poltavskaya Kra...Medan-Kualanamu ...Mulino State Air... Pocatello Airpor...Iquitos-Coronel ... NaiguatÃ¡Temporary Landin... Yeniseisk Krasn...Maban AirstripChernoye Airport Turinskaya Slobo...Hato ViejoPlaya LindaSint Maarten-Jul...Ciudad del Carme...Greeley-Weld Cou...Bridgetown-Grant... southern GreenlandParÃ¡ de Minas A...Nili Airport MalÃ©-Velana Int...Mazamari-Manuel ...Xuddur Airport DundoIloilo Internati...Chester/Hawarden...Rio Negro Parqu... Nuevo SaposoaPrince Albert Ai...Lobo Wildlife Lo...Toronto - LondonCoffee Creek YTEkimchan Amur r... Limpopo provinceToronto City-Bil... Nelkan AirportEmpakaai areaDhaalu Atoll Placencia Airpor...Doha-Hamad Inter...Buka Airport (BUA) Fond-du-Lac Airp...Sieberatsreute ... Dinangat VillageMichigan City Ai... Punta Islita Air...KittilÃ¤ Airport...AkoboRock Springs-Swe...Jessore Airport ... Zhetygen Air BaseHodulluca Mevkii...Brownsville-Sout...Zhengchang Suiy... Stepanovskoye R... Yasuj Airport (YES)Havre-Saint-Pier...Tallinn-Lennart ... Latakia-Khmeimim... Shahr-e Kurd Blue Creek Oran...Talbot Bay WAHastings Airport... Deadhorse AKSheridan Airport...Riberalta-CapitÃ...Orlando-Central ... Gardiner Airport...Marion Municipal... Boufarik Air Base Atqasuk Airport ...El Barde Somali... Omaha NEAkola village Crozet VA Philadelphia PANewquay-Cornwall...Alexandria Inter... Sharara Airstrip Savannah/Hilton ... IbaguÃ©Santiago de Comp...GaviÃ£o Peixoto-... Clonbullogue Aer... TuzantÃ¡nBahun KharkYangzhou Taizhou...Kamonia Airstrip Obo-Mission Airs... NjabiniSaint Tropez-La ...Baleni Galati C...Mendi Airport (MDU)Kyiv-Igor Sikors... Nabire Airport (...Columbus-John Gl...Kenyam AirstripSouguÃ©ta KindiaNizhneudinsk Ir...San Pedro Airpor... Padek AirstripFez-Sais Airport...Parker Lake NU Al Hoceima-Chari... Pretoria-Wonderb...Mount Jumbo Pri...San Felipe AirportManley Hot Sprin...Cataratas del Ig... Al AlamainBurnet Municipal... Kamako AirstripPortsmouth Inter...Port Vila-Bauerf...Evenki district ...Durango-Guadalup... Wilmington-New H... Tongjiang Piz SegnasLalgarh AirportKetron Island WAPayson UTGera-Leumnitz Ai... Cape Hatteras NCPieri AirstripSantafÃ© del Cag...Macau Airport (MFM) Brusartsi MojoBurbank-Bob Hope...Itapaci GO Yirol AirstripWhitehead Pond NLSanta Fe Airport... Lake Jackson TXFoz do IguaÃ§u/C... Oscoda Wurtsmith... Sendai Japan Chuuk/Weno Inter...Khartoum Airport...Gambell Airport ...Beoga Airstrip Tanjung BunginChaklala-PAF Bas... LisbonWinder-Barrow Co...BahÃ\\\\xada Solano-Jo... JequitaÃ\\\\xad-Fazend... Memphis INFargo-Hector Int...Athens-ElefthÃ©r... Muroto Cape Japan Hobart TASCorozo SarstÃºnMount Gambier Ai...Kamarata Airport...Savonlinna Airpo...Uvalde-Ox Ranch ...\"Fat\\'h Airport\" Kidron-Stoltzfus...Rouyn Airport Q...Tuscaloosa Regio... Kake AK WhatÃ¬/Lac La Ma... Bay Harbor Islan...Billund Airport ... CaracaraÃ\\\\xad RRTrinity Bay nea...Pyongtaek-Deside...Ouargla-Ain Beid...Eufaula-Weedon F...Rio de Janeiro/G...Presque Isle Int... Little Grand Rap...Finca La Bendici... San Pedro Peralt... Inuvik NTLatrobe-Westmore...Orlando Sanford ...Kuala Lumpur-Sul...Oklahoma City-Su... BajamarMatsieng AerodromeAlonso de Rojas Nashville Intern...Innsbruck-Kraneb...Dominica Douglas... New Albany MSDry Tortugas Nat...Siegen-Siegerlan...Gillam Airport ...Jacksonville Nav... Hay River Airpor...Vyun Tomponsky ... Monclova Kuujjuarapik Air... Uriman Airport (...Saint-Esprit Aer...Mandalay Interna...Chico de Chamorr...Zhuravskoye Indianapolis Reg... Lipo\"Svyatoshyns\\'kyi ...\" Kyren Tunkinsky...Kiunga Airport (...RÃ\\\\xado Chixoy La ...JoaquÃ\\\\xadn V. Gonz... Rodina village ... Fort Hope Airpor... Mlyny Poltava r...Parque Nacional ...Nizhneangarsk Ai...Plant City-Black... Gvardeysky Roberval Airport... Raduga Novoalek...Graham Creek To...Novoshchedrinska...Mesquite Municip...Al Jufra AirbaseAddenbroke Islan...Mora Kalu Rawal... Grand BatangaCandle 2 Airport...Longmen Farm Wu... FakhrabadAarhus Airport (...Misrata Internat...Mafia Airport (MFA) Mayo Airport YT... Los Ã\\\\x81ngeles-Mar...Las Pilas Champ...El Ramonal Chet... Base Marambio Zhukovsky Intern...Elizabethton Mun...San Marcos Regio...Kapalua Airport ...Oroville Airport...Gmunden AirfieldSanta Barbara Ai...Aligarh AirportSelektsionny Lg...Egelsbach Airfie...Lake Syuryun-Kyu...El Monte-San Gab...Pansol Calamba ... Nueva CajolÃ¡Manizales-La Nub... Gransee AirfieldChencoh Hopelc... Kampung Mamontog...Ta Island Airstr...Pepperell Airpor...Seronera Airstri...Moo 2 Sai Yok D...San Salvador de ...Blue Creek Oran...Windsor Locks-Br... Lviv-Danylo Haly...Charleston Inter...Fort Myers-South... KoleCedartown-Polk C...Unalaska-Tom Mad... Nassau-Lynden Pi... Atlanta Hartsfie...PalajuyÃº Sipac...Sipacate EscuintlaFamily Lake Lit...Kolnyang CountyVista Hermosa I...San Jose Cabo-Lo...PetÃ©nMaraÃº-Barra Gra...Saint-Jean du SudGasmataBlack Point Airs... El Picudo San A... San AndrÃ©s Vill... Sachigo Lake Air...Detroit-Coleman ...SayaxchÃ© PetÃ©n Chan Chen Corozal Victoria Regiona... King George IslandQuichÃ©Sarteneja airstripVisalia Airport ...El Chico Retalh... Scottsbluff NE Tastiota Otamendi BA Geneina Airport ... HaputaleManda Bay-Camp S... Sabashahr Unalaska-Tom Mad...Schefferville Ai... Cooma NSW FriemersheimBandar Mahshahr ... Sharana FOBMonterrey-Aeropu...Dammam-King Faha... Eureka-Murray Fi... Fairmount GARio Bueno-Fundo ...Usinsk Airport (... Benbrook TXMiyanmin Airstri...Magadan-13 Airport Lake Coleman TXDryden Regional ...Kuredu Island Re...Belmar/Farmingda... Ust-Kamenogorsk ...Altoona Airport ...Claura Arriba I...Fort Langley Air...Porlamar-del Car...Phoenix-Scottsda... La Crosse Rush ...Yenkisa Airstrip... Caballo Blanco ...Jonesboro Munici... Tarhuna Las Cruces PetÃ©nLaguna del Tigre...Kugaaruk Airport... Lloydminster Air... Bardale Airstripsouthern Zulia s...Ulang Airstrip Victorville-Sout...Houston Internat...Natal Air Force ...Kolkata-Netaji S... Morocoy Quintan... SartenejaRegiÃ³n Costa Mo...San Diego-Brown ...Urzhar Airport (...Al Taji Army Air...Machiques de Per...Mapastepec JosÃ© Maria More...Toluca-Licenciad... Kistenevo Bolsh...Beledweyne-Ugas ... Van-Ferit Melen ... Tagarkhay Burya... Brus LagunaShanghai Pudong ...Montgomery Regio...Holbox Airstrip El Chal PetÃ©n ...Rio Negro ZuliaDhobley AirstripLobiosIxcÃ¡n ParaguanÃ¡Santa Ana Barto...New Fangak AirstripZiguinchor Airpo...Chicago/Rockford...Lake Charles-Che...Palenque Airport... Tokyo-Haneda Int...Belo Horizonte/P...Whitmore-Grand C...Maji Moto area i...Machiques de PerijaZanjaSantha Martha Guaymaral AirportAlta Verapaz Sa... Chuhuiv Air BaseCatatumbo Edo ...Sur del Lago reg... Martuni Salton City CAMachiques ZuliaSergio ButrÃ³n C...Mundri AirstripYakataga Airport...Mwoakilloa Airfi...Medhafushi Water...Fukue Airport (FUJ)Laguna del TigreIgaratinga-SÃ£o ...BrasÃ\\\\xadlia-Piquet...Fernandina Beach...El Chico Champe...Iquitos Internat...CaÃ±o Amarillo ...Mysore Airport (...Sion Airport (SIR)Naujaat Airport ...Wobagen AirstripGarowe Airport (...Lufkin Angelina ...JesÃºs MarÃ\\\\xada Se... Zolota Sloboda ...southern BelizeLeadville Airpor...Jacksonville Exe...Farmingdale-Repu...Kawemhaken-Lawa ...Diamantina Airpo... Jakarta-Soekarno... Pine Grove ORRocky Point Cla...Los Mochis-Feder...Mukinge Mission ...Davenport Airpor...Crooked Tree Or... Taechon Air BaseIturup Airport (...Abha Internation...San Diego-Montgo...Blois/Le Breuil ...Kaskattama Airst... Abuja-Nnamdi Azi... Xalapa Airport (...San AndrÃ©s PetÃ©n BoraldaiMonfort Airport ...\"Shanghu Ji\\'an C...\"GhardaÃ¯a-NoumÃ©...PieriIsfahan AirportAngguruk AirstripChevak Airport ...Puerto Vallarta-...Kapaure Marsabit Airport...Gdansk-Lech Wale... Osaka/Yao Airpor...Chignik-Lagoon A... Laceyville PACharleston Execu...Ridgeland Airpor...Gwalior Airport ...Nangang Island-M... Denver-Centennia...Parque Laguna de...Laytamak Airstrip Smyrna Airport ...Alexandroupolis-...Atlanta-Cobb Cou...Wiener Neustadt ... Pyin Oo Lwin Tanay Airfieldwithin JesÃºs MarÃ\\\\xada Se... Gijet Zaboyskiy Slavy... Teuge AirportPenticton Airpor... Honolulu-Daniel ...Patikul Sulu Karaultobe Kyzy... Treasure Cay Air... Aniak Airport A...Rex North Mining... Fort Smith NTKavala-Megas Ale...Eteringbang AirportGanges Harbor Ai... KedrovoOld Sarum AirfieldBurahache AirstripReading Regional... Norderney Airfie... Kombolchawithin JesÃºs Ma...Nengbei Farm He... Kahramanmaras Kubinka AFBLansing-Capital ...Elk River NC (N... Plainville-Rober... Kazachinskoye Ai...RÃ\\\\xado Catatumbo Piracicaba Airpo...between Youngsto...Berlin Brandenbu...Asheville Region...Honolulu-Daniel ...Moorsele Airfield Thomson-McDuffie... Little Belize C... Menzelinsk Airport Wilton-Alta Mesa...Mount Pleasant R...Houston Executiv...Jacmel Airport (... Alapayevsk Sver...Dagi Baru Airstrip Fort Providence NTDolow Airportwestern Venezuela Victoria 3 Reta...Letca Noua Airfield Beaver Island-We...between Santiago... Port Alsworth Ai...Lake Havasu City...Kemi/Tornio Airp... Manchester-Bosto...Dubuque IAFulshear TX ShabundaEl Cajon San DiegoBazaruto Island ...Helena-Thompson-...Rio Dulce-Las Ve... \" N\\'Tireft\" Venetia Mine Air...RoatÃ¡n-Juan Man...Hangzhou-Xiaosha...Machakilha Tole... Vakilabad ArzuiyehHayden-Yampa Val...Islip-Long Islan...Agok Airstrip Koryaki Yelizov...MorÃ³n-Ituzaingo...Culebra Airport ...Umiat Airport A... Aralsk Zhukivtsi Ostrogozhsk Vor... Oceanside Munici...Kyiv-Gostomel Ai... MohÃ©li-Bandar e...Bilogai/Sugapa A...Campbellton TX SanyaKanpur Air Force...Gulfport-Biloxi ...Baltimore-Martin... Sioux Lookout Ai... Wuzhou Tengxian...SÃ¤ntis Mountain Burley Municipal...Caldwell Wright ...MykhailivkaPamiers/Les Pujo...Boituva SP Nanga EbokoChongqing-Jiangb...Eldorado do Sul RS Dry Bay Airport AK Lynedoch Private...SanoswareNatchitoches Reg...Ellington Airpor...Chisana Field A...LiÃ¨ge Airport (... Sebyan-Kyuel Ko... Olenyok Airport ... Ryazan-Dyagilevo... Oymyakon AirfieldRÃ\\\\xado Grande-Gobe...Prochnookopskaya... KavalaKotzebue-Ralph W... Omdurman Al HaraTalkeetna Airpor...Chiang Rai-Mae F...GoiÃ¢nia-Naciona... Abu Dhabi-Bateen...NesConakry-Gbessia ... PiotrkÃ³w Trybun... Ventspils (Balti... Freeland WAPhoenix-Mesa Gat... Kissimmee Gatewa... Porto Trombetas PA Ramos ArizpePointe-Noire Ago...El Estrecho Airp...Pietermaritzburg...within ZuliaYassin east DarfurKÃ¶ln/Bonn-Konra...Montpellier-MÃ©d...Waco-McGregor Ex...Nantes Atlantiqu...Moa Island Torr... JeberosLac PLuto QCMactan-Cebu Inte... Linguaglossa Si... Kasese Miami-Dade Count...Pewaukee WI Snohomish WABatesville Regio...GuantÃ¡namo Nava...Wichita Dwight D...Abudwak Airstrip VenadoMweya AirportProvo Airport U... Karatayka Novomaryevskaya ... Pokhara Internat... Molokai/Kaunakak...Poplar Municipal...Al-Khadim Air Base40 nm S of Toron...Fitzgerald River...Eliptamin Airpor...San JosÃ© Vista ...Rochester-Greate... Berisso BA Little Rock-Bill... Nakina ON'"
      ]
     },
     "execution_count": 50,
     "metadata": {},
     "output_type": "execute_result"
    }
   ],
   "source": [
    "new.unique().sum()"
   ]
  },
  {
   "cell_type": "code",
   "execution_count": 53,
   "metadata": {},
   "outputs": [],
   "source": [
    "new.to_csv('new.csv')"
   ]
  },
  {
   "cell_type": "markdown",
   "metadata": {},
   "source": [
    "# Reigstration\n"
   ]
  },
  {
   "cell_type": "code",
   "execution_count": 304,
   "metadata": {},
   "outputs": [
    {
     "data": {
      "text/plain": [
       "61          NaN\n",
       "62         N123\n",
       "63       G-EANV\n",
       "64       G-EAMC\n",
       "65       G-EAKE\n",
       "          ...  \n",
       "23912    CX-MAX\n",
       "23913     N14QB\n",
       "23914     N55PC\n",
       "23915    C-GMVB\n",
       "23916     N85AV\n",
       "Name: registration, Length: 23856, dtype: object"
      ]
     },
     "execution_count": 304,
     "metadata": {},
     "output_type": "execute_result"
    }
   ],
   "source": [
    "df['registration']"
   ]
  },
  {
   "cell_type": "code",
   "execution_count": 305,
   "metadata": {},
   "outputs": [],
   "source": [
    "num_values_year= pd.value_counts(df['registration'].values.ravel())"
   ]
  },
  {
   "cell_type": "code",
   "execution_count": 306,
   "metadata": {},
   "outputs": [
    {
     "data": {
      "text/plain": [
       "LZ-...    13\n",
       "-          8\n",
       "unreg.     6\n",
       "N3125N     4\n",
       "VT-EDS     4\n",
       "          ..\n",
       "49-128     1\n",
       "WL799      1\n",
       "142424     1\n",
       "G-AMZC     1\n",
       "N85AV      1\n",
       "Length: 21854, dtype: int64"
      ]
     },
     "execution_count": 306,
     "metadata": {},
     "output_type": "execute_result"
    }
   ],
   "source": [
    "num_values_year"
   ]
  },
  {
   "cell_type": "code",
   "execution_count": 307,
   "metadata": {},
   "outputs": [
    {
     "data": {
      "text/plain": [
       "1549"
      ]
     },
     "execution_count": 307,
     "metadata": {},
     "output_type": "execute_result"
    }
   ],
   "source": [
    "df['registration'].isnull().sum()"
   ]
  },
  {
   "cell_type": "code",
   "execution_count": 309,
   "metadata": {},
   "outputs": [
    {
     "data": {
      "text/plain": [
       "'NC13739'"
      ]
     },
     "execution_count": 309,
     "metadata": {},
     "output_type": "execute_result"
    }
   ],
   "source": [
    "import random\n",
    "a=random.randrange(61,23403)\n",
    "df['registration'][a]\n"
   ]
  },
  {
   "cell_type": "code",
   "execution_count": 310,
   "metadata": {},
   "outputs": [
    {
     "data": {
      "text/html": [
       "<div>\n",
       "<style scoped>\n",
       "    .dataframe tbody tr th:only-of-type {\n",
       "        vertical-align: middle;\n",
       "    }\n",
       "\n",
       "    .dataframe tbody tr th {\n",
       "        vertical-align: top;\n",
       "    }\n",
       "\n",
       "    .dataframe thead th {\n",
       "        text-align: right;\n",
       "    }\n",
       "</style>\n",
       "<table border=\"1\" class=\"dataframe\">\n",
       "  <thead>\n",
       "    <tr style=\"text-align: right;\">\n",
       "      <th></th>\n",
       "      <th>0</th>\n",
       "    </tr>\n",
       "  </thead>\n",
       "  <tbody>\n",
       "    <tr>\n",
       "      <th>0</th>\n",
       "      <td>nan</td>\n",
       "    </tr>\n",
       "    <tr>\n",
       "      <th>1</th>\n",
       "      <td>N123</td>\n",
       "    </tr>\n",
       "    <tr>\n",
       "      <th>2</th>\n",
       "      <td>G-EANV</td>\n",
       "    </tr>\n",
       "    <tr>\n",
       "      <th>3</th>\n",
       "      <td>G-EAMC</td>\n",
       "    </tr>\n",
       "    <tr>\n",
       "      <th>4</th>\n",
       "      <td>G-EAKE</td>\n",
       "    </tr>\n",
       "    <tr>\n",
       "      <th>...</th>\n",
       "      <td>...</td>\n",
       "    </tr>\n",
       "    <tr>\n",
       "      <th>21850</th>\n",
       "      <td>CX-MAX</td>\n",
       "    </tr>\n",
       "    <tr>\n",
       "      <th>21851</th>\n",
       "      <td>N14QB</td>\n",
       "    </tr>\n",
       "    <tr>\n",
       "      <th>21852</th>\n",
       "      <td>N55PC</td>\n",
       "    </tr>\n",
       "    <tr>\n",
       "      <th>21853</th>\n",
       "      <td>C-GMVB</td>\n",
       "    </tr>\n",
       "    <tr>\n",
       "      <th>21854</th>\n",
       "      <td>N85AV</td>\n",
       "    </tr>\n",
       "  </tbody>\n",
       "</table>\n",
       "<p>21855 rows × 1 columns</p>\n",
       "</div>"
      ],
      "text/plain": [
       "            0\n",
       "0         nan\n",
       "1        N123\n",
       "2      G-EANV\n",
       "3      G-EAMC\n",
       "4      G-EAKE\n",
       "...       ...\n",
       "21850  CX-MAX\n",
       "21851   N14QB\n",
       "21852   N55PC\n",
       "21853  C-GMVB\n",
       "21854   N85AV\n",
       "\n",
       "[21855 rows x 1 columns]"
      ]
     },
     "execution_count": 310,
     "metadata": {},
     "output_type": "execute_result"
    }
   ],
   "source": [
    "df_reg=df['registration'].unique()\n",
    "\n",
    "df_reg=df_reg.astype(str)\n",
    "df_reg=pd.DataFrame(df_reg)\n",
    "df_reg"
   ]
  },
  {
   "cell_type": "code",
   "execution_count": 311,
   "metadata": {},
   "outputs": [
    {
     "data": {
      "text/html": [
       "<div>\n",
       "<style scoped>\n",
       "    .dataframe tbody tr th:only-of-type {\n",
       "        vertical-align: middle;\n",
       "    }\n",
       "\n",
       "    .dataframe tbody tr th {\n",
       "        vertical-align: top;\n",
       "    }\n",
       "\n",
       "    .dataframe thead th {\n",
       "        text-align: right;\n",
       "    }\n",
       "</style>\n",
       "<table border=\"1\" class=\"dataframe\">\n",
       "  <thead>\n",
       "    <tr style=\"text-align: right;\">\n",
       "      <th></th>\n",
       "      <th>0</th>\n",
       "    </tr>\n",
       "  </thead>\n",
       "  <tbody>\n",
       "    <tr>\n",
       "      <th>0</th>\n",
       "      <td>nan</td>\n",
       "    </tr>\n",
       "    <tr>\n",
       "      <th>1</th>\n",
       "      <td>N123</td>\n",
       "    </tr>\n",
       "    <tr>\n",
       "      <th>2</th>\n",
       "      <td>G-EANV</td>\n",
       "    </tr>\n",
       "    <tr>\n",
       "      <th>3</th>\n",
       "      <td>G-EAMC</td>\n",
       "    </tr>\n",
       "    <tr>\n",
       "      <th>4</th>\n",
       "      <td>G-EAKE</td>\n",
       "    </tr>\n",
       "    <tr>\n",
       "      <th>...</th>\n",
       "      <td>...</td>\n",
       "    </tr>\n",
       "    <tr>\n",
       "      <th>21850</th>\n",
       "      <td>CX-MAX</td>\n",
       "    </tr>\n",
       "    <tr>\n",
       "      <th>21851</th>\n",
       "      <td>N14QB</td>\n",
       "    </tr>\n",
       "    <tr>\n",
       "      <th>21852</th>\n",
       "      <td>N55PC</td>\n",
       "    </tr>\n",
       "    <tr>\n",
       "      <th>21853</th>\n",
       "      <td>C-GMVB</td>\n",
       "    </tr>\n",
       "    <tr>\n",
       "      <th>21854</th>\n",
       "      <td>N85AV</td>\n",
       "    </tr>\n",
       "  </tbody>\n",
       "</table>\n",
       "<p>21855 rows × 1 columns</p>\n",
       "</div>"
      ],
      "text/plain": [
       "            0\n",
       "0         nan\n",
       "1        N123\n",
       "2      G-EANV\n",
       "3      G-EAMC\n",
       "4      G-EAKE\n",
       "...       ...\n",
       "21850  CX-MAX\n",
       "21851   N14QB\n",
       "21852   N55PC\n",
       "21853  C-GMVB\n",
       "21854   N85AV\n",
       "\n",
       "[21855 rows x 1 columns]"
      ]
     },
     "execution_count": 311,
     "metadata": {},
     "output_type": "execute_result"
    }
   ],
   "source": [
    "df_reg=df_reg.astype(str)\n",
    "df_reg"
   ]
  },
  {
   "cell_type": "code",
   "execution_count": 312,
   "metadata": {},
   "outputs": [
    {
     "data": {
      "text/html": [
       "<div>\n",
       "<style scoped>\n",
       "    .dataframe tbody tr th:only-of-type {\n",
       "        vertical-align: middle;\n",
       "    }\n",
       "\n",
       "    .dataframe tbody tr th {\n",
       "        vertical-align: top;\n",
       "    }\n",
       "\n",
       "    .dataframe thead th {\n",
       "        text-align: right;\n",
       "    }\n",
       "</style>\n",
       "<table border=\"1\" class=\"dataframe\">\n",
       "  <thead>\n",
       "    <tr style=\"text-align: right;\">\n",
       "      <th></th>\n",
       "      <th>0</th>\n",
       "    </tr>\n",
       "  </thead>\n",
       "  <tbody>\n",
       "    <tr>\n",
       "      <th>1</th>\n",
       "      <td>N123</td>\n",
       "    </tr>\n",
       "    <tr>\n",
       "      <th>2</th>\n",
       "      <td>G-EANV</td>\n",
       "    </tr>\n",
       "    <tr>\n",
       "      <th>3</th>\n",
       "      <td>G-EAMC</td>\n",
       "    </tr>\n",
       "    <tr>\n",
       "      <th>4</th>\n",
       "      <td>G-EAKE</td>\n",
       "    </tr>\n",
       "    <tr>\n",
       "      <th>5</th>\n",
       "      <td>G-EAMA</td>\n",
       "    </tr>\n",
       "    <tr>\n",
       "      <th>...</th>\n",
       "      <td>...</td>\n",
       "    </tr>\n",
       "    <tr>\n",
       "      <th>21850</th>\n",
       "      <td>CX-MAX</td>\n",
       "    </tr>\n",
       "    <tr>\n",
       "      <th>21851</th>\n",
       "      <td>N14QB</td>\n",
       "    </tr>\n",
       "    <tr>\n",
       "      <th>21852</th>\n",
       "      <td>N55PC</td>\n",
       "    </tr>\n",
       "    <tr>\n",
       "      <th>21853</th>\n",
       "      <td>C-GMVB</td>\n",
       "    </tr>\n",
       "    <tr>\n",
       "      <th>21854</th>\n",
       "      <td>N85AV</td>\n",
       "    </tr>\n",
       "  </tbody>\n",
       "</table>\n",
       "<p>21854 rows × 1 columns</p>\n",
       "</div>"
      ],
      "text/plain": [
       "            0\n",
       "1        N123\n",
       "2      G-EANV\n",
       "3      G-EAMC\n",
       "4      G-EAKE\n",
       "5      G-EAMA\n",
       "...       ...\n",
       "21850  CX-MAX\n",
       "21851   N14QB\n",
       "21852   N55PC\n",
       "21853  C-GMVB\n",
       "21854   N85AV\n",
       "\n",
       "[21854 rows x 1 columns]"
      ]
     },
     "execution_count": 312,
     "metadata": {},
     "output_type": "execute_result"
    }
   ],
   "source": [
    "df_reg=df_reg.drop(0)\n",
    "df_reg"
   ]
  },
  {
   "cell_type": "code",
   "execution_count": 188,
   "metadata": {},
   "outputs": [
    {
     "data": {
      "text/html": [
       "<div>\n",
       "<style scoped>\n",
       "    .dataframe tbody tr th:only-of-type {\n",
       "        vertical-align: middle;\n",
       "    }\n",
       "\n",
       "    .dataframe tbody tr th {\n",
       "        vertical-align: top;\n",
       "    }\n",
       "\n",
       "    .dataframe thead th {\n",
       "        text-align: right;\n",
       "    }\n",
       "</style>\n",
       "<table border=\"1\" class=\"dataframe\">\n",
       "  <thead>\n",
       "    <tr style=\"text-align: right;\">\n",
       "      <th></th>\n",
       "      <th>0</th>\n",
       "    </tr>\n",
       "  </thead>\n",
       "  <tbody>\n",
       "    <tr>\n",
       "      <th>1</th>\n",
       "      <td>N123</td>\n",
       "    </tr>\n",
       "    <tr>\n",
       "      <th>2</th>\n",
       "      <td>G-EANV</td>\n",
       "    </tr>\n",
       "    <tr>\n",
       "      <th>3</th>\n",
       "      <td>G-EAMC</td>\n",
       "    </tr>\n",
       "    <tr>\n",
       "      <th>4</th>\n",
       "      <td>G-EAKE</td>\n",
       "    </tr>\n",
       "    <tr>\n",
       "      <th>5</th>\n",
       "      <td>G-EAMA</td>\n",
       "    </tr>\n",
       "    <tr>\n",
       "      <th>...</th>\n",
       "      <td>...</td>\n",
       "    </tr>\n",
       "    <tr>\n",
       "      <th>21850</th>\n",
       "      <td>CX-MAX</td>\n",
       "    </tr>\n",
       "    <tr>\n",
       "      <th>21851</th>\n",
       "      <td>N14QB</td>\n",
       "    </tr>\n",
       "    <tr>\n",
       "      <th>21852</th>\n",
       "      <td>N55PC</td>\n",
       "    </tr>\n",
       "    <tr>\n",
       "      <th>21853</th>\n",
       "      <td>C-GMVB</td>\n",
       "    </tr>\n",
       "    <tr>\n",
       "      <th>21854</th>\n",
       "      <td>N85AV</td>\n",
       "    </tr>\n",
       "  </tbody>\n",
       "</table>\n",
       "<p>21854 rows × 1 columns</p>\n",
       "</div>"
      ],
      "text/plain": [
       "            0\n",
       "1        N123\n",
       "2      G-EANV\n",
       "3      G-EAMC\n",
       "4      G-EAKE\n",
       "5      G-EAMA\n",
       "...       ...\n",
       "21850  CX-MAX\n",
       "21851   N14QB\n",
       "21852   N55PC\n",
       "21853  C-GMVB\n",
       "21854   N85AV\n",
       "\n",
       "[21854 rows x 1 columns]"
      ]
     },
     "execution_count": 188,
     "metadata": {},
     "output_type": "execute_result"
    }
   ],
   "source": [
    "df_reg"
   ]
  },
  {
   "cell_type": "code",
   "execution_count": 142,
   "metadata": {},
   "outputs": [
    {
     "data": {
      "text/plain": [
       "0            T-1206\n",
       "1            T-1204\n",
       "2            T-1201\n",
       "3            F-BANT\n",
       "4        CCCP-11815\n",
       "            ...    \n",
       "23912        CX-MAX\n",
       "23913         N14QB\n",
       "23914         N55PC\n",
       "23915        C-GMVB\n",
       "23916         N85AV\n",
       "Name: registration, Length: 23917, dtype: object"
      ]
     },
     "execution_count": 142,
     "metadata": {},
     "output_type": "execute_result"
    }
   ],
   "source": [
    "df_reg"
   ]
  },
  {
   "cell_type": "code",
   "execution_count": 313,
   "metadata": {},
   "outputs": [],
   "source": [
    "df['registration']=df['registration'].astype(str)"
   ]
  },
  {
   "cell_type": "code",
   "execution_count": 314,
   "metadata": {},
   "outputs": [],
   "source": [
    "def cubee():\n",
    "    a=random.randrange(0,21854)\n",
    "    return df_reg[0][a]"
   ]
  },
  {
   "cell_type": "code",
   "execution_count": 315,
   "metadata": {},
   "outputs": [
    {
     "name": "stderr",
     "output_type": "stream",
     "text": [
      "<ipython-input-315-9fb4d0ccfac5>:4: SettingWithCopyWarning: \n",
      "A value is trying to be set on a copy of a slice from a DataFrame\n",
      "\n",
      "See the caveats in the documentation: https://pandas.pydata.org/pandas-docs/stable/user_guide/indexing.html#returning-a-view-versus-a-copy\n",
      "  df['registration'][i]=cubee()\n"
     ]
    }
   ],
   "source": [
    "a=random.randrange(0,21854)\n",
    "for i in df['registration'].index:\n",
    "    if df['registration'][i]=='nan':\n",
    "        df['registration'][i]=cubee()\n",
    "        "
   ]
  },
  {
   "cell_type": "code",
   "execution_count": 316,
   "metadata": {},
   "outputs": [
    {
     "data": {
      "text/plain": [
       "61     CG756\n",
       "62      N123\n",
       "63    G-EANV\n",
       "64    G-EAMC\n",
       "65    G-EAKE\n",
       "Name: registration, dtype: object"
      ]
     },
     "execution_count": 316,
     "metadata": {},
     "output_type": "execute_result"
    }
   ],
   "source": [
    "df['registration'].head()"
   ]
  },
  {
   "cell_type": "code",
   "execution_count": 317,
   "metadata": {},
   "outputs": [],
   "source": [
    "num_values_year= pd.value_counts(df['registration'].values.ravel())"
   ]
  },
  {
   "cell_type": "code",
   "execution_count": 221,
   "metadata": {},
   "outputs": [
    {
     "data": {
      "text/plain": [
       "LZ-...    13\n",
       "-          8\n",
       "unreg.     6\n",
       "39         5\n",
       "48         4\n",
       "          ..\n",
       "XY-ADC     1\n",
       "G-ALDK     1\n",
       "VW812      1\n",
       "50-159     1\n",
       "N85AV      1\n",
       "Length: 21854, dtype: int64"
      ]
     },
     "execution_count": 221,
     "metadata": {},
     "output_type": "execute_result"
    }
   ],
   "source": [
    "num_values_year"
   ]
  },
  {
   "cell_type": "code",
   "execution_count": 318,
   "metadata": {},
   "outputs": [
    {
     "data": {
      "text/plain": [
       "0"
      ]
     },
     "execution_count": 318,
     "metadata": {},
     "output_type": "execute_result"
    }
   ],
   "source": [
    " df['registration'].isnull().sum()"
   ]
  },
  {
   "cell_type": "code",
   "execution_count": 319,
   "metadata": {},
   "outputs": [
    {
     "data": {
      "text/plain": [
       "'CG756N123G-EANVG-EAMCG-EAKEG-EAMAN521PAG-IAAC354O-BLANO-BRUNO-BLEUG-EATMG-EATN50805F-GEADN19CAF-AEBYF-AEDLG-EAPJF-AEEEF-AECBF-AEIFDD851F-GEAOF-ADDTF-ADFPF-HMFUF-FHMYF-AIEBF-AICQG-EBMSD-944F-ADFNH-NADUG-EBBGF-AEFCH-NAEED-946NC1492F-AEIEG-CATXD-1427NC880NC7687NC7862D-1473NC3443D-1137NC1076D-899NC7683NC9674I-RIDENC9636G-EBCPF-GEAINC393ENC9700G-EBMTNC7416SE-AAFNC9649G-EBMZD-1734OO-AHKG-AADNF-FARID-903D-1693NX124M29-28F-AIVRNC5358NC9689J6NC2492G-EBNANC279ER-131R-148VH-ULKNC9675NC7739NC457ENC879ENC803ENC135ENC8010NC5614F-ADFQNC.....A8598OK-FORNC810HG-EBIXP-BAHANC7118I-RONYNC580KNX419HNC9611NC517043-15322NC9647N63HJNC999ENC8418CV-FAID-896G-EBMWG-AACHNC421HSE-AAGG-EBLOPH-AFKX-ABCRNC9662NC9554NC41VNX9652NC427HNC7119NC812HNC4805NC652ECCCP-L718NC229MNC403HD-2201SE-AAENC9716F-AIFENC9664unreg.NC39NNC9650F-AJNSNC185HNC431HNC9666A8599G-AACINC7686D-2356NR9614I-RATACCCP-L743NC9607NC12373NC4806F-AIFDXB-ESOX-ABEAF-AMMYNC7120D-1019NC407HF-AIVGNC1235431-403NC8417NC7685NC7586CH-170CCCP-L742NC9655G-EBMMX-ABCSVH-URNNC8403HK-3315D-AVANVH-USGNM-7NC12395PH-AJUNC12363NC9609NC12376D-ARENPH-AFLNC660MD-AJYRNC7863NC13785CCCP-L825CCCP-I20NC7864I-NAVEF-31C-31I-REDIPH-AJQPH-AKMPH-AKGLZ-ANANC12393NC13722VH-URTNC14285NC725KG-ADCMFAC-669G-ACOYOO-AGMF-GHEDG-ABFBPP-CASG-ABCPOO-AGNF-ANPHNC433HG-AASJNC14274624HB-ITI27OE-LALX-ABCO25NC13721NC824MD-ASOROK-AIAF-ANQGNC14979D-ABILSE-ABALN-DAEK3166NC728KN66BKD-AZUR2NC5811G-ADEBNC12392G-ADZIG-ADZKG-ABFAG-ADYFD-AJUXI-RODIG-ACOXG-ABTKNC14273D-APOO22-74AS983D-ASUIG-AEOTT.3-32D-ATAKD-ASIH22-78PH-AKL45-6NC1373228G-EBVG24NR1173222-96NC422HOO-AGRNC1607322-58NC1373422-70G-ACVZG-ADVANC13730EC-AGKEC-AAYNC8410PH-ALPEC-BFF33+K3936-81NC8404G-AAXENo. 2ZS-AKY22-66PH-ALFXVIIINC15065I-SUSAURSS-M25NC16930NC1373922-51NR9648NC1429822-61NC12364NC12394NC12397LG-AAEG-ADVCPH-ALS22-62NC16074S2+POF-ANQAOO-AUBSP-ASJD-AGAVD-AFYVD-AXATG-ADUZF-AOTZCB-18D-ABURNC17388NC16734T908504630462D-AALUF-ANPBI-ORIAD-APAREC-45-ENC13789F-ANQRCCCP-N210F-AQBBHA-FNDI-BEZINC16932I-MEDA3C-60NC173941PP-CBCNC18108NC14272OA-HHB33-321NC17383I-VOLONC18114XXISP-BNGG-ABTGNC14714HA-FNCNC8413OK-BAGPP-CATSP-BNJI-NILO779932NC435HI-DENOL2162D-AMOKD-AVFBPP-CABOO-AGTNC13735NC7865VH-UYCG-ACZNJ-BDO.PH-ARY0482CF-TCLG-AFGOI-TUONSX-BAQD-AIVIG-AETWNC16066D-ANOYG-ADCND-ACONJ-BBOHPH-APEJ-BDOBHC-SABHB-ITANC17389PP-CAYVQ-PAFC-63VH-ABIG-ADUUYV-C-AVAF-ANPJBFOB-2152NC15376D-ALUSCF-BEPYV-21CPXXIIIG-ADUYOO-AUANX19901NC13727M-CABDJ-BDOQLG-AAHNC8411CU-A188599834YV-AFOG-ADVDF-ARIC1234XVIIJ-BCOZOK-WDCG-ABTHL5801PH-AKNG-ADVEG-AFCWL7596D-ANJHD-AUJGG-AFGNNC16933I-LOVED-ULISD-AFOP59225K2345WL-AGZGN61352D+PHL2165124290G6+CZVH-UYBG6+KOC-GMVBN9045I-DIREN9030I-IESI ?G-AAXD22-104T-16622-94I-BAUSM-CABAG-AFYUG-AFMOPK-AFONC5092J-BBOTI-LEALAN-AA.TI-33G-AAGXF-AOHAXA-BCWVH-UYWI-SUTOG-AAXCG-AAUDNC13786N7029CL2167RA-74037NG+VD08428VT-TMM1Z+FMSE+JZCN+BSNG+BUA24-13LV-AHZDB+JY1Z+..1Z+AT1Z+GS.. + ..1Z+MN1Z+CCSE+HUSE+H?1Z+IYSE+HM1Z+BCBA+KKIZ+FTSE+KCG-AFKDTZ-ABH42-23660OH-IPACCCP-L3405HL77629Q-CXBGS+AJ44-77454AR+EB44-39286H4+BJG6+VKG6+MKG6+HK9P+BHN366TAN465FLYR-AMDU4+ZKN317PACF-NAJN3172A6502NG+VYNZ5804JM675AF-101D-AELBF-WRSN43-47335CCCP-L3437PH-ASTPH-ASPPH-ARXPH-ALUPH-ALD42-101093PH-AKOPH-AKPPH-AKK9511Z+LU1Z+AZ1Z+KX44-49025N1244NN20FMC-FSJBVH-WGGN587JAPP-SMCCCCP-11376N888ARCF-QBHN3121BP2-DWAN6127ACCCP-05667C-GJWW7U+LM42-47382N988MCCCCP-9157113555504463MM61996B-68801CCCP-9172655-000244-77157N144ZVWF32442-10070342-72558XA-SKOYS-05CEC-AACPK-BRDF-BHHAEI-AOM63-9759D-CIRDG-AWXI60141106243-15254YK-ADACCCP-49345CS-DAFN700DK42-2335942-9653943-16397N2940HS-SLAN9503ZN706MCCCCP-424955H-PARKN662DV990LN-BBAEC-ELYF-GJMAHK-13005Y-SLMOB-1542ZS-JLZXW-PKK41-7694CCCP-8671893-1458B-12238141010F-BCUIPK-ALVPK-GFVTC-AUYOB-139645-57785YN-BZFPA-5462-1843YU-ACC9Q-COLN114TD43-16243CCCP-45228PH-KXLHZ-GP5CCCP-75526N44PABJ+YQYV-C-ARERA-88170A24-37013158244-9078ZK-NZP4X-FAX/077CCCP-7088044-77645CCCP-67273N3124012-036OD-AFWPK-GDYNAF-3-642C-FBSFCCCP-75663N740543-16422CCCP-46276N7640U44-77786J-BOOJ6Y-JMOST-AFKPI-C142-23343F-BAKLCCCP-43847640205SP-LGCG-AGBC1003N1822ML5+11095YV-1070CPUR-62681N3113842-100522HS-GBGCCCP-672378983HB-ICTMW242OO-AGP9P+KKI-LUPI1Z+NC199059P+EMCN+HJG-AFZROO-AGSG-ADSZOO-AGZG-ADTAOO-AUIYR-ABFF-GLSABA+HKCM+BUPK-RVUYR-ILO54-6491901DC+SPPT-OHDCCCP-91730140962KI+ALOH-ALLF-ARTDG-ARPI84-02119S-GAXSP-BPMG-AEWRG-AEFHCCCP-91570G-BGJLF-AQBAN6133AX841SP-BPKCF-AZB269AS981CCCP-L3409D-AIAVAX903YR-PIFNC21789G-ACJJX5000SP-BPNEC-AAET5357G-AFDLF-AQBJRK+AQN5904XY-AAIXXV39D-AAIHT9045P9622N703THNC16086CB-17D-AVMFPP-SPFAX688T904441-38604G-AGBIG-ADTCI-ELIOF-AROAN9048NC14292NC25678TI-51AS98236-78N9046LV-RABG-AFDICX-ABBXXI-ETRAF-AQBHEY-360C-FJIK9622668NC16072I-BAYRI-LUMEHA-JUAG-AFGR23NC173156880201CF-TCPVH-UJO124440RA-47305G-AFCX4V+EH22-89L5804NC28394EC-AAJD-AQUB0467L2164NC15592CCCP-L149637-374ZS-AST264660NC21727G6+KH1Z+CL1Z+KK1Z+LL1Z+JKAX682E-101NO+RH64343-16025L216149949/F-RAYCN9023URSS-CZS-ATHL5807T9075N9049GF+GGG6+EK9P+MURF-94603NJ+NLD-AUSSZS-OEZBELEMKD+II241NC5809G-ACWCYR-PAFP9603T.2B-252NC16928P4+ ..HK-17704470CCCP-L3433E-10.AH557CCCP-L34672347CCCP-L3411CCCP-L3470CCCP-L3466CCCP-L3939AH533CCCP-L3460CCCP-L342741-7705CCCP-L3469YU-AHZ37-372URSS-M138CCCP-L3421I-PACECCCP-L3459L2166N568UPNC14279CCCP-L3431CCCP-L3429G-AFGP0496CCCP-L3432CCCP-L3919CCCP-L3426642JA8658PP-PBDCCCP-L3483OA-HHC-304644CCCP-L19962338F-AQNLCCCP-L3923HK867JX273CCCP-L3908AH5652402CB-CAM-2FE-1CCCP-L3926HE+DKCCCP-L3917CCCP-L3420CCCP-L3462CCCP-L3491CCCP-L3494CCCP-L3970CCCP-L3978CCCP-L3496CCCP-L3925CCCP-L3936CCCP-L3449LT-910CCCP-L3957CCCP-L3419D-AUXZ9620DG4712346VH-UTBCCCP-L393042-100519NC21712NC25663DR+WHOH-LAK2325Z2141CR-AAXCCCP-L3488CCCP-L3951NC6894CCCP-L3927CCCP-L3985CCCP-L3955AX760FD954CCCP-L3989CCCP-L39871Z+OKCS-TSBW3988Y-44CCCP-L397323572421236923642423243124352436244424372434242924202362243024252359236123652422244124392440A31-8NC16735DG475N305UPXXII26A24-15N119AN577MXXT-AGECCCP-L3922XT-ABECCCP-L3453W3998CCCP-L3958G-AGCZ36-79CCCP-L30431Z+ITPK-ALNG-ADUXCCCP-L2010PK-AFJN44MN804FTD-AEAOD-AHMSD-AHUTD-ARIWD-ANXGD-AFCDN7974AN482U55-0038N951DJPK-NCLCCCP-25588PH-BHAN344MMSU-AKX2368Y-582452CCCP-L343836-72G6+GW43-48294232623312337A24-11L2163NC1946CCCP-L3450Z2148VH-USXVH-UOVVH-URQVH-UOUA24-8A24-9VH-UXDCCCP-L3404CCCP-L3968CCCP-L3979PK-AFWCCCP-L3479CCCP-L3977A30-8CCCP-L3934CCCP-L3476CCCP-L3905CCCP-L3485CCCP-L396423142413G-AEUH1904DG474653CCCP-L392041-2005158G6+GYSG+BMVH-ADS230923212304TA+BY?24692345X944112141233230604408PK-AFILT-922VH-USEN62462483Y-4712445BJ+ENPT-MEA41-20066PK-AFZY-63FAH-7A18-12PP-VALG-AETZDG478NC21788LT-9181237PK-AFVG-AEUC1227W8433FV-WY-59Y-60Y-67Y-70PK-ALOCCCP-L3471CCCP-L3497CCCP-L399638-525NC96137299NC21750A45-23136-82PP-PBECF-NAECCCP-L3975G-AEUFBJ+ETPK-AFM2462I-BURAJ-BKOJ2487AX904HK84472667269AX755NC25623NC5093240942-38254A31-3VH-ADY41-7710TA+BXP4+HH728636-802400TF-JMENC18146CCCP-L39802476A24-18246A24-20LR230LR2315032MM65037CCCP-L3999NC2171441-51901Z+GVG-AGCRG6+MP7249232705018I-MELE7U+IK38-50541-77282453CCCP-L393541-778422942393044394650705023CCCP-L39522329044042358NC5493L5805CCCP-L39330879050267252CCCP-L39617298DG473CCCP-L4001A30-741-2006936-73NC664MCCCP-L3423CCCP-L3484239902954CCCP-L34472458G-AGDF42-56621AX7621Z+OHCCCP-L39480445942-56093CCCP-L3997F-ARTLCCCP-L3945CCCP-L3954AX840CCCP-L398142-6455VHCADCCCP-L3461AX76805076L5806CCCP-L398372917U+LK238923500498004414CCCP-L3492T9090F-AREJCCCP-L4007CCCP-L3921FP15142-6463VHCAGVHCAIL2158VHCXA0447404468W4029PJ-AIP41-7803725541-18449CCCP-L3430W402641-38618T911336-1044762376XA-CABW392741-7701G-AFYIA30-5HX78942-1587241-18379AX68741-184857247FP52541-20112G-AFCZ0488AX769F-ARIZPP-PBG04477PH-BDST905038-524NC4188044-832350198152VHCAE42-4361941-1858541-200470907EW984D-AYGX9P+ESNC1601741-38116KA+SBCCCP-L4034A44-1J-BIOG41-770243-23665A-DCSLR232NC1895141-2011642-155697U+FK41-38615FP53504454VHCXB42-688600296841-1835541-7814I-FELI41-1858741-1856441-1861341-7856EC-AAF41-1835341-7695W60547U+FH7274727241-18469G6+AZG6+ASG6+FN53-8102I-TELOI-ETNA60CCCP-L3965651G-AFYGNC1606441-1837841-18389V1+EB41-1836941-7685NC6892DG+KF41-19731I-MAGAA45-141-38628A30-10DV97241-2006524070295141-1856041-3863141-3863538-51641-7855VHCAHG-AETX41-1857141-1849442-3832441-18453CCCP-L580541-11707D-ABBF42-57228VHCDI41-784138-5140502702966HK-7257245CCCP-L760NC1606042-4737908135OY-DAL24841-20098CF-CPD728541-11742CCCP-L390341-1867404402FP23908100CCCP-45061NA+LDD-AHFND-AGEPD-AGBID-ARDSN45378D-ABVFD-AXFHFAS30241-185404696HK-1400VT-ATUVP-BBNVH-USCD-ASLGOO-AUG0450204482N92090809736-345EW986N75000049741-77879737EC-FPD41-18432A30-131Z+LQG-AFCKGC+AE2367NC1609041-18573LR23541-1859804431F-ARRF730241-3293955-313841-18658KB+QV41-77182310L580208043TE+DQ41-1170841-38667N12763NC1471542-5661405051NC336458T+EK41-1859141-18440CCCP-L3443DV97941-3866641-3868841-20128727802965I-EURE42-15537MA92943-2004045541-3865841-239030443842-5609941-2385041-1843008033PP-AVA4608158G-AFYE41-3858143-305959842NC1860342-3279942-4737343-198941-5176NO+IJ08163VHCAJ42-56628A24-2541-19467CCCP-L349541-1229441-185612334CCCP-L3913A-21060447541-1852141-19493A24-22D-CDFA0805472975342-328710449741-3866241-773642-3221641-2369441-186424941-773841-1834008181HK829VH-ACBT911142-5661008409G-AGDA3949208136MA928Y-81A65-242-5695CCCP-L3440LV-XIH04461235408251AX844C3+OH42-2336542-5596412462238505038G-AGEJ41-18337FP138A24-4141-23791I-BONIA24-161Z+JY41-20056247A24-36I-MAST41-1838341-1860842-2336741-194711Z+MZ41-18545I-MONC42-55864VH-ADU41-3857441-3857843-1628741-2369642-55852A24-4305055376664693C6+AK1Z+CQ43-1582908229C-FOOYFP22441-771741-3876042-155340891980741-3864141-518008290I-BELO41-2366942-9202436-8523235570832608226CCCP-L39310444541-1865141-18661W607541-185620440341-1836142-3286142-649741-123007271728942-6482GG+FL41-1231742-2340939-2168CCCP-L390941-38645FB110A24-3904411URSS-BDD84641-20076PT-MEQ41-3871042-4737441-12355YV-ADOT9114CCCP-L349941-1232308175G-AGBB41-18450EJ134CCCP-L402441-1948841-38726CCCP-L39320440541-11837CCCP-L34442-108790NZ400608078W605241-18634URSS-N42-23512FP27541-184821240641-38689N954VJFP214727341-7737FP23241-18565DV9670277/CTA-5CCCP-L4035729042-38325FK45942-23640PP13842-2378441-1848343-200942-55957083180831241-784341-12329VHCHE41-2012708422FP26542-55971OD-AFCOY-JRJ41-18466240541-123900198442-3219841-12401DD857FK618HK-120241-122980444741-51680199042-6870841-12310082940832442-107281HM15942-2377741-3875542-649341-1860541-38663FD88841-3727141-38711FD87642-2336641-1869842-3291542-55889FD77442-6876142-6874042-1588442-2378642-2359642-2380142-6878542-2349242-2364641-1837742-5687FD81541-1860641-1859341-3862441-3862041-1852542-2350642-2351342-2364441-1852242-569141-1851941-1851142-568942-568642-567642-2340442-3292542-3292242-3291842-233400824641-1851842-6871442-2341042-2352242-2348141-1841841-3859141-3859441-1948342-3291041-517542-2372641-1851241-18534G-AFDK0498141-3873042-646423720805108055CCCP-L400042-6880141-2014342-23616G6+GJ41-38748HK84342-23618MM6064341-18363NC1673641-3864341-3857242-68783NC16014G-AGES41-18692124059789CCCP-L3489CCCP-L391242-2383941-1242042-2334642-2395741-3865641-2402741-12319FP114DD8591241142-2365341-520441-773342-55948FP10141-12343CCCP-L398242-10725942-2353442-2370041-1862841-184314842-9206142-23782G6+KSDV96841-12403I-BETAFD83841-1868241-1866842-23804244641-1242841-1852341-18489A24-2443-197141-1243005040CCCP-L395642-23635DD84842-10902342-10727441-2385142-5595442-24125FP28741-18543Y-84229841-2464741-18626VP-TAHPP-SPD42-6874612433SE-BAF42-23698CCCP-L4047EP-GPACCCP-L395942-2413441-12296J-BIOA4V+HNA24-5042-3287241-1174442-2378743-198042-6884142-23711KG51641-1243142-56006A24-5241-24140F-OHFY41-1233341-518442-2388541-517742-2391541-1190842-5603741-124212424CCCP-L4012NC3365741-1230942-2413042-5592141-3859741-2465141-1241842-2428141-1857042-3283042-2347942-23919FD892FD893FD921FD83242-2330741-2465242-24188FD806CCCP-L400844-7657442-68729L5798CCCP-L402941-2464642-107263DV96942-2411342-6471JM71041-12356NZ4002FD909NC668M8T+FV42-2412641-3875941-1856641-2464441-5170CK+QI41-1946442-6878842-56014A24-67080470501341-12422G6+KL048133999339673396569FD89941-1238941-3876142-23508313442-2369472NC1600841-777984AH5510811341-1946641-2466742-2396541-1863742-567708169SE-BAG41-2465541-2464841-123256104720816242-23521CCCP-L3742-6880541-1232642-23584244741-1233241-1841642-10726142-234987842-2343041-1229941-1231341-1239342-2440042-2339141-3870241-517241-3857541-18498CCCP-4656741-1230841-1240941-38593FD82942-3283941-2466642-24360FP12041-1846742-23848CF-TCX725141-1232242-24018G-AGIB39630983434035GG+FH42-2386941-517142-241150807041-782442-92107HK-61342-6880942-2372342-100463EK57241-18372DP181DG47042-2384742-5671DD86308442HK-2910XYV3304DI+KG43-3055342-23581100141-1231541-2464541-1232742-23420FD79042-2358942-241070447342-5589841-2466341-124170803408038W4036NC199685963VH-CEF083880198841-11675W603142-2350242-32929L216841-18648NC33349FP24041-18675726541-1228741-12321FD96041-781142-100496BJ975VH-CAB0811841-1180041-1854942-2427142-56049247241-236957261FD79341-3874241-1241541-3874442-2402842-2403042-107270FL51541-518341-2007442-2422743-3075242-1554742-23659DF+DG42-2436542-2406842-100511RO+SL42-2361141-1949404830831641-7854W6013FL5450837241-782942-2385141-1841542-2422941-38687Y-7841-1241942-2359341-1178942-2369542-100470G-AGHI41-516341-24642A65-341-1855241-3859041-23095 ??42-9231343-3073943-30719G-AGDE83233042-5609743-3074205015DW106978642-10725141-1239742-10050342-10051204462CCCP-L4032N98H41-2466143-3073342-2412142-23500T228FD9037U+JL41-2474341-1948942-242721243242-23642EJ14042-9206742-568442-2377341-2471333963DF+DX41-246417U+AH210D-ABEWD-AAIF44-77788D-ACBED-ADHFD-AGUKN125ED-APXD41-2470241-2475243-198242-10726842-9204641-1240742-9204242-10726442-2439942-687800837741-24748JM709FD80242-2427642-3641FP1930817242-6883742-238738T+DV42-2359241-1837042-2372242-23691FD91341-1868141-1230542-6872842-23917CCCP-L83742-10067941-201290851041-386800466D-ADQW41-1238442-1553241-2468941-1242434018FZ63241-2467641-2475443-3068242-100615VH-ACD42-10069641-1947641-24660047941-2474141-1947841-7762CC-CLC-007243-3057642-2421742-9204841-1861642-233020838642-3220342-10726241-3860942-68751D-AAID41-3729208308L5+GH41-1240642-23407FD81141-2473941-2385242-649641-1241341-2470841-2470741-24696DW11038-50141-23862VG+FJJ-BKOL41-24658P4+CHAJ16041-123954839841-1242541-2477342-23487YL-LCH41-1241442-10047498042-2441842-10050841-1844843-16138240642-51887VA71843-1583842-6094944-3924643-4831442-9330642-9330242-6106742-366842-10086342-10096542-10102642-2406642-2411142-9206442-9290443-1509843-1510243-1511143-1530243-1530843-1603343-1603443-1604943-4839142-10888442-10058142-10100442-9380342-10052742-10098142-10051742-10087443-1549142-2404442-10056742-10064842-10067142-10067242-10067642-10080143-1573843-1518043-1518543-1549843-1562943-1563843-1564143-1564343-1566343-16032KG57042-100556KG59216+1143-15139FL64042-10055042-10073443-1588842-32806N615CL42-100896N6654942-2417742-2420642-9283942-9300142-9309843-1517542-9657942-92996KG388KG428FZ62642-10739742-10055142-10077043-1586142-10883742-10075343-1535442-10087942-100643KG40142-92919FZ57442-93700FD86543-1587042-2412742-10088543-1591742-10055542-9273942-9284243-48355KG37442-32180KG324KG4183907742-5164742-3292741-2475843-48231KG376KG387KG399KG417KG444KG489KG566KG579KG586KG404FZ620PP-PBH43-15489KG346FZ65643-16132KG51242-9289542-9302942-9306443-1533943-15612KG34042-10736043-1576842-93689A24-9442-10068043-1544343-15914XA-CAOKG43541-1863342-92737NC9082442-10100742-2393542-9350743-1560943-48400KG315KG37042-23783KG65343-3061444-3920343-4826841-3868142-366642-1073834659942-9267642-93499KG44943-4823642-2436341-12320D-AMHL42-5184742-2392243-48395KG54743-4825942-9655143-4871243-4849842-361242-93275FD896KG422CCCP-L343643-1580542-237097U+HN42-965373909342-6876342-6883142-920623907542-9350242-5182542-10054143-1577143-1643142-68812NJ18142-9373741-1844542-5175841-1854643-4878010142-3220023523908642-10059542-359542-365543-4877843-4829942-9376142-10084343-1584642-92059KG57443-1581242-9669942-9655343-3059043-48232PP-NAFVH-ABB43-1541643-3057242-10074242-10077243-1554942-5189042-23704U-86241-2471142-9357341-1845242-5595242-5596844-3388943-15898SE+HZA24-903401342-10731442-363542-9676243-16414D-ADQV43-30720D-ASHEU-86342-10730743-4699742-7224942-10729942-10730043-1643243-1577642-1007f04483707U+OM42-9673641-1855742-93773NC1861843-1538742-9352542-9657543-1585642-2384943-160307U+OK41-185330503243-1545342-2333042-1073177U+HK7U+GK7U+GM43-15851A24-100FZ65541-1862742-359341-1836442-55955083634647142-100766G6+HH42-6100041-1235742-9671641-1868543-1596143-4863408321KG35342-9663941-2473142-9377241-3864943-4827241-2473343-4859242-10086441-1845842-367542-2384542-23469VP25641-1836742-9270042-9299842-6882243-30749KG59342-1009116400942-5589142-92785NC1994517184KJ98642-93621NC283108043-4699642-93082084347U+IL3906343-1526242-6096243-4844942-2366143-1632542-3287643-1586443-15865FD924FL55442-10743841-1854743-4848642-7225243-4847341-777243-16143CCCP-L83542-2360543-4870742-10742742-10096442-242031102244-3920841-783443-48478KG59142-68806PK-CTC1101743-1545143-1543243-30649CCCP-L92842-9665843-4936543-1503842-242139842-6098441-780442-10046543-1582042-6103242-6100943-17146049543-1504642-92032JX24242-24222KG31841-1237342-10047242-9203142-9657442-92811KJ85542-10118442-9655443-4920942-2333242-10104610642-6871342-9350443-1581942-10728343-1583643-164073767742-9333043-1586343-48605CCCP-L411142-10104842-7232042-9375443-48914JX25242-9283743-4797543-1636142-9352142-2437342-64860497343-1634343-1627942-60946XH-TANJM67343-48626A26-6D-ARHWG-AGBWKG52742-9323243-151315643-15796FZ63743-15122NC1732242-321974833143-1547642-10084142-10738742-9298042-9323842-2342241-201441108643-1550042-9376043-1562643-153740813843-4889043-16216FL58843-1582143-1569841-18632KG63942-10089241-201004651243-1538843-4913442-10046142-100587CCCP-L416142-360442-9204442-6094242-9336542-10894243-1545642-100613KG58442-2421543-1545743-3074543-1638842-9653142-9677943-4700542-9288743-1551643-1604741-7859KG661KG710A24-6442-9337942-9334342-9681544-7730742-9671342-10073241-18393FL60043-4888943-1976G6+DUML8834V+OPG6+MUG6+EV4V+GP42-966501106142-9654944-7730042-101197A24-76KJ88442-60998JX20843-1606642-9375843-1580642-10103842-10113643-49136KG498CCCP-L87042-9359041-3860842-935083906942-9279742-3222943-4796343-4797243-4912042-10087042-9208743-3073143-4893843-4805643-1592043-48407NC2175243-1503543-4892442-10102443-1548742-9309943-1611443-1583042-3287342-10113943-1604343-1566043-1615142-233605079842-9333344-7738742-2395043-4871842-10064442-10091642-93801FD86343-1565842-6875243-1508442-10090442-10086242-10090642-10090742-10097742-10084042-10091042-1554944-7734842-9280243-1584943-4863342-364243-1552843-1504942-9238042-92680FC-BADKG338KJ95842-9324243-1583942-10044142-93244F-AREKYR-NQM43-1541854-406942-23645D-AHAL3949741-186931243442-361042-23795A24-3442-10727341-2474542-9205243-3071842-100873FD77541-24640NC2176742-9205142-9203841-24729D-ABOW0853542-23713CCCP-L406841-18396VH-CXIFL50542-100699CCCP-L84642-10083408463083780505742-23781019891Z+KM8T+GH238057CCCP-L84741-2466241-2468241-1233942-1006930850642-10058842-243987541-1236341-2472405043W602842-10084842-23776D-AWAS41-24653LN-BNK41-3872742-32223CR-AAV42-2387541-772541-2470341-1229741-2472641-2474243-30645FZ58141-782742-2383742-23842CCCP-L407642-6880041-24775HA-MER42-358842-1005441Z+KL41-1846841-24673VH-LCL42-1005861Z+FZCCCP-L87541-1237442-5704KG396KG37542-362742-10072312430KG44642-2422841-2468091N961SW42-10092448259CCCP-L4064FZ67738-5303963220+02FD88041-1868642-10087742-2331243-1508943-1518142-23888FL53942-2401942-367142-23834HK98043-3056842-55938FL65042-363443-30575CCCP-L399042-15539FD91042-23863KG36641-2472241-3727843-1530343-1514341-247175141-20080046542-23920DP+EH41-3727442-24128OO-AGUFL641FD850FL511FZ59242-5597443-3060842-9294442-55919FZ59041-2468843-1517742-6095343-1510542-10049343-1607241-2471442-10092342-10068441-18568FL54342-9281541-2475343-3065941-7842OO-AUF083393950138-510650542-10045742-10725642-10046898090804441-51748T+MP42-24396FD91142-23932RP+AXKG369FL540CCCP-L853NX3709743-1559542-2425942-2392742-60997CCCP-L877HK-2494I-ADLM42-92848KG50842-9278941-18592FL569FL53043-155701724441-18621AH541D-AOCA20+0161+11FZ55241-38613FZ683FZ5764844941-1847741-19497FD84642-10070042-10095942-2402942-24320A24-53G-AGFZD-AAIG41-3730441-2476942-363043-3059441-1850442-93080FD95242-359742-10045842-1088420828348376FL602FL601KG46241-2471042-9299743-1566242-2369341-3858842-361141-19473A24-491714542-2421841-2472342-3286908431I-ELCEA31-23143FL54942-2437642-23520 ?A24-32FL53442-360542-10068942-1588541-782542-10083243-15515FZ599JX5814V+BL42-5585742-2392542-6104742-63779FL50641-2470141-1946843-1544041-19485KG5484652046500FD848PO+GO42-2386642-10887742-92679482807301FZ58241-3294242-360742-55988FD85941-1844642-2352742-92992TJ-CBC43-15463FD9379043-1538341-18412VHCAK43-3059342-100695A65-3342-9208642-100549CCCP-L4063390739242-100682CCCP-L83342-359141-1837408505FD948A24-730850942-10044041-3870941-3870741-786642-10728242-2351042-100936FL57642-367341-3870442-2360042-10061443-1539842-3286842-920508242-61058FL574KG49441-2469443-3061242-3222850013242-10893941-1834641-1835642-93115CCCP-L84342-6095141-3873542-2435941-1849234033KG517700141-12379FZ56342-10094342-2330642-10048142-10089342-93340ML811FD88642-93334FD86642-2430741-2467742-6870343-3059841-2466843-3060642-9297442-10090542-10063343-1510142-10087642-10081942-100733KG347KG356KG424KG426KG43443-1511942-2412242-10091443-1534243-1516943-15186KG42942-6873442-10887043-3073541-3869842-9344842-9241542-9300242-2409942-24077FZ69042-9246242-6869442-9286842-9284543-3073442-9309542-92894BJ+YV42-2363842-10101942-10102542-10100642-100803ML858A65-1542-10090242-569943-1563741-3867942-93065FZ667KG32943-1561543-1534042-92897KG480G6+OL43-1533543-1563243-1507843-1516543-1504843-1514642-10073542-1073358542-3286641-3857342-10043941-2400642-558901101942-363342-10062841-7835FZ54843-1540308536KD+IJML760ML88041-18636981641-7793047343-3055642-9337243-1539542-93192JX25843-1537142-9280943-1578842-6099343-153590846948427FD935KG3437141-2469043-30583FZ60041-3727741-2469941-2471641-1855343-3075042-2340542-9335044-3920543-1578343-15795T907341-200964835741-11639KG413FZ598KG493FL504A2+AA42-100623975442-6096942-368242-100888KG51942-10070542-360642-1007524832642-92829CCCP-L88242-9338543-1540742-2365842-5589642-6103942-357442-6108042-935413398041-18382RV+IT42-24262CCCP-I35441-122880442642-365842-6108442-10049241-78161Z+EQFAH-32242-2441242-6108141-1838042-24075FZ58542-9311642-32807A65-3743-15767047142-10887343-1534141-1843742-6102442-2351543-3060041-3870842-2370542-6094543-1536242-9278342-100480483611718043-15604DV991CCCP-L87642-6096442-363141-1846241-1836842-9337141-2469343-1568243-15560KG47243-1556241-3867742-36010836141-2472143-1529843-15563A24-4543-15417CCCP-L4042-10729742-10071242-9211542-10892343-30664G6+OR41-1838842-9303508174FD8361712842-10098843-159623909043-3060242-9204941-2475142-10737042-9334942-9333541-779208137YV-ADI41-1170642-10747042-9369543-30565FZ61043-1560742-933923014742-9303842-361342-2377841-3870604944646142-9203042-233343908943-1509742-9349543-1606744-3921542-9349842-9288842-10102243-1555242-5589942-23769KG461KG53741-2413942-3568NC1426843-15153KG6908A+AK41-246917342-93501KG457HB-ISI42-2395542-6095542-2365243-1505442-9335841-2469811011FZ59743-15410KG801KG779FZ67442-6103442-9334141-1851442-100482NC823M0814096643-15332D-AURE43-327142-9338742-9376741-24692045014653843-1547342-5601542-2417643-47992NJ17543-1559843-15621KG6250833143-3058742-10728808494D-AAIE42-23720KG78442-10739042-9273504542373A31-1DP19743-3058042-9653041-3858443-3058242-10893042-361643-30640KG78942-10730343-15162CB-25KG421KG75242-10736542-9307142-10096741-1174541-18507FZ59643-1538143-1538042-363242-100636PP-PBJFZ644FZ55042-356642-360942-357542-6105242-10057443-1512841-1833942-2347343-156553396142-100630EC-AAG44-3921441-24704G-AGIR42-72171EW98341-3872143-47977G-AGIH43-3061642-24258PP-PBI41-38565392969743-16342YR-GADJ-BIOF41-2471242-6106443-1580242-10095842-9654842-363942-2428843-2034D-AUAW43-1506742-100821S.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 (2)44-4925144-3920442-6096543-488809443-51748KN233KK17942-10050741-3867342-10109044-77406A65-3943-1717642-10102342-93664680742-10735743-1638344-4923842-5141142-93493ZK-AHU43-4978844-7623443-1536643-1623444-4899542-2395242-10061744-77919242642-10095142-10058242-570042-10082444-7664942-10734144-77477PP11642-9655222-9544-7791043-157851713344-7736943-1508142-688430504142-100466KK21742-933380803044-4901141-24681KK18043-1617043-4726142-2402743-16356FL59442-10117742-10099844-7750742-7238542-6096642-1011814838443-4940239580396081716242-10046443-15243KJ982KG500KG59041-2474944-7815743-30605KG72442-9382142-3283644-7733042-9298143-4911643-4713944-7736641-781244-7746244-779395081843-1624841-2474744-766691724044-7640642-5202342-6103744-7785742-9672642-6106550803XT-T55A65-6246468KN28342-23470YS-2244-7738144-7814143-1614859062NC33611FD88943-1564042-10108744-7765641-3874642-96740KG71543-306101727743-1532844-49723KN25443-4976241-38605KK16744-78243NC4534743-49118KN36343-47994NC2178639579N32HGFD91944-7713842-93447F-BANP44-78146KJ817KK154CCCP-L4150KN557KK199NL20542-72193FD88243-15469NC1997064029FL636PP157G-AGIY42-101210KN659KK112CA5D-ALAFCCCP-L4131KP23643-16421KN49644-7822642-93339KN500KG427KN326OY-DFENC2567542-9358544-7808244-76436CCCP-L85445-485F-BALKKJ99643-1575542-92879KG50290395F-BAKOPP-CBS42-23619KP219T.2-542-93598KN205YV-AFIKN229KN206KG397VB88544-78240A65-1143-48915G-AGET43-48320PP121CCCP-L4162G-AGEM50695KJ851KK208KG799NC14941A65-110A65-24C-157KG425NC21799CA2G-AGEVOK-ZDNEK595KJ951NC39188NC41798NC13726VH-AETG-AGHV48389FD828FD823KN317KN351KN61443-48775N826AT45-108544-77256I-DEIBCCCP-L893G-AGLX44-7740343-16211KN366PP103KG66008437514FD783NC86510KN644KN643KP27039100CA64661248270CCCP-L924KP24150771KG361HC-SBC42-10074043-1636044-76640MW180MW252G-AGHKKG59442-92056PP-CCAPP132AN-ACCG-AGOKNC3362141-18530KN57141-7770PP-CCDMW256CCCP-L27FZ55944-7833944-78555G-AGMCKP27144-7826843-156764422342-93717KG521KG741HC-SBENC53218G-AGMH43-48308LN-LABMW19145-48917144KK188MW250NC30065KN501KJ9680830744-77251A24-113FL509KN537KP26143-49018KG74743-17231F-BAMLEC-CAZ43-4856141-24684XA-FOH43-16213NC88858EI-ACAKN226XA-FOW6883KP264F-BAJSKJ91817187NC28383G-AHJBKP23739585NC865134765571722444-77139HC-SCAKN221KN24744-77202SZ559RN26445-93044-22964KN687OO-CBHKN585FD794C-101VH-UXJF-BBAPXA-DEEKN43042-6540399852G-AHCS48284NC50040F-BAJTNC4533743-1537642-100917B-46G-AGHTG-AGLU42-10079264011OO-CAG42-24374G-AGMFNC5187843-1627642-93450NC88826G-AGWJ43-15353KG665CF-TCJKJ819F-BAOB45-1048F-BAXDOY-DEMF-BBYSNC57850A65-115CU-T16CCCP-L35VH-ANMG-AHEWNC91002MW184HC-SBINX91068KJ86243-4855996263999OO-AUROO-CBGKN529TL-KBR96750715NC88831KN414SZ564PI-C59 ??45-968NC90904G-AGBH43-1528642-100915MW12508530NC3005142-100456F-BCAANC88729NC86512Y-8743-15647PI-C92NC38942KN236MW208PP-PBQKN63542-10050643-16199F-BCHD44-7726544-78415F-BBYLCCCP-L4278F-BCAD43-4989943-49141MW22544-23020CCCP-L4181CCCP-L946CCCP-L4207PH-TBOPP-NAINC45353OK-XDGCCCP-L4145NC2075044-78258FZ570NC19947NC18645XA-FOZPH-TBWHC-SBD44-78691G-AGBE42-68846MW20544-77156T-165T.2-76A24-106RX-76MW168KN286T-1NC56743MW268XA-FUP6G-AHCA3952844-7860443-16322CCCP-N40044-2302242-72541D-ABELNC8887643-16378G-AGZANC54374NC88813MW241C-406G-AGKDLV-XIGNC45395NC30050OK-WDD140115NC58024NC86505NC1557759098NC88873N30GCCCCP-L26/2843-10314NC13715G-AGJUPP-PBNNC50046XT-T51/121NC21746NC95412F-BBYKOO-CBONC25687VT-AUFG-AGJXPI-C100NC8887260-03MW228KJ858G-AHYZKP230349882XB-JVVC-108C-204T.2B-270KP222VH-ADT0820443-48936CF-TCQ39079OK-WDBPI-C12138VP-YFDPH-TCRG-AHOKP-204NC51894N906MWF-BAXQKJ97117131NC54451PP-AVGNC4456748-413CCCP-N39444-77205ZK-ALZ48328OK-XDUNC59486NC59398I-ABQHC-114OY-AEB42-93723349048G-APFN43-15357NC33646KK120VHRETT-154KN203F-BAKPCCCP-L952ZS-BJZ92002C-400KK122PP-CBIVHREZF-BAXONC88804MW202VB886YS-28MW198ZS-AUKC-20243-48303YV-C-AMUF-BAKM42-9380444-77288W-1259002NC5271044-76231YV-ALO43-49258SE-ACZK-14G-AHEZC-803ZS-BNBNC4965742-23368CCCP-L1204KN320..-141CF-TDFYS-30F-BBYGMM6089644-23044TI-84NC53196C-801G-AGLFNC8650844-23028XA-DOL3768042-32926NC53011CCCP-L1048100243-49248PP-AVM43-27472MW190CB-32NC30046TF-ISI42-72553NC88814C-708FAC-661F-BBYHVH-AOHF-BANBF-BAKVSP-LCBLV-ACSMW247NC8884224544-76244PI-C11CCCP-L4088NC88845CCCP-L413842-24291C-40799850KN264KJ979VT-AZCTI-107MW224F-BALFCCCP-L131745-519349875PP11305079200442-93802NC79024F-BCHH476353G-AGNRHC-SBKNC21707T-44NC91077NC91086G-AIUPVT-CLALV-ADD43-48804G-AGWHLN-OARNC6535034032CCCP-L4017NX88787SE-BAYLV-ABLYR-TAV42-2370144-22960NC59488G-AGSUG-AHZBLN-IAVKJ98411063F-BCHQMW223VL245SX-BABMW314G-AGWK1709343-48721PI-C59NC59495YV-C-CAJT-4VT-CFL42-72554CCCP-L1332NC8891144-78263EC-ARACCCP-1592544-33954G-AHBUF-BAJBF-BATY43-488105T-MAQ43-4829612421NC1861242-23503F-BCJNWD492DV976G-AGULNC37510NC88920SE-BBGMW111(VH-SMJ)MA965YV-C-AQAMW207Y-93G-AGWGVT-ATIF-BDYH44-77252MW293MW284SE-BNGNC86507G-AGHW90399YR-TAI5A-DKRG-AIMCCCCP-L1356YV-C-AHOYU-BADNC9548643-48736T-18NC9100945-1066CCCP-N43943-48945T.3-3144-2299443-4950943-4977942-7257245-106044-76366F-BCYFMW30148291CCCP-L997CCCP-L1343NZ3558KN439EC-ACGOO-CARPI-C53PI-C3PI-C10PI-C36VT-AUGPH-TCVXA-GEEOY-DLICCCP-L4214NC4656712400F-BBZCZS-ASWF-BAXCG-AHPKNC60331KN553KN426C-414HI-6LV-AFGXA-GOCNC2838442-100999NC111API-C145NC2065049F-BCJAF-BCUCCS-TDB44-76443NC36480G-AHNPLR-AAACCCP-L54F-BATKVT-CLYNC112A43-48910TX293PK-REAF-BATHOY-DCIMW182I-REGIF-BDRDPI-C262YV-AGUL6-2/21NC3649868582040SZ57044-23003OO-AWHF-BBYCCCCP-N444NC64722NC90426NC37478NC95422PP-CBXC-1002CCCP-N456VP91443-16267131697VT-CELG-AIVP39550KN382KN416C-40F-BBDCTI-108 ?F-BENGF-BBYAVH-ALAPI-C14G-AIVECCCP-L1215CCCP-L4437RX-...39325TI-161CCCP-L446039535PH-TKWNC17645VH-AEN64015OO-CBE45-053852-1017LV-AFLZS-BWYNC59489PI-C143G-AJBGKN423KP278CCCP-L1073KN243RX-136FAC-662SP-LBCKN37543-48939G-AGPDSZ574SP-LDARA-86119VP-KJTCS-TDFNC79042F-BATGPH-TCFFAE502NC37506CCCP-87346YV-C-AQC39353YV-C-AHIC-80459-1452I-ELSANC75984SE-BDAMW248RX-13343-15096F-BCYP43-1528243-482560260/2-Gt-19CU-P198F-BBDLPP-AVOG-AGKNNJ276YV-C-APJVR-HDT476561/FRAMC-ET-T-5348281CF-FKYKN25243-49534OO-GVPMW31111081XT-822LV-AAPG-AGIXCCCP-L789AP-ACMF-BDRCKN2385071017285ZK-AOENC1650MMW259RN292CF-TEL45-51444-22965KJ962VH-EAMYV-C-AVN43-1603643-1511645-2554G-AGMBCCCP-01788AN-ACZNC93044F-BATOOO-CBLVH-ANKCCCP-L1465CCCP-L4498G-AGEWJX412/K-AKNC7540242-100490PP-BBBCCCP-L1427SX-BAHCCCP-N464MW288NC17335XA-GUUMW245NC45345A24-381HA-LIGCCCP-L4304RI-002LN-IAWTG519NC58121C-71PP-LPBKN440VT-CEJMW305ZS-BWZKN523CCCP-L1450CCCP-L4658G-AHZP45-5779742-72688PH-TENS-83/83UHC-SIA43-49416HS-PC103CCCP-L4500NC88785G-AKPDKN42425011501CCCP-N49444-76491NC6663739333KN551VH-UZKC-119MW270KN63345-886G-AHYCPI-C29156545KP223CCCP-L427512246044-77282ZS-BWXVT-AZZG-AHJWCCCP-L4463F-BATMPP-ASAAP-ACEMW246PP123NC9073343-48467XT-53842-7269842-72686NC57667HK-306NC9066542-2379456502N2CAOB-SAF-175MW238MW300N150FBOB-PAY-226C-31044-23042CCCP-11188XT-104CCCP-Zh115OK-WDNEC-ABKCCCP-L1731CCCP-L86145-57779LV-AALLV-AAFLV-AAELV-AADNC16002VH-UZJC-110RI-005CCCP-L1017ZS-BYXEC-BABNC54083C-66HC-SBQB-16481NC790251801CR-LBK43-48405G-JETBG-AHEXNC53210EP-ACI45-54344-7771343-15931F-BCYOCCCP-L4261PP-SAC42-7262944-23010ZS-AYBVT-CDZOB-OAD-233G-AGRENX9052198745-563CCCP-L1381NC9100639323SE-BBN17263KN491NC1241NNC17713CCCP-L4491NC86530VH-TBIG-AGJDG-AJPLHK-13443-15578NC54335CCCP-I511OY-DLUOB-PAV-223XT-T729038644-9062HH-CAR45-1138G-AHCWG-AGJO52+57VR-HDG0100743-1625644-23035NC3453744-908644-7733542-72464VH-BAGNC56800F-BEEBCCCP-L4335G-AHFIVH-ARCZK-AKXHK-63KJ970CF-TCK45-57798NC1664M64028PP-MGA43-48295TG53443-49249VH-EASVT-CIZF-BATUPP-ASBMW188SX-BAF43-16396HC-ARSCCCP-L4464CCCP-46708PP-DKFG-AIFFPI-C98TG-AVAG-AKDPHC-SIBCCCP-L17913401443-48401KG63548-572KP27643-17230N5615V56532XT-520SX-BAI2023NC92857CF-CRQ17279N208EEG-ALBXN1096MN94266348283PH-TERVH-EAX9040044-9050G-AKFH4X-ACGVH-MMEKN303NC100001036/32 S-1VR-HDQN79978PH-TDF42-7247644-2301442-92095TG611349050N5075NCCCP-L171446564/22-S3NC19963MW145CCCP-L4354PP-VBIPP-AJBHC-SBUNC45379KN336CB-37NC91241HK-12006063N799984X-ACLXA-GIJCF-EJD-XG-AHCYCCCP-L1434F-BANQ11057F-BEFK43-16330CCCP-L1844OO-CBKVH-EAWCB-33KN544T-39XA-GAO43-4871345-57823CCCP-I772CB-26KN536CF-CUAVR-HDWKJ865KN32343-49123YV-O-MAR-6VM730ML851CCCP-L1462XA-DUHTG499LV-ABINC202048-582PP-BLBKN28243-16386CCCP-L4545KN435NC5948543-16062XA-HOU2057SU-AFXF-BAIYF-BBDSF-BFGHNC69008T-28F-BAZNNC2956N88727HA-LIKN129KJNC29086CF-TCU44-22996G-AGMMXT-805YV-C-AQGUBT-705MW297CCCP-L4530HS-TA180NC54337PH-TFANJ17642-72474EC-ADKHK-305F-OABJF-BELOVW160N90728I-LATIPP-YPMPK-AKCDM-SKHNC60256XT-820PK-YPY9T-CBCXT-814NC25691AP-ADIXA-DUKOO-AUQNC86501PP-AXGVP-CAT39101I-AHBXCCCP-L4719VT-CYKCCCP-L4704HA-LIEVH-SMKPP-XBW42 red42-93509F-BEFQPI-C184T.2-143TAM-10F-BBDBPI-C22F-BFGDVT-CPQ42-72469F-BEIH45-101545-1113G-AHIX44-22986PH-TEUPP11843-49143YV-C-AQE?4X-ACDFAC-66545-1037NZ4051CF-CPR44-909143-48457CR-AAJF-BAOD664FAC-664KJ936OK-WDYHK-50742-107320NC93050F-BECR43-48464HK-123G-AKBYKN300G-AHJJ45-5775243-48940CCCP-35198PK-OBKD2-TBFTC-BALVH-BDNSZ573SP-LCC43-4991544-7729245-106543-15557F-WANUSP-LBACCCP-87808VT-CJD76822CCCP-L4411VP-BAO43-48102G-AIVL1706HK-309CCCP-L862VT-CGM42-72704CCCP-N500CB-51KG31742-7259745-954F-OAFPHK-120KN54345-1112A24-10548238LN-IAUVT-CHB43-4949643-49267CCCP-40861HK-307N294139334PP-SRVVX497N9406HPP-AVZKN679122454MW164N1248NN1603043-48477LV-ACLF-BBDEF-BBDMN7417043-48885N9542542-72648VH-ANACCCP-N48849-13448-338YV-C-ARGF-WAVA45-5186518F-BFGLC-FZVV45-890VT-ATSPP164CCCP-L134045-5783144-77577T.2-167LR-AAN44-76439PP-PCGF-BENF42-72700OK-WABN67960CCCP-L1803PP-SAATG58344-2302143-4927839566OK-WDVCCCP-L1706CCCP-H955122940N90705FAC-67045-1126KN63048411HK-116KN240N6004C49-163N18936N9305142-72583PP-LDB87755N13VF-OACA43-1529948-353TF-RVCEP-AAG49-145NJ26856496YU-ABCVX49948-324VT-DAT42-72457CP-749T-8XT-862T.2-124N74044CB-38N1661MSZ569WH575CCCP-L4592VH-SMH49-105YV-C-ARFNC93037F-BAXM43-4904142-100855CCCP-L4532G-AGIW43-4944042-92041MW10243-49030CCCP-N369G-AHPN49-189VT-CQPPP-IBC43-49681A65-116N93040CB-4743-4952942-7274249-166CCCP-L1098XB-KWZ45-5773943-6017CF-EDNCB-48YR-TAANZ3549PK-DPB44-23024NC8651142-7266243-4970445-57743N74586OB-PAU-201HK-330VT-COICU-T739340T-446EP-AAJ5076745-949VW805A65-74F-BELBF-BAXYXT-44XT-852XT-846NZ4048F-BDATHB-ILEVT-CFKPP-SPTPP-SPWYV-C-AVUPP-LDD328/F-RBEH384/F-RBDK44-9096TG574A65-66CF-CUF12435743-1511044-76666CCCP-L4003P-82LV-ACHCB-31CF-ECNN79982EC-ADZ9261744-7850544-7827044-78462CCCP-L1811CCCP-L435943-49384VR-HEPN74685N9305442-7249549-08345-57781124227N1493V44-7847344-78029VH-MMKI-DALOPK-AKEVH-TOA43-16102PP107CCCP-L4715XA-FUJHK-311TF-ISG2824803F-BBDO124277T.2-47DO-312872517267CCCP-L4821F-OABK43-48920HK-333SZ598VX51417143PP-ITFN5949043-4829343-1627044-78257N90664N1992843-48483HS-POSCCCP-L131917523N91202WD478HK-315PP-CCX49-244CCCP-L479042-72663LV-ACYG-AJVZVH-CAQ43-15691CCCP-L419848-345VW187CCCP-L1313N74644SE-BBMHK-142N6343948-060243-48298CCCP-L4467HS-SAEG-ALEUVW83342-72734TG55243-49751PP-LDC43-49527T.2-141T.2-160CCCP-A2597FAC-671CU-T18843-49764CC-CYA-141N1608844-7836544-772610187/3-T-2342-101001VW156VW828G-AHPD17114T.2-9343-49266F-BDYEKG430PP-LPC42-93720PP-SPL3935149-23249-15349-261256513VX54443-48954G-ADUHPP-AGCLV-AGE49-12348-35045-5776149-192PP-NAL48-398YU-ABEVH-EBWHK-50412245385148124253CCCP-H98643-15600LV-ADGN8884643-48416VX498T.2-114PP-CCKCCCP-01405YU-ACEN2949N3754343-1514444-77269HK-12644-76651CF-ETCPP-LPGVT-CHTVW194980/F-RAMMHS-POASE-BTN48-342VW824F-BDRIF-OABXCF-CPCOO-CBAF-BBYFMM45497VR-NAXCB-39349667/FRBFL2028VH-TATN74176N3908BF-BAXB43-49561VP283CCCP-L431445-5779649-0094HS-SAFCCCP-N566VP-JAT42-100668CCCP-L1271N37550HJ913G-AGSN43-15994XA-JORN9066212297612297843-48134CCCP-A2583PP-SPQ43-4926145-1089F-BEIZN31230K-41/OT-CWTVT-CCAN74689VW813PP-YPX124235CCCP-N565T-37349145/FRBFFD-0349-169CB-4343-15932CCCP-L4775N5545NXA-GORFAC-61643-480856519CCCP-L4416RN277122939ZS-AVJ49-2602CF-FOQYU-ABFCF-DXR50-017843-49040T.2-169KN493G-AKCC0961F-OAIY43-15109RP-C710349384/FRBFRN93039F-BCYL124283F-BEIV43-4891143-49039N422BCT-77T.2-18245-57801CCCP-L1360VT-CKUSP-LKASZ565CCCP-L1775N79992N4002BTC-ACA43-16026CBK-016VT-AUO4X-ADNG780XA-DOQN25646I-LETRT-212SP-LBEN17109CF-GPA45-93142-10048849-130124884HB-ILON1678MN59487RN294SU-AHHPI-C243-48144I-LUCK42-6058CBK-2043-48142122972CCCP-L422843-49413N3944CN6896344-76266VT-COAF-BAMQVW185VP-JAW49-15012244342-100912CCCP-L4315EI-AFLN4171843-16249N9123849-17251-008VW823N4534244-77407N94229N3927C34251-001N1512VN9453845-5779144-78373OO-CBNVT-COK44-77508N9089145-93245-1078G-AHPI124289VT-AXEF-BEFX44-78038VX492PP-VCBCCCP-L184942-93193VW827HJ880PP-PCN43-49226T.2-138F-BCUMVW15342-1005936053PI-C542-10050243-16257G-AMGLWF37344-77257102543-49343TG562PP162PK-GCHPK-RCR50708CF-BXZPH-TPJPH-TFFF-ARTE42-93513N6514312417YV-C-AZUPI-C270LN-NAE45-92650-1260N1911MCCCP-L130817207F-BATB42-2418143-17210N9304342-93809VT-DFNN88899124255N8404CKG41643-48069CCCP-L1312F-BELIN1039V43-1537949-173VT-AUN44-77543CCCP-L460242-100560F-BEIBLN-NADPK-DPAPP-SPM51-0055CF-FANSP-LBDPP-LDEG-ALDN3935979001TG60347002SE-BDDVP26143-48723G-DRFC124331N90750VW164VX537F-WFUNT.2-218204845-57799TC-AKN43-48140SP-LHCCCCP-L4197654A2-ABBG-ALDB49-138G-AHON49-103ZS-DFBN1030VT.2-175984SU-AHXVX540N7909644-76273PP-ANHAN-A..PP-SDDVL266VX55943-48077CCCP-L1488G-AGNZ43-16245G-ALDFG783G-AHRF43-15045ZS-DFWXA-GER43-15599ZS-AVIVT-CGB42-23967XA-GUJG799VX507CCCP-L4673CCCP-N59142-100489HA-LILCCCP-L1328CCCP-L1055SP-LAO43-48870VP28612772449-175PP-AXJF-BDRVVH-AND44-77538RA-33350AP-AAZCCCP-L487586 / F-RAPCG-ALYZT-64A65-113P-213VH-BRD43-1566551-2560N5116N46640F-BFVOVT-CLEKN43851-2551CCCP-X1011600851-257044-78114LN-LAI51-2590GC-1612424251-107LZ-TUEVW203SE-BTKG-AMGM45-49444-76344D-2145-1124CCCP-L4661F-BANKCU-T397N6904C43-49553306N21716CCCP-L455143-4895850-100P-211YV-C-ARCYK-AAF43-4908449-2616XW-TCA ?EP-ACJYV-C-AVX49-2632PI-C38EI-ACFPH-TDL43-15273124886G-AJDLN1648MN86574XY-ACLSE-BUXTG602T.2-22751-061VX56245-5777251-002712774484738G-AICMWF420348994/FRAZFG-AGJNCCCP-L4666N38936CCCP-Zh125CCCP-L4582CCCP-L1435I-LAILWG265G-AGKY985HK-605127751G-AHFAF-OAFR42-93722X-1F-BFGRMM61772CCCP-L451351-263550-127WF33251-062N9089349-126HK-60629642-609739357CF-CUNN4717NCCCP-L437143-16217LV-ZBI49-160SP-LCHAP-AEGPP-AJAF-BEFGT.2-185N66559N88942F-BSRZ218PP148WJ938HC-SJAPP-SLGN229AVP-YEYF-BEHAF-BALEVP-JBCVT-AUJN65743CU-T623?F-BESSCF-FAWN91303N1693M17196N94269CCCP-L177743-15780G-ALYVN9606WG258VT-AXDVT-AUDF-BBZLCF-CRVPP-LDIWL74951-823551-8241N146FEN28345VW81051-7156N1669MN53596CCCP-L4863PH-TEI51-7173NZ5908CCCP-A4031CCCP-L453449-008451-7146T-6CCCP-L1375TI-1002CC-CLD-0100F-BESTVW846LV-ABQPP-PDA45-92951-137WJ33549-161F-BGSCRN269N15569EP-ACV43-4840851-7158PT-AXXCCCP-L40274661712844043-48803N90806126503N84006846131663N1679M43-49184CCCP-X101417501TG613LV-ABX51-0475LV-ZBGG-ALYR43-48930XH-SAFTG564VW180F-VNADF-BAZSAP-AADXY-ACXVX515LV-ZIH51-2542131586G-AIVGCCCP-L4393N69905XA-GOTPP-ITDCCCP-L415750-693PP-YQK48-348N73133T-41F-BAZZN1994143-152672049131583N6214CXH-TAR2051KP-2/OT-CWBPP-LDMXA-GICN94255HK-14351-7171N1673MTC-EGEWD164HK-151042-2406751-7149N66534TG559122935VW804F-DABDOO-AWQCCCP-L1727PI-C142F-VNAEXC-PMX476404/FRAZZ128389124901CCCP-L4890CCCP-L1765VH-BPE6500CCCP-L4732CP-600CCCP-L136743-49782G809VX490T-15951-03651-816343-157566408943-49093A81-243-1635344-7754951-2621EC-AEG24251-8086WL746VT-CHFPP-DZYTG-AQASU-AFKVX575OO-AWOG-AHPO1717912296417505RN3022/F-SDAC1750343-48246CF-DIKVT-CHG51-0063VX53844-77632127752TC-BAGN3138OD-ABUWJ474CP-1351N4949NG-ALYPHK-160OK-WDSPI-C294WX542T.2B-145N94244N49551VL282WF391124874F-BEFSCCCP-L4105RN290HK-603F-BGXDFAC-674N964544-78027VW206G-ALRX1351-383845-895HK-16750-163HK-1910WL794F-OAHY48-56943-161361015 / 4S-5WJ494MM6180243-16252WD160NJ18052-5894N8407HNJ26744-7624744-76639PP-LPHF-OANHF-OAPC42-2409642-93169546LV-ZBEF-DAARF-BCYIG-ALAMWF327349665/FRAMG349931/FRBDW476357/FRAZBVH-BBV52-5908N90853SP-LAH51-7993186XA-GUNWF386348267KK-N349434/FRBDC51-2679G-AFCIVW205TC-ARKF-BFGQCF-TFWG-ALYYI-LENTWF42842-10054642-23617G-AMUMF-OALK95651-813351-815352-5904LV-ACXSU-AHZF-BCYJ367236703676VT-DEMF-OAMA1265165910614912842117522CCCP-N140WF393VT-DGOCU-C556F-BEIP126511ZK-AQTCC-CLH-0184PP-ANO43-48097OO-CBYPP-VBZA65-120F-BCCLN30070N51359HB-IRW51-8273KN647SZ599CCCP-I40351-7272XY-ACTG-AGNYN9426352-265451-5210476421/FRBDLN90773VB887VR-HEU43-49515G-ANOE51-0066N9610F-BGNAVX557N91008HK-163F-BSGSG-AIXSF-VNAIN61451PH-DFOA65-50F-BAZIT.2B-220CCCP-L4679T.2B-162F-BEHS43-48460135544F-BEIO128357PH-LKYPP-CDJ52-1052VH-SMLPP122SU-AFO44-78035HI-2445-57744G-ANRC348061/FRAZMCCCP-L136512769743-490836516XA27152-5859TG-AJAL2-10/96AP-AAFLV-ADQB-81151-2552PP-CCP43-16044WF384PP155CCCP-L1789128441VH-TVAT.2-247N9201HCCCP-L4519VH-ANF403N1505VPK-DPD3/F-SDDXG-ANAK292457/FRAZTN17891LV-AHIF-BEIACCCP-L1320N85B52-5921CF-HPNZS-LYW131387YV-C-AGIOK-WDK2121CF-TGGI-LINEYV-C-AMPN711SE349089/FRAZYN24320HA-LIFHA-LIIG-ALSACF-FYRHK-459G-APEJCCCP-H417C-68N33369WG531WL74352-5949N93211N999BCCCP-L5000G-AMOKCF-GEU13163951-7197N73154VT-COZN1242NCCCP-L451045-56943-48091HK-1000EVT-CVBVR-NADOO-SDBVL271128399N40416CC-CANVP-YKO11752-5886WD48451-799553-3230CCCP-N479PP-YPZ43-1720843-49549XB-ZEHXA-DIK49-114HK-32851-8095T.2B-226F-BFGNMM61769VP-YEXF-BBOFF-BAXLN94234131612N1032VWJ888VT-CUZVL97051-2665WD163N51424CCCP-N497PP-ITGN37512G-AMAB130265CF-HMZVT-DEPCF-HMXSP-LAE43-4876513168151-8085F-BGOI51-264851-2645YV-C-ARDWF42652-099153-011042-108869CCCP-L409852-1088VP-KKHLV-ACQYV-C-ALUVW834CF-HMYCCCP-N53543-4847943-48386F-BFVTRN288CF-TCIOB-QAG-338PP-PDJXA-LIDCF-HVJ131515T.2B-26843-15594CCCP-L2642CCCP-N480XA-FONWJ904N51167HK-607XA-DOBN3422WJ3414X-AKC43-48213VW143CF-IOAN94221VW140N74601G804CCCP-L505753-322253-784142-10894451-816551-7159PP-CBYN18945VT-AZX45-893XY-ACQCP-597CP-57250-09751-8142N74663F-BDRETG584EP-ADAYV-C-EVLCCCP-L1359CF-GBTCP-549VW20451-0373G-ALHLF-BCYUCP-570N9043343-16145131442CCCP-L4712CF-HMVVW845OB-PAZ-228VX57144-76445N30062YU-ADCYI-ABQWX510CX-ANACF-HTPXA-HUH59232N37559SZ58143-48276XC-ABW52-5891N172AT.2-223N8885244-906851-14945-87911073HJ25052-5881PP-CCCT.2B-234969653-3214T.2B-221124899CCCP-L4993CCCP-L4339VW15144-909443-16119VH-AOGN9904FF-BAZGXH-SAG2122T.2B-147N112ACCCP-L4981G-AMZCCF-EPX142424WL79949-128N33366N9306153-7866XA254VH-BZAWX547CF-GVZOK-WDZG-AMOMHK-303CF-HMUF-BAXTN2000CF-BCYKT.2B-21514426013170351-01012246643-1641114425951-2653KJ989CF-FZUCF-BZH55-3252HZ-AAO39116N445AVX483G-ANSYG-AMSLF-BGODN7404YK-AAE43-15130AP-ACZVW86153-021G-ALDW44-77094CCCP-7128949-069WF388G-JECKN9995F36871751322124T-20VT-CGNG-AMRB53-3150VT-DCML2-14/96N40403N74608CF-HZI52-5944PT-YQA52-1078WD4833666PP-PDB51-039G-AGNSCCCP-L171855-4527G-AMULT-91PP-SPX128744VT-DBAN64001VT-CCDTG-AHACF-TFZF-OAOUVX52151-5183CF-TFY76976N9642YV-C-AMSG-ALHE52-2700T-5N6324CN6902C144261D-13CF-HZL51-02202062CF-TGRPT-ASN53-3301HB-IMDLV-ACD52-588517123CCCP-L5554HZ-ABA50-159VW812G-ALDKXY-ADCN4832VHK-30851-15643-1559352-1005CF-GBQCP-60542-93195F-BHEJCF-CUPB-1401B-201WD165PP-ANKCCCP-N525JY-ABV5A-DAHNC33315CX-AFACCCP-N584CF-HFQ44-77285CCCP-A2582EP-ADB137893CF-IHR43-48146G-ANAJCF-HMW43-49550EC-AKVHI-36SU-AIC53-033VP-YMO131588WX545HA-LIDLV-ZIFT.2B-99N9094343-49511122465VT-DGKN33368A65-7551-80261101EJ153S44131715SU-AFFCCCP-L4872CC-CAH-331G-ALDJLN-SUR127705362N40404XA-HEGHK-385VX525OK-DBPI-LEADYV-C-AMAWX54652-1015VW18350-014961/F-SSUNWR970HK-133CCCP-L5033CF-TFDNZ5901N1662MF-BGNKN28366VK-5003684N2028AVW840N1245VYU-ADAI-LINCAP-AHOCF-FARN34554-01650283/CTA-46308I-LEDAN841951-8143N94247CF-HIQT-1153-326352-1027CCCP-L45915086914655/F-RAVM53-0222WX511AN-AEC50-088F-BAVGN8210HN34954IJ821CCCP-L4407PP-YQF51-141PT-AUX43-49792VL279131903N9044951-111051-8034XH117N316AAHK-155N453A43-47979VT-CFBFAC-620G-ALWE2100925CP-535CF-ILYXY-ADBA65-11250-702XA255CF-HGECCCP-L496751-5176341/F-UIHW126518CF-JNNPP-VCFF-BEIKPP-ANXCF-FZJCC-CNC-0466N62WSYV-C-AFA131452RA-87847XA-KUN3675141314VW83242-6071N88839N6527652-5930051G-AJBOVT-AUVFAH-300CCCP-L3807VW184HJ918T.2B-251EC-ADI51-025851-0254N68736T-31278124905T.2B-27143-15995HA-LIMKP-6/OT-CNW6043VW165SP-LNFVH-WWBHB-IRK42-96685N8013E68PI-C52N88835CF-EPIVH-AGOCF-HFPHK-51343-49494N6212CN808DAP-AJS53-3221CF-CRLCCCP-L4825T.2B-208T.2B-...ET-T-35HK-400PH-LKT43-1586752-2737F-BHEK126535140156128418N8406H55-3326CCCP-L1828EK-26818CF-MCF82/F-SDDXP-312CCCP-L1874PP-VDACCCP-L2071VT-ARHZP-CBBVX4911259D-COCAKN6491703JZ-PPXCCCP-L144052-1021142426G-AKFPVT-AUAYV-C-AVG51-5173WB861EC-AEH17274WL792N34417PP-AQEPP-LEIWL640135619D-ADEL2029G-AOFYJA6011CF-HFLCCCP-L138943-15209OD-ACKCCCP-N567CF-DGJ43-48520N80GHZ-AAC43-48006135566L2-2/90P-30742-92939T-153SZ576PP-VCSG-AOYFZK-BMCTG615126539G-AOJA51-8127EC-AOACCCP-N442EC-ACHXA-LIW52-2711XA256F-BHKYCR-IADWJ470YR-PCCPP-AXSVH-EWFG-ANCAN10425N90944N492AEC-ANZG-AKNUXA251G-AOHPZK-AYHP-30543-49403SE-BDP52-0995XA273CCCP-L1657298/F-SCGGF-BHMKG-AOEOCF-GKVXA250PI-C5543-4860342-23356CCCP-L1309F-BAVHZP-CBMG-AMUN143197XB-ZEU702LV-AARPP-VDL22125F-BAOA484VP259PP-CEH128437LQ-ZBMN75391PP-CEF49-2597TAM-04WL63343-4918112772353-3277PP-LEMN733PAXH11851-8021G-ALZUTG-ATAXA268YV-C-AVSN8405H42-93817PK-NUTCCCP-N502CCCP-L5414F-OAVVPH-DFKG-APJS141310N9050G-AGRTG-AICSCCCP-N496CCCP-N501N37474N94213SU-AGN128741N846D6517N496API-C626N300E54-2308VT-CYNHZ-AAB52-098149-195HJ252TI-1019G-ALDVHC-SND632N7437130269HC-ACLB-55565EC-ABNLV-AHPSP-LPB54-0146PK-GQB42-93183EC-ANJF-BELKF-BHELN6328CCCCP-N640G-AORCCCCP-L7256CCCP-N58844-76412XA253CCCP-L5821N1027N75385WD170B-819131652CF-DMEAP-AEHG-AGHPOO-SFAT-450G-AMUTN7410G-AMUV55-0123F-BGVOCCCP-N54213487/F-SCIDPP-BTBN1302NF-BHKVCCCP-H542N1023VXA-MEV51-114N49553VH-AGGCCCP-L1364LV-ADVPP-CEPHK-930LX-LAAVT-COJHK-391N9635856-359951-3822CCCP-L5643CCCP-L380350-10743-15467VT-CYMN101GCF-QBGCF-QBFCF-QBECF-QBDAS+575HI-16T-22WJ467VP-YNEN7457CPP-LEQ140434T-19JA5045PH-LKMN90670G-AMYUCCCP-L5442PP-CDIN575G-AODEG-AIJE52-108156-0528PP-LDXCCCP-L2048CCCP-L1692VT-DIAN6920C43-15345P-303HK-51451-165CBK-08156-0526CCCP-L39043744G-ACZPPP-VCKPP-NARCF-TETOD-ADB22313146119955-4521CCCP-84733YV-C-ANCTAM-0343-15295CCCP-65708CCCP-42362D-BELA141294476560/FRASTG-ANHCG-AMVBCU-T266YV-C-EVH14242743-48300N224SCCU-T603CCCP-84624YE-AABF-BHVBCU-T8146435CCCP-52024TAM-05CS-THBN6503CCF-TGLLV-FTPCN-CCJ51-8107N1301N51-1627103CCCP-L567656-359851-8122A65-89K-18/OT-CWHG-ANRREC-ANRCCCP-L2096VP254PK-GHP22128N37500CCCP-41843CCCP-L1467975CCCP-61663CCCP-L1458G-AOVDF-BAZXF-BGTZCP-579PP-SQECCCP-04196N10400VX217FAP-652OB-QAL-48714467351-2624PP-LDHXH-SAAN18941CCCP-04249D-ALAK50-111N1240NVW817N62YCLV-GEDN6240GCCCP-4186353-0308CCCP-L1975YV-C-LBIJY-ACBKJ810135529G-AGRGCCCP-N492952S4426S2-ADDN17314ZS-ASVN712PAN6101ACCCP-16192A89-30848-0346T-472TC-SEVN68823N740PACF-LKI-XN709PA2070HJ243DM-ZYAYS-09C51-8051PH-NVF6513CP-552VT-CYHEC-ADHN94273141332VT-CGIF-BGZBN7840B58-000251-520158781724153-3250141303XM287XM288G-APDFN1033VN233YV615012122984JA8028CF-CPQETI-82XA-MIS6536G-AGRHCCCP-84595EP-ACLN2703EC-ABCCCCP-04209F-BAIICCCP-L5569OE-FDAPP-BTAOB-QAMCCCP-33137CF-JRSN2735AN7463OB-WBP-507LV-AFWAP-AJC57-0468CC-CIA-497CCCP-N529TG522TI-1022XK66343-15689G-APDAP-306CCCP-84627N6884CG-APDB17525N5026K57-1446T.2B-239HK-135T.2-136CCCP-04266N7313C11041GA+1..CF-IHBTG580T-2149-254TC-JAPN90941TI-1020LV-ACMEP-ADEPT-BEEVT-DIN52-2703GA+243G-AHPH131631N28324VT-DGPT-92CCCP-54795CCCP-04242AP-AJEN7514ATI-1005CG-AMZDN93202PP-AVYCCCP-84598N5140BCCCP-75676F-BFDNXA-FILN8890017163GC+1067007F-BGJUPP-SQVF-BIAPN63396HZ-AAFN9705CT.2B-139PP-BTEPP-ANUP2-SAHCCCP-84448CF-TGYOD-ADA57-1513VH-BUUN7071WF381476977/FRASBCCCP-41806N67589CCCP-84746SX-BADN55VNZ4111CF-ILIN38G42-93074E-210CCCP-11167N4891CCCCP-84633YA-BAGPP-NAZ6152N102R9S-ASGCCCP-01426G778S4419N174AYV-C-AKUPP-PCR43-490242060N61RSHK-515LV-ADMG-AOENAD.1B-6CCCP-9157753-023143-48271N64TP-302CCCP-84587I-LIZTG-AMGGPP-SRGG-APDLN401LCPK-GDV140157CP-584VT-CGGN110APP-SLJ55-2974G-AMNYN8225H17154G-AOHUCCCP-01438PI-C430N672CCCP-19405N7462OY-KRBMM61770VH-TFKCR-TAIPP-CEMZP-CADCF-PWDAP-ABC56-362857-144957-1457CP-609209N46QG-AGRWCCCP-98332T.2B-204N31CPLV-AHO135563N11817211PP-AXDCCCP-11180I-DUVO51-8105N7101CAN-ADQTG579G-AGRVG-ALZWT.2B-18353-8152G-AMSF57-1466G-ALDH56521XM941T.2B-150G-ANTPG-APDSHK-1001EGA+249JA501843-48899N121USG-AOXUHK-516OB-PAM-146N5593VCF-IHQ54-404043-4810051-03633149AN-AINPP-CDSEC-FDHCU-C6444291952-091943-4927152-1062HK-390XL967N2704RG-AGPVOO-SBLCCCP-16177CCCP-75648YV-C-AFE6515N78LPP-NMDCCCP-8460901HB-ILALV-GGJF-OBNIYV-C-LBGCP-618N8804ETG-COV-68OD-ACDG-AHOR8567101VH-TFBN1554VVW80352-0993PP-YRBTI-102352-2738G-AIFMCCCP-98282WJ914VT-DGS45-1109N292PI-C16ET-T-1843-1576563-7801CP-36/OT-CBPCCCP-61696400C-FDKMD-BELUTAM-0922127PP-SQSCCCP-75705CF-CPAAP-AUS56518PP-BTJVH-EACG-AMNKCP-665CCCP-98375G-APOWSP-LALG-BHWTF-BHBCCCCP-84629YK-AARCCCP-98363CCCP-04200ZS-CIGLV-ADS55-4539VT-DFMN590022G-AOJEN90779IK459PP-BTF56541OE-LAFCCCP-41866XA-HUSSU-AKW43-4970558-1693N466AN5533N4719NYR-TAXG-ALDCXL151I-AOMUN1300NCCCP-04267CCCP-42452A65-92N48762ZS-CKCCCCP-52025126513F-OAYD9N-AADHC-ADVTI-1024CN7125CG-ANBCCCCP-847485T-MATN3752356-3605PI-C133CCCP-91610CP-678B-130CCCP-52091PP-AKFHS-TBBCCCP-331812401T-102VH-INICCCP-01245A65-81XW-PADN8013UN6907C55-0291933PP-VCTN10785OB-1569CCCP-01236PI-C126VH-BHJCCCP-75651348014OK-MCZ079OH-LCC52-096943-4936751-2639XA-XAXN1308V14319342-72566WJ342GB+119CCCP-61610PK-GDIG-APDM51-17626PP-PDCE-203OK-MCVN7502ACCCP-42357MM52-6037D-BALI6856MM52-6011CCCP-71232OO-SJBN745PAN94256140378PP-ANIXL966PT-BJCEC-AIP147970YV-C-AZQ2066PP-YQSHK-159CCCP-42438N5519V51-3842AP-AAC44-763302055G-APOMOK-OADCC-CLDPCF-JNR315545/FSDZBT.2B-1551/F-RAPAHK-489EVH-PATN541SCF-GXECF-FKQ348823/FRASECU-T172CU-T13843-49014N20042-101000JA8003F-BESNPK-WAXN863FSU-ALPF-BHBM44-9054TI-1006C43-15277WB818F-BHHROD-ACOVH-TAA51-17459-1534WD497PH-DCL9401LN-RLO57-1614PH-DSNPH-LLMG-APKJTJ-ABC560D-ABEBLV-GLH67HK-4200N5595AN312ACCCP-7567253-8140CF-LYJN6986CLV-FTOCF-EMWCCCP-41848G-AMTSCCCP-42447N8040UOK-PAFLV-ADWXA-KICN6118CF-BHSACCCP-75766VP-BVEA65-106ZS-CKEN6220CN70775EP-ADKBL536HA-TSACF-HEIG-AHPMB-136CCCP-75653G-AJCEN10019VH-SBQVT-DIDVT-AXA140965CF-MEXUB654G301N86511ET-T-16PP-AVLCP-687F-BJTBUN-209OO-ADNG-APINCCCP-42388CP-589N137USSE-BDYG-ARJY43-16002CCCP-16154TC-TAY54-672N7545AUN-21618188N317APP-VJDCCCP-638577230KAT-04EC-AHKXM110G-AMSWG-ARLFWD498HR-SAW9414VT-RALPP-PDLG-AMVCWR968PP-PCYN241SAG-AODHCCCP-6171258-0745N7456CG-ANWLPP-PDOCCCP-4250454-4039N2737A140439131505CS-TLF6154HH-ABA17219N30061N5905N8228HN6592CVT-DIHMM52-6014T.2B-12955-4750VP-YRXLV-AHR50-0145AP-AWVVH-TVCVH-SBS43-48139D-ABOKCCCP-01176KA-DFNCCCP-84574VT-AZVPP-VBMCP-23/OT-CBCCP-25/OT-CBE42-100670AN-AOEN4871CCCCP-75654VH-AAH49-239G-ARJMTG624PK-GDZCCCP-75757S4415EP-ABBHR-TNB54-403842-9207844-76663HP-312131521ET-T-1CF-IQF43-49160ZP-CAI53-8072OD-ADOCP-5412.S.1556-365742-100861CCCP-1114855-3317T.2B-258CX-AYIHK-1301752056-4370B-916OB-PBH-53042-108992462143-15732EP-AEIJA6158YR-IMB49-1931HK-502PK-GCBN7506APP-YQN026G-ARUDZS-DJCTG508I-DIMOTC-KOP55-002051-2549N6911CN5399NSU-AIDN6921C204CU-T819CCCP-84685X-32302CCCP-41852PK-GDMTG-APAOD-ACNFAC-673YR-ANOJA6003T.3-26VP-KNYCCCP-23700PH-DSHN3588EC-AHJ0256-4368HK-524N116AE-216VH-WWCVT-CZTG-AGZBVT-DICCC-CLCAHJ24556-3618PP-CEZN455JACCCP-49262200CF-IHA53-3485SU-AJMVP29456-0546XL132T-440PB-514HR-196P13139062VT-AYG51-147293057-1611CCCP-04270F-BHSMCCCP-42491HR-SALSE-CFBN45WVT-DMB43-15568CCCP-91536HB-IRBF-BHSTF-BKBYS4414TC-EFEX-11ZS-BMHG-AGVCCCCP-42370UN-203VH-BREYV-C-LBVCCCP-91554I-DIWDN243VOD-AEC56-4366VT-AUSVT-DFZCU-E802SU-AMWCF-CZB7501PI-C56CCCP-11186163YR-AND61-0661F-BAOECC-CLDM9N-AAHN65H43-49773N6102ACCCP-7647955-3144141324D-ABOMPK-GCEN18APP-PDTCP-536N40401HK-794OB-PBN-659YU-ABHWJ480LV-HHB54-4057N4877VCCCP-423664628N1000FCP-71060-0352HJ235N67937CCCP-61628EC-AGOUN-202VT-DGX140144N6923CCCCP-331342003CX-AGECCCP-52062CF-THAOK-MCTEP-MRPEC-ATBPI-C503CF-LYMCCCP-05614CCCP-07976N285PI-C48562-413620/F-RABQI-SNAPN5170256-43640232/CTA-232926140158YV-C-LBH59-5961XV-NIDFAC-693TC-46CCCP-35411JA820243-15278750217188HA-MODN743050777HK-354XPP-SRA56-0488PP-VJBN5004XCCCP-75843N815D54-4066CP-695HK-437TA-3352-2685PP-PDEN6913C42-93086CCCP-71259CCCP-84603SP-LVBN73130PP-VCQ64-0547127712G-ARSFF-BELZXV-NUA140966135559CF-HTIF-BAZM54-0589N4875CG-APONPP-CEVG-APLNCCCP-09166PP-CDY6601G-AMJUN67933N242V149672OD-ADECBK-28N9740Z55-4758G-ARBYCCCP-11193N724USXN31845N616ZCCCP-7573256-3597PI-C48943-49238N1606743-30655CCCP-75765XM290CCCP-98341CCCP-04342OD-ACZCP-70717158G-AOHOSA-R-7CCCP-32614G-APAZ9Q-CUSI-TAVIMM52-60050290/CTA-20281/CTA-12CCCP-11338CCCP-75866CF-FLCYK-AEB317G-AOYSPP-PDM59-052356-4380XB268OY-EAPTF-ISUXL994T.3-4455-3291FAE-723JA5039JA3115PP-CDWF-BIAOPP-BTR61-0644JA5040SU-AJXPK-GTCCCCP-42483F-OAVR45-2545N189SN561642-23351CCCP-98275VT-AULN290JA5027XY-ACSYR-ILL95343-1595754-4041PP-NBP57-1498CP-45/OT-CEEPP-VBV58-1706N449AFAC-678ZK-AYZLV-HGYCCCP-01243HP-382KN278CCCP-424925R-MAJBL734B-14843-48766CCCP-43833SU-ALD14132956-2005G-ARJNPP-SLLMT-1051718/KPT-BBPN29824L-865F-BGNVN67941CCCP-98218OK-LDBCCCP-65680CCCP-54920JA6155CCCP-45021CCCP-35359CCCP-54989N2707CCCP-6161756-047461-031961-03227008CCCP-0115460-5440HB-ICVB-150PP-PDUVR-OAEG-AOJCVT-DIOF-BJERSP-PALPK-GTBG-APKR56-2002G-AMWAF-BHKUN843D55-4513HP-38542-92885CCCP-04197BK-962G-ASHG42-24308CCCP-1617256-4385TF-ISTL-862L-864JA5024N45335N177ACF-TJMOH-LCACCCP-75686VT-DJKETM-6010ER-AJECF-TJNN386TN555DMET-AATN609ZCCCP-11347DM-SBLN5160V58-1690OD-AEBSP-LBGTG610N7601B-81596972210YA-AAA52-0968N5114CCCP-23740ZP-CCECF-ILQLV-FYJXF710SE-CFF42-93794CCCP-1365162-4448FAC-6586508TC-ETICP-568PT-ATP5652242-100631CP-575CCCP-55541PP-BTUHA-MAHJA5067PI-C97N8607JA5098G-AOVON472MN86504N94258LN-PASPP-SQYHK-862N410DG-APDNN384N61442OB-PAX-224T.3-1G-ASJBG-APDHXW-PBJXW-PBPPP-LDLN4726VI-LAKEVT-COUPP-BTQG-AHOYN779PAVT-CMDPT-BVGXW-PBNPP-PCZVR-AAMOD-AEM50-13550-138MM52-6036FAC-685OD-ACX178N68N56-4388VP-KJP354X-FAD/044LV-HIJ56-0492L-867EP-ADI61-2593N2770RT-4752-100861-0332131481CCCP-32106CCCP-0925917105PI-C568PI-C51303G-AMONPP-SPZXM942CP-717N761TWN720Q50867N801LCP-729PP-SPKCCCP-25467CCCP-42476ETI-51VW86354-4037YR-DACCF-THTHZ-AANB-908EC-AQH62-4196AP-ALOT-30G-AOVJ0189/5-T-242-7259052-2773N188SA4-134CCCP-7566172336875CCCP-09242F-ZBAR60-0340D-ABOPN809DN831DCCCP-32637145922AN-AKY56-4383DM-SKS6340633143-49253RP-C850N464CCCP-75824N4829VAF-10262-4151PP-NMFN6135057-6117G-ASJD51-1121CP-6803148137891WF329CF-TFJCF-TFQYV-C-LBUN4876VN9903FN1823MN3496350-114PT-PTBCCCP-75531LV-GLIL2-29/02?T-1307PP-SRRT.3-38131513XP294HB-AAIHK-319FAC-667CCCP-55517?XM943XW-PBON1549VG-ASIDG-AOFZF-BHMSLX-IOKN4936VG-APEEYR-ILBCCCP-04370G-AGJVVT-DOLT-1202CCCP-75668MM52-60411240755-4549CCCP-0123163-973663-974956-4355131625N110ETG-APMD56-2014N74127CCCP-43915134663N171QN745L151362A4-185CCCP-09275SE-CCKN3971BCF-GOCN769TWCC-CIBN9885FGB+104PP-SQP135610CCCP-41883OO-DEP51-1107150508CP-639E-231G-ARYCVW182N128E52-907PI-C569N6915COB-R-654VP-FAJ9Y-TGJAN-BSQN608ZSP-LKCXB-FIPT-254X-FAB/042145913KJ981CCCP-6384261-0265CCCP-75685PK-PHB58-071958-073054-014050778N512VCBK-04PP-SPU57-1442N208M42-108889PI-C945PP-PEE52-1058212CCCP-4521845-938F-OAFICCCP-0791443-49903CC-CCGN849DSE-CCCF-BJEQYS-012CJA5080EP-AHCG-ANTDYU-ACBCCCP-0615663-8882JA8023PP-SRQG-AMHJWL680N600NN300N1264A4-202G-AOHTPI-C948CCCP-45028CCCP-75690HK-153CF-PQGVH-FNHCF-NAFOB-R-577N4997EYI-ACUCCCP-46764G-ATAMHK-10920727PP-BTP52-107562-445863-77975N-ATLG-ASPLG-AMSHVR-AAAAP-AAHZK-TEC57-6292EC-ATHVH-ANJCF-FAJIM-1727N150AJY-ACQN6455CG-ANTBHJ218N757LN6541C57-0475141321148147190/F-RABVEC-AINN6579CD-CHFB55-4516965GB+23962-4164G-APFLYV-C-LBOAP-AMHN91016JA5088KJ955465763-8042T-4951-2680PI-C950T.2B-230T.2B-22956-43797T-VACPT-BISGB+23515251-5287CU-T824G-ARVKCF-OFJ60-037354-641N761PASU-AJWN7077355-004255-003951-058G-ASXL6V-AAATG577CCCP-98302CF-CUQXA-MEC55-0136G-ARMV43-490264614G-AMOLCCCP-01201N8415HHK-1340151380N4834VG-AHPLOB-R-769PP-BTHN7036UE-22812648BM-1002PP-CFD135747SP-LVA149802CCCP-05856PP-AJEFAC-65534039CCCP-9832042-92916N7671C5324N272R5Y-VVDPI-C942CCCP-11337N5132BN820TWET-ABI43-49100N100BBXV-NICHC-AFQT-1306N708PAN9719CPK-PHAN5003X42-10895717239AP-ATTG-AOVB53-010N40DAN601ZN824DHK-118VT-AUQN37519F-BELVPI-C144N804LJCP-19/OT-CASPP-BTICB-45VT-CEI53-0358CP-645N7529656-4381316410TC-48HK-8110414/2-P-107N-605N1996N52CCCP-45086N7030UT.3-39N243FCCCP-01189H-060G-APMF53855-4530N1210WN8784RG-APEYG-APELN48554-651N748TWN6218C17107EC-ARZLV-JMC56-0502XF704F-OHOC147960VQ-FAL56-4376D-IHAQ56-0515N6914C54-647T.3-21PI-C856G-AMWX43-49492PP-LDQCCCP-7568845-1120HB-IZGJA8006CR80262-4148PK-GDEPK-GDUCCCP-6161856-4369XA+11861-0972521251-261161-097054-676FAC-6751102155-451942-93090B-929CCCP-45076HK-730CCCP-0218561-0273TL-KAA4262VT-DMN54-702N7115CLV-GFW135751D-ACATCCCP-0285114980950832SU-AOB55-4537JA8302PH-SAB52-0980VT-DPP18152CCCP-52058CCCP-76491OO-ABGXA-LOSOB-R-60643-48297N1135KCCCP-79910HC-AIPCCCP-79860CF-CPKG-APFEN6901CSE-CFG44-76290OD-AEL43-4926851-071SU-AOAN316MN1245N61-2641N453T56-0506L2-18/00CU-T831C-FICA61-0953VT-DODN9137515217156-4382G-ALZX10304YU-ABGN8744R51-8019PP-VAYN183HN235RCCCP-61772CCCP-028079302VT-DDR3678OB-R-77147985CA-1TG575LZ-...62-41655W-FAB43-4954657-142455-4534N6339CT.2B-26614795357-144464-051143-48925G-ARPYFAP-367F-BKMFN86523WF334N1041563-778556-4378CF-FBJPP-YPKCCCP-01127XY-ADLN17337HK-140PI-C17HR-TNG9K-ACG54-644TZ-ADNZK-NZBTAM-07152172N40446T.3-22CU-T830HK-52761-2386PP-YPT2414252-5919HS-OOO17211N4994ECCCP-45038N9905F43-48388CP-730N1553N356SA971YR-TANXA-PEIN65LV-GLEN2834342-93514JA8030CCCP-755522037N331RSCU-T87543-6014141246G-ANBBOH-SBBVT-DSB63-787865-0281CCCP-79816CCCP-9622453-7838N2282XA-NIM ?CP-786EC-ACXN18138JA8617HK-174VH-RMIVH-AGEN500JRLV-AGGSU-AOM53-3195N910162-184063-9751I-ACOA63-7886N131E51-7145N6219CPP-PEC61-095561-2405PP-SRM54-597HK-512VQ-FAXG-ATCT55-526243-48961B-156N339N68966N4040662-4167VR-AANCCCP-75665N235KCLZ-BENFAC-62156-436761-2399N3414OB-R-568ZP-CAP59/F-RBHI43-48949N7301CCCCP-46601N2222BN228SWXA-NUSHK-161N4059KYU-BBJLV-WDON46TE56-4372VH-RMGN30046FAC-...43-49124131495N122EM21-02CCCP-04343B-1501302N743156-3613G-ASOGN3408SU-ANLN74841XA-LAU9M-AMUN640NA54-611CC-CDHYK-ACBOY-POF1271CU-T82749-1917HB-IMFPK-GLB60-0307T.3-343-4967944-76542147955HR-SASST-AAMXY-ABFXY-ACNTF-ISAN8224HCC-CLBPI-C501G-ATZH43-16040PP-ASSHK-758PP-PEA9M-ANO1240CCCP-11007I-TOREF-BMHUN1063T43-49201N271242-7256199844I-CLAIHP-425VT-AUU63-7772CCCP-61657ZS-CVACCCP-04959147565EP-AEF65-940743-48356N5437044-76534N802EN706G5N-ABQCCCP-75563CCCP-46215G-AMYW7T-VAUN699CCCCP-0421366-0127700655-457558-0722N7777C5-10755-3140HB-ITBG-ANCGN3493F53-054943-48921HK-326PK-PFB10309151365XN32159-0534CP-712TF-AIOG-AVJZN298GBN65GC11153HJ2444541CCCP-05604N739RCF-NAD9M-ANCXC-BIIWB831PI-C854HK-503ZP-CDPN2968HK-7579J-RCY45-112545-515CP-769G-APYKG-ALHGCCCP-04366JY-ACOJY-ACP5A-DAD1217 ?1218 ?UNO 868039458-0737WD491HZ-AAJB-827EI-APMXA-FUW64147237206860-0293CCCP-71220XM106N6936CEI-AOFN1116J50-086HZ-AAM522XA-NAHVT-DOMN309CKHS-TGIVR-AAV51-1125XS598PI-C5273X-GABN861H9Q-CBO12841455-000962-181559-1465AS+581N686505R-MAD54-630XW-PDLN205MBJ49762-41619552-10122128N9473ZG-ATEKG-ATEH58-170263565743-16282CCCP-42615A4-171N909429G-AAD44-77552203454-621OK-WAIHK-101N1309VG-ALZSXM959D-IBUL43-49520EI-AKKN7436C147946XL991N91003HB-VAP43-48591171345N-AAV61-2649G-ARCOXL63857-0467CCCP-16150PI-C648PP-VBH64-0548OY-DNPN6LB-1541N432EJ54-667PP-SDJEC-BDDVR-HFXWL786N742TW5N-AAKTTD-6020F-ZBAQ62-186563-7827CCCP-75538DM-SAFWR976N821TWCP-826CP-69157-611964-0563N7465N690LJ62-4175VP-WAM148350G-ASXPXW-PFM37/F-RABZOB-R-148210054-582N822LJN742961-2387L2-20/00135594XL150N28360N30WXF702OY-EANG-AVGWHS-TDHVT-DUCCCCP-462013699T-PKDN122SN251SCCCP-09667CCCP-96226CCCP-477333674YU-ABKET-AAGCCCP-7551943-4832150850131436ST-TYBSU-AJGCA+1021521445N-AAL58-00262026SE-ERCHS-TGLF-OCEDCCCP-110155T-TAC99853153440N791SABL5346521HZ-AAE64145149813XM963CCCP-2894643-49859B-101813148658-074343-4847144-76643CCCP-42369CCCP-75560XW-TAD131484N525WCCCP-7425264-052254-69456-054962-1814HK-136F-BLCJ54-59051-5198CCCP-4501954-594PI-C871CCCP-418404374844-77016616743-49330N1846PP-ASTN4820CN7425U60740589ZK-CMXPP-BTXN970ZLN-FAEHP-46754-653153445WR956145900IJ304151350VT-CMLG-ARWECC-CBMZK-CPUXA-GEV9J-RBXA9-29661-096756-048054-602CP-734WB833ZS-EUWHA-LIO60-0298N1802N9707CN27WG-APPU43-1615943-76207XR13362-4176PI-C8736165IM-1719XA-BOP56-054860-029763-7875N9267RCCCP-0597756-047745-58554-588655PK-GJACCCP-4520963662-4189CCCP-059896185N74139WL677N7086UCF-GNDN798PAI-PIAIN6302WG30062-186154-595PH-DCH5T-TAGN196KCN475USCCCP-02332N762ZG-AMADG-ARPTT.2B-158HZ-AAZ44-77275OK-MYC5Y-CDH ?OO-SJKPP-VBJCC-CDICCCP-322094X-ATA63-976151-5178N367EJ66-021466-021856-3655I-DIWFCCCP-01118N4634SCCCP-11172CF-FFYG-ATFN82-0190N712USU-AOLOB-R-8499Q-CUMYV-C-AMYN91239N278ECP-76062-417753-324343-4949952-1018LN-BFDLZ-BEGLN-NPH62-1785CF-RNPN122RPP-VJRF-BOHB54-714N148EPP-SREHC-AMC43XU-U4AHK-1401HK-172CCCP-9174355-3133N64423N7466N90427N8081HG-AMAG63-97535T-TARCCCP-46552XA-SE.63-9745TI-1063COK-MCJPP-PCW17949CCCP-75436PP-SAD45-93461-030142-23966PH-DAA42-24304N380NECCCP-11349N128SFN656PAPP-LEWTC-5556-4391C-GYCJCP-791N73135XA-MONN17325JA8032N7666N1386N61-2644XA-PYNN490564012695/BW-EN7154VR-BCYN7314CCF-XJMTG-AGAN494PAN60G54-60043-49274CF-RNO51-266754-708N208SDT.2B-2355Y-ADIN5802N760AL2013XB-POHN799PA4X-ATRN2045N974ZOD-ADROD-AEIOD-AEYOD-AEEOD-ADQOD-ADIOD-ACTOD-AEF9G-ABPOD-AEKOD-AEWOD-AEXOD-ADS62-450243-48702VH-RMQXA-SAECCCP-04214PP-NMEHK-682454B-309SX-DADCCCP-70124140160YA-FARN5825HK-1028G-OHOTCCCP-70940PP-SPRN772SWLN-MOO59-1491N584JAG-ASJJYA-AABN973PS949VT-DTH60-5434N7434UPK-TSKSP-LTE67-2147663-7780N610EDCCCP-8472452-0904N164WCCP-745TC-SETN5133BYU-ADL65-0990HK-106545-1133N7324CN1304TCF-PAPN41SHSP-WOE13148714+0555-3271HK-68371-1134B-241VT-CJHN155704X-ABBG-AODGIJ820B-2009T-83PH-ZAA63-9762140964N3403VP-FAMCCCP-06214N563PRPK-ZAD152765N6513464-0545N3821ET-ACQ861YV-C-AVDHK-754704B4W-AAS3122SU-APCG-AVJAN142DCCCP-46751XV18056-36025B-DAEN7311COO-SBHCCCP-98316CCCP-293905N-ABMN3914SP-LTFXV-NUCCF-THK5-112CCCP-1366743-49540ET-AAQ9N-ABM59-2221N6763LPI-C870PP-CBZBJ913135749N42969T-PLJ ?N515VW3696VT-DOJPI-C947B-2519G-AAFN3934C67-21493CC-CAQCCCP-4243661-2637N446TF-BELLN221PN760MC-GCXDTC-28N7260CPP-SPYN1243NHB-IBTN52679ZP-CDN303/82-PNAN.1-4CCCP-32607HI-15914981454-63945481/82PXHK-1403XA-SACN1247NXY-ACR63-7789F-14/61-MIN9982H54-1629I-ATIT9T-PKR56-0472T-123F-BFCP62-1831TF-AAEYV1944151363XA-SELHP-94662-4137SE-ERP5085243-49547F-BLHHET-ACDN2550AHK-5005-8536HI-16861-0965CCCP-5201862-4499CCCP-11380Z-HACMM51-8154CCCP-91527T.2B-191TG-AMATR-LNVCCCP-91495EC-BEOAN.1-7N444JMCCCP-09168N844NS23490HS-TGKN139DHK-186HK-558N320LTN-ABA9N-AAP9N-AAON558MALV-IEVCF-PWOF-OCKT150187G-ALZRN787TW7T-VAK62-4186LV-WDUXA-JOT57-6109TG-TPAG-ARPSOK-KHDF-OCNUI-DABFN7567ACCCP-46248N120AHK-11517254N35310EK11997F-BGNCVT-DJCN938PRCCCP-11018SX-BBF?CCCP-96175XA-MOOG775WJ895HK-1408HC-ALKAF-601CCCP-75708FAC-1002CCCP-41971N776TWPP-FMXCCCP-6173143-49021N8410H67-21495CP-834N2711NFAE4341FAE1969PP-VJLFAC-685-ACCCP-11377F-BHRYN988VJCCCP-7579162-418752-0951PI-C1131HR-SAHN15VJPP-SPP942TC-SECCF-PWR14654/F-SCIBXV-NUGXA-SEJPT-MRKCCCP-44984CP-698N52676G-AXEL43-48959ET-AJL152796A4-14758-0718HA-LBCLV-ISCPP-PDXVN-B190?54-64252-5907N852JACCCP-11169CCCP-4777242-72611FAC-660N8634N170L140433AP-AURJA87084X-AVCHK-1022N236JPSE-BSULN-FOMVH-NJWPP-VJXN1021BT.2B-133LV-IZRCF-AALN480G899CCCP-44628AAQ43-49019CF-CFLCCCP-75699PP-CTLCC-CCOHK-72859-2871N7811MHA-LBA5N-ABDSP-LTBVH-ATK56-0533HR-ANACCCP-44995LV-HHI5N-85HN892PATC-77CCCP-49369F-BHSZSE-DCYCC-CBYN410M9M-APECCCP-11381T.2B-249SX-DAECCCP-52010HL5208L-853CP-80056-0499N6728JJA8743PP-VDQ62-1800N403MLV-GEBCF-NAK55-456256-362960-0317CF-GNG2450B-2005LX-LGCXW-TDJTI-1007C63-9723CCCP-07399OY-APB17284N10416SP-CNACF-UZAHZ-AARHC-ANP618PP-PDZXW-PGJN13VV54-688EC-BNMEC-BODEC-ATGCCCP-02528VT-DJBN1308T5W-FACL2-17/00OB-R-776SU-ANIF-BRUFN270LG-AMOA4X-COJHK-171PJ-FREXC-DOK9N-AARCCCP-47701CCCP-45083SU-AOKCP-825CCCP-40573147571YR-AMTLV-HGWPP-VJPCCCP-7579859-0530OO-HADSU-ALEN124PMTAM-11CC-CBTHK-1270HI-1779Q-CUPCCCP-21504TC-TEZ53-3156N741JB-243OE-LCUHB-ICDTI-1065CCCP-61637CCCP-129669N-RF962-4460CF-THY23489CCCP-58340D-INAHDM-SBDHK-1337ET-AAYSU-AOCPP-BUFCP-677145927N8925ECCCP-25598N163JXC-CFELV-AHN12251CR-AIBA4-193M21-10JA8315HK-790F-OGDRCCCP-47751CN-CCV61-240662-4180CCCP-5200263-974662-3535G-AXRJ56-0510HK-128156-0516EP-AGZHC-AON61-0640SE-DBECCCP-06333PI-C1022N743TW43-4840254-1625CCCP-41398B-308MM52-601853-8155VH-TGRCCCP-15935N752TXN935FCF-WAG52-5822N174W6O-AAJP-20..9419HI-170PI-C532N434EJOO-AUXTC-17CCCP-32463N111ASPJ-FRMTT-NAACCCP-1114943-15133N75430HK-121YV-C-AMKCCCP-6583967-0172HR-ASNN40412I-DIBDG302OK-NDDPI-C507HC-ARTN94314XP441PK-ZDFSP-LTLCCCP-7553352-5935VT-DVGRA-1777163-9724SX-ASON8021TC-75CF-AACN122DWI-DIWL55-3250CCCP-9392553-047PI-C504N21CKN154RF-ZBAXPP-CTJCF-TIWT.3-43LV-JNLPR-MOZTAM-179T-PLKCP-91443-15583CCCP-09303N6459CD-ANDYSU-ANZN9005UG-AXPS9Q-CTSXW-TDCXW-TDOXA-SOECCCP-41295VR-BCTCCCP-29387N785FTN3191GLV-JMX15068562-1802N736PATF-BBM15215951-5305AP-ALMN5603OB-R-939CCCP-45215OK-TEBN350QN1340NJA8305N996SA45-602CCCP-15238PP-CCLCCCP-75823N855UN620LXA-SAR145928N77JL52-1049T.2B-156VT-DWTCF-JRYPH-NVA48782CCCP-45012CCCP-87690G-AVPWWF370WF385WF423CCCP-28952N752PA4X-ATBN3329LN4863TN855JAC-FKSLG-ASGNN8715THB-IDDYR-BCBI-DIWZ10665UR-CKCCCCP-02195P2-MBITF-FILCCCP-35417B-305N12978CCCP-11031N4764-0536EC-ATQN464MZS-DKRCF-TAR131644N9248RCCCP-02833N610FFCCCP-46256CCCP-75578CCCP-8477166-830344-78118P2-SBCN123PAD-ALCEHK-792PT-DNZBK970B-1543TF-ARSI-TIVESX-DAIZK-AXSN956SMVT-CZCCCCP-52054N97S616N100RCN5584VN6113C4X-IAIPI-C15PI-C9PI-C94452+79PI-C86955-4574N4909CCCCP-25611N790TW4X-FPS/037TF-LLG411PP-CDHYR-BCA155120D-CIROCCCP-09305LV-HHHOO-CTLCCCP-8153555-3298N36MKN8790RCF-BCRF-BNGBCCCP-75773AP-AUVN91069CF-IEECCCP-462419J-RDRSU-ALC9M-MIAN7F-BNKIVT-DZBN7595AG-ARBAN12RA62-12584147564LZ-BEDG-AWZAXP915FAP-331 ?44/F-RBOAN400CPCCCP-75727FAC-653CCCP-110009G-ABWXU-JTACCCP-29380T-701VT-DJIHL5212YV-C-AMVOD-AGE43-15975VH-TJACCCP-12996VT-DMA23057CCCP-91535N1001256-4373N14273N55L148318CCCP-11374N92STAM-60FAC-692N99H61-2642T.2B-157LV-JTCXW-PGRTT-DAACP-908HC-ALCN25G-APNH54-650PH-DCMVT-ATTN49319VH-FNERA-71165CCCP-46747N3166CCCP-11145TG-ABAPK-MYN5N-AAXN573725Y-DCA293246N123CBZK-CGV43-155552414N856HKCCCP-426963689TAM-22N4922VHS-TDEHK-173TG-ACAC-GUTWCF-BZIN1015GCCCP-02171AD.1-3CCCP-11024CC-CAZ03N666TKCCCP-32076YU-ADOCCCP-47729XW-PFLPH-MOA58-0039B-261049-2614N934551-167N5832PT-DLPEP-ADG61-0331CP-926HS-DBRVT-DXM9410N90627XW-TDIT.3-37TR-LOSD2-EASJA8764N805FCCCP-06266N74844CCCP-43828465155-00456V-AAPCF-HQIN461PACCCP-42405T.2B-198CCCP-87719CCCP-1299349/F-RABBJA8329N747PAOO-SBCN47330TC-31N7415VT-DIXMM50-175BL918N5844BJ923B-304152788N351VHA-MOCCF-HTNCF-IDSF-ZBBGHK-3330XN2969GD-ALARA65-738P-AACN25YCHC-AUX25667-225864W-ABIHA-LBDCCCP-67207CF-UXB4X-FPR/033CCCP-98281CF-MPZPP-CBVN1981WG-APECN44GAN857JAUR-MMKCCCP-42490CCCP-47678CCCP-11137HK-595CCCP-70908HI-146N564EN51CSF-BNUZN986MA9Q-CABHP-550N2978YV-C-AMZ12930HC-ANJPP-SMLXV216PK-MVS43-48009CCCP-4680969-6578CCCP-463780-53313YR-AMA3124B-1852CCCP-627609V-BCUN467USCCCP-32207CCCP-46788N8943E14832113808AP-AWHF-BNMO152151ST-AAYCCCP-98292VT-DXGCCCP-33164A65-111AN-BBIAP-ALX152793CCCP-55567AP-AVZCP-862YU-ADVBJ622VT-DXO62-4173LV-JPGN589JAXW-TFCLZ-BESN42JAHA-MOIOB-R-941C-FRHW613TAM60HB-IFR293F-BOEACCCP-50573CCCP-98348LV-GXBN45515CF-KAHXA-SEVHZ-AAUEC-ATVHK-13930-53279PI-C1060149810151890N658TCN9333TC-JACHK-1347YA-KADYU-AHTN7817MA2-ZEV7Q-YKD0-81717G-ARTAD-ANEF155122N6767XW-PEHD-BABAOK-MCGYV-C-FLGHZ-AATPP-VDU393HK-1139N67961XW-TDE62-1813YR-PMGHB-VCGCCCP-46732D-ABYDCCCP-46418T.3-13CCCP-11142OH-FFWN7818MVP-CDYN3010XA-RRM58-004844-77228OY-STLHC-SJE31170-52978N851UCCCP-42408YU-AHR0-922090-532770-53311CCCP-4262155-0044N19D69-6571YV-C-EVFXS609TJ-CBDRP-C473HP-539VH-PNBCCCP-44937PP-SMI45-1131N7380F45-11026514N725RTAM-01I-ATIPN8802EHB-IFMCCCP-0150663-77755X-UVAOK-ADNOB-R-653CP-940FAC-65264-0508CCCP-1115953-782662-1797TC-JAB52-1055CCCP-87778I-DIWB0-81707CCCP-25604HK-721OO-SJGYV-C-GAICCCP-45292ST-ADXN211LVT-EATCCCP-505060-922270-817180563-7798CCCP-11215N8961ECR-LLD62-1854ZS-SBECC-CAG5Y-TCA152155D-IDHCPP-PDGN3305L15218257-049562-1805EM-2N103AACC-CDU6012JA8012CR-AMXVR-HFZCCCP-02692SU-ARN55-0043N554PRXR444CCCP-02582CCCP-35313N4043BN90858D-CASYCCCP-46652SP-LFH387432010145904F-WSGU6888XW-PHWCF-BALCCCP-65604VT-DXJHZ-AAK67-056CCCP-98280N20MN242CAN73648CF-XUXCCCP-65607VH-MAE148354HK-10583164G-AWYSCCCP-15283LV-JYRN39393N5662CP-7524650N6816DCCCP-32649HK-1341HK-107N732MAVT-ATZN446DDN315386850CCCP-91537N666PEP-PAEVT-DME62-1853CCCP-01147YU-AGADM-SEALV-JNSN19Q4X-ATTXY-ACMCN-CCGA6-EMWTC-KOCPK-ZDDN7684G-GDFCXY-ADFST-2YV-C-AKE555A4-233HB-VAMAN-AMRCCCP-32520CCCP-74298VH-PNI0-53300CP-95951-132ET-ABQCCCP-02369N1040EXV1949N-RF10N15712CCCP-33233PI-C892CP-565PH-FPTZS-PRAXV-NUHJA8013CF-AADTAM-24PK-GFPEC-AQECCCP-75507XW-TDACCCP-707389XR-RBT-571CCCP-86671N361MCPP-CTGSX-BBQTC-JAMCCCP-87819HESA90-04F-OCRHF-BMCH52-5936D-ABIGI-ATIRDM-SCAVH-PNAF-WFAL4W-ABJCCCP-46202LZ-ILA648N566AACCCP-09676VH-FNIF-BTGH938CF-FOLYU-AJGCCCP-1136043-49771401HA-ACUPI-C1027JA8040CF-TQWHK-2421XEC-BZRCCCP-41306N5033FSU-AOW64-0558YV-C-TGECF-AUQN9031U64-0505N521MN788TWEI-DONN602USCC-CLAT-703N8807EN954NCF-IHVF-OGFE56-0490LN-SUYN400MEC-BVCN310EAN500AEPK-GTA10640533CF-PWZC-FQEITC-63PK-EHCG-AOHIJY-ADOHR-TNO155917SU-AOVPP-SQALN-RLMIJ341OH-KOA43-48636CF-HTH374CF-OOVCCCP-11341CCCP-85023N100SQHP-560N10427ZK-AOICCCP-75712N454RNPK-NUCCCCP-8760201253-7839N65740540/5-T-3LZ-BEMEC-BJCEC-BIIEC-BIDCCCP-11994CCCP-93467524CCCP-7081663-79890-50781N320MCCCCP-01262152749VT-EAU0-53323XV-NUICP-969CCCP-05670N7705E-213E-2176169141250N6906CCP-801CCCP-05820G-AXOPN711NA157332N743RCCCP-35577N175SYI-ACLYA-GAT9XR-KH4X-FAO/072CCCP-42505HI-2014662HK-791CCCP-87532VT-DXH6411VT-AYHCCCP-04244PT-CXKN45CKN620SCCCP-85030N446MHS-TGUCCCP-75687CCCP-05915CCCP-70569CU-T876PP-SRDCCCP-42379XW-TDMCCCP-55798AP-AUWCF-QBBHK-1274VT-EAM802TR-LOCHI-117CCCP-77102HK-1061PP-VLJN173WHK-1020N999JZN635AVCX-BHSD-IHLZXA-SOCCF-TIJN296CCCP-09228N10TPN8960TCCCP-32558CCCP-65668CF-XZSTR-LOD0-53327VT-DPOLV-JTOCCCP-9153464105H-AAKCCCP-45062N1312VPP-VJZHP-570OY-SANOB-R-9205U-AACHB-IMM145936VT-DMDCCCP-79827N417PAJA8109N4215F-ZBBMCCCP-35559N127XA-SABN975NECCCP-70807CCCP-33242N6202CHJ916N1728TCCCP-87790F-BSUMEC-BICCF-WWPN38JA257OD-AFRCCCP-41373CCCP-46435YV-C-AVIHK-1115-209RA-67436HK-77763-8077CCCP-28954OK-MDESP-DNKCCCP-09649AD.1-5N669MXV-NJCPI-C875N802WACCCP-41913N7876XV198YU-AHDXW-PKDN211WCCCP-32213BNMAU-420621237T-VAIN566EN200RCN40LBN9423043-6022EC-BBRPT-CEVCCCP-42506CCCP-12967T.3-25PT-DVNCCCP-04340HP-1205CMPCCCP-71209XA-COLCCCP-424869N-ABG62-1845OD-AFXF-BOJCXA-SENCCCP-45031LV-JNEPP-SMJN614SECCCP-01609HK-1383CCCP-70408N751NN37JA251HK-718CCCP-87607N60NAN458PACCCP-41978SE-DLKEC-BIAF-BLHT152787XV-NIE17171MM61832PH-BUAWF411N3323LN8967ESP-WCB3155HB-IDK8R-GCPXW-PHV803LV-JNRCP-910CCCP-42503131615LN-FOECP-10484W-ABRN6917CD-ABEYCC-COAEC-CBNN407PACCCP-40521D-ABOTTAM-47CCCP-87629VH-AGXOO-SRDCCCP-45044PP-PDVCCCP-32448HK-1027N19428ZS-DAKF-BNTTEM-3YV-C-AFON481FCCCP-87746N575QI-TIDEOH-KDCN34WHK-1146N125AECCCP-46357CP-990BL7406162FAC-1103TAM-52N711FNN2375N5565N757TWHK-1216N7824M960TAM-30PK-GDCHK-1319CCCP-33225CCCP-46277OY-KRATC-JAOCF-DIJCF-TVKN454PAPP-SDQCCCP-01579CP-94760-350655-3120TI-1086CXV-NUMOD-AHBCP-1052HK-133356-4377CF-BRL5-122HC-AXGEI-AWGTC-JAVG-ASGOCP-1024N32LN208PA57-1500N802TWCF-HPA9599Q-CBHJA8117N4819COY-STK5Y-AACCCCP-73960F-BSRYN6164AN850M5-8521N848NSVT-DNZN3799A2-ZERCCCP-52053CCCP-87369CCCP-33085G-AXMJN3100762-1841XW-TFLN446PAHJ254CCCP-75559N389EXN853SAXY-ADMCCCP-12950HC-AUCCCCP-87398TF-OAE3166CCCP-754253128ST-3CCCP-23664CCCP-25487N891U9411N14STCCCP-87579PB-511XW-TFNCF-QWJVH-EWL5Y-AMGYU-AJDN7263CG-BAEFPH-TRHCCCP-75405N7237CXW-TFR2307CCCP-02383XW-PKTCCCP-92836RP-C1182N894UFAP-303SU-AXBB-1811N24CV100..5B-DAB52-13352-13952-14353-207SP-ANGF-BPUIHK-1271ST-4CCCP-35029CF-PWAC-FTATET-ABECCCP-85020F-BPNFHK-1485115461TZ-ABEHK-508YV-C-AMX9T-TCD65-0274ZS-IZZN9760ZE-234CCCP-04302N90569N100AKSP-WLTN366AAN40427N9104143PK-GFJBJ920N8734TI-1010C941PP-VLHN8984EOY-DSR9092366AN.1A-1N610AS68-02275-21163-7802N296551-075N357VN864JAOO-VGBG-OOMCXW-PKX79005T-11369065-0965XW-PBWCCCP-110302356RP-C643YR-APVPP-FORN102AKCF-PABTR-LNFXX477CCCP-70766ETI-19CCCP-42501N7140CN172RVN76OY-DVJTAM-3420506419CCCP-91515RP-C570JW9015D-ABYBET-AAREP-AGXEC-CGGG-ASGRYU-AJNPK-VAA ?B-1801FAH-799N54328N274USCCCP-11875N50PCCCCP-12985PH-MBHCCCP-49342CCCP-05783YR-IMKCCCP-44917N400FACCCP-87630XW-TFI56-0521G-AWSCYV-C-AVMG-BBXJCCCP-15890XW-PKJPK-RDB55-0016VT-EBEA65-1045V-TAAN66HAN920GCCCP-09611TG-HTME-214N18837N9BCN37AP58-0721ST-1AE-259CP-961G-AVMPFAC-68852-5826N63839Q-CLM43-15527C-FCSCHA-MOHCCCP-70417ET-AENN1200HXU-HAKXU-KALN86ACOY-APDCCCP-87825HI-222N15HCPK-RVMHC-AURN234YU5U-AANRP-C1028IJ818N5588WN711ST50+63CCCP-75801N77DGVT-EAKD-BOBDR3707HK-1972XU-GAJPP-SMUN5107N90PBRP-C941PP-SBEN87805YU-BHWN439AFN990L2047HK-1492XU-DAGXV-NUJPT-JXSXW-TFPN711JTET-ABRTC-72ST-ADB64-0641CP-1078B-1553N6N4860V9J-ACFN51131RP-C874N4527WN35LXW-TDNN730EG68-0218I-TIDAXW-PKHXW-PKT ?N960M035CCCP-70177SP-WNGCF-ZWFEL-AABCP-1063N591JABDF-01CCCP-46476N700SPH-152072-129708452-5889N283FCCCP-0644456-054257-0465N8875055-000656-048956-0505FAC-663VH-SJQRP-C1029N45516CX-AQO61-0646OO-VLEG-AWNBPP-CDDCCCP-70426CCCP-07960CCCP-43908N90574JA8680N75GRP-C1184N6931CCP-941CP-855N28888N67KMPP-VDNVT-DVJCCCP-419324664HK-715N8845E14+07D-IJANCCCP-02132HK-1309CF-RDITR-LSWF-BTQEN428JXTU-TFWHK-1976HK-756N71CRN570PRCCCP-87475SP-WKWHK-6549413YR-ANECCCP-70235C-GLUC57-0454FAC-654970B-2029412JY-AEEN77WAN887779Q-CYBHP-677N4873VCCCP-52056N6813DF-BPNVP2-ATXCCCP-873236O-SACN15KLOK-DBFHK-1517E5Y-AAFTC-62CCCP-70506CCCP-42472CP-714N4904DM-SCDN567AAA4-140N987AKN144AET-ABX2065G-AVYD125N8329C7O-ABPN6161ASP-WNZPK-GVCCF-ECYCF-AII1410126422LV-JSYN25FECF-MHUHA-LCIHK-1272CCCP-87328PK-OAVCCCP-69316155723EI-BBACP-992CCCP-87458VH-CLSVH-AUITAM-44YU-AJOT.3-30T.3-35N8838EN1032FCCCP-49280LV-LOBCCCP-46467CCCP-46349G-BCUX4X-FBC/203CF-OOXOD-AGCVH-ISG60-0354CCCP-23691CCCP-11005JA812239096157352RP-C2136N18701G-ARPCC-GWYDLZ-BAAXU-BAEOK-DKD66-250CCCP-09233SP-ANWHC-AVTN144486418LN-RKAOD-AFTN1031FN651LJCCCP-45037JA80435Y-AUAPK-RVKRP-C2135CCCP-47280N85FM1025CP-573HC-AUE/68371501B-492154/F-RAFKPT-TBD5805PK-IHDXA-RIOCCCP-75558CF-HPMHK-1389I-AMME60-0368N901MACCCP-42327YR-AMCTT-LAGN397FCF-BQJAN-AOCHK-1286TAM-76CCCP-75408CCCP-46613N401FA9Q-CLON7997RAN-BGUCU-T879CU-T1200YK-AQCCCCP-61756XW-TDRXW-TDFXW-TAFXW-PNIXW-PNFXW-PNDN1EMFAC-676N124ASN530PAN64EYR-ANFCCCP-09675CCCP-33170N37777CCCP-01626ET-AASXR105N19635X-AABTC-JAY7T-VAHYS-35CC-GDHARP-C21409Q-CDZ5-283N1456TCF-PNVCCCP-46534CCCP-79935CCCP-03547N468CG-OCMECF-FKZRP-C1161CCCP-26567ET-ADCT.12B-11CCCP-85102CCCP-87541RP-C1061CCCP-133459M-ATZHB-IHHCCCP-23743PP-AJCCCCP-32464CCCP-70819N994VJCCCP-70764F-BVGGCCCP-70481XB-JOYCCCP-70531N5531VP-CTJN7177BCCCP-62439CCCP-13369CCCP-05840CCCP-42335N600WAC-FODPCCCP-07285CS-AJQOK-NABCCCP-35088HL7412304CCCP-70190[VH-SUZ]FAC-1101T.4-11CCCP-47734CCCP-23722HK-723N200WPC-FMPWN48060CCCP-79852OB-R-1104F-BSGZ67-000667-0008XA-SOF7772CF-MITPH-DNMVQ-SACF-BHSHC-GKFC1011UD.13-07CCCP-46518CCCP-87772G-AWZTYU-AJR0644/2-P-103HK-1282VT-AXCTC-JBHC-FAWFL2-40/1561-0296PT-IBRN500JCCCP-79868T.3-57CCCP-01226TZ-ARCCU-T1201VT-DWNN730JPET-AAZXB-NUVHK-149PT-TBA301CCCP-75575N985SP-WNPPK-KFRSP-LHDHP-671PT-KIUN27RBJ922N519DWC-FPWXA4O-SI16+22SX-BBRCP-755CCCP-42471N2010CN-AOBCCCP-87756N80BDCF-IAXN101ACET-AEJC-FAJBN5865CCCP-87638CCCP-46722CCCP-88208CCCP-61752N988FXCCCP-09318SU-AXACP-983N260HOB-R-247PK-KNCLZ-BELCP-1008CCCP-87563CCCP-42371SP-WCHSP-WMPCF-DXOCCCP-11103OK-NAAOK-CFD5T-MARPP-SDSCP-728N12MKN332PCR7034MP-301PK-KTDL4K-19/19G-BABXJA8054C-GNTBSE-FOZN73KWETI-27YU-BJHCP-925T.7-15CP-1317CP-1208VP-FAPN5904VCP-13147Q-YAZN76GCPK-NDHHI-208PK-IHKE-246OK-OCATC-JAEPK-WWKCCCP-75520FAC-1125N100GPVP-HCD58+24C-FNARCF-IQRB-204CP-540CP-10097O-ABFXA-COM62-3522N8635N174DPCCCP-40572UD.13-09EC-CBITAM-77G-CIASG-APFKN101MXCCCP-09191TC-JBJN692APH-BUFN57131PK-NUPCCCP-87738RP-C368CF-NAZ10737150545YU-AJSN60MBN1335UCCCP-61675VT-EEL5808N10AVN7886AHK-556CF-XXTUD.13-08N570FTB-247RP-C803N256TM4K-AZ27YR-IMI2169SP-LGA5N-AAWN6NRN40PCJY-AEW58-0101PP-CTICCCP-47178N355WCCCP-44992CCCP-23716M30-03ZK-EJMPZ-TBAC-FBKVPT-KUO54-2816SP-LZAG-BEBPN20GYP2-DNJTC-11IJ297N501PSCCCP-468061042CCCP-86614I-JAKER3702N32725N90WRST-ADWCCCP-093495U-AAJCCCP-55735N33649ET-AAPTC-15N38APCCCP-01241HK-1511EYU-ALAF-BJHCCX-BJE/T-584HK-75156176YU-ANUL4K-2/16YR-BNIL2-11/96SP-FNAN126US32052157CC-CFGN280FOK-162CCCP-46847CCCP-79968P.3-2CCCP-65639T-20.CCCP-55723RP-C1419N459HK-166CCCP-15274ET-ABFCCCP-52096N367FCCCP-44617N22JA9895N-AMFFAH-301D-IBAFL4K-3/16C-FAZMCCCP-29316N48064HA-YFA148884T-879Q-CRTET-AGRN44HHCCCP-265363221N8817ETR-LSFN4917CCCP-01250CCCP-48094CCCP-32032CCCP-32108571HC-BCLTC-ATIN563MAN999HGXY-AEHN....N6314J62-3536N723AJY-AFCPT-DVLPK-VDHJA8051N925BDCCCP-33254JA8033CF-CZHRA-26053EI-BBYTG-AKACP-1336ZS-JYF54-707D-ABCECCCP-87948N51CAPK-RHSSP-LTHCCCP-55625N17530N55VMN273RC-FSAWCCCP-04195TI-SPFVN-C509XA-FUAV643N77AP8R-GEHE-248CS-TBRC-FWADFAC-1127FAC-1120LV-JGYN36MNDM-SCMHA-MOF182/F-RABR9Q-CAMTR-LNGCCCP-70629C-GPBOLZ-BTN9M-MBDCCCP-47695F-BYAU153428N8170AN51071HK-1267N669N8047UHB-ICKCCCP-09696N862JACCCP-07471C-FABWCCCP-027086541HC-BEMC-FTVPN64AC123N73675SP-WMLSP-WCA53 redVT-EBDN15598N127LR9Q-CLRHK-1711N982FLAP-ALWN869JA5811TAM-45LV-JGXHK-1351TT-EABPT-GKWCCCP-40570N710SKN189UMN199EACX-BJH/T-511C-FPWCOO-SJEF-BRUXN6523CCCCP-85087OB-R-1004SU-BAA/1270FAC-668I-MCSA151381N6103CEP-AMJP2-RDEN680455N-ANASP-TBCEC-BMXN747LYV-45CB-1870PK-CDC55-0121L2-48/18LZ-TUBN4807CN1546ALZ-BTBXY-ADKSP-WNXN133WVH-EQKN777DCPP-SMXN21ASCCCP-13716OO-SDHEC-CNGRAN-15CCCP-87911N97JA63-7787YV-30CN88909SP-LTNHL742961+0715272463-7766HK-1705N250UAN356ALN9051CCCP-01367N172DNCCCP-70493N4744OA-2N5370GCCCP-07697HK-727N9302N4688BJDFT-6N540N5812N121GWVT-DEUCCCP-85169CF-NTLCP-1338CCCP-77111N8815EC-FEYGSP-WOYCCCP-35188TG-LAMJA8119RP-C12TG-ADA9G-ACLN3560E-239CCCP-02846N941KCCCP-09616CF-TLVSP-WSSG-BCWJN1550N45873FAE748N76214N4809CFAC-6801050TG-PAWN157KN266415Y-CMCN4825CC6-BDQN111AQCC-CCXPH-DNSPT-KRPG-ARIRN81MDN300TLHK-1350HZ-A6CCCP-40545G-AMSMCF-QDGXY-AEIN122AYR-AMVVT-EBOC-FAIVVP-WAS3X-GAXN244BCP-9244R-ACJ64-0532CCCP-3511210328SP-WWT253CF-CRW5-8532N407D152757CCCP-32079N91GG-BFPUN533PSCCCP-07278OH-LSBN74ZCCCP-87544XY-ADYDO-10YV-141CP6550PK-NDI131618PT-KVUCCCP-87437RP-C2152N4048BCCCP-32515N6924CET-AGKN123REHC-BFICCCP-325999S-GNHN760JCCCP-02457N100MKCS-TBOH4-AACCCCP-46327N37DHET-AGQ159892PT-TBFSU-AZML6-1/21CCCP-46789N400DCCCP-85286TF-FLAOK-JIKYR-AMPN13415F-OGHD8R-GEJL650N1065TLV-MMR68-10936E-238N41447N77RSN25RMN25656TP-0203HK-1707CCCP-2654768-10951N133ACN4996EN960BWG-BESKG-BFNLG-BESEAP-ATOVT-EALN3FBCCCP-46299N40SN2295I-DIKQPT-JDXHH-CNBN8082U52-1715T-MAUCCCP-11125CCCP-46350CCCP-04193HA-MDJ423N403GNN9025RCP-1352D-IEDAN95DFCCCP-46807N76U6539CCCP-67210N137GLMM62000MM52-60307T-VSUN3MFF-BYAHET-AGPPP-VLU73-12111068723488SP-TBBVN-B226PT-SBBN8910EVP-YNDVH-PAQOD-AGOZK-NFCC-GQBHET-AFWTR-LXNN24RM854PK-GVPN418SAF-BHRLCCCP-4059461-06726540JY-ADUB-2745T-CJYZS-KMTC-GVYWCCCP-42444JA8123CCCP-87930CCCP-65031DM-STLCCCP-26569C-FQBLTN-ADB5X-UALN840TWL2-26/02116N8GWC9-APQN94480CC-CDSET-AGUCC-CBRN48RMHC-AVPVT-ECRPK-KNGN544B202864BNMAU-1202TG-SABCCCP-75414CCCP-06330SP-CNKN44905D2-FAFG-BCYCVT-EDSN581PAN110AAN1514S9N-ABD5T-MAXN68DECCCP-656499Q-COEC-FQIXAN-BFNSP-WWGH-2178N454SAN148ZN427WPT-IJECCCP-44920N383EX5-8520CCCP-04326C-GXKSN357AL154596N101CS5H-MVZP-551VT-EDV833CCCP-02330F-GBRSN40BCSP-WODN721NHC-BGI ?PK-GVEDQ-FBOD2-FMWN21782C-GPAAN43865HK-1778N63250LN-RRSN856JAN66573PK-MAJGN7953N33LMN575PRD-ABUYFAC-684G-BEKFN15NYCCCP-67206N8040YEC-BITG-AXWGCCCP-69314N711AFCCCP-65816CCCP-65735B-18165B-DAMPT-DZUCCCP-12963N144783194C-GROWF-OGGLHI-189HI-260HI-237N9965FRDPL-34037CCCP-46269OY-SBSC-FFSUI-DIWWB-11107B-1834N7768BD-ABFIN37906N4SWI-ATJCCF-TLU64-064758-0127CCCP-56413G-BGHRN10624CP-1375C-FWAF181/F-RBKTHB-IDECX-BKDCCCP-708055A-DDUTG-AXAPK-VIQYR-APFG-BFYZCCCP-32322XC-PGRCCCP-61683N99663N903WAC-GTJAP2-ATUN23BCYV-269CST-AHHC-GYHTPT-KVTLV-JGRN40438CCCP-87454S2-ABGN859UN8060CN555AJT-201LV-MRXCCCP-86714UR-48054AP-AWZ236HZ-ACEN300JAN8061VI-AIFAN7302CP-1440YV-O-MAC-1FAC-1106HK-1710-WFAP-348CP-777TC-JATP2-DNLCCCP-86036N771PAN302G424FAP-333CCCP-85131VT-EAH58-0007HH-CNCN163RI-DIKB9Y-PBMCP-1358PK-GNDI-DIZI3D-DABET-AJZL2-13/96EP-IRDCP-1175SP-LGBPK-XCEHK-22145002N67ANN253K128426N77215YS-07CCU-T1219TR-KHB60-03389Q-CLPN8330CG-BRACVH-AAV74-1683PK-VITB-1826CCCP-85103TC-JJZN211MBSP-WSPCP-124374-2064SP-LAAN1KAN9103ET-AGMB-484VH-NTQ6851N456LHP-821PT-JSC3X-GAUCCCP-27205S2-ABQC-GCGR-XCCCP-16027PK-KTIN64490N25TAPT-TYSCCCP-62479CCCP-47732VP-BWC158213CCCP-46220XA-EEUN709Z62-1809G-BDANHS-THBF-BTMON94436N5498MN980DCN866JSCS-TBQSP-DNFN100MAOO-SJHPT-KHKVH-SWOCU-T322PK-OABN973CGYN-BVLN125NE58+88N300GRCF-GBXNAF904HR-SACT.10-1SP-ANCCP-1117N844SACCCP-09311D2-TYC3151N650SCCCP-87689235229N1002GN905MWHS-THGN74CAI-TIGII-BADELV-JNDCCCP-13320N90268XA-DAKEI-BBRCCCP-853554X-FNV/036C-FEMT9431905HC-BHBCCCP-87793HC-AXK9K-ACVCP-1291N2870G4X-ATXSP-WLUN45864OB-R-1143N433GRN707WAYR-TPHPT-KACEC-DFAN452TSN918AEXY-ADOHZ-AHKN18ST9L-LAQG-EZMKPK-IVS2016HC-BAVN327PAKAF317154591HK-329XY-AENN715UAN75KWN120FB4539T-TCEEC-NLSN9018NCCCP-41831OY-AUIHI-197N46RAZP-CDOTF-RTO5-8302YI-AIOYI-AEMG-BPCP56-0504ECT-025YN-BVICCCP-85321N851JAUD.13-13PK-PFC214313031257-6291F-GBRPJ6-LBCYU-BGIZK-IASCCCP-11104CP-1267F-BTCUYV-145CTG-BAC5B-DAND2-TAA355667-0030CX-BJLSP-CNIFAC-1131N355BYVH-BSGXV256HL7445N18479HK-1221G6903N844TAN816DM21-12N797TWN96449N406WAYV-33CI-DIKCVH-EGU3711N29LB9407C-FIGJHK-2410XDM-SCBHK-1810HZ-AHJXA-CUZN5460512-01N102USN8219HFAP-313CCCP-65698AP-AXKHEK-15VT-AURET-AGWN137HZK-CAM69-6581N913R2551521618R-GFFN390CAN501GPPP-ZNUAP-AXECCCP-42332CP-1588N520SE-218CCCP-04188VT-EAIN468ACPT-GLB64-0564C-FCSVHK-2497AP-AZPUD.13-02CCCP-462802921689G-ACAC-FDHT61-2664YV-257CPC-FIRWN999CRN3VBSP-LTU5A-DBRHR-SHAPK-GNJN98ASOO-SJAN267LF-BMCYVH-BPLN258MCP-1470N400PG5N-BFDN11360F-BJBYFAP-396CCCP-92864PK-RVNXA-KEWEI-ASDCCCP-70836P2-01161-0328LV-LOXC-GVGUN60705N70DAXA-HEKHC-BAXTC-JAL6878SU-BAH/12767T-VREN28377N121CAF-GAMAAP-AXFCCCP-02357XY-ADNPP-VJTCCCP-85029B-11108CCCP-07712CCCP-41838P2-ISAVT-DXIHK-1078N6SSN18949FAC-1129N8682CCCP-65871TN-ADSN111STOD-AGWN13742C-GKFNN111AVC-GFFJN3373FCP-1318N631SRCCCP-01883LV-JTN6O-SAYN116DWSP-LTIYR-PVJ5R-MGBHK-772XA-DENCCCP-07422CC-CATFAP-205CCCP-91517FAC-1128CC-CBWCCCP-29354SP-LTTN7407VT-DXFB-2603SP-LTCCCCP-466537P-LAEHK-1320ET-AGXHK-2651N8504WC-GSZICCCP-85448SP-WMNCCCP-07601CCCP-32475HL7447CCCP-40523CCCP-87455SP-LTGG-BDNP74-1672N309EASP-LTKN101TVYU-AKF5-8552SP-LTPN62242N44CJ9417N150NEPH-CHIET-AHRN777DGCNA-OHPH-TVCHK-388HA-LCFJA8825OD-AGTHI-328EL-AICMT-613XA-DEOSP-WPTN57TACCCP-85480TY-BBKVP-FAWVT-DVBCCCP-01808CCCP-405645A-DBEN3486FYU-ANAC-FJRWCCCP-86508YSL-47XA-ESQYN-BXWOY-SATHI-384HAHK-2216CCCP-92858CCCP-26505FAH-313C-GEPHN2949FN122AC9205N-ARA161189HK-2637CCCP-67290HB-LNBN62AFCCCP-87902N21DR5786HC-BHSN211TA49148N113WAYR-BMDHA-MBI7O-ACJHK-2637XN451CYV-426PTR-LVON702TDJA8061RP-C14126264UK-33058N169RVN4734HK-1706G-BBRP5H-ATCCCCP-67249HC-BFJ67-0017P2-HAC57-1489F-BVGK300358-0031PK-GVKN5504N5516D-IFNSHK-2382N117RRC-FPWKCCCP-6248974-1678ZS-KYAG-APRNYI-AEOCCCP-11107B-266HR-ANDHC-BEF/FAE743N823DVP-FAY7T-VHBPA-50CP-1725N100TAC-FQHFCCCP-021837O-ACKYN-BRGHA-ANL64-054311N40445C-GKBON103AQPT-KZYHK-1503D-IJHMN808JAPT-GKCPP-SMYHK-2743CCCP-87485C-FTLYFAC-951CCCP-40736SP-WCFCCCP-62640N95CT-24PP-SRKVH-TQQCCCP-56431OD-AFPPT-LBVOD-AFUOD-AGROD-AGNOD-AFBCCCP-65687VT-DJJG-BDXHLN-MOWCCCP-42529C-FTPACCCP-865139M-MDDN4737MM62106RP-C1014CCCP-15970N102BL1600OD-AGGHK-2559N754PAXY-AEBCCCP-67191CCCP-65836CCCP-98102OE-IVQCCCP-70446VP-LAEN237AMET-AHPN477KWSP-LSIJA8444OK-KIMYI-ALN64-0652HC-BHZPT-JBQRP-C830CCCP-62663N7801MCCCP-70563ST-AIMEC-DEGJA8048N9FQC-FDJAOY-BEPM21-17CCCP-86470ST-AASHC-ATVZS-EJKFAC-1003SU-APEN1040GC-GIXZHP-947EP-PBEP2-RDLN13MJCS-AJON47MJCCCP-47786PK-DCRN2627U2182130329CCCP-54883HA-LCAHK-2560D2-TABHK-2536PK-OBJCCCP-26095N8434N163EHB-VFON30093CC-CJEPK-IHIHK-2580CCCP-26627B-2029Q-COT5A-DCWRP-C3N805CEP-IRAN8444HN520RN8053UN99SIN-316PR-MARTC-JBR5A-DARHS-TS.N330AATJX-BOVT-EFOVT-EFV14-28N222WLCCCP-3232074-1693PT-TAFC-FBKXN361VLN-MAF5A-DIIFAC-651PP-SNCCCCP-84571TY-BBLB-260LZ-ANDYA-GAZJA8693YV-67C5A-DJOEP-PACFAP-3567Q-YAXCCCP-29367C9-BABCCCP-671905A-DCPN922MAN700CWF-BVRPHP-945N37MNCCCP-26686N302EJTC-JBGEL-AIH3182CCCP-8729168-101558-1009G-STUDN22FMHK-2687X5801HC-BATPK-OBECCCP-33093CCCP-62643C-FHLLFAC-1126CCCP-35637B-296L4K-12/18N334EAN13626CCCP-02515N880SRCCCP-70057C-FVTLCCCP-02877152733D-CDPDD-IOLTN935MACCCP-62626T-202OD-AFOC-FTLUPH-DTE3197M-933CP-1404N1968RFAP-383N7273UHK-4030XCCCP-69336152720CCCP-65657TZ-ACHC-GUBTN333FBXA-JEBN95460BNMAU-840174-2068YN-BYZN300JT889N458JF-BHRS9J-ADMXA-HULN92853HC-BIGP2-FHPN68TGN480FCCCP-70520N29929N2718W5N-ASQC-GAUN70-0446N91378N738PAVH-CLYF-ZBBRPK-KNFCCCP-91768FAC-1104L2-30/07CCCP-87201N108PAN129DYK-AGAN116CAVT-DOKN17STN503SSVH-KTECCCP-65129N18143HL7442XA-DATC-GIPFF-BUYGB-264A4O-BKLV-LAD5N-AROB-11109C-GKEE533257HK-1804SP-WWKPP-SBHXY-AEE66-0213B-12202N806FTN748LLT-125N4465DD-ABYUCCCP-67315N797FTTJX-BSN26288CP-916N44896E-237D2-TBNCP-1077N812EACCCP-65807N95TCC-GTLAN1910L157354FAP-3095N-ANFSE-IMDVH-BNKEC-CFJEC-CGSG-UESSN65338824RP-C287HK-2401XC-FGJKOY-KAAJA8151N994ZN300PLHL7339CCCP-46617N401JBCCCP-75887325C-GSCALZ-TURCP-1090N148PMP2-ISH15069Q-CYD66-255CCCP-11429PK-PCLA9-300CCCP-47310N63ZD2-TBVC-FAGI1509VH-FSACCCP-449105803LN-RKB68-10944L2-21/00/149VT-DUO1015F-BOLLHK-1322PCP-1849XA-JOVN77777EC-BZPFAES120C-GQPWCP-1206F-GCCCPT-LCN24517P-LAGN81962EC-JOHN92FAPT-GJZPT-GKLTI-SAAN15509N92860XA-LIGCP-974CCCP-05918C-GFFDLV-TDFN305BHCCCP-07293C-FCNTN5523HA-MBMXA-KOQG-BDVWVT-EDUXV257N101PPVT-EGICCCP-86500PK-GNEG-BBXIXC-TIJN964VJLZ-BEP6Y-JMACCCP-09612F-BVTDPK-JFKPP-SBC14-27FAP-377CCCP-672769N-AEGCCCP-0287870547220164-06247P-LAACCCP-40827N43SPHK-3510PCCCP-01712CCCP-26009HK-2822XCCCP-07634CCCP-82909N1JR9Q-CJRF-GBYH9Q-CWRZ-YNIN589SAPT-LCZCCCP-10232S2-ABJF-BUORPK-NCOPK-ZALN70003C-FOZOPK-OBCG-BDFTCCCP-86007N6399ULZ-BADVT-EFK9Q-CPDEP-IBSS7-AAEC-GCTCP2-ISGZS-LPIN972NR9Q-CAHCU-T899YI-AGISP-AMKCCCP-91611OE-LSAHK-2380HC-BKND2-EADYA-LASL2-4/90PT-WHFCCCP-47358C-GXFZXN817N127MWCCCP-35434OE-FAPCCCP-55763N864CLC-FPPLCCCP-85243C-FAUST.9-15N16KLCCCP-11405TAM-46N5488RN3433UCCCP-86739RP-C13868-10946C9-TAICCCP-86456N81MCF-BYCUG-HGGSHC-BCGN2204SF-156/61-ZVF-209/64-GIC-GVCEVH-ISI(N90460)N833NACCCP-672259K-AHGN96PBF-ODSFMAAW-01N44828N373MLCCCP-07861FAP-307N4247A5H-MRD9N-ABHCCCP-85338N24STCCCP-67140PK-GNICP-1417HP-1018CCCP-65095F-GCGTCCCP-477222019N819EAN4746YA-GAYN357QN1863TCCCP-06142PK-RVTL2-6/90/536B-434VH-BFHN553256-0501CP-1276HK-2638CCCP-19716HP-659N854UN88939CCCP-65910N72BSVH-IGTN926AXN779XXPK-VION4522VEC-DDUTZ-ACTD-IGVN162055-3121HK-27635-870229 yellow5A-DLRC-GFQA05 red64-0549F-GDUAC-GIPR61-0316E-240PK-OANN508SSCCCP-44905FAC-1140130330130331LV-ALWCP-148962-4496F-ZBAEN686TMBNMAU-10207CCCP-65856101 redN865JAN157UN84857CCCP-50553N1181GPK-KNEC9-AMVSP-DNRIN-131N10GEC-GPCFYV-84CCCCP-70218N181TGTZ-ACSCCCP-29348N148CPF-BSRLCCCP-32028N69GTJY-AFW3C-VQRTY-BBRN64339N155PACCCP-91783LN-SUGPT-GJN2457N129AA7053TC-JCBN168ZTR-LXWJW9009ST-AARP2-ANGCCCP-55710N816EVN2878FCCCP-06255CCCP-85311C-FIODCCCP-55706N712NAFAC-902D-ICDSN2886DZ-WHXN726DAHK-2593PK-NUGN100HCYR-PVU7O-ACOCP-1704VH-WFEOD-AFLOD-AGQN300WP59-1443N992SBMM62131P2-DNWCCCP-01789YA-BAMN100MEAP-BCHN873LPN339HAI-302N674MACCCP-69321P2-DNIN551CCN720XPT-GKA9Q-CMDVH-IWJCP-1593CCCP-87803N3257XY-ADSJY-AGEN923RCB-3606N456JAHK-2489N9241FN984HFN784B542817C-GAGPA-1322SU-AYHN104ARCCCP-11747PK-RLGF-GCBCD-IASNEI-ASAN15TW6874N950JWF-BRNLN723GLTN-AEQHP-680G-AWNEVP-LVRYV-425CRAN-235N-AXPN711YD-ABHDN1JSCCCP-32352BNMAU-10210CCCP-12989CCCP-06101C-GTPBF-GBTCVT-EGDSP-WONHC-BAEC-GNNAHZ-TFAIR-0222CC-CCSPP-SMEXA-IOREI-BEMHR-AIVC-GPYDAP-AYW9Q-CWTHK-3031CCCP-4181658-1010EP-IOK ?N961VJN821LGI-COTOCCCP-46423N97DMN39DMTT-PABN1356PCN-RMFPK-NCFN539YK2702C-GYTCC-FAGMCCCP-11795K2729HA-MBH042XA-MEM66-0211N54340800N50SKC-FSAT5A-DNF5A-DNL5A-DLL5A-DLPCCCP-87236CCCP-873017Q-YAYHK-2761AE-561YA-KAF6855CCCP-129624R-ULDB-198EC-DDVN577KAN55NJCCCP-87928190750/4-G-46CCCP-85327I-FLYI5R-MMCN551TRD2-THASU-GADG-BGPCC-FZZM13807G-BMDT63-7983HK-1808ET-AIQCCCP-65142N4044343-16395N243DHCCCP-65120A4-264N158277312C-GGPWLV-LOAF-ZBBUN27PRJA8246V2-LCYTU-TIFSP-WZHN50HHV2-LCJ5N-AWKN921FPN184ATCCCP-40902FAH-556T-2702ST-ADYN252KF-GEFRVT-EAJXA-JEDG-BCCUC-FBERN88JFYR-AMF56-0468DQ-FECG-BDTPN219ASVT-ELVN64VQ-TAJN455JHCCCP-425363D-ARTPK-ESCN15STHPF821CCCP-02592N5903SE-DBMCCCP-67264ZS-UAS148EP-IRG65-0246A65-114PZ-TCDC9-CAAOY-KGLCCCP-65766N406THAP-AUXN51DBN752NHS-TAEN604SSN778LN5863CN-CDEN4743N711WMN714DAD-IEXAHK-28502355B-2822 ?N930MAN830JSHI-251CCCP-88288N65TDC-GKRLCCCP-65795B-34135N-AWS8R-GESN431CAC-FCMYN96361YI-AGJDQ-FEFJU-1017CCCP-674285Y-AOYHC-BMRT.12B-32PP-VJKSE-DEC9Q-CAG5N-ANRR109C-GIRHN906TCS9-DBPD2-FA.84-0121HB-VGCN163SWR108PT-TCPCCCP-87618N9613FG-BMAUR102BNMAU-7710CCCP-87696PT-LCFARU-021CP-909D-IEWKF-GDHRP2-RDM8Q-GIACCCP-11378808N699CA60-0330UD.13-18N93218SE-DATPK-VIRN356PSB-122075A-DOMN160FBN890ACCCCP-26007N78BN49454CU-T1262CCCP-0933460-0361PT-OMV8213N73107ARV-04022324N31SKSP-DNMCCCP-76679CCCP-76685PK-GNQN811BEN517SJPT-TCON144SPN20DAC-FRWKR34N505LBCCCP-62566RP-C189A4O-CPHS-THIB-11111CCCP-56436P-817K27572008N432CACP-1650C-FADDN100EPN8504XCP-1018PK-NUWPK-MAMN331CYCCCP-70501HB-HOSD-IAECJW9008YV-230CN766AS308YA-BALC-FWGECCCP-67239CCCP-70129PK-YPF2185B-2514C-GPFGCP-1570FAP-392CCCP-87826P2-KADXY-ADPN20STN859DDHC-BAZVP-FBGN617MSRP-C101568-10945HA-MBSYR-PBEN28364N1870SEC-CKLC-FPQPZK-NMDCCCP-40556CCCP-65874TU-TALPT-GKTN39DTHI-481PH-MKHN28STCCCP-02763CC-CHJ5A-DKK2404CCCP-287415Y-DAKN312RCN908AXN951RG-BLDXN609TWCCCP-01641N93012CCCP-70496HS-TBCN807LACCCP-129712129PT-LPZ5N-AUGSP-WMSN96271G-WSJEN480766843SU-BCAN2689EEC-ECBN32RLN9231EC-EFIHK-2920XY-AELHB-ILFI-ATRHN121FJCCCP-67334CCCP-12162G-MDJIN309DEN828FEN3411N25MR7Q-YMBC-GVYXN626TXTT-PACN334DPP2-006OH-CARN10ASF-GCTEN401RAZK-SFBZS-SASHL7406YU-BOD4X-FBU/448C-GOMCN400PHN319AUN350PSHS-THHN400NYCP-1059AE-560P2-MIB159131IN-132EI-BTJN331PXCCCP-06324N23AZF-GEGHYN-BFO9Q-CVHPH-BDEN8948EET-AGOPK-NUYP2-COGXA-MAOPT-JYCN62109C-GYQKD2-TYDN79SFJA8662G-APIMVR-BJBN4571MXA-KUTB-222CP-1244CCCP-85254B-11125N68TCCCCP-87549F-GEJFFAP-215F-GERVN5808157330L2-34/13/789D2-TOID-CABBK2713N823JSC-GJDXN287WVN-A108MP-113N622AVN145KKPT-LMAF-BTMJCCCP-01648CCCP-65675TC-AKDZS-LGPVH-IBCF-GCPSCCCP-85413L2174JA701JHK-1716N411AE5N-ARH9K-ADB130318TR-LTZN110URN819PHCCCP-6751804N47FET-237N73711ET-AGTCCCP-26151LN-WFNG-AWNDB-2510ZS-PRWSP-WNEN136AATI-LRCN75356N65DAN500RWYN-CBEOY-APEXB-CIJFAE068N259MC61-2373234CCCP-70121N1003GCCCP-32267XY-ADQF-WEGAN202RHPK-MVGVT-EJVC-GYQYF-GFKCN3756QYV-121CP50+80EP-IBUPK-IVWHK-3148XCCCP-466692001CCCP-077915Y-BBS158381C-GKBMN7267N33VXD2-TOVN702PVN4506HN442NEN482SAN745FHK-2445C-GILULZ-DOKOK-1CCCP-35677CCCP-28924234945W-FAF9Q-CBKCCCP-67235N852TWSP-CNHFAC-1650XC-COXB-2218N473DAC-GJRLN111VAPT-LGJEP-ATSUD.13-04CP-1653VN-A102N12836Y-JQFHC-AZYN1830UYJ-RV20ET-AJAC-GFFAZ-WRJCCCP-70848VT-EJTCCCP-85479CCCP-84657CCCP-85617LV-LIUCCCP-48101PP-SNTYR-PVSCCCP-11418N803BAB-4218XT-AAXD2-TOMOK-AFBCCCP-326125N-ANWSP-WLM5X-UBCVT-DMCCCCP-26183C-GPPLOB-R-1020OE-FFKN311DFF-OGHLCCCP-32325C-FBJESP-LTDN44ET-AHIN750BR69-030OH-EBASP-WKZZS-LKGF-GCPGCCCP-78771N661AVG-BBVHB-05/OT-ALEB-06/OT-ALFC-GJUL5A-DDDC-GQSVCCCP-67127N284N90804XB-OXVCCCP-86732VT-JCEYU-AID5N-AYJN234CM10602N739PAHI-422PK-IHAN945FEG-OBMEN9330BC-GDOVYV-597CPCCCP-12997CCCP-85067N11250CP-1418XB-DYPN73160N242USOY-ARIHK-2486CCCP-11987CCCP-52066I-CFSS3215F-GDAV63-7990HK-3246XEP-IRUXY-AEKF-GEJEN7231TC9-BADYR-TPJG-BPMAN232RA162782PT-ASJN807FT66-0150F-GERPN4713UHR-AKZN29XC-FBZND2-EHDN28PRPH-KLCA4-235C-GDCCC-FONFOB-T-1271G-OTVSN128MPN931FZK-SFEPT-TCSP2-BAB470HA-LCNPK-GKDPH-HVK10616OB-R-1314S9-NAIN30PCF-GGDM880CCCP-70080HK-3325XN9637FCCCP-70225N28889VH-IPAOO-GEOXA-JPERP-C82N95PBXX489SE-IZON39YVCCCP-54891OB-12726O-SBTN4580QPNP-021N285NJC-GWYXVH-BSNN47CEYR-BNJC-FMPHC-FMPB2002CS-TVIEC-EIS5A-DDVN1809EN5323GP2-OTRDDR-SEWYA-BAKFAP-329C-GBYAN8042X6O-SAZTJ-CCFN125CACCCP-61788G-OATD5Y-BBKN950RHK-3490XP2-ISJCCCP-26685N1819UP2-RDWRP-C1193HB-CKWF-BEEAHL7328CCCP-65670ZK-FTBYA-KAA7T-VHKOY-CRGSX-BGEN94253PT-KYRET-AILZK-EVK74-1681OB-1316CCCP-88252B-3417TC-51YV-O-INC-2F-BVGOC-GNPSTC-AJVAP-BBFCCCP-67104CCCP-87509PP-VMKCU-T1281N8168THC-AZJC-GSFS5N-AOTLN-PAA14-22CCCP-11983OK-FDCPK-NUECCCP-87391N887PEN204AJN112JCN290VLN4577ZN28346N632SSN655SSN628SSN1046N38MNN457SAN39MNN44DWN8491BN197BNN588JAN861JAN1159SN4425NN40425N54629N416US57-14816-P-101N95CAN119DWF-GFHZVT-EJFLV-MMVC-GSLBN75GCCCCP-480955N-ANXN53CCN617CCCCCP-33078CCCP-4652556-3592N208WUP-A0001E-211EL-AJHC-GFELCCCP-112292102N530DACCCP-76569CCCP-76466TC-KUNN88705B-180C-GBJEXC-UJC09N707PVHK-2702PT-ISN786/F-RAVV9L-LAVLDF-46LN-AAERP-C14CCCP-46335TT-EAFVH-FCKCCCP-44953HL7285V3-HCTHK-1803N9205TSP-WWOG-ROOMN127JLC-FBWYTJX-ACXA-NAUN296CAN371F-GHQB60..PH-BFCN9339BN930GLTAM62F-OGSMN611AMN410UEYR-BMJN198AWTU-TIK460HP-572OLHP-658HP-676HP-1002HP-1133ITN4999UCCCP-70087PK-PCMYJ-RV3D2-THBLV-MZDN96GSVH-SBD59-1494CCCP-65951TI-SABN2721MN835FEN331DPN44UEN8867EHI-578SPARV-0210VH-BAYHK-2016PK-OBWC-GSAFBNMAU-10208TN-23003 YellowN854FEG-OBOBCCCP-86021N50CDZK-NEYC-FGEPPT-LCGVT-EPNAF-316EC-BIQCCCP-56472HB-AHAN984JDN820FEGN7960P2-BAC9Q-CVGVH-DNM5X-BEEA18-401CCCP-28702HR-SAZHR-TNLB-2208CU-T1436T-410CCCP-78781N696JBZK-SAFN51FNPK-NUQHR-ALHPK-GKUHI-515CTPT-CMYCP-1738N217ASLN-BNSCCCP-04355YN-BYXN187SA9T-TCGRDPL-34008SP-WPYRP-C81C-GFAWN67109WR965HK-3316XN418NEN84BL52 BlueF-GHXAVH-ANQEI-BZG50+39SP-WZBRP-C314N1FNC-FBCGVH-RTPP2-IST10 YellowN670MACCCP-46551OO-DTHPT-ICAN803FEC-FPQEVH-FCJG-BJRTCCCP-86905CCCP-65799C-FWABCC-CEIN59BACCCP-19730HI-532CTFAC-1007HP-759J6-SLWN4465FST-ALKK2705K2763HC-BFHG-BCDOTU-VBBN210USSP-ANZRP-C140F-BTTUCCCP-87453VQ-TAHN911SJCCCP-62407N301AJB-12268CCCP-287615A-DZZN730CCN203EN80RDN174UA68-0228ET-AIZTR-KNBCCCP-87451CCCP-87914HI-376CTOB-1303N23STCCCP-41803CCCP-42351N500PN7428COB-1349N320MJPT-FAWVR-HKKN79DD101001161762N7250CN65170B-2402B-2812EP-ANAN564LE9XR-GVCCCP-69320PK-IHSCCCP-67331CP-735CCCP-85268CU-T1202N52DC67-063CCCP-26038OB-T-1207N445ACI-ATJAXY-AEON87877CCCP-85664FAC-1150HS-SKI5A-DBNCCCP-86613D-IGSWTR-KJBN97QSN70JLCCCP-87394EP-IOD ?N2WUN3313LN278USST-SACFAES125 ?CP-1668CCCP-29110CCCP-47164CP-1953HK-3195XN9444FG-OATPLY-KAGVH-BRPARU-022MP-112HB-LQX822CCCP-07308EC-EQHC-GJLZARV-0209YR-ABDPT-KKVN200MRVN-A126PK-VRAOY-BZWYI-ANHYI-ALUN5382WYI-AEZN167PCPK-NCY69-65675-9002N388USN683AV74858-0013JW9010C-FPEZF-GHBEHK-1702XA-RNRN535PCUR-17739OB-1350FAE447CS-TEM9K-AHF5-9001N565PCHK-2758KAF320CC-CETG-TWIGXA-POJCX-BJK/T-581KAF322YI-AFJ9203YI-AEYYI-AKHYI-AKJYI-AKIYI-AEL9K-AIB9K-AICN999UA160057YV-23CTE.12B-42ZK-NBCN730PLPT-LIHCP-1564N831LCPT-LLL469158930159325CCCP-46472F-GCPZXA-RPSH-1513ST-AAAE-2059V-STPHB-LOMHK-1708N12373C-FQNFN270ASC-FHIEF-OHABA9-754PK-RVHC-GEPBN445BLN425EXN5590MN41JPN20DLN101ADC-FQRIPK-MFDN134FSCP-1617HK-3177CCCP-133305N-AMRCCCP-85097LZ-INKOE-LAVC-FCDLN8071LYU-BHSPK-JFFMM62129N102AP9N-ABAJ6-SLQHL7350CCCP-40988LV-RDBN204RCHK-3511X9N-ABSYV-572CPCCCP-62627CCCP-314235N-AOWYU-AOED-AERICCCP-62475N500FMHK-2889XN8404OB-1218N7217LRAN-26C-GMXQCCCP-01494N959SC7T-VRMYJ-RV4I-CFSVDQ-FCNYR-IMHC-FKTLJ5-GBBVT-EFLN68HACCCP-67091MM62128B-2556CCCP-67099559CP-1365N521SJPK-VIP9M-AZBN204CA18-3039Q-CBEN33701VT-EPVCU-T12275N-KBGYU-BBNYU-BOZHK-2701D-CDALCCCP-74002OH-FFAI-DAWCYU-BOCYU-BHUHA-MEVI-NLAECCCP-46724CCCP-67538H4-SIAHK-3238HK-3288XJA8161CCCP-11120A-1324N120FAN555MXN731AHK-750F-GKPPN924AUPK-KTCA20-103130322CCCP-87526CCCP-11129CCCP-79948EK-260609A-BKBPT-SCUN951FEEI-CBLN24169CCCP-40596CCCP-81545C9-STDET-AJBCCCP-47823I-ALSUN450GAC-GGOO2333N73SW309/F-UGWP9A-BOPCCCP-077965A-DJTN25BRHK-2716DQ-FEEI-RIBND-CCCCFAD-3406OY-KHOKK171CCCP-875219Q-CWPN425JAVH-AAZCCCP-33449CCCP-87553N55000CCCP-28706MM621164R-ULL85-1269N75257HL7264F-GGEDC-FHNML2-41/18/210N42AK51-7202CCCP-65053HB-AHOHP-1191XIHI-542CTPT-TBBN74AF58-0732AP-AZWN70600CCCP-46816N862FWTS-JHV9G-MKBN794ALFAB-221N72522SP-FAWD2-TOJOB-14395H-SMZN723CA5N-ARI52+10CP-5295Y-BBNCP-754N151N918AXTN-ACXN165PCXA-RSVOK-PDIC-GQKZSP-WPRG-BOABHB-VITVH-LLYCCCP-30002N485USST-ALXK2761F-GJHKHK-2864XF-GIALOB-1456CCCP-26154EC-BYHCCCP-556075N-MASK2669K3055CCCP-67130J5-GBEB-11116P2-RDSCCCP-35546214N141PVN2954967-7183HK-3604X5-8815I-CIGB64-05019G-RBOPT-OEFCCCP-50585EZ-88235HK-27609M-MDLYA-TAP62-3584LZ-BTDN355CAN118GPCCCP-48058N38DJCCCP-85282CCCP-85234CCCP-32544I-MDDDCCCP-11896PP-SNDD-ABUZPK-VSMVH-EKTCCCP-40237CR8729N-ABBI-JALACCCP-07816E-30258+58G-OGILN20086CCCP-1111184-046685222LX-DKTN41755CCCP-11342ZS-MGJXA-SCMLZ-ANNPT-LHUN11002C-GTUUHS-TIDB-2755150684YA-KABN769KT-406CP-1961CCCP-856705N-KBAT-405N881FCN625CLN1125J58-0740N67977N62433N273RDN7584N276RDN342AEOB-1153N400NCVT-EOARA-65058149794FAES121SP-WPZYA-BANPK-IVXN74NFCCCP-787805N-HTACCCP-65810ZS-DHX9Q-CRY9M-MGGMM62113N970AACCCP-85269OB-14431075CCCP-87411YV-502CN2183ACCCP-40670HK-3468CCCP-32596T-849N-ACINAF911AP-BCPN848D4X-AXGG-SUPR63-7881PK-NUOB-4211CCCP-48088CCCP-82002EW-85528CCCP-07840HK-3753XPK-MNNCCCP-28785XA-AMFOB-115522435Y-DNTN39365CCCP-69346LX-DCVCP-1960N58JHHI-619SPN169RFRA-86703YR-BNSN3044J85-1261EL-ANZVN-A449CU-T1270RA-46306B-25235X-DARN6NEPT-LKT65-025566-0142D-0066CCCP-85105PK-YPGXA-RMLN810CKAEE-402N7770BD-CHICP2-MBEHKG-7N706MPK-NUHPK-NUKN6887YN50TEPH-MBN5A-DIACU-T110EL-.. ??5N-AORCG-757N342PXD-BEATXA-LANPK-IHE85533C-GCSLC-FSSUG-ZAPEC-FAAMYR-ABM46478PK-TRB26 blackP2-ISFPT-LCS9Q-CJKCCCP-40479LV-ISA9M-PIDRA-47180N130XEP-ITDD-AIDMCCCP-26529N85JM10011HI-599CTXA-MCJHP-1200CTHRAN-49XY-AGAPT-OFKCCCP-11399EC-FAHC-FQBTCP-1654N978ZLZ-1178F-227/64-GPD-IGRCLN-TSAD-ABZAST-AWAPP-SBJHR-ALY33-333N473EVXA-RXRYV-03CXA-SMHN767TAB-2171CCCP-13343ZK-FVDSP-WZDSP-WZFC-GAPKN5517N139AAVH-UZSJA8448HK-2865XN131CAN8056CP-1622BNMAU-14102F-BUAE71385CCCP-11121VT-ECQN14816N72822AF-319N115GPN24706N254ATHK-3835XDQ-FEOT-404OB-1499/334XA-SEARA-88244HK-2422XC-GKPBXV193P2-ISCHK-2759XD-COCOP2-SWAN580HHB-12298PK-NUL26035RP-C766PK-GNTRA-477089Q-CLWRA-26090B-2501ZS-NEPPK-GFU3D-ALNRA-54001TDF-01RA-86039VT-EQMN401SHN12756N12761N12564N12855N12660N12557N12762N12859N12967N12669N12058N12065C-GQHB130321B-2716OD-AFYHL7229C-FCRJN156PA9M-AXM9N-ACLN508UARA-11110TC-OAGN1037DN220KCN814CKN321KARA-11375PT-OGNF-BYCVRA-67656I-DUPUPK-VIYHA-LAJ87995RA-26549F-GJLHHK-3220XA-NOGOB-1319HI-617CAN999BHVT-AANZK-NBFPK-OBVF-GITACP-1848CP-2256D-AIPNCCCP-07624MM61953F-GILN658099T-CBB658938516385359CCCP-65001RA-13387RA-68150F-GJGBT-119VH-NJR9Y-THRXY-AEP65-0253N811EP2-HBEEC-FHBHS-SKLZK-NOMB-280032290B-2103N82N191FLLN-BNMUR-67536CP-2212B-165ST-SAAOE-ILWZS-KCV9N-ACSC-GQTHEZ-07469B-2138B-2141YV-511CRA-82071N16762HP-873CMPRA-42390C9-STESE-DIBYV-135CN1597FB-2231EP-IOTN334PXN700RRLX-UGOC-GMOPN550RDPT-OGMC-GVCYRA-26515RA-466056V-ADEHB-AKCC5-GAA57-1470F-GFKK ?P2-ALL5H-MPT9M-CAMRDPL-34117RA-13323RA-62599VH-DHFN710MB4761RA-12187LY-ADOSX-BHCD-CSRBRA-01410P2-ISRRA-85296RA-26141G-OVANRA-85358SP-LPA024HR-IAOCU-T1240YV-2349PST-AMFRA-85656PK-VIVN304UEOO-TLSN13GWN5404J9Q-CBCRA-09331F-GNIA9Q-CCV88-1027LV-LAERA-42331C-FMWWPH-KLGHK-1856N907ZN349SBRA-47718G-AXHECCCP-11340G-BUEBD-CMIRHA-LBPRA-11118N8279GOB-1559SE-INZN303EAHK-3874XN637USN18835VH-WNHCP-2251VT-SIAN565TAVH-SWPTN-ADPC-GIQV69-65765Y-NALHK-3855D2-ECEN327KN3433YFAC-11545A-DJKPK-YNMN88HAEC-CLEVH-JUUF-OGQS66-0173XC-PGRÂI-KILOPH-KSHFAE4509XR-NNJA8898N306FED2-THCVH-EDCPK-ZAAPT-OGIS9-TANHK-3479JDFT-5CCCP-67608PT-GJWRA-65976G-JEDU6816VH-AMMRA-28713HK-1276WJW9024HK-2890RA-07730HK-2213PH-AVHN900CDN197TTXA-SLUPK-MFIXA-BBAN13GAÂN495UERA-70263TU-TIPC-FRODD-FONJF-GIIXHB-VISF-WWKH5T-CLFAP-ALNUR-48018PK-GWKVT-EUJOK-NYA1716N69PSRA-67470RA-46575RA-872568P-TADHP-1202ACB-2540N918APUR-262079Q-CGDV5-WACRA-505821-041N433AWVR-BLVRA-30037N7GAHA-MBTN814ER5Y-JJGHL72965Y-SRJN135FFRA-408945N-BBEI-DUPON14MVCN-CDTN119CATC-JELHB-AEBN513AUN311NWN403SWRA-65760PT-LAU5N-ATQN364FEC-FDMRB-981815N-IMOP2-ALF508PK-PLVPT-GJYRA-87468PK-IVU2009ZK-KIPRA-59504LV-WENRA-272098R-GGUPK-MNLHK-3929XHK-3355XEP-PAVVH-INHHS-THORA-72960RA-88254RA-11790RA-33008N401AMN7143NN611FERA-88286PT-LIGD2-EOJ7T-VRKN990HN63995VH-KDVHA-LBKN954UP2-SWCHC-BRFRA-65615 ?C-GKBDN413UPN112446585865030650146507565896N16VMLN-PBCJ2-KBED-IDNGD2-FVAEI-BWFD-CATYN96BFN39ZVP2-MFSYV-761C5N-ABK7T-VEEN747ECP-2165ZS-MSGF-GBECTC-JESTAM67EW-76836038121212XC-AA269Q-CNIP2-IAAVH-MMVHK-3839XN771WWN746FEC-GPUNN287MCN754FERA-87565N622SPPK-JHFN419539N-ABIN9461RUR-48074F-GHLNRA-67120UN-85455UR-67115D-CHVBRA-87464C-GSGKUN-26080D2-ECHN706CKN791ALB-22717D2-TJBUN-75915CCCP-28797PP-SMV9M-TAERA-46564LY-ALEUR--RA-86693N63HBN782ALN66JE9080C-GYQTC-GLIGN227DMN311BRPNP-224N130UEC-FDTTN376MQN724DA9Q-CDGRA-11337RA-26084N37STHK-3564XN137CA9M-PMNN9417BRA-13340158217YR-LCC5H-MWGOB-1498/333RA-26049F-222/64-GVHK-3675PK-GSEPT-OGOP2-IAHRA-40845UN-88181EI-CEUOB-155384-0136N898ALSP-WNYEB-50N742PR5N-AJQNAF908N120ES144613N7RCVH-AJSG-DEVR4R-HVBN43UA4R-HVAC-GYYBPK-NCSHK-1717N409MARA-19550N26496RA-11127HK-3079-GPK-PLU62-1838XW666EC-899CP-2142N450MCG-OEAAN489DAHK-3213VR-HOXP2-ANBN454CTN326USN906SJ146OE-FDLN908VJ5Y-INGXA-SVXCCCP-68142B-12288TC-73RA-74041RA-07743T-401B-12208N4989PJA8146XA-SWFRA-65617T-204VT-EWEP2-VTCTR-LBJTC-YIBRA-81506N268UE5R-MMGN54NAN400UPN480UPP2-TNT5N-BBAN72WCP2-MBMYN-CEDM21-13RA-05708N335PHPK-GKNN764ATPK-KHLN125GULV-VHMRA-40371N504FSHK-2594N2225C4X-CCON742BAYR-ABNC-GZOFN4826MN256ASN781DL8Q-MATLV-WMRTZ-347VH-FCON30GAXV239F-BUAI5N-EPNVH-KZQVP-LMGN405KWFAC-1152YA-BAOCR8619M-MGHSP-EGCEI-CDJRA-65027N127LBVH-NEJN169GAZ3-BGEEP-SHEC-FGCVBNMAU-1010377-0354HB-VFSC-FEBXPK-ZAG9M-PEQC-GCPFZS-MGRET-AIO50+43N613FFRA-48981RA-76783XA-SVMUN-47710C-FCRKHK-3962XC-FJFH5N-AUAXA-MIKCR871YV-860CRA-11008CR862G-BIKGA4O-LBEB-002RA-074194K-401VT-ECSTJ-CBE4K-65703RA-177259N-AHARP-C6888RA-85164F-OHRKYR-AMRN503UN31AT9Q-CRRN231RLN605FFN651AARA-46473P2-NAMRA-74058RA-96244RA-32366RA-46401YR-BCON991PCN91MJHB-IZAVR-BQBN924WSN358SAOB-1604XA-ICAN922VVRA-26222J8-VAK5N-AXOI-DEMLPP-SPEN191MCLV-WJULV-AORZ-WSBZK-SFA5Y-BILHK-3979XPT-KPAUR-48008N131TTC-GENXA-SLQJA5322N224EOY-MUBXA-SJYTG-JAKN10556D-CASHYR-BMKRA-114033010XU-314YV-903CPPK-JFHER-ACEOB-1451PT-LSDOY-BJTN362AEC-FOCAN245GWB-2960PK-NCUST-FARN904WAG-OPFEEP-ITSPK-VIWN727TKEI-BZFRP-C1154C-FLAQ73-1149HK-2581RA-76752B-122575T-MAFN143SAVH-HIALV-WNYC-FVVYPK-MFWVH-UUKRA-33631RA-84646RP-C19805H-TZD9N-ABRXU-MLBN773WPP-LBYST-FAGN670PAC-GCZGC-GDOBXA-SWJN904VJFAP-326P2-ISDOE-FEMXA-SNRTC-67N1865DJA8377TC-ALPN229AMVH-JSIVT-ETBG-BEDZLZ-MIR8R-GHG3181PT-KBCUR-76539MM621085H-BAFPK-GIERA-84744OE-FDIC-FMELUK-17798VR-BLJN23WTB-3822N168CAUR-26197RA-87423TU-TJE5X-JONHK-4044-XN927DAP2-MBBN62TAN67TAPK-IHNVT-ETCLX-N90457CH-06N931199Q-CUBXA-TCFJW9022C-FDFCN313RS4X-AIPXY-AETRA-87573LV-WMM5Y-BLBI-CFSU1319G-LOFA7T-VEDN190LEF-330D-CBURLV-LNY5T-CLGC-GNDNEC-CKRC-FGNIRA-0167274-1662C-GCMYRA-76513SU-AVXN31031F-GKTDER-33647PK-IHTRA-856212315N68055PT-WAVRA-11916N10DAXA-SNBDQ-FIFPH-DDAEI-HCD8R-GGRN52AW9Q-CXKRA-11101RA-82069UR-70289HK-3982CP-1516N914DLN751MALV-LGPC-GKFSRA-88257N23ACC-FHOZRA-47356N271WA5N-BBGHZ-AIHUN-76435RA-40309VN-A114RP-C19817102VH-SFFN87GLC-GPTARA-4810464-14856N4704BRA-788048R-GRAVH-WAJHK-2602N2TECX-BRSC-GSFPN14TXPK-VSOPH-KVKN75142R-155/61-ZUHB-IXROB-15099G-MKD21 redF-OHMKHK-4008XN827AXN388LSH-1032PK-NUUPT-KABRA-87290ER-48077TG-JANRA-87999N802THG-ZAPCC-FTZFN165SW5W-FAUN265CAEC-GKKP4-OOON991TDPT-LAMCR851XA-SOZRA-26541RA-76834C-GCEVN702SCRA-875525N-AXS6V-AEORP-C1500T-400XA-HAON41063LV-WLHPH-TSWPP-CJOYV-160CPUN-87233CR865PK-IHGNAF-017N440HMN163DLN117WMPT-MFCHR-IAS5-3020C-FESJCR856N357THK-3885A4O-EMB-27001Z-WKURA-11531N411BWN753RATZ-389RA-46516PK-GSAN451SAN117FJ9Q-CRU88-4408OB-1572N553ACN83FAN2NCG-ASVON408GVPK-JHI9G-ACMRA-11122D2-TFP5U-MBD89-0272PK-MTXN6856CN9825FSX-BHGHB-IGEG-CEXAB-2925ZS-LNVN90070EC-GFM4K-87504N1AHXA-TFCVH-WGVN1121FN198SWN355TPK-XNTI-DEILD2-ECL9N-ABQ55-00359Q-CWLN571PEYR-BCM9H-ABFJU-1020N1ATC-FEPW5Y-TALRA-02829RA-84700EI-CDKN103N10YJVT-SSAPT-ILJPT-WHKOK-JIIN19LHPK-YPMP2-MMUN9481F9V-ATDN776BF5N-BAAF-GPYEN322FATU-TAVHL7468N27UAN1202SB-12256SX-CBIN74EJPT-LMLN224AMD2-TJCVH-LHAHC-BVUXA-THZN951ASN71JC63-8053VN-A120C-FTCAHZ-AGMN1123RNAF034-122911+0265-9405HK-4062X157320Z3-BGIPK-GAIRA-67474N414EXTN-ACPN12022LV-WEG1310EC-ERQPK-IHOXA-DEJPT-OGCZS-JMPHC-BUFPK-YPTYA-KAEN62MBPT-LQG9Q-CKKC-FNKNG-VSKY9N-ACMN59316N750GCRA-11327VH-HPYN500MLP2-ANHF-ZBFQEL-WVDN244EHR-AQYC-FESAN691AYJ-RV2C-GXBE08 BlackG-BNCYC-GILMC-GVROPK-MSVN30SARA-12105CP-1635EY-85281C-FSKIUR-42334RA-75554XR8069V-TRFXA-CUC750N100BES2-ACJER-ACFPH-TKCN4723UCP-2321HP-986PS10210801XA-NTE7711CP-1280HI-551CAG-WJANN861TAXA-RRKDQ-FDWEP-IDCN1DK9M-MDJN913FETC-THFYV-928CPN627WSC-FBIEEI-COCN854CAOY-SVPXY-AESN9316FN141WEN27MJRP-C1507N2629YN2630AN505CN737RDN200MFLZ-SFGD.3B-9VP-BLNN845AAG-BLGB2509N149317744B-18145Y-BMREC-GDGD-ANFATC-THEN867USN37BLN502TN840FEHR-AQGSU-PBAA2-ABDXT.12B-2EL-ALEB-12255YA-FAZN600RARP-C3222N100DLOB-1389XA-TAPG-OJEMN111LRN868FEP4-NENHC-BSUTR-LEMYR-IRD152745FAP-3513D-DRVN948VV2322ZS-NLWCS-TOARA-129735T-MAGET-AKWSU-GBDN192AVPK-MGTPK-VFYZS-XGYEC-GJTG-UKLLN67588AP-BCZRDPL-34001N87949SP-WNFLV-WIL5Y-BMWN364UAC-GQALLV-VEJZS-MSLN402LCN14835G-BVYEN900CSRA-02823UR-76424LV-YOALV-WPOUR-UCIN547JLST-AFLXC-UTQRA-11886C-GFYNC-FSKCVP-BPSEC-FXDPT-LGNVT-EJWF-GSJMN305SFHL7496C-GTADD2-FAZRA-40681N799ASEX-87529935RA-06196UR-11528N251GL9N-ACCZS-NKKHK-4007XRA-26568EW-11368N126RCU-T1264OO-SCWN722DHHB-IWFRA-26028N927VJN138SRRA-87956N769WT2349124143B-2173N316UPN1563C4K-66759TC-JCLN20643N893FEN6305U2705HI-548CTHI-503CTN91237EC-GEO5Y-ANVPK-TRAN7025JVP-CKMD4-CAXN59GBEW-46465YV-611CZS-SPFN667349Q-CSGYV-O-MTC-8YV-O-MTC-3N299GLOE-FDFN50PMPT-WKHEK-88272TL-ACJN143DDN454LJTC-JDFN3FYEI-CJW5Y-JKB85-0151RA-12955RA-86564N801DE5N-VRGMTX-02N9352BLV-WDV3D-SBZ5N-PANN787WBN501EZC-FBNWTC-DHAC-FCVKHS-TIAUR-11319S9-CATF-GHLDN502FSHK-3930XS9-CAOTN-AFJPT-SPERA-86080YU-BLBYU-BLCUR-87592RA-480141498079Q-CNKC-FGOIH-2175G-CHNLC-GWUGI-NARCI-NARBN780BFVH-XFF9N-ADAS9-CANN782QSN215CJHP-987XII-DAVNN130F7T-VEHEY-ASSPT-KNMP2-ALH9G-ROX9Q-CDIMM62013B-15237N148SKN205RAF-GJVG9L-LBGN711TEN110DSD-CBSFN682DAB-2622LV-VBYD-CPRRC-GBTSN285FF-GBYAN195USF-GPANN151SAN328BAK2673VH-CZLHL7570PT-MFIHK-337C-FWLQRA-87587A6-PFDN508GPPT-LNWP2-ANDN838MATC-JEPPT-LEM57-1418PH-MXTN347BEPT-LZAHL7373N400VGYV-956CZS-IJEN719ASN3125N207C-FASVN347BAYJ-RV9N232AEB-12001D2-FBNN924RMSP-WLICC-CYRCP-1319N133BATL-ACO703017037470375M21-055Y-LET3C-KKYN215AAB-2525RP-C471XV298C-GASWP2-ALXB-3886F-GOBPLY-ASAC-FIFPD-IBEXZG994RA-85795TN-AFRN219FXHK-1776VT-LCIXA-TALN80057JA8966DQ-AFNRA-768195H-PABSX-BGGTN-AGAN707CKYV-466CCP-746D4-CBCN288SAN224SAN68058C-FLIHN193GEXY-ADUST-ANPN2671V9XR-KDN454DPN888KAB-17912CN-RNJUK-87848N350JFLV-WRZCP-16555N-EMPN993ZVH-NTLN17356G-BYAGPT-ODKSX-ECH3610G-SSWUYV-385CP5Y-BIWRA-65626VH-OJHOE-GMDLZ-SFJN208MSSE-LSFTN-AFXVH-FWIA2-AJDA2-ABCN438MACP-2291I-VIGIRA-01641N627AW9G-REMN581FESU-GBIN34GGEV8012I-AVJGN47BAVT-ESLSU-GAP9A-DBZI-ALPLXA-TKNFAC-1659N869F-OHFVD2-FRK9Q-CEJN907VLD2-ECQOA-45Y-RANN216SAES-NOFUK-91004N5187BRP-C3883PT-OHAN525KL63-7854CS-TGMC-GKBGN50PLN5269AC-GKBNF-GTDIN1218SHL7451N1315AVT-EDW9N-AFLCU-T128578/F-RBAFF-WQJNVH-CZMJY-AGKF-AZHMC-FGGGD-ACJAS9-BOP3C-JJIN491BBA2-AEZ5N-AXLD2-FBRHL7441HB-AKKHB-AAMHC-BEYYS-09-CG-VCEDN900WJ5Y-BENN963ASPP-EAMEP-IBRPK-YRPST-APY8Q-HIFYA-FAYC9-AUHS9-NAZTU-TATN8079UJA8727N811CKN1403MSU-GAOK2690PT-TEON461CAN302FEN668SW9M-MKBHP-1267APPC-FNTF5N-AXMN814MC-GGWAUR-26586N353SBTM.12D-73C-FRJZRA-11302D2-MAJN130MRD-AGESUR-79170NAF914LV-ZSRN534MCN86BERA-31486F-OHMD9Q-CZZ9Q-CGC3C-ZPOTN-2359Q-CZLRA-33443RP-C3010TL-ACMZS-ONTTC-THLN404XJN39081N990CFN800WRYV-1125CG-MURI8R-GACN241HHP-1364MAMC-FYJEN72KSTR-LFKN235BAN16EJG-SSWNF-OHZ.N5190YG 524PP-VNNN655AWHB-VLZER-AJBN184GAN16884N649HAZK-RCARA-76723B-3479N220JC7O-ACQC-FWAHB-8716G-JEAPN286N460PRHA-LCRN912FJHK-851PD-AHLB5Y-JAO1048EP-PAUC-GNAKN54AAF-BTSC3489N-ABPC-GPTGVT-EIEN201RHC-FMAJRA-32718230N838AT9Q-CJIN3199AC-GMPBN85DWLZ-ITCPP-SMGA4O-EK9L-LBNLV-WXWHP-1357APPXC-AA72VH-SKCHP-1276APPN116TGHC-BRTC-GTDCN831WPH4-AAHS7-RGV5V-TAGN654USN99THN590TAYV-O-CBL-7N12907C-GFHHN936MLTL-ACWC-FSDZN941FEC-FTBZVP-BOFHZ-AKHC-FQYBF-BUQNRDPL-34130N398DERP-C1587D-CFMCRA-74295NAF-0189V-SPKD2-FDIC-GGAWI-CISTTJ-CABRA-46499ER-AFAN731ACFAES1199G-ADYEP-EAMD2-FCGEC-DQGN3107PEC-HMKOO-SFRFAC-1251N504ASTR-KNALDF-48SP-FLUN1419ZN236BNN30EMN132AAVP-BBKN323UEG-BNLM3124231243N435JLS9-BAI8R-GFNU-614D2-FOOCP-2323N824EDPT-KNEN1DC0974K-AZ04N194549L-LCGYV-224CN234UMUR-NTKN81PFFAC-1165HK-3932XN4390FVH-WGLT-224EI-BPDEC-HKJN318DHI-MOCOPZ-TBPA-9119T-2258Q-TMAD-IWHLG-BNMT93-1336HS-TDCPT-MSTN909MN701NEN842MBRA-85619S9-CAEN357NWN266CAD-CINASU-BMVF-OGESPK-MFL85-0154N303GAN37AEN120BAN405PCN19BAD2-FDPYV-O-SATA-6C-FWPN3C-AWUN735TSZS-OCZUR-78821RA-01122RA-17832N974FERA-40997LV-WSCOE-GSWVH-IMHN948FEEC-FXID2-FCKN7274U086EP-TQPTC-76TCSG-552RA-12135C-GNWIN1419D5N-RNOG-CEXFF-GOAEN805NAS9-BOGN333CGLN-WISPK-VTP4X-ATKVH-OZGC-GPDCRA-85845N812MAC-FTNAN3239TCP-2395YV-117CPRA-01447RA-76588HC-BMD4R-ALE4R-ALF4R-ADD4R-ABAC-FNJE3D-OHM7O-ACWD-CBNAN2417FN899RWPT-OTMC-GNVTHZ-AIO3C-LLAN153TWC-GITSN18260N306AW5N-BDCN617GAEC-FBCC-GAWMC-GOGWUK-85776G-VIIK68-10934XA-ACKTN-AGON334AAN612UAN591UAN644AAXA-ACMC-FQOSC-GSKCPT-MRNPP-CJNTG-CFEF-OHRMN711MZC-GWSLRA-86074PT-KTQRA-87481N867TA2455RA-85693RA-40480SE-DMAD-IEVXN9530FEC-GDVD-CFXFC-GYPAC-GJBVER-ADTN120AXN825MJAP-BCJLV-WNCEX-87470C-FKFPN200RWN715MHYA-FAUYA-FAWYA-DABYA-DAAYA-DAHYA-DAJYA-DAGN96CNC-GGUH9U-BHPZS-OIGN140538R-GTGF-OHMPRA-75840B-16101N5UJES-NOVHB-IXMF-GDLEMM62142PT-DNP9G-MKIXA-SYJLV-WSDHP-1405APPSE-LGAN499BARA-76839D-CATSN582HGN202DNN997TDVH-FMND2-FEOSE-LEO5X-CNFHK-4175XPT-SSIPK-VSBHB-VLVA-132961-2778D-IAAIPT-MVBHB-IYXN3203YZS-OJDEP-859XA-TKKN90AGRA-65004160021EC-GTJPK-LIDRA-64011XC-FITPK-GWAHC-AYMN616GLN837ATJA104AFAB-94N8RQT-304HC-BLFYV-1043CP84-0097YV-679CN93LVUR-LIPN288G00-0292N541CW148895EP-MBSZS-JBARDPL-34118N777TYD-ICBCN190AJER-ADLLV-ZREHK-3951XEP-LBX07 red15-2281ST-MGLN1808EG-BNLDN589UAC-FITWG-BWIRN1425AVT-EFWLY-AVDN622BRCU-T1020N228PAC-GMOWJ2-KBCPP-VLVN617BG5N-MBM5N-BDUN19903C-GINDER-AEQLZ-1113N115ZG-ATMJPK-ZAIEC-GKROY-JRWB-2552ZS-OLE5Y-UASLZ-1147HK-4171XES-NOP9Q-CKBST-AQPN397QS5N-ESF165522165525N400GJC-GHMLN151GLN262GLC-GISHN13VP9Q-CGXXB-JBRB-18255PK-YPZZS-OJUN823NKRA-07748VT-EJNN681FEST-SSD84-0475OY-CFVHK-3859XPH-SDUN130HPN786DMC-GGONSX-BOAJA8254RA-84639C-GUTQRA-85816A9C-DHLC-GOGZ9XR-ISN310UEHB-IZYRA-46670N1032GVH-MMYRA-65605PK-TAR9N-AGFN7620CN497FE9Q-CMCUR-76717RA-86060F-OHLG90-01619Q-CHARA-33322N50BKPT-WGE5H-TZCCR8734R-AIAEC-GXX9N-AFRC-GQICN635AWRA-28932PT-WRQPT-MQHPT-MRLN45CPB-7023PK-YPQRP-C2788C6-SAWS7-SEZPT-MTSRA-56888EX-904RA-75423C-FLGAN343AED-IEARRA-62587IN-302IN-304N57EJN5027QHZ-AJ.N528XJTF-ATDD-IKBARA-86452N41BERA-01146G-ECATLX-LGBN145MJ4K-AZ21PK-VIZN514DBRA-260124X-EBS5Y-ONT4X-BAWPT-LIYN546PACU-T1110B-3567RA-76758N51ANN76NFN127YVG-JEAXN1804P2-CBBN55RFN22B-53N277PMB-22708UR-14003OY-BPHN1122YN704A2292D2-TBDV3-HGHN3904HP-1016PS9L-LBRK2746D2-FBVPT-XJSN16571N390RBTC-THGN409QXC-FITFPK-PJKHS-RONPH-FZEER-AFTCP-2404N714BZN313NBN550NW5A-ONCN206EH5Y-EMJB-3043N944FEPP-SPJCS-DHBC-GHVIRDPL-34141N764ASTC-JDAES-NOYN1116GB-03/OT-ALC15-2280AP-BGF10254F-BVFAZK-NANFLARF-01032N205BAN9793B7T-VEZI-ATRFN712FEZS-MFY9V-SMTB-2516162153N70FJCU-T11929G-AGFXC-ADPB-22603PT-LNNC-GKCPN5512BUD.13-29CN-RNFPK-WAYTC-JCZCU-T12943C-KKBN257CGN243AEN268AEEC-HFAN179GAN183GAN805SWUK-87367RA-12981N7026Y9Q-CGLN730FE9Q-CWFC-GERWS2-ACVC-FDYF700N138BFPK-WARUR-87918TR-LFQPNC-0212UR-UCBN250ECUK-68038ER-AXDF-GNLHN208ADVH-AMRN856MAT-307RA-05881N2SM9202N343SWUR-423529L-LCRD-CAUWVH-VQII-ERJCXA-AAGXA-AAIXA-AAFXA-AAJXA-AAHXA-AAWC-GOGCPT-KQSCU-T1295CR866ST-ARAC-GTDKTC-ONPF-GRJSRA-65929PR-PDDV5-CAS7T-WHQFLARF01192HP-1403APPOB-17491630055X-AMWYV-1060CPZS-OYIN996JRPT-LMERA-85847C-GBSKD-FONEN135PTYV-1069CPK-GFT84-01699XR-JTN403FWHB-III91-0093I-DPCNN6591LN51NP5Y-TWIG525 FZK-VAFHH-PRVN240CJLY-KAEN630VCC-FKABN600BV9XR-ALSE-LNTG-EEST3603N666TWN45BPST-SARN702584X-ICMZK-KFUN299MARA-01440YV-1128CYV-901C5Y-BOYPT-TVAJA8191LV-MGVXA-ISHN791FEER-AJGPT-MZLVP-FBB8R-GMCN178UAN418MAN332BAZS-BXFD2-EXROO-DLL9T-TADZS-OOS5N-BFLN60ULN-HTAN85BK5Y-NNN98-0057RP-C868OB-1544-PC-GOFFN399CZF-RAIAHK-4246XTR-LFZPR-GOON9469BG-EZJMN600XJ3X-GDO7Q-YKUN781TJA8297C-GFKSSU-ZCFOE-LFOP2-KSG85-0010UK-87985EP-IACC-FAGAI-BSTIN200JEZS-SAXER-ICJ7T-VINN39WAEC-HCUTJ-AIOEX-005VH-CYCEP-LCAN1276POY-MUEC-GOFBLV-WPYN24RZG-BVKCOE-FANC-GNWNZ3-BABAP-BBAUR-ZVAL8-2/23HC-CBKCU-T1532XA-TBJF-ZBEZ165938D-IMMMN27RA5H-MUAN800AWV3-HGBEI-CPEG-BNLKVH-NTHRA-33596N149CJSU-AVZ3D-ZOEEP-837UN-26582N200PRV3-HGKN301KSF-OHJLN355UJC-FMAII-DAWRN738FXN715FEUR-VVBN189AXHK-4275XXC-FOE9XR-EFR-100/61-ZRN44911N438ATST-SIGPT-WRO8Q-TMCUN-702765Y-VVA9N-AFDN5010XG-BPNT9XR-SNUR-07194AP-BEXST-AROTR-LFWN200BEN401CKHK-1212TF-ELHRA-1300KST-SATZS-NRW8P-MLKN432FAN280ATC-FMOLRA-02230I-SRMBN4826CC-FQOVN829CAYL-KABN55LFXA-BCSFAS117YV-910CPTC-IECXC-PFNP2-MBAES-ELI149811ARBV-0206CP-2425XB-JHH3X-GCMN586PN22RBN130DHP-1397APPN199GL5Y-TWHFAV-1652RA-65080RA-85556N792MA3D-KIKN47MRUR-117655N-PTLXA-TFDZS-OLS5N-RAM4K-AZ31EW-47808C-FIPWN7392BN6522TN750RWN902GDLN-BERC-FODVRA-01128ZS-OWON6371CST-SAFS2-ACH9XR-KL9XR-RC9G-MKJN8396ARP-C1325B-22310N875JX5H-AXLST-SADT.12B-54N709CKN79YVPP-BSEN30DKN501RHXA-GURG-BZAHTF-ARRYV-1100CP5H-PACYV-1083CHB-LOKYV-2584P3D-DACB-3072N85VTL5-2/165H-RASN873GPH-BTCPK-LMNN604GAG-GMACC-FMHDN41626N161FLN25SAN478GSN750DHN6PEGN-97121N648KAPT-WAKER-IBWN748CCHK-2663N252BKC-GAIK85-0012ER-IBMZS-OJHFAC-1240N35403PK-YGMPNP-234VT-SAL9Q-CIHVP-BGIN74RQN49BARA-62597VH-SGTCP-2412EL-WVAEC-GQGN808MCD-CICEHA-LARN911AEXV179SE-KYHN370VST-EWBEX-0376V-AHLPR-SULN500ATN21SAP2-MFQP-2032FAB-73PK-LTYXC-COLN988SC9XR-ABEY-46399F-OJHHYV-280CN703TSV3-HFWN660RMN8932CG-BOMGOB-1778-PRA-46489I-DPCK9G-IRLC-FJMFER-IBREC-FLKUR-17998HK-4146CU-T1539PT-MPAYV-2447PN811BC87-0127UN-110073C-ZZYHC-CDAPK-LTZOB-1700N926AUDQ-FIEDQ-AFPUN-11003RA-40490EP-830LN-WIKZK-POAN960NC6-REXVH-TFUN763NCN368NBC-FKEXUR-84559OY-JETC6-ASAAF-216JY-JARRA-09007C-GLMCYV-783CPST-WALTG-TAGN3434HK-3462N250UPN40SZ5Y-SFES9-BAS5N-BCFN3906JYV-2834PYV-664CP9Q-CWIC5-MBMC-FXUYC6-BFMN9324F5N-COO9Q-CAW9N-AEO9Q-CVKS2-ADNN620JMN13FHRP-C2803A-2301N717BTTG-APGC-FCGLF-ZBEOF-GLZQTS-LBBT-300EP-SFD5B-DBYYV-740C162178HK-4374XN627USC-GUAYZS-PCJOB-1809-PN208CPN363PHN855NWN821AASP-ANARA-00901PK-RIMER-AZTPK-VIA9Q-CFDI-AROMHS-KVOPT-WLXN583NKPH-DYM11-935896-0042YV1020N435GMC-GKYGN77ND9Q-CWCC-FEXSG-BRYWT.12B-29PR-RTAVT-SIDC-GZAMN978FERA-409435N-BFNXA-TYUXA-TAUN611SSN1263YXA-SXXC-GACCN7500AYV1108D4-CBHN54344N611PAN224KCN435UJN375MDN888DV9A-BTA9Q-CPJ312RA-46618N505KB-3971N7801Q4L-ZILRP-C2995N117SAC-FHRLRA-02252V3-HFOP4-OINXU-0729A-BADN73MW5-85199Q-CWF ?N471WNN790RATI-AZQN29694K-AZ489L-LDUER-AZXN753FEYV1507N781RSP4-AODC-GXKNN700NCN391QS15-2233TI-BAF165524D-CUNOZS-FUNN460M5605C-GRXZN86CE9Q-CERVH-WZJHH-DPLN127UAVH-OGHN266EBN3735WN372ACN748UPN629EKLN-RNDF-OVJRD-IMRXYVO106TN-AGZPK-LMWYV-1149CN116DDVT-DKC7T-VJQN54RPN58EMER-AZZHC-BXDZS-SKIES-LLGEK46741N208WEPT-FSESP-AOY84-00591325H-ZBZ9T-TCBFAB-91JY-JASUR-74038RF-00451ZS-PDV2039ZS-SKHZS-ADLC-GLPPEK320099M-TGAEK32010EK32001SX-BVBCH-02GN-8168ER-35538C-GSKJD-ABTKN545TGN937MAS9-BALXV206N475ATSP-FLYHP-1477PSN182KN328PDN183KN68047N922FTHL7594TT-PAFOE-GFAOO-TNDEI-COIUN-70367N961TW9N-AEQN350SJSU-BOZN486SBN125GK1710HA-MDNEK12305ZS-POGVH-SEYVH-VEH9N-AFEXA-UCS1112RF-215129Q-CVTF-OGYPAP-BALN50CVS9-BOFF-GOHC63-7853TC-OANN782TN636SEA-9032N322LAN391FEN415GAN933569Q-COMYV-867CPST-ZZZPT-MQNFAC-5742UN-026837T-VHGP-561 ?N620PAHK-3985RA-8518506ZP-TDZN879QSST-AQMEP-MCFXV230ZS-DPFC-GJTAN864RW9Q-CXL5H-UNTNAF033EX-8571863-8886PR-GTDN600XL84-00669Q-CBATC-JETPK-RIEG-BUVCPK-YRON528WGUK-70152AU-8715Y-NPDSE-IVF/5855N-BFKXA-UBLD-ABVYS2-ABEN232TN9L-LFQRP-C2695C-FIZDTL12-2/31C-FTNV9Q-CBQIN135AMP-114RP-C3590YL-KSBHK-3667XVP-FBIN8950EFAC-5054YV1756PP-PTBC-GAJS15-2255HL5229D-CGSPN501SPN335AKYK-AHBST-ASJI-DPCDLV-WRAFAM-3103XA-TJUPK-LIJRA-33565N673AAN207WNZK-WNZVP-BQSN80SLC-GPSH5Y-SRKXA-TNPPK-VINLZ-1118LZ-1102PK-KKWC-GFFNER-26068N444TWC-FBIPN40ANPK-BRMPK-RPXN82FASP-FINSP-AOATC-MBEF-GRSOST-SDA ?N492ATN699CZEC-IBMF-GMPGF-HALSN777AJHK-4277LY-AJGN45MFVQ-TIURP-C1047N1116YC-GKCJZH876N168CK5Y-BNNN862RWPK-KKVST-AQEN786UAYV265TD-ILFBPK-GZCEW-78826S2-ADEOD-ISTJA849AEW-32744LZ-LDDRA-65021N511ATEW-78849N527PAYV-1953CXA-AEGN877GAP2-ALUBDF-05N77181D6-CAKTC-APUN8905FA7-ABVC6-BFN8R-GETN634MAN22HP5Y-KYA742/F-RACBEX-0934K-AZ41TN-AHEN950AAC-FRILYV1257HK-3199N898ATJW9036PK-YRUHB-IMJC-GZCWN550BPN914DDVT-FFBN27MRZK-EAKN731BEN253GL9Q-CEUEX-9017O-ADKN450AXEI-CSN9Q-CTMN133RSD2-TBPTU-VAAN771HRXA-SMRXA-TFLN208ECPT-WAW5Y-BTTC-FAWCN6561BPT-MFKPR-MBKHK-44559Q-CIMYV1182N70SKI-DPCXEX-030G-EUXHRA-93912ST-ATFHK-11495Y-HHMF-OIQIRA-65573N500NDHL5256N125PTHB-IYUB-18616EC-FIHHK-4389PT-SDBN9CU9Q-CACEX-70292HK-4117XV205ZS-NJKS9-DBQN726JRN702PA4L-SASLN-RDKHH-CAWLN-RDSN971TBN525EZXA-MACN100GUR-CENHS-OMGN2088ZD-ADHA5Y-HHKN987SA9Q-CVLZS-SSDN454AA9Q-CZB9Q-COSI-SRMED-AERKN430AXB-KKUHK-4055SU-BOYHK-4422VH-EEBN65BTXU-365G-CHESN31MCC-FNIFRP-C3224LN-RDIN697MCEC-HBMN800CCHP-1541PST5A-DOZ5A-DNQPK-RILPT-OVCXA-UBCST-JUAC-GXPRF-WWCJYV1387TC-AKMV3-HFSN28MGYV2109N925TT5Y-SLA5Y-MEGN50DSN470ZWHR-ATIN206AVN13616N954PAC-FMKBD-ARWEP-833YR-BGCUR-TSIN211BRRP-C3592EP-IDBSAN-208YV2081N349NBHA-MKKN410UBG-YMMMD2-FFK019HK-2006EK116609L-LEFPK-VSEN605NWHK-3997PK-MBPCP-2429N102PTN3RPN400FRN430MPN527MCTC-MBGVP-AAGN120SCHI-653CAFAC-1258VH-NXEZK-ECNYV298TN16DKYV186TEW-101PJUN-76020N828MDN752USN385EMRA-76366XY-AIEYV1449N305PCRP-C5328G-PASVN113SHPK-VTQZS-LFUPK-KKT7T-VKA5N-JAHD-CTOBC-FURGEI-DAFVP-BGEOY-BZTPZ-TSO5H-AWKN750WM265VH-OZAST-AZLYV259T9Q-CHNN613QS3C-5GEN54PVCU-T1283PT-OCVRA-86833YR-BEB5Y-SPK5Y-VVFZS-LYAN590AKC-GYQM5Y-FLXAP-BJA ?N904FXN905FXYR-PBLC-GSUVRA-8464293-0633N195GAN704CKRA-129579Q-CMGN369BEI-TAFN102VERA-68068CC-CTR5A-DAUST-ATND-CFAIB-38415Y-TSLF-AZHBN656WAHA-MBCHB-JGARA-01132ST-ARNN457PS86-0412N799AXRF-00403ST-WTBRA-85667PT-MEE947EK-76400YV1152N199USN714CKN706EVN916EVN975EVCC-CFM5Y-VVB8Q-MAS5N-BIGC-GBEBG-DHJHC-GLKFFAB-92PK-GZNVH-OJKG-MARAN333MYN818MVXB-KPBJA8955N827DP12125Y-BVFD-CAAWYV1987N223LCEC-HFPN601PCHK-3952EX-009TG-JCS4593ST-...PK-CJGRA-68126YV102TN2699YN587XZS-OLDN839QSN4235TA4-285V3-HFQRA-116529M-MDNVP-BKO4L-MJXN999LJHC-CDTN332UAT-3115Y-OPLZS-OSDVH-QPAN525ZSYV162T8021YK-ASAN448UA158573ZS-PCMN437RAN200JLXC-VMCPK-TXLRA-40280EI-DYGUR-PLVC-GWWQS9-SAOC-FSNAPT-OSRD-AXLAC-FNAYXC-LGDHK-4235PK-BRSC-FYEVN650LPXA-UFQZS-NXHN18611N165TWN20NLUP-AN208S9-SAMN279AJN815MAC-GEAJEP-858RP-C8893S9-KASN106USRA-76825RA-76827C-GRFOYR-TIGC-GNAAEP-CFNC-GERSN902FXOE-GAA96-0002N834TPC-FCCEXB-RYTN906JWI-FEEVPT-SEAF-GYAJ5Y-BUQ10 yellowN200WQVP-BAFSX-SKYG-BXARN440RAYV1950FAC-1670PNC-0211S9-SVNEX-68039SU-BAC/1272TC-JGEYR-SBIYV2129C-FSLZ5X-ASIVT-XRML9-5/25S9-SABPK-LIL93-0597AEE-101A6-ERGN526FERA-65981N44FR1007RP-C764A-2703RDPL-34144YV1181C-FTCZCN-RNTC-GLQDN103TAN442NAN136FSXA-MAFTL-ADMRF-00842N311USN139WAD-FOLEEP-MCRHZ-APWHL7419YV1467A-1302EK-46839A-13259Q-CSAAEE-501AP-BHOF-GZCP8Q-MAGSE-GEEB-2175VP-BXMXY-ADWC-FJJRK3062EX-156HZ-ANBZS-PNZRF-00428PK-TXNN998ALRA-17812RP-C8892HK-4094N485UEPK-BROD-ILFC7O-ADJZK-LOUC6-FPON387SWEP-CPGYV1200C-FDAMUP-I6208PK-NVC5N-BLNEP-SHKHS-PGLP2-MCBF-BTMEYV212TRP-C6328TN-AIAYV1183T-90683-0008UK-46658LZ-BHCVT-ESMVQ-TAAP-837N83GAUR-70427EI-DRARA-87447D-ALCOD-AFKEN336DNN726CBN349TA5-8208ZS-NRM904498-0008N2TXST-AUSFAU-531YV1769PP-AFMJ5-GGU78-23135PZ-TSTRP-C550N701GCST-AKWPJ-SUNRP-C2282RA-02807N729MSHL776327251705RF-76801EY-47693P-420284-0094Z-WPJJ5-GCURA-868945Y-VVQN337MTVT-KAC5Y-JLDZS-OTUF-GOGNVH-NGAEP-CFON355PHMM62176Z-BAVPR-MTKZS-SJWC-GPBARP-C2296C-GTSFN28RK5Y-YKMC6-JERPK-MDHN977ANN820NWDQ-GLL ?9Q-CAAN227MLST-AQQN720RAA2-AKGC6-SBEXA-PCCN816UA5Y-EMDN586BCCS-DXRXA-WACN112AXLX-OCVRA-85787ET-ANB40418G-LOFB4L-IFED2-FESRA-47360N400GXN106RWN109CPN800LAN708FXN620KN528JROY-KHPXA-SHJOK-ACHN207DRPR-UUTN892FEC-FAKBTC-ACBB-187235Y-BRNPT-LJKNAF 950N663SASP-FDON376HAVH-ANBC-GCJZ5Y-BLARA-74017XA-UNC165513C-GKBCPK-MDEXA-TUEB-HLLRF-002599N-ABXUP-AN216F-OIANF-GLIFHK-4536RA-40373XV3045A-ONGPZ-TSVSX-AROYA-PISN308RHPT-GKQD2-FFTVT-AXVEK-74027S9-BATN646VPOB-1922-PENBV-0063ZS-ZOCXA-TWKYU-BSG9Q-COAN847HKN810GAFAP-300D-AIRTTC-SNMD-CXXXTN-AFAN3730B9Q-COQC-FGINUP-A0161N1386CRA-6263185-0155HS-VACRP-C72549Q-CJVRA-11376D-ALCQN6JRN905LPAP-BJB00-0173TS-IEA3X-GEQC-FKFYN709RRRA-46524UR-17915LY-DOTN455APT-LXOF-HAIRHK-4682B-31309N-AHE9Q-CCNPR-PSJSP-FDPEP-ASLP2-TAAN571UPI-DPCQF-OIXZRA-85684FAC5747YV1010LN-WIFC-FSIKEI-EDMN262YRA-67701G-OOBKXA-TKY5X-TUCAF-2159Q-CUACX-CAPC-FAFDP-4204TC-JCVPK-LIQCU-T1549VH-OQAC-GZVHC-FKBKC-GHOCAP-BJDN115GSHK-4700N604JW8R-GGKST-ARQN781CVH-VHBN25PJ7O-ADD/1160G-VUEM7T-WHAFAM-3101D-ABVM4L-GNIC9-AUORA-85744LV-BIYCN-TWOPK-GWO9N-AFXOD-MEAC-GQAJD-IAYLRA-07331RA-07637RA-09343XA-TUDRA-85588C-GSAUN831NNTC-JGZN800GPN715HEF-GMPOEP-IRP9M-AHHZS-SGXPR-ARTC-GNNPN8277Q5Y-OERFAE4495X-FFDN127DKOD-SKYC-FWAXEC-ITPHR-AUQ9Q-CIFN535GAHB-VOVHZ-AISXB-GHOPR-TTICP-2473OY-NPBS5-BAXTF-JMBXA-TWH61708YV196TN157KMN671AVJA869AJA8897JA889BPK-MADJA8881N818RCN177EAN849BM5A-DKG5A-DKM5A-DKY5A-DNAC-GNRLTN-AGKN173UPN303FZB-7026UR-54873C-GMCWN632SWN652GD4L-GAEN71CCC-FIVMN122ANF-GZCBRA-88241VP-MNIB-207862-180662-1851N208TFUR-DNKVT-NESN829SEPK-MZKN786SRRA-68122LV-CEJN707ARPT-OSGN224MDN87AWN168TTTR-LIIAN-204D-IOLOC-GUYRN600UAN15LN129SGRF-00447C-GRISRA-65691RA-40420C-FMCB4K-AZ559Q-COPSP-AOW5N-BEXRA-473028Q-TMDN110UNPR-NOB5N-BMMN185DNN132EVEI-SLM3009CNA-OQRA-33046HL7604SU-GBPEC-ITU2735C-GKFPRA-46561RA-111258R-GHD9M-MDM5A-IAY5A-DLZ5A-ONKRA-01105A9C-AGRF-00844N840HKCP-2548RA-42434PK-VVED-FONCF-GTATT-500HC-CEZHR-ASZN535LCHH-APAC-GARWN361TT9N-AEKYV136TPK-TLF5A-DBJST-ASDXA-NCCC-GATVPT-LJJRA-81514TC-SKFZS-PYOP2-MCJA2-AKDVT-CLCRA-65143PR-JJVHS-TPDC-GXRX4L-SKNN480JJ9Q-CSXSP-LPC5Y-VVKN331NWN600KM9N-AJMN544PSPK-VVGN811DEFAB-043PK-NCZ9Q-CEMN583NWN303DQF-GRHSK2721N275PM08-0319PK-CKMEX-020N877GRA-46683FAB-965Y-BSAJA720AEC-JJSN8524A9Q-CUNN31WSJA8384N382ALN2SAN75LJRP-C3227YR-SBKG-EZFVRF-01152XY-AIT130342N288CXN72EPG-CCPWFAP-317N153JR5630N7700TAEE-503C-GCMZFLA-1041KCC-AEBN208JSST-NEXLN-NONLN-RCYVP-BYZ5Y-BZRG-ZAPZN684BRAP-BKCAP-BJNYR-BORUR-81515XB-MNPN101PG3X-GEBL16-2/525Y-NGO97004N171FL9N-AIGP2-MCZI-ADCDN617FBHA-MEA04 BlackN207JB144601D-FAAFVT-ALHN834AEPK-CJV5N-BJNN14447N355MACX-LASN500SWOK-KFMUR-SKDV2-LGHRA-40312P2-SBAC-FTTWN826JHJA610A9Q-CITA-2708EJC-1131RA-76761B-3171AE-175N213WQ8Q-TMT5T-MAEN823GAN110HMN865ASCC-CRQRA-40934RF-00138OO-LETPR-DOCEC-IBACN-MBRN341NGD-AIKE10049B-16825ST-ARL5Y-UVPAP-BHJSP-FMAC-GUONRA-28715D-CMMMN428JDYK-AKFN511QSVT-UPNRA-33601RA-40220N894ATST-ARVVP-MONPR-PNMN988ARTC-TJKF-GRZEVH-NQEEK121125N-BMJTT-ABB9Q-CAZC-FBCWN793FE7T-WGFC-GTXWPR-MRGEC-JYCZS-TOG5Y-CANEI-EAC3X-GFN420RA-26061RA-33589D6-HUAN1324GEK-76300N169LJ6840N411ZWXC-UPJN212MN345MC65-0981OB-1887-PN499SWC-GEAIN753CCC-GFWXXY-AGCUP-72859RA-64047HR-AWG3D-SPLLV-BMDYV2615CP-2382N1120N8020N618FEZK-DLAUP-CJ006YR-ATSTS-IMBUR-54853C-FPCO3X-GGGAP-BEHLV-AYDUR-WRAOO-MASN777VGLZ-CCJRF-01024CS-TGUVP-CAZ9Q-CBDOB-1992-PD-CAVAN698DLN116AXN620SCPK-GGAN26DK9Q-CTCRA-02203C-FOPNSX-BHSYJ-RV16N560UWZS-PHLEK26407PK-LKSXA-TOJHL77305A-DMGRDPL-34180ZD70409-0676N949CAXC-LMVN7518ALN-RKON1756063-8877N119FDPK-JKCYR-LRAPK-TLGN22MSRA-31403B-38019N-ABOXY-AIQN934HA04-3144PK-YRZAP-BIDEX-02015G-EUOELZ-MDRC-GLQO9N-AJUPK-DGIT.10-029N-AHBRP-C3266ZS-GJVB-3052N510LDHA-LWMC-FZDNPK-MZOXY-AIPTT-BAUC-GJSUC-FDOYN613SBC6-SBJN995DLRP-C3197M-YSAIN112EMHA-MDPN92JRRF-00408UP-A0190ZS-NVBC-FIZUJY-PTAXB-RSCHL7742N93PCET-AOP8R-AMSUP-A0126N732MDHP-1338MF97005UR-ARTN753SWN163WGFLA-3618KUR-AROTF-MYXN327FLB-8473ST-ARGUR-CAG1513D-FWJCVH-VGRVH-YIDN155UPRA-01419C-GWIRCP-26555H-TZWC-FSGDXC-FEEN169GLTC-EJAHS-TEFXA-DAZCC-CNWEC-LNPRA-33017EP-MNEC-FEXVTC-OBZ9A-CQC9M-ACMEI-EIBN194SJ5N-BJYN356PHN909GDRA-31505RP-C33365H-KENN368PKXA-TXMRDPL-34233C-FFFSRP-C5525P2-PXYN861MAN575UI-MLVTPK-ICYCU-T1552CP-2754XB-MGMLV-CYOLV-CIEC-FFZNN54VSLV-CKZVQ-BBN9Q-CFTXA-USDN575XN808EXVN-B594N100CEC9-EMCJA462A(N175BA)N831BCN810QSHB-IJBEK74798PT-WMYN182DNFAB-90N687MAN202UWPH-BXZST-NVGG-BNLLN845SCG-VNYC12162N380CROY-JJAN8327AHS-BKEN115WFVT-ESHC5-SSAC-FPAIN195AEN720QSXA-UQM8R-GHSYR-BNPUP-A2805OY-JAIZK-TLCOY-GRIN921DLPK-LFHEY-623N61YPB-3455RA-67282TC-CCPZS-EPZ7T-WHMRA-02801EI-BYOVP-BKK159329159503161338C-GKPC16028391335026ET-AMF5Y-HAJN811BLVH-FVR5A-DOWOK-TVTD2-FFZC-GICN1177EP-FICEC-LTF9M-MROC-FJYVLV-ZSZN113UWN125DS9M-LMHVT-HRAKC-3803PR-OAFD-AISQN126ARXY-AGTXY-AGRXA-UKRF-HBLF5Y-VVJUR-ABABEI-STD5N-BPTYA-PIBRF-00446N718MVEP-ASZ5N-SIKKAF124RDPL-34020N203BGLV-CNT15-2254N299SKPR-TKBN121JMPNC-0225RA-9601080 yellowN770PJ ?RF-02883SP-FDZAP-BLFAP-BFVPK-WGKPP-PIMEP-MNX76777N4692A3006N793BGN208SMN768NAD-CGFIAP-BGN9Q-CAJEI-DLJEI-ENL9M-MUC5Y-CETLZ-MDB9Q-CYA8R-GGYRA-028065H-PWA19 blue9H-AEY5A-LAS5A-DNGN845AS9M-MRDUR-BNK5A-LAL5A-ONFS2-AFNMM62190CX-MASB-22810EC-LTVN190GC5A-LAI5A-DNJPT-TAWEI-EFBN553UARA-17890N943LRN815EXPR-AFAG-GAVAC-FTJFN4698B5Y-DAAEJC-1137N70AJUR-DWF5Y-SXPUR-335905Y-BYEPK-RSCN18FMN16147LV-WLTN654AXA-HVBN322QSP2-KSFSU-BAT/1287RA-02322C-FEYTC-GKSNN906GDPH-EZVN572RPJY-AIDEI-EMHEI-EKKHI816OE-FLPUR-CCCYVO107N301KHXB-NKSD-CPWFN67171N622CZF-ZBEPXA-WETD-CFAXN380MQN52SZN82DXB-LRIC-GGBFVT-SGKYA-PIEN17UF5Y-BVQC-FKAYN584JSN103CDRA-02778247088-440410-27030V3-HHUD-ANFEVQ-THLN100EQXB-KLQSCM-864UP-AN608N7710AN208BN265TWXA-UOAPK-AXC8R-GHE4L-AFSN950FEUR-33587XA-JWMG-LGNLRA-260825Y-SIBPR-YOU8R-GABET-AQVG-BTPCYV2238RP-C9363YK-ANDUP-A0314ZS-NATHB-JVEA6-FEKN214FW5A-DNKSX-DIAB-22816N30EAN70EAN953UWYV1674T-256FA312EW-246TGUR-MIGA6-JIMRA-85587G-RAJJC-GTAIN989FXC-GIAJN600NPTC-JOCPK-DGBN909DLE7-WDTVT-SUAN12155JA001G9M-MTA7O-YMND-AIPXIN240N106BZ2211C-FTJPRF-003887O-ADOEI-DWEEI-DYAN5018SN5019QN5027XN957ERN958ERN275BTRA-74056N450KKVT-JGA148897N2691W09-5710TC-JPEYV2803G-FRAK7O-FAA990564-14848D-ABEK7O-ADGEC-4035A-DKQB-3476RF-01159N80PGLY-AETN505SPRA-565285Y-NKV(N917TF)JA727BXA-UKPCG-791JA021R8Q-TMG8Q-MAPN508JAN497AGVH-NLKRA-84553LY-FLBN664USRA-40646N640BAN270PAHL1090N221LMA-1310N6199D8Q-MANN85UDU-SD179-04789Q-CJBRF-942911070SP-WAWG-EUXFYV543TN613PJN765APR-PAZXY-AIHHZ-IBNVQ-BBXFAC-1261YR-PEGN942ACN560JFN561WNN531SWN924FEN564UWPK-YRNN442RMC-FDOROO-LTMOM-SABOM-ODQN120EAYV3125XA-KYE140103JA201DPK-BBYN187AANAF030N300PPVH-HPEVH-FDBOE-GLG6V-AIM3C-LLYN181CSD-FWJKG-VIION928RKA7-BACRA-35141D-ABCK8Q-TMEVH-FGKN622PGLX-LGHDU-SD408-3174G-BYCP9G-SBBSU-BMZYA22382PR-MICXB-GYBC-GGULOB-2040-PXA-PBAZS-OAAN251MYN334AFEI-ETJ9Q-CNP6W-STFAP-BJOEY-406N525DYNA-302N7994RTL-AEWN237WRPT-WQHN617STRDPL-34226XA-UQPEX-37005XA-UNMSE-RHJVT-EHTVT-RTRVT-UNOVT-ICAD-AIAFVT-SUCZS-DKSN50VMC-FKDLM-AGGYN649SWG-CGWVPK-KDCVT-BSAXA-MEXTC-CPVEP-MNP5R-MJEN999VBN540MEN164GJN275XFAC-1658SE-DUXN87SAV5-ANLN104ANN711BXN706SBC-GCKBC-GCXLVH-WTYEP-ZABN380CFOY-KFCC-GSWGRA-40204D-ISCO4601N784SWN925NNN214RT9N-AHHM44-07N198WA3004VT-JGDN6351VPH-EXBHB-AEOS2-AGZVP-ACTE-206YI-119AP-BIIA6-FDNLV-ZEBEI-RJGN273JBUP-F1012SU-GCB09 blueXA-ULURA-54828PK-LBSPK-TNJPR-CRF49-30439H-AMZN122PMC-FEVAPT-MCMEC-GFKHC-COXSE-LEZC-FEKFN2ANVT-JCXN189UWN86TRF-GKXJF-GZNT9M-LNKN1114AXB-NLX4K-AZ25SU-GCCN804STHL7534EC-JGM5Y-JLLPK-ICCTN-AHPRA-02773N750ZN277UPEK32120PK-RKCPK-WGLEP-MOFN104BM9Q-CSLOB-2104-P1111UP-A02739V-SWBRA-33462RA-76840HS-DQC16804N111MQC-FCGWB-10FWN46CEN7581FK2743N362FXN827DCRA-54790N234AVF-ZBEU9N-AKCN368SWHA-FAXN3762YN70SWRF-31121YV3051RA-64021N766SWHL8258N752RVN369CDPT-MMPPK-YSYRA-84566CC-CTSN66804ZS-KGWYV17389N-AIBN366PHPK-JKIZS-PZEST-AUQST-AUTHK-3804N376SAB-18307OH-OTLOE-IAGRA-26660C-GFSBC-GTNGN518ARN208KMFAC-10142305PR-STNCS-DJFXA-ALAET-ANYPNC-0226N370FEN345ANN411HAPK-SWWN888JLD-ALCMN303CZN832NNN80RTVQ-BSOVQ-BSFU-623CP-29339Y-SXMN767WAN900RDP-4201N332SEN765FAN75WLVH-YFTVH-VUPJY-JAQC-FONYVH-MVLG-PRPCOY-KFFA-1334168763RF-91821HK-4544M41-035A-ONBRA-85572PK-WGWOY-KBCSE-DSTVT-JBGC-GHLIN614SBC-FXAJN628BS5H-WOW9Q-CZRN910JDD-AMSCLN-IDBN795DETC-MCLN525PZN326CAN385KAN216CSVH-CQAN60RAHK-5197C6-HBWPT-OTCD-FSRTOC2C-FNWHN313HSN709PSVH-ZCRG-JECPOK-LAZOM-TAAYVO173N351AXG-EZTVN786TWC-FLGZC-GQOQN865MAC6-BFQC-FKGLS9-TLZN158WAPR-TTHN8DXN551BCC9-AOVEP-TBJOB-2036-PYV16385X-EIVC-GBHN9M-MXXG-LSAIN667HSPK-FSO8R-GARB-55571N481HCHS-TXBN899CZCU-T1406EJC-1130N803THN334ACN452DAXA-VMCN754KPN708PVN1265U9N-AKY8Q-TMVNA-048RF-36160N330BGPK-MPSPK-CJCPK-CAQXA-UAJRA-2099G5Y-FMM5820HK-4833TZ-DDGD2-EVAN315DNUR-19717N991AUN862ASN796SKN9714BYV2896C-FKCK165000LV-ZTVPK-YGGC-FDWOPK-RSDTC-MANRA-40908PK-WFFPK-LJZN9829BP2-ANKN410NAN175ANN377DAG-CPSSYV3191ZH873RA-33036EK-26006RA-35171RA-40462YV2195VT-AYBYV2664PJ-WEAXA-ZYZ9S-AFLN121CZC-GHOZN69813C6-FYPN261PSN137AAEI-DLVN786WWTC-KON9M-WSKEX-001F-HPJEN982VJN841NNPT-WRZN930WNUP-A2807YA123038Q-ISBAT-5305Y-BNHD2-FDORP-C3237ER-AVBC-GORZVH-VZZG-MAJCPR-MPEOB-2077-PC-GFSGN363JHOY-CNJ5H-THRVH-LNKN561VPRA-67560C-FOGTC-FLRYC-FAKZRA-02305C-GYJZTC-ACRRA-670475H-EGG8Q-IAGV3-HGXVH-FVZ162175ZS-CBI9G-SBFRA-02788G-VRAYSU-GDL9V-SQKB-16718N9011PN344PPA7-AIBVH-ATON924DLC-GWEAOE-FWDRA-01460G-CKAGP2-ISMN935CEN525KTVP-BZETI-BEIOE-GKAC-FDMBC-FPRP5Y-FDCC6-MICN561UPTC-CPFS2-AAX98-148XA-TRB5Y-CEIUR-VTV5N-BTF30513N570TMRA-61704EP-FQF5N-SRIC-GIAEC-GJXFES-SANYV1909RF-92955/52TC-TRBS2-AGUYV3284 ?VH-PGAN213AVN716JPF-GPYFN217BHN107BHD-ABLB4X-EAKCP-2459XA-UYYXA-UAVN31TNN126MTUR-KDMN511ACN618CWN626FXN900WLN759SHXA-CDTUP-AN607HL7725LN-NOA7T-WIVN814GV5Y-SAV158567EK-74036B-6555N525PN4ATC-FXWTC-FSCAC-GTWKD-ISWAG-JECXN806NWN807WAPK-LOO111N172GAEI-GDZN606LR65-0968PNC0203OO-JAYZS-DEXEC-MOQPT-ZNFN8655DN403LCP2-PXETC-JMMHL7792G-KNYSXA-UHZB-8129TC-OCHPT-FLWN813WMN905GPN800HAXA-UPP5X-MRH5Y-ETY7T-WHT5Y-CACD-IULIYR-DAX9N-AEVN450MBD-AIFAVP-FBMP2-ANXUR-CPRPK-FSLN876RWPK-HVU3X-AAJHL7764HL8286N57RA-62524V3-HFB5Y-BUCVH-VJNCS-DJGC-GBQCCN-COHZS-BRVN3952BHK-3293LV-HQYPR-GGDUP-AN611N47HLN866VP9S-GFSN641GTYJ-AV71YJ-OO9YJ-AL2RA-40649XA-GALN557APB-50AAHB-HOTVT-UDNN961AACN-RGTN449QXN526CPN204HAB-KPYB-5498D-FOJBN404AVB-16852N1955G5Y-BOPC-FMWVHK-5036B-6952LZ-1409ET-AIU/808TC-OYDVQ-BJIN97WCPT-LJNUR-TWOC-FOFITC-ACMRF-93610N109BGYU-BRKN233SWRP-C3435PR-TLZN241CKS2-AJAVH-FAYPT-MZJYV17197706 ?RA-89011PK-JBRVT-AYD5N-BPEPK-LQPF-GZCIN817NWN908ARRA-84674N524AT4180P4-KCJN406JC-FPAEHK-4394C-FYAGOB-2041-PN422XAP-BKWPP-OEGN525EGN941JMN202PSSX-EMY167981VH-OBLVH-ODIXA-MRCN55FNS9-AUNET-AUPN188CW9S-AGBGNB-961079T-TABN938UWN337KLYL-RAFN813WTEP-CPP8R-YACN467KS9S-AHJVP-BRRC-GTCOTC-OEBEC-LYJN720CKN220FRN13LYC-GTUCST-TALN145GTSE-RKA5Y-KYR5Y-FFFN750TAPH-BFVN1217AS2-AHVN890684K-AZ88OE-LOA7T-VION105HJPR-OCWN715CGN14171C-FAFVLV-BNRN505GFET-AVJfake reg.N530EAN569NN13803N945WSN220CM9M-TSTN4MHEP-IDGN990PAA2-MBMHA-LPLCU-A1825N249WNG-EZWCOE-LGMN977DLHI1038N114NNN265DS9N-AMH14+01EY-322D-IADVC-FRMVEI-SEVG-GDFBC-GJKMC-GMCPRA-01443RA-89098N601VHC-GNDOYV2354S2-AGQC-FJXZC-FCPMXY-AGQN959PARA-68161N311GN832R5A-DKNK2752UR-KAURA-81519N75436N603ARN26123PR-MPNLV-CIQN8608NUP-A0116UR-43983N65HHRA-47366YV2536C6-VIPN80JFN534FFRF-00105N908CAVT-SYK5A-ONAN9448BC-FAWQPH-BXHN262BKRA-3098KN320JTC-FKWEAP-BHP5N-BQON57852UR-CRPUR-CMCC-GURLN681TR766032D-AILRN947LRN451CEHB-JMFC-GHPUB-50OCRT-15-305N432UAD-CAWMUR-COZ5H-NOWC-FSKFCC-ANRHK-4540N717FRN602TSG-CKWBXB-...T-82VQ-BOZN8JRN322AVN543USN879MAN91GYC-FEXE1060A6-EOPOK-TIRN119TGVT-AVVB-5958RA-40389D-ICEYRA-33061N551WH5A-LAUXB-PTWOE-GESHK-5041N24DRD-FIDIXB-SMVN765SKPT-MHCV6-03FMN895SF5H-AAM1917YVO134XB-PVOUR-CKLUR-CAHN166HJN86MNEK-729035Y-IZON166DHN686PAN437GB15001FAS116N8837BN465BCC-GBTUYI-BYO(N530GA)N402QXXA-VBDN619AE(N237DX)VH-ZZEPT-LTJN777HWHL7204V5-ANOTC-AEHYV3012(XB-PYB)C6-FERN949CLfalse reg.C-FKALN469RJ(N293WB)N4602B990ET-AQC(XB-BZH)N160RWC-GOJGN72MMYV1104N7739AN87513XA-TWNUP-F1007N52CV9S-GDXLV-FQDSCL-857N805DN200HFN8200LUR-PSRN929NNVQ-BRSN547LMC-GWVHC-GXAIN134CGZS-CAREP-CPZXA-BNGTC-MCTN703CKN454SFTC-IZKN24MGTF-FIAN501RGCC-COTVQ-BPSN654CEP2-MAIRA-40642N860JN163TCC-FIUZC-GJVB8Q-MBCN135LRPK-YSGUP-A3003N721ECN45NCN519JDN177VVN989CJN819RSN186EBN2PYN217CBN43NCN377EFN706FXN72GCN477AXM-YWAYHS-TEUHK-5075C-GTMWYV3452N100AGN274PMP2-MAFN193AN(XB-PNK)N457MDN810LGRP-C5880UP-AN601N700NWN375TC11-5736YV3427C-FCBZC-GSAE5Y-AXOLV-WOCLV-BXUXB-RBFN317045A-UAEno reg.RA-67066N820TJN501KMFAB2347VT-RPGAP-BLDN720PTN52FWN407GV94-6706N858UPVP-BDLN27SLN516TRXB-NRXXB-RCMN339AVHB-JOHRA-40851N200MU5Y-VVUEM-809C-FSKQRA-71276N740PET-ARHN425BJXA-FTGN450BDN515BAVP-BAXRA-74044KAF128VT-AXHEC-HETXB-RAYN400RSN316JP9S-GEN6V-ASNN198DMEX-126VQ-BMSN423AXXB-OAPJA73NMPR-AURN186GCN254DR5Y-MHTHK-4669-GXB-PYZ76 yellowN100QR166765N305LR8Q-TMF5H-NWAOB-2120-PN499CZV6-01FMN1128M8Q-TMRJA845AN674RJN461AR ?PR-LMPPT-ZNQYI-118N456FLLV-VDJXA-VD.RA-82042N104VVVP-FBQC-FEXZHB-GJMC-FAFSCU-T1541C6-AWOP2-ASMEY-560N48DKC-FWYON484ARUR-33642(N370JL)N661EP(N326TD)N412JAPZ-TSKPP-BBVPK-CLCN3RBG-JMCYG-JOTRXB-JMRN275JPN476BJAF-222N217USJA13KZ9H-FAMRF-95416HZ-FABN823RC8Q-RAEF-RACAN559RAC-FFVZNAF2013912UP-A0351B-10GD7T-VUK(HK-4274)EP-CFM02 whiteXA-VAZYV3312PK-YSF5Y-JKNSP-KPU5Y-NJS9H-QCJN215MCRA-40...10-0223JA001TN354EFN991AKXB-PIZPR-MLAN143CAN803SCN22STVT-MPQB-17010N280KLER-AXRXB-R..N388WANAF203RA-33373N834NNSX-THRN219VPPK-DPTN10XNN103AN4610VT-IYX9S-GRJG-ZBJBM-ISTYRA-01430PH-FSTC-FHKFC-FKFLN810TA5125UP-A0135N790JRRA-26085HK-2820C-FLLLD-AICP8R-ABKC-GIGORA-28728G-OJMPEC-MSNN611MC5Y-GRSN46CFD-FLECN605TRET-AMID-AEAEXB-OZAN296UPB-8440RF-88450N97HA41400N277GMN560TRN1GGN413NN560ARN351CWN827JSRA-67042PS-CSMN100FNPK-OTWOE-LBYN444ZWZS-SFVRA-26673N208HAOO-FFBN12125PR-BVBJ8-VBIN142SYN730YXN283SARF-945919H-VJMN857PFN996LMXB-ETVN925DRPK-SNNC-GEHSTR-NGTEW-518TIN42FLET-AYBYR-PMWN866JAN771DXN71VTN705CKN9602FN81CBG-IPAXN54GPN307FRPR-TDVHI1050C-FSKON287CBN1116NXA-VDK9S-GPSC-GFAFN880ZN93GTTG-MAMTC-JOKN633RWZS-NRJHR-AYYEP-CAPRA-64032YV3033N760JB2-SLOWC-GEASN999PXN207K5H-TAZOH-LKKSP-402RA-33599LV-JUO9S-GFAN821RRN354NBHK-5225N68NHN99APN413JP5X-ASD59 blueRF-36074N10JAUR-74010UR-13395UR-093075H-MZAUR-82060UR-82009PK-FSWN402YXN108RFLV-GQNN8170JN22AUN903JTHP-1948BTN78SAB-1791D-FLICTG-TANN877WHP-2010DAEHK-5016N928JPPNC0257N511PKN820DCN225SCUR-UZBF-GXMPYR-BMMCC-CDYPT-OQRTJ-TIMB-6425PT-SHNZS-PTE9N-AETN131PLN90JFN694PDN731EN550GX9S-ABJEI-EJLF-GSPQRA-17742HI106430001RF-787785Y-CCEN265KPRA-17951LV-BPAN877FEHZ-A23RA-02240N400MXUR-CIC5Y-JSN5Y-JXNC-GDCPST-AUDN945ATN320KTN497CAA7-BFHN540USPR-OMXN977MRRA-47848N399TSPK-SNWRA-56534SP-HIPOE-FGRN725THN15TZN77VJN26FNPT-MESXA-UMWTN-AIQN528DVZS-PKRXB-RXG8R-GGTST-AUETC-SOG5Y-FAIHP-1539CMPN409STF-GZHAVH-WQAN179SPSX-EITOB-2228C-FDDXHK-5342GC-GJYZHL7525FAU-5839S-GPK5H-PWFAMB 0956N909NNN963WNN247DHN789RJN2069BCC-BHBN12FNN979RFN398KL5Y-VVYC5-MABN16DFXB-SGV5X-GBRN555NRRA-177899N-ANCN236KAN200EJEY-473C-FYMM5Y-BMZN619SWP2-HFAN9634BN600CCX-MAXN14QBN55PCN85AV'"
      ]
     },
     "execution_count": 319,
     "metadata": {},
     "output_type": "execute_result"
    }
   ],
   "source": [
    " df['registration'].unique().sum()"
   ]
  },
  {
   "cell_type": "markdown",
   "metadata": {},
   "source": [
    "# Registration  finished"
   ]
  },
  {
   "cell_type": "code",
   "execution_count": 322,
   "metadata": {},
   "outputs": [
    {
     "data": {
      "text/plain": [
       "0"
      ]
     },
     "execution_count": 322,
     "metadata": {},
     "output_type": "execute_result"
    }
   ],
   "source": [
    "df['type'].isnull().sum()"
   ]
  },
  {
   "cell_type": "code",
   "execution_count": 325,
   "metadata": {},
   "outputs": [
    {
     "data": {
      "text/html": [
       "<div>\n",
       "<style scoped>\n",
       "    .dataframe tbody tr th:only-of-type {\n",
       "        vertical-align: middle;\n",
       "    }\n",
       "\n",
       "    .dataframe tbody tr th {\n",
       "        vertical-align: top;\n",
       "    }\n",
       "\n",
       "    .dataframe thead th {\n",
       "        text-align: right;\n",
       "    }\n",
       "</style>\n",
       "<table border=\"1\" class=\"dataframe\">\n",
       "  <thead>\n",
       "    <tr style=\"text-align: right;\">\n",
       "      <th></th>\n",
       "      <th>type</th>\n",
       "      <th>registration</th>\n",
       "      <th>operator</th>\n",
       "      <th>fatalities</th>\n",
       "      <th>location</th>\n",
       "      <th>country</th>\n",
       "      <th>cat</th>\n",
       "      <th>year</th>\n",
       "      <th>day</th>\n",
       "      <th>month</th>\n",
       "      <th>new_date</th>\n",
       "      <th>new_fatalities</th>\n",
       "    </tr>\n",
       "  </thead>\n",
       "  <tbody>\n",
       "    <tr>\n",
       "      <th>61</th>\n",
       "      <td>Caproni Ca.48</td>\n",
       "      <td>CG756</td>\n",
       "      <td>Caproni</td>\n",
       "      <td>14</td>\n",
       "      <td>Verona</td>\n",
       "      <td>Italy</td>\n",
       "      <td>A1</td>\n",
       "      <td>1919</td>\n",
       "      <td>02</td>\n",
       "      <td>AUG</td>\n",
       "      <td>1919-08-02</td>\n",
       "      <td>14</td>\n",
       "    </tr>\n",
       "    <tr>\n",
       "      <th>62</th>\n",
       "      <td>Felixstowe Fury</td>\n",
       "      <td>N123</td>\n",
       "      <td>RAF</td>\n",
       "      <td>1</td>\n",
       "      <td>near Felixtowe RNAS</td>\n",
       "      <td>U.K.</td>\n",
       "      <td>A1</td>\n",
       "      <td>1919</td>\n",
       "      <td>11</td>\n",
       "      <td>AUG</td>\n",
       "      <td>1919-08-11</td>\n",
       "      <td>1</td>\n",
       "    </tr>\n",
       "    <tr>\n",
       "      <th>63</th>\n",
       "      <td>Handley Page O/7</td>\n",
       "      <td>G-EANV</td>\n",
       "      <td>Handley Page Transport</td>\n",
       "      <td>0</td>\n",
       "      <td>Acadia Siding, C...</td>\n",
       "      <td>South Africa</td>\n",
       "      <td>A1</td>\n",
       "      <td>1920</td>\n",
       "      <td>23</td>\n",
       "      <td>FEB</td>\n",
       "      <td>1920-02-23</td>\n",
       "      <td>0</td>\n",
       "    </tr>\n",
       "    <tr>\n",
       "      <th>64</th>\n",
       "      <td>Handley Page O/400</td>\n",
       "      <td>G-EAMC</td>\n",
       "      <td>Handley Page Transport</td>\n",
       "      <td>0</td>\n",
       "      <td>near El Shereik</td>\n",
       "      <td>Sudan</td>\n",
       "      <td>A1</td>\n",
       "      <td>1920</td>\n",
       "      <td>25</td>\n",
       "      <td>FEB</td>\n",
       "      <td>1920-02-25</td>\n",
       "      <td>0</td>\n",
       "    </tr>\n",
       "    <tr>\n",
       "      <th>65</th>\n",
       "      <td>Handley Page O/400</td>\n",
       "      <td>G-EAKE</td>\n",
       "      <td>Handley Page Transport</td>\n",
       "      <td>0</td>\n",
       "      <td>ÃstanÃ¥</td>\n",
       "      <td>Sweden</td>\n",
       "      <td>A1</td>\n",
       "      <td>1920</td>\n",
       "      <td>30</td>\n",
       "      <td>JUN</td>\n",
       "      <td>1920-06-30</td>\n",
       "      <td>0</td>\n",
       "    </tr>\n",
       "    <tr>\n",
       "      <th>...</th>\n",
       "      <td>...</td>\n",
       "      <td>...</td>\n",
       "      <td>...</td>\n",
       "      <td>...</td>\n",
       "      <td>...</td>\n",
       "      <td>...</td>\n",
       "      <td>...</td>\n",
       "      <td>...</td>\n",
       "      <td>...</td>\n",
       "      <td>...</td>\n",
       "      <td>...</td>\n",
       "      <td>...</td>\n",
       "    </tr>\n",
       "    <tr>\n",
       "      <th>23912</th>\n",
       "      <td>Cessna 208 Cargomaster</td>\n",
       "      <td>CX-MAX</td>\n",
       "      <td>AeromÃ¡s</td>\n",
       "      <td>0</td>\n",
       "      <td>near Berisso, BA</td>\n",
       "      <td>Argentina</td>\n",
       "      <td>A1</td>\n",
       "      <td>2023</td>\n",
       "      <td>16</td>\n",
       "      <td>FEB</td>\n",
       "      <td>2023-02-16</td>\n",
       "      <td>0</td>\n",
       "    </tr>\n",
       "    <tr>\n",
       "      <th>23913</th>\n",
       "      <td>Honda HA-420 HondaJet</td>\n",
       "      <td>N14QB</td>\n",
       "      <td>Haedo Air LLC</td>\n",
       "      <td>0</td>\n",
       "      <td>Houston-William ...</td>\n",
       "      <td>USA</td>\n",
       "      <td>A2</td>\n",
       "      <td>2023</td>\n",
       "      <td>17</td>\n",
       "      <td>FEB</td>\n",
       "      <td>2023-02-17</td>\n",
       "      <td>0</td>\n",
       "    </tr>\n",
       "    <tr>\n",
       "      <th>23914</th>\n",
       "      <td>Beech B200 Super King Air</td>\n",
       "      <td>N55PC</td>\n",
       "      <td>CTEH</td>\n",
       "      <td>5</td>\n",
       "      <td>near Little Rock-Bill...</td>\n",
       "      <td>USA</td>\n",
       "      <td>A1</td>\n",
       "      <td>2023</td>\n",
       "      <td>22</td>\n",
       "      <td>FEB</td>\n",
       "      <td>2023-02-22</td>\n",
       "      <td>5</td>\n",
       "    </tr>\n",
       "    <tr>\n",
       "      <th>23915</th>\n",
       "      <td>Cessna 208B Grand Caravan</td>\n",
       "      <td>C-GMVB</td>\n",
       "      <td>ZAM Air Service</td>\n",
       "      <td>2</td>\n",
       "      <td>near Nakina, ON</td>\n",
       "      <td>Canada</td>\n",
       "      <td>A1</td>\n",
       "      <td>2023</td>\n",
       "      <td>28</td>\n",
       "      <td>FEB</td>\n",
       "      <td>2023-02-28</td>\n",
       "      <td>2</td>\n",
       "    </tr>\n",
       "    <tr>\n",
       "      <th>23916</th>\n",
       "      <td>Cessna 750 Citation X</td>\n",
       "      <td>N85AV</td>\n",
       "      <td>Bank of Utah Trustee</td>\n",
       "      <td>0</td>\n",
       "      <td>Belmar/Farmingda...</td>\n",
       "      <td>USA</td>\n",
       "      <td>A2</td>\n",
       "      <td>2023</td>\n",
       "      <td>01</td>\n",
       "      <td>APR</td>\n",
       "      <td>2023-04-01</td>\n",
       "      <td>0</td>\n",
       "    </tr>\n",
       "  </tbody>\n",
       "</table>\n",
       "<p>23856 rows × 12 columns</p>\n",
       "</div>"
      ],
      "text/plain": [
       "                            type registration                operator  \\\n",
       "61                 Caproni Ca.48        CG756                 Caproni   \n",
       "62               Felixstowe Fury         N123                     RAF   \n",
       "63              Handley Page O/7       G-EANV  Handley Page Transport   \n",
       "64            Handley Page O/400       G-EAMC  Handley Page Transport   \n",
       "65            Handley Page O/400       G-EAKE  Handley Page Transport   \n",
       "...                          ...          ...                     ...   \n",
       "23912     Cessna 208 Cargomaster       CX-MAX                AeromÃ¡s   \n",
       "23913      Honda HA-420 HondaJet        N14QB           Haedo Air LLC   \n",
       "23914  Beech B200 Super King Air        N55PC                    CTEH   \n",
       "23915  Cessna 208B Grand Caravan       C-GMVB         ZAM Air Service   \n",
       "23916      Cessna 750 Citation X        N85AV    Bank of Utah Trustee   \n",
       "\n",
       "      fatalities                  location       country cat  year day month  \\\n",
       "61            14                    Verona         Italy  A1  1919  02   AUG   \n",
       "62             1       near Felixtowe RNAS          U.K.  A1  1919  11   AUG   \n",
       "63             0       Acadia Siding, C...  South Africa  A1  1920  23   FEB   \n",
       "64             0           near El Shereik         Sudan  A1  1920  25   FEB   \n",
       "65             0                  ÃstanÃ¥        Sweden  A1  1920  30   JUN   \n",
       "...          ...                       ...           ...  ..   ...  ..   ...   \n",
       "23912          0          near Berisso, BA     Argentina  A1  2023  16   FEB   \n",
       "23913          0       Houston-William ...           USA  A2  2023  17   FEB   \n",
       "23914          5  near Little Rock-Bill...           USA  A1  2023  22   FEB   \n",
       "23915          2           near Nakina, ON        Canada  A1  2023  28   FEB   \n",
       "23916          0       Belmar/Farmingda...           USA  A2  2023  01   APR   \n",
       "\n",
       "        new_date  new_fatalities  \n",
       "61    1919-08-02              14  \n",
       "62    1919-08-11               1  \n",
       "63    1920-02-23               0  \n",
       "64    1920-02-25               0  \n",
       "65    1920-06-30               0  \n",
       "...          ...             ...  \n",
       "23912 2023-02-16               0  \n",
       "23913 2023-02-17               0  \n",
       "23914 2023-02-22               5  \n",
       "23915 2023-02-28               2  \n",
       "23916 2023-04-01               0  \n",
       "\n",
       "[23856 rows x 12 columns]"
      ]
     },
     "execution_count": 325,
     "metadata": {},
     "output_type": "execute_result"
    }
   ],
   "source": [
    "df"
   ]
  },
  {
   "cell_type": "code",
   "execution_count": 324,
   "metadata": {},
   "outputs": [],
   "source": [
    "df = df.drop('date', axis=1)"
   ]
  },
  {
   "cell_type": "code",
   "execution_count": 326,
   "metadata": {},
   "outputs": [],
   "source": [
    "df = df.drop('fatalities', axis=1)"
   ]
  },
  {
   "cell_type": "code",
   "execution_count": 330,
   "metadata": {},
   "outputs": [],
   "source": [
    "df = df.drop('year', axis=1)"
   ]
  },
  {
   "cell_type": "code",
   "execution_count": 331,
   "metadata": {},
   "outputs": [],
   "source": [
    "df = df.drop('day', axis=1)"
   ]
  },
  {
   "cell_type": "code",
   "execution_count": 332,
   "metadata": {},
   "outputs": [],
   "source": [
    "df = df.drop('month', axis=1)"
   ]
  },
  {
   "cell_type": "code",
   "execution_count": 333,
   "metadata": {},
   "outputs": [
    {
     "data": {
      "text/html": [
       "<div>\n",
       "<style scoped>\n",
       "    .dataframe tbody tr th:only-of-type {\n",
       "        vertical-align: middle;\n",
       "    }\n",
       "\n",
       "    .dataframe tbody tr th {\n",
       "        vertical-align: top;\n",
       "    }\n",
       "\n",
       "    .dataframe thead th {\n",
       "        text-align: right;\n",
       "    }\n",
       "</style>\n",
       "<table border=\"1\" class=\"dataframe\">\n",
       "  <thead>\n",
       "    <tr style=\"text-align: right;\">\n",
       "      <th></th>\n",
       "      <th>type</th>\n",
       "      <th>registration</th>\n",
       "      <th>operator</th>\n",
       "      <th>location</th>\n",
       "      <th>country</th>\n",
       "      <th>cat</th>\n",
       "      <th>new_date</th>\n",
       "      <th>new_fatalities</th>\n",
       "    </tr>\n",
       "  </thead>\n",
       "  <tbody>\n",
       "    <tr>\n",
       "      <th>61</th>\n",
       "      <td>Caproni Ca.48</td>\n",
       "      <td>CG756</td>\n",
       "      <td>Caproni</td>\n",
       "      <td>Verona</td>\n",
       "      <td>Italy</td>\n",
       "      <td>A1</td>\n",
       "      <td>1919-08-02</td>\n",
       "      <td>14</td>\n",
       "    </tr>\n",
       "    <tr>\n",
       "      <th>62</th>\n",
       "      <td>Felixstowe Fury</td>\n",
       "      <td>N123</td>\n",
       "      <td>RAF</td>\n",
       "      <td>near Felixtowe RNAS</td>\n",
       "      <td>U.K.</td>\n",
       "      <td>A1</td>\n",
       "      <td>1919-08-11</td>\n",
       "      <td>1</td>\n",
       "    </tr>\n",
       "    <tr>\n",
       "      <th>63</th>\n",
       "      <td>Handley Page O/7</td>\n",
       "      <td>G-EANV</td>\n",
       "      <td>Handley Page Transport</td>\n",
       "      <td>Acadia Siding, C...</td>\n",
       "      <td>South Africa</td>\n",
       "      <td>A1</td>\n",
       "      <td>1920-02-23</td>\n",
       "      <td>0</td>\n",
       "    </tr>\n",
       "    <tr>\n",
       "      <th>64</th>\n",
       "      <td>Handley Page O/400</td>\n",
       "      <td>G-EAMC</td>\n",
       "      <td>Handley Page Transport</td>\n",
       "      <td>near El Shereik</td>\n",
       "      <td>Sudan</td>\n",
       "      <td>A1</td>\n",
       "      <td>1920-02-25</td>\n",
       "      <td>0</td>\n",
       "    </tr>\n",
       "    <tr>\n",
       "      <th>65</th>\n",
       "      <td>Handley Page O/400</td>\n",
       "      <td>G-EAKE</td>\n",
       "      <td>Handley Page Transport</td>\n",
       "      <td>ÃstanÃ¥</td>\n",
       "      <td>Sweden</td>\n",
       "      <td>A1</td>\n",
       "      <td>1920-06-30</td>\n",
       "      <td>0</td>\n",
       "    </tr>\n",
       "    <tr>\n",
       "      <th>...</th>\n",
       "      <td>...</td>\n",
       "      <td>...</td>\n",
       "      <td>...</td>\n",
       "      <td>...</td>\n",
       "      <td>...</td>\n",
       "      <td>...</td>\n",
       "      <td>...</td>\n",
       "      <td>...</td>\n",
       "    </tr>\n",
       "    <tr>\n",
       "      <th>23912</th>\n",
       "      <td>Cessna 208 Cargomaster</td>\n",
       "      <td>CX-MAX</td>\n",
       "      <td>AeromÃ¡s</td>\n",
       "      <td>near Berisso, BA</td>\n",
       "      <td>Argentina</td>\n",
       "      <td>A1</td>\n",
       "      <td>2023-02-16</td>\n",
       "      <td>0</td>\n",
       "    </tr>\n",
       "    <tr>\n",
       "      <th>23913</th>\n",
       "      <td>Honda HA-420 HondaJet</td>\n",
       "      <td>N14QB</td>\n",
       "      <td>Haedo Air LLC</td>\n",
       "      <td>Houston-William ...</td>\n",
       "      <td>USA</td>\n",
       "      <td>A2</td>\n",
       "      <td>2023-02-17</td>\n",
       "      <td>0</td>\n",
       "    </tr>\n",
       "    <tr>\n",
       "      <th>23914</th>\n",
       "      <td>Beech B200 Super King Air</td>\n",
       "      <td>N55PC</td>\n",
       "      <td>CTEH</td>\n",
       "      <td>near Little Rock-Bill...</td>\n",
       "      <td>USA</td>\n",
       "      <td>A1</td>\n",
       "      <td>2023-02-22</td>\n",
       "      <td>5</td>\n",
       "    </tr>\n",
       "    <tr>\n",
       "      <th>23915</th>\n",
       "      <td>Cessna 208B Grand Caravan</td>\n",
       "      <td>C-GMVB</td>\n",
       "      <td>ZAM Air Service</td>\n",
       "      <td>near Nakina, ON</td>\n",
       "      <td>Canada</td>\n",
       "      <td>A1</td>\n",
       "      <td>2023-02-28</td>\n",
       "      <td>2</td>\n",
       "    </tr>\n",
       "    <tr>\n",
       "      <th>23916</th>\n",
       "      <td>Cessna 750 Citation X</td>\n",
       "      <td>N85AV</td>\n",
       "      <td>Bank of Utah Trustee</td>\n",
       "      <td>Belmar/Farmingda...</td>\n",
       "      <td>USA</td>\n",
       "      <td>A2</td>\n",
       "      <td>2023-04-01</td>\n",
       "      <td>0</td>\n",
       "    </tr>\n",
       "  </tbody>\n",
       "</table>\n",
       "<p>23856 rows × 8 columns</p>\n",
       "</div>"
      ],
      "text/plain": [
       "                            type registration                operator  \\\n",
       "61                 Caproni Ca.48        CG756                 Caproni   \n",
       "62               Felixstowe Fury         N123                     RAF   \n",
       "63              Handley Page O/7       G-EANV  Handley Page Transport   \n",
       "64            Handley Page O/400       G-EAMC  Handley Page Transport   \n",
       "65            Handley Page O/400       G-EAKE  Handley Page Transport   \n",
       "...                          ...          ...                     ...   \n",
       "23912     Cessna 208 Cargomaster       CX-MAX                AeromÃ¡s   \n",
       "23913      Honda HA-420 HondaJet        N14QB           Haedo Air LLC   \n",
       "23914  Beech B200 Super King Air        N55PC                    CTEH   \n",
       "23915  Cessna 208B Grand Caravan       C-GMVB         ZAM Air Service   \n",
       "23916      Cessna 750 Citation X        N85AV    Bank of Utah Trustee   \n",
       "\n",
       "                       location       country cat   new_date  new_fatalities  \n",
       "61                       Verona         Italy  A1 1919-08-02              14  \n",
       "62          near Felixtowe RNAS          U.K.  A1 1919-08-11               1  \n",
       "63          Acadia Siding, C...  South Africa  A1 1920-02-23               0  \n",
       "64              near El Shereik         Sudan  A1 1920-02-25               0  \n",
       "65                     ÃstanÃ¥        Sweden  A1 1920-06-30               0  \n",
       "...                         ...           ...  ..        ...             ...  \n",
       "23912          near Berisso, BA     Argentina  A1 2023-02-16               0  \n",
       "23913       Houston-William ...           USA  A2 2023-02-17               0  \n",
       "23914  near Little Rock-Bill...           USA  A1 2023-02-22               5  \n",
       "23915           near Nakina, ON        Canada  A1 2023-02-28               2  \n",
       "23916       Belmar/Farmingda...           USA  A2 2023-04-01               0  \n",
       "\n",
       "[23856 rows x 8 columns]"
      ]
     },
     "execution_count": 333,
     "metadata": {},
     "output_type": "execute_result"
    }
   ],
   "source": [
    "df"
   ]
  },
  {
   "cell_type": "code",
   "execution_count": null,
   "metadata": {},
   "outputs": [],
   "source": [
    "df.to_csv('Edited_aviation_dataset1.csv')"
   ]
  }
 ],
 "metadata": {
  "kernelspec": {
   "display_name": "Python 3 (ipykernel)",
   "language": "python",
   "name": "python3"
  },
  "language_info": {
   "codemirror_mode": {
    "name": "ipython",
    "version": 3
   },
   "file_extension": ".py",
   "mimetype": "text/x-python",
   "name": "python",
   "nbconvert_exporter": "python",
   "pygments_lexer": "ipython3",
   "version": "3.10.9"
  }
 },
 "nbformat": 4,
 "nbformat_minor": 4
}
